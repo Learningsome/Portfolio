{
 "cells": [
  {
   "cell_type": "markdown",
   "metadata": {
    "toc": true
   },
   "source": [
    "<h1>Содержание<span class=\"tocSkip\"></span></h1>\n",
    "<div class=\"toc\"><ul class=\"toc-item\"><li><span><a href=\"#Загрузка-и-подготовка-данных\" data-toc-modified-id=\"Загрузка-и-подготовка-данных-1\"><span class=\"toc-item-num\">1&nbsp;&nbsp;</span>Загрузка и подготовка данных</a></span><ul class=\"toc-item\"><li><span><a href=\"#Обзор-данных\" data-toc-modified-id=\"Обзор-данных-1.1\"><span class=\"toc-item-num\">1.1&nbsp;&nbsp;</span>Обзор данных</a></span></li></ul></li><li><span><a href=\"#Обучение-и-проверка-модели\" data-toc-modified-id=\"Обучение-и-проверка-модели-2\"><span class=\"toc-item-num\">2&nbsp;&nbsp;</span>Обучение и проверка модели</a></span><ul class=\"toc-item\"><li><span><a href=\"#Разделение-данных-на-train-и-valid-выборки\" data-toc-modified-id=\"Разделение-данных-на-train-и-valid-выборки-2.1\"><span class=\"toc-item-num\">2.1&nbsp;&nbsp;</span>Разделение данных на train и valid выборки</a></span></li><li><span><a href=\"#Масштабирование-численных-признаков\" data-toc-modified-id=\"Масштабирование-численных-признаков-2.2\"><span class=\"toc-item-num\">2.2&nbsp;&nbsp;</span>Масштабирование численных признаков</a></span></li><li><span><a href=\"#Обучение-модели-и-получение-предсказаний-на-валидационной-выборке\" data-toc-modified-id=\"Обучение-модели-и-получение-предсказаний-на-валидационной-выборке-2.3\"><span class=\"toc-item-num\">2.3&nbsp;&nbsp;</span>Обучение модели и получение предсказаний на валидационной выборке</a></span></li></ul></li><li><span><a href=\"#Подготовка-к-расчёту-прибыли\" data-toc-modified-id=\"Подготовка-к-расчёту-прибыли-3\"><span class=\"toc-item-num\">3&nbsp;&nbsp;</span>Подготовка к расчёту прибыли</a></span></li><li><span><a href=\"#Функция-для-расчёта-прибыли\" data-toc-modified-id=\"Функция-для-расчёта-прибыли-4\"><span class=\"toc-item-num\">4&nbsp;&nbsp;</span>Функция для расчёта прибыли</a></span></li><li><span><a href=\"#Расчёт-прибыли-и-рисков-для-каждого-региона\" data-toc-modified-id=\"Расчёт-прибыли-и-рисков-для-каждого-региона-5\"><span class=\"toc-item-num\">5&nbsp;&nbsp;</span>Расчёт прибыли и рисков для каждого региона</a></span></li><li><span><a href=\"#Общий-вывод\" data-toc-modified-id=\"Общий-вывод-6\"><span class=\"toc-item-num\">6&nbsp;&nbsp;</span>Общий вывод</a></span></li></ul></div>"
   ]
  },
  {
   "cell_type": "markdown",
   "metadata": {},
   "source": [
    "# Выбор локации для скважины"
   ]
  },
  {
   "cell_type": "markdown",
   "metadata": {},
   "source": [
    "Добывающей компании нужно решить, где бурить новую скважину.\n",
    "\n",
    "Нам предоставлены пробы нефти в трёх регионах: в каждом 10 000 месторождений, где измерили качество нефти и объём её запасов. Нужно построить модель машинного обучения, которая поможет определить регион, где добыча принесёт наибольшую прибыль. Проанализируем возможную прибыль и риски техникой *Bootstrap.*\n",
    "\n",
    "*Шаги для выбора локации*:\n",
    "\n",
    "- В избранном регионе ищут месторождения, для каждого определяют значения признаков;\n",
    "- Строят модель и оценивают объём запасов;\n",
    "- Выбирают месторождения с самым высокими оценками значений. Количество месторождений зависит от бюджета компании и стоимости разработки одной скважины;\n",
    "- Прибыль равна суммарной прибыли отобранных месторождений."
   ]
  },
  {
   "cell_type": "markdown",
   "metadata": {},
   "source": [
    "**Описание данных**\n",
    "\n",
    "Данные геологоразведки трёх регионов находятся в файлах: \n",
    "\n",
    "    geo_data_0.csv.\n",
    "    geo_data_1.csv.\n",
    "    geo_data_2.csv.\n",
    "\n",
    "\n",
    "*Признаки*:\n",
    "- *id* — уникальный идентификатор скважины;\n",
    "- *f0*, *f1*, *f2* — три признака точек (неважно, что они означают, но сами признаки значимы);\n",
    "\n",
    "*Таргет*:\n",
    "- *product* — объём запасов в скважине (тыс. баррелей)."
   ]
  },
  {
   "cell_type": "markdown",
   "metadata": {},
   "source": [
    "## Загрузка и подготовка данных"
   ]
  },
  {
   "cell_type": "markdown",
   "metadata": {},
   "source": [
    "Для начала импортнем нужные нам библиотеки"
   ]
  },
  {
   "cell_type": "code",
   "execution_count": 2,
   "metadata": {},
   "outputs": [],
   "source": [
    "# импорты из стандартной библиотеки\n",
    "import warnings\n",
    "import re\n",
    "\n",
    "# импорты сторонних библиотек\n",
    "import pandas as pd\n",
    "import numpy as np\n",
    "\n",
    "# импорты модулей текущего проекта\n",
    "from sklearn.model_selection import train_test_split\n",
    "from sklearn.preprocessing import StandardScaler\n",
    "from sklearn.linear_model import LinearRegression\n",
    "from sklearn.metrics import mean_squared_error\n",
    "\n",
    "# настройки\n",
    "warnings.filterwarnings(\"ignore\")\n",
    "\n",
    "# константы\n",
    "RANDOM_STATE = 12345"
   ]
  },
  {
   "cell_type": "markdown",
   "metadata": {},
   "source": [
    "Считаем данные для трех регионов с помощью `read_csv`"
   ]
  },
  {
   "cell_type": "code",
   "execution_count": 3,
   "metadata": {},
   "outputs": [],
   "source": [
    "try:\n",
    "    geo_data_0 = pd.read_csv('geo_data_0.csv')\n",
    "    geo_data_1 = pd.read_csv('geo_data_1.csv')\n",
    "    geo_data_2 = pd.read_csv('geo_data_2.csv')\n",
    "except:\n",
    "    geo_data_0 = pd.read_csv('/datasets/geo_data_0.csv')\n",
    "    geo_data_1 = pd.read_csv('/datasets/geo_data_1.csv')\n",
    "    geo_data_2 = pd.read_csv('/datasets/geo_data_2.csv')"
   ]
  },
  {
   "cell_type": "markdown",
   "metadata": {},
   "source": [
    "### Обзор данных"
   ]
  },
  {
   "cell_type": "code",
   "execution_count": 4,
   "metadata": {},
   "outputs": [
    {
     "data": {
      "text/html": [
       "<div>\n",
       "<style scoped>\n",
       "    .dataframe tbody tr th:only-of-type {\n",
       "        vertical-align: middle;\n",
       "    }\n",
       "\n",
       "    .dataframe tbody tr th {\n",
       "        vertical-align: top;\n",
       "    }\n",
       "\n",
       "    .dataframe thead th {\n",
       "        text-align: right;\n",
       "    }\n",
       "</style>\n",
       "<table border=\"1\" class=\"dataframe\">\n",
       "  <thead>\n",
       "    <tr style=\"text-align: right;\">\n",
       "      <th></th>\n",
       "      <th>id</th>\n",
       "      <th>f0</th>\n",
       "      <th>f1</th>\n",
       "      <th>f2</th>\n",
       "      <th>product</th>\n",
       "    </tr>\n",
       "  </thead>\n",
       "  <tbody>\n",
       "    <tr>\n",
       "      <th>0</th>\n",
       "      <td>txEyH</td>\n",
       "      <td>0.705745</td>\n",
       "      <td>-0.497823</td>\n",
       "      <td>1.221170</td>\n",
       "      <td>105.280062</td>\n",
       "    </tr>\n",
       "    <tr>\n",
       "      <th>1</th>\n",
       "      <td>2acmU</td>\n",
       "      <td>1.334711</td>\n",
       "      <td>-0.340164</td>\n",
       "      <td>4.365080</td>\n",
       "      <td>73.037750</td>\n",
       "    </tr>\n",
       "    <tr>\n",
       "      <th>2</th>\n",
       "      <td>409Wp</td>\n",
       "      <td>1.022732</td>\n",
       "      <td>0.151990</td>\n",
       "      <td>1.419926</td>\n",
       "      <td>85.265647</td>\n",
       "    </tr>\n",
       "    <tr>\n",
       "      <th>3</th>\n",
       "      <td>iJLyR</td>\n",
       "      <td>-0.032172</td>\n",
       "      <td>0.139033</td>\n",
       "      <td>2.978566</td>\n",
       "      <td>168.620776</td>\n",
       "    </tr>\n",
       "    <tr>\n",
       "      <th>4</th>\n",
       "      <td>Xdl7t</td>\n",
       "      <td>1.988431</td>\n",
       "      <td>0.155413</td>\n",
       "      <td>4.751769</td>\n",
       "      <td>154.036647</td>\n",
       "    </tr>\n",
       "  </tbody>\n",
       "</table>\n",
       "</div>"
      ],
      "text/plain": [
       "      id        f0        f1        f2     product\n",
       "0  txEyH  0.705745 -0.497823  1.221170  105.280062\n",
       "1  2acmU  1.334711 -0.340164  4.365080   73.037750\n",
       "2  409Wp  1.022732  0.151990  1.419926   85.265647\n",
       "3  iJLyR -0.032172  0.139033  2.978566  168.620776\n",
       "4  Xdl7t  1.988431  0.155413  4.751769  154.036647"
      ]
     },
     "execution_count": 4,
     "metadata": {},
     "output_type": "execute_result"
    }
   ],
   "source": [
    "geo_data_0.head()"
   ]
  },
  {
   "cell_type": "code",
   "execution_count": 5,
   "metadata": {},
   "outputs": [
    {
     "data": {
      "text/html": [
       "<div>\n",
       "<style scoped>\n",
       "    .dataframe tbody tr th:only-of-type {\n",
       "        vertical-align: middle;\n",
       "    }\n",
       "\n",
       "    .dataframe tbody tr th {\n",
       "        vertical-align: top;\n",
       "    }\n",
       "\n",
       "    .dataframe thead th {\n",
       "        text-align: right;\n",
       "    }\n",
       "</style>\n",
       "<table border=\"1\" class=\"dataframe\">\n",
       "  <thead>\n",
       "    <tr style=\"text-align: right;\">\n",
       "      <th></th>\n",
       "      <th>id</th>\n",
       "      <th>f0</th>\n",
       "      <th>f1</th>\n",
       "      <th>f2</th>\n",
       "      <th>product</th>\n",
       "    </tr>\n",
       "  </thead>\n",
       "  <tbody>\n",
       "    <tr>\n",
       "      <th>0</th>\n",
       "      <td>kBEdx</td>\n",
       "      <td>-15.001348</td>\n",
       "      <td>-8.276000</td>\n",
       "      <td>-0.005876</td>\n",
       "      <td>3.179103</td>\n",
       "    </tr>\n",
       "    <tr>\n",
       "      <th>1</th>\n",
       "      <td>62mP7</td>\n",
       "      <td>14.272088</td>\n",
       "      <td>-3.475083</td>\n",
       "      <td>0.999183</td>\n",
       "      <td>26.953261</td>\n",
       "    </tr>\n",
       "    <tr>\n",
       "      <th>2</th>\n",
       "      <td>vyE1P</td>\n",
       "      <td>6.263187</td>\n",
       "      <td>-5.948386</td>\n",
       "      <td>5.001160</td>\n",
       "      <td>134.766305</td>\n",
       "    </tr>\n",
       "    <tr>\n",
       "      <th>3</th>\n",
       "      <td>KcrkZ</td>\n",
       "      <td>-13.081196</td>\n",
       "      <td>-11.506057</td>\n",
       "      <td>4.999415</td>\n",
       "      <td>137.945408</td>\n",
       "    </tr>\n",
       "    <tr>\n",
       "      <th>4</th>\n",
       "      <td>AHL4O</td>\n",
       "      <td>12.702195</td>\n",
       "      <td>-8.147433</td>\n",
       "      <td>5.004363</td>\n",
       "      <td>134.766305</td>\n",
       "    </tr>\n",
       "  </tbody>\n",
       "</table>\n",
       "</div>"
      ],
      "text/plain": [
       "      id         f0         f1        f2     product\n",
       "0  kBEdx -15.001348  -8.276000 -0.005876    3.179103\n",
       "1  62mP7  14.272088  -3.475083  0.999183   26.953261\n",
       "2  vyE1P   6.263187  -5.948386  5.001160  134.766305\n",
       "3  KcrkZ -13.081196 -11.506057  4.999415  137.945408\n",
       "4  AHL4O  12.702195  -8.147433  5.004363  134.766305"
      ]
     },
     "execution_count": 5,
     "metadata": {},
     "output_type": "execute_result"
    }
   ],
   "source": [
    "geo_data_1.head()"
   ]
  },
  {
   "cell_type": "code",
   "execution_count": 6,
   "metadata": {},
   "outputs": [
    {
     "data": {
      "text/html": [
       "<div>\n",
       "<style scoped>\n",
       "    .dataframe tbody tr th:only-of-type {\n",
       "        vertical-align: middle;\n",
       "    }\n",
       "\n",
       "    .dataframe tbody tr th {\n",
       "        vertical-align: top;\n",
       "    }\n",
       "\n",
       "    .dataframe thead th {\n",
       "        text-align: right;\n",
       "    }\n",
       "</style>\n",
       "<table border=\"1\" class=\"dataframe\">\n",
       "  <thead>\n",
       "    <tr style=\"text-align: right;\">\n",
       "      <th></th>\n",
       "      <th>id</th>\n",
       "      <th>f0</th>\n",
       "      <th>f1</th>\n",
       "      <th>f2</th>\n",
       "      <th>product</th>\n",
       "    </tr>\n",
       "  </thead>\n",
       "  <tbody>\n",
       "    <tr>\n",
       "      <th>0</th>\n",
       "      <td>fwXo0</td>\n",
       "      <td>-1.146987</td>\n",
       "      <td>0.963328</td>\n",
       "      <td>-0.828965</td>\n",
       "      <td>27.758673</td>\n",
       "    </tr>\n",
       "    <tr>\n",
       "      <th>1</th>\n",
       "      <td>WJtFt</td>\n",
       "      <td>0.262778</td>\n",
       "      <td>0.269839</td>\n",
       "      <td>-2.530187</td>\n",
       "      <td>56.069697</td>\n",
       "    </tr>\n",
       "    <tr>\n",
       "      <th>2</th>\n",
       "      <td>ovLUW</td>\n",
       "      <td>0.194587</td>\n",
       "      <td>0.289035</td>\n",
       "      <td>-5.586433</td>\n",
       "      <td>62.871910</td>\n",
       "    </tr>\n",
       "    <tr>\n",
       "      <th>3</th>\n",
       "      <td>q6cA6</td>\n",
       "      <td>2.236060</td>\n",
       "      <td>-0.553760</td>\n",
       "      <td>0.930038</td>\n",
       "      <td>114.572842</td>\n",
       "    </tr>\n",
       "    <tr>\n",
       "      <th>4</th>\n",
       "      <td>WPMUX</td>\n",
       "      <td>-0.515993</td>\n",
       "      <td>1.716266</td>\n",
       "      <td>5.899011</td>\n",
       "      <td>149.600746</td>\n",
       "    </tr>\n",
       "  </tbody>\n",
       "</table>\n",
       "</div>"
      ],
      "text/plain": [
       "      id        f0        f1        f2     product\n",
       "0  fwXo0 -1.146987  0.963328 -0.828965   27.758673\n",
       "1  WJtFt  0.262778  0.269839 -2.530187   56.069697\n",
       "2  ovLUW  0.194587  0.289035 -5.586433   62.871910\n",
       "3  q6cA6  2.236060 -0.553760  0.930038  114.572842\n",
       "4  WPMUX -0.515993  1.716266  5.899011  149.600746"
      ]
     },
     "execution_count": 6,
     "metadata": {},
     "output_type": "execute_result"
    }
   ],
   "source": [
    "geo_data_2.head()"
   ]
  },
  {
   "cell_type": "markdown",
   "metadata": {},
   "source": [
    "Формат датасетов для трех регионов идентичен"
   ]
  },
  {
   "cell_type": "code",
   "execution_count": 7,
   "metadata": {},
   "outputs": [
    {
     "name": "stdout",
     "output_type": "stream",
     "text": [
      "<class 'pandas.core.frame.DataFrame'>\n",
      "RangeIndex: 100000 entries, 0 to 99999\n",
      "Data columns (total 5 columns):\n",
      " #   Column   Non-Null Count   Dtype  \n",
      "---  ------   --------------   -----  \n",
      " 0   id       100000 non-null  object \n",
      " 1   f0       100000 non-null  float64\n",
      " 2   f1       100000 non-null  float64\n",
      " 3   f2       100000 non-null  float64\n",
      " 4   product  100000 non-null  float64\n",
      "dtypes: float64(4), object(1)\n",
      "memory usage: 3.8+ MB\n"
     ]
    }
   ],
   "source": [
    "geo_data_0.info()"
   ]
  },
  {
   "cell_type": "markdown",
   "metadata": {},
   "source": [
    "Пропущенных значений в датасетах нет, с типом данных проблем нет"
   ]
  },
  {
   "cell_type": "code",
   "execution_count": 8,
   "metadata": {},
   "outputs": [
    {
     "data": {
      "text/html": [
       "<div>\n",
       "<style scoped>\n",
       "    .dataframe tbody tr th:only-of-type {\n",
       "        vertical-align: middle;\n",
       "    }\n",
       "\n",
       "    .dataframe tbody tr th {\n",
       "        vertical-align: top;\n",
       "    }\n",
       "\n",
       "    .dataframe thead th {\n",
       "        text-align: right;\n",
       "    }\n",
       "</style>\n",
       "<table border=\"1\" class=\"dataframe\">\n",
       "  <thead>\n",
       "    <tr style=\"text-align: right;\">\n",
       "      <th></th>\n",
       "      <th>f0</th>\n",
       "      <th>f1</th>\n",
       "      <th>f2</th>\n",
       "      <th>product</th>\n",
       "    </tr>\n",
       "  </thead>\n",
       "  <tbody>\n",
       "    <tr>\n",
       "      <th>count</th>\n",
       "      <td>100000.000000</td>\n",
       "      <td>100000.000000</td>\n",
       "      <td>100000.000000</td>\n",
       "      <td>100000.000000</td>\n",
       "    </tr>\n",
       "    <tr>\n",
       "      <th>mean</th>\n",
       "      <td>0.500419</td>\n",
       "      <td>0.250143</td>\n",
       "      <td>2.502647</td>\n",
       "      <td>92.500000</td>\n",
       "    </tr>\n",
       "    <tr>\n",
       "      <th>std</th>\n",
       "      <td>0.871832</td>\n",
       "      <td>0.504433</td>\n",
       "      <td>3.248248</td>\n",
       "      <td>44.288691</td>\n",
       "    </tr>\n",
       "    <tr>\n",
       "      <th>min</th>\n",
       "      <td>-1.408605</td>\n",
       "      <td>-0.848218</td>\n",
       "      <td>-12.088328</td>\n",
       "      <td>0.000000</td>\n",
       "    </tr>\n",
       "    <tr>\n",
       "      <th>25%</th>\n",
       "      <td>-0.072580</td>\n",
       "      <td>-0.200881</td>\n",
       "      <td>0.287748</td>\n",
       "      <td>56.497507</td>\n",
       "    </tr>\n",
       "    <tr>\n",
       "      <th>50%</th>\n",
       "      <td>0.502360</td>\n",
       "      <td>0.250252</td>\n",
       "      <td>2.515969</td>\n",
       "      <td>91.849972</td>\n",
       "    </tr>\n",
       "    <tr>\n",
       "      <th>75%</th>\n",
       "      <td>1.073581</td>\n",
       "      <td>0.700646</td>\n",
       "      <td>4.715088</td>\n",
       "      <td>128.564089</td>\n",
       "    </tr>\n",
       "    <tr>\n",
       "      <th>max</th>\n",
       "      <td>2.362331</td>\n",
       "      <td>1.343769</td>\n",
       "      <td>16.003790</td>\n",
       "      <td>185.364347</td>\n",
       "    </tr>\n",
       "  </tbody>\n",
       "</table>\n",
       "</div>"
      ],
      "text/plain": [
       "                  f0             f1             f2        product\n",
       "count  100000.000000  100000.000000  100000.000000  100000.000000\n",
       "mean        0.500419       0.250143       2.502647      92.500000\n",
       "std         0.871832       0.504433       3.248248      44.288691\n",
       "min        -1.408605      -0.848218     -12.088328       0.000000\n",
       "25%        -0.072580      -0.200881       0.287748      56.497507\n",
       "50%         0.502360       0.250252       2.515969      91.849972\n",
       "75%         1.073581       0.700646       4.715088     128.564089\n",
       "max         2.362331       1.343769      16.003790     185.364347"
      ]
     },
     "execution_count": 8,
     "metadata": {},
     "output_type": "execute_result"
    }
   ],
   "source": [
    "geo_data_0.describe()"
   ]
  },
  {
   "cell_type": "markdown",
   "metadata": {},
   "source": [
    "**`Промежуточный вывод`:**\n",
    "\n",
    "    - имеем три датафрейма для трех разных регионов\n",
    "    - все три датафрейма идентичны по количеству объектов\n",
    "    - в них также идентичны и параменты этих объектов\n",
    "    - пропусков в датафреймах нет\n",
    "    - числовые параметры [f0, f1, f2] должны быть масштабированы\n",
    "    - помимо необходимости масштабирования числовых параметров критических замечаний к датафреймам не заметил"
   ]
  },
  {
   "cell_type": "markdown",
   "metadata": {},
   "source": [
    "## Обучение и проверка модели"
   ]
  },
  {
   "cell_type": "markdown",
   "metadata": {},
   "source": [
    "### Разделение данных на train и valid выборки"
   ]
  },
  {
   "cell_type": "markdown",
   "metadata": {},
   "source": [
    "Разделим данные на train и valid выборки.\n",
    "\n",
    "Столбец id нам не понадобится для предсказания таргета, *удалим его*."
   ]
  },
  {
   "cell_type": "code",
   "execution_count": 9,
   "metadata": {},
   "outputs": [],
   "source": [
    "# X_0 - признаки, y_0 - таргет, 0 - обозначает первый регион\n",
    "X_0 = geo_data_0.drop(['id', 'product'], axis=1)\n",
    "y_0 = geo_data_0['product']"
   ]
  },
  {
   "cell_type": "code",
   "execution_count": 10,
   "metadata": {},
   "outputs": [],
   "source": [
    "# делим на train и valid выборки\n",
    "X_train_0, X_valid_0, y_train_0, y_valid_0 = train_test_split(\n",
    "    X_0, y_0, test_size=0.25, random_state=RANDOM_STATE\n",
    ")"
   ]
  },
  {
   "cell_type": "markdown",
   "metadata": {},
   "source": [
    "Сделаем также и для остальных двух регионов"
   ]
  },
  {
   "cell_type": "code",
   "execution_count": 11,
   "metadata": {},
   "outputs": [],
   "source": [
    "# регион 2\n",
    "X_1 = geo_data_1.drop(['id', 'product'], axis=1)\n",
    "y_1 = geo_data_1['product']"
   ]
  },
  {
   "cell_type": "code",
   "execution_count": 12,
   "metadata": {},
   "outputs": [],
   "source": [
    "X_train_1, X_valid_1, y_train_1, y_valid_1 = train_test_split(\n",
    "    X_1, y_1, test_size=0.25, random_state=RANDOM_STATE\n",
    ")"
   ]
  },
  {
   "cell_type": "code",
   "execution_count": 13,
   "metadata": {},
   "outputs": [],
   "source": [
    "# регион 3\n",
    "X_2 = geo_data_2.drop(['id', 'product'], axis=1)\n",
    "y_2 = geo_data_2['product']"
   ]
  },
  {
   "cell_type": "code",
   "execution_count": 14,
   "metadata": {},
   "outputs": [],
   "source": [
    "X_train_2, X_valid_2, y_train_2, y_valid_2 = train_test_split(\n",
    "    X_2, y_2, test_size=0.25, random_state=RANDOM_STATE\n",
    ")"
   ]
  },
  {
   "cell_type": "markdown",
   "metadata": {},
   "source": [
    "Данные всех регионов разделены на train и valid выборки, самое время приступить к масштабированию численных признаков, а затем и к обучению модели и получению предсказаний"
   ]
  },
  {
   "cell_type": "markdown",
   "metadata": {},
   "source": [
    "### Масштабирование численных признаков"
   ]
  },
  {
   "cell_type": "markdown",
   "metadata": {},
   "source": [
    "После того, как мы провели сплит на train и valid выборки, проведем масштабирование признаков f0, f1, f2 с помощью `StandardScaler`."
   ]
  },
  {
   "cell_type": "code",
   "execution_count": 15,
   "metadata": {},
   "outputs": [],
   "source": [
    "# эти признаки будем масштабировать\n",
    "num_features = ['f0', 'f1', 'f2']"
   ]
  },
  {
   "cell_type": "code",
   "execution_count": 16,
   "metadata": {},
   "outputs": [
    {
     "data": {
      "text/html": [
       "<div>\n",
       "<style scoped>\n",
       "    .dataframe tbody tr th:only-of-type {\n",
       "        vertical-align: middle;\n",
       "    }\n",
       "\n",
       "    .dataframe tbody tr th {\n",
       "        vertical-align: top;\n",
       "    }\n",
       "\n",
       "    .dataframe thead th {\n",
       "        text-align: right;\n",
       "    }\n",
       "</style>\n",
       "<table border=\"1\" class=\"dataframe\">\n",
       "  <thead>\n",
       "    <tr style=\"text-align: right;\">\n",
       "      <th></th>\n",
       "      <th>f0</th>\n",
       "      <th>f1</th>\n",
       "      <th>f2</th>\n",
       "    </tr>\n",
       "  </thead>\n",
       "  <tbody>\n",
       "    <tr>\n",
       "      <th>count</th>\n",
       "      <td>25000.000000</td>\n",
       "      <td>25000.000000</td>\n",
       "      <td>25000.000000</td>\n",
       "    </tr>\n",
       "    <tr>\n",
       "      <th>mean</th>\n",
       "      <td>0.509356</td>\n",
       "      <td>0.250381</td>\n",
       "      <td>2.492837</td>\n",
       "    </tr>\n",
       "    <tr>\n",
       "      <th>std</th>\n",
       "      <td>0.871812</td>\n",
       "      <td>0.505131</td>\n",
       "      <td>3.243980</td>\n",
       "    </tr>\n",
       "    <tr>\n",
       "      <th>min</th>\n",
       "      <td>-1.302227</td>\n",
       "      <td>-0.807215</td>\n",
       "      <td>-12.088328</td>\n",
       "    </tr>\n",
       "    <tr>\n",
       "      <th>25%</th>\n",
       "      <td>-0.064883</td>\n",
       "      <td>-0.202686</td>\n",
       "      <td>0.256892</td>\n",
       "    </tr>\n",
       "    <tr>\n",
       "      <th>50%</th>\n",
       "      <td>0.510247</td>\n",
       "      <td>0.251546</td>\n",
       "      <td>2.505296</td>\n",
       "    </tr>\n",
       "    <tr>\n",
       "      <th>75%</th>\n",
       "      <td>1.084742</td>\n",
       "      <td>0.701453</td>\n",
       "      <td>4.686501</td>\n",
       "    </tr>\n",
       "    <tr>\n",
       "      <th>max</th>\n",
       "      <td>2.299810</td>\n",
       "      <td>1.331253</td>\n",
       "      <td>15.014250</td>\n",
       "    </tr>\n",
       "  </tbody>\n",
       "</table>\n",
       "</div>"
      ],
      "text/plain": [
       "                 f0            f1            f2\n",
       "count  25000.000000  25000.000000  25000.000000\n",
       "mean       0.509356      0.250381      2.492837\n",
       "std        0.871812      0.505131      3.243980\n",
       "min       -1.302227     -0.807215    -12.088328\n",
       "25%       -0.064883     -0.202686      0.256892\n",
       "50%        0.510247      0.251546      2.505296\n",
       "75%        1.084742      0.701453      4.686501\n",
       "max        2.299810      1.331253     15.014250"
      ]
     },
     "execution_count": 16,
     "metadata": {},
     "output_type": "execute_result"
    }
   ],
   "source": [
    "X_valid_0.describe()"
   ]
  },
  {
   "cell_type": "code",
   "execution_count": 17,
   "metadata": {},
   "outputs": [],
   "source": [
    "%%capture --no-stdout\n",
    "\n",
    "\n",
    "# создаём скелер\n",
    "scaler = StandardScaler()\n",
    "\n",
    "# обучаем его на численных признаках train выборки, трансформируем ее же\n",
    "X_train_0[num_features] = scaler.fit_transform(X_train_0[num_features])\n",
    "\n",
    "# трансформируем и остальные выборки\n",
    "X_valid_0[num_features] = scaler.transform(X_valid_0[num_features])\n",
    "X_train_1[num_features] = scaler.transform(X_train_1[num_features])\n",
    "X_valid_1[num_features] = scaler.transform(X_valid_1[num_features])\n",
    "X_train_2[num_features] = scaler.transform(X_train_2[num_features])\n",
    "X_valid_2[num_features] = scaler.transform(X_valid_2[num_features])"
   ]
  },
  {
   "cell_type": "code",
   "execution_count": 18,
   "metadata": {},
   "outputs": [
    {
     "data": {
      "text/html": [
       "<div>\n",
       "<style scoped>\n",
       "    .dataframe tbody tr th:only-of-type {\n",
       "        vertical-align: middle;\n",
       "    }\n",
       "\n",
       "    .dataframe tbody tr th {\n",
       "        vertical-align: top;\n",
       "    }\n",
       "\n",
       "    .dataframe thead th {\n",
       "        text-align: right;\n",
       "    }\n",
       "</style>\n",
       "<table border=\"1\" class=\"dataframe\">\n",
       "  <thead>\n",
       "    <tr style=\"text-align: right;\">\n",
       "      <th></th>\n",
       "      <th>f0</th>\n",
       "      <th>f1</th>\n",
       "      <th>f2</th>\n",
       "    </tr>\n",
       "  </thead>\n",
       "  <tbody>\n",
       "    <tr>\n",
       "      <th>count</th>\n",
       "      <td>25000.000000</td>\n",
       "      <td>25000.000000</td>\n",
       "      <td>25000.000000</td>\n",
       "    </tr>\n",
       "    <tr>\n",
       "      <th>mean</th>\n",
       "      <td>0.013667</td>\n",
       "      <td>0.000629</td>\n",
       "      <td>-0.004025</td>\n",
       "    </tr>\n",
       "    <tr>\n",
       "      <th>std</th>\n",
       "      <td>0.999992</td>\n",
       "      <td>1.001848</td>\n",
       "      <td>0.998251</td>\n",
       "    </tr>\n",
       "    <tr>\n",
       "      <th>min</th>\n",
       "      <td>-2.064269</td>\n",
       "      <td>-2.096946</td>\n",
       "      <td>-4.491004</td>\n",
       "    </tr>\n",
       "    <tr>\n",
       "      <th>25%</th>\n",
       "      <td>-0.645001</td>\n",
       "      <td>-0.897958</td>\n",
       "      <td>-0.692080</td>\n",
       "    </tr>\n",
       "    <tr>\n",
       "      <th>50%</th>\n",
       "      <td>0.014689</td>\n",
       "      <td>0.002940</td>\n",
       "      <td>-0.000191</td>\n",
       "    </tr>\n",
       "    <tr>\n",
       "      <th>75%</th>\n",
       "      <td>0.673651</td>\n",
       "      <td>0.895259</td>\n",
       "      <td>0.671019</td>\n",
       "    </tr>\n",
       "    <tr>\n",
       "      <th>max</th>\n",
       "      <td>2.067368</td>\n",
       "      <td>2.144367</td>\n",
       "      <td>3.849118</td>\n",
       "    </tr>\n",
       "  </tbody>\n",
       "</table>\n",
       "</div>"
      ],
      "text/plain": [
       "                 f0            f1            f2\n",
       "count  25000.000000  25000.000000  25000.000000\n",
       "mean       0.013667      0.000629     -0.004025\n",
       "std        0.999992      1.001848      0.998251\n",
       "min       -2.064269     -2.096946     -4.491004\n",
       "25%       -0.645001     -0.897958     -0.692080\n",
       "50%        0.014689      0.002940     -0.000191\n",
       "75%        0.673651      0.895259      0.671019\n",
       "max        2.067368      2.144367      3.849118"
      ]
     },
     "execution_count": 18,
     "metadata": {},
     "output_type": "execute_result"
    }
   ],
   "source": [
    "# смотрим на результат\n",
    "X_valid_0.describe()"
   ]
  },
  {
   "cell_type": "markdown",
   "metadata": {},
   "source": [
    "Все получилось! Приступим к обучению модели и получению предсказаний"
   ]
  },
  {
   "cell_type": "markdown",
   "metadata": {},
   "source": [
    "### Обучение модели и получение предсказаний на валидационной выборке"
   ]
  },
  {
   "cell_type": "markdown",
   "metadata": {},
   "source": [
    "Объявим функцию `lr_function` которая поможет нам быстро обучить LR модель для трех регионов и на выходе даст нам значения среднего запаса предсказанного сырья и RMSE."
   ]
  },
  {
   "cell_type": "code",
   "execution_count": 19,
   "metadata": {},
   "outputs": [],
   "source": [
    "def lr_function(X_train, X_valid, y_train, y_valid, region):\n",
    "    # создаем LR модель\n",
    "    model = LinearRegression()\n",
    "    \n",
    "    # обучаем LR на трейн выборке и сразу предиктим на валидационной\n",
    "    model.fit(X_train, y_train)\n",
    "    y_pred = model.predict(X_valid)\n",
    "    \n",
    "    # сохраняем средний запас предсказанного сырья и RMSE в отдельные переменные\n",
    "    y_pred_mean = y_pred.mean()\n",
    "    rmse = mean_squared_error(y_valid, y_pred) ** 0.5\n",
    "    \n",
    "    # выводим на экран нужную информацию\n",
    "    print(f'Регион {region}:')\n",
    "    print('-----------------------------------------')\n",
    "    print(f'Средний запас предсказанного сырья = {y_pred_mean:.3}')\n",
    "    print(f'RMSE = {rmse:.4}')\n",
    "    \n",
    "    # возвращаем нужные показатели для того чтобы была возможность их себе сохранить\n",
    "    return y_pred, rmse"
   ]
  },
  {
   "cell_type": "code",
   "execution_count": 20,
   "metadata": {},
   "outputs": [
    {
     "name": "stdout",
     "output_type": "stream",
     "text": [
      "Регион 1:\n",
      "-----------------------------------------\n",
      "Средний запас предсказанного сырья = 92.6\n",
      "RMSE = 37.58\n"
     ]
    }
   ],
   "source": [
    "y_pred_0, rmse_0 = lr_function(X_train_0, X_valid_0, y_train_0, y_valid_0, 1)"
   ]
  },
  {
   "cell_type": "code",
   "execution_count": 21,
   "metadata": {},
   "outputs": [
    {
     "name": "stdout",
     "output_type": "stream",
     "text": [
      "Регион 2:\n",
      "-----------------------------------------\n",
      "Средний запас предсказанного сырья = 68.7\n",
      "RMSE = 0.8931\n"
     ]
    }
   ],
   "source": [
    "y_pred_1, rmse_1 = lr_function(X_train_1, X_valid_1, y_train_1, y_valid_1, 2)"
   ]
  },
  {
   "cell_type": "code",
   "execution_count": 22,
   "metadata": {},
   "outputs": [
    {
     "name": "stdout",
     "output_type": "stream",
     "text": [
      "Регион 3:\n",
      "-----------------------------------------\n",
      "Средний запас предсказанного сырья = 95.0\n",
      "RMSE = 40.03\n"
     ]
    }
   ],
   "source": [
    "y_pred_2, rmse_2 = lr_function(X_train_2, X_valid_2, y_train_2, y_valid_2, 3)"
   ]
  },
  {
   "cell_type": "markdown",
   "metadata": {},
   "source": [
    "**`Промежуточный вывод:`**\n",
    "\n",
    "Видим, что линейная регрессия хорошо справилась с предсказаниями для 2го региона (RMSE = 0.893), а с 1м и 3м регионом справилась похуже... (RMSE = 37.58 и RMSE = 40.03 соответственно)"
   ]
  },
  {
   "cell_type": "markdown",
   "metadata": {},
   "source": [
    "## Подготовка к расчёту прибыли"
   ]
  },
  {
   "cell_type": "markdown",
   "metadata": {},
   "source": [
    "Сначала нужно составить формулу прибыли, затем вместо прибыли подставить 0, что будет говорить о безубыточности и дальше уже  с помощью математических перестановок вывести чему будет равняться объем сырья."
   ]
  },
  {
   "cell_type": "code",
   "execution_count": 23,
   "metadata": {},
   "outputs": [],
   "source": [
    "# все ключевые значения для расчётов сохраним в отдельных переменных\n",
    "COST_PRICE = 10_000_000_000\n",
    "UNIT_OF_PRODUCT_PRICE = 450_000"
   ]
  },
  {
   "attachments": {
    "%D0%B8%D0%B7%D0%BE%D0%B1%D1%80%D0%B0%D0%B6%D0%B5%D0%BD%D0%B8%D0%B5.png": {
     "image/png": "[encoded data removed]"
    }
   },
   "cell_type": "markdown",
   "metadata": {},
   "source": [
    "Попробуем рассчитать такой показатель и сравнить с каждым регионом. \n",
    "\n",
    "У нас есть всего 10 млрд на разработку скважины, используем формулу ниже:\n",
    "\n",
    "![%D0%B8%D0%B7%D0%BE%D0%B1%D1%80%D0%B0%D0%B6%D0%B5%D0%BD%D0%B8%D0%B5.png](attachment:%D0%B8%D0%B7%D0%BE%D0%B1%D1%80%D0%B0%D0%B6%D0%B5%D0%BD%D0%B8%D0%B5.png)"
   ]
  },
  {
   "cell_type": "code",
   "execution_count": 24,
   "metadata": {},
   "outputs": [
    {
     "data": {
      "text/plain": [
       "111.11111111111111"
      ]
     },
     "execution_count": 24,
     "metadata": {},
     "output_type": "execute_result"
    }
   ],
   "source": [
    "# чтобы окупить вложения компании в 10 млрд, в новых 200 скважинах нефти должно быть не меньше 111 тыс. бареллей\n",
    "profit_threshold = (COST_PRICE / UNIT_OF_PRODUCT_PRICE) / 200\n",
    "profit_threshold"
   ]
  },
  {
   "cell_type": "code",
   "execution_count": 25,
   "metadata": {},
   "outputs": [
    {
     "name": "stdout",
     "output_type": "stream",
     "text": [
      "Итог:\n",
      "------------------------------------------------------\n",
      "Средний запас предсказанного сырья в регионе 1 = 92.59\n",
      "Средний запас предсказанного сырья в регионе 2 = 68.73\n",
      "Средний запас предсказанного сырья в регионе 3 = 94.97\n",
      "Достаточный объем сырья для безубыточной разработки = 111.1\n"
     ]
    }
   ],
   "source": [
    "print('Итог:')\n",
    "print('------------------------------------------------------')\n",
    "print(f'Средний запас предсказанного сырья в регионе 1 = {y_pred_0.mean():.4}')\n",
    "print(f'Средний запас предсказанного сырья в регионе 2 = {y_pred_1.mean():.4}')\n",
    "print(f'Средний запас предсказанного сырья в регионе 3 = {y_pred_2.mean():.4}')\n",
    "print(f'Достаточный объем сырья для безубыточной разработки = {profit_threshold:.4}')"
   ]
  },
  {
   "cell_type": "markdown",
   "metadata": {},
   "source": [
    "**`Промежуточный вывод`:**\n",
    "\n",
    "Исходя из сравнения достаточного объема со средними запасами сырья прогноз неутешительный...\n",
    "\n",
    "Близко к достаточному объему подбираются 1й и 3й регион, 2й очень далеко."
   ]
  },
  {
   "cell_type": "markdown",
   "metadata": {},
   "source": [
    "## Функция для расчёта прибыли"
   ]
  },
  {
   "cell_type": "markdown",
   "metadata": {},
   "source": [
    "Для начала, соберем полезную информацию для каждого региона в отдельные датафреймы"
   ]
  },
  {
   "cell_type": "code",
   "execution_count": 26,
   "metadata": {},
   "outputs": [],
   "source": [
    "# регион 1\n",
    "# сopy() нужна для того, чтобы операции над valid_with_pred_0 не переходили и на X_valid_0\n",
    "valid_with_pred_0 = X_valid_0.copy()\n",
    "\n",
    "valid_with_pred_0['product'], \\\n",
    "valid_with_pred_0['product_pred'], \\\n",
    "valid_with_pred_0['id'] = y_valid_0, y_pred_0, geo_data_0['id']\n",
    "\n",
    "\n",
    "# регион 2\n",
    "valid_with_pred_1 = X_valid_1.copy()\n",
    "\n",
    "valid_with_pred_1['product'], \\\n",
    "valid_with_pred_1['product_pred'], \\\n",
    "valid_with_pred_1['id'] = y_valid_1, y_pred_1, geo_data_1['id']\n",
    "\n",
    "# регион 3\n",
    "valid_with_pred_2 = X_valid_2.copy()\n",
    "\n",
    "valid_with_pred_2['product'], \\\n",
    "valid_with_pred_2['product_pred'], \\\n",
    "valid_with_pred_2['id'] = y_valid_2, y_pred_2, geo_data_2['id']"
   ]
  },
  {
   "cell_type": "code",
   "execution_count": 27,
   "metadata": {},
   "outputs": [
    {
     "data": {
      "text/html": [
       "<div>\n",
       "<style scoped>\n",
       "    .dataframe tbody tr th:only-of-type {\n",
       "        vertical-align: middle;\n",
       "    }\n",
       "\n",
       "    .dataframe tbody tr th {\n",
       "        vertical-align: top;\n",
       "    }\n",
       "\n",
       "    .dataframe thead th {\n",
       "        text-align: right;\n",
       "    }\n",
       "</style>\n",
       "<table border=\"1\" class=\"dataframe\">\n",
       "  <thead>\n",
       "    <tr style=\"text-align: right;\">\n",
       "      <th></th>\n",
       "      <th>f0</th>\n",
       "      <th>f1</th>\n",
       "      <th>f2</th>\n",
       "      <th>product</th>\n",
       "      <th>product_pred</th>\n",
       "      <th>id</th>\n",
       "    </tr>\n",
       "  </thead>\n",
       "  <tbody>\n",
       "    <tr>\n",
       "      <th>71751</th>\n",
       "      <td>0.517917</td>\n",
       "      <td>-0.610097</td>\n",
       "      <td>-0.126226</td>\n",
       "      <td>10.038645</td>\n",
       "      <td>95.894952</td>\n",
       "      <td>7Z2gx</td>\n",
       "    </tr>\n",
       "    <tr>\n",
       "      <th>80493</th>\n",
       "      <td>0.568391</td>\n",
       "      <td>-0.086063</td>\n",
       "      <td>-0.814914</td>\n",
       "      <td>114.551489</td>\n",
       "      <td>77.572583</td>\n",
       "      <td>b2HU8</td>\n",
       "    </tr>\n",
       "    <tr>\n",
       "      <th>2655</th>\n",
       "      <td>0.805688</td>\n",
       "      <td>-1.613289</td>\n",
       "      <td>-1.341342</td>\n",
       "      <td>132.603635</td>\n",
       "      <td>77.892640</td>\n",
       "      <td>Y0dXD</td>\n",
       "    </tr>\n",
       "    <tr>\n",
       "      <th>53233</th>\n",
       "      <td>0.222503</td>\n",
       "      <td>-1.355437</td>\n",
       "      <td>-0.597275</td>\n",
       "      <td>169.072125</td>\n",
       "      <td>90.175134</td>\n",
       "      <td>Mje59</td>\n",
       "    </tr>\n",
       "    <tr>\n",
       "      <th>91141</th>\n",
       "      <td>-0.087941</td>\n",
       "      <td>1.433113</td>\n",
       "      <td>-0.544588</td>\n",
       "      <td>122.325180</td>\n",
       "      <td>70.510088</td>\n",
       "      <td>yqXxU</td>\n",
       "    </tr>\n",
       "  </tbody>\n",
       "</table>\n",
       "</div>"
      ],
      "text/plain": [
       "             f0        f1        f2     product  product_pred     id\n",
       "71751  0.517917 -0.610097 -0.126226   10.038645     95.894952  7Z2gx\n",
       "80493  0.568391 -0.086063 -0.814914  114.551489     77.572583  b2HU8\n",
       "2655   0.805688 -1.613289 -1.341342  132.603635     77.892640  Y0dXD\n",
       "53233  0.222503 -1.355437 -0.597275  169.072125     90.175134  Mje59\n",
       "91141 -0.087941  1.433113 -0.544588  122.325180     70.510088  yqXxU"
      ]
     },
     "execution_count": 27,
     "metadata": {},
     "output_type": "execute_result"
    }
   ],
   "source": [
    "# просто чтобы красиво было\n",
    "valid_with_pred_0.head()"
   ]
  },
  {
   "cell_type": "markdown",
   "metadata": {},
   "source": [
    "Напишем функцию `profit_checker` для расчета прибыли по выбранным скважинам и предсказаниям модели:"
   ]
  },
  {
   "cell_type": "code",
   "execution_count": 28,
   "metadata": {},
   "outputs": [],
   "source": [
    "# надо для Bootstrap\n",
    "state = np.random.RandomState(12345)"
   ]
  },
  {
   "cell_type": "code",
   "execution_count": 29,
   "metadata": {},
   "outputs": [],
   "source": [
    "def profit_checker(data):\n",
    "    \n",
    "    # отбираем 500 случайных элементов, сортируем по product_pred и отбираем 200 лучших скважин\n",
    "    best_wells = data \\\n",
    "        .sample(500, replace=True, random_state=state) \\\n",
    "        .sort_values('product_pred', ascending=False) \\\n",
    "        .iloc[:200, :]\n",
    "    \n",
    "    # суммируем объемы предсказанного сырья для 200 лучших скважин и считаем оборот\n",
    "    revenue = best_wells['product'].sum() * UNIT_OF_PRODUCT_PRICE\n",
    "    \n",
    "    # считаем валовую прибыль\n",
    "    gross_profit = revenue - COST_PRICE\n",
    "    \n",
    "    # возвращаем валовую прибыль\n",
    "    return gross_profit"
   ]
  },
  {
   "cell_type": "markdown",
   "metadata": {},
   "source": [
    "Попробуем посчитать с помощью нашей функции валовую прибыль для всех трех регионов"
   ]
  },
  {
   "cell_type": "code",
   "execution_count": 30,
   "metadata": {},
   "outputs": [
    {
     "name": "stdout",
     "output_type": "stream",
     "text": [
      "Регион 1: 605464074.5689964\n",
      "Регион 2: 334315678.3243637\n",
      "Регион 3: 626175561.5691528\n"
     ]
    }
   ],
   "source": [
    "print(f'Регион 1: {profit_checker(valid_with_pred_0)}')\n",
    "print(f'Регион 2: {profit_checker(valid_with_pred_1)}')\n",
    "print(f'Регион 3: {profit_checker(valid_with_pred_2)}')"
   ]
  },
  {
   "cell_type": "markdown",
   "metadata": {},
   "source": [
    "**`Промежуточный вывод:`**\n",
    "\n",
    "Функция выполняет свою \"функцию\", данные могут отличаться каждый раз из-за сэмплирования, это дальше будет необходимо в бутстрепе."
   ]
  },
  {
   "cell_type": "markdown",
   "metadata": {},
   "source": [
    "## Расчёт прибыли и рисков для каждого региона"
   ]
  },
  {
   "cell_type": "markdown",
   "metadata": {},
   "source": [
    "Применим технику Bootstrap с 1000 выборок, чтобы найти распределение прибыли.\n",
    "\n",
    "Найдем среднюю прибыль, 95%-й доверительный интервал и риск убытков. Убыток — это отрицательная прибыль."
   ]
  },
  {
   "cell_type": "code",
   "execution_count": 31,
   "metadata": {},
   "outputs": [],
   "source": [
    "def supreme_function(data):\n",
    "    \n",
    "    # проведем бутстреп с 1000 выборок, найдем для этих выборок валовую прибыль и сохраним в values\n",
    "    values = []\n",
    "    negative_values = []\n",
    "    for i in range(1000):\n",
    "        revenue = profit_checker(data)\n",
    "        values.append(revenue)\n",
    "        \n",
    "        # будем сохранять отрицательные значения валовой прибыли для подсчета рисков убытков\n",
    "        if revenue < 0:\n",
    "            negative_values.append(revenue)\n",
    "\n",
    "    # Переведем в Series\n",
    "    values = pd.Series(values)\n",
    "    negative_values = pd.Series(negative_values)\n",
    "\n",
    "    # сохраним 2.5% и 97.5% квантили\n",
    "    lower = values.quantile(0.025)\n",
    "    upper = values.quantile(0.975)\n",
    "\n",
    "    # посчитаем среднюю валовую прибыль и долю отрицательных ее значений\n",
    "    mean = values.mean()\n",
    "    risk_of_loss = negative_values.count() / values.count()\n",
    "\n",
    "    # выведем все на экран\n",
    "    print(f\"Средняя выручка: {mean}\")\n",
    "    print(f\"  2.5%-квантиль: {lower}\")\n",
    "    print(f\" 97.5%-квантиль: {upper}\")\n",
    "    print(f\"   Риск убытков: {risk_of_loss:.1%}\")"
   ]
  },
  {
   "cell_type": "code",
   "execution_count": 32,
   "metadata": {},
   "outputs": [
    {
     "name": "stdout",
     "output_type": "stream",
     "text": [
      "Средняя выручка: 395259148.74356645\n",
      "  2.5%-квантиль: -111215545.89049526\n",
      " 97.5%-квантиль: 909766941.5534226\n",
      "   Риск убытков: 7.0%\n"
     ]
    }
   ],
   "source": [
    "# регион 1\n",
    "supreme_function(valid_with_pred_0)"
   ]
  },
  {
   "cell_type": "code",
   "execution_count": 33,
   "metadata": {
    "scrolled": true
   },
   "outputs": [
    {
     "name": "stdout",
     "output_type": "stream",
     "text": [
      "Средняя выручка: 462190324.9021858\n",
      "  2.5%-квантиль: 78050810.7517417\n",
      " 97.5%-квантиль: 862952060.2637234\n",
      "   Риск убытков: 0.7%\n"
     ]
    }
   ],
   "source": [
    "# регион 2\n",
    "supreme_function(valid_with_pred_1)"
   ]
  },
  {
   "cell_type": "code",
   "execution_count": 34,
   "metadata": {},
   "outputs": [
    {
     "name": "stdout",
     "output_type": "stream",
     "text": [
      "Средняя выручка: 392446381.5803054\n",
      "  2.5%-квантиль: -112227625.37857565\n",
      " 97.5%-квантиль: 934562914.5511636\n",
      "   Риск убытков: 6.5%\n"
     ]
    }
   ],
   "source": [
    "# регион 3\n",
    "supreme_function(valid_with_pred_2)"
   ]
  },
  {
   "cell_type": "markdown",
   "metadata": {},
   "source": [
    "**`Промежуточный вывод:`**\n",
    "\n",
    "Видим, что если бурить 200 новых скважин в 1м или 3м регионе, то, потенциально, можно заработать больше, но! Также, выше и риск убытков 7% и 6.5% соответственно. В регионе 2, хоть и потенциал к заработку (97.5% квантиль) меньше остальных регионов, но средняя выручка наоборот больше, также риск убытков практически отсутствует (0.7%)\n",
    "\n",
    "Предлагаю к разработке рассмотреть **регион 2**."
   ]
  },
  {
   "cell_type": "markdown",
   "metadata": {},
   "source": [
    "## Общий вывод"
   ]
  },
  {
   "cell_type": "markdown",
   "metadata": {},
   "source": [
    "**`Общий вывод:`**\n",
    "\n",
    "1. *Загрузка и подготовка данных*:\n",
    "    - данные были изучены\n",
    "    - был сформирован подробный EDA отчет\n",
    "    - был сделан промежуточный вывод\n",
    "\n",
    "\n",
    "2. *Обучение и проверка модели*:\n",
    "    - было проведено разделение данных на train и valid выборки\n",
    "    - проведено масштабирование численных параметров [f0, f1, f2]\n",
    "    - обучили модель LogisticRegression и получили предсказания на валидационной выборке для каждого региона:\n",
    "        - регион 1: средний запас предсказанного сырья = 92.6, RMSE = 37.58\n",
    "        - регион 2: средний запас предсказанного сырья = 68.7, RMSE = 0.893\n",
    "        - регион 3: средний запас предсказанного сырья = 94.97, RMSE = 40.03\n",
    "\n",
    "\n",
    "3. *Подготовка к расчёту прибыли*:\n",
    "    - был выявлен достаточный объем сырья для безубыточной разработки 200 новых скважин в регионе (~111 тыс. бареллей)\n",
    "\n",
    "\n",
    "4. *Функция для расчёта прибыли*:\n",
    "    - была написана функция `profit_checker` для расчета прибыли по выбранным скважинам и предсказаниям модели\n",
    "    - выяснили, что регион 2 более \"стабилен\" и потенциально из него можно выкачать больше топлива, а прибыль будет больше, чем в других регионах\n",
    "\n",
    "\n",
    "5. *Расчёт прибыли и рисков для каждого региона*:\n",
    "    - применили технику Bootstrap с 1000 выборок, чтобы найти распределение прибыли, среднюю прибыль, 95%-й доверительный интервал и риск убытков для каждого региона\n",
    "    - написали для этого функцию `supreme_function`\n",
    "    - выяснили, что хоть и потенциал к заработку (97.5% квантиль) у второго региона меньше остальных, но средняя выручка наоборот больше, также риск убытков практически отсутствует (0.7%)\n",
    "\n",
    "\n",
    "\n",
    "6. **Рекомендую разработать 200 новых скважин во втором регионе**"
   ]
  },
  {
   "cell_type": "code",
   "execution_count": null,
   "metadata": {},
   "outputs": [],
   "source": []
  }
 ],
 "metadata": {
  "ExecuteTimeLog": [
   {
    "duration": 55,
    "start_time": "2023-02-20T15:13:52.648Z"
   },
   {
    "duration": 3,
    "start_time": "2023-02-20T15:13:54.682Z"
   },
   {
    "duration": 10,
    "start_time": "2023-02-20T15:13:55.904Z"
   },
   {
    "duration": 4,
    "start_time": "2023-02-20T15:14:04.699Z"
   },
   {
    "duration": 3,
    "start_time": "2023-02-20T15:14:05.662Z"
   },
   {
    "duration": 5,
    "start_time": "2023-02-20T15:14:06.019Z"
   },
   {
    "duration": 5,
    "start_time": "2023-02-20T15:14:09.102Z"
   },
   {
    "duration": 1103,
    "start_time": "2023-02-22T13:58:12.789Z"
   },
   {
    "duration": 1589,
    "start_time": "2023-02-22T13:58:13.894Z"
   },
   {
    "duration": 18,
    "start_time": "2023-02-22T13:58:15.485Z"
   },
   {
    "duration": 9,
    "start_time": "2023-02-22T13:58:15.505Z"
   },
   {
    "duration": 14,
    "start_time": "2023-02-22T13:58:15.516Z"
   },
   {
    "duration": 20,
    "start_time": "2023-02-22T13:58:15.531Z"
   },
   {
    "duration": 39,
    "start_time": "2023-02-22T13:58:15.553Z"
   },
   {
    "duration": 2,
    "start_time": "2023-02-22T13:58:15.594Z"
   },
   {
    "duration": 84,
    "start_time": "2023-02-22T13:58:15.598Z"
   },
   {
    "duration": 66,
    "start_time": "2023-02-22T13:58:15.685Z"
   },
   {
    "duration": 64,
    "start_time": "2023-02-22T13:58:15.752Z"
   },
   {
    "duration": 4,
    "start_time": "2023-02-22T13:58:15.818Z"
   },
   {
    "duration": 13,
    "start_time": "2023-02-22T13:58:15.849Z"
   },
   {
    "duration": 5,
    "start_time": "2023-02-22T13:58:15.864Z"
   },
   {
    "duration": 16,
    "start_time": "2023-02-22T13:58:15.871Z"
   },
   {
    "duration": 6,
    "start_time": "2023-02-22T13:58:15.888Z"
   },
   {
    "duration": 16,
    "start_time": "2023-02-22T13:58:15.896Z"
   },
   {
    "duration": 3,
    "start_time": "2023-02-22T13:58:15.914Z"
   },
   {
    "duration": 40,
    "start_time": "2023-02-22T13:58:15.919Z"
   },
   {
    "duration": 88,
    "start_time": "2023-02-22T13:58:15.962Z"
   },
   {
    "duration": 105,
    "start_time": "2023-02-22T13:58:16.053Z"
   },
   {
    "duration": 89,
    "start_time": "2023-02-22T13:58:16.161Z"
   },
   {
    "duration": 105,
    "start_time": "2023-02-22T13:58:16.252Z"
   },
   {
    "duration": 199,
    "start_time": "2023-02-22T13:58:16.359Z"
   },
   {
    "duration": 31,
    "start_time": "2023-02-22T13:58:16.560Z"
   },
   {
    "duration": 10,
    "start_time": "2023-02-22T13:58:16.594Z"
   },
   {
    "duration": 14,
    "start_time": "2023-02-22T13:58:16.606Z"
   },
   {
    "duration": 6,
    "start_time": "2023-02-22T13:58:16.624Z"
   },
   {
    "duration": 16,
    "start_time": "2023-02-22T13:58:16.632Z"
   },
   {
    "duration": 10,
    "start_time": "2023-02-22T13:58:16.650Z"
   },
   {
    "duration": 4,
    "start_time": "2023-02-22T13:58:16.662Z"
   },
   {
    "duration": 5,
    "start_time": "2023-02-22T13:58:16.669Z"
   },
   {
    "duration": 17,
    "start_time": "2023-02-22T13:58:16.676Z"
   },
   {
    "duration": 6,
    "start_time": "2023-02-22T13:58:16.695Z"
   },
   {
    "duration": 1021,
    "start_time": "2023-02-22T13:58:16.703Z"
   },
   {
    "duration": 1890,
    "start_time": "2023-02-22T13:58:17.726Z"
   },
   {
    "duration": 959,
    "start_time": "2023-02-22T13:58:19.648Z"
   },
   {
    "duration": 2,
    "start_time": "2023-02-22T14:42:57.558Z"
   },
   {
    "duration": 130,
    "start_time": "2023-02-22T14:47:49.002Z"
   },
   {
    "duration": 2,
    "start_time": "2023-02-22T14:47:59.883Z"
   },
   {
    "duration": 43,
    "start_time": "2023-02-22T14:48:00.563Z"
   },
   {
    "duration": 40,
    "start_time": "2023-02-22T14:49:29.341Z"
   },
   {
    "duration": 37,
    "start_time": "2023-02-22T14:50:45.886Z"
   },
   {
    "duration": 3,
    "start_time": "2023-02-22T14:50:49.492Z"
   },
   {
    "duration": 420,
    "start_time": "2023-02-22T14:50:49.497Z"
   },
   {
    "duration": 10,
    "start_time": "2023-02-22T14:50:49.919Z"
   },
   {
    "duration": 18,
    "start_time": "2023-02-22T14:50:49.931Z"
   },
   {
    "duration": 10,
    "start_time": "2023-02-22T14:50:49.951Z"
   },
   {
    "duration": 16,
    "start_time": "2023-02-22T14:50:49.963Z"
   },
   {
    "duration": 36,
    "start_time": "2023-02-22T14:50:49.981Z"
   },
   {
    "duration": 3,
    "start_time": "2023-02-22T14:50:50.019Z"
   },
   {
    "duration": 79,
    "start_time": "2023-02-22T14:50:50.023Z"
   },
   {
    "duration": 68,
    "start_time": "2023-02-22T14:50:50.103Z"
   },
   {
    "duration": 56,
    "start_time": "2023-02-22T14:50:50.174Z"
   },
   {
    "duration": 17,
    "start_time": "2023-02-22T14:50:50.232Z"
   },
   {
    "duration": 13,
    "start_time": "2023-02-22T14:50:50.251Z"
   },
   {
    "duration": 4,
    "start_time": "2023-02-22T14:50:50.266Z"
   },
   {
    "duration": 12,
    "start_time": "2023-02-22T14:50:50.271Z"
   },
   {
    "duration": 4,
    "start_time": "2023-02-22T14:50:50.284Z"
   },
   {
    "duration": 14,
    "start_time": "2023-02-22T14:50:50.290Z"
   },
   {
    "duration": 3,
    "start_time": "2023-02-22T14:50:50.306Z"
   },
   {
    "duration": 73,
    "start_time": "2023-02-22T14:50:50.310Z"
   },
   {
    "duration": 2,
    "start_time": "2023-02-22T14:50:50.385Z"
   },
   {
    "duration": 64,
    "start_time": "2023-02-22T14:50:50.389Z"
   },
   {
    "duration": 96,
    "start_time": "2023-02-22T14:50:50.455Z"
   },
   {
    "duration": 19,
    "start_time": "2023-02-22T14:50:50.553Z"
   },
   {
    "duration": 180,
    "start_time": "2023-02-22T14:50:50.573Z"
   },
   {
    "duration": 20,
    "start_time": "2023-02-22T14:50:50.754Z"
   },
   {
    "duration": 102,
    "start_time": "2023-02-22T14:50:50.850Z"
   },
   {
    "duration": 9,
    "start_time": "2023-02-22T14:50:50.954Z"
   },
   {
    "duration": 7,
    "start_time": "2023-02-22T14:50:50.964Z"
   },
   {
    "duration": 5,
    "start_time": "2023-02-22T14:50:50.974Z"
   },
   {
    "duration": 14,
    "start_time": "2023-02-22T14:50:50.980Z"
   },
   {
    "duration": 16,
    "start_time": "2023-02-22T14:50:50.995Z"
   },
   {
    "duration": 10,
    "start_time": "2023-02-22T14:50:51.012Z"
   },
   {
    "duration": 4,
    "start_time": "2023-02-22T14:50:51.024Z"
   },
   {
    "duration": 8,
    "start_time": "2023-02-22T14:50:51.049Z"
   },
   {
    "duration": 17,
    "start_time": "2023-02-22T14:50:51.058Z"
   },
   {
    "duration": 5,
    "start_time": "2023-02-22T14:50:51.076Z"
   },
   {
    "duration": 1835,
    "start_time": "2023-02-22T14:50:51.083Z"
   },
   {
    "duration": 972,
    "start_time": "2023-02-22T14:50:52.920Z"
   },
   {
    "duration": 1565,
    "start_time": "2023-02-22T14:50:53.894Z"
   },
   {
    "duration": 4,
    "start_time": "2023-02-22T14:53:03.129Z"
   },
   {
    "duration": 442,
    "start_time": "2023-02-22T14:53:03.135Z"
   },
   {
    "duration": 9,
    "start_time": "2023-02-22T14:53:03.579Z"
   },
   {
    "duration": 28,
    "start_time": "2023-02-22T14:53:03.589Z"
   },
   {
    "duration": 17,
    "start_time": "2023-02-22T14:53:03.619Z"
   },
   {
    "duration": 22,
    "start_time": "2023-02-22T14:53:03.637Z"
   },
   {
    "duration": 34,
    "start_time": "2023-02-22T14:53:03.661Z"
   },
   {
    "duration": 2,
    "start_time": "2023-02-22T14:53:03.697Z"
   },
   {
    "duration": 6,
    "start_time": "2023-02-22T14:53:03.700Z"
   },
   {
    "duration": 5,
    "start_time": "2023-02-22T14:53:03.707Z"
   },
   {
    "duration": 6,
    "start_time": "2023-02-22T14:53:03.714Z"
   },
   {
    "duration": 12,
    "start_time": "2023-02-22T14:53:03.722Z"
   },
   {
    "duration": 27,
    "start_time": "2023-02-22T14:53:03.735Z"
   },
   {
    "duration": 5,
    "start_time": "2023-02-22T14:53:03.764Z"
   },
   {
    "duration": 13,
    "start_time": "2023-02-22T14:53:03.771Z"
   },
   {
    "duration": 65,
    "start_time": "2023-02-22T14:53:03.786Z"
   },
   {
    "duration": 26,
    "start_time": "2023-02-22T14:53:03.852Z"
   },
   {
    "duration": 55,
    "start_time": "2023-02-22T14:53:03.880Z"
   },
   {
    "duration": 80,
    "start_time": "2023-02-22T14:53:03.937Z"
   },
   {
    "duration": 18,
    "start_time": "2023-02-22T14:53:04.019Z"
   },
   {
    "duration": 37,
    "start_time": "2023-02-22T14:53:04.038Z"
   },
   {
    "duration": 184,
    "start_time": "2023-02-22T14:53:04.076Z"
   },
   {
    "duration": 34,
    "start_time": "2023-02-22T14:53:04.262Z"
   },
   {
    "duration": 156,
    "start_time": "2023-02-22T14:53:04.298Z"
   },
   {
    "duration": 30,
    "start_time": "2023-02-22T14:53:04.455Z"
   },
   {
    "duration": 165,
    "start_time": "2023-02-22T14:53:04.487Z"
   },
   {
    "duration": 36,
    "start_time": "2023-02-22T14:53:04.653Z"
   },
   {
    "duration": 29,
    "start_time": "2023-02-22T14:53:04.690Z"
   },
   {
    "duration": 4,
    "start_time": "2023-02-22T14:53:04.748Z"
   },
   {
    "duration": 25,
    "start_time": "2023-02-22T14:53:04.754Z"
   },
   {
    "duration": 68,
    "start_time": "2023-02-22T14:53:04.780Z"
   },
   {
    "duration": 17,
    "start_time": "2023-02-22T14:53:04.850Z"
   },
   {
    "duration": 38,
    "start_time": "2023-02-22T14:53:04.869Z"
   },
   {
    "duration": 39,
    "start_time": "2023-02-22T14:53:04.909Z"
   },
   {
    "duration": 9,
    "start_time": "2023-02-22T14:53:04.950Z"
   },
   {
    "duration": 8,
    "start_time": "2023-02-22T14:53:04.961Z"
   },
   {
    "duration": 1725,
    "start_time": "2023-02-22T14:53:04.970Z"
   },
   {
    "duration": 942,
    "start_time": "2023-02-22T14:53:06.696Z"
   },
   {
    "duration": 928,
    "start_time": "2023-02-22T14:53:07.641Z"
   },
   {
    "duration": 33,
    "start_time": "2023-02-22T14:55:14.499Z"
   },
   {
    "duration": 20,
    "start_time": "2023-02-22T14:59:58.377Z"
   },
   {
    "duration": 19,
    "start_time": "2023-02-22T15:00:31.015Z"
   },
   {
    "duration": 3,
    "start_time": "2023-02-22T15:00:34.436Z"
   },
   {
    "duration": 401,
    "start_time": "2023-02-22T15:00:34.441Z"
   },
   {
    "duration": 10,
    "start_time": "2023-02-22T15:00:34.845Z"
   },
   {
    "duration": 22,
    "start_time": "2023-02-22T15:00:34.857Z"
   },
   {
    "duration": 11,
    "start_time": "2023-02-22T15:00:34.881Z"
   },
   {
    "duration": 21,
    "start_time": "2023-02-22T15:00:34.894Z"
   },
   {
    "duration": 41,
    "start_time": "2023-02-22T15:00:34.917Z"
   },
   {
    "duration": 2,
    "start_time": "2023-02-22T15:00:34.960Z"
   },
   {
    "duration": 11,
    "start_time": "2023-02-22T15:00:34.964Z"
   },
   {
    "duration": 9,
    "start_time": "2023-02-22T15:00:34.976Z"
   },
   {
    "duration": 11,
    "start_time": "2023-02-22T15:00:34.987Z"
   },
   {
    "duration": 38,
    "start_time": "2023-02-22T15:00:34.999Z"
   },
   {
    "duration": 23,
    "start_time": "2023-02-22T15:00:35.039Z"
   },
   {
    "duration": 18,
    "start_time": "2023-02-22T15:00:35.064Z"
   },
   {
    "duration": 14,
    "start_time": "2023-02-22T15:00:35.084Z"
   },
   {
    "duration": 59,
    "start_time": "2023-02-22T15:00:35.100Z"
   },
   {
    "duration": 43,
    "start_time": "2023-02-22T15:00:35.161Z"
   },
   {
    "duration": 29,
    "start_time": "2023-02-22T15:00:35.206Z"
   },
   {
    "duration": 74,
    "start_time": "2023-02-22T15:00:35.237Z"
   },
   {
    "duration": 2,
    "start_time": "2023-02-22T15:00:35.313Z"
   },
   {
    "duration": 19,
    "start_time": "2023-02-22T15:00:35.317Z"
   },
   {
    "duration": 100,
    "start_time": "2023-02-22T15:00:35.354Z"
   },
   {
    "duration": 101,
    "start_time": "2023-02-22T15:00:35.456Z"
   },
   {
    "duration": 93,
    "start_time": "2023-02-22T15:00:35.562Z"
   },
   {
    "duration": 24,
    "start_time": "2023-02-22T15:00:35.748Z"
   },
   {
    "duration": 80,
    "start_time": "2023-02-22T15:00:35.775Z"
   },
   {
    "duration": 93,
    "start_time": "2023-02-22T15:00:35.857Z"
   },
   {
    "duration": 22,
    "start_time": "2023-02-22T15:00:35.953Z"
   },
   {
    "duration": 38,
    "start_time": "2023-02-22T15:00:35.977Z"
   },
   {
    "duration": 21,
    "start_time": "2023-02-22T15:00:36.017Z"
   },
   {
    "duration": 31,
    "start_time": "2023-02-22T15:00:36.040Z"
   },
   {
    "duration": 12,
    "start_time": "2023-02-22T15:00:36.073Z"
   },
   {
    "duration": 27,
    "start_time": "2023-02-22T15:00:36.086Z"
   },
   {
    "duration": 14,
    "start_time": "2023-02-22T15:00:36.114Z"
   },
   {
    "duration": 25,
    "start_time": "2023-02-22T15:00:36.130Z"
   },
   {
    "duration": 5,
    "start_time": "2023-02-22T15:00:36.156Z"
   },
   {
    "duration": 1906,
    "start_time": "2023-02-22T15:00:36.162Z"
   },
   {
    "duration": 927,
    "start_time": "2023-02-22T15:00:38.070Z"
   },
   {
    "duration": 953,
    "start_time": "2023-02-22T15:00:38.998Z"
   },
   {
    "duration": 3,
    "start_time": "2023-02-22T15:02:17.075Z"
   },
   {
    "duration": 403,
    "start_time": "2023-02-22T15:02:17.080Z"
   },
   {
    "duration": 10,
    "start_time": "2023-02-22T15:02:17.485Z"
   },
   {
    "duration": 11,
    "start_time": "2023-02-22T15:02:17.497Z"
   },
   {
    "duration": 10,
    "start_time": "2023-02-22T15:02:17.510Z"
   },
   {
    "duration": 28,
    "start_time": "2023-02-22T15:02:17.522Z"
   },
   {
    "duration": 42,
    "start_time": "2023-02-22T15:02:17.552Z"
   },
   {
    "duration": 3,
    "start_time": "2023-02-22T15:02:17.596Z"
   },
   {
    "duration": 7,
    "start_time": "2023-02-22T15:02:17.601Z"
   },
   {
    "duration": 6,
    "start_time": "2023-02-22T15:02:17.610Z"
   },
   {
    "duration": 6,
    "start_time": "2023-02-22T15:02:17.618Z"
   },
   {
    "duration": 26,
    "start_time": "2023-02-22T15:02:17.626Z"
   },
   {
    "duration": 15,
    "start_time": "2023-02-22T15:02:17.654Z"
   },
   {
    "duration": 6,
    "start_time": "2023-02-22T15:02:17.671Z"
   },
   {
    "duration": 13,
    "start_time": "2023-02-22T15:02:17.679Z"
   },
   {
    "duration": 4,
    "start_time": "2023-02-22T15:02:17.694Z"
   },
   {
    "duration": 13,
    "start_time": "2023-02-22T15:02:17.700Z"
   },
   {
    "duration": 3,
    "start_time": "2023-02-22T15:02:17.715Z"
   },
   {
    "duration": 44,
    "start_time": "2023-02-22T15:02:17.720Z"
   },
   {
    "duration": 3,
    "start_time": "2023-02-22T15:02:17.765Z"
   },
   {
    "duration": 85,
    "start_time": "2023-02-22T15:02:17.769Z"
   },
   {
    "duration": 97,
    "start_time": "2023-02-22T15:02:17.856Z"
   },
   {
    "duration": 16,
    "start_time": "2023-02-22T15:02:17.955Z"
   },
   {
    "duration": 75,
    "start_time": "2023-02-22T15:02:17.976Z"
   },
   {
    "duration": 107,
    "start_time": "2023-02-22T15:02:18.054Z"
   },
   {
    "duration": 86,
    "start_time": "2023-02-22T15:02:18.164Z"
   },
   {
    "duration": 97,
    "start_time": "2023-02-22T15:02:18.253Z"
   },
   {
    "duration": 9,
    "start_time": "2023-02-22T15:02:18.352Z"
   },
   {
    "duration": 6,
    "start_time": "2023-02-22T15:02:18.363Z"
   },
   {
    "duration": 6,
    "start_time": "2023-02-22T15:02:18.371Z"
   },
   {
    "duration": 76,
    "start_time": "2023-02-22T15:02:18.379Z"
   },
   {
    "duration": 11,
    "start_time": "2023-02-22T15:02:18.457Z"
   },
   {
    "duration": 8,
    "start_time": "2023-02-22T15:02:18.470Z"
   },
   {
    "duration": 5,
    "start_time": "2023-02-22T15:02:18.479Z"
   },
   {
    "duration": 12,
    "start_time": "2023-02-22T15:02:18.486Z"
   },
   {
    "duration": 51,
    "start_time": "2023-02-22T15:02:18.500Z"
   },
   {
    "duration": 1811,
    "start_time": "2023-02-22T15:02:18.553Z"
   },
   {
    "duration": 980,
    "start_time": "2023-02-22T15:02:20.366Z"
   },
   {
    "duration": 992,
    "start_time": "2023-02-22T15:02:21.348Z"
   },
   {
    "duration": 1055,
    "start_time": "2023-02-22T15:03:21.186Z"
   },
   {
    "duration": 439,
    "start_time": "2023-02-22T15:03:22.243Z"
   },
   {
    "duration": 17,
    "start_time": "2023-02-22T15:03:22.684Z"
   },
   {
    "duration": 9,
    "start_time": "2023-02-22T15:03:22.703Z"
   },
   {
    "duration": 14,
    "start_time": "2023-02-22T15:03:22.715Z"
   },
   {
    "duration": 15,
    "start_time": "2023-02-22T15:03:22.748Z"
   },
   {
    "duration": 38,
    "start_time": "2023-02-22T15:03:22.765Z"
   },
   {
    "duration": 2,
    "start_time": "2023-02-22T15:03:22.805Z"
   },
   {
    "duration": 6,
    "start_time": "2023-02-22T15:03:22.809Z"
   },
   {
    "duration": 4,
    "start_time": "2023-02-22T15:03:22.817Z"
   },
   {
    "duration": 27,
    "start_time": "2023-02-22T15:03:22.823Z"
   },
   {
    "duration": 6,
    "start_time": "2023-02-22T15:03:22.852Z"
   },
   {
    "duration": 17,
    "start_time": "2023-02-22T15:03:22.860Z"
   },
   {
    "duration": 6,
    "start_time": "2023-02-22T15:03:22.880Z"
   },
   {
    "duration": 27,
    "start_time": "2023-02-22T15:03:22.888Z"
   },
   {
    "duration": 6,
    "start_time": "2023-02-22T15:03:22.917Z"
   },
   {
    "duration": 29,
    "start_time": "2023-02-22T15:03:22.924Z"
   },
   {
    "duration": 3,
    "start_time": "2023-02-22T15:03:22.955Z"
   },
   {
    "duration": 25,
    "start_time": "2023-02-22T15:03:22.959Z"
   },
   {
    "duration": 3,
    "start_time": "2023-02-22T15:03:22.986Z"
   },
   {
    "duration": 68,
    "start_time": "2023-02-22T15:03:22.990Z"
   },
   {
    "duration": 6,
    "start_time": "2023-02-22T15:03:23.149Z"
   },
   {
    "duration": 92,
    "start_time": "2023-02-22T15:03:23.157Z"
   },
   {
    "duration": 99,
    "start_time": "2023-02-22T15:03:23.252Z"
   },
   {
    "duration": 38,
    "start_time": "2023-02-22T15:03:23.353Z"
   },
   {
    "duration": 9,
    "start_time": "2023-02-22T15:03:23.450Z"
   },
   {
    "duration": 33,
    "start_time": "2023-02-22T15:03:23.549Z"
   },
   {
    "duration": 13,
    "start_time": "2023-02-22T15:03:23.584Z"
   },
   {
    "duration": 31,
    "start_time": "2023-02-22T15:03:23.599Z"
   },
   {
    "duration": 23,
    "start_time": "2023-02-22T15:03:23.632Z"
   },
   {
    "duration": 40,
    "start_time": "2023-02-22T15:03:23.657Z"
   },
   {
    "duration": 13,
    "start_time": "2023-02-22T15:03:23.699Z"
   },
   {
    "duration": 4,
    "start_time": "2023-02-22T15:03:23.750Z"
   },
   {
    "duration": 38,
    "start_time": "2023-02-22T15:03:23.755Z"
   },
   {
    "duration": 57,
    "start_time": "2023-02-22T15:03:23.795Z"
   },
   {
    "duration": 6,
    "start_time": "2023-02-22T15:03:23.853Z"
   },
   {
    "duration": 1761,
    "start_time": "2023-02-22T15:03:23.861Z"
   },
   {
    "duration": 1018,
    "start_time": "2023-02-22T15:03:25.624Z"
   },
   {
    "duration": 949,
    "start_time": "2023-02-22T15:03:26.648Z"
   },
   {
    "duration": 9,
    "start_time": "2023-02-22T15:05:50.316Z"
   },
   {
    "duration": 3,
    "start_time": "2023-02-22T15:05:57.131Z"
   },
   {
    "duration": 450,
    "start_time": "2023-02-22T15:05:57.136Z"
   },
   {
    "duration": 9,
    "start_time": "2023-02-22T15:05:57.589Z"
   },
   {
    "duration": 47,
    "start_time": "2023-02-22T15:05:57.600Z"
   },
   {
    "duration": 28,
    "start_time": "2023-02-22T15:05:57.649Z"
   },
   {
    "duration": 39,
    "start_time": "2023-02-22T15:05:57.679Z"
   },
   {
    "duration": 36,
    "start_time": "2023-02-22T15:05:57.720Z"
   },
   {
    "duration": 2,
    "start_time": "2023-02-22T15:05:57.758Z"
   },
   {
    "duration": 8,
    "start_time": "2023-02-22T15:05:57.762Z"
   },
   {
    "duration": 14,
    "start_time": "2023-02-22T15:05:57.771Z"
   },
   {
    "duration": 10,
    "start_time": "2023-02-22T15:05:57.787Z"
   },
   {
    "duration": 13,
    "start_time": "2023-02-22T15:05:57.799Z"
   },
   {
    "duration": 18,
    "start_time": "2023-02-22T15:05:57.813Z"
   },
   {
    "duration": 6,
    "start_time": "2023-02-22T15:05:57.833Z"
   },
   {
    "duration": 15,
    "start_time": "2023-02-22T15:05:57.840Z"
   },
   {
    "duration": 4,
    "start_time": "2023-02-22T15:05:57.857Z"
   },
   {
    "duration": 19,
    "start_time": "2023-02-22T15:05:57.863Z"
   },
   {
    "duration": 3,
    "start_time": "2023-02-22T15:05:57.884Z"
   },
   {
    "duration": 11,
    "start_time": "2023-02-22T15:05:57.888Z"
   },
   {
    "duration": 30,
    "start_time": "2023-02-22T15:05:57.900Z"
   },
   {
    "duration": 3,
    "start_time": "2023-02-22T15:06:53.273Z"
   },
   {
    "duration": 423,
    "start_time": "2023-02-22T15:06:53.278Z"
   },
   {
    "duration": 9,
    "start_time": "2023-02-22T15:06:53.702Z"
   },
   {
    "duration": 15,
    "start_time": "2023-02-22T15:06:53.713Z"
   },
   {
    "duration": 19,
    "start_time": "2023-02-22T15:06:53.730Z"
   },
   {
    "duration": 25,
    "start_time": "2023-02-22T15:06:53.751Z"
   },
   {
    "duration": 46,
    "start_time": "2023-02-22T15:06:53.778Z"
   },
   {
    "duration": 5,
    "start_time": "2023-02-22T15:06:53.826Z"
   },
   {
    "duration": 34,
    "start_time": "2023-02-22T15:06:53.833Z"
   },
   {
    "duration": 5,
    "start_time": "2023-02-22T15:06:53.869Z"
   },
   {
    "duration": 14,
    "start_time": "2023-02-22T15:06:53.876Z"
   },
   {
    "duration": 4,
    "start_time": "2023-02-22T15:06:53.892Z"
   },
   {
    "duration": 14,
    "start_time": "2023-02-22T15:06:53.898Z"
   },
   {
    "duration": 3,
    "start_time": "2023-02-22T15:06:53.913Z"
   },
   {
    "duration": 11,
    "start_time": "2023-02-22T15:06:53.917Z"
   },
   {
    "duration": 27,
    "start_time": "2023-02-22T15:06:53.930Z"
   },
   {
    "duration": 38,
    "start_time": "2023-02-22T15:08:08.736Z"
   },
   {
    "duration": 21,
    "start_time": "2023-02-22T15:08:29.647Z"
   },
   {
    "duration": 2,
    "start_time": "2023-02-22T15:08:57.930Z"
   },
   {
    "duration": 415,
    "start_time": "2023-02-22T15:08:57.934Z"
   },
   {
    "duration": 9,
    "start_time": "2023-02-22T15:08:58.351Z"
   },
   {
    "duration": 13,
    "start_time": "2023-02-22T15:08:58.362Z"
   },
   {
    "duration": 10,
    "start_time": "2023-02-22T15:08:58.377Z"
   },
   {
    "duration": 18,
    "start_time": "2023-02-22T15:08:58.389Z"
   },
   {
    "duration": 62,
    "start_time": "2023-02-22T15:08:58.409Z"
   },
   {
    "duration": 6,
    "start_time": "2023-02-22T15:08:58.472Z"
   },
   {
    "duration": 15,
    "start_time": "2023-02-22T15:08:58.480Z"
   },
   {
    "duration": 4,
    "start_time": "2023-02-22T15:08:58.497Z"
   },
   {
    "duration": 15,
    "start_time": "2023-02-22T15:08:58.503Z"
   },
   {
    "duration": 5,
    "start_time": "2023-02-22T15:08:58.520Z"
   },
   {
    "duration": 29,
    "start_time": "2023-02-22T15:08:58.527Z"
   },
   {
    "duration": 3,
    "start_time": "2023-02-22T15:08:58.558Z"
   },
   {
    "duration": 23,
    "start_time": "2023-02-22T15:08:58.563Z"
   },
   {
    "duration": 68,
    "start_time": "2023-02-22T15:08:58.587Z"
   },
   {
    "duration": 54,
    "start_time": "2023-02-22T15:10:18.404Z"
   },
   {
    "duration": 3,
    "start_time": "2023-02-22T15:10:33.711Z"
   },
   {
    "duration": 422,
    "start_time": "2023-02-22T15:10:33.717Z"
   },
   {
    "duration": 9,
    "start_time": "2023-02-22T15:10:34.141Z"
   },
   {
    "duration": 12,
    "start_time": "2023-02-22T15:10:34.152Z"
   },
   {
    "duration": 12,
    "start_time": "2023-02-22T15:10:34.166Z"
   },
   {
    "duration": 17,
    "start_time": "2023-02-22T15:10:34.180Z"
   },
   {
    "duration": 50,
    "start_time": "2023-02-22T15:10:34.199Z"
   },
   {
    "duration": 6,
    "start_time": "2023-02-22T15:10:34.251Z"
   },
   {
    "duration": 13,
    "start_time": "2023-02-22T15:10:34.258Z"
   },
   {
    "duration": 4,
    "start_time": "2023-02-22T15:10:34.273Z"
   },
   {
    "duration": 11,
    "start_time": "2023-02-22T15:10:34.279Z"
   },
   {
    "duration": 5,
    "start_time": "2023-02-22T15:10:34.291Z"
   },
   {
    "duration": 11,
    "start_time": "2023-02-22T15:10:34.297Z"
   },
   {
    "duration": 2,
    "start_time": "2023-02-22T15:10:34.310Z"
   },
   {
    "duration": 54,
    "start_time": "2023-02-22T15:10:34.314Z"
   },
   {
    "duration": 45,
    "start_time": "2023-02-22T15:10:34.369Z"
   },
   {
    "duration": 4,
    "start_time": "2023-02-22T15:11:02.066Z"
   },
   {
    "duration": 417,
    "start_time": "2023-02-22T15:11:02.072Z"
   },
   {
    "duration": 9,
    "start_time": "2023-02-22T15:11:02.491Z"
   },
   {
    "duration": 11,
    "start_time": "2023-02-22T15:11:02.502Z"
   },
   {
    "duration": 12,
    "start_time": "2023-02-22T15:11:02.514Z"
   },
   {
    "duration": 31,
    "start_time": "2023-02-22T15:11:02.527Z"
   },
   {
    "duration": 37,
    "start_time": "2023-02-22T15:11:02.560Z"
   },
   {
    "duration": 5,
    "start_time": "2023-02-22T15:11:02.599Z"
   },
   {
    "duration": 24,
    "start_time": "2023-02-22T15:11:02.607Z"
   },
   {
    "duration": 16,
    "start_time": "2023-02-22T15:11:02.633Z"
   },
   {
    "duration": 27,
    "start_time": "2023-02-22T15:11:02.651Z"
   },
   {
    "duration": 4,
    "start_time": "2023-02-22T15:11:02.680Z"
   },
   {
    "duration": 28,
    "start_time": "2023-02-22T15:11:02.686Z"
   },
   {
    "duration": 5,
    "start_time": "2023-02-22T15:11:02.715Z"
   },
   {
    "duration": 25,
    "start_time": "2023-02-22T15:11:02.721Z"
   },
   {
    "duration": 32,
    "start_time": "2023-02-22T15:11:02.748Z"
   },
   {
    "duration": 3,
    "start_time": "2023-02-22T15:11:35.668Z"
   },
   {
    "duration": 448,
    "start_time": "2023-02-22T15:11:35.673Z"
   },
   {
    "duration": 9,
    "start_time": "2023-02-22T15:11:36.123Z"
   },
   {
    "duration": 16,
    "start_time": "2023-02-22T15:11:36.134Z"
   },
   {
    "duration": 10,
    "start_time": "2023-02-22T15:11:36.151Z"
   },
   {
    "duration": 19,
    "start_time": "2023-02-22T15:11:36.162Z"
   },
   {
    "duration": 37,
    "start_time": "2023-02-22T15:11:36.182Z"
   },
   {
    "duration": 28,
    "start_time": "2023-02-22T15:11:36.221Z"
   },
   {
    "duration": 14,
    "start_time": "2023-02-22T15:11:36.251Z"
   },
   {
    "duration": 4,
    "start_time": "2023-02-22T15:11:36.266Z"
   },
   {
    "duration": 11,
    "start_time": "2023-02-22T15:11:36.272Z"
   },
   {
    "duration": 4,
    "start_time": "2023-02-22T15:11:36.285Z"
   },
   {
    "duration": 11,
    "start_time": "2023-02-22T15:11:36.290Z"
   },
   {
    "duration": 3,
    "start_time": "2023-02-22T15:11:36.302Z"
   },
   {
    "duration": 44,
    "start_time": "2023-02-22T15:11:36.306Z"
   },
   {
    "duration": 32,
    "start_time": "2023-02-22T15:11:36.352Z"
   },
   {
    "duration": 49,
    "start_time": "2023-02-22T15:15:03.112Z"
   },
   {
    "duration": 51,
    "start_time": "2023-02-22T15:15:44.992Z"
   },
   {
    "duration": 25,
    "start_time": "2023-02-22T15:15:56.431Z"
   },
   {
    "duration": 14983,
    "start_time": "2023-02-22T15:24:49.273Z"
   },
   {
    "duration": 55,
    "start_time": "2023-02-22T15:26:26.291Z"
   },
   {
    "duration": 1187,
    "start_time": "2023-02-22T15:26:30.132Z"
   },
   {
    "duration": 99,
    "start_time": "2023-02-22T15:28:47.487Z"
   },
   {
    "duration": 9226,
    "start_time": "2023-02-22T15:29:22.263Z"
   },
   {
    "duration": 3713,
    "start_time": "2023-02-22T15:34:47.987Z"
   },
   {
    "duration": 2,
    "start_time": "2023-02-22T15:35:01.819Z"
   },
   {
    "duration": 19,
    "start_time": "2023-02-22T15:35:19.463Z"
   },
   {
    "duration": 182,
    "start_time": "2023-02-22T15:37:32.789Z"
   },
   {
    "duration": 3695,
    "start_time": "2023-02-22T15:37:40.692Z"
   },
   {
    "duration": 12,
    "start_time": "2023-02-22T15:37:55.173Z"
   },
   {
    "duration": 12,
    "start_time": "2023-02-22T15:38:06.464Z"
   },
   {
    "duration": 12,
    "start_time": "2023-02-22T15:38:12.579Z"
   },
   {
    "duration": 11,
    "start_time": "2023-02-22T15:38:16.663Z"
   },
   {
    "duration": 233,
    "start_time": "2023-02-22T15:39:06.808Z"
   },
   {
    "duration": 60,
    "start_time": "2023-02-22T15:54:26.024Z"
   },
   {
    "duration": 3,
    "start_time": "2023-02-22T15:54:30.034Z"
   },
   {
    "duration": 174,
    "start_time": "2023-02-22T15:55:13.681Z"
   },
   {
    "duration": 13,
    "start_time": "2023-02-22T15:56:38.123Z"
   },
   {
    "duration": 4,
    "start_time": "2023-02-22T15:56:43.269Z"
   },
   {
    "duration": 16,
    "start_time": "2023-02-22T15:56:45.612Z"
   },
   {
    "duration": 5,
    "start_time": "2023-02-22T15:56:57.099Z"
   },
   {
    "duration": 5,
    "start_time": "2023-02-22T15:57:19.714Z"
   },
   {
    "duration": 16,
    "start_time": "2023-02-22T15:57:34.788Z"
   },
   {
    "duration": 5,
    "start_time": "2023-02-22T15:57:36.829Z"
   },
   {
    "duration": 4,
    "start_time": "2023-02-22T16:00:12.206Z"
   },
   {
    "duration": 12,
    "start_time": "2023-02-22T16:01:08.673Z"
   },
   {
    "duration": 4,
    "start_time": "2023-02-22T16:01:56.634Z"
   },
   {
    "duration": 14,
    "start_time": "2023-02-22T16:01:58.361Z"
   },
   {
    "duration": 5,
    "start_time": "2023-02-22T16:02:10.096Z"
   },
   {
    "duration": 4,
    "start_time": "2023-02-22T16:02:14.635Z"
   },
   {
    "duration": 14,
    "start_time": "2023-02-22T16:06:08.629Z"
   },
   {
    "duration": 17,
    "start_time": "2023-02-22T16:06:25.644Z"
   },
   {
    "duration": 5,
    "start_time": "2023-02-22T16:13:51.724Z"
   },
   {
    "duration": 12,
    "start_time": "2023-02-22T16:15:05.428Z"
   },
   {
    "duration": 3,
    "start_time": "2023-02-22T16:15:08.455Z"
   },
   {
    "duration": 4,
    "start_time": "2023-02-22T16:15:11.505Z"
   },
   {
    "duration": 5,
    "start_time": "2023-02-22T16:15:26.128Z"
   },
   {
    "duration": 4,
    "start_time": "2023-02-22T16:15:56.001Z"
   },
   {
    "duration": 5,
    "start_time": "2023-02-22T16:16:03.441Z"
   },
   {
    "duration": 5,
    "start_time": "2023-02-22T16:16:25.751Z"
   },
   {
    "duration": 29,
    "start_time": "2023-02-22T16:16:36.430Z"
   },
   {
    "duration": 9,
    "start_time": "2023-02-22T16:16:37.221Z"
   },
   {
    "duration": 3,
    "start_time": "2023-02-22T16:16:40.201Z"
   },
   {
    "duration": 3,
    "start_time": "2023-02-22T16:16:43.585Z"
   },
   {
    "duration": 3,
    "start_time": "2023-02-22T16:19:20.972Z"
   },
   {
    "duration": 4,
    "start_time": "2023-02-22T16:19:53.860Z"
   },
   {
    "duration": 10,
    "start_time": "2023-02-22T16:19:57.335Z"
   },
   {
    "duration": 4,
    "start_time": "2023-02-22T16:22:33.648Z"
   },
   {
    "duration": 3,
    "start_time": "2023-02-22T16:25:06.792Z"
   },
   {
    "duration": 4,
    "start_time": "2023-02-22T16:25:09.448Z"
   },
   {
    "duration": 12,
    "start_time": "2023-02-22T16:26:34.121Z"
   },
   {
    "duration": 12,
    "start_time": "2023-02-22T16:26:42.483Z"
   },
   {
    "duration": 2,
    "start_time": "2023-02-22T16:26:54.050Z"
   },
   {
    "duration": 4,
    "start_time": "2023-02-22T16:26:57.690Z"
   },
   {
    "duration": 4,
    "start_time": "2023-02-22T16:27:37.418Z"
   },
   {
    "duration": 5,
    "start_time": "2023-02-22T16:27:43.402Z"
   },
   {
    "duration": 3,
    "start_time": "2023-02-22T16:31:28.181Z"
   },
   {
    "duration": 9,
    "start_time": "2023-02-22T16:31:30.550Z"
   },
   {
    "duration": 8,
    "start_time": "2023-02-22T16:36:20.418Z"
   },
   {
    "duration": 8,
    "start_time": "2023-02-22T16:36:23.546Z"
   },
   {
    "duration": 8,
    "start_time": "2023-02-22T16:36:25.067Z"
   },
   {
    "duration": 8,
    "start_time": "2023-02-22T16:36:49.611Z"
   },
   {
    "duration": 8,
    "start_time": "2023-02-22T16:36:51.107Z"
   },
   {
    "duration": 9,
    "start_time": "2023-02-22T16:36:51.826Z"
   },
   {
    "duration": 7,
    "start_time": "2023-02-22T16:36:52.419Z"
   },
   {
    "duration": 9,
    "start_time": "2023-02-22T16:36:52.930Z"
   },
   {
    "duration": 3,
    "start_time": "2023-02-22T16:39:11.814Z"
   },
   {
    "duration": 2045,
    "start_time": "2023-02-22T16:39:11.818Z"
   },
   {
    "duration": 420,
    "start_time": "2023-02-22T16:39:13.864Z"
   },
   {
    "duration": 15,
    "start_time": "2023-02-22T16:39:14.286Z"
   },
   {
    "duration": 9,
    "start_time": "2023-02-22T16:39:14.303Z"
   },
   {
    "duration": 14,
    "start_time": "2023-02-22T16:39:14.313Z"
   },
   {
    "duration": 28,
    "start_time": "2023-02-22T16:39:14.328Z"
   },
   {
    "duration": 38,
    "start_time": "2023-02-22T16:39:14.358Z"
   },
   {
    "duration": 10763,
    "start_time": "2023-02-22T16:39:14.398Z"
   },
   {
    "duration": 3,
    "start_time": "2023-02-22T16:39:25.163Z"
   },
   {
    "duration": 12,
    "start_time": "2023-02-22T16:39:25.167Z"
   },
   {
    "duration": 9,
    "start_time": "2023-02-22T16:39:25.181Z"
   },
   {
    "duration": 16,
    "start_time": "2023-02-22T16:39:25.193Z"
   },
   {
    "duration": 5,
    "start_time": "2023-02-22T16:39:25.211Z"
   },
   {
    "duration": 12,
    "start_time": "2023-02-22T16:39:25.249Z"
   },
   {
    "duration": 7,
    "start_time": "2023-02-22T16:39:25.262Z"
   },
   {
    "duration": 18,
    "start_time": "2023-02-22T16:39:25.270Z"
   },
   {
    "duration": 3,
    "start_time": "2023-02-22T16:39:25.289Z"
   },
   {
    "duration": 26,
    "start_time": "2023-02-22T16:39:25.293Z"
   },
   {
    "duration": 30,
    "start_time": "2023-02-22T16:39:25.320Z"
   },
   {
    "duration": 0,
    "start_time": "2023-02-22T16:39:25.352Z"
   },
   {
    "duration": 0,
    "start_time": "2023-02-22T16:39:25.354Z"
   },
   {
    "duration": 0,
    "start_time": "2023-02-22T16:39:25.355Z"
   },
   {
    "duration": 0,
    "start_time": "2023-02-22T16:39:25.356Z"
   },
   {
    "duration": 0,
    "start_time": "2023-02-22T16:39:25.357Z"
   },
   {
    "duration": 0,
    "start_time": "2023-02-22T16:39:25.359Z"
   },
   {
    "duration": 0,
    "start_time": "2023-02-22T16:39:25.360Z"
   },
   {
    "duration": 0,
    "start_time": "2023-02-22T16:39:25.361Z"
   },
   {
    "duration": 0,
    "start_time": "2023-02-22T16:39:25.362Z"
   },
   {
    "duration": 0,
    "start_time": "2023-02-22T16:39:25.363Z"
   },
   {
    "duration": 0,
    "start_time": "2023-02-22T16:39:25.364Z"
   },
   {
    "duration": 0,
    "start_time": "2023-02-22T16:39:25.365Z"
   },
   {
    "duration": 0,
    "start_time": "2023-02-22T16:39:25.366Z"
   },
   {
    "duration": 0,
    "start_time": "2023-02-22T16:39:25.367Z"
   },
   {
    "duration": 0,
    "start_time": "2023-02-22T16:39:25.368Z"
   },
   {
    "duration": 0,
    "start_time": "2023-02-22T16:39:25.369Z"
   },
   {
    "duration": 0,
    "start_time": "2023-02-22T16:39:25.370Z"
   },
   {
    "duration": 34,
    "start_time": "2023-02-22T16:39:50.675Z"
   },
   {
    "duration": 3,
    "start_time": "2023-02-22T16:39:56.782Z"
   },
   {
    "duration": 1987,
    "start_time": "2023-02-22T16:39:56.787Z"
   },
   {
    "duration": 599,
    "start_time": "2023-02-22T16:39:58.776Z"
   },
   {
    "duration": 14,
    "start_time": "2023-02-22T16:39:59.377Z"
   },
   {
    "duration": 10,
    "start_time": "2023-02-22T16:39:59.449Z"
   },
   {
    "duration": 14,
    "start_time": "2023-02-22T16:39:59.460Z"
   },
   {
    "duration": 22,
    "start_time": "2023-02-22T16:39:59.475Z"
   },
   {
    "duration": 84,
    "start_time": "2023-02-22T16:39:59.498Z"
   },
   {
    "duration": 11209,
    "start_time": "2023-02-22T16:39:59.585Z"
   },
   {
    "duration": 2,
    "start_time": "2023-02-22T16:40:10.796Z"
   },
   {
    "duration": 9,
    "start_time": "2023-02-22T16:40:10.799Z"
   },
   {
    "duration": 7,
    "start_time": "2023-02-22T16:40:10.809Z"
   },
   {
    "duration": 12,
    "start_time": "2023-02-22T16:40:10.818Z"
   },
   {
    "duration": 5,
    "start_time": "2023-02-22T16:40:10.849Z"
   },
   {
    "duration": 17,
    "start_time": "2023-02-22T16:40:10.856Z"
   },
   {
    "duration": 6,
    "start_time": "2023-02-22T16:40:10.874Z"
   },
   {
    "duration": 17,
    "start_time": "2023-02-22T16:40:10.882Z"
   },
   {
    "duration": 3,
    "start_time": "2023-02-22T16:40:10.900Z"
   },
   {
    "duration": 29,
    "start_time": "2023-02-22T16:40:10.904Z"
   },
   {
    "duration": 47,
    "start_time": "2023-02-22T16:40:10.935Z"
   },
   {
    "duration": 20,
    "start_time": "2023-02-22T16:40:10.983Z"
   },
   {
    "duration": 3,
    "start_time": "2023-02-22T16:40:11.005Z"
   },
   {
    "duration": 41,
    "start_time": "2023-02-22T16:40:11.010Z"
   },
   {
    "duration": 105,
    "start_time": "2023-02-22T16:40:11.056Z"
   },
   {
    "duration": 211,
    "start_time": "2023-02-22T16:40:11.163Z"
   },
   {
    "duration": 174,
    "start_time": "2023-02-22T16:40:11.376Z"
   },
   {
    "duration": 7,
    "start_time": "2023-02-22T16:40:11.551Z"
   },
   {
    "duration": 8,
    "start_time": "2023-02-22T16:40:11.560Z"
   },
   {
    "duration": 16,
    "start_time": "2023-02-22T16:40:11.569Z"
   },
   {
    "duration": 9,
    "start_time": "2023-02-22T16:40:11.587Z"
   },
   {
    "duration": 3,
    "start_time": "2023-02-22T16:40:11.599Z"
   },
   {
    "duration": 6,
    "start_time": "2023-02-22T16:40:11.604Z"
   },
   {
    "duration": 48,
    "start_time": "2023-02-22T16:40:11.612Z"
   },
   {
    "duration": 6,
    "start_time": "2023-02-22T16:40:11.662Z"
   },
   {
    "duration": 998,
    "start_time": "2023-02-22T16:40:11.670Z"
   },
   {
    "duration": 964,
    "start_time": "2023-02-22T16:40:12.670Z"
   },
   {
    "duration": 950,
    "start_time": "2023-02-22T16:40:13.636Z"
   },
   {
    "duration": 3,
    "start_time": "2023-09-07T12:31:39.008Z"
   },
   {
    "duration": 463,
    "start_time": "2023-09-07T12:31:40.051Z"
   },
   {
    "duration": 845,
    "start_time": "2023-09-07T12:31:59.488Z"
   },
   {
    "duration": 7,
    "start_time": "2023-09-07T12:32:04.611Z"
   },
   {
    "duration": 905,
    "start_time": "2023-09-07T12:32:20.248Z"
   },
   {
    "duration": 842,
    "start_time": "2023-09-07T12:34:19.826Z"
   }
  ],
  "kernelspec": {
   "display_name": "Python 3",
   "language": "python",
   "name": "python3"
  },
  "language_info": {
   "codemirror_mode": {
    "name": "ipython",
    "version": 3
   },
   "file_extension": ".py",
   "mimetype": "text/x-python",
   "name": "python",
   "nbconvert_exporter": "python",
   "pygments_lexer": "ipython3",
   "version": "3.8.8"
  },
  "toc": {
   "base_numbering": 1,
   "nav_menu": {},
   "number_sections": true,
   "sideBar": true,
   "skip_h1_title": true,
   "title_cell": "Содержание",
   "title_sidebar": "Contents",
   "toc_cell": true,
   "toc_position": {
    "height": "calc(100% - 180px)",
    "left": "10px",
    "top": "150px",
    "width": "362.8px"
   },
   "toc_section_display": true,
   "toc_window_display": true
  }
 },
 "nbformat": 4,
 "nbformat_minor": 2
}
