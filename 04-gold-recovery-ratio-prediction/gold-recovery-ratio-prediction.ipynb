{
 "cells": [
  {
   "cell_type": "markdown",
   "id": "100c7c0e",
   "metadata": {
    "toc": true
   },
   "source": [
    "<h1>Содержание<span class=\"tocSkip\"></span></h1>\n",
    "<div class=\"toc\"><ul class=\"toc-item\"><li><span><a href=\"#Подготовка-данных\" data-toc-modified-id=\"Подготовка-данных-1\"><span class=\"toc-item-num\">1&nbsp;&nbsp;</span>Подготовка данных</a></span><ul class=\"toc-item\"><li><span><a href=\"#Открытие-и-изучение-файлов\" data-toc-modified-id=\"Открытие-и-изучение-файлов-1.1\"><span class=\"toc-item-num\">1.1&nbsp;&nbsp;</span>Открытие и изучение файлов</a></span></li><li><span><a href=\"#Проверка-правильности-рассчета-эффективности-обогащения\" data-toc-modified-id=\"Проверка-правильности-рассчета-эффективности-обогащения-1.2\"><span class=\"toc-item-num\">1.2&nbsp;&nbsp;</span>Проверка правильности рассчета эффективности обогащения</a></span></li><li><span><a href=\"#Анализ-признаков,-недоступных-в-тестовой-выборке\" data-toc-modified-id=\"Анализ-признаков,-недоступных-в-тестовой-выборке-1.3\"><span class=\"toc-item-num\">1.3&nbsp;&nbsp;</span>Анализ признаков, недоступных в тестовой выборке</a></span></li><li><span><a href=\"#Предобработка-данных\" data-toc-modified-id=\"Предобработка-данных-1.4\"><span class=\"toc-item-num\">1.4&nbsp;&nbsp;</span>Предобработка данных</a></span><ul class=\"toc-item\"><li><span><a href=\"#Заполнение-пропусков\" data-toc-modified-id=\"Заполнение-пропусков-1.4.1\"><span class=\"toc-item-num\">1.4.1&nbsp;&nbsp;</span>Заполнение пропусков</a></span></li><li><span><a href=\"#Удаление-дубликатов\" data-toc-modified-id=\"Удаление-дубликатов-1.4.2\"><span class=\"toc-item-num\">1.4.2&nbsp;&nbsp;</span>Удаление дубликатов</a></span></li><li><span><a href=\"#Перевод-столбцов-date-в-формат-datetime\" data-toc-modified-id=\"Перевод-столбцов-date-в-формат-datetime-1.4.3\"><span class=\"toc-item-num\">1.4.3&nbsp;&nbsp;</span>Перевод столбцов <code>date</code> в формат datetime</a></span></li><li><span><a href=\"#Добавление-таргетов-в-test-выборку\" data-toc-modified-id=\"Добавление-таргетов-в-test-выборку-1.4.4\"><span class=\"toc-item-num\">1.4.4&nbsp;&nbsp;</span>Добавление таргетов в test выборку</a></span></li></ul></li></ul></li><li><span><a href=\"#Анализ-данных\" data-toc-modified-id=\"Анализ-данных-2\"><span class=\"toc-item-num\">2&nbsp;&nbsp;</span>Анализ данных</a></span><ul class=\"toc-item\"><li><span><a href=\"#Анализ-концентрации-металлов-(Au,-Ag,-Pb)-на-различных-этапах-очистки\" data-toc-modified-id=\"Анализ-концентрации-металлов-(Au,-Ag,-Pb)-на-различных-этапах-очистки-2.1\"><span class=\"toc-item-num\">2.1&nbsp;&nbsp;</span>Анализ концентрации металлов (Au, Ag, Pb) на различных этапах очистки</a></span></li><li><span><a href=\"#Сравнение-распределения-размеров-гранул-сырья-на-обучающей-и-тестовой-выборках\" data-toc-modified-id=\"Сравнение-распределения-размеров-гранул-сырья-на-обучающей-и-тестовой-выборках-2.2\"><span class=\"toc-item-num\">2.2&nbsp;&nbsp;</span>Сравнение распределения размеров гранул сырья на обучающей и тестовой выборках</a></span></li><li><span><a href=\"#Исследование-суммарной-концентрации-всех-веществ-на-разных-стадиях:-в-сырье,-в-черновом-и-финальном-концентратах\" data-toc-modified-id=\"Исследование-суммарной-концентрации-всех-веществ-на-разных-стадиях:-в-сырье,-в-черновом-и-финальном-концентратах-2.3\"><span class=\"toc-item-num\">2.3&nbsp;&nbsp;</span>Исследование суммарной концентрации всех веществ на разных стадиях: в сырье, в черновом и финальном концентратах</a></span></li></ul></li><li><span><a href=\"#Модель\" data-toc-modified-id=\"Модель-3\"><span class=\"toc-item-num\">3&nbsp;&nbsp;</span>Модель</a></span><ul class=\"toc-item\"><li><span><a href=\"#Функция-для-вычисления-итоговой-sMAPE\" data-toc-modified-id=\"Функция-для-вычисления-итоговой-sMAPE-3.1\"><span class=\"toc-item-num\">3.1&nbsp;&nbsp;</span>Функция для вычисления итоговой sMAPE</a></span></li><li><span><a href=\"#Обучение-разных-моделей-и-оценка-их-качества-кросс-валидацией\" data-toc-modified-id=\"Обучение-разных-моделей-и-оценка-их-качества-кросс-валидацией-3.2\"><span class=\"toc-item-num\">3.2&nbsp;&nbsp;</span>Обучение разных моделей и оценка их качества кросс-валидацией</a></span><ul class=\"toc-item\"><li><span><a href=\"#Подготовка-данных\" data-toc-modified-id=\"Подготовка-данных-3.2.1\"><span class=\"toc-item-num\">3.2.1&nbsp;&nbsp;</span>Подготовка данных</a></span></li><li><span><a href=\"#LinearRegression\" data-toc-modified-id=\"LinearRegression-3.2.2\"><span class=\"toc-item-num\">3.2.2&nbsp;&nbsp;</span>LinearRegression</a></span></li><li><span><a href=\"#DecisionTreeRegressor\" data-toc-modified-id=\"DecisionTreeRegressor-3.2.3\"><span class=\"toc-item-num\">3.2.3&nbsp;&nbsp;</span>DecisionTreeRegressor</a></span></li><li><span><a href=\"#RandomForestRegressor\" data-toc-modified-id=\"RandomForestRegressor-3.2.4\"><span class=\"toc-item-num\">3.2.4&nbsp;&nbsp;</span>RandomForestRegressor</a></span></li><li><span><a href=\"#DummyRegressor\" data-toc-modified-id=\"DummyRegressor-3.2.5\"><span class=\"toc-item-num\">3.2.5&nbsp;&nbsp;</span>DummyRegressor</a></span></li><li><span><a href=\"#Проверка-на-тестовой-выборке\" data-toc-modified-id=\"Проверка-на-тестовой-выборке-3.2.6\"><span class=\"toc-item-num\">3.2.6&nbsp;&nbsp;</span>Проверка на тестовой выборке</a></span></li></ul></li><li><span><a href=\"#Общий-вывод\" data-toc-modified-id=\"Общий-вывод-3.3\"><span class=\"toc-item-num\">3.3&nbsp;&nbsp;</span>Общий вывод</a></span></li></ul></li></ul></div>"
   ]
  },
  {
   "cell_type": "markdown",
   "id": "3be54a0e",
   "metadata": {},
   "source": [
    "# Описание проекта"
   ]
  },
  {
   "cell_type": "markdown",
   "id": "deec7b3b",
   "metadata": {},
   "source": [
    "Данные находятся в трёх файлах:\n",
    "\n",
    "    gold_recovery_train_new.csv — обучающая выборка;\n",
    "    gold_recovery_test_new.csv — тестовая выборка;\n",
    "    gold_recovery_full_new.csv — исходные данные.\n",
    "\n",
    "Данные индексируются датой и временем получения информации (признак `date`). Соседние по времени параметры часто похожи.\n",
    "\n",
    "\n",
    "Некоторые параметры недоступны, потому что замеряются и/или рассчитываются значительно позже. Из-за этого в тестовой выборке отсутствуют некоторые признаки, которые могут быть в обучающей. Также в тестовом наборе нет целевых признаков. \n",
    "\n",
    "\n",
    "Исходный датасет содержит обучающую и тестовую выборки со всеми признаками.\n",
    "\n",
    "\n",
    "В нашем распоряжении сырые данные: их просто выгрузили из хранилища. Прежде чем приступить к построению модели, проверим по инструкции их на корректность."
   ]
  },
  {
   "cell_type": "markdown",
   "id": "1aa2e0a0",
   "metadata": {},
   "source": [
    "# Восстановление золота из руды"
   ]
  },
  {
   "cell_type": "markdown",
   "id": "c311dee2",
   "metadata": {},
   "source": [
    "Подготовим прототип модели машинного обучения для компании. Компания разрабатывает решения для эффективной работы промышленных предприятий.\n",
    "\n",
    "Модель должна предсказать коэффициент восстановления золота из золотосодержащей руды. Используем данные с параметрами добычи и очистки. \n",
    "\n",
    "Модель поможет оптимизировать производство, чтобы не запускать предприятие с убыточными характеристиками.\n",
    "\n",
    "Нам нужно:\n",
    "\n",
    "1. Подготовить данные;\n",
    "2. Провести исследовательский анализ данных;\n",
    "3. Построить и обучить модель.\n",
    "\n",
    "Чтобы выполнить проект, обратимся к библиотекам *pandas*, *matplotlib* и *sklearn.*"
   ]
  },
  {
   "cell_type": "markdown",
   "id": "7c2517f2",
   "metadata": {},
   "source": [
    "## Подготовка данных"
   ]
  },
  {
   "cell_type": "markdown",
   "id": "7f8b06d3",
   "metadata": {},
   "source": [
    "Импортируем библиотеки:"
   ]
  },
  {
   "cell_type": "code",
   "execution_count": 1,
   "id": "86aada0d",
   "metadata": {},
   "outputs": [],
   "source": [
    "# импорты из стандартной библиотеки\n",
    "import warnings\n",
    "import re\n",
    "\n",
    "# импорты сторонних библиотек\n",
    "import pandas as pd\n",
    "import numpy as np\n",
    "import matplotlib.pyplot as plt\n",
    "import seaborn as sns\n",
    "\n",
    "# импорты модулей текущего проекта\n",
    "from sklearn.metrics import mean_absolute_error\n",
    "from sklearn.metrics import make_scorer\n",
    "from sklearn.linear_model import LinearRegression\n",
    "from sklearn.tree import DecisionTreeRegressor\n",
    "from sklearn.ensemble import RandomForestRegressor\n",
    "from sklearn.preprocessing import StandardScaler\n",
    "from sklearn.model_selection import cross_val_score\n",
    "from sklearn.model_selection import GridSearchCV\n",
    "from sklearn.dummy import DummyRegressor\n",
    "\n",
    "# настройки\n",
    "warnings.filterwarnings(\"ignore\")\n",
    "\n",
    "# константы\n",
    "RANDOM_STATE = 12345"
   ]
  },
  {
   "cell_type": "markdown",
   "id": "5d2ab61e",
   "metadata": {},
   "source": [
    "### Открытие и изучение файлов"
   ]
  },
  {
   "cell_type": "code",
   "execution_count": 2,
   "id": "558c23f4",
   "metadata": {},
   "outputs": [],
   "source": [
    "try:\n",
    "    gold_recovery_train = pd.read_csv('gold_recovery_train_new.csv')\n",
    "    gold_recovery_test = pd.read_csv('gold_recovery_test_new.csv')\n",
    "    gold_recovery_full = pd.read_csv('gold_recovery_full_new.csv')\n",
    "except:\n",
    "    gold_recovery_train = pd.read_csv('/datasets/gold_recovery_train_new.csv')\n",
    "    gold_recovery_test = pd.read_csv('/datasets/gold_recovery_test_new.csv')\n",
    "    gold_recovery_full = pd.read_csv('/datasets/gold_recovery_full_new.csv')"
   ]
  },
  {
   "cell_type": "code",
   "execution_count": 3,
   "id": "72fead7b",
   "metadata": {},
   "outputs": [
    {
     "data": {
      "text/html": [
       "<div>\n",
       "<style scoped>\n",
       "    .dataframe tbody tr th:only-of-type {\n",
       "        vertical-align: middle;\n",
       "    }\n",
       "\n",
       "    .dataframe tbody tr th {\n",
       "        vertical-align: top;\n",
       "    }\n",
       "\n",
       "    .dataframe thead th {\n",
       "        text-align: right;\n",
       "    }\n",
       "</style>\n",
       "<table border=\"1\" class=\"dataframe\">\n",
       "  <thead>\n",
       "    <tr style=\"text-align: right;\">\n",
       "      <th></th>\n",
       "      <th>date</th>\n",
       "      <th>final.output.concentrate_ag</th>\n",
       "      <th>final.output.concentrate_pb</th>\n",
       "      <th>final.output.concentrate_sol</th>\n",
       "      <th>final.output.concentrate_au</th>\n",
       "      <th>final.output.recovery</th>\n",
       "      <th>final.output.tail_ag</th>\n",
       "      <th>final.output.tail_pb</th>\n",
       "      <th>final.output.tail_sol</th>\n",
       "      <th>final.output.tail_au</th>\n",
       "      <th>...</th>\n",
       "      <th>secondary_cleaner.state.floatbank4_a_air</th>\n",
       "      <th>secondary_cleaner.state.floatbank4_a_level</th>\n",
       "      <th>secondary_cleaner.state.floatbank4_b_air</th>\n",
       "      <th>secondary_cleaner.state.floatbank4_b_level</th>\n",
       "      <th>secondary_cleaner.state.floatbank5_a_air</th>\n",
       "      <th>secondary_cleaner.state.floatbank5_a_level</th>\n",
       "      <th>secondary_cleaner.state.floatbank5_b_air</th>\n",
       "      <th>secondary_cleaner.state.floatbank5_b_level</th>\n",
       "      <th>secondary_cleaner.state.floatbank6_a_air</th>\n",
       "      <th>secondary_cleaner.state.floatbank6_a_level</th>\n",
       "    </tr>\n",
       "  </thead>\n",
       "  <tbody>\n",
       "    <tr>\n",
       "      <th>0</th>\n",
       "      <td>2016-01-15 00:00:00</td>\n",
       "      <td>6.055403</td>\n",
       "      <td>9.889648</td>\n",
       "      <td>5.507324</td>\n",
       "      <td>42.192020</td>\n",
       "      <td>70.541216</td>\n",
       "      <td>10.411962</td>\n",
       "      <td>0.895447</td>\n",
       "      <td>16.904297</td>\n",
       "      <td>2.143149</td>\n",
       "      <td>...</td>\n",
       "      <td>14.016835</td>\n",
       "      <td>-502.488007</td>\n",
       "      <td>12.099931</td>\n",
       "      <td>-504.715942</td>\n",
       "      <td>9.925633</td>\n",
       "      <td>-498.310211</td>\n",
       "      <td>8.079666</td>\n",
       "      <td>-500.470978</td>\n",
       "      <td>14.151341</td>\n",
       "      <td>-605.841980</td>\n",
       "    </tr>\n",
       "    <tr>\n",
       "      <th>1</th>\n",
       "      <td>2016-01-15 01:00:00</td>\n",
       "      <td>6.029369</td>\n",
       "      <td>9.968944</td>\n",
       "      <td>5.257781</td>\n",
       "      <td>42.701629</td>\n",
       "      <td>69.266198</td>\n",
       "      <td>10.462676</td>\n",
       "      <td>0.927452</td>\n",
       "      <td>16.634514</td>\n",
       "      <td>2.224930</td>\n",
       "      <td>...</td>\n",
       "      <td>13.992281</td>\n",
       "      <td>-505.503262</td>\n",
       "      <td>11.950531</td>\n",
       "      <td>-501.331529</td>\n",
       "      <td>10.039245</td>\n",
       "      <td>-500.169983</td>\n",
       "      <td>7.984757</td>\n",
       "      <td>-500.582168</td>\n",
       "      <td>13.998353</td>\n",
       "      <td>-599.787184</td>\n",
       "    </tr>\n",
       "    <tr>\n",
       "      <th>2</th>\n",
       "      <td>2016-01-15 02:00:00</td>\n",
       "      <td>6.055926</td>\n",
       "      <td>10.213995</td>\n",
       "      <td>5.383759</td>\n",
       "      <td>42.657501</td>\n",
       "      <td>68.116445</td>\n",
       "      <td>10.507046</td>\n",
       "      <td>0.953716</td>\n",
       "      <td>16.208849</td>\n",
       "      <td>2.257889</td>\n",
       "      <td>...</td>\n",
       "      <td>14.015015</td>\n",
       "      <td>-502.520901</td>\n",
       "      <td>11.912783</td>\n",
       "      <td>-501.133383</td>\n",
       "      <td>10.070913</td>\n",
       "      <td>-500.129135</td>\n",
       "      <td>8.013877</td>\n",
       "      <td>-500.517572</td>\n",
       "      <td>14.028663</td>\n",
       "      <td>-601.427363</td>\n",
       "    </tr>\n",
       "    <tr>\n",
       "      <th>3</th>\n",
       "      <td>2016-01-15 03:00:00</td>\n",
       "      <td>6.047977</td>\n",
       "      <td>9.977019</td>\n",
       "      <td>4.858634</td>\n",
       "      <td>42.689819</td>\n",
       "      <td>68.347543</td>\n",
       "      <td>10.422762</td>\n",
       "      <td>0.883763</td>\n",
       "      <td>16.532835</td>\n",
       "      <td>2.146849</td>\n",
       "      <td>...</td>\n",
       "      <td>14.036510</td>\n",
       "      <td>-500.857308</td>\n",
       "      <td>11.999550</td>\n",
       "      <td>-501.193686</td>\n",
       "      <td>9.970366</td>\n",
       "      <td>-499.201640</td>\n",
       "      <td>7.977324</td>\n",
       "      <td>-500.255908</td>\n",
       "      <td>14.005551</td>\n",
       "      <td>-599.996129</td>\n",
       "    </tr>\n",
       "    <tr>\n",
       "      <th>4</th>\n",
       "      <td>2016-01-15 04:00:00</td>\n",
       "      <td>6.148599</td>\n",
       "      <td>10.142511</td>\n",
       "      <td>4.939416</td>\n",
       "      <td>42.774141</td>\n",
       "      <td>66.927016</td>\n",
       "      <td>10.360302</td>\n",
       "      <td>0.792826</td>\n",
       "      <td>16.525686</td>\n",
       "      <td>2.055292</td>\n",
       "      <td>...</td>\n",
       "      <td>14.027298</td>\n",
       "      <td>-499.838632</td>\n",
       "      <td>11.953070</td>\n",
       "      <td>-501.053894</td>\n",
       "      <td>9.925709</td>\n",
       "      <td>-501.686727</td>\n",
       "      <td>7.894242</td>\n",
       "      <td>-500.356035</td>\n",
       "      <td>13.996647</td>\n",
       "      <td>-601.496691</td>\n",
       "    </tr>\n",
       "  </tbody>\n",
       "</table>\n",
       "<p>5 rows × 87 columns</p>\n",
       "</div>"
      ],
      "text/plain": [
       "                  date  final.output.concentrate_ag  \\\n",
       "0  2016-01-15 00:00:00                     6.055403   \n",
       "1  2016-01-15 01:00:00                     6.029369   \n",
       "2  2016-01-15 02:00:00                     6.055926   \n",
       "3  2016-01-15 03:00:00                     6.047977   \n",
       "4  2016-01-15 04:00:00                     6.148599   \n",
       "\n",
       "   final.output.concentrate_pb  final.output.concentrate_sol  \\\n",
       "0                     9.889648                      5.507324   \n",
       "1                     9.968944                      5.257781   \n",
       "2                    10.213995                      5.383759   \n",
       "3                     9.977019                      4.858634   \n",
       "4                    10.142511                      4.939416   \n",
       "\n",
       "   final.output.concentrate_au  final.output.recovery  final.output.tail_ag  \\\n",
       "0                    42.192020              70.541216             10.411962   \n",
       "1                    42.701629              69.266198             10.462676   \n",
       "2                    42.657501              68.116445             10.507046   \n",
       "3                    42.689819              68.347543             10.422762   \n",
       "4                    42.774141              66.927016             10.360302   \n",
       "\n",
       "   final.output.tail_pb  final.output.tail_sol  final.output.tail_au  ...  \\\n",
       "0              0.895447              16.904297              2.143149  ...   \n",
       "1              0.927452              16.634514              2.224930  ...   \n",
       "2              0.953716              16.208849              2.257889  ...   \n",
       "3              0.883763              16.532835              2.146849  ...   \n",
       "4              0.792826              16.525686              2.055292  ...   \n",
       "\n",
       "   secondary_cleaner.state.floatbank4_a_air  \\\n",
       "0                                 14.016835   \n",
       "1                                 13.992281   \n",
       "2                                 14.015015   \n",
       "3                                 14.036510   \n",
       "4                                 14.027298   \n",
       "\n",
       "   secondary_cleaner.state.floatbank4_a_level  \\\n",
       "0                                 -502.488007   \n",
       "1                                 -505.503262   \n",
       "2                                 -502.520901   \n",
       "3                                 -500.857308   \n",
       "4                                 -499.838632   \n",
       "\n",
       "   secondary_cleaner.state.floatbank4_b_air  \\\n",
       "0                                 12.099931   \n",
       "1                                 11.950531   \n",
       "2                                 11.912783   \n",
       "3                                 11.999550   \n",
       "4                                 11.953070   \n",
       "\n",
       "   secondary_cleaner.state.floatbank4_b_level  \\\n",
       "0                                 -504.715942   \n",
       "1                                 -501.331529   \n",
       "2                                 -501.133383   \n",
       "3                                 -501.193686   \n",
       "4                                 -501.053894   \n",
       "\n",
       "   secondary_cleaner.state.floatbank5_a_air  \\\n",
       "0                                  9.925633   \n",
       "1                                 10.039245   \n",
       "2                                 10.070913   \n",
       "3                                  9.970366   \n",
       "4                                  9.925709   \n",
       "\n",
       "   secondary_cleaner.state.floatbank5_a_level  \\\n",
       "0                                 -498.310211   \n",
       "1                                 -500.169983   \n",
       "2                                 -500.129135   \n",
       "3                                 -499.201640   \n",
       "4                                 -501.686727   \n",
       "\n",
       "   secondary_cleaner.state.floatbank5_b_air  \\\n",
       "0                                  8.079666   \n",
       "1                                  7.984757   \n",
       "2                                  8.013877   \n",
       "3                                  7.977324   \n",
       "4                                  7.894242   \n",
       "\n",
       "   secondary_cleaner.state.floatbank5_b_level  \\\n",
       "0                                 -500.470978   \n",
       "1                                 -500.582168   \n",
       "2                                 -500.517572   \n",
       "3                                 -500.255908   \n",
       "4                                 -500.356035   \n",
       "\n",
       "   secondary_cleaner.state.floatbank6_a_air  \\\n",
       "0                                 14.151341   \n",
       "1                                 13.998353   \n",
       "2                                 14.028663   \n",
       "3                                 14.005551   \n",
       "4                                 13.996647   \n",
       "\n",
       "   secondary_cleaner.state.floatbank6_a_level  \n",
       "0                                 -605.841980  \n",
       "1                                 -599.787184  \n",
       "2                                 -601.427363  \n",
       "3                                 -599.996129  \n",
       "4                                 -601.496691  \n",
       "\n",
       "[5 rows x 87 columns]"
      ]
     },
     "execution_count": 3,
     "metadata": {},
     "output_type": "execute_result"
    }
   ],
   "source": [
    "gold_recovery_train.head()"
   ]
  },
  {
   "cell_type": "code",
   "execution_count": 4,
   "id": "03526c7b",
   "metadata": {
    "scrolled": true
   },
   "outputs": [
    {
     "name": "stdout",
     "output_type": "stream",
     "text": [
      "<class 'pandas.core.frame.DataFrame'>\n",
      "RangeIndex: 14149 entries, 0 to 14148\n",
      "Data columns (total 87 columns):\n",
      " #   Column                                              Non-Null Count  Dtype  \n",
      "---  ------                                              --------------  -----  \n",
      " 0   date                                                14149 non-null  object \n",
      " 1   final.output.concentrate_ag                         14148 non-null  float64\n",
      " 2   final.output.concentrate_pb                         14148 non-null  float64\n",
      " 3   final.output.concentrate_sol                        13938 non-null  float64\n",
      " 4   final.output.concentrate_au                         14149 non-null  float64\n",
      " 5   final.output.recovery                               14149 non-null  float64\n",
      " 6   final.output.tail_ag                                14149 non-null  float64\n",
      " 7   final.output.tail_pb                                14049 non-null  float64\n",
      " 8   final.output.tail_sol                               14144 non-null  float64\n",
      " 9   final.output.tail_au                                14149 non-null  float64\n",
      " 10  primary_cleaner.input.sulfate                       14129 non-null  float64\n",
      " 11  primary_cleaner.input.depressant                    14117 non-null  float64\n",
      " 12  primary_cleaner.input.feed_size                     14149 non-null  float64\n",
      " 13  primary_cleaner.input.xanthate                      14049 non-null  float64\n",
      " 14  primary_cleaner.output.concentrate_ag               14149 non-null  float64\n",
      " 15  primary_cleaner.output.concentrate_pb               14063 non-null  float64\n",
      " 16  primary_cleaner.output.concentrate_sol              13863 non-null  float64\n",
      " 17  primary_cleaner.output.concentrate_au               14149 non-null  float64\n",
      " 18  primary_cleaner.output.tail_ag                      14148 non-null  float64\n",
      " 19  primary_cleaner.output.tail_pb                      14134 non-null  float64\n",
      " 20  primary_cleaner.output.tail_sol                     14103 non-null  float64\n",
      " 21  primary_cleaner.output.tail_au                      14149 non-null  float64\n",
      " 22  primary_cleaner.state.floatbank8_a_air              14145 non-null  float64\n",
      " 23  primary_cleaner.state.floatbank8_a_level            14148 non-null  float64\n",
      " 24  primary_cleaner.state.floatbank8_b_air              14145 non-null  float64\n",
      " 25  primary_cleaner.state.floatbank8_b_level            14148 non-null  float64\n",
      " 26  primary_cleaner.state.floatbank8_c_air              14147 non-null  float64\n",
      " 27  primary_cleaner.state.floatbank8_c_level            14148 non-null  float64\n",
      " 28  primary_cleaner.state.floatbank8_d_air              14146 non-null  float64\n",
      " 29  primary_cleaner.state.floatbank8_d_level            14148 non-null  float64\n",
      " 30  rougher.calculation.sulfate_to_au_concentrate       14148 non-null  float64\n",
      " 31  rougher.calculation.floatbank10_sulfate_to_au_feed  14148 non-null  float64\n",
      " 32  rougher.calculation.floatbank11_sulfate_to_au_feed  14148 non-null  float64\n",
      " 33  rougher.calculation.au_pb_ratio                     14149 non-null  float64\n",
      " 34  rougher.input.feed_ag                               14149 non-null  float64\n",
      " 35  rougher.input.feed_pb                               14049 non-null  float64\n",
      " 36  rougher.input.feed_rate                             14141 non-null  float64\n",
      " 37  rougher.input.feed_size                             14005 non-null  float64\n",
      " 38  rougher.input.feed_sol                              14071 non-null  float64\n",
      " 39  rougher.input.feed_au                               14149 non-null  float64\n",
      " 40  rougher.input.floatbank10_sulfate                   14120 non-null  float64\n",
      " 41  rougher.input.floatbank10_xanthate                  14141 non-null  float64\n",
      " 42  rougher.input.floatbank11_sulfate                   14113 non-null  float64\n",
      " 43  rougher.input.floatbank11_xanthate                  13721 non-null  float64\n",
      " 44  rougher.output.concentrate_ag                       14149 non-null  float64\n",
      " 45  rougher.output.concentrate_pb                       14149 non-null  float64\n",
      " 46  rougher.output.concentrate_sol                      14127 non-null  float64\n",
      " 47  rougher.output.concentrate_au                       14149 non-null  float64\n",
      " 48  rougher.output.recovery                             14149 non-null  float64\n",
      " 49  rougher.output.tail_ag                              14148 non-null  float64\n",
      " 50  rougher.output.tail_pb                              14149 non-null  float64\n",
      " 51  rougher.output.tail_sol                             14149 non-null  float64\n",
      " 52  rougher.output.tail_au                              14149 non-null  float64\n",
      " 53  rougher.state.floatbank10_a_air                     14148 non-null  float64\n",
      " 54  rougher.state.floatbank10_a_level                   14148 non-null  float64\n",
      " 55  rougher.state.floatbank10_b_air                     14148 non-null  float64\n",
      " 56  rougher.state.floatbank10_b_level                   14148 non-null  float64\n",
      " 57  rougher.state.floatbank10_c_air                     14148 non-null  float64\n",
      " 58  rougher.state.floatbank10_c_level                   14148 non-null  float64\n",
      " 59  rougher.state.floatbank10_d_air                     14149 non-null  float64\n",
      " 60  rougher.state.floatbank10_d_level                   14149 non-null  float64\n",
      " 61  rougher.state.floatbank10_e_air                     13713 non-null  float64\n",
      " 62  rougher.state.floatbank10_e_level                   14149 non-null  float64\n",
      " 63  rougher.state.floatbank10_f_air                     14149 non-null  float64\n",
      " 64  rougher.state.floatbank10_f_level                   14149 non-null  float64\n",
      " 65  secondary_cleaner.output.tail_ag                    14147 non-null  float64\n",
      " 66  secondary_cleaner.output.tail_pb                    14139 non-null  float64\n",
      " 67  secondary_cleaner.output.tail_sol                   12544 non-null  float64\n",
      " 68  secondary_cleaner.output.tail_au                    14149 non-null  float64\n",
      " 69  secondary_cleaner.state.floatbank2_a_air            13932 non-null  float64\n",
      " 70  secondary_cleaner.state.floatbank2_a_level          14148 non-null  float64\n",
      " 71  secondary_cleaner.state.floatbank2_b_air            14128 non-null  float64\n",
      " 72  secondary_cleaner.state.floatbank2_b_level          14148 non-null  float64\n",
      " 73  secondary_cleaner.state.floatbank3_a_air            14145 non-null  float64\n",
      " 74  secondary_cleaner.state.floatbank3_a_level          14148 non-null  float64\n",
      " 75  secondary_cleaner.state.floatbank3_b_air            14148 non-null  float64\n",
      " 76  secondary_cleaner.state.floatbank3_b_level          14148 non-null  float64\n",
      " 77  secondary_cleaner.state.floatbank4_a_air            14143 non-null  float64\n",
      " 78  secondary_cleaner.state.floatbank4_a_level          14148 non-null  float64\n",
      " 79  secondary_cleaner.state.floatbank4_b_air            14148 non-null  float64\n",
      " 80  secondary_cleaner.state.floatbank4_b_level          14148 non-null  float64\n",
      " 81  secondary_cleaner.state.floatbank5_a_air            14148 non-null  float64\n",
      " 82  secondary_cleaner.state.floatbank5_a_level          14148 non-null  float64\n",
      " 83  secondary_cleaner.state.floatbank5_b_air            14148 non-null  float64\n",
      " 84  secondary_cleaner.state.floatbank5_b_level          14148 non-null  float64\n",
      " 85  secondary_cleaner.state.floatbank6_a_air            14147 non-null  float64\n",
      " 86  secondary_cleaner.state.floatbank6_a_level          14148 non-null  float64\n",
      "dtypes: float64(86), object(1)\n",
      "memory usage: 9.4+ MB\n"
     ]
    }
   ],
   "source": [
    "gold_recovery_train.info()"
   ]
  },
  {
   "cell_type": "code",
   "execution_count": 5,
   "id": "08eb11b4",
   "metadata": {
    "scrolled": true
   },
   "outputs": [
    {
     "data": {
      "text/html": [
       "<div>\n",
       "<style scoped>\n",
       "    .dataframe tbody tr th:only-of-type {\n",
       "        vertical-align: middle;\n",
       "    }\n",
       "\n",
       "    .dataframe tbody tr th {\n",
       "        vertical-align: top;\n",
       "    }\n",
       "\n",
       "    .dataframe thead th {\n",
       "        text-align: right;\n",
       "    }\n",
       "</style>\n",
       "<table border=\"1\" class=\"dataframe\">\n",
       "  <thead>\n",
       "    <tr style=\"text-align: right;\">\n",
       "      <th></th>\n",
       "      <th>final.output.concentrate_ag</th>\n",
       "      <th>final.output.concentrate_pb</th>\n",
       "      <th>final.output.concentrate_sol</th>\n",
       "      <th>final.output.concentrate_au</th>\n",
       "      <th>final.output.recovery</th>\n",
       "      <th>final.output.tail_ag</th>\n",
       "      <th>final.output.tail_pb</th>\n",
       "      <th>final.output.tail_sol</th>\n",
       "      <th>final.output.tail_au</th>\n",
       "      <th>primary_cleaner.input.sulfate</th>\n",
       "      <th>...</th>\n",
       "      <th>secondary_cleaner.state.floatbank4_a_air</th>\n",
       "      <th>secondary_cleaner.state.floatbank4_a_level</th>\n",
       "      <th>secondary_cleaner.state.floatbank4_b_air</th>\n",
       "      <th>secondary_cleaner.state.floatbank4_b_level</th>\n",
       "      <th>secondary_cleaner.state.floatbank5_a_air</th>\n",
       "      <th>secondary_cleaner.state.floatbank5_a_level</th>\n",
       "      <th>secondary_cleaner.state.floatbank5_b_air</th>\n",
       "      <th>secondary_cleaner.state.floatbank5_b_level</th>\n",
       "      <th>secondary_cleaner.state.floatbank6_a_air</th>\n",
       "      <th>secondary_cleaner.state.floatbank6_a_level</th>\n",
       "    </tr>\n",
       "  </thead>\n",
       "  <tbody>\n",
       "    <tr>\n",
       "      <th>count</th>\n",
       "      <td>14148.000000</td>\n",
       "      <td>14148.000000</td>\n",
       "      <td>13938.000000</td>\n",
       "      <td>14149.000000</td>\n",
       "      <td>14149.000000</td>\n",
       "      <td>14149.000000</td>\n",
       "      <td>14049.000000</td>\n",
       "      <td>14144.000000</td>\n",
       "      <td>14149.000000</td>\n",
       "      <td>14129.000000</td>\n",
       "      <td>...</td>\n",
       "      <td>14143.000000</td>\n",
       "      <td>14148.000000</td>\n",
       "      <td>14148.000000</td>\n",
       "      <td>14148.000000</td>\n",
       "      <td>14148.000000</td>\n",
       "      <td>14148.000000</td>\n",
       "      <td>14148.000000</td>\n",
       "      <td>14148.000000</td>\n",
       "      <td>14147.000000</td>\n",
       "      <td>14148.000000</td>\n",
       "    </tr>\n",
       "    <tr>\n",
       "      <th>mean</th>\n",
       "      <td>5.142034</td>\n",
       "      <td>10.132960</td>\n",
       "      <td>9.202849</td>\n",
       "      <td>44.003792</td>\n",
       "      <td>66.518832</td>\n",
       "      <td>9.607035</td>\n",
       "      <td>2.597298</td>\n",
       "      <td>10.512122</td>\n",
       "      <td>2.918421</td>\n",
       "      <td>133.320659</td>\n",
       "      <td>...</td>\n",
       "      <td>19.985454</td>\n",
       "      <td>-478.696836</td>\n",
       "      <td>15.487065</td>\n",
       "      <td>-460.229416</td>\n",
       "      <td>16.775136</td>\n",
       "      <td>-483.956022</td>\n",
       "      <td>13.064590</td>\n",
       "      <td>-483.966564</td>\n",
       "      <td>19.577539</td>\n",
       "      <td>-506.798480</td>\n",
       "    </tr>\n",
       "    <tr>\n",
       "      <th>std</th>\n",
       "      <td>1.369586</td>\n",
       "      <td>1.654930</td>\n",
       "      <td>2.790516</td>\n",
       "      <td>4.905261</td>\n",
       "      <td>10.295402</td>\n",
       "      <td>2.319069</td>\n",
       "      <td>0.971843</td>\n",
       "      <td>3.003617</td>\n",
       "      <td>0.903712</td>\n",
       "      <td>39.431659</td>\n",
       "      <td>...</td>\n",
       "      <td>5.657723</td>\n",
       "      <td>50.736021</td>\n",
       "      <td>5.255655</td>\n",
       "      <td>58.843586</td>\n",
       "      <td>5.831906</td>\n",
       "      <td>37.892788</td>\n",
       "      <td>5.765617</td>\n",
       "      <td>39.207913</td>\n",
       "      <td>5.764417</td>\n",
       "      <td>37.079249</td>\n",
       "    </tr>\n",
       "    <tr>\n",
       "      <th>min</th>\n",
       "      <td>0.000000</td>\n",
       "      <td>0.000000</td>\n",
       "      <td>0.000000</td>\n",
       "      <td>0.000000</td>\n",
       "      <td>0.000000</td>\n",
       "      <td>0.000000</td>\n",
       "      <td>0.000000</td>\n",
       "      <td>0.000000</td>\n",
       "      <td>0.000000</td>\n",
       "      <td>0.003112</td>\n",
       "      <td>...</td>\n",
       "      <td>0.000000</td>\n",
       "      <td>-799.709069</td>\n",
       "      <td>0.000000</td>\n",
       "      <td>-799.889113</td>\n",
       "      <td>-0.372054</td>\n",
       "      <td>-797.142475</td>\n",
       "      <td>0.646208</td>\n",
       "      <td>-800.006180</td>\n",
       "      <td>0.195324</td>\n",
       "      <td>-809.398668</td>\n",
       "    </tr>\n",
       "    <tr>\n",
       "      <th>25%</th>\n",
       "      <td>4.211620</td>\n",
       "      <td>9.297355</td>\n",
       "      <td>7.484645</td>\n",
       "      <td>43.276111</td>\n",
       "      <td>62.545817</td>\n",
       "      <td>7.997429</td>\n",
       "      <td>1.905973</td>\n",
       "      <td>8.811324</td>\n",
       "      <td>2.368607</td>\n",
       "      <td>107.006651</td>\n",
       "      <td>...</td>\n",
       "      <td>14.990775</td>\n",
       "      <td>-500.628656</td>\n",
       "      <td>11.894558</td>\n",
       "      <td>-500.149000</td>\n",
       "      <td>11.083980</td>\n",
       "      <td>-500.363177</td>\n",
       "      <td>8.994405</td>\n",
       "      <td>-500.105994</td>\n",
       "      <td>14.989304</td>\n",
       "      <td>-500.745104</td>\n",
       "    </tr>\n",
       "    <tr>\n",
       "      <th>50%</th>\n",
       "      <td>4.994652</td>\n",
       "      <td>10.297144</td>\n",
       "      <td>8.845462</td>\n",
       "      <td>44.872436</td>\n",
       "      <td>67.432775</td>\n",
       "      <td>9.480270</td>\n",
       "      <td>2.592022</td>\n",
       "      <td>10.514621</td>\n",
       "      <td>2.851025</td>\n",
       "      <td>133.018328</td>\n",
       "      <td>...</td>\n",
       "      <td>20.001789</td>\n",
       "      <td>-499.681450</td>\n",
       "      <td>14.975536</td>\n",
       "      <td>-499.388738</td>\n",
       "      <td>17.932223</td>\n",
       "      <td>-499.702452</td>\n",
       "      <td>11.997547</td>\n",
       "      <td>-499.914556</td>\n",
       "      <td>19.984175</td>\n",
       "      <td>-500.061431</td>\n",
       "    </tr>\n",
       "    <tr>\n",
       "      <th>75%</th>\n",
       "      <td>5.859540</td>\n",
       "      <td>11.170603</td>\n",
       "      <td>10.487508</td>\n",
       "      <td>46.166425</td>\n",
       "      <td>72.346428</td>\n",
       "      <td>11.003707</td>\n",
       "      <td>3.241723</td>\n",
       "      <td>11.933009</td>\n",
       "      <td>3.434764</td>\n",
       "      <td>159.825396</td>\n",
       "      <td>...</td>\n",
       "      <td>24.990826</td>\n",
       "      <td>-477.472413</td>\n",
       "      <td>20.059375</td>\n",
       "      <td>-400.039008</td>\n",
       "      <td>21.346550</td>\n",
       "      <td>-487.712108</td>\n",
       "      <td>17.982903</td>\n",
       "      <td>-453.186936</td>\n",
       "      <td>24.991623</td>\n",
       "      <td>-499.536466</td>\n",
       "    </tr>\n",
       "    <tr>\n",
       "      <th>max</th>\n",
       "      <td>16.001945</td>\n",
       "      <td>17.031899</td>\n",
       "      <td>18.124851</td>\n",
       "      <td>52.756638</td>\n",
       "      <td>100.000000</td>\n",
       "      <td>19.552149</td>\n",
       "      <td>5.639565</td>\n",
       "      <td>22.317730</td>\n",
       "      <td>8.197408</td>\n",
       "      <td>250.127834</td>\n",
       "      <td>...</td>\n",
       "      <td>30.115735</td>\n",
       "      <td>-245.239184</td>\n",
       "      <td>24.007913</td>\n",
       "      <td>-145.071088</td>\n",
       "      <td>43.709931</td>\n",
       "      <td>-275.073125</td>\n",
       "      <td>27.926001</td>\n",
       "      <td>-157.396071</td>\n",
       "      <td>32.188906</td>\n",
       "      <td>-104.427459</td>\n",
       "    </tr>\n",
       "  </tbody>\n",
       "</table>\n",
       "<p>8 rows × 86 columns</p>\n",
       "</div>"
      ],
      "text/plain": [
       "       final.output.concentrate_ag  final.output.concentrate_pb  \\\n",
       "count                 14148.000000                 14148.000000   \n",
       "mean                      5.142034                    10.132960   \n",
       "std                       1.369586                     1.654930   \n",
       "min                       0.000000                     0.000000   \n",
       "25%                       4.211620                     9.297355   \n",
       "50%                       4.994652                    10.297144   \n",
       "75%                       5.859540                    11.170603   \n",
       "max                      16.001945                    17.031899   \n",
       "\n",
       "       final.output.concentrate_sol  final.output.concentrate_au  \\\n",
       "count                  13938.000000                 14149.000000   \n",
       "mean                       9.202849                    44.003792   \n",
       "std                        2.790516                     4.905261   \n",
       "min                        0.000000                     0.000000   \n",
       "25%                        7.484645                    43.276111   \n",
       "50%                        8.845462                    44.872436   \n",
       "75%                       10.487508                    46.166425   \n",
       "max                       18.124851                    52.756638   \n",
       "\n",
       "       final.output.recovery  final.output.tail_ag  final.output.tail_pb  \\\n",
       "count           14149.000000          14149.000000          14049.000000   \n",
       "mean               66.518832              9.607035              2.597298   \n",
       "std                10.295402              2.319069              0.971843   \n",
       "min                 0.000000              0.000000              0.000000   \n",
       "25%                62.545817              7.997429              1.905973   \n",
       "50%                67.432775              9.480270              2.592022   \n",
       "75%                72.346428             11.003707              3.241723   \n",
       "max               100.000000             19.552149              5.639565   \n",
       "\n",
       "       final.output.tail_sol  final.output.tail_au  \\\n",
       "count           14144.000000          14149.000000   \n",
       "mean               10.512122              2.918421   \n",
       "std                 3.003617              0.903712   \n",
       "min                 0.000000              0.000000   \n",
       "25%                 8.811324              2.368607   \n",
       "50%                10.514621              2.851025   \n",
       "75%                11.933009              3.434764   \n",
       "max                22.317730              8.197408   \n",
       "\n",
       "       primary_cleaner.input.sulfate  ...  \\\n",
       "count                   14129.000000  ...   \n",
       "mean                      133.320659  ...   \n",
       "std                        39.431659  ...   \n",
       "min                         0.003112  ...   \n",
       "25%                       107.006651  ...   \n",
       "50%                       133.018328  ...   \n",
       "75%                       159.825396  ...   \n",
       "max                       250.127834  ...   \n",
       "\n",
       "       secondary_cleaner.state.floatbank4_a_air  \\\n",
       "count                              14143.000000   \n",
       "mean                                  19.985454   \n",
       "std                                    5.657723   \n",
       "min                                    0.000000   \n",
       "25%                                   14.990775   \n",
       "50%                                   20.001789   \n",
       "75%                                   24.990826   \n",
       "max                                   30.115735   \n",
       "\n",
       "       secondary_cleaner.state.floatbank4_a_level  \\\n",
       "count                                14148.000000   \n",
       "mean                                  -478.696836   \n",
       "std                                     50.736021   \n",
       "min                                   -799.709069   \n",
       "25%                                   -500.628656   \n",
       "50%                                   -499.681450   \n",
       "75%                                   -477.472413   \n",
       "max                                   -245.239184   \n",
       "\n",
       "       secondary_cleaner.state.floatbank4_b_air  \\\n",
       "count                              14148.000000   \n",
       "mean                                  15.487065   \n",
       "std                                    5.255655   \n",
       "min                                    0.000000   \n",
       "25%                                   11.894558   \n",
       "50%                                   14.975536   \n",
       "75%                                   20.059375   \n",
       "max                                   24.007913   \n",
       "\n",
       "       secondary_cleaner.state.floatbank4_b_level  \\\n",
       "count                                14148.000000   \n",
       "mean                                  -460.229416   \n",
       "std                                     58.843586   \n",
       "min                                   -799.889113   \n",
       "25%                                   -500.149000   \n",
       "50%                                   -499.388738   \n",
       "75%                                   -400.039008   \n",
       "max                                   -145.071088   \n",
       "\n",
       "       secondary_cleaner.state.floatbank5_a_air  \\\n",
       "count                              14148.000000   \n",
       "mean                                  16.775136   \n",
       "std                                    5.831906   \n",
       "min                                   -0.372054   \n",
       "25%                                   11.083980   \n",
       "50%                                   17.932223   \n",
       "75%                                   21.346550   \n",
       "max                                   43.709931   \n",
       "\n",
       "       secondary_cleaner.state.floatbank5_a_level  \\\n",
       "count                                14148.000000   \n",
       "mean                                  -483.956022   \n",
       "std                                     37.892788   \n",
       "min                                   -797.142475   \n",
       "25%                                   -500.363177   \n",
       "50%                                   -499.702452   \n",
       "75%                                   -487.712108   \n",
       "max                                   -275.073125   \n",
       "\n",
       "       secondary_cleaner.state.floatbank5_b_air  \\\n",
       "count                              14148.000000   \n",
       "mean                                  13.064590   \n",
       "std                                    5.765617   \n",
       "min                                    0.646208   \n",
       "25%                                    8.994405   \n",
       "50%                                   11.997547   \n",
       "75%                                   17.982903   \n",
       "max                                   27.926001   \n",
       "\n",
       "       secondary_cleaner.state.floatbank5_b_level  \\\n",
       "count                                14148.000000   \n",
       "mean                                  -483.966564   \n",
       "std                                     39.207913   \n",
       "min                                   -800.006180   \n",
       "25%                                   -500.105994   \n",
       "50%                                   -499.914556   \n",
       "75%                                   -453.186936   \n",
       "max                                   -157.396071   \n",
       "\n",
       "       secondary_cleaner.state.floatbank6_a_air  \\\n",
       "count                              14147.000000   \n",
       "mean                                  19.577539   \n",
       "std                                    5.764417   \n",
       "min                                    0.195324   \n",
       "25%                                   14.989304   \n",
       "50%                                   19.984175   \n",
       "75%                                   24.991623   \n",
       "max                                   32.188906   \n",
       "\n",
       "       secondary_cleaner.state.floatbank6_a_level  \n",
       "count                                14148.000000  \n",
       "mean                                  -506.798480  \n",
       "std                                     37.079249  \n",
       "min                                   -809.398668  \n",
       "25%                                   -500.745104  \n",
       "50%                                   -500.061431  \n",
       "75%                                   -499.536466  \n",
       "max                                   -104.427459  \n",
       "\n",
       "[8 rows x 86 columns]"
      ]
     },
     "execution_count": 5,
     "metadata": {},
     "output_type": "execute_result"
    }
   ],
   "source": [
    "gold_recovery_train.describe()"
   ]
  },
  {
   "cell_type": "code",
   "execution_count": 6,
   "id": "a0296592",
   "metadata": {
    "scrolled": true
   },
   "outputs": [
    {
     "data": {
      "text/plain": [
       "secondary_cleaner.output.tail_sol           1605\n",
       "rougher.state.floatbank10_e_air              436\n",
       "rougher.input.floatbank11_xanthate           428\n",
       "primary_cleaner.output.concentrate_sol       286\n",
       "secondary_cleaner.state.floatbank2_a_air     217\n",
       "dtype: int64"
      ]
     },
     "execution_count": 6,
     "metadata": {},
     "output_type": "execute_result"
    }
   ],
   "source": [
    "gold_recovery_train.isna().sum().sort_values(ascending=False).head()"
   ]
  },
  {
   "cell_type": "markdown",
   "id": "aadcd485",
   "metadata": {},
   "source": [
    "Во многих столбцах есть пропуски, значительные пропуски (больше 1к) есть только в одном столбце: `secondary_cleaner.output.tail_sol`\n",
    "\n",
    "\n",
    "Также видно, что столбец с датой не в том формате, нужно будет перевести в DateTime"
   ]
  },
  {
   "cell_type": "code",
   "execution_count": 7,
   "id": "cd538a61",
   "metadata": {
    "scrolled": true
   },
   "outputs": [
    {
     "data": {
      "text/html": [
       "<div>\n",
       "<style scoped>\n",
       "    .dataframe tbody tr th:only-of-type {\n",
       "        vertical-align: middle;\n",
       "    }\n",
       "\n",
       "    .dataframe tbody tr th {\n",
       "        vertical-align: top;\n",
       "    }\n",
       "\n",
       "    .dataframe thead th {\n",
       "        text-align: right;\n",
       "    }\n",
       "</style>\n",
       "<table border=\"1\" class=\"dataframe\">\n",
       "  <thead>\n",
       "    <tr style=\"text-align: right;\">\n",
       "      <th></th>\n",
       "      <th>date</th>\n",
       "      <th>primary_cleaner.input.sulfate</th>\n",
       "      <th>primary_cleaner.input.depressant</th>\n",
       "      <th>primary_cleaner.input.feed_size</th>\n",
       "      <th>primary_cleaner.input.xanthate</th>\n",
       "      <th>primary_cleaner.state.floatbank8_a_air</th>\n",
       "      <th>primary_cleaner.state.floatbank8_a_level</th>\n",
       "      <th>primary_cleaner.state.floatbank8_b_air</th>\n",
       "      <th>primary_cleaner.state.floatbank8_b_level</th>\n",
       "      <th>primary_cleaner.state.floatbank8_c_air</th>\n",
       "      <th>...</th>\n",
       "      <th>secondary_cleaner.state.floatbank4_a_air</th>\n",
       "      <th>secondary_cleaner.state.floatbank4_a_level</th>\n",
       "      <th>secondary_cleaner.state.floatbank4_b_air</th>\n",
       "      <th>secondary_cleaner.state.floatbank4_b_level</th>\n",
       "      <th>secondary_cleaner.state.floatbank5_a_air</th>\n",
       "      <th>secondary_cleaner.state.floatbank5_a_level</th>\n",
       "      <th>secondary_cleaner.state.floatbank5_b_air</th>\n",
       "      <th>secondary_cleaner.state.floatbank5_b_level</th>\n",
       "      <th>secondary_cleaner.state.floatbank6_a_air</th>\n",
       "      <th>secondary_cleaner.state.floatbank6_a_level</th>\n",
       "    </tr>\n",
       "  </thead>\n",
       "  <tbody>\n",
       "    <tr>\n",
       "      <th>0</th>\n",
       "      <td>2016-09-01 00:59:59</td>\n",
       "      <td>210.800909</td>\n",
       "      <td>14.993118</td>\n",
       "      <td>8.080000</td>\n",
       "      <td>1.005021</td>\n",
       "      <td>1398.981301</td>\n",
       "      <td>-500.225577</td>\n",
       "      <td>1399.144926</td>\n",
       "      <td>-499.919735</td>\n",
       "      <td>1400.102998</td>\n",
       "      <td>...</td>\n",
       "      <td>12.023554</td>\n",
       "      <td>-497.795834</td>\n",
       "      <td>8.016656</td>\n",
       "      <td>-501.289139</td>\n",
       "      <td>7.946562</td>\n",
       "      <td>-432.317850</td>\n",
       "      <td>4.872511</td>\n",
       "      <td>-500.037437</td>\n",
       "      <td>26.705889</td>\n",
       "      <td>-499.709414</td>\n",
       "    </tr>\n",
       "    <tr>\n",
       "      <th>1</th>\n",
       "      <td>2016-09-01 01:59:59</td>\n",
       "      <td>215.392455</td>\n",
       "      <td>14.987471</td>\n",
       "      <td>8.080000</td>\n",
       "      <td>0.990469</td>\n",
       "      <td>1398.777912</td>\n",
       "      <td>-500.057435</td>\n",
       "      <td>1398.055362</td>\n",
       "      <td>-499.778182</td>\n",
       "      <td>1396.151033</td>\n",
       "      <td>...</td>\n",
       "      <td>12.058140</td>\n",
       "      <td>-498.695773</td>\n",
       "      <td>8.130979</td>\n",
       "      <td>-499.634209</td>\n",
       "      <td>7.958270</td>\n",
       "      <td>-525.839648</td>\n",
       "      <td>4.878850</td>\n",
       "      <td>-500.162375</td>\n",
       "      <td>25.019940</td>\n",
       "      <td>-499.819438</td>\n",
       "    </tr>\n",
       "    <tr>\n",
       "      <th>2</th>\n",
       "      <td>2016-09-01 02:59:59</td>\n",
       "      <td>215.259946</td>\n",
       "      <td>12.884934</td>\n",
       "      <td>7.786667</td>\n",
       "      <td>0.996043</td>\n",
       "      <td>1398.493666</td>\n",
       "      <td>-500.868360</td>\n",
       "      <td>1398.860436</td>\n",
       "      <td>-499.764529</td>\n",
       "      <td>1398.075709</td>\n",
       "      <td>...</td>\n",
       "      <td>11.962366</td>\n",
       "      <td>-498.767484</td>\n",
       "      <td>8.096893</td>\n",
       "      <td>-500.827423</td>\n",
       "      <td>8.071056</td>\n",
       "      <td>-500.801673</td>\n",
       "      <td>4.905125</td>\n",
       "      <td>-499.828510</td>\n",
       "      <td>24.994862</td>\n",
       "      <td>-500.622559</td>\n",
       "    </tr>\n",
       "    <tr>\n",
       "      <th>3</th>\n",
       "      <td>2016-09-01 03:59:59</td>\n",
       "      <td>215.336236</td>\n",
       "      <td>12.006805</td>\n",
       "      <td>7.640000</td>\n",
       "      <td>0.863514</td>\n",
       "      <td>1399.618111</td>\n",
       "      <td>-498.863574</td>\n",
       "      <td>1397.440120</td>\n",
       "      <td>-499.211024</td>\n",
       "      <td>1400.129303</td>\n",
       "      <td>...</td>\n",
       "      <td>12.033091</td>\n",
       "      <td>-498.350935</td>\n",
       "      <td>8.074946</td>\n",
       "      <td>-499.474407</td>\n",
       "      <td>7.897085</td>\n",
       "      <td>-500.868509</td>\n",
       "      <td>4.931400</td>\n",
       "      <td>-499.963623</td>\n",
       "      <td>24.948919</td>\n",
       "      <td>-498.709987</td>\n",
       "    </tr>\n",
       "    <tr>\n",
       "      <th>4</th>\n",
       "      <td>2016-09-01 04:59:59</td>\n",
       "      <td>199.099327</td>\n",
       "      <td>10.682530</td>\n",
       "      <td>7.530000</td>\n",
       "      <td>0.805575</td>\n",
       "      <td>1401.268123</td>\n",
       "      <td>-500.808305</td>\n",
       "      <td>1398.128818</td>\n",
       "      <td>-499.504543</td>\n",
       "      <td>1402.172226</td>\n",
       "      <td>...</td>\n",
       "      <td>12.025367</td>\n",
       "      <td>-500.786497</td>\n",
       "      <td>8.054678</td>\n",
       "      <td>-500.397500</td>\n",
       "      <td>8.107890</td>\n",
       "      <td>-509.526725</td>\n",
       "      <td>4.957674</td>\n",
       "      <td>-500.360026</td>\n",
       "      <td>25.003331</td>\n",
       "      <td>-500.856333</td>\n",
       "    </tr>\n",
       "  </tbody>\n",
       "</table>\n",
       "<p>5 rows × 53 columns</p>\n",
       "</div>"
      ],
      "text/plain": [
       "                  date  primary_cleaner.input.sulfate  \\\n",
       "0  2016-09-01 00:59:59                     210.800909   \n",
       "1  2016-09-01 01:59:59                     215.392455   \n",
       "2  2016-09-01 02:59:59                     215.259946   \n",
       "3  2016-09-01 03:59:59                     215.336236   \n",
       "4  2016-09-01 04:59:59                     199.099327   \n",
       "\n",
       "   primary_cleaner.input.depressant  primary_cleaner.input.feed_size  \\\n",
       "0                         14.993118                         8.080000   \n",
       "1                         14.987471                         8.080000   \n",
       "2                         12.884934                         7.786667   \n",
       "3                         12.006805                         7.640000   \n",
       "4                         10.682530                         7.530000   \n",
       "\n",
       "   primary_cleaner.input.xanthate  primary_cleaner.state.floatbank8_a_air  \\\n",
       "0                        1.005021                             1398.981301   \n",
       "1                        0.990469                             1398.777912   \n",
       "2                        0.996043                             1398.493666   \n",
       "3                        0.863514                             1399.618111   \n",
       "4                        0.805575                             1401.268123   \n",
       "\n",
       "   primary_cleaner.state.floatbank8_a_level  \\\n",
       "0                               -500.225577   \n",
       "1                               -500.057435   \n",
       "2                               -500.868360   \n",
       "3                               -498.863574   \n",
       "4                               -500.808305   \n",
       "\n",
       "   primary_cleaner.state.floatbank8_b_air  \\\n",
       "0                             1399.144926   \n",
       "1                             1398.055362   \n",
       "2                             1398.860436   \n",
       "3                             1397.440120   \n",
       "4                             1398.128818   \n",
       "\n",
       "   primary_cleaner.state.floatbank8_b_level  \\\n",
       "0                               -499.919735   \n",
       "1                               -499.778182   \n",
       "2                               -499.764529   \n",
       "3                               -499.211024   \n",
       "4                               -499.504543   \n",
       "\n",
       "   primary_cleaner.state.floatbank8_c_air  ...  \\\n",
       "0                             1400.102998  ...   \n",
       "1                             1396.151033  ...   \n",
       "2                             1398.075709  ...   \n",
       "3                             1400.129303  ...   \n",
       "4                             1402.172226  ...   \n",
       "\n",
       "   secondary_cleaner.state.floatbank4_a_air  \\\n",
       "0                                 12.023554   \n",
       "1                                 12.058140   \n",
       "2                                 11.962366   \n",
       "3                                 12.033091   \n",
       "4                                 12.025367   \n",
       "\n",
       "   secondary_cleaner.state.floatbank4_a_level  \\\n",
       "0                                 -497.795834   \n",
       "1                                 -498.695773   \n",
       "2                                 -498.767484   \n",
       "3                                 -498.350935   \n",
       "4                                 -500.786497   \n",
       "\n",
       "   secondary_cleaner.state.floatbank4_b_air  \\\n",
       "0                                  8.016656   \n",
       "1                                  8.130979   \n",
       "2                                  8.096893   \n",
       "3                                  8.074946   \n",
       "4                                  8.054678   \n",
       "\n",
       "   secondary_cleaner.state.floatbank4_b_level  \\\n",
       "0                                 -501.289139   \n",
       "1                                 -499.634209   \n",
       "2                                 -500.827423   \n",
       "3                                 -499.474407   \n",
       "4                                 -500.397500   \n",
       "\n",
       "   secondary_cleaner.state.floatbank5_a_air  \\\n",
       "0                                  7.946562   \n",
       "1                                  7.958270   \n",
       "2                                  8.071056   \n",
       "3                                  7.897085   \n",
       "4                                  8.107890   \n",
       "\n",
       "   secondary_cleaner.state.floatbank5_a_level  \\\n",
       "0                                 -432.317850   \n",
       "1                                 -525.839648   \n",
       "2                                 -500.801673   \n",
       "3                                 -500.868509   \n",
       "4                                 -509.526725   \n",
       "\n",
       "   secondary_cleaner.state.floatbank5_b_air  \\\n",
       "0                                  4.872511   \n",
       "1                                  4.878850   \n",
       "2                                  4.905125   \n",
       "3                                  4.931400   \n",
       "4                                  4.957674   \n",
       "\n",
       "   secondary_cleaner.state.floatbank5_b_level  \\\n",
       "0                                 -500.037437   \n",
       "1                                 -500.162375   \n",
       "2                                 -499.828510   \n",
       "3                                 -499.963623   \n",
       "4                                 -500.360026   \n",
       "\n",
       "   secondary_cleaner.state.floatbank6_a_air  \\\n",
       "0                                 26.705889   \n",
       "1                                 25.019940   \n",
       "2                                 24.994862   \n",
       "3                                 24.948919   \n",
       "4                                 25.003331   \n",
       "\n",
       "   secondary_cleaner.state.floatbank6_a_level  \n",
       "0                                 -499.709414  \n",
       "1                                 -499.819438  \n",
       "2                                 -500.622559  \n",
       "3                                 -498.709987  \n",
       "4                                 -500.856333  \n",
       "\n",
       "[5 rows x 53 columns]"
      ]
     },
     "execution_count": 7,
     "metadata": {},
     "output_type": "execute_result"
    }
   ],
   "source": [
    "gold_recovery_test.head()"
   ]
  },
  {
   "cell_type": "code",
   "execution_count": 8,
   "id": "bca78c0d",
   "metadata": {
    "scrolled": true
   },
   "outputs": [
    {
     "name": "stdout",
     "output_type": "stream",
     "text": [
      "<class 'pandas.core.frame.DataFrame'>\n",
      "RangeIndex: 5290 entries, 0 to 5289\n",
      "Data columns (total 53 columns):\n",
      " #   Column                                      Non-Null Count  Dtype  \n",
      "---  ------                                      --------------  -----  \n",
      " 0   date                                        5290 non-null   object \n",
      " 1   primary_cleaner.input.sulfate               5286 non-null   float64\n",
      " 2   primary_cleaner.input.depressant            5285 non-null   float64\n",
      " 3   primary_cleaner.input.feed_size             5290 non-null   float64\n",
      " 4   primary_cleaner.input.xanthate              5286 non-null   float64\n",
      " 5   primary_cleaner.state.floatbank8_a_air      5290 non-null   float64\n",
      " 6   primary_cleaner.state.floatbank8_a_level    5290 non-null   float64\n",
      " 7   primary_cleaner.state.floatbank8_b_air      5290 non-null   float64\n",
      " 8   primary_cleaner.state.floatbank8_b_level    5290 non-null   float64\n",
      " 9   primary_cleaner.state.floatbank8_c_air      5290 non-null   float64\n",
      " 10  primary_cleaner.state.floatbank8_c_level    5290 non-null   float64\n",
      " 11  primary_cleaner.state.floatbank8_d_air      5290 non-null   float64\n",
      " 12  primary_cleaner.state.floatbank8_d_level    5290 non-null   float64\n",
      " 13  rougher.input.feed_ag                       5290 non-null   float64\n",
      " 14  rougher.input.feed_pb                       5290 non-null   float64\n",
      " 15  rougher.input.feed_rate                     5287 non-null   float64\n",
      " 16  rougher.input.feed_size                     5289 non-null   float64\n",
      " 17  rougher.input.feed_sol                      5269 non-null   float64\n",
      " 18  rougher.input.feed_au                       5290 non-null   float64\n",
      " 19  rougher.input.floatbank10_sulfate           5285 non-null   float64\n",
      " 20  rougher.input.floatbank10_xanthate          5290 non-null   float64\n",
      " 21  rougher.input.floatbank11_sulfate           5282 non-null   float64\n",
      " 22  rougher.input.floatbank11_xanthate          5265 non-null   float64\n",
      " 23  rougher.state.floatbank10_a_air             5290 non-null   float64\n",
      " 24  rougher.state.floatbank10_a_level           5290 non-null   float64\n",
      " 25  rougher.state.floatbank10_b_air             5290 non-null   float64\n",
      " 26  rougher.state.floatbank10_b_level           5290 non-null   float64\n",
      " 27  rougher.state.floatbank10_c_air             5290 non-null   float64\n",
      " 28  rougher.state.floatbank10_c_level           5290 non-null   float64\n",
      " 29  rougher.state.floatbank10_d_air             5290 non-null   float64\n",
      " 30  rougher.state.floatbank10_d_level           5290 non-null   float64\n",
      " 31  rougher.state.floatbank10_e_air             5290 non-null   float64\n",
      " 32  rougher.state.floatbank10_e_level           5290 non-null   float64\n",
      " 33  rougher.state.floatbank10_f_air             5290 non-null   float64\n",
      " 34  rougher.state.floatbank10_f_level           5290 non-null   float64\n",
      " 35  secondary_cleaner.state.floatbank2_a_air    5287 non-null   float64\n",
      " 36  secondary_cleaner.state.floatbank2_a_level  5290 non-null   float64\n",
      " 37  secondary_cleaner.state.floatbank2_b_air    5288 non-null   float64\n",
      " 38  secondary_cleaner.state.floatbank2_b_level  5290 non-null   float64\n",
      " 39  secondary_cleaner.state.floatbank3_a_air    5281 non-null   float64\n",
      " 40  secondary_cleaner.state.floatbank3_a_level  5290 non-null   float64\n",
      " 41  secondary_cleaner.state.floatbank3_b_air    5290 non-null   float64\n",
      " 42  secondary_cleaner.state.floatbank3_b_level  5290 non-null   float64\n",
      " 43  secondary_cleaner.state.floatbank4_a_air    5290 non-null   float64\n",
      " 44  secondary_cleaner.state.floatbank4_a_level  5290 non-null   float64\n",
      " 45  secondary_cleaner.state.floatbank4_b_air    5290 non-null   float64\n",
      " 46  secondary_cleaner.state.floatbank4_b_level  5290 non-null   float64\n",
      " 47  secondary_cleaner.state.floatbank5_a_air    5290 non-null   float64\n",
      " 48  secondary_cleaner.state.floatbank5_a_level  5290 non-null   float64\n",
      " 49  secondary_cleaner.state.floatbank5_b_air    5290 non-null   float64\n",
      " 50  secondary_cleaner.state.floatbank5_b_level  5290 non-null   float64\n",
      " 51  secondary_cleaner.state.floatbank6_a_air    5290 non-null   float64\n",
      " 52  secondary_cleaner.state.floatbank6_a_level  5290 non-null   float64\n",
      "dtypes: float64(52), object(1)\n",
      "memory usage: 2.1+ MB\n"
     ]
    }
   ],
   "source": [
    "gold_recovery_test.info()"
   ]
  },
  {
   "cell_type": "code",
   "execution_count": 9,
   "id": "b64f5072",
   "metadata": {},
   "outputs": [
    {
     "data": {
      "text/html": [
       "<div>\n",
       "<style scoped>\n",
       "    .dataframe tbody tr th:only-of-type {\n",
       "        vertical-align: middle;\n",
       "    }\n",
       "\n",
       "    .dataframe tbody tr th {\n",
       "        vertical-align: top;\n",
       "    }\n",
       "\n",
       "    .dataframe thead th {\n",
       "        text-align: right;\n",
       "    }\n",
       "</style>\n",
       "<table border=\"1\" class=\"dataframe\">\n",
       "  <thead>\n",
       "    <tr style=\"text-align: right;\">\n",
       "      <th></th>\n",
       "      <th>primary_cleaner.input.sulfate</th>\n",
       "      <th>primary_cleaner.input.depressant</th>\n",
       "      <th>primary_cleaner.input.feed_size</th>\n",
       "      <th>primary_cleaner.input.xanthate</th>\n",
       "      <th>primary_cleaner.state.floatbank8_a_air</th>\n",
       "      <th>primary_cleaner.state.floatbank8_a_level</th>\n",
       "      <th>primary_cleaner.state.floatbank8_b_air</th>\n",
       "      <th>primary_cleaner.state.floatbank8_b_level</th>\n",
       "      <th>primary_cleaner.state.floatbank8_c_air</th>\n",
       "      <th>primary_cleaner.state.floatbank8_c_level</th>\n",
       "      <th>...</th>\n",
       "      <th>secondary_cleaner.state.floatbank4_a_air</th>\n",
       "      <th>secondary_cleaner.state.floatbank4_a_level</th>\n",
       "      <th>secondary_cleaner.state.floatbank4_b_air</th>\n",
       "      <th>secondary_cleaner.state.floatbank4_b_level</th>\n",
       "      <th>secondary_cleaner.state.floatbank5_a_air</th>\n",
       "      <th>secondary_cleaner.state.floatbank5_a_level</th>\n",
       "      <th>secondary_cleaner.state.floatbank5_b_air</th>\n",
       "      <th>secondary_cleaner.state.floatbank5_b_level</th>\n",
       "      <th>secondary_cleaner.state.floatbank6_a_air</th>\n",
       "      <th>secondary_cleaner.state.floatbank6_a_level</th>\n",
       "    </tr>\n",
       "  </thead>\n",
       "  <tbody>\n",
       "    <tr>\n",
       "      <th>count</th>\n",
       "      <td>5286.000000</td>\n",
       "      <td>5285.000000</td>\n",
       "      <td>5290.000000</td>\n",
       "      <td>5286.000000</td>\n",
       "      <td>5.290000e+03</td>\n",
       "      <td>5290.000000</td>\n",
       "      <td>5.290000e+03</td>\n",
       "      <td>5290.000000</td>\n",
       "      <td>5.290000e+03</td>\n",
       "      <td>5290.000000</td>\n",
       "      <td>...</td>\n",
       "      <td>5.290000e+03</td>\n",
       "      <td>5290.000000</td>\n",
       "      <td>5.290000e+03</td>\n",
       "      <td>5290.000000</td>\n",
       "      <td>5290.000000</td>\n",
       "      <td>5290.000000</td>\n",
       "      <td>5290.000000</td>\n",
       "      <td>5290.000000</td>\n",
       "      <td>5290.000000</td>\n",
       "      <td>5290.000000</td>\n",
       "    </tr>\n",
       "    <tr>\n",
       "      <th>mean</th>\n",
       "      <td>174.839652</td>\n",
       "      <td>8.683596</td>\n",
       "      <td>7.266339</td>\n",
       "      <td>1.383803</td>\n",
       "      <td>1.539494e+03</td>\n",
       "      <td>-497.665883</td>\n",
       "      <td>1.545174e+03</td>\n",
       "      <td>-500.273098</td>\n",
       "      <td>1.527272e+03</td>\n",
       "      <td>-498.330680</td>\n",
       "      <td>...</td>\n",
       "      <td>1.632007e+01</td>\n",
       "      <td>-505.144570</td>\n",
       "      <td>1.373544e+01</td>\n",
       "      <td>-463.349858</td>\n",
       "      <td>12.804186</td>\n",
       "      <td>-501.329122</td>\n",
       "      <td>9.881145</td>\n",
       "      <td>-495.663398</td>\n",
       "      <td>17.304935</td>\n",
       "      <td>-501.793193</td>\n",
       "    </tr>\n",
       "    <tr>\n",
       "      <th>std</th>\n",
       "      <td>43.027080</td>\n",
       "      <td>3.072050</td>\n",
       "      <td>0.610219</td>\n",
       "      <td>0.643474</td>\n",
       "      <td>1.167979e+02</td>\n",
       "      <td>19.952431</td>\n",
       "      <td>1.222246e+02</td>\n",
       "      <td>32.968307</td>\n",
       "      <td>1.225380e+02</td>\n",
       "      <td>21.964876</td>\n",
       "      <td>...</td>\n",
       "      <td>3.493583e+00</td>\n",
       "      <td>31.427337</td>\n",
       "      <td>3.430484e+00</td>\n",
       "      <td>86.189107</td>\n",
       "      <td>3.026591</td>\n",
       "      <td>17.951495</td>\n",
       "      <td>2.868205</td>\n",
       "      <td>34.535007</td>\n",
       "      <td>4.536544</td>\n",
       "      <td>39.044215</td>\n",
       "    </tr>\n",
       "    <tr>\n",
       "      <th>min</th>\n",
       "      <td>2.566156</td>\n",
       "      <td>0.003839</td>\n",
       "      <td>5.650000</td>\n",
       "      <td>0.004984</td>\n",
       "      <td>5.445860e-32</td>\n",
       "      <td>-795.316337</td>\n",
       "      <td>6.647490e-32</td>\n",
       "      <td>-799.997015</td>\n",
       "      <td>4.033736e-32</td>\n",
       "      <td>-799.960571</td>\n",
       "      <td>...</td>\n",
       "      <td>1.079872e-16</td>\n",
       "      <td>-799.798523</td>\n",
       "      <td>2.489718e-17</td>\n",
       "      <td>-800.836914</td>\n",
       "      <td>0.069227</td>\n",
       "      <td>-797.323986</td>\n",
       "      <td>0.528083</td>\n",
       "      <td>-800.220337</td>\n",
       "      <td>-0.079426</td>\n",
       "      <td>-809.741464</td>\n",
       "    </tr>\n",
       "    <tr>\n",
       "      <th>25%</th>\n",
       "      <td>147.121401</td>\n",
       "      <td>6.489555</td>\n",
       "      <td>6.890000</td>\n",
       "      <td>0.907623</td>\n",
       "      <td>1.498936e+03</td>\n",
       "      <td>-500.357298</td>\n",
       "      <td>1.498971e+03</td>\n",
       "      <td>-500.703002</td>\n",
       "      <td>1.473230e+03</td>\n",
       "      <td>-501.018117</td>\n",
       "      <td>...</td>\n",
       "      <td>1.403618e+01</td>\n",
       "      <td>-500.868258</td>\n",
       "      <td>1.202862e+01</td>\n",
       "      <td>-500.323028</td>\n",
       "      <td>10.914838</td>\n",
       "      <td>-500.726841</td>\n",
       "      <td>8.036719</td>\n",
       "      <td>-500.194668</td>\n",
       "      <td>13.997317</td>\n",
       "      <td>-500.690984</td>\n",
       "    </tr>\n",
       "    <tr>\n",
       "      <th>50%</th>\n",
       "      <td>177.828489</td>\n",
       "      <td>8.052207</td>\n",
       "      <td>7.250000</td>\n",
       "      <td>1.197610</td>\n",
       "      <td>1.585129e+03</td>\n",
       "      <td>-499.969164</td>\n",
       "      <td>1.595622e+03</td>\n",
       "      <td>-500.028514</td>\n",
       "      <td>1.549595e+03</td>\n",
       "      <td>-500.017711</td>\n",
       "      <td>...</td>\n",
       "      <td>1.700847e+01</td>\n",
       "      <td>-500.115727</td>\n",
       "      <td>1.496486e+01</td>\n",
       "      <td>-499.576513</td>\n",
       "      <td>12.954182</td>\n",
       "      <td>-499.990332</td>\n",
       "      <td>10.004301</td>\n",
       "      <td>-499.990535</td>\n",
       "      <td>16.014935</td>\n",
       "      <td>-500.007126</td>\n",
       "    </tr>\n",
       "    <tr>\n",
       "      <th>75%</th>\n",
       "      <td>208.125438</td>\n",
       "      <td>10.027764</td>\n",
       "      <td>7.600000</td>\n",
       "      <td>1.797819</td>\n",
       "      <td>1.602077e+03</td>\n",
       "      <td>-499.568951</td>\n",
       "      <td>1.602324e+03</td>\n",
       "      <td>-499.293257</td>\n",
       "      <td>1.601144e+03</td>\n",
       "      <td>-498.994130</td>\n",
       "      <td>...</td>\n",
       "      <td>1.803862e+01</td>\n",
       "      <td>-499.404224</td>\n",
       "      <td>1.596213e+01</td>\n",
       "      <td>-400.933805</td>\n",
       "      <td>15.097528</td>\n",
       "      <td>-499.283191</td>\n",
       "      <td>11.997467</td>\n",
       "      <td>-499.719913</td>\n",
       "      <td>21.020013</td>\n",
       "      <td>-499.373018</td>\n",
       "    </tr>\n",
       "    <tr>\n",
       "      <th>max</th>\n",
       "      <td>265.983123</td>\n",
       "      <td>40.000000</td>\n",
       "      <td>15.500000</td>\n",
       "      <td>4.102454</td>\n",
       "      <td>2.103104e+03</td>\n",
       "      <td>-57.195404</td>\n",
       "      <td>1.813084e+03</td>\n",
       "      <td>-142.527229</td>\n",
       "      <td>1.715054e+03</td>\n",
       "      <td>-150.937035</td>\n",
       "      <td>...</td>\n",
       "      <td>3.005180e+01</td>\n",
       "      <td>-401.565212</td>\n",
       "      <td>3.126971e+01</td>\n",
       "      <td>-6.506986</td>\n",
       "      <td>25.258848</td>\n",
       "      <td>-244.483566</td>\n",
       "      <td>14.086866</td>\n",
       "      <td>-137.740004</td>\n",
       "      <td>26.705889</td>\n",
       "      <td>-123.307487</td>\n",
       "    </tr>\n",
       "  </tbody>\n",
       "</table>\n",
       "<p>8 rows × 52 columns</p>\n",
       "</div>"
      ],
      "text/plain": [
       "       primary_cleaner.input.sulfate  primary_cleaner.input.depressant  \\\n",
       "count                    5286.000000                       5285.000000   \n",
       "mean                      174.839652                          8.683596   \n",
       "std                        43.027080                          3.072050   \n",
       "min                         2.566156                          0.003839   \n",
       "25%                       147.121401                          6.489555   \n",
       "50%                       177.828489                          8.052207   \n",
       "75%                       208.125438                         10.027764   \n",
       "max                       265.983123                         40.000000   \n",
       "\n",
       "       primary_cleaner.input.feed_size  primary_cleaner.input.xanthate  \\\n",
       "count                      5290.000000                     5286.000000   \n",
       "mean                          7.266339                        1.383803   \n",
       "std                           0.610219                        0.643474   \n",
       "min                           5.650000                        0.004984   \n",
       "25%                           6.890000                        0.907623   \n",
       "50%                           7.250000                        1.197610   \n",
       "75%                           7.600000                        1.797819   \n",
       "max                          15.500000                        4.102454   \n",
       "\n",
       "       primary_cleaner.state.floatbank8_a_air  \\\n",
       "count                            5.290000e+03   \n",
       "mean                             1.539494e+03   \n",
       "std                              1.167979e+02   \n",
       "min                              5.445860e-32   \n",
       "25%                              1.498936e+03   \n",
       "50%                              1.585129e+03   \n",
       "75%                              1.602077e+03   \n",
       "max                              2.103104e+03   \n",
       "\n",
       "       primary_cleaner.state.floatbank8_a_level  \\\n",
       "count                               5290.000000   \n",
       "mean                                -497.665883   \n",
       "std                                   19.952431   \n",
       "min                                 -795.316337   \n",
       "25%                                 -500.357298   \n",
       "50%                                 -499.969164   \n",
       "75%                                 -499.568951   \n",
       "max                                  -57.195404   \n",
       "\n",
       "       primary_cleaner.state.floatbank8_b_air  \\\n",
       "count                            5.290000e+03   \n",
       "mean                             1.545174e+03   \n",
       "std                              1.222246e+02   \n",
       "min                              6.647490e-32   \n",
       "25%                              1.498971e+03   \n",
       "50%                              1.595622e+03   \n",
       "75%                              1.602324e+03   \n",
       "max                              1.813084e+03   \n",
       "\n",
       "       primary_cleaner.state.floatbank8_b_level  \\\n",
       "count                               5290.000000   \n",
       "mean                                -500.273098   \n",
       "std                                   32.968307   \n",
       "min                                 -799.997015   \n",
       "25%                                 -500.703002   \n",
       "50%                                 -500.028514   \n",
       "75%                                 -499.293257   \n",
       "max                                 -142.527229   \n",
       "\n",
       "       primary_cleaner.state.floatbank8_c_air  \\\n",
       "count                            5.290000e+03   \n",
       "mean                             1.527272e+03   \n",
       "std                              1.225380e+02   \n",
       "min                              4.033736e-32   \n",
       "25%                              1.473230e+03   \n",
       "50%                              1.549595e+03   \n",
       "75%                              1.601144e+03   \n",
       "max                              1.715054e+03   \n",
       "\n",
       "       primary_cleaner.state.floatbank8_c_level  ...  \\\n",
       "count                               5290.000000  ...   \n",
       "mean                                -498.330680  ...   \n",
       "std                                   21.964876  ...   \n",
       "min                                 -799.960571  ...   \n",
       "25%                                 -501.018117  ...   \n",
       "50%                                 -500.017711  ...   \n",
       "75%                                 -498.994130  ...   \n",
       "max                                 -150.937035  ...   \n",
       "\n",
       "       secondary_cleaner.state.floatbank4_a_air  \\\n",
       "count                              5.290000e+03   \n",
       "mean                               1.632007e+01   \n",
       "std                                3.493583e+00   \n",
       "min                                1.079872e-16   \n",
       "25%                                1.403618e+01   \n",
       "50%                                1.700847e+01   \n",
       "75%                                1.803862e+01   \n",
       "max                                3.005180e+01   \n",
       "\n",
       "       secondary_cleaner.state.floatbank4_a_level  \\\n",
       "count                                 5290.000000   \n",
       "mean                                  -505.144570   \n",
       "std                                     31.427337   \n",
       "min                                   -799.798523   \n",
       "25%                                   -500.868258   \n",
       "50%                                   -500.115727   \n",
       "75%                                   -499.404224   \n",
       "max                                   -401.565212   \n",
       "\n",
       "       secondary_cleaner.state.floatbank4_b_air  \\\n",
       "count                              5.290000e+03   \n",
       "mean                               1.373544e+01   \n",
       "std                                3.430484e+00   \n",
       "min                                2.489718e-17   \n",
       "25%                                1.202862e+01   \n",
       "50%                                1.496486e+01   \n",
       "75%                                1.596213e+01   \n",
       "max                                3.126971e+01   \n",
       "\n",
       "       secondary_cleaner.state.floatbank4_b_level  \\\n",
       "count                                 5290.000000   \n",
       "mean                                  -463.349858   \n",
       "std                                     86.189107   \n",
       "min                                   -800.836914   \n",
       "25%                                   -500.323028   \n",
       "50%                                   -499.576513   \n",
       "75%                                   -400.933805   \n",
       "max                                     -6.506986   \n",
       "\n",
       "       secondary_cleaner.state.floatbank5_a_air  \\\n",
       "count                               5290.000000   \n",
       "mean                                  12.804186   \n",
       "std                                    3.026591   \n",
       "min                                    0.069227   \n",
       "25%                                   10.914838   \n",
       "50%                                   12.954182   \n",
       "75%                                   15.097528   \n",
       "max                                   25.258848   \n",
       "\n",
       "       secondary_cleaner.state.floatbank5_a_level  \\\n",
       "count                                 5290.000000   \n",
       "mean                                  -501.329122   \n",
       "std                                     17.951495   \n",
       "min                                   -797.323986   \n",
       "25%                                   -500.726841   \n",
       "50%                                   -499.990332   \n",
       "75%                                   -499.283191   \n",
       "max                                   -244.483566   \n",
       "\n",
       "       secondary_cleaner.state.floatbank5_b_air  \\\n",
       "count                               5290.000000   \n",
       "mean                                   9.881145   \n",
       "std                                    2.868205   \n",
       "min                                    0.528083   \n",
       "25%                                    8.036719   \n",
       "50%                                   10.004301   \n",
       "75%                                   11.997467   \n",
       "max                                   14.086866   \n",
       "\n",
       "       secondary_cleaner.state.floatbank5_b_level  \\\n",
       "count                                 5290.000000   \n",
       "mean                                  -495.663398   \n",
       "std                                     34.535007   \n",
       "min                                   -800.220337   \n",
       "25%                                   -500.194668   \n",
       "50%                                   -499.990535   \n",
       "75%                                   -499.719913   \n",
       "max                                   -137.740004   \n",
       "\n",
       "       secondary_cleaner.state.floatbank6_a_air  \\\n",
       "count                               5290.000000   \n",
       "mean                                  17.304935   \n",
       "std                                    4.536544   \n",
       "min                                   -0.079426   \n",
       "25%                                   13.997317   \n",
       "50%                                   16.014935   \n",
       "75%                                   21.020013   \n",
       "max                                   26.705889   \n",
       "\n",
       "       secondary_cleaner.state.floatbank6_a_level  \n",
       "count                                 5290.000000  \n",
       "mean                                  -501.793193  \n",
       "std                                     39.044215  \n",
       "min                                   -809.741464  \n",
       "25%                                   -500.690984  \n",
       "50%                                   -500.007126  \n",
       "75%                                   -499.373018  \n",
       "max                                   -123.307487  \n",
       "\n",
       "[8 rows x 52 columns]"
      ]
     },
     "execution_count": 9,
     "metadata": {},
     "output_type": "execute_result"
    }
   ],
   "source": [
    "gold_recovery_test.describe()"
   ]
  },
  {
   "cell_type": "code",
   "execution_count": 10,
   "id": "48f589a2",
   "metadata": {},
   "outputs": [
    {
     "data": {
      "text/plain": [
       "rougher.input.floatbank11_xanthate          25\n",
       "rougher.input.feed_sol                      21\n",
       "secondary_cleaner.state.floatbank3_a_air     9\n",
       "rougher.input.floatbank11_sulfate            8\n",
       "primary_cleaner.input.depressant             5\n",
       "dtype: int64"
      ]
     },
     "execution_count": 10,
     "metadata": {},
     "output_type": "execute_result"
    }
   ],
   "source": [
    "gold_recovery_test.isna().sum().sort_values(ascending=False).head()"
   ]
  },
  {
   "cell_type": "markdown",
   "id": "dc431dfe",
   "metadata": {},
   "source": [
    "С датой тоже самое, а пропуски незначительные, можем их заполнить средним значением из train выборки или вообще удалить"
   ]
  },
  {
   "cell_type": "code",
   "execution_count": 11,
   "id": "1466352e",
   "metadata": {
    "scrolled": true
   },
   "outputs": [
    {
     "data": {
      "text/html": [
       "<div>\n",
       "<style scoped>\n",
       "    .dataframe tbody tr th:only-of-type {\n",
       "        vertical-align: middle;\n",
       "    }\n",
       "\n",
       "    .dataframe tbody tr th {\n",
       "        vertical-align: top;\n",
       "    }\n",
       "\n",
       "    .dataframe thead th {\n",
       "        text-align: right;\n",
       "    }\n",
       "</style>\n",
       "<table border=\"1\" class=\"dataframe\">\n",
       "  <thead>\n",
       "    <tr style=\"text-align: right;\">\n",
       "      <th></th>\n",
       "      <th>date</th>\n",
       "      <th>final.output.concentrate_ag</th>\n",
       "      <th>final.output.concentrate_pb</th>\n",
       "      <th>final.output.concentrate_sol</th>\n",
       "      <th>final.output.concentrate_au</th>\n",
       "      <th>final.output.recovery</th>\n",
       "      <th>final.output.tail_ag</th>\n",
       "      <th>final.output.tail_pb</th>\n",
       "      <th>final.output.tail_sol</th>\n",
       "      <th>final.output.tail_au</th>\n",
       "      <th>...</th>\n",
       "      <th>secondary_cleaner.state.floatbank4_a_air</th>\n",
       "      <th>secondary_cleaner.state.floatbank4_a_level</th>\n",
       "      <th>secondary_cleaner.state.floatbank4_b_air</th>\n",
       "      <th>secondary_cleaner.state.floatbank4_b_level</th>\n",
       "      <th>secondary_cleaner.state.floatbank5_a_air</th>\n",
       "      <th>secondary_cleaner.state.floatbank5_a_level</th>\n",
       "      <th>secondary_cleaner.state.floatbank5_b_air</th>\n",
       "      <th>secondary_cleaner.state.floatbank5_b_level</th>\n",
       "      <th>secondary_cleaner.state.floatbank6_a_air</th>\n",
       "      <th>secondary_cleaner.state.floatbank6_a_level</th>\n",
       "    </tr>\n",
       "  </thead>\n",
       "  <tbody>\n",
       "    <tr>\n",
       "      <th>0</th>\n",
       "      <td>2016-01-15 00:00:00</td>\n",
       "      <td>6.055403</td>\n",
       "      <td>9.889648</td>\n",
       "      <td>5.507324</td>\n",
       "      <td>42.192020</td>\n",
       "      <td>70.541216</td>\n",
       "      <td>10.411962</td>\n",
       "      <td>0.895447</td>\n",
       "      <td>16.904297</td>\n",
       "      <td>2.143149</td>\n",
       "      <td>...</td>\n",
       "      <td>14.016835</td>\n",
       "      <td>-502.488007</td>\n",
       "      <td>12.099931</td>\n",
       "      <td>-504.715942</td>\n",
       "      <td>9.925633</td>\n",
       "      <td>-498.310211</td>\n",
       "      <td>8.079666</td>\n",
       "      <td>-500.470978</td>\n",
       "      <td>14.151341</td>\n",
       "      <td>-605.841980</td>\n",
       "    </tr>\n",
       "    <tr>\n",
       "      <th>1</th>\n",
       "      <td>2016-01-15 01:00:00</td>\n",
       "      <td>6.029369</td>\n",
       "      <td>9.968944</td>\n",
       "      <td>5.257781</td>\n",
       "      <td>42.701629</td>\n",
       "      <td>69.266198</td>\n",
       "      <td>10.462676</td>\n",
       "      <td>0.927452</td>\n",
       "      <td>16.634514</td>\n",
       "      <td>2.224930</td>\n",
       "      <td>...</td>\n",
       "      <td>13.992281</td>\n",
       "      <td>-505.503262</td>\n",
       "      <td>11.950531</td>\n",
       "      <td>-501.331529</td>\n",
       "      <td>10.039245</td>\n",
       "      <td>-500.169983</td>\n",
       "      <td>7.984757</td>\n",
       "      <td>-500.582168</td>\n",
       "      <td>13.998353</td>\n",
       "      <td>-599.787184</td>\n",
       "    </tr>\n",
       "    <tr>\n",
       "      <th>2</th>\n",
       "      <td>2016-01-15 02:00:00</td>\n",
       "      <td>6.055926</td>\n",
       "      <td>10.213995</td>\n",
       "      <td>5.383759</td>\n",
       "      <td>42.657501</td>\n",
       "      <td>68.116445</td>\n",
       "      <td>10.507046</td>\n",
       "      <td>0.953716</td>\n",
       "      <td>16.208849</td>\n",
       "      <td>2.257889</td>\n",
       "      <td>...</td>\n",
       "      <td>14.015015</td>\n",
       "      <td>-502.520901</td>\n",
       "      <td>11.912783</td>\n",
       "      <td>-501.133383</td>\n",
       "      <td>10.070913</td>\n",
       "      <td>-500.129135</td>\n",
       "      <td>8.013877</td>\n",
       "      <td>-500.517572</td>\n",
       "      <td>14.028663</td>\n",
       "      <td>-601.427363</td>\n",
       "    </tr>\n",
       "    <tr>\n",
       "      <th>3</th>\n",
       "      <td>2016-01-15 03:00:00</td>\n",
       "      <td>6.047977</td>\n",
       "      <td>9.977019</td>\n",
       "      <td>4.858634</td>\n",
       "      <td>42.689819</td>\n",
       "      <td>68.347543</td>\n",
       "      <td>10.422762</td>\n",
       "      <td>0.883763</td>\n",
       "      <td>16.532835</td>\n",
       "      <td>2.146849</td>\n",
       "      <td>...</td>\n",
       "      <td>14.036510</td>\n",
       "      <td>-500.857308</td>\n",
       "      <td>11.999550</td>\n",
       "      <td>-501.193686</td>\n",
       "      <td>9.970366</td>\n",
       "      <td>-499.201640</td>\n",
       "      <td>7.977324</td>\n",
       "      <td>-500.255908</td>\n",
       "      <td>14.005551</td>\n",
       "      <td>-599.996129</td>\n",
       "    </tr>\n",
       "    <tr>\n",
       "      <th>4</th>\n",
       "      <td>2016-01-15 04:00:00</td>\n",
       "      <td>6.148599</td>\n",
       "      <td>10.142511</td>\n",
       "      <td>4.939416</td>\n",
       "      <td>42.774141</td>\n",
       "      <td>66.927016</td>\n",
       "      <td>10.360302</td>\n",
       "      <td>0.792826</td>\n",
       "      <td>16.525686</td>\n",
       "      <td>2.055292</td>\n",
       "      <td>...</td>\n",
       "      <td>14.027298</td>\n",
       "      <td>-499.838632</td>\n",
       "      <td>11.953070</td>\n",
       "      <td>-501.053894</td>\n",
       "      <td>9.925709</td>\n",
       "      <td>-501.686727</td>\n",
       "      <td>7.894242</td>\n",
       "      <td>-500.356035</td>\n",
       "      <td>13.996647</td>\n",
       "      <td>-601.496691</td>\n",
       "    </tr>\n",
       "  </tbody>\n",
       "</table>\n",
       "<p>5 rows × 87 columns</p>\n",
       "</div>"
      ],
      "text/plain": [
       "                  date  final.output.concentrate_ag  \\\n",
       "0  2016-01-15 00:00:00                     6.055403   \n",
       "1  2016-01-15 01:00:00                     6.029369   \n",
       "2  2016-01-15 02:00:00                     6.055926   \n",
       "3  2016-01-15 03:00:00                     6.047977   \n",
       "4  2016-01-15 04:00:00                     6.148599   \n",
       "\n",
       "   final.output.concentrate_pb  final.output.concentrate_sol  \\\n",
       "0                     9.889648                      5.507324   \n",
       "1                     9.968944                      5.257781   \n",
       "2                    10.213995                      5.383759   \n",
       "3                     9.977019                      4.858634   \n",
       "4                    10.142511                      4.939416   \n",
       "\n",
       "   final.output.concentrate_au  final.output.recovery  final.output.tail_ag  \\\n",
       "0                    42.192020              70.541216             10.411962   \n",
       "1                    42.701629              69.266198             10.462676   \n",
       "2                    42.657501              68.116445             10.507046   \n",
       "3                    42.689819              68.347543             10.422762   \n",
       "4                    42.774141              66.927016             10.360302   \n",
       "\n",
       "   final.output.tail_pb  final.output.tail_sol  final.output.tail_au  ...  \\\n",
       "0              0.895447              16.904297              2.143149  ...   \n",
       "1              0.927452              16.634514              2.224930  ...   \n",
       "2              0.953716              16.208849              2.257889  ...   \n",
       "3              0.883763              16.532835              2.146849  ...   \n",
       "4              0.792826              16.525686              2.055292  ...   \n",
       "\n",
       "   secondary_cleaner.state.floatbank4_a_air  \\\n",
       "0                                 14.016835   \n",
       "1                                 13.992281   \n",
       "2                                 14.015015   \n",
       "3                                 14.036510   \n",
       "4                                 14.027298   \n",
       "\n",
       "   secondary_cleaner.state.floatbank4_a_level  \\\n",
       "0                                 -502.488007   \n",
       "1                                 -505.503262   \n",
       "2                                 -502.520901   \n",
       "3                                 -500.857308   \n",
       "4                                 -499.838632   \n",
       "\n",
       "   secondary_cleaner.state.floatbank4_b_air  \\\n",
       "0                                 12.099931   \n",
       "1                                 11.950531   \n",
       "2                                 11.912783   \n",
       "3                                 11.999550   \n",
       "4                                 11.953070   \n",
       "\n",
       "   secondary_cleaner.state.floatbank4_b_level  \\\n",
       "0                                 -504.715942   \n",
       "1                                 -501.331529   \n",
       "2                                 -501.133383   \n",
       "3                                 -501.193686   \n",
       "4                                 -501.053894   \n",
       "\n",
       "   secondary_cleaner.state.floatbank5_a_air  \\\n",
       "0                                  9.925633   \n",
       "1                                 10.039245   \n",
       "2                                 10.070913   \n",
       "3                                  9.970366   \n",
       "4                                  9.925709   \n",
       "\n",
       "   secondary_cleaner.state.floatbank5_a_level  \\\n",
       "0                                 -498.310211   \n",
       "1                                 -500.169983   \n",
       "2                                 -500.129135   \n",
       "3                                 -499.201640   \n",
       "4                                 -501.686727   \n",
       "\n",
       "   secondary_cleaner.state.floatbank5_b_air  \\\n",
       "0                                  8.079666   \n",
       "1                                  7.984757   \n",
       "2                                  8.013877   \n",
       "3                                  7.977324   \n",
       "4                                  7.894242   \n",
       "\n",
       "   secondary_cleaner.state.floatbank5_b_level  \\\n",
       "0                                 -500.470978   \n",
       "1                                 -500.582168   \n",
       "2                                 -500.517572   \n",
       "3                                 -500.255908   \n",
       "4                                 -500.356035   \n",
       "\n",
       "   secondary_cleaner.state.floatbank6_a_air  \\\n",
       "0                                 14.151341   \n",
       "1                                 13.998353   \n",
       "2                                 14.028663   \n",
       "3                                 14.005551   \n",
       "4                                 13.996647   \n",
       "\n",
       "   secondary_cleaner.state.floatbank6_a_level  \n",
       "0                                 -605.841980  \n",
       "1                                 -599.787184  \n",
       "2                                 -601.427363  \n",
       "3                                 -599.996129  \n",
       "4                                 -601.496691  \n",
       "\n",
       "[5 rows x 87 columns]"
      ]
     },
     "execution_count": 11,
     "metadata": {},
     "output_type": "execute_result"
    }
   ],
   "source": [
    "gold_recovery_full.head()"
   ]
  },
  {
   "cell_type": "markdown",
   "id": "c1837323",
   "metadata": {},
   "source": [
    "Это просто полный датасет, пока непонятно зачем он тут."
   ]
  },
  {
   "cell_type": "markdown",
   "id": "e9d04328",
   "metadata": {},
   "source": [
    "### Проверка правильности рассчета эффективности обогащения"
   ]
  },
  {
   "cell_type": "markdown",
   "id": "f68fb8a0",
   "metadata": {},
   "source": [
    "Проверим, что эффективность обогащения рассчитана правильно. Вычислим её на обучающей выборке для признака rougher.output.recovery. Найдем MAE между нашими расчётами и значением признака. Опишем выводы."
   ]
  },
  {
   "attachments": {
    "Recovery_1576238822.jpg": {
     "image/jpeg": "[encoded data removed]"
    }
   },
   "cell_type": "markdown",
   "id": "87a2025a",
   "metadata": {},
   "source": [
    "Эффективность рассчитывается по формуле:\n",
    "\n",
    "![Recovery_1576238822.jpg](attachment:Recovery_1576238822.jpg)\n",
    "\n",
    "где:\n",
    "\n",
    "    C — доля золота в концентрате после флотации/очистки;\n",
    "    F — доля золота в сырье/концентрате до флотации/очистки;\n",
    "    T — доля золота в отвальных хвостах после флотации/очистки."
   ]
  },
  {
   "cell_type": "markdown",
   "id": "45ad338e",
   "metadata": {},
   "source": [
    "Если изучить признаки train датасета выше, то найдем, что: \n",
    "    \n",
    "    С - rougher.output.concentrate_au\n",
    "    F - rougher.input.feed_au\n",
    "    T - rougher.output.tail_au"
   ]
  },
  {
   "cell_type": "code",
   "execution_count": 12,
   "id": "b7c3b83a",
   "metadata": {},
   "outputs": [],
   "source": [
    "# для удобства\n",
    "c = gold_recovery_train['rougher.output.concentrate_au']\n",
    "f = gold_recovery_train['rougher.input.feed_au']\n",
    "t = gold_recovery_train['rougher.output.tail_au']"
   ]
  },
  {
   "cell_type": "code",
   "execution_count": 13,
   "id": "598554d1",
   "metadata": {},
   "outputs": [
    {
     "data": {
      "text/plain": [
       "0        87.107763\n",
       "1        86.843261\n",
       "2        86.842308\n",
       "3        87.226430\n",
       "4        86.688794\n",
       "           ...    \n",
       "14144    89.574376\n",
       "14145    87.724007\n",
       "14146    88.890579\n",
       "14147    89.858126\n",
       "14148    89.514960\n",
       "Length: 14149, dtype: float64"
      ]
     },
     "execution_count": 13,
     "metadata": {},
     "output_type": "execute_result"
    }
   ],
   "source": [
    "recovery_au = (c * (f - t)) / (f * (c - t)) * 100\n",
    "recovery_au"
   ]
  },
  {
   "cell_type": "markdown",
   "id": "8ba5b48d",
   "metadata": {},
   "source": [
    "Теперь найдем MAE между нашими расчётами и значением признака."
   ]
  },
  {
   "cell_type": "code",
   "execution_count": 14,
   "id": "215babdf",
   "metadata": {},
   "outputs": [
    {
     "data": {
      "text/plain": [
       "9.73512347450521e-15"
      ]
     },
     "execution_count": 14,
     "metadata": {},
     "output_type": "execute_result"
    }
   ],
   "source": [
    "mean_absolute_error(gold_recovery_train['rougher.output.recovery'], recovery_au)"
   ]
  },
  {
   "cell_type": "markdown",
   "id": "bb40fede",
   "metadata": {},
   "source": [
    "Получился отличный результат!\n",
    "\n",
    "Формула верна разница между данными в train таблице и моими рассчетами по формуле выше минимальна"
   ]
  },
  {
   "cell_type": "markdown",
   "id": "5110cc73",
   "metadata": {},
   "source": [
    "### Анализ признаков, недоступных в тестовой выборке"
   ]
  },
  {
   "cell_type": "markdown",
   "id": "1e94288f",
   "metadata": {},
   "source": [
    "Проанализируем признаки, недоступные в тестовой выборке. Что это за параметры? К какому типу относятся?"
   ]
  },
  {
   "cell_type": "markdown",
   "id": "fd894e16",
   "metadata": {},
   "source": [
    "С помощью множеств посмотрим на эти параметры:"
   ]
  },
  {
   "cell_type": "code",
   "execution_count": 15,
   "id": "7c1f1852",
   "metadata": {},
   "outputs": [
    {
     "data": {
      "text/plain": [
       "{'final.output.concentrate_ag',\n",
       " 'final.output.concentrate_au',\n",
       " 'final.output.concentrate_pb',\n",
       " 'final.output.concentrate_sol',\n",
       " 'final.output.recovery',\n",
       " 'final.output.tail_ag',\n",
       " 'final.output.tail_au',\n",
       " 'final.output.tail_pb',\n",
       " 'final.output.tail_sol',\n",
       " 'primary_cleaner.output.concentrate_ag',\n",
       " 'primary_cleaner.output.concentrate_au',\n",
       " 'primary_cleaner.output.concentrate_pb',\n",
       " 'primary_cleaner.output.concentrate_sol',\n",
       " 'primary_cleaner.output.tail_ag',\n",
       " 'primary_cleaner.output.tail_au',\n",
       " 'primary_cleaner.output.tail_pb',\n",
       " 'primary_cleaner.output.tail_sol',\n",
       " 'rougher.calculation.au_pb_ratio',\n",
       " 'rougher.calculation.floatbank10_sulfate_to_au_feed',\n",
       " 'rougher.calculation.floatbank11_sulfate_to_au_feed',\n",
       " 'rougher.calculation.sulfate_to_au_concentrate',\n",
       " 'rougher.output.concentrate_ag',\n",
       " 'rougher.output.concentrate_au',\n",
       " 'rougher.output.concentrate_pb',\n",
       " 'rougher.output.concentrate_sol',\n",
       " 'rougher.output.recovery',\n",
       " 'rougher.output.tail_ag',\n",
       " 'rougher.output.tail_au',\n",
       " 'rougher.output.tail_pb',\n",
       " 'rougher.output.tail_sol',\n",
       " 'secondary_cleaner.output.tail_ag',\n",
       " 'secondary_cleaner.output.tail_au',\n",
       " 'secondary_cleaner.output.tail_pb',\n",
       " 'secondary_cleaner.output.tail_sol'}"
      ]
     },
     "execution_count": 15,
     "metadata": {},
     "output_type": "execute_result"
    }
   ],
   "source": [
    "set(gold_recovery_train.columns) - set(gold_recovery_test.columns)"
   ]
  },
  {
   "cell_type": "markdown",
   "id": "409ef948",
   "metadata": {},
   "source": [
    "Итак, что за параметры?\n",
    "\n",
    "    1. Финальные параметры концентратов (final.output.concentrate_)\n",
    "    2. Финальные параметры отвальных хвостов(final.output.tail_)\n",
    "    3. Те же параметры для первичной очистки\n",
    "    4. Те же параметры для вторичной очистки\n",
    "    5. Те же параметры для флотации (+ рассчетные характеристики rougher.calculation.)\n",
    "    6. Эффективность обогащения чернового концентрата (rougher.output.recovery) - ТАРГЕТ\n",
    "    7. Эффективность обогащения финального концентрата (final.output.recovery) - ТАРГЕТ\n",
    "\n",
    "    \n",
    "Все эти параметры относятся к типу `float`"
   ]
  },
  {
   "cell_type": "markdown",
   "id": "ffb0abb2",
   "metadata": {},
   "source": [
    "Что это значит? Это значит что в **test выборке нету таргетов!**"
   ]
  },
  {
   "cell_type": "markdown",
   "id": "52c05fb5",
   "metadata": {},
   "source": [
    "### Предобработка данных"
   ]
  },
  {
   "cell_type": "markdown",
   "id": "d5dc2e89",
   "metadata": {},
   "source": [
    "Для начала заполним пропуски в train и test выборках."
   ]
  },
  {
   "cell_type": "markdown",
   "id": "3faf2e2a",
   "metadata": {},
   "source": [
    "#### Заполнение пропусков"
   ]
  },
  {
   "cell_type": "code",
   "execution_count": 16,
   "id": "b41c2242",
   "metadata": {},
   "outputs": [
    {
     "data": {
      "text/html": [
       "<div>\n",
       "<style scoped>\n",
       "    .dataframe tbody tr th:only-of-type {\n",
       "        vertical-align: middle;\n",
       "    }\n",
       "\n",
       "    .dataframe tbody tr th {\n",
       "        vertical-align: top;\n",
       "    }\n",
       "\n",
       "    .dataframe thead th {\n",
       "        text-align: right;\n",
       "    }\n",
       "</style>\n",
       "<table border=\"1\" class=\"dataframe\">\n",
       "  <thead>\n",
       "    <tr style=\"text-align: right;\">\n",
       "      <th></th>\n",
       "      <th>date</th>\n",
       "      <th>final.output.concentrate_ag</th>\n",
       "      <th>final.output.concentrate_pb</th>\n",
       "      <th>final.output.concentrate_sol</th>\n",
       "      <th>final.output.concentrate_au</th>\n",
       "      <th>final.output.recovery</th>\n",
       "      <th>final.output.tail_ag</th>\n",
       "      <th>final.output.tail_pb</th>\n",
       "      <th>final.output.tail_sol</th>\n",
       "      <th>final.output.tail_au</th>\n",
       "      <th>...</th>\n",
       "      <th>secondary_cleaner.state.floatbank4_a_air</th>\n",
       "      <th>secondary_cleaner.state.floatbank4_a_level</th>\n",
       "      <th>secondary_cleaner.state.floatbank4_b_air</th>\n",
       "      <th>secondary_cleaner.state.floatbank4_b_level</th>\n",
       "      <th>secondary_cleaner.state.floatbank5_a_air</th>\n",
       "      <th>secondary_cleaner.state.floatbank5_a_level</th>\n",
       "      <th>secondary_cleaner.state.floatbank5_b_air</th>\n",
       "      <th>secondary_cleaner.state.floatbank5_b_level</th>\n",
       "      <th>secondary_cleaner.state.floatbank6_a_air</th>\n",
       "      <th>secondary_cleaner.state.floatbank6_a_level</th>\n",
       "    </tr>\n",
       "  </thead>\n",
       "  <tbody>\n",
       "    <tr>\n",
       "      <th>0</th>\n",
       "      <td>2016-01-15 00:00:00</td>\n",
       "      <td>6.055403</td>\n",
       "      <td>9.889648</td>\n",
       "      <td>5.507324</td>\n",
       "      <td>42.192020</td>\n",
       "      <td>70.541216</td>\n",
       "      <td>10.411962</td>\n",
       "      <td>0.895447</td>\n",
       "      <td>16.904297</td>\n",
       "      <td>2.143149</td>\n",
       "      <td>...</td>\n",
       "      <td>14.016835</td>\n",
       "      <td>-502.488007</td>\n",
       "      <td>12.099931</td>\n",
       "      <td>-504.715942</td>\n",
       "      <td>9.925633</td>\n",
       "      <td>-498.310211</td>\n",
       "      <td>8.079666</td>\n",
       "      <td>-500.470978</td>\n",
       "      <td>14.151341</td>\n",
       "      <td>-605.841980</td>\n",
       "    </tr>\n",
       "    <tr>\n",
       "      <th>1</th>\n",
       "      <td>2016-01-15 01:00:00</td>\n",
       "      <td>6.029369</td>\n",
       "      <td>9.968944</td>\n",
       "      <td>5.257781</td>\n",
       "      <td>42.701629</td>\n",
       "      <td>69.266198</td>\n",
       "      <td>10.462676</td>\n",
       "      <td>0.927452</td>\n",
       "      <td>16.634514</td>\n",
       "      <td>2.224930</td>\n",
       "      <td>...</td>\n",
       "      <td>13.992281</td>\n",
       "      <td>-505.503262</td>\n",
       "      <td>11.950531</td>\n",
       "      <td>-501.331529</td>\n",
       "      <td>10.039245</td>\n",
       "      <td>-500.169983</td>\n",
       "      <td>7.984757</td>\n",
       "      <td>-500.582168</td>\n",
       "      <td>13.998353</td>\n",
       "      <td>-599.787184</td>\n",
       "    </tr>\n",
       "    <tr>\n",
       "      <th>2</th>\n",
       "      <td>2016-01-15 02:00:00</td>\n",
       "      <td>6.055926</td>\n",
       "      <td>10.213995</td>\n",
       "      <td>5.383759</td>\n",
       "      <td>42.657501</td>\n",
       "      <td>68.116445</td>\n",
       "      <td>10.507046</td>\n",
       "      <td>0.953716</td>\n",
       "      <td>16.208849</td>\n",
       "      <td>2.257889</td>\n",
       "      <td>...</td>\n",
       "      <td>14.015015</td>\n",
       "      <td>-502.520901</td>\n",
       "      <td>11.912783</td>\n",
       "      <td>-501.133383</td>\n",
       "      <td>10.070913</td>\n",
       "      <td>-500.129135</td>\n",
       "      <td>8.013877</td>\n",
       "      <td>-500.517572</td>\n",
       "      <td>14.028663</td>\n",
       "      <td>-601.427363</td>\n",
       "    </tr>\n",
       "    <tr>\n",
       "      <th>3</th>\n",
       "      <td>2016-01-15 03:00:00</td>\n",
       "      <td>6.047977</td>\n",
       "      <td>9.977019</td>\n",
       "      <td>4.858634</td>\n",
       "      <td>42.689819</td>\n",
       "      <td>68.347543</td>\n",
       "      <td>10.422762</td>\n",
       "      <td>0.883763</td>\n",
       "      <td>16.532835</td>\n",
       "      <td>2.146849</td>\n",
       "      <td>...</td>\n",
       "      <td>14.036510</td>\n",
       "      <td>-500.857308</td>\n",
       "      <td>11.999550</td>\n",
       "      <td>-501.193686</td>\n",
       "      <td>9.970366</td>\n",
       "      <td>-499.201640</td>\n",
       "      <td>7.977324</td>\n",
       "      <td>-500.255908</td>\n",
       "      <td>14.005551</td>\n",
       "      <td>-599.996129</td>\n",
       "    </tr>\n",
       "    <tr>\n",
       "      <th>4</th>\n",
       "      <td>2016-01-15 04:00:00</td>\n",
       "      <td>6.148599</td>\n",
       "      <td>10.142511</td>\n",
       "      <td>4.939416</td>\n",
       "      <td>42.774141</td>\n",
       "      <td>66.927016</td>\n",
       "      <td>10.360302</td>\n",
       "      <td>0.792826</td>\n",
       "      <td>16.525686</td>\n",
       "      <td>2.055292</td>\n",
       "      <td>...</td>\n",
       "      <td>14.027298</td>\n",
       "      <td>-499.838632</td>\n",
       "      <td>11.953070</td>\n",
       "      <td>-501.053894</td>\n",
       "      <td>9.925709</td>\n",
       "      <td>-501.686727</td>\n",
       "      <td>7.894242</td>\n",
       "      <td>-500.356035</td>\n",
       "      <td>13.996647</td>\n",
       "      <td>-601.496691</td>\n",
       "    </tr>\n",
       "  </tbody>\n",
       "</table>\n",
       "<p>5 rows × 87 columns</p>\n",
       "</div>"
      ],
      "text/plain": [
       "                  date  final.output.concentrate_ag  \\\n",
       "0  2016-01-15 00:00:00                     6.055403   \n",
       "1  2016-01-15 01:00:00                     6.029369   \n",
       "2  2016-01-15 02:00:00                     6.055926   \n",
       "3  2016-01-15 03:00:00                     6.047977   \n",
       "4  2016-01-15 04:00:00                     6.148599   \n",
       "\n",
       "   final.output.concentrate_pb  final.output.concentrate_sol  \\\n",
       "0                     9.889648                      5.507324   \n",
       "1                     9.968944                      5.257781   \n",
       "2                    10.213995                      5.383759   \n",
       "3                     9.977019                      4.858634   \n",
       "4                    10.142511                      4.939416   \n",
       "\n",
       "   final.output.concentrate_au  final.output.recovery  final.output.tail_ag  \\\n",
       "0                    42.192020              70.541216             10.411962   \n",
       "1                    42.701629              69.266198             10.462676   \n",
       "2                    42.657501              68.116445             10.507046   \n",
       "3                    42.689819              68.347543             10.422762   \n",
       "4                    42.774141              66.927016             10.360302   \n",
       "\n",
       "   final.output.tail_pb  final.output.tail_sol  final.output.tail_au  ...  \\\n",
       "0              0.895447              16.904297              2.143149  ...   \n",
       "1              0.927452              16.634514              2.224930  ...   \n",
       "2              0.953716              16.208849              2.257889  ...   \n",
       "3              0.883763              16.532835              2.146849  ...   \n",
       "4              0.792826              16.525686              2.055292  ...   \n",
       "\n",
       "   secondary_cleaner.state.floatbank4_a_air  \\\n",
       "0                                 14.016835   \n",
       "1                                 13.992281   \n",
       "2                                 14.015015   \n",
       "3                                 14.036510   \n",
       "4                                 14.027298   \n",
       "\n",
       "   secondary_cleaner.state.floatbank4_a_level  \\\n",
       "0                                 -502.488007   \n",
       "1                                 -505.503262   \n",
       "2                                 -502.520901   \n",
       "3                                 -500.857308   \n",
       "4                                 -499.838632   \n",
       "\n",
       "   secondary_cleaner.state.floatbank4_b_air  \\\n",
       "0                                 12.099931   \n",
       "1                                 11.950531   \n",
       "2                                 11.912783   \n",
       "3                                 11.999550   \n",
       "4                                 11.953070   \n",
       "\n",
       "   secondary_cleaner.state.floatbank4_b_level  \\\n",
       "0                                 -504.715942   \n",
       "1                                 -501.331529   \n",
       "2                                 -501.133383   \n",
       "3                                 -501.193686   \n",
       "4                                 -501.053894   \n",
       "\n",
       "   secondary_cleaner.state.floatbank5_a_air  \\\n",
       "0                                  9.925633   \n",
       "1                                 10.039245   \n",
       "2                                 10.070913   \n",
       "3                                  9.970366   \n",
       "4                                  9.925709   \n",
       "\n",
       "   secondary_cleaner.state.floatbank5_a_level  \\\n",
       "0                                 -498.310211   \n",
       "1                                 -500.169983   \n",
       "2                                 -500.129135   \n",
       "3                                 -499.201640   \n",
       "4                                 -501.686727   \n",
       "\n",
       "   secondary_cleaner.state.floatbank5_b_air  \\\n",
       "0                                  8.079666   \n",
       "1                                  7.984757   \n",
       "2                                  8.013877   \n",
       "3                                  7.977324   \n",
       "4                                  7.894242   \n",
       "\n",
       "   secondary_cleaner.state.floatbank5_b_level  \\\n",
       "0                                 -500.470978   \n",
       "1                                 -500.582168   \n",
       "2                                 -500.517572   \n",
       "3                                 -500.255908   \n",
       "4                                 -500.356035   \n",
       "\n",
       "   secondary_cleaner.state.floatbank6_a_air  \\\n",
       "0                                 14.151341   \n",
       "1                                 13.998353   \n",
       "2                                 14.028663   \n",
       "3                                 14.005551   \n",
       "4                                 13.996647   \n",
       "\n",
       "   secondary_cleaner.state.floatbank6_a_level  \n",
       "0                                 -605.841980  \n",
       "1                                 -599.787184  \n",
       "2                                 -601.427363  \n",
       "3                                 -599.996129  \n",
       "4                                 -601.496691  \n",
       "\n",
       "[5 rows x 87 columns]"
      ]
     },
     "execution_count": 16,
     "metadata": {},
     "output_type": "execute_result"
    }
   ],
   "source": [
    "gold_recovery_train.head()"
   ]
  },
  {
   "cell_type": "markdown",
   "id": "2910b595",
   "metadata": {},
   "source": [
    "У нас есть два варианта заполнения пропусков:\n",
    "- заменить предыдущим по времени значением\n",
    "- заменить следующим по времени значением \n",
    "        \n",
    "Вариант со следующим по времени значением отпадает, поскольку на момент прогноза нам неизвестны данные из будущего. Используем метод `fillna(method='ffill')`\n",
    "\n",
    "\n",
    "`method='ffill'` позволяет заполнить пропуски предыдущим валидным значением, это как раз подходит к нашей ситуации."
   ]
  },
  {
   "cell_type": "code",
   "execution_count": 17,
   "id": "b219ed4f",
   "metadata": {},
   "outputs": [],
   "source": [
    "gold_recovery_train = gold_recovery_train.fillna(method='ffill')"
   ]
  },
  {
   "cell_type": "code",
   "execution_count": 18,
   "id": "7f427057",
   "metadata": {},
   "outputs": [
    {
     "data": {
      "text/plain": [
       "0"
      ]
     },
     "execution_count": 18,
     "metadata": {},
     "output_type": "execute_result"
    }
   ],
   "source": [
    "# все пропуски заполнены\n",
    "gold_recovery_train.isna().sum().sum()"
   ]
  },
  {
   "cell_type": "markdown",
   "id": "17913bf4",
   "metadata": {},
   "source": [
    "Заполним пропуски также и в test выборке. Заполним их данными из train датасета."
   ]
  },
  {
   "cell_type": "code",
   "execution_count": 19,
   "id": "02b09127",
   "metadata": {},
   "outputs": [],
   "source": [
    "gold_recovery_test = gold_recovery_test.fillna(gold_recovery_train)"
   ]
  },
  {
   "cell_type": "code",
   "execution_count": 20,
   "id": "3581bb56",
   "metadata": {},
   "outputs": [
    {
     "data": {
      "text/plain": [
       "0"
      ]
     },
     "execution_count": 20,
     "metadata": {},
     "output_type": "execute_result"
    }
   ],
   "source": [
    "# все оки\n",
    "gold_recovery_test.isna().sum().sum()"
   ]
  },
  {
   "cell_type": "markdown",
   "id": "fc855589",
   "metadata": {},
   "source": [
    "Перейдем к поиску и удалению дубликатов"
   ]
  },
  {
   "cell_type": "markdown",
   "id": "ee5f2ad6",
   "metadata": {},
   "source": [
    "#### Удаление дубликатов"
   ]
  },
  {
   "cell_type": "code",
   "execution_count": 21,
   "id": "46b5fae9",
   "metadata": {},
   "outputs": [
    {
     "data": {
      "text/plain": [
       "0"
      ]
     },
     "execution_count": 21,
     "metadata": {},
     "output_type": "execute_result"
    }
   ],
   "source": [
    "gold_recovery_train.duplicated().sum()"
   ]
  },
  {
   "cell_type": "code",
   "execution_count": 22,
   "id": "82258637",
   "metadata": {},
   "outputs": [
    {
     "data": {
      "text/plain": [
       "0"
      ]
     },
     "execution_count": 22,
     "metadata": {},
     "output_type": "execute_result"
    }
   ],
   "source": [
    "gold_recovery_test.duplicated().sum()"
   ]
  },
  {
   "cell_type": "markdown",
   "id": "5aaf974e",
   "metadata": {},
   "source": [
    "Полных строк дубликатов нет, можно углубиться и заняться отдельными наборами параметров, но их так много, что не знаю будет ли это здесь уместно."
   ]
  },
  {
   "cell_type": "markdown",
   "id": "aeb2640d",
   "metadata": {},
   "source": [
    "#### Перевод столбцов `date` в формат datetime"
   ]
  },
  {
   "cell_type": "markdown",
   "id": "77934579",
   "metadata": {},
   "source": [
    "Присвоим значениям столбцов date тип данных datetime"
   ]
  },
  {
   "cell_type": "code",
   "execution_count": 23,
   "id": "4ba128e3",
   "metadata": {},
   "outputs": [],
   "source": [
    "gold_recovery_train['date'] = pd.to_datetime(gold_recovery_train['date'], format='%Y-%m-%d %H:%M:%S')\n",
    "gold_recovery_test['date'] = pd.to_datetime(gold_recovery_test['date'], format='%Y-%m-%d %H:%M:%S')\n",
    "gold_recovery_full['date'] = pd.to_datetime(gold_recovery_full['date'], format='%Y-%m-%d %H:%M:%S')"
   ]
  },
  {
   "cell_type": "code",
   "execution_count": 24,
   "id": "a1481806",
   "metadata": {},
   "outputs": [
    {
     "data": {
      "text/plain": [
       "0       2016-01-15 00:00:00\n",
       "1       2016-01-15 01:00:00\n",
       "2       2016-01-15 02:00:00\n",
       "3       2016-01-15 03:00:00\n",
       "4       2016-01-15 04:00:00\n",
       "                ...        \n",
       "14144   2018-08-18 06:59:59\n",
       "14145   2018-08-18 07:59:59\n",
       "14146   2018-08-18 08:59:59\n",
       "14147   2018-08-18 09:59:59\n",
       "14148   2018-08-18 10:59:59\n",
       "Name: date, Length: 14149, dtype: datetime64[ns]"
      ]
     },
     "execution_count": 24,
     "metadata": {},
     "output_type": "execute_result"
    }
   ],
   "source": [
    "# все оки\n",
    "gold_recovery_train['date']"
   ]
  },
  {
   "cell_type": "markdown",
   "id": "c72b39a9",
   "metadata": {},
   "source": [
    "#### Добавление таргетов в test выборку"
   ]
  },
  {
   "cell_type": "markdown",
   "id": "f7c56f7f",
   "metadata": {},
   "source": [
    "Добавим таргеты (`rougher.output.recovery` и `final.output.recovery`) в тестовую выборку, данные возьмем из *полного датасета*."
   ]
  },
  {
   "cell_type": "markdown",
   "id": "a2159447",
   "metadata": {},
   "source": [
    "Используем метод merge и смерджим таргеты из полного датасета в тестовый по колонке date."
   ]
  },
  {
   "cell_type": "code",
   "execution_count": 25,
   "id": "8fc85d4d",
   "metadata": {},
   "outputs": [],
   "source": [
    "gold_recovery_test = gold_recovery_test.merge(\n",
    "    gold_recovery_full[['date', 'rougher.output.recovery', 'final.output.recovery']], on='date'\n",
    ")"
   ]
  },
  {
   "cell_type": "code",
   "execution_count": 26,
   "id": "4d3a61aa",
   "metadata": {},
   "outputs": [
    {
     "data": {
      "text/html": [
       "<div>\n",
       "<style scoped>\n",
       "    .dataframe tbody tr th:only-of-type {\n",
       "        vertical-align: middle;\n",
       "    }\n",
       "\n",
       "    .dataframe tbody tr th {\n",
       "        vertical-align: top;\n",
       "    }\n",
       "\n",
       "    .dataframe thead th {\n",
       "        text-align: right;\n",
       "    }\n",
       "</style>\n",
       "<table border=\"1\" class=\"dataframe\">\n",
       "  <thead>\n",
       "    <tr style=\"text-align: right;\">\n",
       "      <th></th>\n",
       "      <th>date</th>\n",
       "      <th>rougher.output.recovery</th>\n",
       "      <th>final.output.recovery</th>\n",
       "    </tr>\n",
       "  </thead>\n",
       "  <tbody>\n",
       "    <tr>\n",
       "      <th>0</th>\n",
       "      <td>2016-09-01 00:59:59</td>\n",
       "      <td>89.993421</td>\n",
       "      <td>70.273583</td>\n",
       "    </tr>\n",
       "    <tr>\n",
       "      <th>1</th>\n",
       "      <td>2016-09-01 01:59:59</td>\n",
       "      <td>88.089657</td>\n",
       "      <td>68.910432</td>\n",
       "    </tr>\n",
       "    <tr>\n",
       "      <th>2</th>\n",
       "      <td>2016-09-01 02:59:59</td>\n",
       "      <td>88.412756</td>\n",
       "      <td>68.143213</td>\n",
       "    </tr>\n",
       "    <tr>\n",
       "      <th>3</th>\n",
       "      <td>2016-09-01 03:59:59</td>\n",
       "      <td>87.360133</td>\n",
       "      <td>67.776393</td>\n",
       "    </tr>\n",
       "    <tr>\n",
       "      <th>4</th>\n",
       "      <td>2016-09-01 04:59:59</td>\n",
       "      <td>83.236367</td>\n",
       "      <td>61.467078</td>\n",
       "    </tr>\n",
       "  </tbody>\n",
       "</table>\n",
       "</div>"
      ],
      "text/plain": [
       "                 date  rougher.output.recovery  final.output.recovery\n",
       "0 2016-09-01 00:59:59                89.993421              70.273583\n",
       "1 2016-09-01 01:59:59                88.089657              68.910432\n",
       "2 2016-09-01 02:59:59                88.412756              68.143213\n",
       "3 2016-09-01 03:59:59                87.360133              67.776393\n",
       "4 2016-09-01 04:59:59                83.236367              61.467078"
      ]
     },
     "execution_count": 26,
     "metadata": {},
     "output_type": "execute_result"
    }
   ],
   "source": [
    "# сравним параметры\n",
    "gold_recovery_test[['date', 'rougher.output.recovery', 'final.output.recovery']].head()"
   ]
  },
  {
   "cell_type": "code",
   "execution_count": 27,
   "id": "698096c9",
   "metadata": {},
   "outputs": [
    {
     "data": {
      "text/html": [
       "<div>\n",
       "<style scoped>\n",
       "    .dataframe tbody tr th:only-of-type {\n",
       "        vertical-align: middle;\n",
       "    }\n",
       "\n",
       "    .dataframe tbody tr th {\n",
       "        vertical-align: top;\n",
       "    }\n",
       "\n",
       "    .dataframe thead th {\n",
       "        text-align: right;\n",
       "    }\n",
       "</style>\n",
       "<table border=\"1\" class=\"dataframe\">\n",
       "  <thead>\n",
       "    <tr style=\"text-align: right;\">\n",
       "      <th></th>\n",
       "      <th>date</th>\n",
       "      <th>rougher.output.recovery</th>\n",
       "      <th>final.output.recovery</th>\n",
       "    </tr>\n",
       "  </thead>\n",
       "  <tbody>\n",
       "    <tr>\n",
       "      <th>4682</th>\n",
       "      <td>2016-09-01 00:59:59</td>\n",
       "      <td>89.993421</td>\n",
       "      <td>70.273583</td>\n",
       "    </tr>\n",
       "    <tr>\n",
       "      <th>4683</th>\n",
       "      <td>2016-09-01 01:59:59</td>\n",
       "      <td>88.089657</td>\n",
       "      <td>68.910432</td>\n",
       "    </tr>\n",
       "    <tr>\n",
       "      <th>4684</th>\n",
       "      <td>2016-09-01 02:59:59</td>\n",
       "      <td>88.412756</td>\n",
       "      <td>68.143213</td>\n",
       "    </tr>\n",
       "    <tr>\n",
       "      <th>4685</th>\n",
       "      <td>2016-09-01 03:59:59</td>\n",
       "      <td>87.360133</td>\n",
       "      <td>67.776393</td>\n",
       "    </tr>\n",
       "    <tr>\n",
       "      <th>4686</th>\n",
       "      <td>2016-09-01 04:59:59</td>\n",
       "      <td>83.236367</td>\n",
       "      <td>61.467078</td>\n",
       "    </tr>\n",
       "  </tbody>\n",
       "</table>\n",
       "</div>"
      ],
      "text/plain": [
       "                    date  rougher.output.recovery  final.output.recovery\n",
       "4682 2016-09-01 00:59:59                89.993421              70.273583\n",
       "4683 2016-09-01 01:59:59                88.089657              68.910432\n",
       "4684 2016-09-01 02:59:59                88.412756              68.143213\n",
       "4685 2016-09-01 03:59:59                87.360133              67.776393\n",
       "4686 2016-09-01 04:59:59                83.236367              61.467078"
      ]
     },
     "execution_count": 27,
     "metadata": {},
     "output_type": "execute_result"
    }
   ],
   "source": [
    "gold_recovery_full[['date', 'rougher.output.recovery', 'final.output.recovery']].query('date >= \"2016-09-01\"').head()"
   ]
  },
  {
   "cell_type": "markdown",
   "id": "962bd033",
   "metadata": {},
   "source": [
    "Сравнение параметров в этих датасетах показало что все смерджилось правильно"
   ]
  },
  {
   "cell_type": "markdown",
   "id": "5182388b",
   "metadata": {},
   "source": [
    "**`Промежуточный вывод`**:\n",
    "- Данные открыты и изучены\n",
    "- Проведена проверка правильности рассчета эффективности обогащения (рассчеты верны)\n",
    "- Проведен анализ признаков, недоступных в тестовой выборке (таргетов не оказалось в тестовой выборке)\n",
    "- Проведена предобработка данных (заполнены пропуски, столбец `date` переведен в формат datetime, два таргета были добавлены в тестовую выборку)"
   ]
  },
  {
   "cell_type": "markdown",
   "id": "3200013d",
   "metadata": {},
   "source": [
    "## Анализ данных"
   ]
  },
  {
   "cell_type": "markdown",
   "id": "ed0f2e72",
   "metadata": {},
   "source": [
    "### Анализ концентрации металлов (Au, Ag, Pb) на различных этапах очистки"
   ]
  },
  {
   "cell_type": "markdown",
   "id": "3f2354e7",
   "metadata": {},
   "source": [
    "Посмотрим, как меняется концентрация металлов (Au, Ag, Pb) на различных этапах очистки. Опишем выводы."
   ]
  },
  {
   "cell_type": "markdown",
   "id": "6679eb0f",
   "metadata": {},
   "source": [
    "Изучив технический процесс видим, что руда проходит через **три этапа**: *флотация*, *первый этап очистки* и *второй этап очистки*.\n",
    "\n",
    "Изучим также и параметры, увидим, что концентрация каждого из металлов после каждого этапа будет, соответственно, в параметрах: `rougher.output.concentrate_`, `primary_cleaner.output.concentrate_` и `final.output.concentrate_`. Также, добавим в субдатафреймы информацию и о исходном сырье `rougher.input.feed_`\n",
    "\n",
    "\n",
    "**Но!** Для начала *уберем из тренировочной выборки аномалии (выбросы)*:"
   ]
  },
  {
   "cell_type": "markdown",
   "id": "0e0dfa95",
   "metadata": {},
   "source": [
    "Я посмотрел на отдельные графики по параметрам и *выяснилось, что*:\n",
    "\n",
    "\n",
    "Для золота есть выбросы в трех параметрах: `rougher.output.concentrate_au`, `primary_cleaner.output.concentrate_au`, `final.output.concentrate_au`, это *нулевые значения*"
   ]
  },
  {
   "cell_type": "code",
   "execution_count": 28,
   "id": "a341807a",
   "metadata": {},
   "outputs": [],
   "source": [
    "# удаляем выбросы для золота\n",
    "for i in ['rougher.output.concentrate_au', 'primary_cleaner.output.concentrate_au', 'final.output.concentrate_au']:\n",
    "    gold_recovery_train = gold_recovery_train[gold_recovery_train[i] != 0]"
   ]
  },
  {
   "cell_type": "markdown",
   "id": "5f60f615",
   "metadata": {},
   "source": [
    "Для серебра выяснилось, что выбросы есть в двух параметрах: `primary_cleaner.output.concentrate_ag` и `final.output.concentrate_ag`, это *нулевые значения*"
   ]
  },
  {
   "cell_type": "code",
   "execution_count": 29,
   "id": "917f135c",
   "metadata": {},
   "outputs": [],
   "source": [
    "# удаляем выбросы для серебра\n",
    "for i in ['primary_cleaner.output.concentrate_ag', 'final.output.concentrate_ag']:\n",
    "    gold_recovery_train = gold_recovery_train[gold_recovery_train[i] != 0]"
   ]
  },
  {
   "cell_type": "markdown",
   "id": "51510ce5",
   "metadata": {},
   "source": [
    "Для свинца выяснилось, что выбросы есть только в одном параметре: `primary_cleaner.output.concentrate_pb`, это *значения 0.01*"
   ]
  },
  {
   "cell_type": "code",
   "execution_count": 30,
   "id": "c6aceea8",
   "metadata": {},
   "outputs": [],
   "source": [
    "# удаляем выбросы для свинца\n",
    "gold_recovery_train = gold_recovery_train[gold_recovery_train['primary_cleaner.output.concentrate_pb'] > 0.01]"
   ]
  },
  {
   "cell_type": "code",
   "execution_count": 31,
   "id": "f40bfa30",
   "metadata": {},
   "outputs": [],
   "source": [
    "# для каждого из металлов создадим свои субдатафреймы\n",
    "concentrate_au = gold_recovery_train[\n",
    "    ['rougher.input.feed_au', \n",
    "     'rougher.output.concentrate_au', \n",
    "     'primary_cleaner.output.concentrate_au', \n",
    "     'final.output.concentrate_au']\n",
    "]\n",
    "concentrate_ag = gold_recovery_train[\n",
    "    ['rougher.input.feed_ag', \n",
    "     'rougher.output.concentrate_ag', \n",
    "     'primary_cleaner.output.concentrate_ag', \n",
    "     'final.output.concentrate_ag']\n",
    "]\n",
    "concentrate_pb = gold_recovery_train[\n",
    "    ['rougher.input.feed_pb', \n",
    "     'rougher.output.concentrate_pb', \n",
    "     'primary_cleaner.output.concentrate_pb', \n",
    "     'final.output.concentrate_pb']\n",
    "]"
   ]
  },
  {
   "cell_type": "code",
   "execution_count": 32,
   "id": "5cc6225f",
   "metadata": {},
   "outputs": [],
   "source": [
    "# для красоты\n",
    "sns.set(rc={'figure.figsize':(11, 8)})"
   ]
  },
  {
   "cell_type": "code",
   "execution_count": 33,
   "id": "a8f9f88d",
   "metadata": {},
   "outputs": [],
   "source": [
    "# добавил функцию для более лаконичного кода\n",
    "def concentrates_histplot(data, name):\n",
    "    sns.histplot(data=data, bins=100)\n",
    "\n",
    "    plt.title(f'Концентрация {name} после разных этапов очистки', size=15)\n",
    "    plt.ylabel('Кол-во наблюдений')\n",
    "    plt.xlabel(f'Концентрация {name}, %')\n",
    "    plt.legend(labels=[\n",
    "        \"После вторичной очистки\", \n",
    "        \"После первичной очистки\", \n",
    "        \"После флотации\",\n",
    "        \"Исходное сырье\"\n",
    "    ])"
   ]
  },
  {
   "cell_type": "markdown",
   "id": "a5113e1f",
   "metadata": {},
   "source": [
    "Приступим к построению графиков:"
   ]
  },
  {
   "cell_type": "code",
   "execution_count": 34,
   "id": "53bfef9b",
   "metadata": {},
   "outputs": [
    {
     "data": {
      "image/png": "[encoded data removed]",
      "text/plain": [
       "<Figure size 1100x800 with 1 Axes>"
      ]
     },
     "metadata": {},
     "output_type": "display_data"
    }
   ],
   "source": [
    "concentrates_histplot(concentrate_au, 'золота (au)')"
   ]
  },
  {
   "cell_type": "markdown",
   "id": "06ea34a9",
   "metadata": {},
   "source": [
    "По мере прохождения этапов очистки, **средняя концентрация золота увеличивается, с ~9% до ~45%**"
   ]
  },
  {
   "cell_type": "code",
   "execution_count": 35,
   "id": "3bdd2620",
   "metadata": {},
   "outputs": [
    {
     "data": {
      "image/png": "[encoded data removed]",
      "text/plain": [
       "<Figure size 1100x800 with 1 Axes>"
      ]
     },
     "metadata": {},
     "output_type": "display_data"
    }
   ],
   "source": [
    "concentrates_histplot(concentrate_ag, 'серебра (ag)')"
   ]
  },
  {
   "cell_type": "markdown",
   "id": "1eda84b1",
   "metadata": {},
   "source": [
    "По мере прохождения этапов очистки, **средняя концентрация серебра уменьшается с ~7.5% до ~5%**"
   ]
  },
  {
   "cell_type": "code",
   "execution_count": 36,
   "id": "9deeefe8",
   "metadata": {},
   "outputs": [
    {
     "data": {
      "image/png": "[encoded data removed]",
      "text/plain": [
       "<Figure size 1100x800 with 1 Axes>"
      ]
     },
     "metadata": {},
     "output_type": "display_data"
    }
   ],
   "source": [
    "concentrates_histplot(concentrate_pb, 'свинца (pb)')"
   ]
  },
  {
   "cell_type": "markdown",
   "id": "d87057e8",
   "metadata": {},
   "source": [
    "Средняя концентрация свинца же, наоборот, **вырастает с ~3% до ~11%**"
   ]
  },
  {
   "cell_type": "markdown",
   "id": "b6909be8",
   "metadata": {},
   "source": [
    "### Сравнение распределения размеров гранул сырья на обучающей и тестовой выборках"
   ]
  },
  {
   "cell_type": "markdown",
   "id": "7384a93d",
   "metadata": {},
   "source": [
    "Сравним распределения размеров гранул сырья на обучающей и тестовой выборках. Если распределения сильно отличаются друг от друга, оценка модели будет неправильной."
   ]
  },
  {
   "cell_type": "markdown",
   "id": "e8b3fe09",
   "metadata": {},
   "source": [
    "Размер гранул сырья находится в параметрах: `rougher.input.feed_size `, `primary_cleaner.input.feed_size`"
   ]
  },
  {
   "cell_type": "markdown",
   "id": "432ad6de",
   "metadata": {},
   "source": [
    "Создадим отдельные субдатафреймы с данными по этим параметрам для train и test выборок"
   ]
  },
  {
   "cell_type": "code",
   "execution_count": 37,
   "id": "30cc3aa0",
   "metadata": {},
   "outputs": [],
   "source": [
    "train_feed_sizes = gold_recovery_train[\n",
    "    ['rougher.input.feed_size', 'primary_cleaner.input.feed_size']\n",
    "]\n",
    "test_feed_sizes = gold_recovery_test[\n",
    "    ['rougher.input.feed_size', 'primary_cleaner.input.feed_size']\n",
    "]"
   ]
  },
  {
   "cell_type": "code",
   "execution_count": 38,
   "id": "12701909",
   "metadata": {},
   "outputs": [
    {
     "data": {
      "text/plain": [
       "<matplotlib.legend.Legend at 0x294804e4100>"
      ]
     },
     "execution_count": 38,
     "metadata": {},
     "output_type": "execute_result"
    },
    {
     "data": {
      "image/png": "[encoded data removed]",
      "text/plain": [
       "<Figure size 1100x800 with 1 Axes>"
      ]
     },
     "metadata": {},
     "output_type": "display_data"
    }
   ],
   "source": [
    "train_feed_sizes.plot(kind='kde', xlim=(0, 100))\n",
    "\n",
    "plt.title('Распределение размеров гранул сырья на train', size=15)\n",
    "plt.xlabel('Размер гранулы')\n",
    "plt.ylabel('Плотность')\n",
    "plt.legend(labels=[\n",
    "    \"Перед флотацией\", \n",
    "    \"Перед первичной очисткой\",\n",
    "])"
   ]
  },
  {
   "cell_type": "code",
   "execution_count": 39,
   "id": "59d2596d",
   "metadata": {},
   "outputs": [
    {
     "data": {
      "text/plain": [
       "<matplotlib.legend.Legend at 0x29480d3f490>"
      ]
     },
     "execution_count": 39,
     "metadata": {},
     "output_type": "execute_result"
    },
    {
     "data": {
      "image/png": "[encoded data removed]",
      "text/plain": [
       "<Figure size 1100x800 with 1 Axes>"
      ]
     },
     "metadata": {},
     "output_type": "display_data"
    }
   ],
   "source": [
    "test_feed_sizes.plot(kind='kde', xlim=(0, 100))\n",
    "\n",
    "plt.title('Распределение размеров гранул сырья на test', size=15)\n",
    "plt.xlabel('Размер гранулы')\n",
    "plt.ylabel('Плотность')\n",
    "plt.legend(labels=[\n",
    "    \"Перед флотацией\", \n",
    "    \"Перед первичной очисткой\",\n",
    "])"
   ]
  },
  {
   "cell_type": "markdown",
   "id": "057f028c",
   "metadata": {},
   "source": [
    "Распределения друг на друга *очень похожи*, оценка модели должна быть правильной."
   ]
  },
  {
   "cell_type": "markdown",
   "id": "01bbad81",
   "metadata": {},
   "source": [
    "### Исследование суммарной концентрации всех веществ на разных стадиях: в сырье, в черновом и финальном концентратах"
   ]
  },
  {
   "cell_type": "markdown",
   "id": "2cd908fb",
   "metadata": {},
   "source": [
    "Исследуем суммарную концентрацию всех веществ на разных стадиях: в сырье, в черновом и финальном концентратах. "
   ]
  },
  {
   "cell_type": "markdown",
   "id": "f3085510",
   "metadata": {},
   "source": [
    "Помним, что концентрация каждого из металлов после каждого этапа будет, соответственно, в параметрах: `rougher.output.concentrate_`, `primary_cleaner.output.concentrate_` и `final.output.concentrate_`\n",
    "\n",
    "Тогда, создадим субдатафрейм с информацией по суммарной концентрации для разных этапов"
   ]
  },
  {
   "cell_type": "code",
   "execution_count": 40,
   "id": "7217b0c8",
   "metadata": {},
   "outputs": [],
   "source": [
    "# объявим переменную\n",
    "sum_of_concentrations = pd.DataFrame()\n",
    "\n",
    "# добавляем столбец с суммами концентраций исходного сырья\n",
    "sum_of_concentrations['input_feed_concentraions'] = (\n",
    "    gold_recovery_train['rougher.input.feed_au'] + \n",
    "    gold_recovery_train['rougher.input.feed_ag'] + \n",
    "    gold_recovery_train['rougher.input.feed_pb']\n",
    ")\n",
    "\n",
    "# добавляем столбец с суммами концентраций после флотации\n",
    "sum_of_concentrations['rougher_concentraions'] = (\n",
    "    gold_recovery_train['rougher.output.concentrate_au'] + \n",
    "    gold_recovery_train['rougher.output.concentrate_ag'] + \n",
    "    gold_recovery_train['rougher.output.concentrate_pb']\n",
    ")\n",
    "\n",
    "# добавляем столбец с суммами концентраций после первичной очистки\n",
    "sum_of_concentrations['primary_cleaner_concentraions'] = (\n",
    "    gold_recovery_train['primary_cleaner.output.concentrate_au'] + \n",
    "    gold_recovery_train['primary_cleaner.output.concentrate_ag'] + \n",
    "    gold_recovery_train['primary_cleaner.output.concentrate_pb']\n",
    ")\n",
    "\n",
    "# добавляем столбец с суммами концентраций после вторичной очистки\n",
    "sum_of_concentrations['final_concentraions'] = (\n",
    "    gold_recovery_train['final.output.concentrate_au'] + \n",
    "    gold_recovery_train['final.output.concentrate_ag'] + \n",
    "    gold_recovery_train['final.output.concentrate_pb']\n",
    ")"
   ]
  },
  {
   "cell_type": "code",
   "execution_count": 41,
   "id": "e5302c4e",
   "metadata": {},
   "outputs": [
    {
     "data": {
      "text/html": [
       "<div>\n",
       "<style scoped>\n",
       "    .dataframe tbody tr th:only-of-type {\n",
       "        vertical-align: middle;\n",
       "    }\n",
       "\n",
       "    .dataframe tbody tr th {\n",
       "        vertical-align: top;\n",
       "    }\n",
       "\n",
       "    .dataframe thead th {\n",
       "        text-align: right;\n",
       "    }\n",
       "</style>\n",
       "<table border=\"1\" class=\"dataframe\">\n",
       "  <thead>\n",
       "    <tr style=\"text-align: right;\">\n",
       "      <th></th>\n",
       "      <th>input_feed_concentraions</th>\n",
       "      <th>rougher_concentraions</th>\n",
       "      <th>primary_cleaner_concentraions</th>\n",
       "      <th>final_concentraions</th>\n",
       "    </tr>\n",
       "  </thead>\n",
       "  <tbody>\n",
       "    <tr>\n",
       "      <th>0</th>\n",
       "      <td>14.871440</td>\n",
       "      <td>38.395653</td>\n",
       "      <td>53.111627</td>\n",
       "      <td>58.137072</td>\n",
       "    </tr>\n",
       "    <tr>\n",
       "      <th>1</th>\n",
       "      <td>14.905729</td>\n",
       "      <td>38.945647</td>\n",
       "      <td>53.174338</td>\n",
       "      <td>58.699942</td>\n",
       "    </tr>\n",
       "    <tr>\n",
       "      <th>2</th>\n",
       "      <td>14.638299</td>\n",
       "      <td>38.649756</td>\n",
       "      <td>52.927464</td>\n",
       "      <td>58.927421</td>\n",
       "    </tr>\n",
       "    <tr>\n",
       "      <th>3</th>\n",
       "      <td>14.199305</td>\n",
       "      <td>38.411473</td>\n",
       "      <td>43.979185</td>\n",
       "      <td>58.714815</td>\n",
       "    </tr>\n",
       "    <tr>\n",
       "      <th>4</th>\n",
       "      <td>13.511497</td>\n",
       "      <td>38.867359</td>\n",
       "      <td>52.121146</td>\n",
       "      <td>59.065251</td>\n",
       "    </tr>\n",
       "    <tr>\n",
       "      <th>...</th>\n",
       "      <td>...</td>\n",
       "      <td>...</td>\n",
       "      <td>...</td>\n",
       "      <td>...</td>\n",
       "    </tr>\n",
       "    <tr>\n",
       "      <th>14144</th>\n",
       "      <td>16.045275</td>\n",
       "      <td>40.712449</td>\n",
       "      <td>51.945355</td>\n",
       "      <td>61.295107</td>\n",
       "    </tr>\n",
       "    <tr>\n",
       "      <th>14145</th>\n",
       "      <td>15.104931</td>\n",
       "      <td>40.755632</td>\n",
       "      <td>52.161648</td>\n",
       "      <td>61.412113</td>\n",
       "    </tr>\n",
       "    <tr>\n",
       "      <th>14146</th>\n",
       "      <td>14.515579</td>\n",
       "      <td>32.589863</td>\n",
       "      <td>51.619196</td>\n",
       "      <td>61.340054</td>\n",
       "    </tr>\n",
       "    <tr>\n",
       "      <th>14147</th>\n",
       "      <td>14.313448</td>\n",
       "      <td>40.148948</td>\n",
       "      <td>50.273714</td>\n",
       "      <td>61.401016</td>\n",
       "    </tr>\n",
       "    <tr>\n",
       "      <th>14148</th>\n",
       "      <td>14.399936</td>\n",
       "      <td>40.465768</td>\n",
       "      <td>49.544487</td>\n",
       "      <td>61.635645</td>\n",
       "    </tr>\n",
       "  </tbody>\n",
       "</table>\n",
       "<p>13602 rows × 4 columns</p>\n",
       "</div>"
      ],
      "text/plain": [
       "       input_feed_concentraions  rougher_concentraions  \\\n",
       "0                     14.871440              38.395653   \n",
       "1                     14.905729              38.945647   \n",
       "2                     14.638299              38.649756   \n",
       "3                     14.199305              38.411473   \n",
       "4                     13.511497              38.867359   \n",
       "...                         ...                    ...   \n",
       "14144                 16.045275              40.712449   \n",
       "14145                 15.104931              40.755632   \n",
       "14146                 14.515579              32.589863   \n",
       "14147                 14.313448              40.148948   \n",
       "14148                 14.399936              40.465768   \n",
       "\n",
       "       primary_cleaner_concentraions  final_concentraions  \n",
       "0                          53.111627            58.137072  \n",
       "1                          53.174338            58.699942  \n",
       "2                          52.927464            58.927421  \n",
       "3                          43.979185            58.714815  \n",
       "4                          52.121146            59.065251  \n",
       "...                              ...                  ...  \n",
       "14144                      51.945355            61.295107  \n",
       "14145                      52.161648            61.412113  \n",
       "14146                      51.619196            61.340054  \n",
       "14147                      50.273714            61.401016  \n",
       "14148                      49.544487            61.635645  \n",
       "\n",
       "[13602 rows x 4 columns]"
      ]
     },
     "execution_count": 41,
     "metadata": {},
     "output_type": "execute_result"
    }
   ],
   "source": [
    "sum_of_concentrations"
   ]
  },
  {
   "cell_type": "code",
   "execution_count": 42,
   "id": "1ed4200c",
   "metadata": {},
   "outputs": [
    {
     "data": {
      "text/plain": [
       "<matplotlib.legend.Legend at 0x29480385550>"
      ]
     },
     "execution_count": 42,
     "metadata": {},
     "output_type": "execute_result"
    },
    {
     "data": {
      "image/png": "[encoded data removed]",
      "text/plain": [
       "<Figure size 1100x800 with 1 Axes>"
      ]
     },
     "metadata": {},
     "output_type": "display_data"
    }
   ],
   "source": [
    "sns.histplot(data=sum_of_concentrations)\n",
    "\n",
    "plt.title('Cуммарная концентрация всех веществ на разных стадиях', size=15)\n",
    "plt.ylabel('Кол-во наблюдений')\n",
    "plt.xlabel('Концентрация веществ, %')\n",
    "plt.legend(labels=[\n",
    "    \"После вторичной очистки\", \n",
    "    \"После первичной очистки\", \n",
    "    \"После флотации\",\n",
    "    \"Исходное сырье\"\n",
    "])"
   ]
  },
  {
   "cell_type": "markdown",
   "id": "10b776c7",
   "metadata": {},
   "source": [
    "По мере прохождения этапов очистки суммарная концентрация веществ увеличивается, **финальная средняя концентрация веществ: ~60%**"
   ]
  },
  {
   "cell_type": "markdown",
   "id": "6c7dc07e",
   "metadata": {},
   "source": [
    "**`Провежуточный вывод`**:\n",
    "- По мере прохождения этапов очистки, средняя концентрация *золота* **увеличивается, вплоть до 45-50%**\n",
    "- По мере прохождения этапов очистки, средняя концентрация *серебра* **уменьшается вплоть до ~5%**\n",
    "- Средняя концентрация *свинца* же, наоборот, **вырастает с ~7.5% до ~11%**\n",
    "- Распределения друг на друга *очень похожи*, оценка модели должна быть **правильной**\n",
    "- По мере прохождения этапов очистки *суммарная концентрация веществ увеличивается*, **финальная средняя концентрация веществ: ~60%**"
   ]
  },
  {
   "cell_type": "markdown",
   "id": "78497d7b",
   "metadata": {},
   "source": [
    "## Модель"
   ]
  },
  {
   "cell_type": "markdown",
   "id": "3535626c",
   "metadata": {},
   "source": [
    "### Функция для вычисления итоговой sMAPE"
   ]
  },
  {
   "cell_type": "markdown",
   "id": "188c3cb3",
   "metadata": {},
   "source": [
    "Напишем функцию для вычисления итоговой sMAPE."
   ]
  },
  {
   "attachments": {
    "smape_1576239058.jpg": {
     "image/jpeg": "[encoded data removed]"
    }
   },
   "cell_type": "markdown",
   "id": "bf386bc8",
   "metadata": {},
   "source": [
    "Формулы метрик качества:\n",
    "\n",
    "![smape_1576239058.jpg](attachment:smape_1576239058.jpg)"
   ]
  },
  {
   "attachments": {
    "_smape_1576239054.jpg": {
     "image/jpeg": "[encoded data removed]"
    }
   },
   "cell_type": "markdown",
   "id": "e2b74a65",
   "metadata": {},
   "source": [
    "![_smape_1576239054.jpg](attachment:_smape_1576239054.jpg)"
   ]
  },
  {
   "cell_type": "markdown",
   "id": "dbfa27a7",
   "metadata": {},
   "source": [
    "Объявим функцию `smape`, на вход она будет принимать значения *целевого признака* и *предсказания целевого признака*, а на выход убдет подавать расчитанное значение **sMAPE**"
   ]
  },
  {
   "cell_type": "code",
   "execution_count": 43,
   "id": "d371f544",
   "metadata": {},
   "outputs": [],
   "source": [
    "def smape(y_true, y_pred):\n",
    "    error = np.abs(y_true - y_pred)\n",
    "    scale = (np.abs(y_true) + np.abs(y_pred)) / 2\n",
    "    \n",
    "\n",
    "    return np.mean(error / scale) * 100"
   ]
  },
  {
   "cell_type": "markdown",
   "id": "c4db9583",
   "metadata": {},
   "source": [
    "Также объявим функцию и для итогового **sMAPE**"
   ]
  },
  {
   "cell_type": "code",
   "execution_count": 44,
   "id": "c8447750",
   "metadata": {},
   "outputs": [],
   "source": [
    "def final_smape(rougher, final):\n",
    "    return (rougher / 100) * 25 + (final / 100) * 75"
   ]
  },
  {
   "cell_type": "markdown",
   "id": "ac0a4ffa",
   "metadata": {},
   "source": [
    "### Обучение разных моделей и оценка их качества кросс-валидацией"
   ]
  },
  {
   "cell_type": "markdown",
   "id": "ae7ab669",
   "metadata": {},
   "source": [
    "Обучим разные модели и оценим их качество кросс-валидацией. Выберем лучшую модель и проверим её на тестовой выборке. Опишем выводы."
   ]
  },
  {
   "cell_type": "markdown",
   "id": "382159b7",
   "metadata": {},
   "source": [
    "#### Подготовка данных"
   ]
  },
  {
   "cell_type": "markdown",
   "id": "72574a5f",
   "metadata": {},
   "source": [
    "Начнем с подготовки выборок, в удалим \"лишние\" параметры из train выборки т.к. обучаться мы должны по тем же параметрам что есть в test выборке."
   ]
  },
  {
   "cell_type": "code",
   "execution_count": 45,
   "id": "e512a04e",
   "metadata": {},
   "outputs": [
    {
     "data": {
      "text/plain": [
       "{'final.output.concentrate_ag',\n",
       " 'final.output.concentrate_au',\n",
       " 'final.output.concentrate_pb',\n",
       " 'final.output.concentrate_sol',\n",
       " 'final.output.tail_ag',\n",
       " 'final.output.tail_au',\n",
       " 'final.output.tail_pb',\n",
       " 'final.output.tail_sol',\n",
       " 'primary_cleaner.output.concentrate_ag',\n",
       " 'primary_cleaner.output.concentrate_au',\n",
       " 'primary_cleaner.output.concentrate_pb',\n",
       " 'primary_cleaner.output.concentrate_sol',\n",
       " 'primary_cleaner.output.tail_ag',\n",
       " 'primary_cleaner.output.tail_au',\n",
       " 'primary_cleaner.output.tail_pb',\n",
       " 'primary_cleaner.output.tail_sol',\n",
       " 'rougher.calculation.au_pb_ratio',\n",
       " 'rougher.calculation.floatbank10_sulfate_to_au_feed',\n",
       " 'rougher.calculation.floatbank11_sulfate_to_au_feed',\n",
       " 'rougher.calculation.sulfate_to_au_concentrate',\n",
       " 'rougher.output.concentrate_ag',\n",
       " 'rougher.output.concentrate_au',\n",
       " 'rougher.output.concentrate_pb',\n",
       " 'rougher.output.concentrate_sol',\n",
       " 'rougher.output.tail_ag',\n",
       " 'rougher.output.tail_au',\n",
       " 'rougher.output.tail_pb',\n",
       " 'rougher.output.tail_sol',\n",
       " 'secondary_cleaner.output.tail_ag',\n",
       " 'secondary_cleaner.output.tail_au',\n",
       " 'secondary_cleaner.output.tail_pb',\n",
       " 'secondary_cleaner.output.tail_sol'}"
      ]
     },
     "execution_count": 45,
     "metadata": {},
     "output_type": "execute_result"
    }
   ],
   "source": [
    "# т.к. таргеты уже были добавлены в тест выборку достаточно будет вычесть одно множество из другого\n",
    "columns_to_drop = set(gold_recovery_train.columns) - set(gold_recovery_test.columns)\n",
    "columns_to_drop"
   ]
  },
  {
   "cell_type": "markdown",
   "id": "dbed665d",
   "metadata": {},
   "source": [
    "Выше получили лишние параметры, теперь удалим их из train выборки"
   ]
  },
  {
   "cell_type": "code",
   "execution_count": 46,
   "id": "20d88cf3",
   "metadata": {},
   "outputs": [],
   "source": [
    "gold_recovery_train = gold_recovery_train.drop(columns=columns_to_drop)"
   ]
  },
  {
   "cell_type": "code",
   "execution_count": 47,
   "id": "239cab1c",
   "metadata": {},
   "outputs": [
    {
     "name": "stdout",
     "output_type": "stream",
     "text": [
      "<class 'pandas.core.frame.DataFrame'>\n",
      "Int64Index: 13602 entries, 0 to 14148\n",
      "Data columns (total 55 columns):\n",
      " #   Column                                      Non-Null Count  Dtype         \n",
      "---  ------                                      --------------  -----         \n",
      " 0   date                                        13602 non-null  datetime64[ns]\n",
      " 1   final.output.recovery                       13602 non-null  float64       \n",
      " 2   primary_cleaner.input.sulfate               13602 non-null  float64       \n",
      " 3   primary_cleaner.input.depressant            13602 non-null  float64       \n",
      " 4   primary_cleaner.input.feed_size             13602 non-null  float64       \n",
      " 5   primary_cleaner.input.xanthate              13602 non-null  float64       \n",
      " 6   primary_cleaner.state.floatbank8_a_air      13602 non-null  float64       \n",
      " 7   primary_cleaner.state.floatbank8_a_level    13602 non-null  float64       \n",
      " 8   primary_cleaner.state.floatbank8_b_air      13602 non-null  float64       \n",
      " 9   primary_cleaner.state.floatbank8_b_level    13602 non-null  float64       \n",
      " 10  primary_cleaner.state.floatbank8_c_air      13602 non-null  float64       \n",
      " 11  primary_cleaner.state.floatbank8_c_level    13602 non-null  float64       \n",
      " 12  primary_cleaner.state.floatbank8_d_air      13602 non-null  float64       \n",
      " 13  primary_cleaner.state.floatbank8_d_level    13602 non-null  float64       \n",
      " 14  rougher.input.feed_ag                       13602 non-null  float64       \n",
      " 15  rougher.input.feed_pb                       13602 non-null  float64       \n",
      " 16  rougher.input.feed_rate                     13602 non-null  float64       \n",
      " 17  rougher.input.feed_size                     13602 non-null  float64       \n",
      " 18  rougher.input.feed_sol                      13602 non-null  float64       \n",
      " 19  rougher.input.feed_au                       13602 non-null  float64       \n",
      " 20  rougher.input.floatbank10_sulfate           13602 non-null  float64       \n",
      " 21  rougher.input.floatbank10_xanthate          13602 non-null  float64       \n",
      " 22  rougher.input.floatbank11_sulfate           13602 non-null  float64       \n",
      " 23  rougher.input.floatbank11_xanthate          13602 non-null  float64       \n",
      " 24  rougher.output.recovery                     13602 non-null  float64       \n",
      " 25  rougher.state.floatbank10_a_air             13602 non-null  float64       \n",
      " 26  rougher.state.floatbank10_a_level           13602 non-null  float64       \n",
      " 27  rougher.state.floatbank10_b_air             13602 non-null  float64       \n",
      " 28  rougher.state.floatbank10_b_level           13602 non-null  float64       \n",
      " 29  rougher.state.floatbank10_c_air             13602 non-null  float64       \n",
      " 30  rougher.state.floatbank10_c_level           13602 non-null  float64       \n",
      " 31  rougher.state.floatbank10_d_air             13602 non-null  float64       \n",
      " 32  rougher.state.floatbank10_d_level           13602 non-null  float64       \n",
      " 33  rougher.state.floatbank10_e_air             13602 non-null  float64       \n",
      " 34  rougher.state.floatbank10_e_level           13602 non-null  float64       \n",
      " 35  rougher.state.floatbank10_f_air             13602 non-null  float64       \n",
      " 36  rougher.state.floatbank10_f_level           13602 non-null  float64       \n",
      " 37  secondary_cleaner.state.floatbank2_a_air    13602 non-null  float64       \n",
      " 38  secondary_cleaner.state.floatbank2_a_level  13602 non-null  float64       \n",
      " 39  secondary_cleaner.state.floatbank2_b_air    13602 non-null  float64       \n",
      " 40  secondary_cleaner.state.floatbank2_b_level  13602 non-null  float64       \n",
      " 41  secondary_cleaner.state.floatbank3_a_air    13602 non-null  float64       \n",
      " 42  secondary_cleaner.state.floatbank3_a_level  13602 non-null  float64       \n",
      " 43  secondary_cleaner.state.floatbank3_b_air    13602 non-null  float64       \n",
      " 44  secondary_cleaner.state.floatbank3_b_level  13602 non-null  float64       \n",
      " 45  secondary_cleaner.state.floatbank4_a_air    13602 non-null  float64       \n",
      " 46  secondary_cleaner.state.floatbank4_a_level  13602 non-null  float64       \n",
      " 47  secondary_cleaner.state.floatbank4_b_air    13602 non-null  float64       \n",
      " 48  secondary_cleaner.state.floatbank4_b_level  13602 non-null  float64       \n",
      " 49  secondary_cleaner.state.floatbank5_a_air    13602 non-null  float64       \n",
      " 50  secondary_cleaner.state.floatbank5_a_level  13602 non-null  float64       \n",
      " 51  secondary_cleaner.state.floatbank5_b_air    13602 non-null  float64       \n",
      " 52  secondary_cleaner.state.floatbank5_b_level  13602 non-null  float64       \n",
      " 53  secondary_cleaner.state.floatbank6_a_air    13602 non-null  float64       \n",
      " 54  secondary_cleaner.state.floatbank6_a_level  13602 non-null  float64       \n",
      "dtypes: datetime64[ns](1), float64(54)\n",
      "memory usage: 5.8 MB\n"
     ]
    }
   ],
   "source": [
    "# отлично\n",
    "gold_recovery_train.info()"
   ]
  },
  {
   "cell_type": "markdown",
   "id": "e8bd1437",
   "metadata": {},
   "source": [
    "Т.к. одна из моделей будет линейной проведем *масштабирование признаков*. Также разделим датасеты на X и y"
   ]
  },
  {
   "cell_type": "code",
   "execution_count": 48,
   "id": "32ee648a",
   "metadata": {},
   "outputs": [],
   "source": [
    "# для обучающей выборки\n",
    "X_train = gold_recovery_train.drop(['date', 'rougher.output.recovery', 'final.output.recovery'], axis=1)\n",
    "y_rougher_train = gold_recovery_train['rougher.output.recovery']\n",
    "y_final_train = gold_recovery_train['final.output.recovery']\n",
    "\n",
    "# для тестовой выборки\n",
    "X_test = gold_recovery_test.drop(['date', 'rougher.output.recovery', 'final.output.recovery'], axis=1)\n",
    "y_rougher_test = gold_recovery_test['rougher.output.recovery']\n",
    "y_final_test = gold_recovery_test['final.output.recovery']"
   ]
  },
  {
   "cell_type": "code",
   "execution_count": 49,
   "id": "bd8ec394",
   "metadata": {},
   "outputs": [
    {
     "data": {
      "text/html": [
       "<div>\n",
       "<style scoped>\n",
       "    .dataframe tbody tr th:only-of-type {\n",
       "        vertical-align: middle;\n",
       "    }\n",
       "\n",
       "    .dataframe tbody tr th {\n",
       "        vertical-align: top;\n",
       "    }\n",
       "\n",
       "    .dataframe thead th {\n",
       "        text-align: right;\n",
       "    }\n",
       "</style>\n",
       "<table border=\"1\" class=\"dataframe\">\n",
       "  <thead>\n",
       "    <tr style=\"text-align: right;\">\n",
       "      <th></th>\n",
       "      <th>primary_cleaner.input.sulfate</th>\n",
       "      <th>primary_cleaner.input.depressant</th>\n",
       "      <th>primary_cleaner.input.feed_size</th>\n",
       "      <th>primary_cleaner.input.xanthate</th>\n",
       "      <th>primary_cleaner.state.floatbank8_a_air</th>\n",
       "      <th>primary_cleaner.state.floatbank8_a_level</th>\n",
       "      <th>primary_cleaner.state.floatbank8_b_air</th>\n",
       "      <th>primary_cleaner.state.floatbank8_b_level</th>\n",
       "      <th>primary_cleaner.state.floatbank8_c_air</th>\n",
       "      <th>primary_cleaner.state.floatbank8_c_level</th>\n",
       "      <th>...</th>\n",
       "      <th>secondary_cleaner.state.floatbank4_a_air</th>\n",
       "      <th>secondary_cleaner.state.floatbank4_a_level</th>\n",
       "      <th>secondary_cleaner.state.floatbank4_b_air</th>\n",
       "      <th>secondary_cleaner.state.floatbank4_b_level</th>\n",
       "      <th>secondary_cleaner.state.floatbank5_a_air</th>\n",
       "      <th>secondary_cleaner.state.floatbank5_a_level</th>\n",
       "      <th>secondary_cleaner.state.floatbank5_b_air</th>\n",
       "      <th>secondary_cleaner.state.floatbank5_b_level</th>\n",
       "      <th>secondary_cleaner.state.floatbank6_a_air</th>\n",
       "      <th>secondary_cleaner.state.floatbank6_a_level</th>\n",
       "    </tr>\n",
       "  </thead>\n",
       "  <tbody>\n",
       "    <tr>\n",
       "      <th>0</th>\n",
       "      <td>127.092003</td>\n",
       "      <td>10.128295</td>\n",
       "      <td>7.25</td>\n",
       "      <td>0.988759</td>\n",
       "      <td>1549.775757</td>\n",
       "      <td>-498.912140</td>\n",
       "      <td>1551.434204</td>\n",
       "      <td>-516.403442</td>\n",
       "      <td>1549.873901</td>\n",
       "      <td>-498.666595</td>\n",
       "      <td>...</td>\n",
       "      <td>14.016835</td>\n",
       "      <td>-502.488007</td>\n",
       "      <td>12.099931</td>\n",
       "      <td>-504.715942</td>\n",
       "      <td>9.925633</td>\n",
       "      <td>-498.310211</td>\n",
       "      <td>8.079666</td>\n",
       "      <td>-500.470978</td>\n",
       "      <td>14.151341</td>\n",
       "      <td>-605.841980</td>\n",
       "    </tr>\n",
       "    <tr>\n",
       "      <th>1</th>\n",
       "      <td>125.629232</td>\n",
       "      <td>10.296251</td>\n",
       "      <td>7.25</td>\n",
       "      <td>1.002663</td>\n",
       "      <td>1576.166671</td>\n",
       "      <td>-500.904965</td>\n",
       "      <td>1575.950626</td>\n",
       "      <td>-499.865889</td>\n",
       "      <td>1575.994189</td>\n",
       "      <td>-499.315107</td>\n",
       "      <td>...</td>\n",
       "      <td>13.992281</td>\n",
       "      <td>-505.503262</td>\n",
       "      <td>11.950531</td>\n",
       "      <td>-501.331529</td>\n",
       "      <td>10.039245</td>\n",
       "      <td>-500.169983</td>\n",
       "      <td>7.984757</td>\n",
       "      <td>-500.582168</td>\n",
       "      <td>13.998353</td>\n",
       "      <td>-599.787184</td>\n",
       "    </tr>\n",
       "    <tr>\n",
       "      <th>2</th>\n",
       "      <td>123.819808</td>\n",
       "      <td>11.316280</td>\n",
       "      <td>7.25</td>\n",
       "      <td>0.991265</td>\n",
       "      <td>1601.556163</td>\n",
       "      <td>-499.997791</td>\n",
       "      <td>1600.386685</td>\n",
       "      <td>-500.607762</td>\n",
       "      <td>1602.003542</td>\n",
       "      <td>-500.870069</td>\n",
       "      <td>...</td>\n",
       "      <td>14.015015</td>\n",
       "      <td>-502.520901</td>\n",
       "      <td>11.912783</td>\n",
       "      <td>-501.133383</td>\n",
       "      <td>10.070913</td>\n",
       "      <td>-500.129135</td>\n",
       "      <td>8.013877</td>\n",
       "      <td>-500.517572</td>\n",
       "      <td>14.028663</td>\n",
       "      <td>-601.427363</td>\n",
       "    </tr>\n",
       "    <tr>\n",
       "      <th>3</th>\n",
       "      <td>122.270188</td>\n",
       "      <td>11.322140</td>\n",
       "      <td>7.25</td>\n",
       "      <td>0.996739</td>\n",
       "      <td>1599.968720</td>\n",
       "      <td>-500.951778</td>\n",
       "      <td>1600.659236</td>\n",
       "      <td>-499.677094</td>\n",
       "      <td>1600.304144</td>\n",
       "      <td>-500.727997</td>\n",
       "      <td>...</td>\n",
       "      <td>14.036510</td>\n",
       "      <td>-500.857308</td>\n",
       "      <td>11.999550</td>\n",
       "      <td>-501.193686</td>\n",
       "      <td>9.970366</td>\n",
       "      <td>-499.201640</td>\n",
       "      <td>7.977324</td>\n",
       "      <td>-500.255908</td>\n",
       "      <td>14.005551</td>\n",
       "      <td>-599.996129</td>\n",
       "    </tr>\n",
       "    <tr>\n",
       "      <th>4</th>\n",
       "      <td>117.988169</td>\n",
       "      <td>11.913613</td>\n",
       "      <td>7.25</td>\n",
       "      <td>1.009869</td>\n",
       "      <td>1601.339707</td>\n",
       "      <td>-498.975456</td>\n",
       "      <td>1601.437854</td>\n",
       "      <td>-500.323246</td>\n",
       "      <td>1599.581894</td>\n",
       "      <td>-500.888152</td>\n",
       "      <td>...</td>\n",
       "      <td>14.027298</td>\n",
       "      <td>-499.838632</td>\n",
       "      <td>11.953070</td>\n",
       "      <td>-501.053894</td>\n",
       "      <td>9.925709</td>\n",
       "      <td>-501.686727</td>\n",
       "      <td>7.894242</td>\n",
       "      <td>-500.356035</td>\n",
       "      <td>13.996647</td>\n",
       "      <td>-601.496691</td>\n",
       "    </tr>\n",
       "  </tbody>\n",
       "</table>\n",
       "<p>5 rows × 52 columns</p>\n",
       "</div>"
      ],
      "text/plain": [
       "   primary_cleaner.input.sulfate  primary_cleaner.input.depressant  \\\n",
       "0                     127.092003                         10.128295   \n",
       "1                     125.629232                         10.296251   \n",
       "2                     123.819808                         11.316280   \n",
       "3                     122.270188                         11.322140   \n",
       "4                     117.988169                         11.913613   \n",
       "\n",
       "   primary_cleaner.input.feed_size  primary_cleaner.input.xanthate  \\\n",
       "0                             7.25                        0.988759   \n",
       "1                             7.25                        1.002663   \n",
       "2                             7.25                        0.991265   \n",
       "3                             7.25                        0.996739   \n",
       "4                             7.25                        1.009869   \n",
       "\n",
       "   primary_cleaner.state.floatbank8_a_air  \\\n",
       "0                             1549.775757   \n",
       "1                             1576.166671   \n",
       "2                             1601.556163   \n",
       "3                             1599.968720   \n",
       "4                             1601.339707   \n",
       "\n",
       "   primary_cleaner.state.floatbank8_a_level  \\\n",
       "0                               -498.912140   \n",
       "1                               -500.904965   \n",
       "2                               -499.997791   \n",
       "3                               -500.951778   \n",
       "4                               -498.975456   \n",
       "\n",
       "   primary_cleaner.state.floatbank8_b_air  \\\n",
       "0                             1551.434204   \n",
       "1                             1575.950626   \n",
       "2                             1600.386685   \n",
       "3                             1600.659236   \n",
       "4                             1601.437854   \n",
       "\n",
       "   primary_cleaner.state.floatbank8_b_level  \\\n",
       "0                               -516.403442   \n",
       "1                               -499.865889   \n",
       "2                               -500.607762   \n",
       "3                               -499.677094   \n",
       "4                               -500.323246   \n",
       "\n",
       "   primary_cleaner.state.floatbank8_c_air  \\\n",
       "0                             1549.873901   \n",
       "1                             1575.994189   \n",
       "2                             1602.003542   \n",
       "3                             1600.304144   \n",
       "4                             1599.581894   \n",
       "\n",
       "   primary_cleaner.state.floatbank8_c_level  ...  \\\n",
       "0                               -498.666595  ...   \n",
       "1                               -499.315107  ...   \n",
       "2                               -500.870069  ...   \n",
       "3                               -500.727997  ...   \n",
       "4                               -500.888152  ...   \n",
       "\n",
       "   secondary_cleaner.state.floatbank4_a_air  \\\n",
       "0                                 14.016835   \n",
       "1                                 13.992281   \n",
       "2                                 14.015015   \n",
       "3                                 14.036510   \n",
       "4                                 14.027298   \n",
       "\n",
       "   secondary_cleaner.state.floatbank4_a_level  \\\n",
       "0                                 -502.488007   \n",
       "1                                 -505.503262   \n",
       "2                                 -502.520901   \n",
       "3                                 -500.857308   \n",
       "4                                 -499.838632   \n",
       "\n",
       "   secondary_cleaner.state.floatbank4_b_air  \\\n",
       "0                                 12.099931   \n",
       "1                                 11.950531   \n",
       "2                                 11.912783   \n",
       "3                                 11.999550   \n",
       "4                                 11.953070   \n",
       "\n",
       "   secondary_cleaner.state.floatbank4_b_level  \\\n",
       "0                                 -504.715942   \n",
       "1                                 -501.331529   \n",
       "2                                 -501.133383   \n",
       "3                                 -501.193686   \n",
       "4                                 -501.053894   \n",
       "\n",
       "   secondary_cleaner.state.floatbank5_a_air  \\\n",
       "0                                  9.925633   \n",
       "1                                 10.039245   \n",
       "2                                 10.070913   \n",
       "3                                  9.970366   \n",
       "4                                  9.925709   \n",
       "\n",
       "   secondary_cleaner.state.floatbank5_a_level  \\\n",
       "0                                 -498.310211   \n",
       "1                                 -500.169983   \n",
       "2                                 -500.129135   \n",
       "3                                 -499.201640   \n",
       "4                                 -501.686727   \n",
       "\n",
       "   secondary_cleaner.state.floatbank5_b_air  \\\n",
       "0                                  8.079666   \n",
       "1                                  7.984757   \n",
       "2                                  8.013877   \n",
       "3                                  7.977324   \n",
       "4                                  7.894242   \n",
       "\n",
       "   secondary_cleaner.state.floatbank5_b_level  \\\n",
       "0                                 -500.470978   \n",
       "1                                 -500.582168   \n",
       "2                                 -500.517572   \n",
       "3                                 -500.255908   \n",
       "4                                 -500.356035   \n",
       "\n",
       "   secondary_cleaner.state.floatbank6_a_air  \\\n",
       "0                                 14.151341   \n",
       "1                                 13.998353   \n",
       "2                                 14.028663   \n",
       "3                                 14.005551   \n",
       "4                                 13.996647   \n",
       "\n",
       "   secondary_cleaner.state.floatbank6_a_level  \n",
       "0                                 -605.841980  \n",
       "1                                 -599.787184  \n",
       "2                                 -601.427363  \n",
       "3                                 -599.996129  \n",
       "4                                 -601.496691  \n",
       "\n",
       "[5 rows x 52 columns]"
      ]
     },
     "execution_count": 49,
     "metadata": {},
     "output_type": "execute_result"
    }
   ],
   "source": [
    "X_train.head()"
   ]
  },
  {
   "cell_type": "code",
   "execution_count": 50,
   "id": "5a2d710b",
   "metadata": {},
   "outputs": [],
   "source": [
    "num_features = X_train.columns"
   ]
  },
  {
   "cell_type": "code",
   "execution_count": 51,
   "id": "b4356178",
   "metadata": {},
   "outputs": [],
   "source": [
    "# создаём скелер\n",
    "scaler = StandardScaler()\n",
    "\n",
    "# обучаем его на численных признаках train выборки, трансформируем ее же\n",
    "X_train[num_features] = scaler.fit_transform(X_train[num_features])\n",
    "# преобразуем test выборку\n",
    "X_test[num_features] = scaler.transform(X_test[num_features])"
   ]
  },
  {
   "cell_type": "code",
   "execution_count": 52,
   "id": "6e6f39f9",
   "metadata": {},
   "outputs": [
    {
     "data": {
      "text/html": [
       "<div>\n",
       "<style scoped>\n",
       "    .dataframe tbody tr th:only-of-type {\n",
       "        vertical-align: middle;\n",
       "    }\n",
       "\n",
       "    .dataframe tbody tr th {\n",
       "        vertical-align: top;\n",
       "    }\n",
       "\n",
       "    .dataframe thead th {\n",
       "        text-align: right;\n",
       "    }\n",
       "</style>\n",
       "<table border=\"1\" class=\"dataframe\">\n",
       "  <thead>\n",
       "    <tr style=\"text-align: right;\">\n",
       "      <th></th>\n",
       "      <th>primary_cleaner.input.sulfate</th>\n",
       "      <th>primary_cleaner.input.depressant</th>\n",
       "      <th>primary_cleaner.input.feed_size</th>\n",
       "      <th>primary_cleaner.input.xanthate</th>\n",
       "      <th>primary_cleaner.state.floatbank8_a_air</th>\n",
       "      <th>primary_cleaner.state.floatbank8_a_level</th>\n",
       "      <th>primary_cleaner.state.floatbank8_b_air</th>\n",
       "      <th>primary_cleaner.state.floatbank8_b_level</th>\n",
       "      <th>primary_cleaner.state.floatbank8_c_air</th>\n",
       "      <th>primary_cleaner.state.floatbank8_c_level</th>\n",
       "      <th>...</th>\n",
       "      <th>secondary_cleaner.state.floatbank4_a_air</th>\n",
       "      <th>secondary_cleaner.state.floatbank4_a_level</th>\n",
       "      <th>secondary_cleaner.state.floatbank4_b_air</th>\n",
       "      <th>secondary_cleaner.state.floatbank4_b_level</th>\n",
       "      <th>secondary_cleaner.state.floatbank5_a_air</th>\n",
       "      <th>secondary_cleaner.state.floatbank5_a_level</th>\n",
       "      <th>secondary_cleaner.state.floatbank5_b_air</th>\n",
       "      <th>secondary_cleaner.state.floatbank5_b_level</th>\n",
       "      <th>secondary_cleaner.state.floatbank6_a_air</th>\n",
       "      <th>secondary_cleaner.state.floatbank6_a_level</th>\n",
       "    </tr>\n",
       "  </thead>\n",
       "  <tbody>\n",
       "    <tr>\n",
       "      <th>0</th>\n",
       "      <td>-0.177805</td>\n",
       "      <td>0.374893</td>\n",
       "      <td>-0.128251</td>\n",
       "      <td>0.283149</td>\n",
       "      <td>-0.447046</td>\n",
       "      <td>-0.299146</td>\n",
       "      <td>-0.429105</td>\n",
       "      <td>-0.810472</td>\n",
       "      <td>-0.433863</td>\n",
       "      <td>-0.276203</td>\n",
       "      <td>...</td>\n",
       "      <td>-1.051659</td>\n",
       "      <td>-0.476458</td>\n",
       "      <td>-0.642617</td>\n",
       "      <td>-0.760109</td>\n",
       "      <td>-1.179279</td>\n",
       "      <td>-0.384123</td>\n",
       "      <td>-0.864571</td>\n",
       "      <td>-0.430263</td>\n",
       "      <td>-0.960372</td>\n",
       "      <td>-2.682035</td>\n",
       "    </tr>\n",
       "    <tr>\n",
       "      <th>1</th>\n",
       "      <td>-0.215558</td>\n",
       "      <td>0.425000</td>\n",
       "      <td>-0.128251</td>\n",
       "      <td>0.320176</td>\n",
       "      <td>-0.241797</td>\n",
       "      <td>-0.355769</td>\n",
       "      <td>-0.242338</td>\n",
       "      <td>-0.321550</td>\n",
       "      <td>-0.239468</td>\n",
       "      <td>-0.294965</td>\n",
       "      <td>...</td>\n",
       "      <td>-1.055996</td>\n",
       "      <td>-0.535825</td>\n",
       "      <td>-0.670984</td>\n",
       "      <td>-0.702232</td>\n",
       "      <td>-1.159758</td>\n",
       "      <td>-0.432813</td>\n",
       "      <td>-0.881035</td>\n",
       "      <td>-0.433106</td>\n",
       "      <td>-0.987098</td>\n",
       "      <td>-2.518226</td>\n",
       "    </tr>\n",
       "    <tr>\n",
       "      <th>2</th>\n",
       "      <td>-0.262257</td>\n",
       "      <td>0.729307</td>\n",
       "      <td>-0.128251</td>\n",
       "      <td>0.289823</td>\n",
       "      <td>-0.044335</td>\n",
       "      <td>-0.329993</td>\n",
       "      <td>-0.056182</td>\n",
       "      <td>-0.343483</td>\n",
       "      <td>-0.045899</td>\n",
       "      <td>-0.339953</td>\n",
       "      <td>...</td>\n",
       "      <td>-1.051980</td>\n",
       "      <td>-0.477105</td>\n",
       "      <td>-0.678151</td>\n",
       "      <td>-0.698844</td>\n",
       "      <td>-1.154317</td>\n",
       "      <td>-0.431744</td>\n",
       "      <td>-0.875984</td>\n",
       "      <td>-0.431454</td>\n",
       "      <td>-0.981803</td>\n",
       "      <td>-2.562600</td>\n",
       "    </tr>\n",
       "    <tr>\n",
       "      <th>3</th>\n",
       "      <td>-0.302251</td>\n",
       "      <td>0.731055</td>\n",
       "      <td>-0.128251</td>\n",
       "      <td>0.304399</td>\n",
       "      <td>-0.056681</td>\n",
       "      <td>-0.357100</td>\n",
       "      <td>-0.054106</td>\n",
       "      <td>-0.315969</td>\n",
       "      <td>-0.058546</td>\n",
       "      <td>-0.335843</td>\n",
       "      <td>...</td>\n",
       "      <td>-1.048183</td>\n",
       "      <td>-0.444351</td>\n",
       "      <td>-0.661676</td>\n",
       "      <td>-0.699875</td>\n",
       "      <td>-1.171593</td>\n",
       "      <td>-0.407461</td>\n",
       "      <td>-0.882325</td>\n",
       "      <td>-0.424764</td>\n",
       "      <td>-0.985841</td>\n",
       "      <td>-2.523879</td>\n",
       "    </tr>\n",
       "    <tr>\n",
       "      <th>4</th>\n",
       "      <td>-0.412765</td>\n",
       "      <td>0.907510</td>\n",
       "      <td>-0.128251</td>\n",
       "      <td>0.339366</td>\n",
       "      <td>-0.046019</td>\n",
       "      <td>-0.300945</td>\n",
       "      <td>-0.048174</td>\n",
       "      <td>-0.335072</td>\n",
       "      <td>-0.063921</td>\n",
       "      <td>-0.340476</td>\n",
       "      <td>...</td>\n",
       "      <td>-1.049810</td>\n",
       "      <td>-0.424294</td>\n",
       "      <td>-0.670501</td>\n",
       "      <td>-0.697484</td>\n",
       "      <td>-1.179266</td>\n",
       "      <td>-0.472523</td>\n",
       "      <td>-0.896737</td>\n",
       "      <td>-0.427324</td>\n",
       "      <td>-0.987396</td>\n",
       "      <td>-2.564476</td>\n",
       "    </tr>\n",
       "  </tbody>\n",
       "</table>\n",
       "<p>5 rows × 52 columns</p>\n",
       "</div>"
      ],
      "text/plain": [
       "   primary_cleaner.input.sulfate  primary_cleaner.input.depressant  \\\n",
       "0                      -0.177805                          0.374893   \n",
       "1                      -0.215558                          0.425000   \n",
       "2                      -0.262257                          0.729307   \n",
       "3                      -0.302251                          0.731055   \n",
       "4                      -0.412765                          0.907510   \n",
       "\n",
       "   primary_cleaner.input.feed_size  primary_cleaner.input.xanthate  \\\n",
       "0                        -0.128251                        0.283149   \n",
       "1                        -0.128251                        0.320176   \n",
       "2                        -0.128251                        0.289823   \n",
       "3                        -0.128251                        0.304399   \n",
       "4                        -0.128251                        0.339366   \n",
       "\n",
       "   primary_cleaner.state.floatbank8_a_air  \\\n",
       "0                               -0.447046   \n",
       "1                               -0.241797   \n",
       "2                               -0.044335   \n",
       "3                               -0.056681   \n",
       "4                               -0.046019   \n",
       "\n",
       "   primary_cleaner.state.floatbank8_a_level  \\\n",
       "0                                 -0.299146   \n",
       "1                                 -0.355769   \n",
       "2                                 -0.329993   \n",
       "3                                 -0.357100   \n",
       "4                                 -0.300945   \n",
       "\n",
       "   primary_cleaner.state.floatbank8_b_air  \\\n",
       "0                               -0.429105   \n",
       "1                               -0.242338   \n",
       "2                               -0.056182   \n",
       "3                               -0.054106   \n",
       "4                               -0.048174   \n",
       "\n",
       "   primary_cleaner.state.floatbank8_b_level  \\\n",
       "0                                 -0.810472   \n",
       "1                                 -0.321550   \n",
       "2                                 -0.343483   \n",
       "3                                 -0.315969   \n",
       "4                                 -0.335072   \n",
       "\n",
       "   primary_cleaner.state.floatbank8_c_air  \\\n",
       "0                               -0.433863   \n",
       "1                               -0.239468   \n",
       "2                               -0.045899   \n",
       "3                               -0.058546   \n",
       "4                               -0.063921   \n",
       "\n",
       "   primary_cleaner.state.floatbank8_c_level  ...  \\\n",
       "0                                 -0.276203  ...   \n",
       "1                                 -0.294965  ...   \n",
       "2                                 -0.339953  ...   \n",
       "3                                 -0.335843  ...   \n",
       "4                                 -0.340476  ...   \n",
       "\n",
       "   secondary_cleaner.state.floatbank4_a_air  \\\n",
       "0                                 -1.051659   \n",
       "1                                 -1.055996   \n",
       "2                                 -1.051980   \n",
       "3                                 -1.048183   \n",
       "4                                 -1.049810   \n",
       "\n",
       "   secondary_cleaner.state.floatbank4_a_level  \\\n",
       "0                                   -0.476458   \n",
       "1                                   -0.535825   \n",
       "2                                   -0.477105   \n",
       "3                                   -0.444351   \n",
       "4                                   -0.424294   \n",
       "\n",
       "   secondary_cleaner.state.floatbank4_b_air  \\\n",
       "0                                 -0.642617   \n",
       "1                                 -0.670984   \n",
       "2                                 -0.678151   \n",
       "3                                 -0.661676   \n",
       "4                                 -0.670501   \n",
       "\n",
       "   secondary_cleaner.state.floatbank4_b_level  \\\n",
       "0                                   -0.760109   \n",
       "1                                   -0.702232   \n",
       "2                                   -0.698844   \n",
       "3                                   -0.699875   \n",
       "4                                   -0.697484   \n",
       "\n",
       "   secondary_cleaner.state.floatbank5_a_air  \\\n",
       "0                                 -1.179279   \n",
       "1                                 -1.159758   \n",
       "2                                 -1.154317   \n",
       "3                                 -1.171593   \n",
       "4                                 -1.179266   \n",
       "\n",
       "   secondary_cleaner.state.floatbank5_a_level  \\\n",
       "0                                   -0.384123   \n",
       "1                                   -0.432813   \n",
       "2                                   -0.431744   \n",
       "3                                   -0.407461   \n",
       "4                                   -0.472523   \n",
       "\n",
       "   secondary_cleaner.state.floatbank5_b_air  \\\n",
       "0                                 -0.864571   \n",
       "1                                 -0.881035   \n",
       "2                                 -0.875984   \n",
       "3                                 -0.882325   \n",
       "4                                 -0.896737   \n",
       "\n",
       "   secondary_cleaner.state.floatbank5_b_level  \\\n",
       "0                                   -0.430263   \n",
       "1                                   -0.433106   \n",
       "2                                   -0.431454   \n",
       "3                                   -0.424764   \n",
       "4                                   -0.427324   \n",
       "\n",
       "   secondary_cleaner.state.floatbank6_a_air  \\\n",
       "0                                 -0.960372   \n",
       "1                                 -0.987098   \n",
       "2                                 -0.981803   \n",
       "3                                 -0.985841   \n",
       "4                                 -0.987396   \n",
       "\n",
       "   secondary_cleaner.state.floatbank6_a_level  \n",
       "0                                   -2.682035  \n",
       "1                                   -2.518226  \n",
       "2                                   -2.562600  \n",
       "3                                   -2.523879  \n",
       "4                                   -2.564476  \n",
       "\n",
       "[5 rows x 52 columns]"
      ]
     },
     "execution_count": 52,
     "metadata": {},
     "output_type": "execute_result"
    }
   ],
   "source": [
    "# получилось\n",
    "X_train.head()"
   ]
  },
  {
   "cell_type": "markdown",
   "id": "daa05d47",
   "metadata": {},
   "source": [
    "Попробуем обучить три класические модели: *LR*, *DT* и *RF*\n",
    "\n",
    "\n",
    "Т.к. целевых признака два, то по будем делать по модели на каждый целевой признак."
   ]
  },
  {
   "cell_type": "markdown",
   "id": "d25ca284",
   "metadata": {},
   "source": [
    "#### LinearRegression"
   ]
  },
  {
   "cell_type": "code",
   "execution_count": 53,
   "id": "7425a302",
   "metadata": {},
   "outputs": [],
   "source": [
    "# объявим регрессоры\n",
    "lr_rougher_model = LinearRegression(n_jobs=-1)\n",
    "lr_final_model = LinearRegression(n_jobs=-1)"
   ]
  },
  {
   "cell_type": "code",
   "execution_count": 54,
   "id": "6a4fc645",
   "metadata": {},
   "outputs": [],
   "source": [
    "# создаем smape_scorer на основе нашей функции smape\n",
    "smape_scorer = make_scorer(smape, greater_is_better=False)"
   ]
  },
  {
   "cell_type": "code",
   "execution_count": 55,
   "id": "512245af",
   "metadata": {},
   "outputs": [],
   "source": [
    "# чтобы было чуть покрасивше\n",
    "def smape_cv_score(estimator, X, y):\n",
    "    # домножаем на -1 из-за особенностей рассчета scorer'а\n",
    "    score = cross_val_score(estimator, X,  y, scoring=smape_scorer, cv=5).mean() * -1\n",
    "    \n",
    "    \n",
    "    return score"
   ]
  },
  {
   "cell_type": "code",
   "execution_count": 56,
   "id": "307aa783",
   "metadata": {},
   "outputs": [],
   "source": [
    "# оценим качество кросс-валидацией и сохраним результат для вычисления итоговой sMAPE, первый таргет\n",
    "lr_rougher_smape = smape_cv_score(lr_rougher_model, X_train, y_rougher_train)"
   ]
  },
  {
   "cell_type": "code",
   "execution_count": 57,
   "id": "a4ac5e9b",
   "metadata": {},
   "outputs": [],
   "source": [
    "# второй таргет\n",
    "lr_final_smape = smape_cv_score(lr_final_model, X_train,  y_final_train)"
   ]
  },
  {
   "cell_type": "code",
   "execution_count": 58,
   "id": "d76c9c44",
   "metadata": {},
   "outputs": [
    {
     "name": "stdout",
     "output_type": "stream",
     "text": [
      "sMAPE линейной регрессии на кросс-валидации (первый таргет): 7.287%\n",
      "sMAPE линейной регрессии на кросс-валидации (второй таргет): 11.04%\n",
      "Итоговая sMAPE линейной регрессии: 10.1%\n"
     ]
    }
   ],
   "source": [
    "# вычисляем итоговую sMAPE\n",
    "print(f'sMAPE линейной регрессии на кросс-валидации (первый таргет): {lr_rougher_smape:.4}%')\n",
    "print(f'sMAPE линейной регрессии на кросс-валидации (второй таргет): {lr_final_smape:.4}%')\n",
    "print(f'Итоговая sMAPE линейной регрессии: {final_smape(lr_rougher_smape, lr_final_smape):.4}%')"
   ]
  },
  {
   "cell_type": "markdown",
   "id": "a399be6a",
   "metadata": {},
   "source": [
    "Получили итоговую sMAPE ~10.1%, попробуем сравнить с другими моделями"
   ]
  },
  {
   "cell_type": "markdown",
   "id": "fe70666b",
   "metadata": {},
   "source": [
    "#### DecisionTreeRegressor"
   ]
  },
  {
   "cell_type": "markdown",
   "id": "7bf3ce1e",
   "metadata": {},
   "source": [
    "Для DT и RF будем пробовать использовать `GridSearchCV`"
   ]
  },
  {
   "cell_type": "code",
   "execution_count": 59,
   "id": "e9033361",
   "metadata": {},
   "outputs": [],
   "source": [
    "# объявим регрессоры\n",
    "dt_rougher_model = DecisionTreeRegressor(random_state=RANDOM_STATE)\n",
    "dt_final_model = DecisionTreeRegressor(random_state=RANDOM_STATE)"
   ]
  },
  {
   "cell_type": "code",
   "execution_count": 60,
   "id": "28dbdd75",
   "metadata": {},
   "outputs": [],
   "source": [
    "# параметры dt для GridSearchCV\n",
    "dt_params = { \n",
    "    'max_depth': range(1, 10, 2), \n",
    "    'min_samples_leaf': range(1, 5),\n",
    "    'min_samples_split': range(2, 5)\n",
    "}"
   ]
  },
  {
   "cell_type": "code",
   "execution_count": 61,
   "id": "b53aefba",
   "metadata": {},
   "outputs": [
    {
     "name": "stdout",
     "output_type": "stream",
     "text": [
      "Дерево обучено!\n",
      "CPU times: total: 1.83 s\n",
      "Wall time: 14.4 s\n"
     ]
    }
   ],
   "source": [
    "%%time\n",
    "\n",
    "# первый таргет\n",
    "dt_rougher_grid = GridSearchCV(estimator=dt_rougher_model, param_grid=dt_params, cv=5, n_jobs=-1, scoring=smape_scorer)\n",
    "dt_rougher_grid.fit(X_train, y_rougher_train)\n",
    "print(\"Дерево обучено!\")"
   ]
  },
  {
   "cell_type": "code",
   "execution_count": 62,
   "id": "3578b392",
   "metadata": {},
   "outputs": [],
   "source": [
    "# сохраняем себе важное на всякий случай\n",
    "best_dt_rougher_model = dt_rougher_grid.best_estimator_\n",
    "best_dt_rougher_smape = dt_rougher_grid.best_score_ * -1"
   ]
  },
  {
   "cell_type": "code",
   "execution_count": 63,
   "id": "81344122",
   "metadata": {},
   "outputs": [
    {
     "name": "stdout",
     "output_type": "stream",
     "text": [
      "Дерево обучено!\n",
      "CPU times: total: 1 s\n",
      "Wall time: 9.6 s\n"
     ]
    }
   ],
   "source": [
    "%%time\n",
    "\n",
    "# второй таргет\n",
    "dt_final_grid = GridSearchCV(estimator=dt_final_model, param_grid=dt_params, cv=5, n_jobs=-1, scoring=smape_scorer)\n",
    "dt_final_grid.fit(X_train, y_final_train)\n",
    "print(\"Дерево обучено!\")"
   ]
  },
  {
   "cell_type": "code",
   "execution_count": 64,
   "id": "67d29558",
   "metadata": {},
   "outputs": [],
   "source": [
    "# сохраняем себе важное на всякий случай\n",
    "best_dt_final_model = dt_final_grid.best_estimator_\n",
    "best_dt_final_smape = dt_final_grid.best_score_ * -1"
   ]
  },
  {
   "cell_type": "code",
   "execution_count": 65,
   "id": "e90e2a7b",
   "metadata": {},
   "outputs": [
    {
     "name": "stdout",
     "output_type": "stream",
     "text": [
      "sMAPE дерева решений на кросс-валидации (первый таргет): 6.77%\n",
      "sMAPE дерева решений на кросс-валидации (второй таргет): 9.26%\n",
      "Итоговая sMAPE дерева решений: 8.63%\n"
     ]
    }
   ],
   "source": [
    "print(f'sMAPE дерева решений на кросс-валидации (первый таргет): {best_dt_rougher_smape:.3}%')\n",
    "print(f'sMAPE дерева решений на кросс-валидации (второй таргет): {best_dt_final_smape:.3}%')\n",
    "print(f'Итоговая sMAPE дерева решений: {final_smape(best_dt_rougher_smape, best_dt_final_smape):.3}%')"
   ]
  },
  {
   "cell_type": "markdown",
   "id": "c795fc8b",
   "metadata": {},
   "source": [
    "Результат немного лучше, чем у линейной регрессии, итоговую sMAPE ~8.63%"
   ]
  },
  {
   "cell_type": "markdown",
   "id": "7e6a6d39",
   "metadata": {},
   "source": [
    "#### RandomForestRegressor"
   ]
  },
  {
   "cell_type": "code",
   "execution_count": 66,
   "id": "8b1bfc9d",
   "metadata": {},
   "outputs": [],
   "source": [
    "# объявим регрессоры\n",
    "rf_rougher_model = RandomForestRegressor(random_state=RANDOM_STATE)\n",
    "rf_final_model = RandomForestRegressor(random_state=RANDOM_STATE)"
   ]
  },
  {
   "cell_type": "code",
   "execution_count": 67,
   "id": "f7ae4ff7",
   "metadata": {},
   "outputs": [],
   "source": [
    "# параметры rf для GridSearchCV\n",
    "rf_params = {\n",
    "    'n_estimators': range(1, 31, 10),\n",
    "    'max_depth': range(1, 10, 2), \n",
    "    'min_samples_leaf': range(1, 5),\n",
    "    'min_samples_split': range(2, 5)\n",
    "}"
   ]
  },
  {
   "cell_type": "code",
   "execution_count": 68,
   "id": "20f241f5",
   "metadata": {},
   "outputs": [
    {
     "name": "stdout",
     "output_type": "stream",
     "text": [
      "Случайный лес обучен!\n",
      "CPU times: total: 7.17 s\n",
      "Wall time: 2min 55s\n"
     ]
    }
   ],
   "source": [
    "%%time\n",
    "\n",
    "# первый таргет\n",
    "rf_rougher_grid = GridSearchCV(estimator=rf_rougher_model, param_grid=rf_params, cv=5, n_jobs=-1, scoring=smape_scorer)\n",
    "rf_rougher_grid.fit(X_train, y_rougher_train)\n",
    "print(\"Случайный лес обучен!\")"
   ]
  },
  {
   "cell_type": "code",
   "execution_count": 69,
   "id": "61921458",
   "metadata": {},
   "outputs": [],
   "source": [
    "# сохраняем себе важное на всякий случай\n",
    "best_rf_rougher_model = rf_rougher_grid.best_estimator_\n",
    "best_rf_rougher_score = rf_rougher_grid.best_score_ * -1"
   ]
  },
  {
   "cell_type": "code",
   "execution_count": 70,
   "id": "827c1708",
   "metadata": {},
   "outputs": [
    {
     "name": "stdout",
     "output_type": "stream",
     "text": [
      "Случайный лес обучен!\n",
      "CPU times: total: 8 s\n",
      "Wall time: 3min 4s\n"
     ]
    }
   ],
   "source": [
    "%%time\n",
    "\n",
    "# второй таргет\n",
    "rf_final_grid = GridSearchCV(estimator=rf_final_model, param_grid=rf_params, cv=5, n_jobs=-1, scoring=smape_scorer)\n",
    "rf_final_grid.fit(X_train, y_final_train)\n",
    "print(\"Случайный лес обучен!\")"
   ]
  },
  {
   "cell_type": "code",
   "execution_count": 71,
   "id": "34cdde39",
   "metadata": {},
   "outputs": [],
   "source": [
    "# сохраняем себе важное на всякий случай\n",
    "best_rf_final_model = rf_final_grid.best_estimator_\n",
    "best_rf_final_score = rf_final_grid.best_score_ * -1"
   ]
  },
  {
   "cell_type": "code",
   "execution_count": 83,
   "id": "2ddcf131",
   "metadata": {
    "scrolled": true
   },
   "outputs": [
    {
     "name": "stdout",
     "output_type": "stream",
     "text": [
      "sMAPE случайного леса на кросс-валидации (первый таргет): 6.34%\n",
      "sMAPE случайного леса на кросс-валидации (второй таргет): 8.89%\n",
      "Итоговая sMAPE случайного леса: 8.25%\n"
     ]
    }
   ],
   "source": [
    "print(f'sMAPE случайного леса на кросс-валидации (первый таргет): {best_rf_rougher_score:.3}%')\n",
    "print(f'sMAPE случайного леса на кросс-валидации (второй таргет): {best_rf_final_score:.3}%')\n",
    "print(f'Итоговая sMAPE случайного леса: {final_smape(best_rf_rougher_score, best_rf_final_score):.3}%')"
   ]
  },
  {
   "cell_type": "markdown",
   "id": "27941a9f",
   "metadata": {},
   "source": [
    "В выводе немножко другие показатели, просто поменял params т.к. не хотелось по 10 минут ждать)"
   ]
  },
  {
   "cell_type": "markdown",
   "id": "be30901d",
   "metadata": {},
   "source": [
    "#### DummyRegressor"
   ]
  },
  {
   "cell_type": "markdown",
   "id": "1f5eb5a3",
   "metadata": {},
   "source": [
    "Сравним модели с DummyRegressor"
   ]
  },
  {
   "cell_type": "code",
   "execution_count": 73,
   "id": "93c88f0e",
   "metadata": {},
   "outputs": [],
   "source": [
    "dummy_rougher_regr = DummyRegressor(strategy=\"mean\")\n",
    "dummy_final_regr = DummyRegressor(strategy=\"mean\")"
   ]
  },
  {
   "cell_type": "code",
   "execution_count": 74,
   "id": "81e17e26",
   "metadata": {},
   "outputs": [],
   "source": [
    "dummy_rougher_smape = smape_cv_score(dummy_rougher_regr, X_train, y_rougher_train)\n",
    "dummy_final_smape = smape_cv_score(dummy_final_regr, X_train, y_final_train)"
   ]
  },
  {
   "cell_type": "code",
   "execution_count": 82,
   "id": "0d5b1a07",
   "metadata": {
    "scrolled": true
   },
   "outputs": [
    {
     "name": "stdout",
     "output_type": "stream",
     "text": [
      "sMAPE dummy регрессора на кросс-валидации (первый таргет): 7.76%\n",
      "sMAPE dummy регрессора на кросс-валидации (второй таргет): 10.3%\n",
      "Итоговая sMAPE dummy регрессора: 9.66%\n"
     ]
    }
   ],
   "source": [
    "print(f'sMAPE dummy регрессора на кросс-валидации (первый таргет): {dummy_rougher_smape:.3}%')\n",
    "print(f'sMAPE dummy регрессора на кросс-валидации (второй таргет): {dummy_final_smape:.3}%')\n",
    "print(f'Итоговая sMAPE dummy регрессора: {final_smape(dummy_rougher_smape, dummy_final_smape):.3}%')"
   ]
  },
  {
   "cell_type": "markdown",
   "id": "2bcfe649",
   "metadata": {},
   "source": [
    "Можно сказать, что LR совсем не справилась со своей задачей в это раз. DT и, особенно, RF справились с задачей лучше."
   ]
  },
  {
   "cell_type": "markdown",
   "id": "cc86b8e2",
   "metadata": {},
   "source": [
    "**`Промежуточный вывод`**:\n",
    "- LR:\n",
    "    - rougher.output.recovery sMAPE: 7.287%\n",
    "    - final.output.recovery sMAPE: 11.04%\n",
    "    - Итоговая sMAPE: 10.1%\n",
    "    \n",
    "- DT:\n",
    "    - rougher.output.recovery sMAPE: 6.77%\n",
    "    - final.output.recovery sMAPE: 9.26%\n",
    "    - Итоговая sMAPE: 8.63%\n",
    "    \n",
    "- RF:\n",
    "    - rougher.output.recovery sMAPE: 6.34%\n",
    "    - final.output.recovery sMAPE: 8.89%\n",
    "    - Итоговая sMAPE: 8.25%\n",
    "\n",
    "- Dummy:\n",
    "    - rougher.output.recovery sMAPE: 7.76%\n",
    "    - final.output.recovery sMAPE: 10.3%\n",
    "    - Итоговая sMAPE: 9.66%\n",
    "    \n",
    "    \n",
    "    \n",
    "- **RF показал лучший результат, но худшее время работы**\n",
    "- **DT и RF прошли проверку dummy регрессором**"
   ]
  },
  {
   "cell_type": "markdown",
   "id": "5ec2a038",
   "metadata": {},
   "source": [
    "#### Проверка на тестовой выборке"
   ]
  },
  {
   "cell_type": "markdown",
   "id": "a05e583d",
   "metadata": {},
   "source": [
    "Лучшей моделью на кросс-валидации оказалась RF, проверим ее на тестовой выборке"
   ]
  },
  {
   "cell_type": "code",
   "execution_count": 76,
   "id": "dcbbb84f",
   "metadata": {},
   "outputs": [
    {
     "name": "stdout",
     "output_type": "stream",
     "text": [
      "Модели обучены!\n",
      "CPU times: total: 8.28 s\n",
      "Wall time: 8.29 s\n"
     ]
    }
   ],
   "source": [
    "%%time\n",
    "\n",
    "best_rf_rougher_model.fit(X_train, y_rougher_train)\n",
    "best_rf_final_model.fit(X_train, y_final_train)\n",
    "print('Модели обучены!')"
   ]
  },
  {
   "cell_type": "code",
   "execution_count": 77,
   "id": "7cd1b21c",
   "metadata": {},
   "outputs": [],
   "source": [
    "rougher_pred = best_rf_rougher_model.predict(X_test)\n",
    "final_pred = best_rf_final_model.predict(X_test)"
   ]
  },
  {
   "cell_type": "code",
   "execution_count": 78,
   "id": "27503f25",
   "metadata": {},
   "outputs": [],
   "source": [
    "smape_1 = smape(y_rougher_test, rougher_pred)\n",
    "smape_2 = smape(y_final_test, final_pred)"
   ]
  },
  {
   "cell_type": "code",
   "execution_count": 84,
   "id": "eb04b5d3",
   "metadata": {},
   "outputs": [
    {
     "name": "stdout",
     "output_type": "stream",
     "text": [
      "sMAPE лучшей модели на тестовой выборке (первый таргет): 8.21%\n",
      "sMAPE лучшей модели на тестовой выборке (второй таргет): 9.78%\n",
      "Итоговая sMAPE лучшей модели: 9.39%\n"
     ]
    }
   ],
   "source": [
    "print(f'sMAPE лучшей модели на тестовой выборке (первый таргет): {smape_1:.3}%')\n",
    "print(f'sMAPE лучшей модели на тестовой выборке (второй таргет): {smape_2:.3}%')\n",
    "print(f'Итоговая sMAPE лучшей модели: {final_smape(smape_1, smape_2):.3}%')"
   ]
  },
  {
   "cell_type": "markdown",
   "id": "fc21a125",
   "metadata": {},
   "source": [
    "### Общий вывод"
   ]
  },
  {
   "cell_type": "markdown",
   "id": "e2dbc97c",
   "metadata": {},
   "source": [
    "**`Общий вывод`**:\n",
    "\n",
    "- *Подготовка данных*:\n",
    "    - Данные открыты и изучены\n",
    "    - Проведена проверка правильности рассчета эффективности обогащения (рассчеты верны)\n",
    "    - Проведен анализ признаков, недоступных в тестовой выборке (таргетов не оказалось в тестовой выборке)\n",
    "    - Проведена предобработка данных (заполнены пропуски, столбец `date` переведен в формат datetime, два таргета были добавлены в тестовую выборку)\n",
    "\n",
    "\n",
    "- *Анализ данных*:\n",
    "    - По мере прохождения этапов очистки, средняя концентрация *золота* **увеличивается, вплоть до 45-50%**\n",
    "    - По мере прохождения этапов очистки, средняя концентрация *серебра* **уменьшается вплоть до ~5%**\n",
    "    - Средняя концентрация *свинца* же, наоборот, **вырастает с ~7.5% до ~11%**\n",
    "    - Распределения друг на друга *очень похожи*, оценка модели должна быть **правильной**\n",
    "    - По мере прохождения этапов очистки *суммарная концентрация веществ увеличивается*, **финальная средняя концентрация веществ: ~60%**\n",
    "    \n",
    "\n",
    "- *Модель*:\n",
    "    - Проведена подготовка данных для обучения моделей (удалены лишние параметры из train выборки, проведено масштабирование признаков)\n",
    "    - *Обучено и проверено три модели (LR, DT, RF)*:\n",
    "        - sMAPE линейной регрессии на кросс-валидации (первый таргет): 7.287%\n",
    "        - sMAPE линейной регрессии на кросс-валидации (второй таргет): 11.04%\n",
    "        - Итоговая sMAPE линейной регрессии: 10.01%\n",
    "        ---------------------------------------------------------------------\n",
    "        - sMAPE дерева решений на кросс-валидации (первый таргет): 6.77%\n",
    "        - sMAPE дерева решений на кросс-валидации (второй таргет): 9.26%\n",
    "        - Итоговая sMAPE дерева решений: 8.63%\n",
    "        ---------------------------------------------------------------------\n",
    "        - sMAPE случайного леса на кросс-валидации (первый таргет): 6.34%\n",
    "        - sMAPE случайного леса на кросс-валидации (второй таргет): 8.89%\n",
    "        - Итоговая sMAPE случайного леса: 8.25%\n",
    "    - Проверку dummy регрессором прошли только две модели: DT и RF\n",
    "    -------------------------------------------------------------------------\n",
    "    - **RF была проверена на тестовой выборке**:\n",
    "        - sMAPE случайного леса на тестовой выборке (первый таргет): 8.21%\n",
    "        - sMAPE случайного леса на тестовой выборке (второй таргет): 9.77%\n",
    "        - Итоговая sMAPE случайного леса: 9.39%"
   ]
  },
  {
   "cell_type": "code",
   "execution_count": null,
   "id": "c9f45e42",
   "metadata": {},
   "outputs": [],
   "source": []
  }
 ],
 "metadata": {
  "ExecuteTimeLog": [
   {
    "duration": 51,
    "start_time": "2023-03-09T06:40:37.055Z"
   },
   {
    "duration": 1902,
    "start_time": "2023-03-09T06:45:27.951Z"
   },
   {
    "duration": 3070,
    "start_time": "2023-03-09T06:45:29.855Z"
   },
   {
    "duration": 37,
    "start_time": "2023-03-09T06:45:32.927Z"
   },
   {
    "duration": 20,
    "start_time": "2023-03-09T06:45:32.966Z"
   },
   {
    "duration": 266,
    "start_time": "2023-03-09T06:45:33.001Z"
   },
   {
    "duration": 10,
    "start_time": "2023-03-09T06:45:33.269Z"
   },
   {
    "duration": 42,
    "start_time": "2023-03-09T06:45:33.280Z"
   },
   {
    "duration": 24,
    "start_time": "2023-03-09T06:45:33.324Z"
   },
   {
    "duration": 172,
    "start_time": "2023-03-09T06:45:33.350Z"
   },
   {
    "duration": 9,
    "start_time": "2023-03-09T06:45:33.524Z"
   },
   {
    "duration": 34,
    "start_time": "2023-03-09T06:45:33.535Z"
   },
   {
    "duration": 6,
    "start_time": "2023-03-09T06:45:33.571Z"
   },
   {
    "duration": 31,
    "start_time": "2023-03-09T06:45:33.579Z"
   },
   {
    "duration": 6,
    "start_time": "2023-03-09T06:45:33.615Z"
   },
   {
    "duration": 13,
    "start_time": "2023-03-09T06:45:33.623Z"
   },
   {
    "duration": 35,
    "start_time": "2023-03-09T06:45:33.638Z"
   },
   {
    "duration": 27,
    "start_time": "2023-03-09T06:45:33.676Z"
   },
   {
    "duration": 11,
    "start_time": "2023-03-09T06:45:33.705Z"
   },
   {
    "duration": 14,
    "start_time": "2023-03-09T06:45:33.718Z"
   },
   {
    "duration": 19,
    "start_time": "2023-03-09T06:45:33.734Z"
   },
   {
    "duration": 167,
    "start_time": "2023-03-09T06:45:33.758Z"
   },
   {
    "duration": 31,
    "start_time": "2023-03-09T06:45:33.928Z"
   },
   {
    "duration": 19,
    "start_time": "2023-03-09T06:45:33.962Z"
   },
   {
    "duration": 18,
    "start_time": "2023-03-09T06:45:34.003Z"
   },
   {
    "duration": 33,
    "start_time": "2023-03-09T06:45:34.023Z"
   },
   {
    "duration": 25,
    "start_time": "2023-03-09T06:45:34.058Z"
   },
   {
    "duration": 20,
    "start_time": "2023-03-09T06:45:34.086Z"
   },
   {
    "duration": 32,
    "start_time": "2023-03-09T06:45:34.108Z"
   },
   {
    "duration": 29,
    "start_time": "2023-03-09T06:45:34.142Z"
   },
   {
    "duration": 1062,
    "start_time": "2023-03-09T06:45:34.174Z"
   },
   {
    "duration": 768,
    "start_time": "2023-03-09T06:45:35.238Z"
   },
   {
    "duration": 842,
    "start_time": "2023-03-09T06:45:36.008Z"
   },
   {
    "duration": 5,
    "start_time": "2023-03-09T06:45:36.852Z"
   },
   {
    "duration": 1129,
    "start_time": "2023-03-09T06:45:36.859Z"
   },
   {
    "duration": 469,
    "start_time": "2023-03-09T06:45:37.990Z"
   },
   {
    "duration": 11,
    "start_time": "2023-03-09T06:45:38.461Z"
   },
   {
    "duration": 34,
    "start_time": "2023-03-09T06:45:38.474Z"
   },
   {
    "duration": 933,
    "start_time": "2023-03-09T06:45:38.511Z"
   },
   {
    "duration": 6,
    "start_time": "2023-03-09T06:46:29.323Z"
   },
   {
    "duration": 7,
    "start_time": "2023-03-09T06:47:12.398Z"
   },
   {
    "duration": 10,
    "start_time": "2023-03-09T06:47:40.889Z"
   },
   {
    "duration": 3,
    "start_time": "2023-03-09T06:51:10.324Z"
   },
   {
    "duration": 982,
    "start_time": "2023-03-09T06:51:14.875Z"
   },
   {
    "duration": 1427,
    "start_time": "2023-03-09T06:51:28.115Z"
   },
   {
    "duration": 1148,
    "start_time": "2023-03-09T06:52:28.866Z"
   },
   {
    "duration": 1092,
    "start_time": "2023-03-09T06:53:43.458Z"
   },
   {
    "duration": 776,
    "start_time": "2023-03-09T06:54:33.854Z"
   },
   {
    "duration": 4,
    "start_time": "2023-03-09T06:59:31.094Z"
   },
   {
    "duration": 1430,
    "start_time": "2023-03-09T06:59:52.853Z"
   },
   {
    "duration": 5,
    "start_time": "2023-03-09T07:00:15.366Z"
   },
   {
    "duration": 3,
    "start_time": "2023-03-09T07:00:20.536Z"
   },
   {
    "duration": 1156,
    "start_time": "2023-03-09T07:00:22.170Z"
   },
   {
    "duration": 4,
    "start_time": "2023-03-09T07:00:26.897Z"
   },
   {
    "duration": 1406,
    "start_time": "2023-03-09T07:01:35.553Z"
   },
   {
    "duration": 1186,
    "start_time": "2023-03-09T07:02:23.166Z"
   },
   {
    "duration": 1007,
    "start_time": "2023-03-09T07:10:00.948Z"
   },
   {
    "duration": 12,
    "start_time": "2023-03-09T07:14:51.396Z"
   },
   {
    "duration": 13,
    "start_time": "2023-03-09T07:14:55.060Z"
   },
   {
    "duration": 636,
    "start_time": "2023-03-09T07:15:06.183Z"
   },
   {
    "duration": 695,
    "start_time": "2023-03-09T07:15:28.060Z"
   },
   {
    "duration": 625,
    "start_time": "2023-03-09T07:18:49.131Z"
   },
   {
    "duration": 8,
    "start_time": "2023-03-09T07:20:20.102Z"
   },
   {
    "duration": 362,
    "start_time": "2023-03-09T07:20:36.041Z"
   },
   {
    "duration": 306,
    "start_time": "2023-03-09T07:21:56.354Z"
   },
   {
    "duration": 699,
    "start_time": "2023-03-09T07:22:07.188Z"
   },
   {
    "duration": 605,
    "start_time": "2023-03-09T07:22:17.925Z"
   },
   {
    "duration": 351,
    "start_time": "2023-03-09T07:23:40.056Z"
   },
   {
    "duration": 87,
    "start_time": "2023-03-09T07:24:10.233Z"
   },
   {
    "duration": 32,
    "start_time": "2023-03-09T07:24:17.140Z"
   },
   {
    "duration": 1162,
    "start_time": "2023-03-09T07:28:16.555Z"
   },
   {
    "duration": 8,
    "start_time": "2023-03-09T07:28:28.788Z"
   },
   {
    "duration": 23,
    "start_time": "2023-03-09T07:29:33.133Z"
   },
   {
    "duration": 19,
    "start_time": "2023-03-09T07:29:36.487Z"
   },
   {
    "duration": 831,
    "start_time": "2023-03-09T07:29:45.560Z"
   },
   {
    "duration": 17,
    "start_time": "2023-03-09T07:30:36.258Z"
   },
   {
    "duration": 52,
    "start_time": "2023-03-09T07:30:43.380Z"
   },
   {
    "duration": 45,
    "start_time": "2023-03-09T07:34:06.586Z"
   },
   {
    "duration": 20,
    "start_time": "2023-03-09T07:38:21.695Z"
   },
   {
    "duration": 348,
    "start_time": "2023-03-09T07:38:29.094Z"
   },
   {
    "duration": 340,
    "start_time": "2023-03-09T07:38:58.969Z"
   },
   {
    "duration": 335,
    "start_time": "2023-03-09T07:39:15.270Z"
   },
   {
    "duration": 414,
    "start_time": "2023-03-09T07:39:24.714Z"
   },
   {
    "duration": 288,
    "start_time": "2023-03-09T07:39:37.976Z"
   },
   {
    "duration": 341,
    "start_time": "2023-03-09T07:41:44.752Z"
   },
   {
    "duration": 653,
    "start_time": "2023-03-09T07:41:55.775Z"
   },
   {
    "duration": 445,
    "start_time": "2023-03-09T07:42:08.119Z"
   },
   {
    "duration": 18,
    "start_time": "2023-03-09T07:43:32.026Z"
   },
   {
    "duration": 11,
    "start_time": "2023-03-09T07:43:37.673Z"
   },
   {
    "duration": 323,
    "start_time": "2023-03-09T07:45:24.115Z"
   },
   {
    "duration": 386,
    "start_time": "2023-03-09T07:45:37.996Z"
   },
   {
    "duration": 348,
    "start_time": "2023-03-09T07:45:56.580Z"
   },
   {
    "duration": 365,
    "start_time": "2023-03-09T07:46:14.606Z"
   },
   {
    "duration": 9,
    "start_time": "2023-03-09T07:47:05.766Z"
   },
   {
    "duration": 329,
    "start_time": "2023-03-09T07:47:13.902Z"
   },
   {
    "duration": 6,
    "start_time": "2023-03-09T07:47:35.982Z"
   },
   {
    "duration": 8,
    "start_time": "2023-03-09T07:47:43.857Z"
   },
   {
    "duration": 11,
    "start_time": "2023-03-09T07:47:50.001Z"
   },
   {
    "duration": 12,
    "start_time": "2023-03-09T07:47:56.609Z"
   },
   {
    "duration": 8,
    "start_time": "2023-03-09T07:48:01.084Z"
   },
   {
    "duration": 7,
    "start_time": "2023-03-09T07:48:32.921Z"
   },
   {
    "duration": 9,
    "start_time": "2023-03-09T07:48:38.056Z"
   },
   {
    "duration": 312,
    "start_time": "2023-03-09T07:48:43.469Z"
   },
   {
    "duration": 1071,
    "start_time": "2023-03-09T07:49:14.818Z"
   },
   {
    "duration": 12,
    "start_time": "2023-03-09T07:49:46.269Z"
   },
   {
    "duration": 15,
    "start_time": "2023-03-09T07:49:52.702Z"
   },
   {
    "duration": 1376,
    "start_time": "2023-03-09T07:49:55.308Z"
   },
   {
    "duration": 8,
    "start_time": "2023-03-09T07:50:20.086Z"
   },
   {
    "duration": 8,
    "start_time": "2023-03-09T07:50:33.293Z"
   },
   {
    "duration": 7,
    "start_time": "2023-03-09T07:50:42.179Z"
   },
   {
    "duration": 8,
    "start_time": "2023-03-09T07:51:02.980Z"
   },
   {
    "duration": 8,
    "start_time": "2023-03-09T07:51:15.293Z"
   },
   {
    "duration": 1166,
    "start_time": "2023-03-09T07:51:40.700Z"
   },
   {
    "duration": 1005,
    "start_time": "2023-03-09T07:51:49.638Z"
   },
   {
    "duration": 672,
    "start_time": "2023-03-09T07:52:05.811Z"
   },
   {
    "duration": 820,
    "start_time": "2023-03-09T07:53:27.457Z"
   },
   {
    "duration": 379,
    "start_time": "2023-03-09T07:53:36.459Z"
   },
   {
    "duration": 360,
    "start_time": "2023-03-09T07:53:43.724Z"
   },
   {
    "duration": 393,
    "start_time": "2023-03-09T07:55:06.526Z"
   },
   {
    "duration": 4,
    "start_time": "2023-03-09T07:57:00.361Z"
   },
   {
    "duration": 1051,
    "start_time": "2023-03-09T07:57:03.685Z"
   },
   {
    "duration": 4,
    "start_time": "2023-03-09T07:57:21.370Z"
   },
   {
    "duration": 16,
    "start_time": "2023-03-09T07:58:57.193Z"
   },
   {
    "duration": 964,
    "start_time": "2023-03-09T07:58:59.804Z"
   },
   {
    "duration": 17,
    "start_time": "2023-03-09T07:59:15.427Z"
   },
   {
    "duration": 1566,
    "start_time": "2023-03-09T07:59:18.318Z"
   },
   {
    "duration": 15,
    "start_time": "2023-03-09T07:59:36.526Z"
   },
   {
    "duration": 1064,
    "start_time": "2023-03-09T07:59:39.694Z"
   },
   {
    "duration": 13,
    "start_time": "2023-03-09T07:59:46.016Z"
   },
   {
    "duration": 1046,
    "start_time": "2023-03-09T07:59:48.473Z"
   },
   {
    "duration": 17,
    "start_time": "2023-03-09T08:00:18.470Z"
   },
   {
    "duration": 4,
    "start_time": "2023-03-09T08:02:15.525Z"
   },
   {
    "duration": 780,
    "start_time": "2023-03-09T08:02:15.533Z"
   },
   {
    "duration": 23,
    "start_time": "2023-03-09T08:02:16.317Z"
   },
   {
    "duration": 22,
    "start_time": "2023-03-09T08:02:16.342Z"
   },
   {
    "duration": 267,
    "start_time": "2023-03-09T08:02:16.367Z"
   },
   {
    "duration": 9,
    "start_time": "2023-03-09T08:02:16.636Z"
   },
   {
    "duration": 21,
    "start_time": "2023-03-09T08:02:16.647Z"
   },
   {
    "duration": 44,
    "start_time": "2023-03-09T08:02:16.670Z"
   },
   {
    "duration": 141,
    "start_time": "2023-03-09T08:02:16.716Z"
   },
   {
    "duration": 7,
    "start_time": "2023-03-09T08:02:16.859Z"
   },
   {
    "duration": 46,
    "start_time": "2023-03-09T08:02:16.869Z"
   },
   {
    "duration": 4,
    "start_time": "2023-03-09T08:02:16.917Z"
   },
   {
    "duration": 15,
    "start_time": "2023-03-09T08:02:16.923Z"
   },
   {
    "duration": 8,
    "start_time": "2023-03-09T08:02:16.940Z"
   },
   {
    "duration": 6,
    "start_time": "2023-03-09T08:02:16.950Z"
   },
   {
    "duration": 34,
    "start_time": "2023-03-09T08:02:16.958Z"
   },
   {
    "duration": 31,
    "start_time": "2023-03-09T08:02:16.994Z"
   },
   {
    "duration": 10,
    "start_time": "2023-03-09T08:02:17.027Z"
   },
   {
    "duration": 15,
    "start_time": "2023-03-09T08:02:17.039Z"
   },
   {
    "duration": 9,
    "start_time": "2023-03-09T08:02:17.056Z"
   },
   {
    "duration": 150,
    "start_time": "2023-03-09T08:02:17.066Z"
   },
   {
    "duration": 26,
    "start_time": "2023-03-09T08:02:17.218Z"
   },
   {
    "duration": 17,
    "start_time": "2023-03-09T08:02:17.246Z"
   },
   {
    "duration": 11,
    "start_time": "2023-03-09T08:02:17.265Z"
   },
   {
    "duration": 38,
    "start_time": "2023-03-09T08:02:17.278Z"
   },
   {
    "duration": 13,
    "start_time": "2023-03-09T08:02:17.318Z"
   },
   {
    "duration": 13,
    "start_time": "2023-03-09T08:02:17.332Z"
   },
   {
    "duration": 18,
    "start_time": "2023-03-09T08:02:17.347Z"
   },
   {
    "duration": 10,
    "start_time": "2023-03-09T08:02:17.368Z"
   },
   {
    "duration": 8,
    "start_time": "2023-03-09T08:02:17.405Z"
   },
   {
    "duration": 10,
    "start_time": "2023-03-09T08:02:17.415Z"
   },
   {
    "duration": 8,
    "start_time": "2023-03-09T08:02:17.427Z"
   },
   {
    "duration": 7,
    "start_time": "2023-03-09T08:02:17.437Z"
   },
   {
    "duration": 1528,
    "start_time": "2023-03-09T08:02:22.087Z"
   },
   {
    "duration": 383,
    "start_time": "2023-03-09T08:04:32.091Z"
   },
   {
    "duration": 373,
    "start_time": "2023-03-09T08:04:38.998Z"
   },
   {
    "duration": 352,
    "start_time": "2023-03-09T08:04:54.226Z"
   },
   {
    "duration": 377,
    "start_time": "2023-03-09T08:05:07.696Z"
   },
   {
    "duration": 409,
    "start_time": "2023-03-09T08:07:03.033Z"
   },
   {
    "duration": 1051,
    "start_time": "2023-03-09T08:08:00.881Z"
   },
   {
    "duration": 1079,
    "start_time": "2023-03-09T08:08:04.282Z"
   },
   {
    "duration": 12,
    "start_time": "2023-03-09T08:09:16.180Z"
   },
   {
    "duration": 1325,
    "start_time": "2023-03-09T08:09:19.611Z"
   },
   {
    "duration": 1641,
    "start_time": "2023-03-09T08:11:52.932Z"
   },
   {
    "duration": 878,
    "start_time": "2023-03-09T08:11:54.576Z"
   },
   {
    "duration": 27,
    "start_time": "2023-03-09T08:11:55.456Z"
   },
   {
    "duration": 41,
    "start_time": "2023-03-09T08:11:55.485Z"
   },
   {
    "duration": 290,
    "start_time": "2023-03-09T08:11:55.529Z"
   },
   {
    "duration": 14,
    "start_time": "2023-03-09T08:11:55.821Z"
   },
   {
    "duration": 27,
    "start_time": "2023-03-09T08:11:55.838Z"
   },
   {
    "duration": 27,
    "start_time": "2023-03-09T08:11:55.867Z"
   },
   {
    "duration": 164,
    "start_time": "2023-03-09T08:11:55.901Z"
   },
   {
    "duration": 8,
    "start_time": "2023-03-09T08:11:56.068Z"
   },
   {
    "duration": 53,
    "start_time": "2023-03-09T08:11:56.078Z"
   },
   {
    "duration": 4,
    "start_time": "2023-03-09T08:11:56.137Z"
   },
   {
    "duration": 11,
    "start_time": "2023-03-09T08:11:56.143Z"
   },
   {
    "duration": 5,
    "start_time": "2023-03-09T08:11:56.157Z"
   },
   {
    "duration": 19,
    "start_time": "2023-03-09T08:11:56.164Z"
   },
   {
    "duration": 32,
    "start_time": "2023-03-09T08:11:56.185Z"
   },
   {
    "duration": 23,
    "start_time": "2023-03-09T08:11:56.225Z"
   },
   {
    "duration": 9,
    "start_time": "2023-03-09T08:11:56.250Z"
   },
   {
    "duration": 21,
    "start_time": "2023-03-09T08:11:56.261Z"
   },
   {
    "duration": 7,
    "start_time": "2023-03-09T08:11:56.285Z"
   },
   {
    "duration": 166,
    "start_time": "2023-03-09T08:11:56.302Z"
   },
   {
    "duration": 33,
    "start_time": "2023-03-09T08:11:56.470Z"
   },
   {
    "duration": 27,
    "start_time": "2023-03-09T08:11:56.509Z"
   },
   {
    "duration": 8,
    "start_time": "2023-03-09T08:11:56.540Z"
   },
   {
    "duration": 15,
    "start_time": "2023-03-09T08:11:56.550Z"
   },
   {
    "duration": 12,
    "start_time": "2023-03-09T08:11:56.567Z"
   },
   {
    "duration": 46,
    "start_time": "2023-03-09T08:11:56.581Z"
   },
   {
    "duration": 16,
    "start_time": "2023-03-09T08:11:56.633Z"
   },
   {
    "duration": 10,
    "start_time": "2023-03-09T08:11:56.651Z"
   },
   {
    "duration": 10,
    "start_time": "2023-03-09T08:11:56.663Z"
   },
   {
    "duration": 11,
    "start_time": "2023-03-09T08:11:56.674Z"
   },
   {
    "duration": 9,
    "start_time": "2023-03-09T08:11:56.687Z"
   },
   {
    "duration": 36,
    "start_time": "2023-03-09T08:11:56.698Z"
   },
   {
    "duration": 1178,
    "start_time": "2023-03-09T08:11:56.736Z"
   },
   {
    "duration": 1263,
    "start_time": "2023-03-09T08:11:57.917Z"
   },
   {
    "duration": 1287,
    "start_time": "2023-03-09T08:11:59.182Z"
   },
   {
    "duration": 5,
    "start_time": "2023-03-09T08:12:00.470Z"
   },
   {
    "duration": 1106,
    "start_time": "2023-03-09T08:12:00.477Z"
   },
   {
    "duration": 484,
    "start_time": "2023-03-09T08:12:01.585Z"
   },
   {
    "duration": 13,
    "start_time": "2023-03-09T08:12:02.071Z"
   },
   {
    "duration": 134,
    "start_time": "2023-03-09T08:12:02.089Z"
   },
   {
    "duration": 831,
    "start_time": "2023-03-09T08:12:02.230Z"
   },
   {
    "duration": 3,
    "start_time": "2023-03-09T08:12:03.064Z"
   },
   {
    "duration": 27,
    "start_time": "2023-03-09T08:12:03.069Z"
   },
   {
    "duration": 60,
    "start_time": "2023-03-09T08:12:03.099Z"
   },
   {
    "duration": 21,
    "start_time": "2023-03-09T08:12:03.162Z"
   },
   {
    "duration": 39,
    "start_time": "2023-03-09T08:12:03.186Z"
   },
   {
    "duration": 67,
    "start_time": "2023-03-09T08:12:03.227Z"
   },
   {
    "duration": 72,
    "start_time": "2023-03-09T08:12:03.297Z"
   },
   {
    "duration": 10,
    "start_time": "2023-03-09T08:12:03.371Z"
   },
   {
    "duration": 46,
    "start_time": "2023-03-09T08:12:03.383Z"
   },
   {
    "duration": 25,
    "start_time": "2023-03-09T08:12:03.431Z"
   },
   {
    "duration": 3,
    "start_time": "2023-03-09T08:12:03.458Z"
   },
   {
    "duration": 12,
    "start_time": "2023-03-09T08:12:03.463Z"
   },
   {
    "duration": 8,
    "start_time": "2023-03-09T08:12:03.477Z"
   },
   {
    "duration": 6156,
    "start_time": "2023-03-09T08:12:03.487Z"
   },
   {
    "duration": 3441,
    "start_time": "2023-03-09T08:12:09.703Z"
   },
   {
    "duration": 11,
    "start_time": "2023-03-09T08:12:13.202Z"
   },
   {
    "duration": 34,
    "start_time": "2023-03-09T08:12:13.215Z"
   },
   {
    "duration": 27,
    "start_time": "2023-03-09T08:12:13.307Z"
   },
   {
    "duration": 91244,
    "start_time": "2023-03-09T08:12:13.336Z"
   },
   {
    "duration": 3,
    "start_time": "2023-03-09T08:13:44.582Z"
   },
   {
    "duration": 92752,
    "start_time": "2023-03-09T08:13:44.586Z"
   },
   {
    "duration": 4,
    "start_time": "2023-03-09T08:15:17.340Z"
   },
   {
    "duration": 8,
    "start_time": "2023-03-09T08:15:17.346Z"
   },
   {
    "duration": 9,
    "start_time": "2023-03-09T08:15:17.356Z"
   },
   {
    "duration": 7,
    "start_time": "2023-03-09T08:15:17.366Z"
   }
  ],
  "kernelspec": {
   "display_name": "Python 3",
   "language": "python",
   "name": "python3"
  },
  "language_info": {
   "codemirror_mode": {
    "name": "ipython",
    "version": 3
   },
   "file_extension": ".py",
   "mimetype": "text/x-python",
   "name": "python",
   "nbconvert_exporter": "python",
   "pygments_lexer": "ipython3",
   "version": "3.8.8"
  },
  "toc": {
   "base_numbering": 1,
   "nav_menu": {},
   "number_sections": true,
   "sideBar": true,
   "skip_h1_title": true,
   "title_cell": "Содержание",
   "title_sidebar": "Contents",
   "toc_cell": true,
   "toc_position": {
    "height": "calc(100% - 180px)",
    "left": "10px",
    "top": "150px",
    "width": "304px"
   },
   "toc_section_display": true,
   "toc_window_display": true
  }
 },
 "nbformat": 4,
 "nbformat_minor": 5
}
