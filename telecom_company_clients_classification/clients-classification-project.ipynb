{
 "cells": [
  {
   "cell_type": "markdown",
   "metadata": {},
   "source": [
    "# Классификаиция клиентов телеком компании"
   ]
  },
  {
   "cell_type": "markdown",
   "metadata": {},
   "source": [
    "**Описание проекта**: Оператор мобильной связи выяснил: многие клиенты пользуются архивными тарифами. Они хотят построить систему, способную проанализировать поведение клиентов и предложить пользователям один из новых тариф: Smart или Ultra"
   ]
  },
  {
   "cell_type": "markdown",
   "metadata": {},
   "source": [
    "**Задача проекта**: На основе данных предложить клиенту тариф."
   ]
  },
  {
   "cell_type": "markdown",
   "metadata": {},
   "source": [
    "**Описание данных:**\n",
    "\n",
    "Каждый объект в наборе данных — это информация о поведении одного пользователя за месяц. Известно:\n",
    "\n",
    "- `сalls` — количество звонков,\n",
    "- `minutes` — суммарная длительность звонков в минутах,\n",
    "- `messages` — количество sms-сообщений,\n",
    "- `mb_used` — израсходованный интернет-трафик в Мб,\n",
    "- `is_ultra` — каким тарифом пользовался в течение месяца («Ultra» — 1, «Smart» — 0)."
   ]
  },
  {
   "cell_type": "markdown",
   "metadata": {},
   "source": [
    "## Изучение файла"
   ]
  },
  {
   "cell_type": "markdown",
   "metadata": {},
   "source": [
    "Импортируем необходимые библиотеки"
   ]
  },
  {
   "cell_type": "code",
   "execution_count": 1,
   "metadata": {},
   "outputs": [],
   "source": [
    "# импорты из стандартной библиотеки\n",
    "import warnings\n",
    "\n",
    "# импорты сторонних библиотек\n",
    "import pandas as pd\n",
    "import matplotlib.pyplot as plt\n",
    "import seaborn as sns\n",
    "\n",
    "# импорты модулей текущего проекта\n",
    "from tqdm import tqdm\n",
    "from sklearn.tree import plot_tree\n",
    "from sklearn.tree import DecisionTreeClassifier\n",
    "from sklearn.ensemble import RandomForestClassifier\n",
    "from sklearn.linear_model import LogisticRegression\n",
    "from sklearn.model_selection import GridSearchCV\n",
    "from sklearn.model_selection import train_test_split\n",
    "from sklearn.metrics import accuracy_score\n",
    "from sklearn.dummy import DummyClassifier\n",
    "\n",
    "# настройки\n",
    "warnings.filterwarnings(\"ignore\")\n",
    "\n",
    "# константы\n",
    "RANDOM_STATE = 12345"
   ]
  },
  {
   "cell_type": "code",
   "execution_count": 2,
   "metadata": {},
   "outputs": [
    {
     "data": {
      "text/html": [
       "<div>\n",
       "<style scoped>\n",
       "    .dataframe tbody tr th:only-of-type {\n",
       "        vertical-align: middle;\n",
       "    }\n",
       "\n",
       "    .dataframe tbody tr th {\n",
       "        vertical-align: top;\n",
       "    }\n",
       "\n",
       "    .dataframe thead th {\n",
       "        text-align: right;\n",
       "    }\n",
       "</style>\n",
       "<table border=\"1\" class=\"dataframe\">\n",
       "  <thead>\n",
       "    <tr style=\"text-align: right;\">\n",
       "      <th></th>\n",
       "      <th>Unnamed: 0</th>\n",
       "      <th>calls</th>\n",
       "      <th>minutes</th>\n",
       "      <th>messages</th>\n",
       "      <th>mb_used</th>\n",
       "      <th>is_ultra</th>\n",
       "    </tr>\n",
       "  </thead>\n",
       "  <tbody>\n",
       "    <tr>\n",
       "      <th>0</th>\n",
       "      <td>0</td>\n",
       "      <td>40.0</td>\n",
       "      <td>311.90</td>\n",
       "      <td>83.0</td>\n",
       "      <td>19915.42</td>\n",
       "      <td>0</td>\n",
       "    </tr>\n",
       "    <tr>\n",
       "      <th>1</th>\n",
       "      <td>1</td>\n",
       "      <td>85.0</td>\n",
       "      <td>516.75</td>\n",
       "      <td>56.0</td>\n",
       "      <td>22696.96</td>\n",
       "      <td>0</td>\n",
       "    </tr>\n",
       "    <tr>\n",
       "      <th>2</th>\n",
       "      <td>2</td>\n",
       "      <td>77.0</td>\n",
       "      <td>467.66</td>\n",
       "      <td>86.0</td>\n",
       "      <td>21060.45</td>\n",
       "      <td>0</td>\n",
       "    </tr>\n",
       "    <tr>\n",
       "      <th>3</th>\n",
       "      <td>3</td>\n",
       "      <td>106.0</td>\n",
       "      <td>745.53</td>\n",
       "      <td>81.0</td>\n",
       "      <td>8437.39</td>\n",
       "      <td>1</td>\n",
       "    </tr>\n",
       "    <tr>\n",
       "      <th>4</th>\n",
       "      <td>4</td>\n",
       "      <td>66.0</td>\n",
       "      <td>418.74</td>\n",
       "      <td>1.0</td>\n",
       "      <td>14502.75</td>\n",
       "      <td>0</td>\n",
       "    </tr>\n",
       "  </tbody>\n",
       "</table>\n",
       "</div>"
      ],
      "text/plain": [
       "   Unnamed: 0  calls  minutes  messages   mb_used  is_ultra\n",
       "0           0   40.0   311.90      83.0  19915.42         0\n",
       "1           1   85.0   516.75      56.0  22696.96         0\n",
       "2           2   77.0   467.66      86.0  21060.45         0\n",
       "3           3  106.0   745.53      81.0   8437.39         1\n",
       "4           4   66.0   418.74       1.0  14502.75         0"
      ]
     },
     "execution_count": 2,
     "metadata": {},
     "output_type": "execute_result"
    }
   ],
   "source": [
    "# считываем файл и сразу же смотрим\n",
    "users_behavior = pd.read_csv('users_behavior.csv')\n",
    "users_behavior.head()"
   ]
  },
  {
   "cell_type": "markdown",
   "metadata": {},
   "source": [
    "Сразу заметим лишний столбец 'Unnamed: 0' - он просто дублирует индексы, посему его удалим."
   ]
  },
  {
   "cell_type": "code",
   "execution_count": 3,
   "metadata": {},
   "outputs": [],
   "source": [
    "# удаляем лишний столбец\n",
    "users_behavior = users_behavior.drop('Unnamed: 0', axis=1)"
   ]
  },
  {
   "cell_type": "code",
   "execution_count": 4,
   "metadata": {},
   "outputs": [
    {
     "name": "stdout",
     "output_type": "stream",
     "text": [
      "<class 'pandas.core.frame.DataFrame'>\n",
      "RangeIndex: 3214 entries, 0 to 3213\n",
      "Data columns (total 5 columns):\n",
      " #   Column    Non-Null Count  Dtype  \n",
      "---  ------    --------------  -----  \n",
      " 0   calls     3214 non-null   float64\n",
      " 1   minutes   3214 non-null   float64\n",
      " 2   messages  3214 non-null   float64\n",
      " 3   mb_used   3214 non-null   float64\n",
      " 4   is_ultra  3214 non-null   int64  \n",
      "dtypes: float64(4), int64(1)\n",
      "memory usage: 125.7 KB\n"
     ]
    }
   ],
   "source": [
    "# выводим общую информацию о датасете\n",
    "users_behavior.info()"
   ]
  },
  {
   "cell_type": "markdown",
   "metadata": {},
   "source": [
    "Пропущенных значений нет, проблем с типами данных тоже."
   ]
  },
  {
   "cell_type": "code",
   "execution_count": 5,
   "metadata": {},
   "outputs": [
    {
     "data": {
      "text/html": [
       "<div>\n",
       "<style scoped>\n",
       "    .dataframe tbody tr th:only-of-type {\n",
       "        vertical-align: middle;\n",
       "    }\n",
       "\n",
       "    .dataframe tbody tr th {\n",
       "        vertical-align: top;\n",
       "    }\n",
       "\n",
       "    .dataframe thead th {\n",
       "        text-align: right;\n",
       "    }\n",
       "</style>\n",
       "<table border=\"1\" class=\"dataframe\">\n",
       "  <thead>\n",
       "    <tr style=\"text-align: right;\">\n",
       "      <th></th>\n",
       "      <th>calls</th>\n",
       "      <th>minutes</th>\n",
       "      <th>messages</th>\n",
       "      <th>mb_used</th>\n",
       "      <th>is_ultra</th>\n",
       "    </tr>\n",
       "  </thead>\n",
       "  <tbody>\n",
       "    <tr>\n",
       "      <th>count</th>\n",
       "      <td>3214.000000</td>\n",
       "      <td>3214.000000</td>\n",
       "      <td>3214.000000</td>\n",
       "      <td>3214.000000</td>\n",
       "      <td>3214.000000</td>\n",
       "    </tr>\n",
       "    <tr>\n",
       "      <th>mean</th>\n",
       "      <td>63.038892</td>\n",
       "      <td>438.208787</td>\n",
       "      <td>38.281269</td>\n",
       "      <td>17207.673836</td>\n",
       "      <td>0.306472</td>\n",
       "    </tr>\n",
       "    <tr>\n",
       "      <th>std</th>\n",
       "      <td>33.236368</td>\n",
       "      <td>234.569872</td>\n",
       "      <td>36.148326</td>\n",
       "      <td>7570.968246</td>\n",
       "      <td>0.461100</td>\n",
       "    </tr>\n",
       "    <tr>\n",
       "      <th>min</th>\n",
       "      <td>0.000000</td>\n",
       "      <td>0.000000</td>\n",
       "      <td>0.000000</td>\n",
       "      <td>0.000000</td>\n",
       "      <td>0.000000</td>\n",
       "    </tr>\n",
       "    <tr>\n",
       "      <th>25%</th>\n",
       "      <td>40.000000</td>\n",
       "      <td>274.575000</td>\n",
       "      <td>9.000000</td>\n",
       "      <td>12491.902500</td>\n",
       "      <td>0.000000</td>\n",
       "    </tr>\n",
       "    <tr>\n",
       "      <th>50%</th>\n",
       "      <td>62.000000</td>\n",
       "      <td>430.600000</td>\n",
       "      <td>30.000000</td>\n",
       "      <td>16943.235000</td>\n",
       "      <td>0.000000</td>\n",
       "    </tr>\n",
       "    <tr>\n",
       "      <th>75%</th>\n",
       "      <td>82.000000</td>\n",
       "      <td>571.927500</td>\n",
       "      <td>57.000000</td>\n",
       "      <td>21424.700000</td>\n",
       "      <td>1.000000</td>\n",
       "    </tr>\n",
       "    <tr>\n",
       "      <th>max</th>\n",
       "      <td>244.000000</td>\n",
       "      <td>1632.060000</td>\n",
       "      <td>224.000000</td>\n",
       "      <td>49745.730000</td>\n",
       "      <td>1.000000</td>\n",
       "    </tr>\n",
       "  </tbody>\n",
       "</table>\n",
       "</div>"
      ],
      "text/plain": [
       "             calls      minutes     messages       mb_used     is_ultra\n",
       "count  3214.000000  3214.000000  3214.000000   3214.000000  3214.000000\n",
       "mean     63.038892   438.208787    38.281269  17207.673836     0.306472\n",
       "std      33.236368   234.569872    36.148326   7570.968246     0.461100\n",
       "min       0.000000     0.000000     0.000000      0.000000     0.000000\n",
       "25%      40.000000   274.575000     9.000000  12491.902500     0.000000\n",
       "50%      62.000000   430.600000    30.000000  16943.235000     0.000000\n",
       "75%      82.000000   571.927500    57.000000  21424.700000     1.000000\n",
       "max     244.000000  1632.060000   224.000000  49745.730000     1.000000"
      ]
     },
     "execution_count": 5,
     "metadata": {},
     "output_type": "execute_result"
    }
   ],
   "source": [
    "# посмотрим также и на основные статистики\n",
    "users_behavior.describe()"
   ]
  },
  {
   "cell_type": "markdown",
   "metadata": {},
   "source": [
    "Посмотрим на отношение классов в таргете `is_ultra`"
   ]
  },
  {
   "cell_type": "code",
   "execution_count": 6,
   "metadata": {},
   "outputs": [
    {
     "data": {
      "text/plain": [
       "0    0.693528\n",
       "1    0.306472\n",
       "Name: is_ultra, dtype: float64"
      ]
     },
     "execution_count": 6,
     "metadata": {},
     "output_type": "execute_result"
    }
   ],
   "source": [
    "users_behavior['is_ultra'].value_counts(normalize=True)"
   ]
  },
  {
   "cell_type": "markdown",
   "metadata": {},
   "source": [
    "Видно, что дисбаланс классов *есть*, доля пользователей с тарифом Smart - 0.69, а с тарифом Ultra - 0.31\n",
    "\n",
    "Но на модели, которые мы будем рассматривать, это [особо не повлияет](https://habr.com/ru/post/349078/), можем не переживать на этот счет."
   ]
  },
  {
   "cell_type": "markdown",
   "metadata": {},
   "source": [
    "Посмотрим также и на корелляцию признаков."
   ]
  },
  {
   "cell_type": "code",
   "execution_count": 7,
   "metadata": {},
   "outputs": [
    {
     "data": {
      "text/html": [
       "<div>\n",
       "<style scoped>\n",
       "    .dataframe tbody tr th:only-of-type {\n",
       "        vertical-align: middle;\n",
       "    }\n",
       "\n",
       "    .dataframe tbody tr th {\n",
       "        vertical-align: top;\n",
       "    }\n",
       "\n",
       "    .dataframe thead th {\n",
       "        text-align: right;\n",
       "    }\n",
       "</style>\n",
       "<table border=\"1\" class=\"dataframe\">\n",
       "  <thead>\n",
       "    <tr style=\"text-align: right;\">\n",
       "      <th></th>\n",
       "      <th>calls</th>\n",
       "      <th>minutes</th>\n",
       "      <th>messages</th>\n",
       "      <th>mb_used</th>\n",
       "      <th>is_ultra</th>\n",
       "    </tr>\n",
       "  </thead>\n",
       "  <tbody>\n",
       "    <tr>\n",
       "      <th>calls</th>\n",
       "      <td>1.000000</td>\n",
       "      <td>0.982083</td>\n",
       "      <td>0.177385</td>\n",
       "      <td>0.286442</td>\n",
       "      <td>0.207122</td>\n",
       "    </tr>\n",
       "    <tr>\n",
       "      <th>minutes</th>\n",
       "      <td>0.982083</td>\n",
       "      <td>1.000000</td>\n",
       "      <td>0.173110</td>\n",
       "      <td>0.280967</td>\n",
       "      <td>0.206955</td>\n",
       "    </tr>\n",
       "    <tr>\n",
       "      <th>messages</th>\n",
       "      <td>0.177385</td>\n",
       "      <td>0.173110</td>\n",
       "      <td>1.000000</td>\n",
       "      <td>0.195721</td>\n",
       "      <td>0.203830</td>\n",
       "    </tr>\n",
       "    <tr>\n",
       "      <th>mb_used</th>\n",
       "      <td>0.286442</td>\n",
       "      <td>0.280967</td>\n",
       "      <td>0.195721</td>\n",
       "      <td>1.000000</td>\n",
       "      <td>0.198568</td>\n",
       "    </tr>\n",
       "    <tr>\n",
       "      <th>is_ultra</th>\n",
       "      <td>0.207122</td>\n",
       "      <td>0.206955</td>\n",
       "      <td>0.203830</td>\n",
       "      <td>0.198568</td>\n",
       "      <td>1.000000</td>\n",
       "    </tr>\n",
       "  </tbody>\n",
       "</table>\n",
       "</div>"
      ],
      "text/plain": [
       "             calls   minutes  messages   mb_used  is_ultra\n",
       "calls     1.000000  0.982083  0.177385  0.286442  0.207122\n",
       "minutes   0.982083  1.000000  0.173110  0.280967  0.206955\n",
       "messages  0.177385  0.173110  1.000000  0.195721  0.203830\n",
       "mb_used   0.286442  0.280967  0.195721  1.000000  0.198568\n",
       "is_ultra  0.207122  0.206955  0.203830  0.198568  1.000000"
      ]
     },
     "execution_count": 7,
     "metadata": {},
     "output_type": "execute_result"
    }
   ],
   "source": [
    "users_behavior.corr()"
   ]
  },
  {
   "cell_type": "markdown",
   "metadata": {},
   "source": [
    "Для большей наглядности построим heatmap"
   ]
  },
  {
   "cell_type": "code",
   "execution_count": 8,
   "metadata": {},
   "outputs": [
    {
     "data": {
      "image/png": "[encoded data removed]",
      "text/plain": [
       "<Figure size 720x576 with 2 Axes>"
      ]
     },
     "metadata": {
      "needs_background": "light"
     },
     "output_type": "display_data"
    }
   ],
   "source": [
    "plt.figure(figsize=(10, 8))\n",
    "\n",
    "sns.heatmap(data=users_behavior.corr(), annot=True, linewidth=.7);"
   ]
  },
  {
   "cell_type": "markdown",
   "metadata": {},
   "source": [
    "Заметим, что между признаками `calls` и `minutes` наблюдается *мультиколлинеарность*. Можно сделать следующий вывод:\n",
    "- достаточно одного из этих параметров, чтобы модель могла обучиться и давать адекватные результаты (для линейных)\n",
    "- важна интерпретируемость линейной модели т.к. по коэффициентам мы судим как признаки влияют на таргет\n",
    "- посему, один из признаков **удалим**"
   ]
  },
  {
   "cell_type": "code",
   "execution_count": 9,
   "metadata": {},
   "outputs": [],
   "source": [
    "# удаляем столбец 'minutes'\n",
    "users_behavior.drop('minutes', axis=1, inplace=True)"
   ]
  },
  {
   "cell_type": "markdown",
   "metadata": {},
   "source": [
    "Похоже, что теперь с данными все в порядке, на первый взгляд ничего не вызывает подозрений. \n",
    "\n",
    "*Можно работать*"
   ]
  },
  {
   "cell_type": "markdown",
   "metadata": {},
   "source": [
    "## Сплит данных на выборки"
   ]
  },
  {
   "cell_type": "markdown",
   "metadata": {},
   "source": [
    "Так как отдельной тестовой выборки нет - делим users_behavior в соотношении 3:1:1\n",
    "\n",
    "X - набор обучающих признаков  \n",
    "y - таргет"
   ]
  },
  {
   "cell_type": "code",
   "execution_count": 10,
   "metadata": {},
   "outputs": [],
   "source": [
    "X = users_behavior.drop('is_ultra', axis=1)\n",
    "y = users_behavior['is_ultra']"
   ]
  },
  {
   "cell_type": "code",
   "execution_count": 11,
   "metadata": {},
   "outputs": [
    {
     "name": "stdout",
     "output_type": "stream",
     "text": [
      "Кол-во строк до сплитов = 3214\n"
     ]
    }
   ],
   "source": [
    "print(f'Кол-во строк до сплитов = {X.shape[0]}')"
   ]
  },
  {
   "cell_type": "markdown",
   "metadata": {},
   "source": [
    "Для начала отделим *тренировочную часть* - 60%\n",
    "\n",
    "Укажем параметр stratify=y для сохранения отношения классов"
   ]
  },
  {
   "cell_type": "code",
   "execution_count": 12,
   "metadata": {},
   "outputs": [],
   "source": [
    "X_train, X_rem, y_train, y_rem = train_test_split(X, y, train_size=0.6, stratify=y, random_state=RANDOM_STATE)"
   ]
  },
  {
   "cell_type": "markdown",
   "metadata": {},
   "source": [
    "Оставшиеся 40% от данных *делим пополам*, тем самым получим **валидационную** и **тестовую** выборки"
   ]
  },
  {
   "cell_type": "code",
   "execution_count": 13,
   "metadata": {},
   "outputs": [],
   "source": [
    "X_val, X_test, y_val, y_test = train_test_split(X_rem, y_rem, test_size=0.5, stratify=y_rem, random_state=RANDOM_STATE)"
   ]
  },
  {
   "cell_type": "markdown",
   "metadata": {},
   "source": [
    "Проверим количество строк после сплитов"
   ]
  },
  {
   "cell_type": "code",
   "execution_count": 14,
   "metadata": {},
   "outputs": [
    {
     "name": "stdout",
     "output_type": "stream",
     "text": [
      "X_train = 1928\n",
      "  X_val = 643\n",
      " X_test = 643\n",
      "  total = 3214\n"
     ]
    }
   ],
   "source": [
    "print(f'X_train = {X_train.shape[0]}')\n",
    "print(f'  X_val = {X_val.shape[0]}')\n",
    "print(f' X_test = {X_test.shape[0]}')\n",
    "print(f'  total = {X_train.shape[0] + X_val.shape[0] + X_test.shape[0]}')"
   ]
  },
  {
   "cell_type": "markdown",
   "metadata": {},
   "source": [
    "Все сходится! Теперь посмотрим, помог ли параметр `stratify` сохранить отношение классов 0 (Smart) и 1 (Ultra)"
   ]
  },
  {
   "cell_type": "code",
   "execution_count": 15,
   "metadata": {},
   "outputs": [
    {
     "data": {
      "text/plain": [
       "0    0.693465\n",
       "1    0.306535\n",
       "Name: is_ultra, dtype: float64"
      ]
     },
     "execution_count": 15,
     "metadata": {},
     "output_type": "execute_result"
    }
   ],
   "source": [
    "y_train.value_counts(normalize=True)"
   ]
  },
  {
   "cell_type": "code",
   "execution_count": 16,
   "metadata": {},
   "outputs": [
    {
     "data": {
      "text/plain": [
       "0    0.693624\n",
       "1    0.306376\n",
       "Name: is_ultra, dtype: float64"
      ]
     },
     "execution_count": 16,
     "metadata": {},
     "output_type": "execute_result"
    }
   ],
   "source": [
    "y_val.value_counts(normalize=True)"
   ]
  },
  {
   "cell_type": "code",
   "execution_count": 17,
   "metadata": {},
   "outputs": [
    {
     "data": {
      "text/plain": [
       "0    0.693624\n",
       "1    0.306376\n",
       "Name: is_ultra, dtype: float64"
      ]
     },
     "execution_count": 17,
     "metadata": {},
     "output_type": "execute_result"
    }
   ],
   "source": [
    "y_test.value_counts(normalize=True)"
   ]
  },
  {
   "cell_type": "markdown",
   "metadata": {},
   "source": [
    "*Все отлично*, дисбаланс никуда не делся, но он будет одинаковым во всех выборках"
   ]
  },
  {
   "cell_type": "markdown",
   "metadata": {},
   "source": [
    "## Исследование моделей"
   ]
  },
  {
   "cell_type": "markdown",
   "metadata": {},
   "source": [
    "Мною было решено исследовать три *классические модели*: \n",
    "1. DecisionTreeClassifier \n",
    "2. RandomForestClassifier\n",
    "3. LogisticRegression"
   ]
  },
  {
   "cell_type": "markdown",
   "metadata": {},
   "source": [
    "### DecisionTreeClassifier"
   ]
  },
  {
   "cell_type": "markdown",
   "metadata": {},
   "source": [
    "С помощью вложенных циклов потюним следующие гиперпараметры дерева: `criterion`, `max_depth`, `min_samples_leaf`, `min_samples_split`, для сохранения результатов используем `random_state=RANDOM_STATE`.\n",
    "\n",
    "Можно было бы использовать `GridSearchCV`, но я сделал так, также, используем tqdm для визуализации итераций."
   ]
  },
  {
   "cell_type": "code",
   "execution_count": 18,
   "metadata": {
    "scrolled": false
   },
   "outputs": [
    {
     "name": "stderr",
     "output_type": "stream",
     "text": [
      "100%|██████████████████████████████████████████████████████████████████████████████████| 50/50 [00:05<00:00,  8.64it/s]"
     ]
    },
    {
     "name": "stdout",
     "output_type": "stream",
     "text": [
      "Качество и параметры лучшей модели на валидационной выборке:\n",
      "Accuracy: 0.802, Глубина дерева: 5, min_samples_leaf: 11\n"
     ]
    },
    {
     "name": "stderr",
     "output_type": "stream",
     "text": [
      "\n"
     ]
    }
   ],
   "source": [
    "best_dt = None\n",
    "best_dt_result = 0\n",
    "\n",
    "# в цикле переберем гиперпараметры (max_depth и min_samples_leaf)\n",
    "for depth in tqdm(range(1, 51)):\n",
    "    for s_leaf in range(1, 16):\n",
    "        \n",
    "        # присваиваем переменной dt_model модель дерева решений с гиперпараметрами из текущей итерации\n",
    "        dt_model = DecisionTreeClassifier(\n",
    "            max_depth=depth, min_samples_leaf=s_leaf, random_state=RANDOM_STATE\n",
    "        )\n",
    "        \n",
    "        # тут же и фиттим модель\n",
    "        dt_model.fit(X_train, y_train)\n",
    "                \n",
    "        # предсказываем и считаем accuracy на валидационной выборке\n",
    "        predictions_val = dt_model.predict(X_val)\n",
    "        result = accuracy_score(y_val, predictions_val)\n",
    "                \n",
    "        # если получившийся результат лучше best_dt_result запишем его и текущие гиперпараметры\n",
    "        if result > best_dt_result:\n",
    "            best_dt = dt_model\n",
    "            best_dt_result = result\n",
    "            best_depth = depth\n",
    "            best_s_leaf = s_leaf\n",
    "\n",
    "\n",
    "# выведем результаты\n",
    "print(f'Качество и параметры лучшей модели на валидационной выборке:')\n",
    "print(f'Accuracy: {best_dt_result:.3}, Глубина дерева: {best_depth}, min_samples_leaf: {best_s_leaf}')"
   ]
  },
  {
   "cell_type": "markdown",
   "metadata": {},
   "source": [
    "**`Промежуточный вывод:`**\n",
    "\n",
    "Результат получился неплохим, accuracy на валидационной выборке для dt = 0.802"
   ]
  },
  {
   "cell_type": "markdown",
   "metadata": {},
   "source": [
    "Можем также и визуализировать дерево, чтобы понять какой логике оно следовало.\n",
    "\n",
    "Ограничим max_depth = 3 для удобства."
   ]
  },
  {
   "cell_type": "code",
   "execution_count": 19,
   "metadata": {},
   "outputs": [
    {
     "data": {
      "image/png": "[encoded data removed]",
      "text/plain": [
       "<Figure size 2520x1440 with 1 Axes>"
      ]
     },
     "metadata": {
      "needs_background": "light"
     },
     "output_type": "display_data"
    }
   ],
   "source": [
    "fig = plt.figure(figsize=(35,20))\n",
    "_ = plot_tree(best_dt, \n",
    "              feature_names=X.columns.values, \n",
    "              class_names=['Smart','Ultra'],\n",
    "              filled=True,\n",
    "              fontsize = 15,\n",
    "              max_depth = 3\n",
    "             )"
   ]
  },
  {
   "cell_type": "markdown",
   "metadata": {},
   "source": [
    "### RandomForestClassifier"
   ]
  },
  {
   "cell_type": "markdown",
   "metadata": {},
   "source": [
    "С помощью вложенных циклов потюним следующие гиперпараметры леса: `n_estimators`, `max_depth`, для сохранения результатов используем `random_state=RANDOM_STATE`. Я не стал брать еще и `min_samples_leaf`, `min_samples_split` т.к. тюнинг модели и так слишком долгий.\n",
    "\n",
    "Опять же, можно было бы использовать `GridSearchCV`, в этом проекте я решил пойти ручным путем."
   ]
  },
  {
   "cell_type": "code",
   "execution_count": 20,
   "metadata": {
    "scrolled": true
   },
   "outputs": [
    {
     "name": "stderr",
     "output_type": "stream",
     "text": [
      "100%|██████████████████████████████████████████████████████████████████████████████████| 50/50 [00:30<00:00,  1.64it/s]"
     ]
    },
    {
     "name": "stdout",
     "output_type": "stream",
     "text": [
      "Качество и параметры лучшей модели на валидационной выборке:\n",
      "Accuracy: 0.82, Количество деревьев: 26, Глубина дерева: 9\n"
     ]
    },
    {
     "name": "stderr",
     "output_type": "stream",
     "text": [
      "\n"
     ]
    }
   ],
   "source": [
    "best_rf = None\n",
    "best_rf_result = 0\n",
    "\n",
    "# в цикле переберем гиперпараметры (n_estimators и max_depth)\n",
    "for est in tqdm(range(1, 51)):  \n",
    "    for depth in range(1, 11):\n",
    "        \n",
    "        # присваиваем переменной rf_model модель случайного леса с гиперпараметрами из текущей итерации\n",
    "        rf_model = RandomForestClassifier(\n",
    "            n_estimators=est, max_depth=depth, random_state=RANDOM_STATE\n",
    "        )\n",
    "            \n",
    "        # тут же фиттим\n",
    "        rf_model.fit(X_train, y_train)\n",
    "            \n",
    "        # предсказываем и считаем accuracy на валидационной выборке\n",
    "        predictions_val = rf_model.predict(X_val)\n",
    "        result = accuracy_score(y_val, predictions_val)\n",
    "            \n",
    "        # если получившийся результат лучше best_rf_result запишем его и текущие гиперпараметры\n",
    "        if result > best_rf_result:\n",
    "            best_rf = rf_model\n",
    "            best_rf_result = result\n",
    "            best_est = est\n",
    "            best_depth = depth\n",
    "\n",
    "\n",
    "# выведем результаты\n",
    "print(f'Качество и параметры лучшей модели на валидационной выборке:')\n",
    "print(f'Accuracy: {best_rf_result:.3}, Количество деревьев: {best_est}, Глубина дерева: {best_depth}')"
   ]
  },
  {
   "cell_type": "markdown",
   "metadata": {},
   "source": [
    "**`Промежуточный вывод:`**\n",
    "\n",
    "Неплохой результат! Как и ожидалось, результат больше чем у дерева решений.\n",
    "\n",
    "Accuracy на валидационной выборке для rf = 0.82"
   ]
  },
  {
   "cell_type": "markdown",
   "metadata": {},
   "source": [
    "### LogisticRegression"
   ]
  },
  {
   "cell_type": "markdown",
   "metadata": {},
   "source": [
    "Здесь я просто выставил `max_iter=200` и для сохранения результатов использовал `random_state=RANDOM_STATE`."
   ]
  },
  {
   "cell_type": "code",
   "execution_count": 21,
   "metadata": {},
   "outputs": [
    {
     "name": "stdout",
     "output_type": "stream",
     "text": [
      "Accuracy модели на валидационной выборке: 0.74\n"
     ]
    }
   ],
   "source": [
    "# присваиваем переменной lr_model модель логистической регрессии\n",
    "lr_model = LogisticRegression(max_iter=200, random_state=RANDOM_STATE)\n",
    "lr_model.fit(X_train, y_train)\n",
    "\n",
    "# предсказываем и считаем accuracy на валидационной выборке\n",
    "predictions_val = lr_model.predict(X_val)\n",
    "result = accuracy_score(y_val, predictions_val)\n",
    "\n",
    "# выведем результаты\n",
    "print(f'Accuracy модели на валидационной выборке: {result:.3}')"
   ]
  },
  {
   "cell_type": "markdown",
   "metadata": {},
   "source": [
    "**`Промежуточный вывод:`**\n",
    "\n",
    "Результат на тестовой выборке получился *такой себе*, *худший* из трех рассмотренных моделей. \n",
    "\n",
    "Для улучшения метрики здесь можно попробовать отмасштабировать признаки `StandardScaler`-ом т.к. они все числовые."
   ]
  },
  {
   "cell_type": "markdown",
   "metadata": {},
   "source": [
    "## Проверка лучшей модели на тестовой выборке"
   ]
  },
  {
   "cell_type": "markdown",
   "metadata": {},
   "source": [
    "При проверке лучшей модели, будем обучать её на *сконкаченных данных* (train + validation)"
   ]
  },
  {
   "cell_type": "code",
   "execution_count": 22,
   "metadata": {},
   "outputs": [
    {
     "name": "stdout",
     "output_type": "stream",
     "text": [
      "Кол-во строк в train + val выборке = 2571\n"
     ]
    }
   ],
   "source": [
    "print(f'Кол-во строк в train + val выборке = {X_train.shape[0] + X_val.shape[0]}')"
   ]
  },
  {
   "cell_type": "code",
   "execution_count": 23,
   "metadata": {},
   "outputs": [
    {
     "name": "stdout",
     "output_type": "stream",
     "text": [
      "Кол-во строк в объединенной выборке = 2571\n"
     ]
    }
   ],
   "source": [
    "# объединяем train и val выборки\n",
    "X_train_val = pd.concat([X_train, X_val])\n",
    "y_train_val = pd.concat([y_train, y_val])\n",
    "\n",
    "# сразу проверим кол-во строк\n",
    "print(f'Кол-во строк в объединенной выборке = {X_train_val.shape[0]}')"
   ]
  },
  {
   "cell_type": "code",
   "execution_count": 24,
   "metadata": {},
   "outputs": [
    {
     "name": "stdout",
     "output_type": "stream",
     "text": [
      "Accuracy лучшей модели на тестовой выборке = 0.823\n"
     ]
    }
   ],
   "source": [
    "# обучим на train + val выборке\n",
    "best_rf.fit(X_train_val, y_train_val)\n",
    "\n",
    "# предиктим и считаем accuracy на тестовой выборке\n",
    "test_predictions = best_rf.predict(X_test)\n",
    "train_val_rf_score = accuracy_score(y_test, test_predictions)\n",
    "\n",
    "# выведем метрику на экран\n",
    "print(f'Accuracy лучшей модели на тестовой выборке = {train_val_rf_score:.3}')"
   ]
  },
  {
   "cell_type": "markdown",
   "metadata": {},
   "source": [
    "Отлично, метрика даже **немного улучшилась**: на *валидационной* было 0.82, а на *тестовой* стало 0.823"
   ]
  },
  {
   "cell_type": "markdown",
   "metadata": {},
   "source": [
    "## Проверка лучшей модели на адекватность"
   ]
  },
  {
   "cell_type": "markdown",
   "metadata": {},
   "source": [
    "В задачах классификации для оценки адекватности модели ее нужно сравнить со случайной, используем для этого `DummyClassifier` из библиотеки *sklearn*"
   ]
  },
  {
   "cell_type": "code",
   "execution_count": 25,
   "metadata": {
    "scrolled": true
   },
   "outputs": [
    {
     "name": "stdout",
     "output_type": "stream",
     "text": [
      "Сравнение результатов DummyClassifier с лучшей моделью:\n",
      "\n",
      "_dum dum: 0.694\n",
      "rf_model: 0.823\n"
     ]
    }
   ],
   "source": [
    "# инициализируем dummy классификатор и фиттим на train_val выборке\n",
    "dum_dum = DummyClassifier(strategy='most_frequent', random_state=RANDOM_STATE)\n",
    "dum_dum.fit(X_train_val, y_train_val)\n",
    "\n",
    "# проверяем на тестовой выборке\n",
    "dummy_pred = dum_dum.predict(X_test)\n",
    "train_val_dummy_score = accuracy_score(y_test, dummy_pred)\n",
    "\n",
    "print('Сравнение результатов DummyClassifier с лучшей моделью:')\n",
    "print()\n",
    "print(f'_dum dum: {train_val_dummy_score:.3}')\n",
    "print(f'rf_model: {train_val_rf_score:.3}')"
   ]
  },
  {
   "cell_type": "markdown",
   "metadata": {},
   "source": [
    "В сравнении видно, что наша модель, в общем-то *адекватна* и показывает *результат явно лучший чем dummy*!"
   ]
  },
  {
   "cell_type": "markdown",
   "metadata": {},
   "source": [
    "## Общий вывод"
   ]
  },
  {
   "cell_type": "markdown",
   "metadata": {},
   "source": [
    "1. **`Изучение файла:`**\n",
    "    - Датафрейм *users_behavior* был без пропусков и проблем с типами данных\n",
    "\n",
    "\n",
    "2. **`Сплит данных на выборки:`**\n",
    "    - Данные были разбиты на выборки в соответствии с отношением 3:1:1\n",
    "    - Для разбития датафрейма на выборки был применен метод `train_test_split()` два раза\n",
    "\n",
    "\n",
    "3. **`Исследование моделей:`**\n",
    "    - Было исследовано три типа моделей (дерево решений, случайный лес и логистическая регрессия)\n",
    "\n",
    "    - *Дерево решений* дало неплохой результат: \n",
    "        - Accuracy лучшего дерева решений на валидационной выборке: 0.802\n",
    "        - Параметры лучшего дерева решений (max_depth=5, min_samples_leaf=11)\n",
    "\n",
    "    - *Случайный лес* дал результат еще лучше:\n",
    "        - Accuracy лучшего случайного леса на валидационной выборке: 0.82\n",
    "        - Параметры лучшего случайного леса (n_estimators=26, max_depth=9)\n",
    "\n",
    "    - *Логистическая регрессия* дала непонятный мне результат:\n",
    "        - Accuracy лучшей лог регрессии на валидационной выборке: 0.74\n",
    "        - В параметрах, помимо random_state был указан только max_iter=200\n",
    "\n",
    "\n",
    "4. **`Проверка лучшей модели на тестовой выборке:`**\n",
    "    - Случайный лес дал результат еще лучше: 0.823\n",
    "\n",
    "\n",
    "5. **`Проверка лучшей модели на адекватность:`**\n",
    "    - Относительно dummy классификатора модель адекватна\n",
    "\n",
    "\n",
    "6. **`Итог:`**\n",
    "    - Случайный лес молодец и победитель"
   ]
  },
  {
   "cell_type": "code",
   "execution_count": null,
   "metadata": {},
   "outputs": [],
   "source": []
  }
 ],
 "metadata": {
  "ExecuteTimeLog": [
   {
    "duration": 414,
    "start_time": "2022-12-01T10:28:13.759Z"
   },
   {
    "duration": 121,
    "start_time": "2022-12-01T10:28:27.184Z"
   },
   {
    "duration": 19,
    "start_time": "2022-12-01T10:28:30.391Z"
   },
   {
    "duration": 648,
    "start_time": "2022-12-01T10:31:42.210Z"
   },
   {
    "duration": 39,
    "start_time": "2022-12-01T10:32:51.546Z"
   },
   {
    "duration": 94,
    "start_time": "2022-12-01T10:34:43.764Z"
   },
   {
    "duration": 5,
    "start_time": "2022-12-01T10:35:11.302Z"
   },
   {
    "duration": 12,
    "start_time": "2022-12-01T10:35:15.075Z"
   },
   {
    "duration": 13,
    "start_time": "2022-12-01T10:35:32.342Z"
   },
   {
    "duration": 4,
    "start_time": "2022-12-01T10:38:23.146Z"
   },
   {
    "duration": 13,
    "start_time": "2022-12-01T10:38:26.753Z"
   },
   {
    "duration": 3,
    "start_time": "2022-12-01T10:41:49.818Z"
   },
   {
    "duration": 49,
    "start_time": "2022-12-01T10:41:49.823Z"
   },
   {
    "duration": 4,
    "start_time": "2022-12-01T10:41:49.874Z"
   },
   {
    "duration": 8,
    "start_time": "2022-12-01T10:41:49.880Z"
   },
   {
    "duration": 12,
    "start_time": "2022-12-01T10:42:00.573Z"
   },
   {
    "duration": 13,
    "start_time": "2022-12-01T10:42:08.494Z"
   },
   {
    "duration": 17,
    "start_time": "2022-12-01T10:42:11.806Z"
   },
   {
    "duration": 46,
    "start_time": "2022-12-01T10:49:31.301Z"
   },
   {
    "duration": 4,
    "start_time": "2022-12-01T10:54:25.062Z"
   },
   {
    "duration": 4,
    "start_time": "2022-12-01T10:56:00.584Z"
   },
   {
    "duration": 6,
    "start_time": "2022-12-01T10:56:33.765Z"
   },
   {
    "duration": 5,
    "start_time": "2022-12-01T10:56:54.359Z"
   },
   {
    "duration": 58,
    "start_time": "2022-12-01T10:58:27.536Z"
   },
   {
    "duration": 13,
    "start_time": "2022-12-01T10:59:33.672Z"
   },
   {
    "duration": 9,
    "start_time": "2022-12-01T10:59:36.409Z"
   },
   {
    "duration": 60,
    "start_time": "2022-12-01T11:00:34.699Z"
   },
   {
    "duration": 3,
    "start_time": "2022-12-01T11:03:22.382Z"
   },
   {
    "duration": 15,
    "start_time": "2022-12-01T11:04:12.985Z"
   },
   {
    "duration": 12,
    "start_time": "2022-12-01T11:04:58.981Z"
   },
   {
    "duration": 3,
    "start_time": "2022-12-01T11:05:44.855Z"
   },
   {
    "duration": 63,
    "start_time": "2022-12-01T11:06:04.553Z"
   },
   {
    "duration": 8,
    "start_time": "2022-12-01T11:07:36.074Z"
   },
   {
    "duration": 3,
    "start_time": "2022-12-01T11:08:07.737Z"
   },
   {
    "duration": 8,
    "start_time": "2022-12-01T11:08:15.013Z"
   },
   {
    "duration": 7386,
    "start_time": "2022-12-01T11:08:17.818Z"
   },
   {
    "duration": 146,
    "start_time": "2022-12-01T11:09:08.500Z"
   },
   {
    "duration": 134,
    "start_time": "2022-12-01T11:09:14.300Z"
   },
   {
    "duration": 129,
    "start_time": "2022-12-01T11:10:09.708Z"
   },
   {
    "duration": 138,
    "start_time": "2022-12-01T11:10:54.502Z"
   },
   {
    "duration": 274,
    "start_time": "2022-12-01T11:11:35.165Z"
   },
   {
    "duration": 80,
    "start_time": "2022-12-01T11:12:02.630Z"
   },
   {
    "duration": 58,
    "start_time": "2022-12-01T11:12:09.961Z"
   },
   {
    "duration": 73,
    "start_time": "2022-12-01T11:12:13.315Z"
   },
   {
    "duration": 68,
    "start_time": "2022-12-01T11:12:20.468Z"
   },
   {
    "duration": 151,
    "start_time": "2022-12-01T11:12:33.385Z"
   },
   {
    "duration": 151,
    "start_time": "2022-12-01T11:12:58.912Z"
   },
   {
    "duration": 139,
    "start_time": "2022-12-01T11:13:18.847Z"
   },
   {
    "duration": 148,
    "start_time": "2022-12-01T11:16:24.967Z"
   },
   {
    "duration": 79,
    "start_time": "2022-12-01T11:20:25.248Z"
   },
   {
    "duration": 79,
    "start_time": "2022-12-01T11:20:38.488Z"
   },
   {
    "duration": 71,
    "start_time": "2022-12-01T11:20:42.808Z"
   },
   {
    "duration": 73,
    "start_time": "2022-12-01T11:20:49.200Z"
   },
   {
    "duration": 64,
    "start_time": "2022-12-01T11:21:22.853Z"
   },
   {
    "duration": 73,
    "start_time": "2022-12-01T11:21:54.699Z"
   },
   {
    "duration": 78,
    "start_time": "2022-12-01T11:22:07.410Z"
   },
   {
    "duration": 91,
    "start_time": "2022-12-01T11:22:15.226Z"
   },
   {
    "duration": 68,
    "start_time": "2022-12-01T11:22:26.924Z"
   },
   {
    "duration": 75,
    "start_time": "2022-12-01T11:22:31.542Z"
   },
   {
    "duration": 67,
    "start_time": "2022-12-01T11:22:34.579Z"
   },
   {
    "duration": 69,
    "start_time": "2022-12-01T11:22:39.194Z"
   },
   {
    "duration": 62,
    "start_time": "2022-12-01T11:22:45.436Z"
   },
   {
    "duration": 74,
    "start_time": "2022-12-01T11:22:55.271Z"
   },
   {
    "duration": 64,
    "start_time": "2022-12-01T11:23:18.114Z"
   },
   {
    "duration": 88,
    "start_time": "2022-12-01T11:23:49.259Z"
   },
   {
    "duration": 64,
    "start_time": "2022-12-01T11:23:52.283Z"
   },
   {
    "duration": 137,
    "start_time": "2022-12-01T11:29:27.025Z"
   },
   {
    "duration": 15,
    "start_time": "2022-12-01T11:36:59.846Z"
   },
   {
    "duration": 120005,
    "start_time": "2022-12-01T11:37:06.442Z"
   },
   {
    "duration": 13307,
    "start_time": "2022-12-01T11:46:10.652Z"
   },
   {
    "duration": 32134,
    "start_time": "2022-12-01T11:46:29.548Z"
   },
   {
    "duration": 66,
    "start_time": "2022-12-01T11:48:07.075Z"
   },
   {
    "duration": 26,
    "start_time": "2022-12-01T11:53:41.317Z"
   },
   {
    "duration": 27,
    "start_time": "2022-12-01T11:53:46.961Z"
   },
   {
    "duration": 27,
    "start_time": "2022-12-01T11:53:53.287Z"
   },
   {
    "duration": 4,
    "start_time": "2022-12-01T12:20:24.147Z"
   },
   {
    "duration": 4,
    "start_time": "2022-12-01T12:23:59.367Z"
   },
   {
    "duration": 48,
    "start_time": "2022-12-01T12:23:59.373Z"
   },
   {
    "duration": 5,
    "start_time": "2022-12-01T12:23:59.423Z"
   },
   {
    "duration": 16,
    "start_time": "2022-12-01T12:23:59.429Z"
   },
   {
    "duration": 5,
    "start_time": "2022-12-01T12:23:59.448Z"
   },
   {
    "duration": 71,
    "start_time": "2022-12-01T12:23:59.455Z"
   },
   {
    "duration": 146,
    "start_time": "2022-12-01T12:23:59.528Z"
   },
   {
    "duration": 31190,
    "start_time": "2022-12-01T12:23:59.676Z"
   },
   {
    "duration": 43,
    "start_time": "2022-12-01T12:24:30.868Z"
   },
   {
    "duration": 15,
    "start_time": "2022-12-01T12:34:45.840Z"
   },
   {
    "duration": 27,
    "start_time": "2022-12-01T12:34:59.513Z"
   },
   {
    "duration": 1567,
    "start_time": "2022-12-01T12:35:09.081Z"
   },
   {
    "duration": 1586,
    "start_time": "2022-12-01T12:43:45.140Z"
   },
   {
    "duration": 9121,
    "start_time": "2022-12-01T12:45:21.206Z"
   },
   {
    "duration": 1502,
    "start_time": "2022-12-01T12:47:09.559Z"
   },
   {
    "duration": 128,
    "start_time": "2022-12-01T12:48:52.168Z"
   },
   {
    "duration": 36,
    "start_time": "2022-12-01T12:51:13.908Z"
   },
   {
    "duration": 1507,
    "start_time": "2022-12-01T12:55:07.336Z"
   },
   {
    "duration": 876,
    "start_time": "2022-12-01T12:55:35.357Z"
   },
   {
    "duration": 8,
    "start_time": "2022-12-01T12:56:12.541Z"
   },
   {
    "duration": 3,
    "start_time": "2022-12-01T12:56:34.434Z"
   },
   {
    "duration": 1172,
    "start_time": "2022-12-01T12:56:38.413Z"
   },
   {
    "duration": 995,
    "start_time": "2022-12-01T12:57:03.285Z"
   },
   {
    "duration": 1000,
    "start_time": "2022-12-01T12:57:18.892Z"
   },
   {
    "duration": 14049,
    "start_time": "2022-12-01T13:02:15.414Z"
   },
   {
    "duration": 14546,
    "start_time": "2022-12-01T13:04:40.857Z"
   },
   {
    "duration": 442615,
    "start_time": "2022-12-01T13:04:59.577Z"
   },
   {
    "duration": 32975,
    "start_time": "2022-12-01T13:12:40.854Z"
   },
   {
    "duration": 72,
    "start_time": "2022-12-01T13:16:07.649Z"
   },
   {
    "duration": 66,
    "start_time": "2022-12-01T13:16:39.170Z"
   },
   {
    "duration": 52,
    "start_time": "2022-12-01T13:17:27.001Z"
   },
   {
    "duration": 155,
    "start_time": "2022-12-01T13:18:43.652Z"
   },
   {
    "duration": 73701,
    "start_time": "2022-12-01T13:19:18.840Z"
   },
   {
    "duration": 22859,
    "start_time": "2022-12-01T13:30:19.101Z"
   },
   {
    "duration": 9660,
    "start_time": "2022-12-01T13:31:22.627Z"
   },
   {
    "duration": 1,
    "start_time": "2022-12-01T13:32:07.381Z"
   },
   {
    "duration": 9830,
    "start_time": "2022-12-01T13:32:16.160Z"
   },
   {
    "duration": 70162,
    "start_time": "2022-12-01T13:32:54.996Z"
   },
   {
    "duration": 0,
    "start_time": "2022-12-01T13:34:05.160Z"
   },
   {
    "duration": 79,
    "start_time": "2022-12-01T13:59:43.078Z"
   },
   {
    "duration": 47,
    "start_time": "2022-12-01T13:59:50.014Z"
   },
   {
    "duration": 1664,
    "start_time": "2022-12-01T14:00:53.860Z"
   },
   {
    "duration": 96,
    "start_time": "2022-12-01T14:00:55.526Z"
   },
   {
    "duration": 5,
    "start_time": "2022-12-01T14:00:55.624Z"
   },
   {
    "duration": 14,
    "start_time": "2022-12-01T14:00:55.631Z"
   },
   {
    "duration": 6,
    "start_time": "2022-12-01T14:00:55.647Z"
   },
   {
    "duration": 1712,
    "start_time": "2022-12-01T14:00:55.654Z"
   },
   {
    "duration": 6204,
    "start_time": "2022-12-01T14:00:57.368Z"
   },
   {
    "duration": 75627,
    "start_time": "2022-12-01T14:01:03.575Z"
   },
   {
    "duration": 141,
    "start_time": "2022-12-01T14:02:19.205Z"
   },
   {
    "duration": 0,
    "start_time": "2022-12-01T14:02:19.351Z"
   },
   {
    "duration": 4304,
    "start_time": "2022-12-01T14:02:41.808Z"
   },
   {
    "duration": 53,
    "start_time": "2022-12-01T14:03:04.816Z"
   },
   {
    "duration": 80,
    "start_time": "2022-12-01T14:03:29.725Z"
   },
   {
    "duration": 54,
    "start_time": "2022-12-01T14:03:38.274Z"
   },
   {
    "duration": 1658,
    "start_time": "2022-12-02T12:11:59.681Z"
   },
   {
    "duration": 96,
    "start_time": "2022-12-02T12:12:01.341Z"
   },
   {
    "duration": 5,
    "start_time": "2022-12-02T12:12:01.439Z"
   },
   {
    "duration": 16,
    "start_time": "2022-12-02T12:12:01.446Z"
   },
   {
    "duration": 12,
    "start_time": "2022-12-02T12:12:01.464Z"
   },
   {
    "duration": 1709,
    "start_time": "2022-12-02T12:12:01.479Z"
   },
   {
    "duration": 5248,
    "start_time": "2022-12-02T12:12:03.191Z"
   },
   {
    "duration": 74478,
    "start_time": "2022-12-02T12:12:08.440Z"
   },
   {
    "duration": 52,
    "start_time": "2022-12-02T12:13:22.921Z"
   },
   {
    "duration": 12,
    "start_time": "2022-12-02T12:15:22.724Z"
   },
   {
    "duration": 116,
    "start_time": "2022-12-02T12:16:19.388Z"
   },
   {
    "duration": 9,
    "start_time": "2022-12-02T12:16:24.726Z"
   },
   {
    "duration": 26,
    "start_time": "2022-12-02T12:16:27.004Z"
   },
   {
    "duration": 3,
    "start_time": "2022-12-02T14:41:57.699Z"
   },
   {
    "duration": 51,
    "start_time": "2022-12-02T14:41:57.705Z"
   },
   {
    "duration": 13,
    "start_time": "2022-12-02T14:41:57.758Z"
   },
   {
    "duration": 39,
    "start_time": "2022-12-02T14:41:57.773Z"
   },
   {
    "duration": 4,
    "start_time": "2022-12-02T14:41:57.814Z"
   },
   {
    "duration": 22,
    "start_time": "2022-12-02T14:41:57.819Z"
   },
   {
    "duration": 11,
    "start_time": "2022-12-02T14:41:57.843Z"
   },
   {
    "duration": 1691,
    "start_time": "2022-12-02T14:41:57.855Z"
   },
   {
    "duration": 4,
    "start_time": "2022-12-02T14:42:11.020Z"
   },
   {
    "duration": 65,
    "start_time": "2022-12-02T14:42:11.026Z"
   },
   {
    "duration": 11,
    "start_time": "2022-12-02T14:42:11.093Z"
   },
   {
    "duration": 24,
    "start_time": "2022-12-02T14:42:11.106Z"
   },
   {
    "duration": 3,
    "start_time": "2022-12-02T14:42:11.132Z"
   },
   {
    "duration": 8,
    "start_time": "2022-12-02T14:42:11.137Z"
   },
   {
    "duration": 6,
    "start_time": "2022-12-02T14:42:11.146Z"
   },
   {
    "duration": 1583,
    "start_time": "2022-12-02T14:42:11.154Z"
   },
   {
    "duration": 4,
    "start_time": "2022-12-02T14:43:36.251Z"
   },
   {
    "duration": 63,
    "start_time": "2022-12-02T14:43:36.257Z"
   },
   {
    "duration": 12,
    "start_time": "2022-12-02T14:43:36.322Z"
   },
   {
    "duration": 83,
    "start_time": "2022-12-02T14:43:36.336Z"
   },
   {
    "duration": 10,
    "start_time": "2022-12-02T14:43:36.421Z"
   },
   {
    "duration": 26,
    "start_time": "2022-12-02T14:43:36.432Z"
   },
   {
    "duration": 41,
    "start_time": "2022-12-02T14:43:36.460Z"
   },
   {
    "duration": 1730,
    "start_time": "2022-12-02T14:43:36.503Z"
   },
   {
    "duration": 15,
    "start_time": "2022-12-02T14:47:00.008Z"
   },
   {
    "duration": 1037,
    "start_time": "2022-12-02T14:49:02.634Z"
   },
   {
    "duration": 1506,
    "start_time": "2022-12-05T09:06:53.538Z"
   },
   {
    "duration": 142,
    "start_time": "2022-12-05T09:06:55.046Z"
   },
   {
    "duration": 11,
    "start_time": "2022-12-05T09:06:55.189Z"
   },
   {
    "duration": 31,
    "start_time": "2022-12-05T09:06:55.201Z"
   },
   {
    "duration": 5,
    "start_time": "2022-12-05T09:06:57.915Z"
   },
   {
    "duration": 8,
    "start_time": "2022-12-05T09:07:15.092Z"
   },
   {
    "duration": 11,
    "start_time": "2022-12-05T09:22:42.744Z"
   },
   {
    "duration": 52,
    "start_time": "2022-12-05T09:23:28.258Z"
   },
   {
    "duration": 434,
    "start_time": "2022-12-05T09:23:48.043Z"
   },
   {
    "duration": 260,
    "start_time": "2022-12-05T09:23:55.947Z"
   },
   {
    "duration": 360,
    "start_time": "2022-12-05T09:24:07.686Z"
   },
   {
    "duration": 386,
    "start_time": "2022-12-05T09:24:43.996Z"
   },
   {
    "duration": 343,
    "start_time": "2022-12-05T09:24:49.745Z"
   },
   {
    "duration": 371,
    "start_time": "2022-12-05T09:26:05.758Z"
   },
   {
    "duration": 354,
    "start_time": "2022-12-05T09:26:22.942Z"
   },
   {
    "duration": 386,
    "start_time": "2022-12-05T09:26:27.774Z"
   },
   {
    "duration": 393,
    "start_time": "2022-12-05T09:26:33.022Z"
   },
   {
    "duration": 375,
    "start_time": "2022-12-05T09:26:39.414Z"
   },
   {
    "duration": 377,
    "start_time": "2022-12-05T09:26:43.502Z"
   },
   {
    "duration": 373,
    "start_time": "2022-12-05T09:26:51.119Z"
   },
   {
    "duration": 339,
    "start_time": "2022-12-05T09:27:07.734Z"
   },
   {
    "duration": 4,
    "start_time": "2022-12-05T09:55:41.644Z"
   },
   {
    "duration": 12,
    "start_time": "2022-12-05T09:55:44.772Z"
   },
   {
    "duration": 112,
    "start_time": "2022-12-05T10:01:53.570Z"
   },
   {
    "duration": 4,
    "start_time": "2022-12-05T10:04:40.809Z"
   },
   {
    "duration": 43,
    "start_time": "2022-12-05T10:04:40.815Z"
   },
   {
    "duration": 10,
    "start_time": "2022-12-05T10:04:40.860Z"
   },
   {
    "duration": 25,
    "start_time": "2022-12-05T10:04:40.872Z"
   },
   {
    "duration": 53,
    "start_time": "2022-12-05T10:04:40.899Z"
   },
   {
    "duration": 0,
    "start_time": "2022-12-05T10:04:40.953Z"
   },
   {
    "duration": 0,
    "start_time": "2022-12-05T10:04:40.955Z"
   },
   {
    "duration": 0,
    "start_time": "2022-12-05T10:04:40.956Z"
   },
   {
    "duration": 0,
    "start_time": "2022-12-05T10:04:40.957Z"
   },
   {
    "duration": 0,
    "start_time": "2022-12-05T10:04:40.959Z"
   },
   {
    "duration": 0,
    "start_time": "2022-12-05T10:04:40.960Z"
   },
   {
    "duration": 0,
    "start_time": "2022-12-05T10:04:40.961Z"
   },
   {
    "duration": 0,
    "start_time": "2022-12-05T10:04:40.962Z"
   },
   {
    "duration": 0,
    "start_time": "2022-12-05T10:04:40.963Z"
   },
   {
    "duration": 0,
    "start_time": "2022-12-05T10:04:40.965Z"
   },
   {
    "duration": 0,
    "start_time": "2022-12-05T10:04:40.966Z"
   },
   {
    "duration": 4,
    "start_time": "2022-12-05T10:04:51.385Z"
   },
   {
    "duration": 56,
    "start_time": "2022-12-05T10:04:51.391Z"
   },
   {
    "duration": 9,
    "start_time": "2022-12-05T10:04:51.449Z"
   },
   {
    "duration": 25,
    "start_time": "2022-12-05T10:04:51.460Z"
   },
   {
    "duration": 106,
    "start_time": "2022-12-05T10:04:51.487Z"
   },
   {
    "duration": 0,
    "start_time": "2022-12-05T10:04:51.595Z"
   },
   {
    "duration": 0,
    "start_time": "2022-12-05T10:04:51.597Z"
   },
   {
    "duration": 0,
    "start_time": "2022-12-05T10:04:51.598Z"
   },
   {
    "duration": 0,
    "start_time": "2022-12-05T10:04:51.599Z"
   },
   {
    "duration": 0,
    "start_time": "2022-12-05T10:04:51.601Z"
   },
   {
    "duration": 4,
    "start_time": "2022-12-05T10:05:08.065Z"
   },
   {
    "duration": 52,
    "start_time": "2022-12-05T10:05:08.071Z"
   },
   {
    "duration": 11,
    "start_time": "2022-12-05T10:05:08.125Z"
   },
   {
    "duration": 39,
    "start_time": "2022-12-05T10:05:08.139Z"
   },
   {
    "duration": 7,
    "start_time": "2022-12-05T10:05:08.180Z"
   },
   {
    "duration": 16,
    "start_time": "2022-12-05T10:05:08.188Z"
   },
   {
    "duration": 403,
    "start_time": "2022-12-05T10:05:08.205Z"
   },
   {
    "duration": 6,
    "start_time": "2022-12-05T10:05:08.610Z"
   },
   {
    "duration": 15,
    "start_time": "2022-12-05T10:05:08.618Z"
   },
   {
    "duration": 14,
    "start_time": "2022-12-05T10:05:08.635Z"
   },
   {
    "duration": 4,
    "start_time": "2022-12-05T10:05:36.727Z"
   },
   {
    "duration": 12,
    "start_time": "2022-12-05T10:06:03.198Z"
   },
   {
    "duration": 7,
    "start_time": "2022-12-05T10:06:05.423Z"
   },
   {
    "duration": 1234,
    "start_time": "2022-12-05T10:06:07.519Z"
   },
   {
    "duration": 4,
    "start_time": "2022-12-05T10:06:22.087Z"
   },
   {
    "duration": 4,
    "start_time": "2022-12-05T10:06:43.687Z"
   },
   {
    "duration": 3,
    "start_time": "2022-12-05T10:07:12.720Z"
   },
   {
    "duration": 4,
    "start_time": "2022-12-05T10:07:34.143Z"
   },
   {
    "duration": 22,
    "start_time": "2022-12-05T10:07:52.904Z"
   },
   {
    "duration": 12,
    "start_time": "2022-12-05T10:08:58.697Z"
   },
   {
    "duration": 6,
    "start_time": "2022-12-05T10:09:06.146Z"
   },
   {
    "duration": 16,
    "start_time": "2022-12-05T10:09:25.682Z"
   },
   {
    "duration": 6,
    "start_time": "2022-12-05T10:09:30.834Z"
   },
   {
    "duration": 28,
    "start_time": "2022-12-05T10:09:52.035Z"
   },
   {
    "duration": 7,
    "start_time": "2022-12-05T10:10:34.387Z"
   },
   {
    "duration": 7,
    "start_time": "2022-12-05T10:11:11.867Z"
   },
   {
    "duration": 8,
    "start_time": "2022-12-05T10:11:26.612Z"
   },
   {
    "duration": 4,
    "start_time": "2022-12-05T10:13:25.127Z"
   },
   {
    "duration": 4,
    "start_time": "2022-12-05T10:14:02.800Z"
   },
   {
    "duration": 673,
    "start_time": "2022-12-05T10:14:07.576Z"
   },
   {
    "duration": 4,
    "start_time": "2022-12-05T10:14:26.040Z"
   },
   {
    "duration": 59,
    "start_time": "2022-12-05T10:15:11.594Z"
   },
   {
    "duration": 69,
    "start_time": "2022-12-05T10:15:18.986Z"
   },
   {
    "duration": 3,
    "start_time": "2022-12-05T10:15:26.550Z"
   },
   {
    "duration": 4,
    "start_time": "2022-12-05T10:16:45.652Z"
   },
   {
    "duration": 7,
    "start_time": "2022-12-05T10:17:00.318Z"
   },
   {
    "duration": 3,
    "start_time": "2022-12-05T10:17:24.057Z"
   },
   {
    "duration": 54,
    "start_time": "2022-12-05T10:18:07.296Z"
   },
   {
    "duration": 4,
    "start_time": "2022-12-05T10:18:17.855Z"
   },
   {
    "duration": 8,
    "start_time": "2022-12-05T10:18:32.472Z"
   },
   {
    "duration": 6,
    "start_time": "2022-12-05T10:18:44.713Z"
   },
   {
    "duration": 4,
    "start_time": "2022-12-05T10:19:00.402Z"
   },
   {
    "duration": 8,
    "start_time": "2022-12-05T10:19:21.498Z"
   },
   {
    "duration": 6,
    "start_time": "2022-12-05T10:19:48.608Z"
   },
   {
    "duration": 8,
    "start_time": "2022-12-05T10:19:49.354Z"
   },
   {
    "duration": 5,
    "start_time": "2022-12-05T10:24:41.929Z"
   },
   {
    "duration": 5,
    "start_time": "2022-12-05T10:24:50.112Z"
   },
   {
    "duration": 1391,
    "start_time": "2022-12-05T10:31:05.145Z"
   },
   {
    "duration": 1164,
    "start_time": "2022-12-05T10:32:21.648Z"
   },
   {
    "duration": 55684,
    "start_time": "2022-12-05T10:36:53.335Z"
   },
   {
    "duration": 4,
    "start_time": "2022-12-05T10:43:06.946Z"
   },
   {
    "duration": 4,
    "start_time": "2022-12-05T10:44:50.743Z"
   },
   {
    "duration": 3,
    "start_time": "2022-12-05T10:45:46.228Z"
   },
   {
    "duration": 3,
    "start_time": "2022-12-05T10:46:15.971Z"
   },
   {
    "duration": 2,
    "start_time": "2022-12-05T10:46:41.705Z"
   },
   {
    "duration": 7,
    "start_time": "2022-12-05T10:47:59.940Z"
   },
   {
    "duration": 72,
    "start_time": "2022-12-05T10:50:19.996Z"
   },
   {
    "duration": 87527,
    "start_time": "2022-12-05T10:50:36.160Z"
   },
   {
    "duration": 5,
    "start_time": "2022-12-05T10:52:32.639Z"
   },
   {
    "duration": 5,
    "start_time": "2022-12-05T10:52:38.167Z"
   },
   {
    "duration": 17,
    "start_time": "2022-12-05T10:54:32.234Z"
   },
   {
    "duration": 24,
    "start_time": "2022-12-05T10:54:44.042Z"
   },
   {
    "duration": 5,
    "start_time": "2022-12-05T10:55:19.404Z"
   },
   {
    "duration": 18,
    "start_time": "2022-12-05T10:56:09.043Z"
   },
   {
    "duration": 1328,
    "start_time": "2022-12-05T11:02:01.005Z"
   },
   {
    "duration": 54306,
    "start_time": "2022-12-05T11:02:24.676Z"
   },
   {
    "duration": 10,
    "start_time": "2022-12-05T14:00:53.145Z"
   },
   {
    "duration": 12,
    "start_time": "2022-12-05T14:01:01.121Z"
   },
   {
    "duration": 10,
    "start_time": "2022-12-05T14:01:27.138Z"
   },
   {
    "duration": 3,
    "start_time": "2022-12-05T14:01:36.659Z"
   },
   {
    "duration": 11,
    "start_time": "2022-12-05T14:04:25.397Z"
   },
   {
    "duration": 4,
    "start_time": "2022-12-05T14:05:00.469Z"
   },
   {
    "duration": 4,
    "start_time": "2022-12-05T14:05:17.022Z"
   },
   {
    "duration": 13,
    "start_time": "2022-12-05T14:09:08.265Z"
   },
   {
    "duration": 75,
    "start_time": "2022-12-05T14:10:29.307Z"
   },
   {
    "duration": 28,
    "start_time": "2022-12-05T14:12:24.102Z"
   },
   {
    "duration": 32,
    "start_time": "2022-12-05T14:13:04.294Z"
   },
   {
    "duration": 4,
    "start_time": "2022-12-05T14:33:19.225Z"
   },
   {
    "duration": 4,
    "start_time": "2022-12-05T14:33:36.451Z"
   },
   {
    "duration": 6,
    "start_time": "2022-12-05T14:37:04.518Z"
   },
   {
    "duration": 8,
    "start_time": "2022-12-05T14:44:58.318Z"
   },
   {
    "duration": 94,
    "start_time": "2022-12-05T14:46:06.486Z"
   },
   {
    "duration": 13,
    "start_time": "2022-12-05T14:46:28.184Z"
   },
   {
    "duration": 29,
    "start_time": "2022-12-05T14:46:40.847Z"
   },
   {
    "duration": 6,
    "start_time": "2022-12-05T14:48:26.568Z"
   },
   {
    "duration": 6,
    "start_time": "2022-12-05T14:50:12.884Z"
   },
   {
    "duration": 6,
    "start_time": "2022-12-05T14:50:26.596Z"
   },
   {
    "duration": 6,
    "start_time": "2022-12-05T14:50:36.637Z"
   },
   {
    "duration": 6,
    "start_time": "2022-12-05T14:50:45.196Z"
   },
   {
    "duration": 7,
    "start_time": "2022-12-05T14:50:50.515Z"
   },
   {
    "duration": 6,
    "start_time": "2022-12-05T14:50:53.316Z"
   },
   {
    "duration": 7,
    "start_time": "2022-12-05T14:50:58.348Z"
   },
   {
    "duration": 7,
    "start_time": "2022-12-05T14:51:38.462Z"
   },
   {
    "duration": 7,
    "start_time": "2022-12-05T14:51:54.140Z"
   },
   {
    "duration": 44,
    "start_time": "2022-12-05T14:52:01.878Z"
   },
   {
    "duration": 6,
    "start_time": "2022-12-05T14:52:11.349Z"
   },
   {
    "duration": 6,
    "start_time": "2022-12-05T14:52:16.173Z"
   },
   {
    "duration": 6,
    "start_time": "2022-12-05T14:52:21.717Z"
   },
   {
    "duration": 6,
    "start_time": "2022-12-05T14:52:31.757Z"
   },
   {
    "duration": 7,
    "start_time": "2022-12-05T14:52:37.853Z"
   },
   {
    "duration": 7,
    "start_time": "2022-12-05T14:53:04.495Z"
   },
   {
    "duration": 11,
    "start_time": "2022-12-05T14:54:20.903Z"
   },
   {
    "duration": 5,
    "start_time": "2022-12-05T14:54:28.488Z"
   },
   {
    "duration": 5,
    "start_time": "2022-12-05T14:55:12.304Z"
   },
   {
    "duration": 4,
    "start_time": "2022-12-05T14:55:16.320Z"
   },
   {
    "duration": 10,
    "start_time": "2022-12-05T14:56:39.842Z"
   },
   {
    "duration": 9,
    "start_time": "2022-12-05T14:56:55.890Z"
   },
   {
    "duration": 16,
    "start_time": "2022-12-05T14:57:03.818Z"
   },
   {
    "duration": 4,
    "start_time": "2022-12-05T14:57:16.346Z"
   },
   {
    "duration": 6,
    "start_time": "2022-12-05T14:57:18.541Z"
   },
   {
    "duration": 4,
    "start_time": "2022-12-05T14:57:47.954Z"
   },
   {
    "duration": 5,
    "start_time": "2022-12-05T14:57:50.757Z"
   },
   {
    "duration": 4,
    "start_time": "2022-12-05T14:57:58.731Z"
   },
   {
    "duration": 5,
    "start_time": "2022-12-05T14:57:59.452Z"
   },
   {
    "duration": 5,
    "start_time": "2022-12-05T14:58:05.720Z"
   },
   {
    "duration": 5,
    "start_time": "2022-12-05T14:58:09.516Z"
   },
   {
    "duration": 5,
    "start_time": "2022-12-05T14:58:34.620Z"
   },
   {
    "duration": 8,
    "start_time": "2022-12-05T14:59:10.733Z"
   },
   {
    "duration": 6,
    "start_time": "2022-12-05T15:00:19.429Z"
   },
   {
    "duration": 6,
    "start_time": "2022-12-05T15:00:55.477Z"
   },
   {
    "duration": 4,
    "start_time": "2022-12-05T15:07:38.285Z"
   },
   {
    "duration": 40,
    "start_time": "2022-12-05T15:07:38.293Z"
   },
   {
    "duration": 10,
    "start_time": "2022-12-05T15:07:38.335Z"
   },
   {
    "duration": 23,
    "start_time": "2022-12-05T15:07:38.346Z"
   },
   {
    "duration": 4,
    "start_time": "2022-12-05T15:07:38.371Z"
   },
   {
    "duration": 11,
    "start_time": "2022-12-05T15:07:38.377Z"
   },
   {
    "duration": 390,
    "start_time": "2022-12-05T15:07:38.389Z"
   },
   {
    "duration": 5,
    "start_time": "2022-12-05T15:07:38.780Z"
   },
   {
    "duration": 9,
    "start_time": "2022-12-05T15:07:38.786Z"
   },
   {
    "duration": 7,
    "start_time": "2022-12-05T15:07:38.797Z"
   },
   {
    "duration": 6,
    "start_time": "2022-12-05T15:07:38.815Z"
   },
   {
    "duration": 7,
    "start_time": "2022-12-05T15:07:38.822Z"
   },
   {
    "duration": 12,
    "start_time": "2022-12-05T15:07:38.831Z"
   },
   {
    "duration": 14,
    "start_time": "2022-12-05T15:07:38.845Z"
   },
   {
    "duration": 10,
    "start_time": "2022-12-05T15:07:38.862Z"
   },
   {
    "duration": 12,
    "start_time": "2022-12-05T15:07:38.873Z"
   },
   {
    "duration": 1672,
    "start_time": "2022-12-05T15:07:38.887Z"
   },
   {
    "duration": 1068,
    "start_time": "2022-12-05T15:07:40.560Z"
   },
   {
    "duration": 52425,
    "start_time": "2022-12-05T15:07:41.630Z"
   },
   {
    "duration": 3,
    "start_time": "2022-12-05T15:08:34.057Z"
   },
   {
    "duration": 19,
    "start_time": "2022-12-05T15:08:34.062Z"
   },
   {
    "duration": 80786,
    "start_time": "2022-12-05T15:08:34.082Z"
   },
   {
    "duration": 5,
    "start_time": "2022-12-05T15:09:54.869Z"
   },
   {
    "duration": 15,
    "start_time": "2022-12-05T15:09:54.875Z"
   },
   {
    "duration": 28,
    "start_time": "2022-12-05T15:09:54.891Z"
   },
   {
    "duration": 41,
    "start_time": "2022-12-05T15:09:54.921Z"
   },
   {
    "duration": 4,
    "start_time": "2022-12-05T15:09:54.963Z"
   },
   {
    "duration": 23,
    "start_time": "2022-12-05T15:09:54.968Z"
   },
   {
    "duration": 18,
    "start_time": "2022-12-05T15:09:54.994Z"
   },
   {
    "duration": 33,
    "start_time": "2022-12-05T15:09:55.013Z"
   },
   {
    "duration": 79,
    "start_time": "2022-12-05T15:09:55.048Z"
   },
   {
    "duration": 28,
    "start_time": "2022-12-05T15:09:55.129Z"
   },
   {
    "duration": 5,
    "start_time": "2022-12-05T15:09:55.159Z"
   },
   {
    "duration": 25,
    "start_time": "2022-12-05T15:09:55.166Z"
   },
   {
    "duration": 22,
    "start_time": "2022-12-05T15:09:55.193Z"
   },
   {
    "duration": 1699,
    "start_time": "2023-08-03T10:11:10.402Z"
   },
   {
    "duration": 127,
    "start_time": "2023-08-03T10:16:58.099Z"
   },
   {
    "duration": 3,
    "start_time": "2023-08-03T10:17:57.574Z"
   },
   {
    "duration": 136,
    "start_time": "2023-08-03T10:18:00.677Z"
   }
  ],
  "kernelspec": {
   "display_name": "Python 3",
   "language": "python",
   "name": "python3"
  },
  "language_info": {
   "codemirror_mode": {
    "name": "ipython",
    "version": 3
   },
   "file_extension": ".py",
   "mimetype": "text/x-python",
   "name": "python",
   "nbconvert_exporter": "python",
   "pygments_lexer": "ipython3",
   "version": "3.8.8"
  },
  "toc": {
   "base_numbering": 1,
   "nav_menu": {},
   "number_sections": true,
   "sideBar": true,
   "skip_h1_title": true,
   "title_cell": "Table of Contents",
   "title_sidebar": "Contents",
   "toc_cell": false,
   "toc_position": {
    "height": "calc(100% - 180px)",
    "left": "10px",
    "top": "150px",
    "width": "366.2px"
   },
   "toc_section_display": true,
   "toc_window_display": true
  }
 },
 "nbformat": 4,
 "nbformat_minor": 2
}
