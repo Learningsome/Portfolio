{
 "cells": [
  {
   "cell_type": "markdown",
   "id": "4d3fb904",
   "metadata": {
    "toc": true
   },
   "source": [
    "<h1>Содержание<span class=\"tocSkip\"></span></h1>\n",
    "<div class=\"toc\"><ul class=\"toc-item\"><li><span><a href=\"#Загрузка-данных\" data-toc-modified-id=\"Загрузка-данных-1\"><span class=\"toc-item-num\">1&nbsp;&nbsp;</span>Загрузка данных</a></span></li><li><span><a href=\"#Умножение-матриц\" data-toc-modified-id=\"Умножение-матриц-2\"><span class=\"toc-item-num\">2&nbsp;&nbsp;</span>Умножение матриц</a></span></li><li><span><a href=\"#Алгоритм-преобразования\" data-toc-modified-id=\"Алгоритм-преобразования-3\"><span class=\"toc-item-num\">3&nbsp;&nbsp;</span>Алгоритм преобразования</a></span></li><li><span><a href=\"#Проверка-алгоритма\" data-toc-modified-id=\"Проверка-алгоритма-4\"><span class=\"toc-item-num\">4&nbsp;&nbsp;</span>Проверка алгоритма</a></span></li><li><span><a href=\"#Общий-вывод\" data-toc-modified-id=\"Общий-вывод-5\"><span class=\"toc-item-num\">5&nbsp;&nbsp;</span>Общий вывод</a></span></li></ul></div>"
   ]
  },
  {
   "cell_type": "markdown",
   "id": "56cbd52a",
   "metadata": {},
   "source": [
    "# Защита персональных данных клиентов"
   ]
  },
  {
   "cell_type": "markdown",
   "id": "c7974c12",
   "metadata": {},
   "source": [
    "**Описание проекта**\n",
    "\n",
    "\n",
    "Нужно защитить данные клиентов страховой компании. Разработаем такой метод преобразования данных, чтобы по ним было сложно восстановить персональную информацию. Обоснуем корректность его работы.\n",
    "\n",
    "Защититим данные так, чтобы при преобразовании качество моделей машинного обучения не ухудшилось."
   ]
  },
  {
   "cell_type": "markdown",
   "id": "2eb02353",
   "metadata": {},
   "source": [
    "**Описание данных**\n",
    "\n",
    "\n",
    "Набор данных находится в файле insurance.csv.\n",
    "\n",
    "*Признаки*:\n",
    "\n",
    "- *Пол* — пол застрахованного клиента\n",
    "- *Возраст* — его возраст\n",
    "- *Зарплата* — его зарплата\n",
    "- *Члены семьи* — количество членов его семьи\n",
    "\n",
    "\n",
    "*Целевой признак*:\n",
    "\n",
    "- *Страховые выплаты* — количество страховых выплат клиенту за последние 5 лет"
   ]
  },
  {
   "cell_type": "markdown",
   "id": "432b7d56",
   "metadata": {},
   "source": [
    "## Загрузка данных"
   ]
  },
  {
   "cell_type": "markdown",
   "id": "b66911f3",
   "metadata": {},
   "source": [
    "Для начала импортируем библиотеки"
   ]
  },
  {
   "cell_type": "code",
   "execution_count": 1,
   "id": "949d84e1",
   "metadata": {},
   "outputs": [],
   "source": [
    "# импорты из стандартной библиотеки\n",
    "import warnings\n",
    "\n",
    "# импорты сторонних библиотек\n",
    "import pandas as pd\n",
    "import numpy as np\n",
    "import matplotlib.pyplot as plt\n",
    "import seaborn as sns\n",
    "\n",
    "# импорты модулей текущего проекта\n",
    "from sklearn.model_selection import train_test_split\n",
    "from sklearn.linear_model import LinearRegression\n",
    "from sklearn.preprocessing import StandardScaler\n",
    "from sklearn.metrics import r2_score\n",
    "\n",
    "# настройки\n",
    "warnings.filterwarnings(\"ignore\")\n",
    "\n",
    "# константы\n",
    "RANDOM_STATE = 12345"
   ]
  },
  {
   "cell_type": "markdown",
   "id": "8b67ea37",
   "metadata": {},
   "source": [
    "Загрузим данные и изучим их"
   ]
  },
  {
   "cell_type": "code",
   "execution_count": 2,
   "id": "21d19bda",
   "metadata": {},
   "outputs": [],
   "source": [
    "try:\n",
    "    insurance_data = pd.read_csv('insurance.csv')\n",
    "except:\n",
    "    insurance_data = pd.read_csv('/datasets/insurance.csv')"
   ]
  },
  {
   "cell_type": "code",
   "execution_count": 3,
   "id": "e5ea233e",
   "metadata": {},
   "outputs": [
    {
     "data": {
      "text/html": [
       "<div>\n",
       "<style scoped>\n",
       "    .dataframe tbody tr th:only-of-type {\n",
       "        vertical-align: middle;\n",
       "    }\n",
       "\n",
       "    .dataframe tbody tr th {\n",
       "        vertical-align: top;\n",
       "    }\n",
       "\n",
       "    .dataframe thead th {\n",
       "        text-align: right;\n",
       "    }\n",
       "</style>\n",
       "<table border=\"1\" class=\"dataframe\">\n",
       "  <thead>\n",
       "    <tr style=\"text-align: right;\">\n",
       "      <th></th>\n",
       "      <th>Пол</th>\n",
       "      <th>Возраст</th>\n",
       "      <th>Зарплата</th>\n",
       "      <th>Члены семьи</th>\n",
       "      <th>Страховые выплаты</th>\n",
       "    </tr>\n",
       "  </thead>\n",
       "  <tbody>\n",
       "    <tr>\n",
       "      <th>0</th>\n",
       "      <td>1</td>\n",
       "      <td>41.0</td>\n",
       "      <td>49600.0</td>\n",
       "      <td>1</td>\n",
       "      <td>0</td>\n",
       "    </tr>\n",
       "    <tr>\n",
       "      <th>1</th>\n",
       "      <td>0</td>\n",
       "      <td>46.0</td>\n",
       "      <td>38000.0</td>\n",
       "      <td>1</td>\n",
       "      <td>1</td>\n",
       "    </tr>\n",
       "    <tr>\n",
       "      <th>2</th>\n",
       "      <td>0</td>\n",
       "      <td>29.0</td>\n",
       "      <td>21000.0</td>\n",
       "      <td>0</td>\n",
       "      <td>0</td>\n",
       "    </tr>\n",
       "    <tr>\n",
       "      <th>3</th>\n",
       "      <td>0</td>\n",
       "      <td>21.0</td>\n",
       "      <td>41700.0</td>\n",
       "      <td>2</td>\n",
       "      <td>0</td>\n",
       "    </tr>\n",
       "    <tr>\n",
       "      <th>4</th>\n",
       "      <td>1</td>\n",
       "      <td>28.0</td>\n",
       "      <td>26100.0</td>\n",
       "      <td>0</td>\n",
       "      <td>0</td>\n",
       "    </tr>\n",
       "    <tr>\n",
       "      <th>...</th>\n",
       "      <td>...</td>\n",
       "      <td>...</td>\n",
       "      <td>...</td>\n",
       "      <td>...</td>\n",
       "      <td>...</td>\n",
       "    </tr>\n",
       "    <tr>\n",
       "      <th>4995</th>\n",
       "      <td>0</td>\n",
       "      <td>28.0</td>\n",
       "      <td>35700.0</td>\n",
       "      <td>2</td>\n",
       "      <td>0</td>\n",
       "    </tr>\n",
       "    <tr>\n",
       "      <th>4996</th>\n",
       "      <td>0</td>\n",
       "      <td>34.0</td>\n",
       "      <td>52400.0</td>\n",
       "      <td>1</td>\n",
       "      <td>0</td>\n",
       "    </tr>\n",
       "    <tr>\n",
       "      <th>4997</th>\n",
       "      <td>0</td>\n",
       "      <td>20.0</td>\n",
       "      <td>33900.0</td>\n",
       "      <td>2</td>\n",
       "      <td>0</td>\n",
       "    </tr>\n",
       "    <tr>\n",
       "      <th>4998</th>\n",
       "      <td>1</td>\n",
       "      <td>22.0</td>\n",
       "      <td>32700.0</td>\n",
       "      <td>3</td>\n",
       "      <td>0</td>\n",
       "    </tr>\n",
       "    <tr>\n",
       "      <th>4999</th>\n",
       "      <td>1</td>\n",
       "      <td>28.0</td>\n",
       "      <td>40600.0</td>\n",
       "      <td>1</td>\n",
       "      <td>0</td>\n",
       "    </tr>\n",
       "  </tbody>\n",
       "</table>\n",
       "<p>5000 rows × 5 columns</p>\n",
       "</div>"
      ],
      "text/plain": [
       "      Пол  Возраст  Зарплата  Члены семьи  Страховые выплаты\n",
       "0       1     41.0   49600.0            1                  0\n",
       "1       0     46.0   38000.0            1                  1\n",
       "2       0     29.0   21000.0            0                  0\n",
       "3       0     21.0   41700.0            2                  0\n",
       "4       1     28.0   26100.0            0                  0\n",
       "...   ...      ...       ...          ...                ...\n",
       "4995    0     28.0   35700.0            2                  0\n",
       "4996    0     34.0   52400.0            1                  0\n",
       "4997    0     20.0   33900.0            2                  0\n",
       "4998    1     22.0   32700.0            3                  0\n",
       "4999    1     28.0   40600.0            1                  0\n",
       "\n",
       "[5000 rows x 5 columns]"
      ]
     },
     "execution_count": 3,
     "metadata": {},
     "output_type": "execute_result"
    }
   ],
   "source": [
    "insurance_data"
   ]
  },
  {
   "cell_type": "code",
   "execution_count": 4,
   "id": "3df1c85c",
   "metadata": {},
   "outputs": [
    {
     "name": "stdout",
     "output_type": "stream",
     "text": [
      "<class 'pandas.core.frame.DataFrame'>\n",
      "RangeIndex: 5000 entries, 0 to 4999\n",
      "Data columns (total 5 columns):\n",
      " #   Column             Non-Null Count  Dtype  \n",
      "---  ------             --------------  -----  \n",
      " 0   Пол                5000 non-null   int64  \n",
      " 1   Возраст            5000 non-null   float64\n",
      " 2   Зарплата           5000 non-null   float64\n",
      " 3   Члены семьи        5000 non-null   int64  \n",
      " 4   Страховые выплаты  5000 non-null   int64  \n",
      "dtypes: float64(2), int64(3)\n",
      "memory usage: 195.4 KB\n"
     ]
    }
   ],
   "source": [
    "insurance_data.info()"
   ]
  },
  {
   "cell_type": "markdown",
   "id": "4c982979",
   "metadata": {},
   "source": [
    "На первый взгляд проблем *немного*:\n",
    "\n",
    "1. Переименовать названия столбцов в *snake_case*\n",
    "2. Признаки \"Возраст\" и \"Зарплата\" могут быть переведены в тип данных *int*"
   ]
  },
  {
   "cell_type": "code",
   "execution_count": 5,
   "id": "630411aa",
   "metadata": {},
   "outputs": [],
   "source": [
    "insurance_data.columns = ['gender', 'age', 'salary', 'family_members', 'insurance_payments']"
   ]
  },
  {
   "cell_type": "code",
   "execution_count": 6,
   "id": "17af30d3",
   "metadata": {},
   "outputs": [
    {
     "data": {
      "text/plain": [
       "Index(['gender', 'age', 'salary', 'family_members', 'insurance_payments'], dtype='object')"
      ]
     },
     "execution_count": 6,
     "metadata": {},
     "output_type": "execute_result"
    }
   ],
   "source": [
    "# отлично\n",
    "insurance_data.columns"
   ]
  },
  {
   "cell_type": "markdown",
   "id": "9f8f8d37",
   "metadata": {},
   "source": [
    "Теперь приведем признаки age и salary к типу данных int"
   ]
  },
  {
   "cell_type": "code",
   "execution_count": 7,
   "id": "a5bcd87b",
   "metadata": {},
   "outputs": [],
   "source": [
    "insurance_data['age'] = insurance_data['age'].astype('int')\n",
    "insurance_data['salary'] = insurance_data['salary'].astype('int')"
   ]
  },
  {
   "cell_type": "code",
   "execution_count": 8,
   "id": "92fefff2",
   "metadata": {},
   "outputs": [
    {
     "data": {
      "text/html": [
       "<div>\n",
       "<style scoped>\n",
       "    .dataframe tbody tr th:only-of-type {\n",
       "        vertical-align: middle;\n",
       "    }\n",
       "\n",
       "    .dataframe tbody tr th {\n",
       "        vertical-align: top;\n",
       "    }\n",
       "\n",
       "    .dataframe thead th {\n",
       "        text-align: right;\n",
       "    }\n",
       "</style>\n",
       "<table border=\"1\" class=\"dataframe\">\n",
       "  <thead>\n",
       "    <tr style=\"text-align: right;\">\n",
       "      <th></th>\n",
       "      <th>gender</th>\n",
       "      <th>age</th>\n",
       "      <th>salary</th>\n",
       "      <th>family_members</th>\n",
       "      <th>insurance_payments</th>\n",
       "    </tr>\n",
       "  </thead>\n",
       "  <tbody>\n",
       "    <tr>\n",
       "      <th>0</th>\n",
       "      <td>1</td>\n",
       "      <td>41</td>\n",
       "      <td>49600</td>\n",
       "      <td>1</td>\n",
       "      <td>0</td>\n",
       "    </tr>\n",
       "    <tr>\n",
       "      <th>1</th>\n",
       "      <td>0</td>\n",
       "      <td>46</td>\n",
       "      <td>38000</td>\n",
       "      <td>1</td>\n",
       "      <td>1</td>\n",
       "    </tr>\n",
       "    <tr>\n",
       "      <th>2</th>\n",
       "      <td>0</td>\n",
       "      <td>29</td>\n",
       "      <td>21000</td>\n",
       "      <td>0</td>\n",
       "      <td>0</td>\n",
       "    </tr>\n",
       "    <tr>\n",
       "      <th>3</th>\n",
       "      <td>0</td>\n",
       "      <td>21</td>\n",
       "      <td>41700</td>\n",
       "      <td>2</td>\n",
       "      <td>0</td>\n",
       "    </tr>\n",
       "    <tr>\n",
       "      <th>4</th>\n",
       "      <td>1</td>\n",
       "      <td>28</td>\n",
       "      <td>26100</td>\n",
       "      <td>0</td>\n",
       "      <td>0</td>\n",
       "    </tr>\n",
       "  </tbody>\n",
       "</table>\n",
       "</div>"
      ],
      "text/plain": [
       "   gender  age  salary  family_members  insurance_payments\n",
       "0       1   41   49600               1                   0\n",
       "1       0   46   38000               1                   1\n",
       "2       0   29   21000               0                   0\n",
       "3       0   21   41700               2                   0\n",
       "4       1   28   26100               0                   0"
      ]
     },
     "execution_count": 8,
     "metadata": {},
     "output_type": "execute_result"
    }
   ],
   "source": [
    "# отлично\n",
    "insurance_data.head()"
   ]
  },
  {
   "cell_type": "markdown",
   "id": "51355a74",
   "metadata": {},
   "source": [
    "Посмотрим есть ли подозрительные вещи (выбросы)"
   ]
  },
  {
   "cell_type": "code",
   "execution_count": 9,
   "id": "84aa939e",
   "metadata": {},
   "outputs": [
    {
     "data": {
      "text/html": [
       "<div>\n",
       "<style scoped>\n",
       "    .dataframe tbody tr th:only-of-type {\n",
       "        vertical-align: middle;\n",
       "    }\n",
       "\n",
       "    .dataframe tbody tr th {\n",
       "        vertical-align: top;\n",
       "    }\n",
       "\n",
       "    .dataframe thead th {\n",
       "        text-align: right;\n",
       "    }\n",
       "</style>\n",
       "<table border=\"1\" class=\"dataframe\">\n",
       "  <thead>\n",
       "    <tr style=\"text-align: right;\">\n",
       "      <th></th>\n",
       "      <th>gender</th>\n",
       "      <th>age</th>\n",
       "      <th>salary</th>\n",
       "      <th>family_members</th>\n",
       "      <th>insurance_payments</th>\n",
       "    </tr>\n",
       "  </thead>\n",
       "  <tbody>\n",
       "    <tr>\n",
       "      <th>count</th>\n",
       "      <td>5000.000000</td>\n",
       "      <td>5000.000000</td>\n",
       "      <td>5000.000000</td>\n",
       "      <td>5000.000000</td>\n",
       "      <td>5000.000000</td>\n",
       "    </tr>\n",
       "    <tr>\n",
       "      <th>mean</th>\n",
       "      <td>0.499000</td>\n",
       "      <td>30.952800</td>\n",
       "      <td>39916.359400</td>\n",
       "      <td>1.194200</td>\n",
       "      <td>0.148000</td>\n",
       "    </tr>\n",
       "    <tr>\n",
       "      <th>std</th>\n",
       "      <td>0.500049</td>\n",
       "      <td>8.440807</td>\n",
       "      <td>9900.082063</td>\n",
       "      <td>1.091387</td>\n",
       "      <td>0.463183</td>\n",
       "    </tr>\n",
       "    <tr>\n",
       "      <th>min</th>\n",
       "      <td>0.000000</td>\n",
       "      <td>18.000000</td>\n",
       "      <td>5300.000000</td>\n",
       "      <td>0.000000</td>\n",
       "      <td>0.000000</td>\n",
       "    </tr>\n",
       "    <tr>\n",
       "      <th>25%</th>\n",
       "      <td>0.000000</td>\n",
       "      <td>24.000000</td>\n",
       "      <td>33300.000000</td>\n",
       "      <td>0.000000</td>\n",
       "      <td>0.000000</td>\n",
       "    </tr>\n",
       "    <tr>\n",
       "      <th>50%</th>\n",
       "      <td>0.000000</td>\n",
       "      <td>30.000000</td>\n",
       "      <td>40200.000000</td>\n",
       "      <td>1.000000</td>\n",
       "      <td>0.000000</td>\n",
       "    </tr>\n",
       "    <tr>\n",
       "      <th>75%</th>\n",
       "      <td>1.000000</td>\n",
       "      <td>37.000000</td>\n",
       "      <td>46600.000000</td>\n",
       "      <td>2.000000</td>\n",
       "      <td>0.000000</td>\n",
       "    </tr>\n",
       "    <tr>\n",
       "      <th>max</th>\n",
       "      <td>1.000000</td>\n",
       "      <td>65.000000</td>\n",
       "      <td>79000.000000</td>\n",
       "      <td>6.000000</td>\n",
       "      <td>5.000000</td>\n",
       "    </tr>\n",
       "  </tbody>\n",
       "</table>\n",
       "</div>"
      ],
      "text/plain": [
       "            gender          age        salary  family_members  \\\n",
       "count  5000.000000  5000.000000   5000.000000     5000.000000   \n",
       "mean      0.499000    30.952800  39916.359400        1.194200   \n",
       "std       0.500049     8.440807   9900.082063        1.091387   \n",
       "min       0.000000    18.000000   5300.000000        0.000000   \n",
       "25%       0.000000    24.000000  33300.000000        0.000000   \n",
       "50%       0.000000    30.000000  40200.000000        1.000000   \n",
       "75%       1.000000    37.000000  46600.000000        2.000000   \n",
       "max       1.000000    65.000000  79000.000000        6.000000   \n",
       "\n",
       "       insurance_payments  \n",
       "count         5000.000000  \n",
       "mean             0.148000  \n",
       "std              0.463183  \n",
       "min              0.000000  \n",
       "25%              0.000000  \n",
       "50%              0.000000  \n",
       "75%              0.000000  \n",
       "max              5.000000  "
      ]
     },
     "execution_count": 9,
     "metadata": {},
     "output_type": "execute_result"
    }
   ],
   "source": [
    "# на всякий случай можно попробовать взглянуть на все столбцы кроме gender\n",
    "insurance_data.describe()"
   ]
  },
  {
   "cell_type": "code",
   "execution_count": 10,
   "id": "2496c52a",
   "metadata": {},
   "outputs": [],
   "source": [
    "sns.set(rc={'figure.figsize':(11, 5)})"
   ]
  },
  {
   "cell_type": "code",
   "execution_count": 11,
   "id": "b554cf3c",
   "metadata": {},
   "outputs": [
    {
     "data": {
      "text/plain": [
       "<AxesSubplot:xlabel='salary', ylabel='Count'>"
      ]
     },
     "execution_count": 11,
     "metadata": {},
     "output_type": "execute_result"
    },
    {
     "data": {
      "image/png": "[encoded data removed]",
      "text/plain": [
       "<Figure size 792x360 with 2 Axes>"
      ]
     },
     "metadata": {},
     "output_type": "display_data"
    }
   ],
   "source": [
    "fig, ax = plt.subplots(1,2)\n",
    "sns.histplot(data=insurance_data['age'], color='g', ax=ax[0])\n",
    "sns.histplot(data=insurance_data['salary'], color='y', ax=ax[1])"
   ]
  },
  {
   "cell_type": "code",
   "execution_count": 12,
   "id": "05cbfbc1",
   "metadata": {},
   "outputs": [
    {
     "data": {
      "text/plain": [
       "<AxesSubplot:xlabel='insurance_payments', ylabel='Count'>"
      ]
     },
     "execution_count": 12,
     "metadata": {},
     "output_type": "execute_result"
    },
    {
     "data": {
      "image/png": "[encoded data removed]",
      "text/plain": [
       "<Figure size 792x360 with 2 Axes>"
      ]
     },
     "metadata": {},
     "output_type": "display_data"
    }
   ],
   "source": [
    "fig, ax = plt.subplots(1,2)\n",
    "sns.histplot(data=insurance_data['family_members'], color='r', ax=ax[0])\n",
    "sns.histplot(data=insurance_data['insurance_payments'], color='b', ax=ax[1])"
   ]
  },
  {
   "cell_type": "markdown",
   "id": "0a1d016e",
   "metadata": {},
   "source": [
    "Вроде бы все нормально, правда в insurance_payments есть одно значение 5, думаю можно его удалить.\n",
    "\n",
    "Также можно удалить строки в столбце family_members == 6 их тоже очень мало, можно посчитать за выброс"
   ]
  },
  {
   "cell_type": "code",
   "execution_count": 13,
   "id": "ffb8dad6",
   "metadata": {},
   "outputs": [
    {
     "data": {
      "text/html": [
       "<div>\n",
       "<style scoped>\n",
       "    .dataframe tbody tr th:only-of-type {\n",
       "        vertical-align: middle;\n",
       "    }\n",
       "\n",
       "    .dataframe tbody tr th {\n",
       "        vertical-align: top;\n",
       "    }\n",
       "\n",
       "    .dataframe thead th {\n",
       "        text-align: right;\n",
       "    }\n",
       "</style>\n",
       "<table border=\"1\" class=\"dataframe\">\n",
       "  <thead>\n",
       "    <tr style=\"text-align: right;\">\n",
       "      <th></th>\n",
       "      <th>gender</th>\n",
       "      <th>age</th>\n",
       "      <th>salary</th>\n",
       "      <th>family_members</th>\n",
       "      <th>insurance_payments</th>\n",
       "    </tr>\n",
       "  </thead>\n",
       "  <tbody>\n",
       "    <tr>\n",
       "      <th>228</th>\n",
       "      <td>1</td>\n",
       "      <td>65</td>\n",
       "      <td>39700</td>\n",
       "      <td>1</td>\n",
       "      <td>5</td>\n",
       "    </tr>\n",
       "  </tbody>\n",
       "</table>\n",
       "</div>"
      ],
      "text/plain": [
       "     gender  age  salary  family_members  insurance_payments\n",
       "228       1   65   39700               1                   5"
      ]
     },
     "execution_count": 13,
     "metadata": {},
     "output_type": "execute_result"
    }
   ],
   "source": [
    "insurance_data[insurance_data['insurance_payments'] == 5]"
   ]
  },
  {
   "cell_type": "code",
   "execution_count": 14,
   "id": "fd2315cb",
   "metadata": {},
   "outputs": [],
   "source": [
    "# удалим выбросы\n",
    "insurance_data = insurance_data.drop(index=228).reset_index(drop=True)\n",
    "insurance_data = insurance_data[insurance_data['family_members'] != 6]"
   ]
  },
  {
   "cell_type": "markdown",
   "id": "1a4edc24",
   "metadata": {},
   "source": [
    "проверим, есть ли дубликаты в данных"
   ]
  },
  {
   "cell_type": "code",
   "execution_count": 15,
   "id": "794dc10d",
   "metadata": {},
   "outputs": [
    {
     "data": {
      "text/plain": [
       "153"
      ]
     },
     "execution_count": 15,
     "metadata": {},
     "output_type": "execute_result"
    }
   ],
   "source": [
    "# Аж 153 случая, удалим их\n",
    "insurance_data.duplicated().sum()"
   ]
  },
  {
   "cell_type": "code",
   "execution_count": 16,
   "id": "11927dcb",
   "metadata": {},
   "outputs": [
    {
     "data": {
      "text/plain": [
       "4839"
      ]
     },
     "execution_count": 16,
     "metadata": {},
     "output_type": "execute_result"
    }
   ],
   "source": [
    "# отлично\n",
    "insurance_data = insurance_data[~insurance_data.duplicated()].reset_index(drop=True)\n",
    "insurance_data.shape[0]"
   ]
  },
  {
   "cell_type": "markdown",
   "id": "5c420c99",
   "metadata": {},
   "source": [
    "Посмотрим на корреляцию признаков:"
   ]
  },
  {
   "cell_type": "code",
   "execution_count": 17,
   "id": "dae28f9c",
   "metadata": {},
   "outputs": [
    {
     "data": {
      "text/plain": [
       "<AxesSubplot:>"
      ]
     },
     "execution_count": 17,
     "metadata": {},
     "output_type": "execute_result"
    },
    {
     "data": {
      "image/png": "[encoded data removed]",
      "text/plain": [
       "<Figure size 576x432 with 2 Axes>"
      ]
     },
     "metadata": {},
     "output_type": "display_data"
    }
   ],
   "source": [
    "sns.set(rc={'figure.figsize':(8, 6)})\n",
    "\n",
    "sns.heatmap(data=insurance_data.corr(), annot=True)"
   ]
  },
  {
   "cell_type": "markdown",
   "id": "7253a17f",
   "metadata": {},
   "source": [
    "Заметна корреляция между признаками insurance_payments и age (0.65).\n",
    "\n",
    "Это, вроде бы, много, но, вроде бы, и нет! Это не похоже на явную линейную зависимость одного признака от другого, думаю, удалять один признак не нужно."
   ]
  },
  {
   "cell_type": "markdown",
   "id": "00be800b",
   "metadata": {},
   "source": [
    "**Промежуточный вывод**:\n",
    "- данные открыты и изучены\n",
    "- названия признаков были преодразованы в snake_case\n",
    "- признаки age и salary приведены к типу int\n",
    "- удалены выбросы из признаков family_members и insurance_payments\n",
    "- удалены дубликаты\n",
    "- найдена корелляция между признаками insurance_payments и age (0.65)"
   ]
  },
  {
   "cell_type": "markdown",
   "id": "9b351f83",
   "metadata": {},
   "source": [
    "## Умножение матриц"
   ]
  },
  {
   "cell_type": "markdown",
   "id": "0634f1c5",
   "metadata": {},
   "source": [
    "В этом задании вы можете записывать формулы в *Jupyter Notebook.*\n",
    "\n",
    "Чтобы записать формулу внутри текста, окружите её символами доллара \\\\$; если снаружи —  двойными символами \\\\$\\\\$. Эти формулы записываются на языке вёрстки *LaTeX.* \n",
    "\n",
    "Для примера мы записали формулы линейной регрессии. Можете их скопировать и отредактировать, чтобы решить задачу.\n",
    "\n",
    "Работать в *LaTeX* необязательно."
   ]
  },
  {
   "cell_type": "markdown",
   "id": "38045691",
   "metadata": {},
   "source": [
    "Обозначения:\n",
    "\n",
    "- $X$ — матрица признаков (нулевой столбец состоит из единиц)\n",
    "\n",
    "- $y$ — вектор целевого признака\n",
    "\n",
    "- $P$ — матрица, на которую умножаются признаки\n",
    "\n",
    "- $w$ — вектор весов линейной регрессии (нулевой элемент равен сдвигу)"
   ]
  },
  {
   "cell_type": "markdown",
   "id": "6db40745",
   "metadata": {},
   "source": [
    "Предсказания:\n",
    "\n",
    "$$\n",
    "a = Xw\n",
    "$$\n",
    "\n",
    "Задача обучения:\n",
    "\n",
    "$$\n",
    "w = \\arg\\min_w MSE(Xw, y)\n",
    "$$\n",
    "\n",
    "Формула обучения:\n",
    "\n",
    "$$\n",
    "w = (X^T X)^{-1} X^T y\n",
    "$$"
   ]
  },
  {
   "cell_type": "markdown",
   "id": "35c8a137",
   "metadata": {},
   "source": [
    "В этом пункте **ответим на вопрос** и **обоснуем решение**.\n",
    "\n",
    "\n",
    "Признаки умножают на обратимую матрицу. *Изменится ли качество линейной регрессии?* (Её можно обучить заново.)\n",
    "1. Изменится. Приведите примеры матриц.\n",
    "2. Не изменится. Укажите, как связаны параметры линейной регрессии в исходной задаче и в преобразованной."
   ]
  },
  {
   "cell_type": "markdown",
   "id": "57e36f9f",
   "metadata": {},
   "source": [
    "Умножим признаки на обратимую матрицу P, получим:\n",
    "\n",
    "$$\n",
    "w' = ((XP)^T XP)^{-1} (XP)^T y\n",
    "$$\n",
    "\n",
    "\n",
    "Раскроекм скобки с помощью:\n",
    "\n",
    "$$\n",
    "(AB)^T = B^T A^T\n",
    "$$\n",
    "\n",
    "$$\n",
    "(AB)^{-1} = B^{-1} A^{-1}\n",
    "$$\n",
    "\n",
    "Получается, что:\n",
    "\n",
    "$$\n",
    "w' = (P^T (X^TX) P)^{-1} (XP)^T y = \n",
    "$$\n",
    "\n",
    "$$\n",
    "= P^{-1} (X^T X)^{-1} (P^T)^{-1} P^T X^T y\n",
    "$$\n",
    "\n",
    "Тогда вспомним, что:\n",
    "\n",
    "$$\n",
    "A A^{-1} = A^{-1} A = E\n",
    "$$\n",
    "\n",
    "$$\n",
    "AE = EA = A\n",
    "$$\n",
    "\n",
    "И наконец:\n",
    "\n",
    "$$\n",
    "w' = P^{-1} (X^T X)^{-1} X^T y = P^{-1} w\n",
    "$$\n",
    "\n",
    "Если в формуле предсказания X домножить на P и подставть полученный результат, получим, что:\n",
    "\n",
    "$$\n",
    "a' = X (P P^{-1}) w' = Xw = a\n",
    "$$"
   ]
  },
  {
   "cell_type": "markdown",
   "id": "f9d83b90",
   "metadata": {},
   "source": [
    "**Ответ:** Не изменится\n",
    "\n",
    "**Обоснование:** Обратимая матрица умножится на обратную и превратится в единичную, обоснование выше."
   ]
  },
  {
   "cell_type": "markdown",
   "id": "b806e9a1",
   "metadata": {},
   "source": [
    "## Алгоритм преобразования"
   ]
  },
  {
   "cell_type": "markdown",
   "id": "7821d964",
   "metadata": {},
   "source": [
    "**Алгоритм**\n",
    "\n",
    "1. Разделим датасет на признаки (X) и таргет (y) с помощью `train_test_split`\n",
    "2. Сгенерируем случайную квадратную обратимую матрицу (размером n x n, где n = кол-во признаков, на которых обучается модель)\n",
    "3. Проверим, обратимая ли она\n",
    "4. Если обратимая, то умножим матрицу признаков (X) на случайную квадратную обратимую матрицу\n",
    "5. Если не обратимая, то вернемся к пункту 2\n",
    "6. Проверим качество модели с помощью R2-score"
   ]
  },
  {
   "cell_type": "markdown",
   "id": "c1103d04",
   "metadata": {},
   "source": [
    "Но для начала еще немного подготовим данные"
   ]
  },
  {
   "cell_type": "code",
   "execution_count": 18,
   "id": "b16df5c8",
   "metadata": {},
   "outputs": [
    {
     "data": {
      "text/plain": [
       "0    0.884067\n",
       "1    0.087208\n",
       "2    0.023559\n",
       "3    0.003720\n",
       "4    0.001447\n",
       "Name: insurance_payments, dtype: float64"
      ]
     },
     "execution_count": 18,
     "metadata": {},
     "output_type": "execute_result"
    }
   ],
   "source": [
    "# есть дисбаланс мультиклассов\n",
    "insurance_data.insurance_payments.value_counts(normalize=True)"
   ]
  },
  {
   "cell_type": "code",
   "execution_count": 19,
   "id": "70747cd1",
   "metadata": {},
   "outputs": [],
   "source": [
    "# делим на признаки и таргет\n",
    "X = insurance_data.drop('insurance_payments', axis=1)\n",
    "y = insurance_data['insurance_payments']"
   ]
  },
  {
   "cell_type": "code",
   "execution_count": 20,
   "id": "7c2eb803",
   "metadata": {},
   "outputs": [],
   "source": [
    "# stratify=y для того чтобы сохранить отношение классов друг к другу\n",
    "X_train, X_test, y_train, y_test = train_test_split(X, y, stratify=y, random_state=RANDOM_STATE)"
   ]
  },
  {
   "cell_type": "code",
   "execution_count": 21,
   "id": "4285bada",
   "metadata": {},
   "outputs": [
    {
     "data": {
      "text/plain": [
       "0    0.883990\n",
       "1    0.087076\n",
       "2    0.023698\n",
       "3    0.003858\n",
       "4    0.001378\n",
       "Name: insurance_payments, dtype: float64"
      ]
     },
     "execution_count": 21,
     "metadata": {},
     "output_type": "execute_result"
    }
   ],
   "source": [
    "# нормас\n",
    "y_train.value_counts(normalize=True)"
   ]
  },
  {
   "cell_type": "markdown",
   "id": "2d47e979",
   "metadata": {},
   "source": [
    "Т.к. будем использовать линейную регрессию, важно провести масштабирование признаков, используем скелер"
   ]
  },
  {
   "cell_type": "code",
   "execution_count": 22,
   "id": "e748cb37",
   "metadata": {},
   "outputs": [],
   "source": [
    "# численные признаки\n",
    "num_features = ['age', 'salary']\n",
    "\n",
    "# создаём скелер\n",
    "scaler = StandardScaler()\n",
    "\n",
    "# обучаем его на численных признаках тренировочной выборки, трансформируем её же\n",
    "X_train[num_features] = scaler.fit_transform(X_train[num_features])\n",
    "\n",
    "# скелером, который обучен на ТРЕНИРОВОЧНОЙ ВЫБОРКЕ, масштабируем тестовую\n",
    "X_test[num_features] = scaler.transform(\n",
    "    X_test[num_features]\n",
    ")"
   ]
  },
  {
   "cell_type": "markdown",
   "id": "c3e2959c",
   "metadata": {},
   "source": [
    "Запаримся и закодируем признак family_members"
   ]
  },
  {
   "cell_type": "code",
   "execution_count": 23,
   "id": "f525ac87",
   "metadata": {},
   "outputs": [],
   "source": [
    "X_train = pd.get_dummies(data=X_train, columns=['family_members'], drop_first=True)\n",
    "X_test = pd.get_dummies(data=X_test, columns=['family_members'], drop_first=True)"
   ]
  },
  {
   "cell_type": "code",
   "execution_count": 24,
   "id": "5140b7a9",
   "metadata": {},
   "outputs": [
    {
     "data": {
      "text/html": [
       "<div>\n",
       "<style scoped>\n",
       "    .dataframe tbody tr th:only-of-type {\n",
       "        vertical-align: middle;\n",
       "    }\n",
       "\n",
       "    .dataframe tbody tr th {\n",
       "        vertical-align: top;\n",
       "    }\n",
       "\n",
       "    .dataframe thead th {\n",
       "        text-align: right;\n",
       "    }\n",
       "</style>\n",
       "<table border=\"1\" class=\"dataframe\">\n",
       "  <thead>\n",
       "    <tr style=\"text-align: right;\">\n",
       "      <th></th>\n",
       "      <th>gender</th>\n",
       "      <th>age</th>\n",
       "      <th>salary</th>\n",
       "      <th>family_members_1</th>\n",
       "      <th>family_members_2</th>\n",
       "      <th>family_members_3</th>\n",
       "      <th>family_members_4</th>\n",
       "      <th>family_members_5</th>\n",
       "    </tr>\n",
       "  </thead>\n",
       "  <tbody>\n",
       "    <tr>\n",
       "      <th>2447</th>\n",
       "      <td>1</td>\n",
       "      <td>-1.415449</td>\n",
       "      <td>-0.057058</td>\n",
       "      <td>0</td>\n",
       "      <td>0</td>\n",
       "      <td>0</td>\n",
       "      <td>0</td>\n",
       "      <td>0</td>\n",
       "    </tr>\n",
       "    <tr>\n",
       "      <th>969</th>\n",
       "      <td>0</td>\n",
       "      <td>-0.001299</td>\n",
       "      <td>-0.598589</td>\n",
       "      <td>0</td>\n",
       "      <td>0</td>\n",
       "      <td>0</td>\n",
       "      <td>0</td>\n",
       "      <td>0</td>\n",
       "    </tr>\n",
       "    <tr>\n",
       "      <th>4713</th>\n",
       "      <td>1</td>\n",
       "      <td>-0.001299</td>\n",
       "      <td>0.935748</td>\n",
       "      <td>0</td>\n",
       "      <td>1</td>\n",
       "      <td>0</td>\n",
       "      <td>0</td>\n",
       "      <td>0</td>\n",
       "    </tr>\n",
       "    <tr>\n",
       "      <th>2466</th>\n",
       "      <td>0</td>\n",
       "      <td>-0.708374</td>\n",
       "      <td>-0.016945</td>\n",
       "      <td>0</td>\n",
       "      <td>0</td>\n",
       "      <td>1</td>\n",
       "      <td>0</td>\n",
       "      <td>0</td>\n",
       "    </tr>\n",
       "    <tr>\n",
       "      <th>4682</th>\n",
       "      <td>0</td>\n",
       "      <td>-0.826220</td>\n",
       "      <td>-0.418079</td>\n",
       "      <td>1</td>\n",
       "      <td>0</td>\n",
       "      <td>0</td>\n",
       "      <td>0</td>\n",
       "      <td>0</td>\n",
       "    </tr>\n",
       "  </tbody>\n",
       "</table>\n",
       "</div>"
      ],
      "text/plain": [
       "      gender       age    salary  family_members_1  family_members_2  \\\n",
       "2447       1 -1.415449 -0.057058                 0                 0   \n",
       "969        0 -0.001299 -0.598589                 0                 0   \n",
       "4713       1 -0.001299  0.935748                 0                 1   \n",
       "2466       0 -0.708374 -0.016945                 0                 0   \n",
       "4682       0 -0.826220 -0.418079                 1                 0   \n",
       "\n",
       "      family_members_3  family_members_4  family_members_5  \n",
       "2447                 0                 0                 0  \n",
       "969                  0                 0                 0  \n",
       "4713                 0                 0                 0  \n",
       "2466                 1                 0                 0  \n",
       "4682                 0                 0                 0  "
      ]
     },
     "execution_count": 24,
     "metadata": {},
     "output_type": "execute_result"
    }
   ],
   "source": [
    "X_test.head()"
   ]
  },
  {
   "cell_type": "markdown",
   "id": "59506a65",
   "metadata": {},
   "source": [
    "Напишем теперь функцию personal_data_cypher:"
   ]
  },
  {
   "cell_type": "code",
   "execution_count": 25,
   "id": "57d34698",
   "metadata": {},
   "outputs": [],
   "source": [
    "def personal_data_cypher(X_train: pd.DataFrame, X_test: pd.DataFrame) -> np.array:\n",
    "    \"\"\"Функция шифрует персональные данные пользователей умножая исходные матрицы признаков на случайную обратимую квадратную матрицу \n",
    "\n",
    "    Args:\n",
    "        X_train (pd.DataFrame): Матрица признаков пользователей train выборки\n",
    "        X_test (pd.DataFrame): Матрица признаков пользователей test выборки\n",
    "\n",
    "    Returns:\n",
    "        np.array: Зашифрованные матрицы признаков пользователей\n",
    "    \"\"\"\n",
    "\n",
    "    # используем цикл while для проверки матрицы на обратимость\n",
    "    while True:\n",
    "        \n",
    "        # генерируем случайную обратимую матрицу n x n\n",
    "        n = X_train.shape[1]\n",
    "        m = np.random.rand(n, n)\n",
    "        mx = np.sum(np.abs(m), axis=1)\n",
    "        np.fill_diagonal(m, mx)\n",
    "\n",
    "        # проводим проверку матрицы на обратимость\n",
    "        try:\n",
    "            minv = np.linalg.inv(m)\n",
    "            break\n",
    "\n",
    "        except:\n",
    "            continue\n",
    "\n",
    "    # кодируем матрицы\n",
    "    X_train_cyphed = X_train.values @ m\n",
    "    X_test_cyphed = X_test.values @ m\n",
    "\n",
    "    # возвращаем закодированные матрицы признаков\n",
    "    return X_train_cyphed, X_test_cyphed"
   ]
  },
  {
   "cell_type": "markdown",
   "id": "557bc054",
   "metadata": {},
   "source": [
    "**Обоснование**\n",
    "\n",
    "При таком подходе данные будут надежно защищены, при каждом новом вызове функции исходная матрица признаков умножается на случайную квадратную обратимую матрицу матрицу. Не уверен, насколько это хорошая идея."
   ]
  },
  {
   "cell_type": "markdown",
   "id": "656da7b5",
   "metadata": {},
   "source": [
    "**Промежуточный вывод**:\n",
    "- разделили данные с помощью train_test_split\n",
    "- признаки age и salary масштабировали с помощью StandartScaler\n",
    "- закодировали признак family_members с помощью get_dummies\n",
    "- объявили функцию personal_data_cypher для кодирования матриц признаков"
   ]
  },
  {
   "cell_type": "markdown",
   "id": "f8ea8aa0",
   "metadata": {},
   "source": [
    "## Проверка алгоритма"
   ]
  },
  {
   "cell_type": "markdown",
   "id": "9d16cbb4",
   "metadata": {},
   "source": [
    "Обучим линейную регрессию на незакодированных и закодированных признаках и сравним результаты."
   ]
  },
  {
   "cell_type": "code",
   "execution_count": 26,
   "id": "4dbcadf2",
   "metadata": {},
   "outputs": [
    {
     "name": "stdout",
     "output_type": "stream",
     "text": [
      "Предсказания на незакодированных данных:\n",
      " [-0.2588463   0.16725127  0.14265055 ...  0.0868444   0.09173883\n",
      "  0.27762532] \n",
      "\n",
      "Предсказания на закодированных данных:\n",
      " [-0.2588463   0.16725127  0.14265055 ...  0.0868444   0.09173883\n",
      "  0.27762532]\n",
      "-----------------------------------------------------------------\n",
      "R2-score на незакодированных данных : 0.41079523611614066\n",
      "R2-score на закодированных данных   : 0.41079523611614066\n"
     ]
    }
   ],
   "source": [
    "lr_model = LinearRegression()\n",
    "\n",
    "# незашифрованные признаки\n",
    "lr_model.fit(X_train, y_train)\n",
    "y_pred = lr_model.predict(X_test)\n",
    "\n",
    "# зашифрованные признаки\n",
    "X_train_cyphed, X_test_cyphed = personal_data_cypher(X_train, X_test)\n",
    "lr_model.fit(X_train_cyphed, y_train)\n",
    "y_pred_cyphed = lr_model.predict(X_test_cyphed)\n",
    "\n",
    "print('Предсказания на незакодированных данных:\\n', y_pred, '\\n')\n",
    "print('Предсказания на закодированных данных:\\n', y_pred_cyphed)\n",
    "print('-----------------------------------------------------------------')\n",
    "print(f'R2-score на незакодированных данных : {r2_score(y_test, y_pred)}')\n",
    "print(f'R2-score на закодированных данных   : {r2_score(y_test, y_pred_cyphed)}')"
   ]
  },
  {
   "cell_type": "markdown",
   "id": "29d65ca0",
   "metadata": {},
   "source": [
    "**промежуточный вывод**:\n",
    "- обучили линейную регрессию на незакодированных данных (R2-score 0.41079523611614066)\n",
    "- обучили линейную регрессию на закодированных данных (R2-score 0.41079523611614066)\n",
    "- сделали вывод о том, что, действительно, такой способ защитить персональные данные пользователей работает"
   ]
  },
  {
   "cell_type": "markdown",
   "id": "af8597b0",
   "metadata": {},
   "source": [
    "## Общий вывод"
   ]
  },
  {
   "cell_type": "markdown",
   "id": "54d48b3b",
   "metadata": {},
   "source": [
    "**Загрузка данных**:\n",
    "\n",
    "- данные открыты и изучены\n",
    "- названия признаков были преодразованы в snake_case\n",
    "- признаки age и salary приведены к типу int\n",
    "- удалены выбросы из признаков family_members и insurance_payments\n",
    "- удалены дубликаты\n",
    "- найдена корелляция между признаками insurance_payments и age (0.65)\n",
    "\n",
    "\n",
    "**Умножение матриц**:\n",
    "\n",
    "- выяснили, что качетсво линейной регресси после кодирования матрицы признаков *не изменится*\n",
    "- обосновали применение такого метода математически\n",
    "\n",
    "\n",
    "**Алгоритм преобразования**:\n",
    "\n",
    "- разделили данные с помощью train_test_split\n",
    "- признаки age и salary масштабировали с помощью StandartScaler\n",
    "- закодировали признак family_members с помощью get_dummies\n",
    "- объявили функцию personal_data_cypher для кодирования матриц признаков\n",
    "\n",
    "\n",
    "**Проверка алгоритма**:\n",
    "\n",
    "- обучили линейную регрессию на незакодированных данных (R2-score 0.41079523611614066)\n",
    "- обучили линейную регрессию на закодированных данных (R2-score 0.41079523611614066)\n",
    "- сделали вывод о том, что, действительно, такой способ защитить персональные данные пользователей работает"
   ]
  },
  {
   "cell_type": "code",
   "execution_count": null,
   "id": "443b0d92",
   "metadata": {},
   "outputs": [],
   "source": []
  }
 ],
 "metadata": {
  "ExecuteTimeLog": [
   {
    "duration": 2132,
    "start_time": "2023-03-29T04:37:57.834Z"
   },
   {
    "duration": 55,
    "start_time": "2023-03-29T04:37:59.968Z"
   },
   {
    "duration": 16,
    "start_time": "2023-03-29T04:38:00.026Z"
   },
   {
    "duration": 38,
    "start_time": "2023-03-29T04:38:00.043Z"
   },
   {
    "duration": 21,
    "start_time": "2023-03-29T04:38:00.083Z"
   },
   {
    "duration": 26,
    "start_time": "2023-03-29T04:38:00.107Z"
   },
   {
    "duration": 26,
    "start_time": "2023-03-29T04:38:00.135Z"
   },
   {
    "duration": 30,
    "start_time": "2023-03-29T04:38:00.164Z"
   },
   {
    "duration": 74,
    "start_time": "2023-03-29T04:38:00.196Z"
   },
   {
    "duration": 21,
    "start_time": "2023-03-29T04:38:00.272Z"
   },
   {
    "duration": 434,
    "start_time": "2023-03-29T04:38:00.294Z"
   },
   {
    "duration": 363,
    "start_time": "2023-03-29T04:38:00.734Z"
   },
   {
    "duration": 8,
    "start_time": "2023-03-29T04:38:01.098Z"
   },
   {
    "duration": 80,
    "start_time": "2023-03-29T04:38:01.108Z"
   },
   {
    "duration": 34,
    "start_time": "2023-03-29T04:38:01.189Z"
   },
   {
    "duration": 59,
    "start_time": "2023-03-29T04:38:01.225Z"
   },
   {
    "duration": 69,
    "start_time": "2023-03-29T04:38:01.286Z"
   },
   {
    "duration": 35,
    "start_time": "2023-03-29T04:38:01.357Z"
   },
   {
    "duration": 60,
    "start_time": "2023-03-29T04:38:01.394Z"
   },
   {
    "duration": 39,
    "start_time": "2023-03-29T04:38:01.455Z"
   },
   {
    "duration": 135,
    "start_time": "2023-03-29T04:38:01.496Z"
   },
   {
    "duration": 9,
    "start_time": "2023-03-29T04:38:01.632Z"
   },
   {
    "duration": 23,
    "start_time": "2023-03-29T04:38:01.642Z"
   },
   {
    "duration": 51,
    "start_time": "2023-03-29T04:38:01.666Z"
   },
   {
    "duration": 39,
    "start_time": "2023-03-29T04:38:01.719Z"
   },
   {
    "duration": 5,
    "start_time": "2023-03-29T04:38:20.512Z"
   },
   {
    "duration": 16,
    "start_time": "2023-03-29T04:38:33.522Z"
   },
   {
    "duration": 19,
    "start_time": "2023-03-29T04:39:41.000Z"
   },
   {
    "duration": 15,
    "start_time": "2023-03-29T04:40:00.154Z"
   },
   {
    "duration": 3,
    "start_time": "2023-03-29T04:42:41.874Z"
   },
   {
    "duration": 5,
    "start_time": "2023-03-29T04:42:49.376Z"
   },
   {
    "duration": 2,
    "start_time": "2023-03-29T04:43:09.722Z"
   },
   {
    "duration": 5,
    "start_time": "2023-03-29T04:43:20.444Z"
   },
   {
    "duration": 51,
    "start_time": "2023-03-29T09:20:36.893Z"
   },
   {
    "duration": 1631,
    "start_time": "2023-03-29T09:20:44.232Z"
   },
   {
    "duration": 114,
    "start_time": "2023-03-29T09:20:45.865Z"
   },
   {
    "duration": 18,
    "start_time": "2023-03-29T09:20:45.981Z"
   },
   {
    "duration": 12,
    "start_time": "2023-03-29T09:20:46.000Z"
   },
   {
    "duration": 9,
    "start_time": "2023-03-29T09:20:46.014Z"
   },
   {
    "duration": 12,
    "start_time": "2023-03-29T09:20:46.025Z"
   },
   {
    "duration": 12,
    "start_time": "2023-03-29T09:20:46.039Z"
   },
   {
    "duration": 30,
    "start_time": "2023-03-29T09:20:46.052Z"
   },
   {
    "duration": 39,
    "start_time": "2023-03-29T09:20:46.084Z"
   },
   {
    "duration": 4,
    "start_time": "2023-03-29T09:20:46.124Z"
   },
   {
    "duration": 423,
    "start_time": "2023-03-29T09:20:46.129Z"
   },
   {
    "duration": 369,
    "start_time": "2023-03-29T09:20:46.554Z"
   },
   {
    "duration": 8,
    "start_time": "2023-03-29T09:20:46.926Z"
   },
   {
    "duration": 8,
    "start_time": "2023-03-29T09:20:46.937Z"
   },
   {
    "duration": 21,
    "start_time": "2023-03-29T09:20:46.947Z"
   },
   {
    "duration": 7,
    "start_time": "2023-03-29T09:20:46.970Z"
   },
   {
    "duration": 10,
    "start_time": "2023-03-29T09:20:48.715Z"
   },
   {
    "duration": 434,
    "start_time": "2023-03-29T09:23:50.117Z"
   },
   {
    "duration": 403,
    "start_time": "2023-03-29T09:24:17.662Z"
   },
   {
    "duration": 437,
    "start_time": "2023-03-29T09:26:05.154Z"
   },
   {
    "duration": 402,
    "start_time": "2023-03-29T09:26:11.492Z"
   },
   {
    "duration": 470,
    "start_time": "2023-03-29T09:26:26.822Z"
   },
   {
    "duration": 468,
    "start_time": "2023-03-29T09:26:34.837Z"
   },
   {
    "duration": 5,
    "start_time": "2023-03-29T09:45:01.448Z"
   },
   {
    "duration": 4,
    "start_time": "2023-03-29T09:49:14.927Z"
   },
   {
    "duration": 84,
    "start_time": "2023-03-29T09:49:14.933Z"
   },
   {
    "duration": 14,
    "start_time": "2023-03-29T09:49:15.019Z"
   },
   {
    "duration": 11,
    "start_time": "2023-03-29T09:49:15.035Z"
   },
   {
    "duration": 4,
    "start_time": "2023-03-29T09:49:15.050Z"
   },
   {
    "duration": 7,
    "start_time": "2023-03-29T09:49:15.056Z"
   },
   {
    "duration": 9,
    "start_time": "2023-03-29T09:49:15.065Z"
   },
   {
    "duration": 11,
    "start_time": "2023-03-29T09:49:15.076Z"
   },
   {
    "duration": 25,
    "start_time": "2023-03-29T09:49:15.089Z"
   },
   {
    "duration": 4,
    "start_time": "2023-03-29T09:49:15.115Z"
   },
   {
    "duration": 447,
    "start_time": "2023-03-29T09:49:15.121Z"
   },
   {
    "duration": 373,
    "start_time": "2023-03-29T09:49:15.570Z"
   },
   {
    "duration": 8,
    "start_time": "2023-03-29T09:49:15.944Z"
   },
   {
    "duration": 6,
    "start_time": "2023-03-29T09:49:15.962Z"
   },
   {
    "duration": 6,
    "start_time": "2023-03-29T09:49:15.970Z"
   },
   {
    "duration": 7,
    "start_time": "2023-03-29T09:49:15.978Z"
   },
   {
    "duration": 521,
    "start_time": "2023-03-29T09:49:15.987Z"
   },
   {
    "duration": 7,
    "start_time": "2023-03-29T09:49:16.509Z"
   },
   {
    "duration": 5,
    "start_time": "2023-03-29T09:49:16.518Z"
   },
   {
    "duration": 7,
    "start_time": "2023-03-29T09:49:16.525Z"
   },
   {
    "duration": 5,
    "start_time": "2023-03-29T09:49:16.534Z"
   },
   {
    "duration": 15,
    "start_time": "2023-03-29T09:49:16.562Z"
   },
   {
    "duration": 9,
    "start_time": "2023-03-29T09:49:16.579Z"
   },
   {
    "duration": 10,
    "start_time": "2023-03-29T09:49:16.590Z"
   },
   {
    "duration": 102,
    "start_time": "2023-03-29T09:49:16.603Z"
   },
   {
    "duration": 0,
    "start_time": "2023-03-29T09:49:16.706Z"
   },
   {
    "duration": 0,
    "start_time": "2023-03-29T09:49:16.707Z"
   },
   {
    "duration": 1487,
    "start_time": "2023-03-29T09:49:49.159Z"
   },
   {
    "duration": 61,
    "start_time": "2023-03-29T09:49:50.649Z"
   },
   {
    "duration": 18,
    "start_time": "2023-03-29T09:49:50.711Z"
   },
   {
    "duration": 11,
    "start_time": "2023-03-29T09:49:50.731Z"
   },
   {
    "duration": 5,
    "start_time": "2023-03-29T09:49:50.743Z"
   },
   {
    "duration": 18,
    "start_time": "2023-03-29T09:49:50.750Z"
   },
   {
    "duration": 16,
    "start_time": "2023-03-29T09:49:50.770Z"
   },
   {
    "duration": 26,
    "start_time": "2023-03-29T09:49:50.788Z"
   },
   {
    "duration": 33,
    "start_time": "2023-03-29T09:49:50.815Z"
   },
   {
    "duration": 4,
    "start_time": "2023-03-29T09:49:50.850Z"
   },
   {
    "duration": 430,
    "start_time": "2023-03-29T09:49:50.855Z"
   },
   {
    "duration": 397,
    "start_time": "2023-03-29T09:49:51.286Z"
   },
   {
    "duration": 9,
    "start_time": "2023-03-29T09:49:51.685Z"
   },
   {
    "duration": 25,
    "start_time": "2023-03-29T09:49:51.696Z"
   },
   {
    "duration": 23,
    "start_time": "2023-03-29T09:49:51.722Z"
   },
   {
    "duration": 13,
    "start_time": "2023-03-29T09:49:51.747Z"
   },
   {
    "duration": 501,
    "start_time": "2023-03-29T09:49:51.762Z"
   },
   {
    "duration": 8,
    "start_time": "2023-03-29T09:49:52.265Z"
   },
   {
    "duration": 30,
    "start_time": "2023-03-29T09:49:52.274Z"
   },
   {
    "duration": 30,
    "start_time": "2023-03-29T09:49:52.306Z"
   },
   {
    "duration": 7,
    "start_time": "2023-03-29T09:49:52.338Z"
   },
   {
    "duration": 40,
    "start_time": "2023-03-29T09:49:52.347Z"
   },
   {
    "duration": 10,
    "start_time": "2023-03-29T09:49:52.389Z"
   },
   {
    "duration": 10,
    "start_time": "2023-03-29T09:49:52.401Z"
   },
   {
    "duration": 8,
    "start_time": "2023-03-29T09:49:52.413Z"
   },
   {
    "duration": 47,
    "start_time": "2023-03-29T09:49:52.423Z"
   }
  ],
  "kernelspec": {
   "display_name": "Python 3",
   "language": "python",
   "name": "python3"
  },
  "language_info": {
   "codemirror_mode": {
    "name": "ipython",
    "version": 3
   },
   "file_extension": ".py",
   "mimetype": "text/x-python",
   "name": "python",
   "nbconvert_exporter": "python",
   "pygments_lexer": "ipython3",
   "version": "3.8.8"
  },
  "toc": {
   "base_numbering": 1,
   "nav_menu": {},
   "number_sections": true,
   "sideBar": true,
   "skip_h1_title": true,
   "title_cell": "Содержание",
   "title_sidebar": "Contents",
   "toc_cell": true,
   "toc_position": {},
   "toc_section_display": true,
   "toc_window_display": true
  }
 },
 "nbformat": 4,
 "nbformat_minor": 5
}
