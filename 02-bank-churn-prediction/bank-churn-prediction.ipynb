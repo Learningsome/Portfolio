{
 "cells": [
  {
   "cell_type": "markdown",
   "id": "4f927da6",
   "metadata": {
    "toc": true
   },
   "source": [
    "<h1>Содержание<span class=\"tocSkip\"></span></h1>\n",
    "<div class=\"toc\"><ul class=\"toc-item\"><li><span><a href=\"#Подготовка-данных\" data-toc-modified-id=\"Подготовка-данных-1\"><span class=\"toc-item-num\">1&nbsp;&nbsp;</span>Подготовка данных</a></span><ul class=\"toc-item\"><li><span><a href=\"#Приведение-названий-столбцов-к-snake_case\" data-toc-modified-id=\"Приведение-названий-столбцов-к-snake_case-1.1\"><span class=\"toc-item-num\">1.1&nbsp;&nbsp;</span>Приведение названий столбцов к <code>snake_case</code></a></span></li><li><span><a href=\"#Пропуски-данных-в-столбце-Tenure\" data-toc-modified-id=\"Пропуски-данных-в-столбце-Tenure-1.2\"><span class=\"toc-item-num\">1.2&nbsp;&nbsp;</span>Пропуски данных в столбце <code>Tenure</code></a></span></li><li><span><a href=\"#Приведение-столбца-tenure-к-типу-данных-int\" data-toc-modified-id=\"Приведение-столбца-tenure-к-типу-данных-int-1.3\"><span class=\"toc-item-num\">1.3&nbsp;&nbsp;</span>Приведение столбца <code>tenure</code> к типу данных <code>int</code></a></span></li><li><span><a href=\"#Удаление-столбцов-row_number,--customer_id,-surname\" data-toc-modified-id=\"Удаление-столбцов-row_number,--customer_id,-surname-1.4\"><span class=\"toc-item-num\">1.4&nbsp;&nbsp;</span>Удаление столбцов <code>row_number</code>,  <code>customer_id</code>, <code>surname</code></a></span></li><li><span><a href=\"#Приведение-столбцов-Geography-и-Gender-к-численному-виду\" data-toc-modified-id=\"Приведение-столбцов-Geography-и-Gender-к-численному-виду-1.5\"><span class=\"toc-item-num\">1.5&nbsp;&nbsp;</span>Приведение столбцов <code>Geography</code> и <code>Gender</code> к численному виду</a></span></li></ul></li><li><span><a href=\"#Исследование-задачи\" data-toc-modified-id=\"Исследование-задачи-2\"><span class=\"toc-item-num\">2&nbsp;&nbsp;</span>Исследование задачи</a></span><ul class=\"toc-item\"><li><span><a href=\"#LogisticRegression-без-учета-дисбаланса\" data-toc-modified-id=\"LogisticRegression-без-учета-дисбаланса-2.1\"><span class=\"toc-item-num\">2.1&nbsp;&nbsp;</span>LogisticRegression без учета дисбаланса</a></span></li><li><span><a href=\"#DesicionTreeClassifier-без-учета-дисбаланса\" data-toc-modified-id=\"DesicionTreeClassifier-без-учета-дисбаланса-2.2\"><span class=\"toc-item-num\">2.2&nbsp;&nbsp;</span>DesicionTreeClassifier без учета дисбаланса</a></span></li><li><span><a href=\"#RandomForestClassifier-без-учета-дисбаланса\" data-toc-modified-id=\"RandomForestClassifier-без-учета-дисбаланса-2.3\"><span class=\"toc-item-num\">2.3&nbsp;&nbsp;</span>RandomForestClassifier без учета дисбаланса</a></span></li></ul></li><li><span><a href=\"#Борьба-с-дисбалансом\" data-toc-modified-id=\"Борьба-с-дисбалансом-3\"><span class=\"toc-item-num\">3&nbsp;&nbsp;</span>Борьба с дисбалансом</a></span><ul class=\"toc-item\"><li><span><a href=\"#Взвешивание-классов\" data-toc-modified-id=\"Взвешивание-классов-3.1\"><span class=\"toc-item-num\">3.1&nbsp;&nbsp;</span>Взвешивание классов</a></span><ul class=\"toc-item\"><li><span><a href=\"#LogisticRegression\" data-toc-modified-id=\"LogisticRegression-3.1.1\"><span class=\"toc-item-num\">3.1.1&nbsp;&nbsp;</span>LogisticRegression</a></span></li><li><span><a href=\"#DesicionTreeClassifier\" data-toc-modified-id=\"DesicionTreeClassifier-3.1.2\"><span class=\"toc-item-num\">3.1.2&nbsp;&nbsp;</span>DesicionTreeClassifier</a></span></li><li><span><a href=\"#RandomForestClassifier\" data-toc-modified-id=\"RandomForestClassifier-3.1.3\"><span class=\"toc-item-num\">3.1.3&nbsp;&nbsp;</span>RandomForestClassifier</a></span></li></ul></li><li><span><a href=\"#Апсемплинг\" data-toc-modified-id=\"Апсемплинг-3.2\"><span class=\"toc-item-num\">3.2&nbsp;&nbsp;</span>Апсемплинг</a></span><ul class=\"toc-item\"><li><span><a href=\"#LogisticRegression\" data-toc-modified-id=\"LogisticRegression-3.2.1\"><span class=\"toc-item-num\">3.2.1&nbsp;&nbsp;</span>LogisticRegression</a></span></li><li><span><a href=\"#DesicionTreeClassifier\" data-toc-modified-id=\"DesicionTreeClassifier-3.2.2\"><span class=\"toc-item-num\">3.2.2&nbsp;&nbsp;</span>DesicionTreeClassifier</a></span></li><li><span><a href=\"#RandomForestClassifier\" data-toc-modified-id=\"RandomForestClassifier-3.2.3\"><span class=\"toc-item-num\">3.2.3&nbsp;&nbsp;</span>RandomForestClassifier</a></span></li></ul></li><li><span><a href=\"#Даунсемплинг\" data-toc-modified-id=\"Даунсемплинг-3.3\"><span class=\"toc-item-num\">3.3&nbsp;&nbsp;</span>Даунсемплинг</a></span><ul class=\"toc-item\"><li><span><a href=\"#LogisticRegression\" data-toc-modified-id=\"LogisticRegression-3.3.1\"><span class=\"toc-item-num\">3.3.1&nbsp;&nbsp;</span>LogisticRegression</a></span></li><li><span><a href=\"#DesicionTreeClassifier\" data-toc-modified-id=\"DesicionTreeClassifier-3.3.2\"><span class=\"toc-item-num\">3.3.2&nbsp;&nbsp;</span>DesicionTreeClassifier</a></span></li><li><span><a href=\"#RandomForestClassifier\" data-toc-modified-id=\"RandomForestClassifier-3.3.3\"><span class=\"toc-item-num\">3.3.3&nbsp;&nbsp;</span>RandomForestClassifier</a></span></li></ul></li></ul></li><li><span><a href=\"#Тестирование-лучшей-модели\" data-toc-modified-id=\"Тестирование-лучшей-модели-4\"><span class=\"toc-item-num\">4&nbsp;&nbsp;</span>Тестирование лучшей модели</a></span></li><li><span><a href=\"#Сравнение-лучшей-модели-с-константной\" data-toc-modified-id=\"Сравнение-лучшей-модели-с-константной-5\"><span class=\"toc-item-num\">5&nbsp;&nbsp;</span>Сравнение лучшей модели с константной</a></span></li><li><span><a href=\"#Общий-вывод\" data-toc-modified-id=\"Общий-вывод-6\"><span class=\"toc-item-num\">6&nbsp;&nbsp;</span>Общий вывод</a></span></li></ul></div>"
   ]
  },
  {
   "cell_type": "markdown",
   "id": "9891cdf4",
   "metadata": {},
   "source": [
    "# Прогнозирование оттока клиентов банка"
   ]
  },
  {
   "cell_type": "markdown",
   "id": "bcef0d9b",
   "metadata": {},
   "source": [
    "**Описание проекта**: Из банка стали уходить клиенты. Каждый месяц. Немного, но заметно. Банковские маркетологи посчитали: сохранять текущих клиентов дешевле, чем привлекать новых.\n",
    "Нужно спрогнозировать, уйдёт клиент из банка в ближайшее время или нет. Предоставлены исторические данные о поведении клиентов и расторжении договоров с банком.\n",
    "\n",
    "**Задача проекта**: На основе данных из банка определить клиентов, которые *могут уйти*.\n",
    "\n",
    "**Описание данных**: Данные взяты из [kaggle](https://www.kaggle.com/barelydedicated/bank-customer-churn-modeling)\n",
    "\n",
    "*Признаки*:\n",
    "\n",
    "- *RowNumber* — индекс строки в данных\n",
    "- *CustomerId* — уникальный идентификатор клиента\n",
    "- *Surname* — фамилия\n",
    "- *CreditScore* — кредитный рейтинг\n",
    "- *Geography* — страна проживания\n",
    "- *Gender* — пол\n",
    "- *Age* — возраст\n",
    "- *Tenure* — сколько лет человек является клиентом банка\n",
    "- *Balance* — баланс на счёте\n",
    "- *NumOfProducts* — количество продуктов банка, используемых клиентом\n",
    "- *HasCrCard* — наличие кредитной карты\n",
    "- *IsActiveMember* — активность клиента\n",
    "- *EstimatedSalary* — предполагаемая зарплата\n",
    "\n",
    "*Целевой признак*:\n",
    "\n",
    "- *Exited* — факт ухода клиента"
   ]
  },
  {
   "cell_type": "markdown",
   "id": "4706692f",
   "metadata": {},
   "source": [
    "## Подготовка данных"
   ]
  },
  {
   "cell_type": "markdown",
   "id": "bf641bff",
   "metadata": {},
   "source": [
    "Загрузим и подготовим *данные*, поясним *порядок действий*"
   ]
  },
  {
   "cell_type": "markdown",
   "id": "05d3bdec",
   "metadata": {},
   "source": [
    "Для начала импортируем нужные для работы библиотеки"
   ]
  },
  {
   "cell_type": "code",
   "execution_count": 1,
   "id": "799f891a",
   "metadata": {},
   "outputs": [],
   "source": [
    "# импорты из стандартной библиотеки\n",
    "import warnings\n",
    "import re\n",
    "\n",
    "# импорты сторонних библиотек\n",
    "import pandas as pd\n",
    "import matplotlib.pyplot as plt\n",
    "\n",
    "# импорты модулей текущего проекта\n",
    "from sklearn.linear_model import LogisticRegression\n",
    "from sklearn.tree import DecisionTreeClassifier\n",
    "from sklearn.ensemble import RandomForestClassifier\n",
    "from sklearn.model_selection import GridSearchCV\n",
    "from sklearn.model_selection import train_test_split\n",
    "from sklearn.utils import shuffle\n",
    "from sklearn.preprocessing import (\n",
    "    StandardScaler, \n",
    "    OneHotEncoder\n",
    ")\n",
    "from sklearn.metrics import (\n",
    "    f1_score,\n",
    "    accuracy_score,\n",
    "    precision_score,\n",
    "    recall_score,\n",
    "    roc_auc_score,\n",
    "    roc_curve\n",
    ")\n",
    "from sklearn.dummy import DummyClassifier\n",
    "\n",
    "# настройки\n",
    "warnings.filterwarnings(\"ignore\")\n",
    "\n",
    "# константы\n",
    "RANDOM_STATE = 12345\n"
   ]
  },
  {
   "cell_type": "markdown",
   "id": "251c05bf",
   "metadata": {},
   "source": [
    "Импортируем данные и сразу на них взглянем"
   ]
  },
  {
   "cell_type": "code",
   "execution_count": 2,
   "id": "c8c33cb4",
   "metadata": {},
   "outputs": [
    {
     "data": {
      "text/html": [
       "<div>\n",
       "<style scoped>\n",
       "    .dataframe tbody tr th:only-of-type {\n",
       "        vertical-align: middle;\n",
       "    }\n",
       "\n",
       "    .dataframe tbody tr th {\n",
       "        vertical-align: top;\n",
       "    }\n",
       "\n",
       "    .dataframe thead th {\n",
       "        text-align: right;\n",
       "    }\n",
       "</style>\n",
       "<table border=\"1\" class=\"dataframe\">\n",
       "  <thead>\n",
       "    <tr style=\"text-align: right;\">\n",
       "      <th></th>\n",
       "      <th>RowNumber</th>\n",
       "      <th>CustomerId</th>\n",
       "      <th>Surname</th>\n",
       "      <th>CreditScore</th>\n",
       "      <th>Geography</th>\n",
       "      <th>Gender</th>\n",
       "      <th>Age</th>\n",
       "      <th>Tenure</th>\n",
       "      <th>Balance</th>\n",
       "      <th>NumOfProducts</th>\n",
       "      <th>HasCrCard</th>\n",
       "      <th>IsActiveMember</th>\n",
       "      <th>EstimatedSalary</th>\n",
       "      <th>Exited</th>\n",
       "    </tr>\n",
       "  </thead>\n",
       "  <tbody>\n",
       "    <tr>\n",
       "      <th>0</th>\n",
       "      <td>1</td>\n",
       "      <td>15634602</td>\n",
       "      <td>Hargrave</td>\n",
       "      <td>619</td>\n",
       "      <td>France</td>\n",
       "      <td>Female</td>\n",
       "      <td>42</td>\n",
       "      <td>2.0</td>\n",
       "      <td>0.00</td>\n",
       "      <td>1</td>\n",
       "      <td>1</td>\n",
       "      <td>1</td>\n",
       "      <td>101348.88</td>\n",
       "      <td>1</td>\n",
       "    </tr>\n",
       "    <tr>\n",
       "      <th>1</th>\n",
       "      <td>2</td>\n",
       "      <td>15647311</td>\n",
       "      <td>Hill</td>\n",
       "      <td>608</td>\n",
       "      <td>Spain</td>\n",
       "      <td>Female</td>\n",
       "      <td>41</td>\n",
       "      <td>1.0</td>\n",
       "      <td>83807.86</td>\n",
       "      <td>1</td>\n",
       "      <td>0</td>\n",
       "      <td>1</td>\n",
       "      <td>112542.58</td>\n",
       "      <td>0</td>\n",
       "    </tr>\n",
       "    <tr>\n",
       "      <th>2</th>\n",
       "      <td>3</td>\n",
       "      <td>15619304</td>\n",
       "      <td>Onio</td>\n",
       "      <td>502</td>\n",
       "      <td>France</td>\n",
       "      <td>Female</td>\n",
       "      <td>42</td>\n",
       "      <td>8.0</td>\n",
       "      <td>159660.80</td>\n",
       "      <td>3</td>\n",
       "      <td>1</td>\n",
       "      <td>0</td>\n",
       "      <td>113931.57</td>\n",
       "      <td>1</td>\n",
       "    </tr>\n",
       "    <tr>\n",
       "      <th>3</th>\n",
       "      <td>4</td>\n",
       "      <td>15701354</td>\n",
       "      <td>Boni</td>\n",
       "      <td>699</td>\n",
       "      <td>France</td>\n",
       "      <td>Female</td>\n",
       "      <td>39</td>\n",
       "      <td>1.0</td>\n",
       "      <td>0.00</td>\n",
       "      <td>2</td>\n",
       "      <td>0</td>\n",
       "      <td>0</td>\n",
       "      <td>93826.63</td>\n",
       "      <td>0</td>\n",
       "    </tr>\n",
       "    <tr>\n",
       "      <th>4</th>\n",
       "      <td>5</td>\n",
       "      <td>15737888</td>\n",
       "      <td>Mitchell</td>\n",
       "      <td>850</td>\n",
       "      <td>Spain</td>\n",
       "      <td>Female</td>\n",
       "      <td>43</td>\n",
       "      <td>2.0</td>\n",
       "      <td>125510.82</td>\n",
       "      <td>1</td>\n",
       "      <td>1</td>\n",
       "      <td>1</td>\n",
       "      <td>79084.10</td>\n",
       "      <td>0</td>\n",
       "    </tr>\n",
       "  </tbody>\n",
       "</table>\n",
       "</div>"
      ],
      "text/plain": [
       "   RowNumber  CustomerId   Surname  CreditScore Geography  Gender  Age  \\\n",
       "0          1    15634602  Hargrave          619    France  Female   42   \n",
       "1          2    15647311      Hill          608     Spain  Female   41   \n",
       "2          3    15619304      Onio          502    France  Female   42   \n",
       "3          4    15701354      Boni          699    France  Female   39   \n",
       "4          5    15737888  Mitchell          850     Spain  Female   43   \n",
       "\n",
       "   Tenure    Balance  NumOfProducts  HasCrCard  IsActiveMember  \\\n",
       "0     2.0       0.00              1          1               1   \n",
       "1     1.0   83807.86              1          0               1   \n",
       "2     8.0  159660.80              3          1               0   \n",
       "3     1.0       0.00              2          0               0   \n",
       "4     2.0  125510.82              1          1               1   \n",
       "\n",
       "   EstimatedSalary  Exited  \n",
       "0        101348.88       1  \n",
       "1        112542.58       0  \n",
       "2        113931.57       1  \n",
       "3         93826.63       0  \n",
       "4         79084.10       0  "
      ]
     },
     "execution_count": 2,
     "metadata": {},
     "output_type": "execute_result"
    }
   ],
   "source": [
    "try:\n",
    "    churn = pd.read_csv('Churn.csv')\n",
    "except:\n",
    "    churn = pd.read_csv('/datasets/Churn.csv')\n",
    "\n",
    "churn.head()"
   ]
  },
  {
   "cell_type": "code",
   "execution_count": 3,
   "id": "67f830c1",
   "metadata": {},
   "outputs": [
    {
     "name": "stdout",
     "output_type": "stream",
     "text": [
      "<class 'pandas.core.frame.DataFrame'>\n",
      "RangeIndex: 10000 entries, 0 to 9999\n",
      "Data columns (total 14 columns):\n",
      " #   Column           Non-Null Count  Dtype  \n",
      "---  ------           --------------  -----  \n",
      " 0   RowNumber        10000 non-null  int64  \n",
      " 1   CustomerId       10000 non-null  int64  \n",
      " 2   Surname          10000 non-null  object \n",
      " 3   CreditScore      10000 non-null  int64  \n",
      " 4   Geography        10000 non-null  object \n",
      " 5   Gender           10000 non-null  object \n",
      " 6   Age              10000 non-null  int64  \n",
      " 7   Tenure           9091 non-null   float64\n",
      " 8   Balance          10000 non-null  float64\n",
      " 9   NumOfProducts    10000 non-null  int64  \n",
      " 10  HasCrCard        10000 non-null  int64  \n",
      " 11  IsActiveMember   10000 non-null  int64  \n",
      " 12  EstimatedSalary  10000 non-null  float64\n",
      " 13  Exited           10000 non-null  int64  \n",
      "dtypes: float64(3), int64(8), object(3)\n",
      "memory usage: 1.1+ MB\n"
     ]
    }
   ],
   "source": [
    "churn.info()"
   ]
  },
  {
   "cell_type": "markdown",
   "id": "76c32f6e",
   "metadata": {},
   "source": [
    "Видно, что тут есть над чем поработать, подробнее о предобработке чуть ниже."
   ]
  },
  {
   "cell_type": "code",
   "execution_count": 4,
   "id": "36a2c151",
   "metadata": {},
   "outputs": [
    {
     "data": {
      "text/html": [
       "<div>\n",
       "<style scoped>\n",
       "    .dataframe tbody tr th:only-of-type {\n",
       "        vertical-align: middle;\n",
       "    }\n",
       "\n",
       "    .dataframe tbody tr th {\n",
       "        vertical-align: top;\n",
       "    }\n",
       "\n",
       "    .dataframe thead th {\n",
       "        text-align: right;\n",
       "    }\n",
       "</style>\n",
       "<table border=\"1\" class=\"dataframe\">\n",
       "  <thead>\n",
       "    <tr style=\"text-align: right;\">\n",
       "      <th></th>\n",
       "      <th>RowNumber</th>\n",
       "      <th>CustomerId</th>\n",
       "      <th>Surname</th>\n",
       "      <th>CreditScore</th>\n",
       "      <th>Geography</th>\n",
       "      <th>Gender</th>\n",
       "      <th>Age</th>\n",
       "      <th>Tenure</th>\n",
       "      <th>Balance</th>\n",
       "      <th>NumOfProducts</th>\n",
       "      <th>HasCrCard</th>\n",
       "      <th>IsActiveMember</th>\n",
       "      <th>EstimatedSalary</th>\n",
       "      <th>Exited</th>\n",
       "    </tr>\n",
       "  </thead>\n",
       "  <tbody>\n",
       "    <tr>\n",
       "      <th>count</th>\n",
       "      <td>10000.00000</td>\n",
       "      <td>1.000000e+04</td>\n",
       "      <td>10000</td>\n",
       "      <td>10000.000000</td>\n",
       "      <td>10000</td>\n",
       "      <td>10000</td>\n",
       "      <td>10000.000000</td>\n",
       "      <td>9091.000000</td>\n",
       "      <td>10000.000000</td>\n",
       "      <td>10000.000000</td>\n",
       "      <td>10000.00000</td>\n",
       "      <td>10000.000000</td>\n",
       "      <td>10000.000000</td>\n",
       "      <td>10000.000000</td>\n",
       "    </tr>\n",
       "    <tr>\n",
       "      <th>unique</th>\n",
       "      <td>NaN</td>\n",
       "      <td>NaN</td>\n",
       "      <td>2932</td>\n",
       "      <td>NaN</td>\n",
       "      <td>3</td>\n",
       "      <td>2</td>\n",
       "      <td>NaN</td>\n",
       "      <td>NaN</td>\n",
       "      <td>NaN</td>\n",
       "      <td>NaN</td>\n",
       "      <td>NaN</td>\n",
       "      <td>NaN</td>\n",
       "      <td>NaN</td>\n",
       "      <td>NaN</td>\n",
       "    </tr>\n",
       "    <tr>\n",
       "      <th>top</th>\n",
       "      <td>NaN</td>\n",
       "      <td>NaN</td>\n",
       "      <td>Smith</td>\n",
       "      <td>NaN</td>\n",
       "      <td>France</td>\n",
       "      <td>Male</td>\n",
       "      <td>NaN</td>\n",
       "      <td>NaN</td>\n",
       "      <td>NaN</td>\n",
       "      <td>NaN</td>\n",
       "      <td>NaN</td>\n",
       "      <td>NaN</td>\n",
       "      <td>NaN</td>\n",
       "      <td>NaN</td>\n",
       "    </tr>\n",
       "    <tr>\n",
       "      <th>freq</th>\n",
       "      <td>NaN</td>\n",
       "      <td>NaN</td>\n",
       "      <td>32</td>\n",
       "      <td>NaN</td>\n",
       "      <td>5014</td>\n",
       "      <td>5457</td>\n",
       "      <td>NaN</td>\n",
       "      <td>NaN</td>\n",
       "      <td>NaN</td>\n",
       "      <td>NaN</td>\n",
       "      <td>NaN</td>\n",
       "      <td>NaN</td>\n",
       "      <td>NaN</td>\n",
       "      <td>NaN</td>\n",
       "    </tr>\n",
       "    <tr>\n",
       "      <th>mean</th>\n",
       "      <td>5000.50000</td>\n",
       "      <td>1.569094e+07</td>\n",
       "      <td>NaN</td>\n",
       "      <td>650.528800</td>\n",
       "      <td>NaN</td>\n",
       "      <td>NaN</td>\n",
       "      <td>38.921800</td>\n",
       "      <td>4.997690</td>\n",
       "      <td>76485.889288</td>\n",
       "      <td>1.530200</td>\n",
       "      <td>0.70550</td>\n",
       "      <td>0.515100</td>\n",
       "      <td>100090.239881</td>\n",
       "      <td>0.203700</td>\n",
       "    </tr>\n",
       "    <tr>\n",
       "      <th>std</th>\n",
       "      <td>2886.89568</td>\n",
       "      <td>7.193619e+04</td>\n",
       "      <td>NaN</td>\n",
       "      <td>96.653299</td>\n",
       "      <td>NaN</td>\n",
       "      <td>NaN</td>\n",
       "      <td>10.487806</td>\n",
       "      <td>2.894723</td>\n",
       "      <td>62397.405202</td>\n",
       "      <td>0.581654</td>\n",
       "      <td>0.45584</td>\n",
       "      <td>0.499797</td>\n",
       "      <td>57510.492818</td>\n",
       "      <td>0.402769</td>\n",
       "    </tr>\n",
       "    <tr>\n",
       "      <th>min</th>\n",
       "      <td>1.00000</td>\n",
       "      <td>1.556570e+07</td>\n",
       "      <td>NaN</td>\n",
       "      <td>350.000000</td>\n",
       "      <td>NaN</td>\n",
       "      <td>NaN</td>\n",
       "      <td>18.000000</td>\n",
       "      <td>0.000000</td>\n",
       "      <td>0.000000</td>\n",
       "      <td>1.000000</td>\n",
       "      <td>0.00000</td>\n",
       "      <td>0.000000</td>\n",
       "      <td>11.580000</td>\n",
       "      <td>0.000000</td>\n",
       "    </tr>\n",
       "    <tr>\n",
       "      <th>25%</th>\n",
       "      <td>2500.75000</td>\n",
       "      <td>1.562853e+07</td>\n",
       "      <td>NaN</td>\n",
       "      <td>584.000000</td>\n",
       "      <td>NaN</td>\n",
       "      <td>NaN</td>\n",
       "      <td>32.000000</td>\n",
       "      <td>2.000000</td>\n",
       "      <td>0.000000</td>\n",
       "      <td>1.000000</td>\n",
       "      <td>0.00000</td>\n",
       "      <td>0.000000</td>\n",
       "      <td>51002.110000</td>\n",
       "      <td>0.000000</td>\n",
       "    </tr>\n",
       "    <tr>\n",
       "      <th>50%</th>\n",
       "      <td>5000.50000</td>\n",
       "      <td>1.569074e+07</td>\n",
       "      <td>NaN</td>\n",
       "      <td>652.000000</td>\n",
       "      <td>NaN</td>\n",
       "      <td>NaN</td>\n",
       "      <td>37.000000</td>\n",
       "      <td>5.000000</td>\n",
       "      <td>97198.540000</td>\n",
       "      <td>1.000000</td>\n",
       "      <td>1.00000</td>\n",
       "      <td>1.000000</td>\n",
       "      <td>100193.915000</td>\n",
       "      <td>0.000000</td>\n",
       "    </tr>\n",
       "    <tr>\n",
       "      <th>75%</th>\n",
       "      <td>7500.25000</td>\n",
       "      <td>1.575323e+07</td>\n",
       "      <td>NaN</td>\n",
       "      <td>718.000000</td>\n",
       "      <td>NaN</td>\n",
       "      <td>NaN</td>\n",
       "      <td>44.000000</td>\n",
       "      <td>7.000000</td>\n",
       "      <td>127644.240000</td>\n",
       "      <td>2.000000</td>\n",
       "      <td>1.00000</td>\n",
       "      <td>1.000000</td>\n",
       "      <td>149388.247500</td>\n",
       "      <td>0.000000</td>\n",
       "    </tr>\n",
       "    <tr>\n",
       "      <th>max</th>\n",
       "      <td>10000.00000</td>\n",
       "      <td>1.581569e+07</td>\n",
       "      <td>NaN</td>\n",
       "      <td>850.000000</td>\n",
       "      <td>NaN</td>\n",
       "      <td>NaN</td>\n",
       "      <td>92.000000</td>\n",
       "      <td>10.000000</td>\n",
       "      <td>250898.090000</td>\n",
       "      <td>4.000000</td>\n",
       "      <td>1.00000</td>\n",
       "      <td>1.000000</td>\n",
       "      <td>199992.480000</td>\n",
       "      <td>1.000000</td>\n",
       "    </tr>\n",
       "  </tbody>\n",
       "</table>\n",
       "</div>"
      ],
      "text/plain": [
       "          RowNumber    CustomerId Surname   CreditScore Geography Gender  \\\n",
       "count   10000.00000  1.000000e+04   10000  10000.000000     10000  10000   \n",
       "unique          NaN           NaN    2932           NaN         3      2   \n",
       "top             NaN           NaN   Smith           NaN    France   Male   \n",
       "freq            NaN           NaN      32           NaN      5014   5457   \n",
       "mean     5000.50000  1.569094e+07     NaN    650.528800       NaN    NaN   \n",
       "std      2886.89568  7.193619e+04     NaN     96.653299       NaN    NaN   \n",
       "min         1.00000  1.556570e+07     NaN    350.000000       NaN    NaN   \n",
       "25%      2500.75000  1.562853e+07     NaN    584.000000       NaN    NaN   \n",
       "50%      5000.50000  1.569074e+07     NaN    652.000000       NaN    NaN   \n",
       "75%      7500.25000  1.575323e+07     NaN    718.000000       NaN    NaN   \n",
       "max     10000.00000  1.581569e+07     NaN    850.000000       NaN    NaN   \n",
       "\n",
       "                 Age       Tenure        Balance  NumOfProducts    HasCrCard  \\\n",
       "count   10000.000000  9091.000000   10000.000000   10000.000000  10000.00000   \n",
       "unique           NaN          NaN            NaN            NaN          NaN   \n",
       "top              NaN          NaN            NaN            NaN          NaN   \n",
       "freq             NaN          NaN            NaN            NaN          NaN   \n",
       "mean       38.921800     4.997690   76485.889288       1.530200      0.70550   \n",
       "std        10.487806     2.894723   62397.405202       0.581654      0.45584   \n",
       "min        18.000000     0.000000       0.000000       1.000000      0.00000   \n",
       "25%        32.000000     2.000000       0.000000       1.000000      0.00000   \n",
       "50%        37.000000     5.000000   97198.540000       1.000000      1.00000   \n",
       "75%        44.000000     7.000000  127644.240000       2.000000      1.00000   \n",
       "max        92.000000    10.000000  250898.090000       4.000000      1.00000   \n",
       "\n",
       "        IsActiveMember  EstimatedSalary        Exited  \n",
       "count     10000.000000     10000.000000  10000.000000  \n",
       "unique             NaN              NaN           NaN  \n",
       "top                NaN              NaN           NaN  \n",
       "freq               NaN              NaN           NaN  \n",
       "mean          0.515100    100090.239881      0.203700  \n",
       "std           0.499797     57510.492818      0.402769  \n",
       "min           0.000000        11.580000      0.000000  \n",
       "25%           0.000000     51002.110000      0.000000  \n",
       "50%           1.000000    100193.915000      0.000000  \n",
       "75%           1.000000    149388.247500      0.000000  \n",
       "max           1.000000    199992.480000      1.000000  "
      ]
     },
     "execution_count": 4,
     "metadata": {},
     "output_type": "execute_result"
    }
   ],
   "source": [
    "churn.describe(include='all')"
   ]
  },
  {
   "cell_type": "markdown",
   "id": "b0c19cf8",
   "metadata": {},
   "source": [
    "Вижу *несколько проблем* с этим датасетом, две связаны со столбцом `Tenure`:\n",
    "1. Названия столбцов не в **snake_case**\n",
    "2. Есть пропущенные значения в столбце Tenure\n",
    "3. Столбец Tenure имеет тип `float`, когда нужен `int`\n",
    "4. Столбцы Geography и Gender имеют тип `object`, а т.к. они содержат категориальные данные, их нужно привести к численному виду\n",
    "5. Столбец Surname категориальный и имеет тип `object`, его можно было бы закодировать, но это просто фамилии и уникальных значений в этом столбце - 2932. Удалим его, он будет мешать моделям обучаться, также можно поступить и со столбцами RowNumber и CustomerId\n",
    "\n",
    "С остальным, похоже, *все в порядке*"
   ]
  },
  {
   "cell_type": "markdown",
   "id": "f78146f2",
   "metadata": {},
   "source": [
    "### Приведение названий столбцов к `snake_case`"
   ]
  },
  {
   "cell_type": "markdown",
   "id": "58c14522",
   "metadata": {},
   "source": [
    "Сначала хотел написать функцию сам, но, наткнулся на элегантное решение, его и оставим."
   ]
  },
  {
   "cell_type": "code",
   "execution_count": 5,
   "id": "a72c532e",
   "metadata": {},
   "outputs": [],
   "source": [
    "# объявим функцию camel_to_snake\n",
    "def camel_to_snake(name):\n",
    "    '''\n",
    "    Функция принимает на вход CamelCase строку, а возвращает snake_case строку\n",
    "    '''\n",
    "    # sub возвращает новую строку, полученную в результате замены по указанному шаблону\n",
    "    name = re.sub('(.)([A-Z][a-z]+)', r'\\1_\\2', name)\n",
    "    return re.sub('([a-z0-9])([A-Z])', r'\\1_\\2', name).lower()"
   ]
  },
  {
   "cell_type": "markdown",
   "id": "d0aaac16",
   "metadata": {},
   "source": [
    "Остается только применить функцию к каждому столбцу, поможет в этом функция `map()`"
   ]
  },
  {
   "cell_type": "code",
   "execution_count": 6,
   "id": "e268c2a9",
   "metadata": {},
   "outputs": [
    {
     "data": {
      "text/plain": [
       "Index(['row_number', 'customer_id', 'surname', 'credit_score', 'geography',\n",
       "       'gender', 'age', 'tenure', 'balance', 'num_of_products', 'has_cr_card',\n",
       "       'is_active_member', 'estimated_salary', 'exited'],\n",
       "      dtype='object')"
      ]
     },
     "execution_count": 6,
     "metadata": {},
     "output_type": "execute_result"
    }
   ],
   "source": [
    "churn.columns = map(camel_to_snake, churn.columns)\n",
    "churn.columns"
   ]
  },
  {
   "cell_type": "markdown",
   "id": "4530d5ba",
   "metadata": {},
   "source": [
    "Отлично, теперь столбцы приведены к красивому snake_case"
   ]
  },
  {
   "cell_type": "markdown",
   "id": "6d7923ad",
   "metadata": {},
   "source": [
    "### Пропуски данных в столбце `Tenure`"
   ]
  },
  {
   "cell_type": "markdown",
   "id": "ff7e1a00",
   "metadata": {},
   "source": [
    "Пропусков довольно много, целых тысяча штук, не думаю, что заполнять их медианным или средним значением будет хорошей идеей. **Удалим строки с пропусками**"
   ]
  },
  {
   "cell_type": "code",
   "execution_count": 7,
   "id": "9e829119",
   "metadata": {},
   "outputs": [
    {
     "name": "stdout",
     "output_type": "stream",
     "text": [
      "<class 'pandas.core.frame.DataFrame'>\n",
      "RangeIndex: 9091 entries, 0 to 9090\n",
      "Data columns (total 14 columns):\n",
      " #   Column            Non-Null Count  Dtype  \n",
      "---  ------            --------------  -----  \n",
      " 0   row_number        9091 non-null   int64  \n",
      " 1   customer_id       9091 non-null   int64  \n",
      " 2   surname           9091 non-null   object \n",
      " 3   credit_score      9091 non-null   int64  \n",
      " 4   geography         9091 non-null   object \n",
      " 5   gender            9091 non-null   object \n",
      " 6   age               9091 non-null   int64  \n",
      " 7   tenure            9091 non-null   float64\n",
      " 8   balance           9091 non-null   float64\n",
      " 9   num_of_products   9091 non-null   int64  \n",
      " 10  has_cr_card       9091 non-null   int64  \n",
      " 11  is_active_member  9091 non-null   int64  \n",
      " 12  estimated_salary  9091 non-null   float64\n",
      " 13  exited            9091 non-null   int64  \n",
      "dtypes: float64(3), int64(8), object(3)\n",
      "memory usage: 994.5+ KB\n"
     ]
    }
   ],
   "source": [
    "# оставляем в датасете только те значения где нет NaN\n",
    "churn = churn.loc[~churn['tenure'].isna()].reset_index(drop=True)\n",
    "\n",
    "# смотрим на обновленную сводку\n",
    "churn.info()"
   ]
  },
  {
   "cell_type": "markdown",
   "id": "28de0be6",
   "metadata": {},
   "source": [
    "Отлично, избавились от пропусков, хоть и потеряли немного данных."
   ]
  },
  {
   "cell_type": "markdown",
   "id": "f4cbe4d7",
   "metadata": {},
   "source": [
    "### Приведение столбца `tenure` к типу данных `int`"
   ]
  },
  {
   "cell_type": "markdown",
   "id": "2ed5e05f",
   "metadata": {},
   "source": [
    "Здесь все должно быть просто, применим `astype('int')` к столбцу `tenure`"
   ]
  },
  {
   "cell_type": "code",
   "execution_count": 8,
   "id": "1cafd716",
   "metadata": {},
   "outputs": [
    {
     "data": {
      "text/plain": [
       "dtype('int32')"
      ]
     },
     "execution_count": 8,
     "metadata": {},
     "output_type": "execute_result"
    }
   ],
   "source": [
    "# приводим к типу int\n",
    "churn['tenure'] = churn['tenure'].astype('int')\n",
    "\n",
    "# проверяем\n",
    "churn['tenure'].dtype"
   ]
  },
  {
   "cell_type": "markdown",
   "id": "f6e9f07b",
   "metadata": {},
   "source": [
    "Справились"
   ]
  },
  {
   "cell_type": "markdown",
   "id": "f43b7bb3",
   "metadata": {},
   "source": [
    "### Удаление столбцов `row_number`,  `customer_id`, `surname`"
   ]
  },
  {
   "cell_type": "code",
   "execution_count": 9,
   "id": "a35aaf70",
   "metadata": {},
   "outputs": [],
   "source": [
    "# удаляем неинформативные столбцы\n",
    "try:\n",
    "    churn = churn.drop(['row_number', 'customer_id', 'surname'], axis=1)\n",
    "except:\n",
    "    print('Уже удалено!')"
   ]
  },
  {
   "cell_type": "code",
   "execution_count": 10,
   "id": "67f63aa8",
   "metadata": {},
   "outputs": [
    {
     "data": {
      "text/html": [
       "<div>\n",
       "<style scoped>\n",
       "    .dataframe tbody tr th:only-of-type {\n",
       "        vertical-align: middle;\n",
       "    }\n",
       "\n",
       "    .dataframe tbody tr th {\n",
       "        vertical-align: top;\n",
       "    }\n",
       "\n",
       "    .dataframe thead th {\n",
       "        text-align: right;\n",
       "    }\n",
       "</style>\n",
       "<table border=\"1\" class=\"dataframe\">\n",
       "  <thead>\n",
       "    <tr style=\"text-align: right;\">\n",
       "      <th></th>\n",
       "      <th>credit_score</th>\n",
       "      <th>geography</th>\n",
       "      <th>gender</th>\n",
       "      <th>age</th>\n",
       "      <th>tenure</th>\n",
       "      <th>balance</th>\n",
       "      <th>num_of_products</th>\n",
       "      <th>has_cr_card</th>\n",
       "      <th>is_active_member</th>\n",
       "      <th>estimated_salary</th>\n",
       "      <th>exited</th>\n",
       "    </tr>\n",
       "  </thead>\n",
       "  <tbody>\n",
       "    <tr>\n",
       "      <th>0</th>\n",
       "      <td>619</td>\n",
       "      <td>France</td>\n",
       "      <td>Female</td>\n",
       "      <td>42</td>\n",
       "      <td>2</td>\n",
       "      <td>0.00</td>\n",
       "      <td>1</td>\n",
       "      <td>1</td>\n",
       "      <td>1</td>\n",
       "      <td>101348.88</td>\n",
       "      <td>1</td>\n",
       "    </tr>\n",
       "    <tr>\n",
       "      <th>1</th>\n",
       "      <td>608</td>\n",
       "      <td>Spain</td>\n",
       "      <td>Female</td>\n",
       "      <td>41</td>\n",
       "      <td>1</td>\n",
       "      <td>83807.86</td>\n",
       "      <td>1</td>\n",
       "      <td>0</td>\n",
       "      <td>1</td>\n",
       "      <td>112542.58</td>\n",
       "      <td>0</td>\n",
       "    </tr>\n",
       "    <tr>\n",
       "      <th>2</th>\n",
       "      <td>502</td>\n",
       "      <td>France</td>\n",
       "      <td>Female</td>\n",
       "      <td>42</td>\n",
       "      <td>8</td>\n",
       "      <td>159660.80</td>\n",
       "      <td>3</td>\n",
       "      <td>1</td>\n",
       "      <td>0</td>\n",
       "      <td>113931.57</td>\n",
       "      <td>1</td>\n",
       "    </tr>\n",
       "    <tr>\n",
       "      <th>3</th>\n",
       "      <td>699</td>\n",
       "      <td>France</td>\n",
       "      <td>Female</td>\n",
       "      <td>39</td>\n",
       "      <td>1</td>\n",
       "      <td>0.00</td>\n",
       "      <td>2</td>\n",
       "      <td>0</td>\n",
       "      <td>0</td>\n",
       "      <td>93826.63</td>\n",
       "      <td>0</td>\n",
       "    </tr>\n",
       "    <tr>\n",
       "      <th>4</th>\n",
       "      <td>850</td>\n",
       "      <td>Spain</td>\n",
       "      <td>Female</td>\n",
       "      <td>43</td>\n",
       "      <td>2</td>\n",
       "      <td>125510.82</td>\n",
       "      <td>1</td>\n",
       "      <td>1</td>\n",
       "      <td>1</td>\n",
       "      <td>79084.10</td>\n",
       "      <td>0</td>\n",
       "    </tr>\n",
       "  </tbody>\n",
       "</table>\n",
       "</div>"
      ],
      "text/plain": [
       "   credit_score geography  gender  age  tenure    balance  num_of_products  \\\n",
       "0           619    France  Female   42       2       0.00                1   \n",
       "1           608     Spain  Female   41       1   83807.86                1   \n",
       "2           502    France  Female   42       8  159660.80                3   \n",
       "3           699    France  Female   39       1       0.00                2   \n",
       "4           850     Spain  Female   43       2  125510.82                1   \n",
       "\n",
       "   has_cr_card  is_active_member  estimated_salary  exited  \n",
       "0            1                 1         101348.88       1  \n",
       "1            0                 1         112542.58       0  \n",
       "2            1                 0         113931.57       1  \n",
       "3            0                 0          93826.63       0  \n",
       "4            1                 1          79084.10       0  "
      ]
     },
     "execution_count": 10,
     "metadata": {},
     "output_type": "execute_result"
    }
   ],
   "source": [
    "# проверяем\n",
    "churn.head()"
   ]
  },
  {
   "cell_type": "markdown",
   "id": "306c4c2e",
   "metadata": {},
   "source": [
    "Справились, столбцы удалены."
   ]
  },
  {
   "cell_type": "markdown",
   "id": "fd0fb3a1",
   "metadata": {},
   "source": [
    "### Приведение столбцов `Geography` и `Gender` к численному виду"
   ]
  },
  {
   "cell_type": "markdown",
   "id": "9c79ffc9",
   "metadata": {},
   "source": [
    "С помощью `OneHotEncoder` (OHE) закодируем эти столбцы, при этом установим параметр `drop_first=True` чтобы не угодить в *дамми ловушку*. Но, для начала, нам придется провести сплит выборки на *обучающую*, *валидационную* и *тестовую*."
   ]
  },
  {
   "cell_type": "code",
   "execution_count": 11,
   "id": "a200b963",
   "metadata": {},
   "outputs": [
    {
     "data": {
      "text/plain": [
       "0    0.796062\n",
       "1    0.203938\n",
       "Name: exited, dtype: float64"
      ]
     },
     "execution_count": 11,
     "metadata": {},
     "output_type": "execute_result"
    }
   ],
   "source": [
    "# отношение классов\n",
    "churn.exited.value_counts(normalize=True)"
   ]
  },
  {
   "cell_type": "markdown",
   "id": "b262c6eb",
   "metadata": {},
   "source": [
    "Имеется дисбаланс, при сплите на выборки сохраним его."
   ]
  },
  {
   "cell_type": "code",
   "execution_count": 12,
   "id": "69c22c73",
   "metadata": {},
   "outputs": [],
   "source": [
    "# X - фичи, y - таргет\n",
    "X = churn.drop('exited', axis=1)\n",
    "y = churn['exited']"
   ]
  },
  {
   "cell_type": "code",
   "execution_count": 13,
   "id": "37f70f00",
   "metadata": {},
   "outputs": [
    {
     "name": "stdout",
     "output_type": "stream",
     "text": [
      "Кол-во строк до сплитов =  9091\n"
     ]
    }
   ],
   "source": [
    "# размер до сплитов\n",
    "print(f'Кол-во строк до сплитов =  {X.shape[0]}')"
   ]
  },
  {
   "cell_type": "markdown",
   "id": "1338a056",
   "metadata": {},
   "source": [
    "Для начала отделим *тренировочную часть* - 60%. С помощью параметра `stratify` сохраним отношение классов."
   ]
  },
  {
   "cell_type": "code",
   "execution_count": 14,
   "id": "dbcd4d0f",
   "metadata": {},
   "outputs": [],
   "source": [
    "X_train, X_rem, y_train, y_rem = train_test_split(X, y, train_size=0.6, stratify=y, random_state=RANDOM_STATE)"
   ]
  },
  {
   "cell_type": "markdown",
   "id": "8fa6e502",
   "metadata": {},
   "source": [
    "Оставшиеся 40% *делим пополам*. С помощью параметра `stratify` сохраним отношение классов."
   ]
  },
  {
   "cell_type": "code",
   "execution_count": 15,
   "id": "cd82df80",
   "metadata": {},
   "outputs": [],
   "source": [
    "X_val, X_test, y_val, y_test = train_test_split(X_rem, y_rem, test_size=0.5, stratify=y_rem, random_state=RANDOM_STATE)"
   ]
  },
  {
   "cell_type": "code",
   "execution_count": 16,
   "id": "a2b219ae",
   "metadata": {},
   "outputs": [
    {
     "name": "stdout",
     "output_type": "stream",
     "text": [
      "X_train = 5454\n",
      "  X_val = 1818\n",
      " X_test = 1819\n",
      "  total = 9091\n"
     ]
    }
   ],
   "source": [
    "# проверим размеры после сплитов\n",
    "print(f'X_train = {X_train.shape[0]}')\n",
    "print(f'  X_val = {X_val.shape[0]}')\n",
    "print(f' X_test = {X_test.shape[0]}')\n",
    "print(f'  total = {X_train.shape[0] + X_val.shape[0] + X_test.shape[0]}')"
   ]
  },
  {
   "cell_type": "markdown",
   "id": "e64c6ec2",
   "metadata": {},
   "source": [
    "Проверим, сохранились ли отношения классов."
   ]
  },
  {
   "cell_type": "code",
   "execution_count": 17,
   "id": "9e422a6a",
   "metadata": {},
   "outputs": [
    {
     "data": {
      "text/plain": [
       "0    0.796113\n",
       "1    0.203887\n",
       "Name: exited, dtype: float64"
      ]
     },
     "execution_count": 17,
     "metadata": {},
     "output_type": "execute_result"
    }
   ],
   "source": [
    "# на трейн выборке все хорошо\n",
    "y_train.value_counts(normalize=True)"
   ]
  },
  {
   "cell_type": "code",
   "execution_count": 18,
   "id": "47101cbd",
   "metadata": {},
   "outputs": [
    {
     "data": {
      "text/plain": [
       "0    0.796042\n",
       "1    0.203958\n",
       "Name: exited, dtype: float64"
      ]
     },
     "execution_count": 18,
     "metadata": {},
     "output_type": "execute_result"
    }
   ],
   "source": [
    "# на тест выборке все хорошо\n",
    "y_test.value_counts(normalize=True)"
   ]
  },
  {
   "cell_type": "code",
   "execution_count": 19,
   "id": "5dfaf042",
   "metadata": {},
   "outputs": [
    {
     "data": {
      "text/plain": [
       "0    0.79593\n",
       "1    0.20407\n",
       "Name: exited, dtype: float64"
      ]
     },
     "execution_count": 19,
     "metadata": {},
     "output_type": "execute_result"
    }
   ],
   "source": [
    "# на валидационной выборке все хорошо\n",
    "y_val.value_counts(normalize=True)"
   ]
  },
  {
   "cell_type": "markdown",
   "id": "40211fb9",
   "metadata": {},
   "source": [
    "Теперь, наконец, приступим к *кодированию*, будем кодировать 4 колонки: 'geography', 'gender', 'tenure', 'num_of_products'.\n",
    "\n",
    "'has_cr_card' и 'is_active_member' - уже dummy признаки."
   ]
  },
  {
   "cell_type": "code",
   "execution_count": 20,
   "id": "aeac18d6",
   "metadata": {},
   "outputs": [
    {
     "data": {
      "text/html": [
       "<div>\n",
       "<style scoped>\n",
       "    .dataframe tbody tr th:only-of-type {\n",
       "        vertical-align: middle;\n",
       "    }\n",
       "\n",
       "    .dataframe tbody tr th {\n",
       "        vertical-align: top;\n",
       "    }\n",
       "\n",
       "    .dataframe thead th {\n",
       "        text-align: right;\n",
       "    }\n",
       "</style>\n",
       "<table border=\"1\" class=\"dataframe\">\n",
       "  <thead>\n",
       "    <tr style=\"text-align: right;\">\n",
       "      <th></th>\n",
       "      <th>credit_score</th>\n",
       "      <th>geography</th>\n",
       "      <th>gender</th>\n",
       "      <th>age</th>\n",
       "      <th>tenure</th>\n",
       "      <th>balance</th>\n",
       "      <th>num_of_products</th>\n",
       "      <th>has_cr_card</th>\n",
       "      <th>is_active_member</th>\n",
       "      <th>estimated_salary</th>\n",
       "    </tr>\n",
       "  </thead>\n",
       "  <tbody>\n",
       "    <tr>\n",
       "      <th>8837</th>\n",
       "      <td>526</td>\n",
       "      <td>France</td>\n",
       "      <td>Male</td>\n",
       "      <td>32</td>\n",
       "      <td>7</td>\n",
       "      <td>125540.05</td>\n",
       "      <td>1</td>\n",
       "      <td>0</td>\n",
       "      <td>0</td>\n",
       "      <td>86786.41</td>\n",
       "    </tr>\n",
       "    <tr>\n",
       "      <th>1090</th>\n",
       "      <td>500</td>\n",
       "      <td>Spain</td>\n",
       "      <td>Female</td>\n",
       "      <td>47</td>\n",
       "      <td>8</td>\n",
       "      <td>128486.11</td>\n",
       "      <td>1</td>\n",
       "      <td>1</td>\n",
       "      <td>0</td>\n",
       "      <td>179227.12</td>\n",
       "    </tr>\n",
       "    <tr>\n",
       "      <th>7609</th>\n",
       "      <td>802</td>\n",
       "      <td>Spain</td>\n",
       "      <td>Male</td>\n",
       "      <td>40</td>\n",
       "      <td>4</td>\n",
       "      <td>0.00</td>\n",
       "      <td>2</td>\n",
       "      <td>1</td>\n",
       "      <td>1</td>\n",
       "      <td>81908.09</td>\n",
       "    </tr>\n",
       "    <tr>\n",
       "      <th>7279</th>\n",
       "      <td>731</td>\n",
       "      <td>Spain</td>\n",
       "      <td>Female</td>\n",
       "      <td>39</td>\n",
       "      <td>2</td>\n",
       "      <td>126816.18</td>\n",
       "      <td>1</td>\n",
       "      <td>1</td>\n",
       "      <td>1</td>\n",
       "      <td>74850.93</td>\n",
       "    </tr>\n",
       "    <tr>\n",
       "      <th>2245</th>\n",
       "      <td>612</td>\n",
       "      <td>Spain</td>\n",
       "      <td>Female</td>\n",
       "      <td>26</td>\n",
       "      <td>4</td>\n",
       "      <td>0.00</td>\n",
       "      <td>2</td>\n",
       "      <td>1</td>\n",
       "      <td>1</td>\n",
       "      <td>179780.74</td>\n",
       "    </tr>\n",
       "  </tbody>\n",
       "</table>\n",
       "</div>"
      ],
      "text/plain": [
       "      credit_score geography  gender  age  tenure    balance  num_of_products  \\\n",
       "8837           526    France    Male   32       7  125540.05                1   \n",
       "1090           500     Spain  Female   47       8  128486.11                1   \n",
       "7609           802     Spain    Male   40       4       0.00                2   \n",
       "7279           731     Spain  Female   39       2  126816.18                1   \n",
       "2245           612     Spain  Female   26       4       0.00                2   \n",
       "\n",
       "      has_cr_card  is_active_member  estimated_salary  \n",
       "8837            0                 0          86786.41  \n",
       "1090            1                 0         179227.12  \n",
       "7609            1                 1          81908.09  \n",
       "7279            1                 1          74850.93  \n",
       "2245            1                 1         179780.74  "
      ]
     },
     "execution_count": 20,
     "metadata": {},
     "output_type": "execute_result"
    }
   ],
   "source": [
    "X_train.head()"
   ]
  },
  {
   "cell_type": "markdown",
   "id": "ab0430a3",
   "metadata": {},
   "source": [
    "Сразу укажем какие признаки будем кодировать и какие масштабировать."
   ]
  },
  {
   "cell_type": "code",
   "execution_count": 21,
   "id": "5946070a",
   "metadata": {},
   "outputs": [],
   "source": [
    "# категориальные признаки для OHE\n",
    "ohe_features = ['geography', 'gender', 'tenure', 'num_of_products']\n",
    "\n",
    "# численные признаки для StandardScaler\n",
    "num_features = ['credit_score', 'age', 'balance', 'estimated_salary']"
   ]
  },
  {
   "cell_type": "markdown",
   "id": "f3f3ccca",
   "metadata": {},
   "source": [
    "В OHE укажем параметр drop='first' - такая настройка удаляет первый признак из закодированных, таким образом обходим dummy-ловушку.\n",
    "\n",
    "Также, задаём параметр handle_unknown='ignore' - игнорируем ранее невстречающиеся значения признака (при transform)"
   ]
  },
  {
   "cell_type": "code",
   "execution_count": 22,
   "id": "ce78a7e5",
   "metadata": {},
   "outputs": [],
   "source": [
    "# создаем энкодер\n",
    "encoder_ohe = OneHotEncoder(drop='first', handle_unknown='ignore', sparse=False)\n",
    "\n",
    "# обучаем энкодер на заданных категориальных признаках тренировочной выборки\n",
    "encoder_ohe.fit(X_train[ohe_features])\n",
    "\n",
    "# добавляем закодированные признаки в X_train\n",
    "X_train[\n",
    "    encoder_ohe.get_feature_names_out()\n",
    "] = encoder_ohe.transform(X_train[ohe_features])\n",
    "\n",
    "# удаляем незакодированные категориальные признаки (изначальные колонки)\n",
    "X_train = X_train.drop(ohe_features, axis=1)"
   ]
  },
  {
   "cell_type": "markdown",
   "id": "025d1c37",
   "metadata": {},
   "source": [
    "Также проведем и масштабирование численных признаков с помощью StandardScaler"
   ]
  },
  {
   "cell_type": "code",
   "execution_count": 23,
   "id": "d1ad2c7e",
   "metadata": {},
   "outputs": [
    {
     "data": {
      "text/html": [
       "<div>\n",
       "<style scoped>\n",
       "    .dataframe tbody tr th:only-of-type {\n",
       "        vertical-align: middle;\n",
       "    }\n",
       "\n",
       "    .dataframe tbody tr th {\n",
       "        vertical-align: top;\n",
       "    }\n",
       "\n",
       "    .dataframe thead th {\n",
       "        text-align: right;\n",
       "    }\n",
       "</style>\n",
       "<table border=\"1\" class=\"dataframe\">\n",
       "  <thead>\n",
       "    <tr style=\"text-align: right;\">\n",
       "      <th></th>\n",
       "      <th>credit_score</th>\n",
       "      <th>age</th>\n",
       "      <th>balance</th>\n",
       "      <th>has_cr_card</th>\n",
       "      <th>is_active_member</th>\n",
       "      <th>estimated_salary</th>\n",
       "      <th>geography_Germany</th>\n",
       "      <th>geography_Spain</th>\n",
       "      <th>gender_Male</th>\n",
       "      <th>tenure_1</th>\n",
       "      <th>...</th>\n",
       "      <th>tenure_4</th>\n",
       "      <th>tenure_5</th>\n",
       "      <th>tenure_6</th>\n",
       "      <th>tenure_7</th>\n",
       "      <th>tenure_8</th>\n",
       "      <th>tenure_9</th>\n",
       "      <th>tenure_10</th>\n",
       "      <th>num_of_products_2</th>\n",
       "      <th>num_of_products_3</th>\n",
       "      <th>num_of_products_4</th>\n",
       "    </tr>\n",
       "  </thead>\n",
       "  <tbody>\n",
       "    <tr>\n",
       "      <th>8837</th>\n",
       "      <td>-1.292898</td>\n",
       "      <td>-0.660843</td>\n",
       "      <td>0.786636</td>\n",
       "      <td>0</td>\n",
       "      <td>0</td>\n",
       "      <td>-0.223548</td>\n",
       "      <td>0.0</td>\n",
       "      <td>0.0</td>\n",
       "      <td>1.0</td>\n",
       "      <td>0.0</td>\n",
       "      <td>...</td>\n",
       "      <td>0.0</td>\n",
       "      <td>0.0</td>\n",
       "      <td>0.0</td>\n",
       "      <td>1.0</td>\n",
       "      <td>0.0</td>\n",
       "      <td>0.0</td>\n",
       "      <td>0.0</td>\n",
       "      <td>0.0</td>\n",
       "      <td>0.0</td>\n",
       "      <td>0.0</td>\n",
       "    </tr>\n",
       "    <tr>\n",
       "      <th>1090</th>\n",
       "      <td>-1.563714</td>\n",
       "      <td>0.778434</td>\n",
       "      <td>0.833795</td>\n",
       "      <td>1</td>\n",
       "      <td>0</td>\n",
       "      <td>1.383021</td>\n",
       "      <td>0.0</td>\n",
       "      <td>1.0</td>\n",
       "      <td>0.0</td>\n",
       "      <td>0.0</td>\n",
       "      <td>...</td>\n",
       "      <td>0.0</td>\n",
       "      <td>0.0</td>\n",
       "      <td>0.0</td>\n",
       "      <td>0.0</td>\n",
       "      <td>1.0</td>\n",
       "      <td>0.0</td>\n",
       "      <td>0.0</td>\n",
       "      <td>0.0</td>\n",
       "      <td>0.0</td>\n",
       "      <td>0.0</td>\n",
       "    </tr>\n",
       "    <tr>\n",
       "      <th>7609</th>\n",
       "      <td>1.581914</td>\n",
       "      <td>0.106771</td>\n",
       "      <td>-1.222967</td>\n",
       "      <td>1</td>\n",
       "      <td>1</td>\n",
       "      <td>-0.308331</td>\n",
       "      <td>0.0</td>\n",
       "      <td>1.0</td>\n",
       "      <td>1.0</td>\n",
       "      <td>0.0</td>\n",
       "      <td>...</td>\n",
       "      <td>1.0</td>\n",
       "      <td>0.0</td>\n",
       "      <td>0.0</td>\n",
       "      <td>0.0</td>\n",
       "      <td>0.0</td>\n",
       "      <td>0.0</td>\n",
       "      <td>0.0</td>\n",
       "      <td>1.0</td>\n",
       "      <td>0.0</td>\n",
       "      <td>0.0</td>\n",
       "    </tr>\n",
       "    <tr>\n",
       "      <th>7279</th>\n",
       "      <td>0.842379</td>\n",
       "      <td>0.010820</td>\n",
       "      <td>0.807063</td>\n",
       "      <td>1</td>\n",
       "      <td>1</td>\n",
       "      <td>-0.430980</td>\n",
       "      <td>0.0</td>\n",
       "      <td>1.0</td>\n",
       "      <td>0.0</td>\n",
       "      <td>0.0</td>\n",
       "      <td>...</td>\n",
       "      <td>0.0</td>\n",
       "      <td>0.0</td>\n",
       "      <td>0.0</td>\n",
       "      <td>0.0</td>\n",
       "      <td>0.0</td>\n",
       "      <td>0.0</td>\n",
       "      <td>0.0</td>\n",
       "      <td>0.0</td>\n",
       "      <td>0.0</td>\n",
       "      <td>0.0</td>\n",
       "    </tr>\n",
       "    <tr>\n",
       "      <th>2245</th>\n",
       "      <td>-0.397123</td>\n",
       "      <td>-1.236554</td>\n",
       "      <td>-1.222967</td>\n",
       "      <td>1</td>\n",
       "      <td>1</td>\n",
       "      <td>1.392642</td>\n",
       "      <td>0.0</td>\n",
       "      <td>1.0</td>\n",
       "      <td>0.0</td>\n",
       "      <td>0.0</td>\n",
       "      <td>...</td>\n",
       "      <td>1.0</td>\n",
       "      <td>0.0</td>\n",
       "      <td>0.0</td>\n",
       "      <td>0.0</td>\n",
       "      <td>0.0</td>\n",
       "      <td>0.0</td>\n",
       "      <td>0.0</td>\n",
       "      <td>1.0</td>\n",
       "      <td>0.0</td>\n",
       "      <td>0.0</td>\n",
       "    </tr>\n",
       "  </tbody>\n",
       "</table>\n",
       "<p>5 rows × 22 columns</p>\n",
       "</div>"
      ],
      "text/plain": [
       "      credit_score       age   balance  has_cr_card  is_active_member  \\\n",
       "8837     -1.292898 -0.660843  0.786636            0                 0   \n",
       "1090     -1.563714  0.778434  0.833795            1                 0   \n",
       "7609      1.581914  0.106771 -1.222967            1                 1   \n",
       "7279      0.842379  0.010820  0.807063            1                 1   \n",
       "2245     -0.397123 -1.236554 -1.222967            1                 1   \n",
       "\n",
       "      estimated_salary  geography_Germany  geography_Spain  gender_Male  \\\n",
       "8837         -0.223548                0.0              0.0          1.0   \n",
       "1090          1.383021                0.0              1.0          0.0   \n",
       "7609         -0.308331                0.0              1.0          1.0   \n",
       "7279         -0.430980                0.0              1.0          0.0   \n",
       "2245          1.392642                0.0              1.0          0.0   \n",
       "\n",
       "      tenure_1  ...  tenure_4  tenure_5  tenure_6  tenure_7  tenure_8  \\\n",
       "8837       0.0  ...       0.0       0.0       0.0       1.0       0.0   \n",
       "1090       0.0  ...       0.0       0.0       0.0       0.0       1.0   \n",
       "7609       0.0  ...       1.0       0.0       0.0       0.0       0.0   \n",
       "7279       0.0  ...       0.0       0.0       0.0       0.0       0.0   \n",
       "2245       0.0  ...       1.0       0.0       0.0       0.0       0.0   \n",
       "\n",
       "      tenure_9  tenure_10  num_of_products_2  num_of_products_3  \\\n",
       "8837       0.0        0.0                0.0                0.0   \n",
       "1090       0.0        0.0                0.0                0.0   \n",
       "7609       0.0        0.0                1.0                0.0   \n",
       "7279       0.0        0.0                0.0                0.0   \n",
       "2245       0.0        0.0                1.0                0.0   \n",
       "\n",
       "      num_of_products_4  \n",
       "8837                0.0  \n",
       "1090                0.0  \n",
       "7609                0.0  \n",
       "7279                0.0  \n",
       "2245                0.0  \n",
       "\n",
       "[5 rows x 22 columns]"
      ]
     },
     "execution_count": 23,
     "metadata": {},
     "output_type": "execute_result"
    }
   ],
   "source": [
    "# создаём скелер\n",
    "scaler = StandardScaler()\n",
    "\n",
    "# обучаем его на численных признаках тренировочной выборки, трансформируем её же\n",
    "X_train[num_features] = scaler.fit_transform(X_train[num_features])\n",
    "\n",
    "# выведем первые 5 строк\n",
    "X_train.head()"
   ]
  },
  {
   "cell_type": "markdown",
   "id": "cdec381e",
   "metadata": {},
   "source": [
    "Сделаем тоже самое для *валидационной* и *тестовой* выборкок"
   ]
  },
  {
   "cell_type": "code",
   "execution_count": 24,
   "id": "7d10d92b",
   "metadata": {},
   "outputs": [
    {
     "data": {
      "text/html": [
       "<div>\n",
       "<style scoped>\n",
       "    .dataframe tbody tr th:only-of-type {\n",
       "        vertical-align: middle;\n",
       "    }\n",
       "\n",
       "    .dataframe tbody tr th {\n",
       "        vertical-align: top;\n",
       "    }\n",
       "\n",
       "    .dataframe thead th {\n",
       "        text-align: right;\n",
       "    }\n",
       "</style>\n",
       "<table border=\"1\" class=\"dataframe\">\n",
       "  <thead>\n",
       "    <tr style=\"text-align: right;\">\n",
       "      <th></th>\n",
       "      <th>credit_score</th>\n",
       "      <th>age</th>\n",
       "      <th>balance</th>\n",
       "      <th>has_cr_card</th>\n",
       "      <th>is_active_member</th>\n",
       "      <th>estimated_salary</th>\n",
       "      <th>geography_Germany</th>\n",
       "      <th>geography_Spain</th>\n",
       "      <th>gender_Male</th>\n",
       "      <th>tenure_1</th>\n",
       "      <th>...</th>\n",
       "      <th>tenure_4</th>\n",
       "      <th>tenure_5</th>\n",
       "      <th>tenure_6</th>\n",
       "      <th>tenure_7</th>\n",
       "      <th>tenure_8</th>\n",
       "      <th>tenure_9</th>\n",
       "      <th>tenure_10</th>\n",
       "      <th>num_of_products_2</th>\n",
       "      <th>num_of_products_3</th>\n",
       "      <th>num_of_products_4</th>\n",
       "    </tr>\n",
       "  </thead>\n",
       "  <tbody>\n",
       "    <tr>\n",
       "      <th>3726</th>\n",
       "      <td>0.259084</td>\n",
       "      <td>-0.660843</td>\n",
       "      <td>-1.222967</td>\n",
       "      <td>1</td>\n",
       "      <td>0</td>\n",
       "      <td>1.597110</td>\n",
       "      <td>0.0</td>\n",
       "      <td>1.0</td>\n",
       "      <td>1.0</td>\n",
       "      <td>0.0</td>\n",
       "      <td>...</td>\n",
       "      <td>0.0</td>\n",
       "      <td>0.0</td>\n",
       "      <td>0.0</td>\n",
       "      <td>0.0</td>\n",
       "      <td>0.0</td>\n",
       "      <td>0.0</td>\n",
       "      <td>1.0</td>\n",
       "      <td>1.0</td>\n",
       "      <td>0.0</td>\n",
       "      <td>0.0</td>\n",
       "    </tr>\n",
       "    <tr>\n",
       "      <th>4661</th>\n",
       "      <td>1.394426</td>\n",
       "      <td>-0.085132</td>\n",
       "      <td>0.994334</td>\n",
       "      <td>1</td>\n",
       "      <td>1</td>\n",
       "      <td>1.253399</td>\n",
       "      <td>1.0</td>\n",
       "      <td>0.0</td>\n",
       "      <td>1.0</td>\n",
       "      <td>1.0</td>\n",
       "      <td>...</td>\n",
       "      <td>0.0</td>\n",
       "      <td>0.0</td>\n",
       "      <td>0.0</td>\n",
       "      <td>0.0</td>\n",
       "      <td>0.0</td>\n",
       "      <td>0.0</td>\n",
       "      <td>0.0</td>\n",
       "      <td>0.0</td>\n",
       "      <td>0.0</td>\n",
       "      <td>0.0</td>\n",
       "    </tr>\n",
       "    <tr>\n",
       "      <th>8400</th>\n",
       "      <td>-0.063812</td>\n",
       "      <td>0.970338</td>\n",
       "      <td>-1.222967</td>\n",
       "      <td>1</td>\n",
       "      <td>1</td>\n",
       "      <td>0.789730</td>\n",
       "      <td>0.0</td>\n",
       "      <td>1.0</td>\n",
       "      <td>1.0</td>\n",
       "      <td>0.0</td>\n",
       "      <td>...</td>\n",
       "      <td>0.0</td>\n",
       "      <td>0.0</td>\n",
       "      <td>0.0</td>\n",
       "      <td>0.0</td>\n",
       "      <td>0.0</td>\n",
       "      <td>0.0</td>\n",
       "      <td>1.0</td>\n",
       "      <td>1.0</td>\n",
       "      <td>0.0</td>\n",
       "      <td>0.0</td>\n",
       "    </tr>\n",
       "    <tr>\n",
       "      <th>6135</th>\n",
       "      <td>0.696555</td>\n",
       "      <td>-0.277036</td>\n",
       "      <td>0.425659</td>\n",
       "      <td>0</td>\n",
       "      <td>1</td>\n",
       "      <td>-0.877030</td>\n",
       "      <td>0.0</td>\n",
       "      <td>1.0</td>\n",
       "      <td>1.0</td>\n",
       "      <td>0.0</td>\n",
       "      <td>...</td>\n",
       "      <td>0.0</td>\n",
       "      <td>0.0</td>\n",
       "      <td>0.0</td>\n",
       "      <td>0.0</td>\n",
       "      <td>0.0</td>\n",
       "      <td>0.0</td>\n",
       "      <td>0.0</td>\n",
       "      <td>1.0</td>\n",
       "      <td>0.0</td>\n",
       "      <td>0.0</td>\n",
       "    </tr>\n",
       "    <tr>\n",
       "      <th>8853</th>\n",
       "      <td>0.279916</td>\n",
       "      <td>-1.332505</td>\n",
       "      <td>-1.222967</td>\n",
       "      <td>1</td>\n",
       "      <td>0</td>\n",
       "      <td>1.389657</td>\n",
       "      <td>0.0</td>\n",
       "      <td>0.0</td>\n",
       "      <td>0.0</td>\n",
       "      <td>0.0</td>\n",
       "      <td>...</td>\n",
       "      <td>0.0</td>\n",
       "      <td>0.0</td>\n",
       "      <td>0.0</td>\n",
       "      <td>0.0</td>\n",
       "      <td>0.0</td>\n",
       "      <td>0.0</td>\n",
       "      <td>0.0</td>\n",
       "      <td>1.0</td>\n",
       "      <td>0.0</td>\n",
       "      <td>0.0</td>\n",
       "    </tr>\n",
       "  </tbody>\n",
       "</table>\n",
       "<p>5 rows × 22 columns</p>\n",
       "</div>"
      ],
      "text/plain": [
       "      credit_score       age   balance  has_cr_card  is_active_member  \\\n",
       "3726      0.259084 -0.660843 -1.222967            1                 0   \n",
       "4661      1.394426 -0.085132  0.994334            1                 1   \n",
       "8400     -0.063812  0.970338 -1.222967            1                 1   \n",
       "6135      0.696555 -0.277036  0.425659            0                 1   \n",
       "8853      0.279916 -1.332505 -1.222967            1                 0   \n",
       "\n",
       "      estimated_salary  geography_Germany  geography_Spain  gender_Male  \\\n",
       "3726          1.597110                0.0              1.0          1.0   \n",
       "4661          1.253399                1.0              0.0          1.0   \n",
       "8400          0.789730                0.0              1.0          1.0   \n",
       "6135         -0.877030                0.0              1.0          1.0   \n",
       "8853          1.389657                0.0              0.0          0.0   \n",
       "\n",
       "      tenure_1  ...  tenure_4  tenure_5  tenure_6  tenure_7  tenure_8  \\\n",
       "3726       0.0  ...       0.0       0.0       0.0       0.0       0.0   \n",
       "4661       1.0  ...       0.0       0.0       0.0       0.0       0.0   \n",
       "8400       0.0  ...       0.0       0.0       0.0       0.0       0.0   \n",
       "6135       0.0  ...       0.0       0.0       0.0       0.0       0.0   \n",
       "8853       0.0  ...       0.0       0.0       0.0       0.0       0.0   \n",
       "\n",
       "      tenure_9  tenure_10  num_of_products_2  num_of_products_3  \\\n",
       "3726       0.0        1.0                1.0                0.0   \n",
       "4661       0.0        0.0                0.0                0.0   \n",
       "8400       0.0        1.0                1.0                0.0   \n",
       "6135       0.0        0.0                1.0                0.0   \n",
       "8853       0.0        0.0                1.0                0.0   \n",
       "\n",
       "      num_of_products_4  \n",
       "3726                0.0  \n",
       "4661                0.0  \n",
       "8400                0.0  \n",
       "6135                0.0  \n",
       "8853                0.0  \n",
       "\n",
       "[5 rows x 22 columns]"
      ]
     },
     "execution_count": 24,
     "metadata": {},
     "output_type": "execute_result"
    }
   ],
   "source": [
    "# добавляем закодированные признаки в X_test и X_val\n",
    "X_test[\n",
    "    encoder_ohe.get_feature_names_out()\n",
    "] = encoder_ohe.transform(X_test[ohe_features])\n",
    "\n",
    "X_val[\n",
    "    encoder_ohe.get_feature_names_out()\n",
    "] = encoder_ohe.transform(X_val[ohe_features])\n",
    "\n",
    "# удаляем незакодированные категориальные признаки (изначальные колонки)\n",
    "X_test = X_test.drop(ohe_features, axis=1)\n",
    "X_val = X_val.drop(ohe_features, axis=1)\n",
    "\n",
    "\n",
    "# скелером, который обучен на трейн выборке, масштабируем X_test и X_val\n",
    "X_test[num_features] = scaler.transform(\n",
    "    X_test[num_features]\n",
    ")\n",
    "\n",
    "X_val[num_features] = scaler.transform(\n",
    "    X_val[num_features]\n",
    ")\n",
    "\n",
    "X_test.head()"
   ]
  },
  {
   "cell_type": "markdown",
   "id": "675e7ecf",
   "metadata": {},
   "source": [
    "Ну все хорошо!"
   ]
  },
  {
   "cell_type": "markdown",
   "id": "f067c485",
   "metadata": {},
   "source": [
    "Теперь, мы поймем, что у записи в столбце `geography` - **France**, если в `geography_germany` и `geography_spain` стоят *нули*.\n",
    "\n",
    "Тоже верно и для столбца `gender_male`, если у записи ноль - то это *female*"
   ]
  },
  {
   "cell_type": "markdown",
   "id": "8b366d58",
   "metadata": {},
   "source": [
    "С этим тоже справились, похоже, *данные готовы для исследования*"
   ]
  },
  {
   "cell_type": "markdown",
   "id": "5285fdcd",
   "metadata": {},
   "source": [
    "## Исследование задачи"
   ]
  },
  {
   "cell_type": "markdown",
   "id": "ff3c33f6",
   "metadata": {},
   "source": [
    "Попробуем исследовать *баланс классов*, обучить модель *без учёта дисбаланса*. Также, кратко опишием *выводы*."
   ]
  },
  {
   "cell_type": "code",
   "execution_count": 25,
   "id": "4493aee4",
   "metadata": {},
   "outputs": [
    {
     "data": {
      "text/plain": [
       "0    0.796062\n",
       "1    0.203938\n",
       "Name: exited, dtype: float64"
      ]
     },
     "execution_count": 25,
     "metadata": {},
     "output_type": "execute_result"
    }
   ],
   "source": [
    "churn.exited.value_counts(normalize=True)"
   ]
  },
  {
   "cell_type": "markdown",
   "id": "5a2e7f7f",
   "metadata": {},
   "source": [
    "Вспомним, что *~80% наблюдений относятся к классу 0*, а остальные *~20% к классу 1*. **Налицо дисбаланс классов**.\n",
    "\n",
    "\n",
    "Пока обучим модели без учета дисбаланса, но, сохраним, при этом, отношение классов в выборках. Это мы проделали этапом выше, когда делили выборки с помощью `train_test_split`"
   ]
  },
  {
   "cell_type": "markdown",
   "id": "84c79957",
   "metadata": {},
   "source": [
    "### LogisticRegression без учета дисбаланса"
   ]
  },
  {
   "cell_type": "markdown",
   "id": "0cb6aaf4",
   "metadata": {},
   "source": [
    "Обучим линейную регрессию, используем `GridSearchCV` для поиска лучших параметров"
   ]
  },
  {
   "cell_type": "code",
   "execution_count": 26,
   "id": "72102b02",
   "metadata": {},
   "outputs": [],
   "source": [
    "# Эти параметры будет перебирать GridSearchCV\n",
    "lr_params = {\n",
    "    'solver': ['newton-cg', 'lbfgs', 'liblinear', 'sag', 'saga'],\n",
    "    'penalty': ['none', 'l1', 'l2', 'elasticnet'],\n",
    "    'C': [100, 10, 1.0, 0.1, 0.01]\n",
    "}"
   ]
  },
  {
   "cell_type": "code",
   "execution_count": 27,
   "id": "31282c40",
   "metadata": {},
   "outputs": [
    {
     "name": "stdout",
     "output_type": "stream",
     "text": [
      "Обучено!\n",
      "Wall time: 5.89 s\n"
     ]
    }
   ],
   "source": [
    "%%time\n",
    "%%capture --no-stdout\n",
    "\n",
    "# заводим классификатор\n",
    "lr_model = LogisticRegression(random_state=RANDOM_STATE)\n",
    "\n",
    "# выставляем параметры GridSearchCV и фиттим\n",
    "lr_grid = GridSearchCV(estimator=lr_model, param_grid=lr_params, cv=5, n_jobs=-1, scoring='f1')\n",
    "lr_grid.fit(X_train, y_train)\n",
    "print(\"Обучено!\")"
   ]
  },
  {
   "cell_type": "code",
   "execution_count": 28,
   "id": "4bbba8bd",
   "metadata": {},
   "outputs": [
    {
     "data": {
      "text/html": [
       "<style>#sk-container-id-1 {color: black;background-color: white;}#sk-container-id-1 pre{padding: 0;}#sk-container-id-1 div.sk-toggleable {background-color: white;}#sk-container-id-1 label.sk-toggleable__label {cursor: pointer;display: block;width: 100%;margin-bottom: 0;padding: 0.3em;box-sizing: border-box;text-align: center;}#sk-container-id-1 label.sk-toggleable__label-arrow:before {content: \"▸\";float: left;margin-right: 0.25em;color: #696969;}#sk-container-id-1 label.sk-toggleable__label-arrow:hover:before {color: black;}#sk-container-id-1 div.sk-estimator:hover label.sk-toggleable__label-arrow:before {color: black;}#sk-container-id-1 div.sk-toggleable__content {max-height: 0;max-width: 0;overflow: hidden;text-align: left;background-color: #f0f8ff;}#sk-container-id-1 div.sk-toggleable__content pre {margin: 0.2em;color: black;border-radius: 0.25em;background-color: #f0f8ff;}#sk-container-id-1 input.sk-toggleable__control:checked~div.sk-toggleable__content {max-height: 200px;max-width: 100%;overflow: auto;}#sk-container-id-1 input.sk-toggleable__control:checked~label.sk-toggleable__label-arrow:before {content: \"▾\";}#sk-container-id-1 div.sk-estimator input.sk-toggleable__control:checked~label.sk-toggleable__label {background-color: #d4ebff;}#sk-container-id-1 div.sk-label input.sk-toggleable__control:checked~label.sk-toggleable__label {background-color: #d4ebff;}#sk-container-id-1 input.sk-hidden--visually {border: 0;clip: rect(1px 1px 1px 1px);clip: rect(1px, 1px, 1px, 1px);height: 1px;margin: -1px;overflow: hidden;padding: 0;position: absolute;width: 1px;}#sk-container-id-1 div.sk-estimator {font-family: monospace;background-color: #f0f8ff;border: 1px dotted black;border-radius: 0.25em;box-sizing: border-box;margin-bottom: 0.5em;}#sk-container-id-1 div.sk-estimator:hover {background-color: #d4ebff;}#sk-container-id-1 div.sk-parallel-item::after {content: \"\";width: 100%;border-bottom: 1px solid gray;flex-grow: 1;}#sk-container-id-1 div.sk-label:hover label.sk-toggleable__label {background-color: #d4ebff;}#sk-container-id-1 div.sk-serial::before {content: \"\";position: absolute;border-left: 1px solid gray;box-sizing: border-box;top: 0;bottom: 0;left: 50%;z-index: 0;}#sk-container-id-1 div.sk-serial {display: flex;flex-direction: column;align-items: center;background-color: white;padding-right: 0.2em;padding-left: 0.2em;position: relative;}#sk-container-id-1 div.sk-item {position: relative;z-index: 1;}#sk-container-id-1 div.sk-parallel {display: flex;align-items: stretch;justify-content: center;background-color: white;position: relative;}#sk-container-id-1 div.sk-item::before, #sk-container-id-1 div.sk-parallel-item::before {content: \"\";position: absolute;border-left: 1px solid gray;box-sizing: border-box;top: 0;bottom: 0;left: 50%;z-index: -1;}#sk-container-id-1 div.sk-parallel-item {display: flex;flex-direction: column;z-index: 1;position: relative;background-color: white;}#sk-container-id-1 div.sk-parallel-item:first-child::after {align-self: flex-end;width: 50%;}#sk-container-id-1 div.sk-parallel-item:last-child::after {align-self: flex-start;width: 50%;}#sk-container-id-1 div.sk-parallel-item:only-child::after {width: 0;}#sk-container-id-1 div.sk-dashed-wrapped {border: 1px dashed gray;margin: 0 0.4em 0.5em 0.4em;box-sizing: border-box;padding-bottom: 0.4em;background-color: white;}#sk-container-id-1 div.sk-label label {font-family: monospace;font-weight: bold;display: inline-block;line-height: 1.2em;}#sk-container-id-1 div.sk-label-container {text-align: center;}#sk-container-id-1 div.sk-container {/* jupyter's `normalize.less` sets `[hidden] { display: none; }` but bootstrap.min.css set `[hidden] { display: none !important; }` so we also need the `!important` here to be able to override the default hidden behavior on the sphinx rendered scikit-learn.org. See: https://github.com/scikit-learn/scikit-learn/issues/21755 */display: inline-block !important;position: relative;}#sk-container-id-1 div.sk-text-repr-fallback {display: none;}</style><div id=\"sk-container-id-1\" class=\"sk-top-container\"><div class=\"sk-text-repr-fallback\"><pre>LogisticRegression(C=100, penalty=&#x27;none&#x27;, random_state=12345,\n",
       "                   solver=&#x27;newton-cg&#x27;)</pre><b>In a Jupyter environment, please rerun this cell to show the HTML representation or trust the notebook. <br />On GitHub, the HTML representation is unable to render, please try loading this page with nbviewer.org.</b></div><div class=\"sk-container\" hidden><div class=\"sk-item\"><div class=\"sk-estimator sk-toggleable\"><input class=\"sk-toggleable__control sk-hidden--visually\" id=\"sk-estimator-id-1\" type=\"checkbox\" checked><label for=\"sk-estimator-id-1\" class=\"sk-toggleable__label sk-toggleable__label-arrow\">LogisticRegression</label><div class=\"sk-toggleable__content\"><pre>LogisticRegression(C=100, penalty=&#x27;none&#x27;, random_state=12345,\n",
       "                   solver=&#x27;newton-cg&#x27;)</pre></div></div></div></div></div>"
      ],
      "text/plain": [
       "LogisticRegression(C=100, penalty='none', random_state=12345,\n",
       "                   solver='newton-cg')"
      ]
     },
     "execution_count": 28,
     "metadata": {},
     "output_type": "execute_result"
    }
   ],
   "source": [
    "# лучшие параметры по мнению GridSearchCV\n",
    "best_lr_model = lr_grid.best_estimator_\n",
    "best_lr_model"
   ]
  },
  {
   "cell_type": "code",
   "execution_count": 29,
   "id": "20ba1abe",
   "metadata": {},
   "outputs": [
    {
     "data": {
      "text/plain": [
       "0.47807986079941056"
      ]
     },
     "execution_count": 29,
     "metadata": {},
     "output_type": "execute_result"
    }
   ],
   "source": [
    "# лучший скор при кросс валидации\n",
    "lr_grid.best_score_"
   ]
  },
  {
   "cell_type": "code",
   "execution_count": 30,
   "id": "4c626fac",
   "metadata": {},
   "outputs": [
    {
     "name": "stdout",
     "output_type": "stream",
     "text": [
      "Accuracy: 0.85\n",
      "Precision: 0.763\n",
      "Recall: 0.383\n",
      "F1-score: 0.51\n",
      "AUC ROC: 0.847\n"
     ]
    }
   ],
   "source": [
    "# предиктим таргеты с параметрами выше\n",
    "lr_pred = best_lr_model.predict(X_val)\n",
    "\n",
    "# предиктим вероятности отнесения к классам для AUC ROC\n",
    "probabilities_lr_val = best_lr_model.predict_proba(X_val)\n",
    "probabilities_one_lr_val = probabilities_lr_val[:, 1]\n",
    "\n",
    "# посмотрим на все метрики на валидационной выборке\n",
    "print(f'Accuracy: {accuracy_score(y_val, lr_pred):.3}')\n",
    "print(f'Precision: {precision_score(y_val, lr_pred):.3}')\n",
    "print(f'Recall: {recall_score(y_val, lr_pred):.3}')\n",
    "print(f'F1-score: {f1_score(y_val, lr_pred):.3}')\n",
    "print(f'AUC ROC: {roc_auc_score(y_val, probabilities_one_lr_val):.3}')"
   ]
  },
  {
   "cell_type": "markdown",
   "id": "3206380f",
   "metadata": {},
   "source": [
    "Пойдет, accuracy = 0.847, а F1-score = 0.51"
   ]
  },
  {
   "cell_type": "markdown",
   "id": "af69ecd5",
   "metadata": {},
   "source": [
    "### DesicionTreeClassifier без учета дисбаланса"
   ]
  },
  {
   "cell_type": "markdown",
   "id": "bea58e4d",
   "metadata": {},
   "source": [
    "Обучим дерево решений, используем `GridSearchCV` для поиска лучших параметров"
   ]
  },
  {
   "cell_type": "code",
   "execution_count": 31,
   "id": "b415b480",
   "metadata": {},
   "outputs": [],
   "source": [
    "dt_params = {\n",
    "    'max_depth': range (1, 31, 1),\n",
    "    'min_samples_leaf': range (1, 15)\n",
    "}"
   ]
  },
  {
   "cell_type": "code",
   "execution_count": 32,
   "id": "6788d640",
   "metadata": {},
   "outputs": [
    {
     "name": "stdout",
     "output_type": "stream",
     "text": [
      "Обучено!\n",
      "Wall time: 7.1 s\n"
     ]
    }
   ],
   "source": [
    "%%time\n",
    "\n",
    "dt_model = DecisionTreeClassifier(random_state=RANDOM_STATE)\n",
    "\n",
    "dt_grid = GridSearchCV(estimator=dt_model, param_grid=dt_params, cv=5, n_jobs=-1, scoring='f1')\n",
    "dt_grid.fit(X_train, y_train)\n",
    "print(\"Обучено!\")"
   ]
  },
  {
   "cell_type": "code",
   "execution_count": 33,
   "id": "9527edd6",
   "metadata": {},
   "outputs": [
    {
     "data": {
      "text/html": [
       "<style>#sk-container-id-2 {color: black;background-color: white;}#sk-container-id-2 pre{padding: 0;}#sk-container-id-2 div.sk-toggleable {background-color: white;}#sk-container-id-2 label.sk-toggleable__label {cursor: pointer;display: block;width: 100%;margin-bottom: 0;padding: 0.3em;box-sizing: border-box;text-align: center;}#sk-container-id-2 label.sk-toggleable__label-arrow:before {content: \"▸\";float: left;margin-right: 0.25em;color: #696969;}#sk-container-id-2 label.sk-toggleable__label-arrow:hover:before {color: black;}#sk-container-id-2 div.sk-estimator:hover label.sk-toggleable__label-arrow:before {color: black;}#sk-container-id-2 div.sk-toggleable__content {max-height: 0;max-width: 0;overflow: hidden;text-align: left;background-color: #f0f8ff;}#sk-container-id-2 div.sk-toggleable__content pre {margin: 0.2em;color: black;border-radius: 0.25em;background-color: #f0f8ff;}#sk-container-id-2 input.sk-toggleable__control:checked~div.sk-toggleable__content {max-height: 200px;max-width: 100%;overflow: auto;}#sk-container-id-2 input.sk-toggleable__control:checked~label.sk-toggleable__label-arrow:before {content: \"▾\";}#sk-container-id-2 div.sk-estimator input.sk-toggleable__control:checked~label.sk-toggleable__label {background-color: #d4ebff;}#sk-container-id-2 div.sk-label input.sk-toggleable__control:checked~label.sk-toggleable__label {background-color: #d4ebff;}#sk-container-id-2 input.sk-hidden--visually {border: 0;clip: rect(1px 1px 1px 1px);clip: rect(1px, 1px, 1px, 1px);height: 1px;margin: -1px;overflow: hidden;padding: 0;position: absolute;width: 1px;}#sk-container-id-2 div.sk-estimator {font-family: monospace;background-color: #f0f8ff;border: 1px dotted black;border-radius: 0.25em;box-sizing: border-box;margin-bottom: 0.5em;}#sk-container-id-2 div.sk-estimator:hover {background-color: #d4ebff;}#sk-container-id-2 div.sk-parallel-item::after {content: \"\";width: 100%;border-bottom: 1px solid gray;flex-grow: 1;}#sk-container-id-2 div.sk-label:hover label.sk-toggleable__label {background-color: #d4ebff;}#sk-container-id-2 div.sk-serial::before {content: \"\";position: absolute;border-left: 1px solid gray;box-sizing: border-box;top: 0;bottom: 0;left: 50%;z-index: 0;}#sk-container-id-2 div.sk-serial {display: flex;flex-direction: column;align-items: center;background-color: white;padding-right: 0.2em;padding-left: 0.2em;position: relative;}#sk-container-id-2 div.sk-item {position: relative;z-index: 1;}#sk-container-id-2 div.sk-parallel {display: flex;align-items: stretch;justify-content: center;background-color: white;position: relative;}#sk-container-id-2 div.sk-item::before, #sk-container-id-2 div.sk-parallel-item::before {content: \"\";position: absolute;border-left: 1px solid gray;box-sizing: border-box;top: 0;bottom: 0;left: 50%;z-index: -1;}#sk-container-id-2 div.sk-parallel-item {display: flex;flex-direction: column;z-index: 1;position: relative;background-color: white;}#sk-container-id-2 div.sk-parallel-item:first-child::after {align-self: flex-end;width: 50%;}#sk-container-id-2 div.sk-parallel-item:last-child::after {align-self: flex-start;width: 50%;}#sk-container-id-2 div.sk-parallel-item:only-child::after {width: 0;}#sk-container-id-2 div.sk-dashed-wrapped {border: 1px dashed gray;margin: 0 0.4em 0.5em 0.4em;box-sizing: border-box;padding-bottom: 0.4em;background-color: white;}#sk-container-id-2 div.sk-label label {font-family: monospace;font-weight: bold;display: inline-block;line-height: 1.2em;}#sk-container-id-2 div.sk-label-container {text-align: center;}#sk-container-id-2 div.sk-container {/* jupyter's `normalize.less` sets `[hidden] { display: none; }` but bootstrap.min.css set `[hidden] { display: none !important; }` so we also need the `!important` here to be able to override the default hidden behavior on the sphinx rendered scikit-learn.org. See: https://github.com/scikit-learn/scikit-learn/issues/21755 */display: inline-block !important;position: relative;}#sk-container-id-2 div.sk-text-repr-fallback {display: none;}</style><div id=\"sk-container-id-2\" class=\"sk-top-container\"><div class=\"sk-text-repr-fallback\"><pre>DecisionTreeClassifier(max_depth=18, min_samples_leaf=10, random_state=12345)</pre><b>In a Jupyter environment, please rerun this cell to show the HTML representation or trust the notebook. <br />On GitHub, the HTML representation is unable to render, please try loading this page with nbviewer.org.</b></div><div class=\"sk-container\" hidden><div class=\"sk-item\"><div class=\"sk-estimator sk-toggleable\"><input class=\"sk-toggleable__control sk-hidden--visually\" id=\"sk-estimator-id-2\" type=\"checkbox\" checked><label for=\"sk-estimator-id-2\" class=\"sk-toggleable__label sk-toggleable__label-arrow\">DecisionTreeClassifier</label><div class=\"sk-toggleable__content\"><pre>DecisionTreeClassifier(max_depth=18, min_samples_leaf=10, random_state=12345)</pre></div></div></div></div></div>"
      ],
      "text/plain": [
       "DecisionTreeClassifier(max_depth=18, min_samples_leaf=10, random_state=12345)"
      ]
     },
     "execution_count": 33,
     "metadata": {},
     "output_type": "execute_result"
    }
   ],
   "source": [
    "best_dt_model = dt_grid.best_estimator_\n",
    "dt_grid.best_estimator_"
   ]
  },
  {
   "cell_type": "code",
   "execution_count": 34,
   "id": "c9ba5d3f",
   "metadata": {},
   "outputs": [
    {
     "data": {
      "text/plain": [
       "0.560349719771177"
      ]
     },
     "execution_count": 34,
     "metadata": {},
     "output_type": "execute_result"
    }
   ],
   "source": [
    "dt_grid.best_score_"
   ]
  },
  {
   "cell_type": "code",
   "execution_count": 35,
   "id": "32097bd4",
   "metadata": {},
   "outputs": [
    {
     "name": "stdout",
     "output_type": "stream",
     "text": [
      "Accuracy: 0.849\n",
      "Precision: 0.652\n",
      "Recall: 0.555\n",
      "F1-score: 0.6\n",
      "AUC ROC: 0.825\n"
     ]
    }
   ],
   "source": [
    "dt_pred = best_dt_model.predict(X_val)\n",
    "\n",
    "probabilities_dt_val = best_dt_model.predict_proba(X_val)\n",
    "probabilities_one_dt_val = probabilities_dt_val[:, 1]\n",
    "\n",
    "print(f'Accuracy: {accuracy_score(y_val, dt_pred):.3}')\n",
    "print(f'Precision: {precision_score(y_val, dt_pred):.3}')\n",
    "print(f'Recall: {recall_score(y_val, dt_pred):.3}')\n",
    "print(f'F1-score: {f1_score(y_val, dt_pred):.3}')\n",
    "print(f'AUC ROC: {roc_auc_score(y_val, probabilities_one_dt_val):.3}')"
   ]
  },
  {
   "cell_type": "markdown",
   "id": "1ffd833b",
   "metadata": {},
   "source": [
    "Accuracy и F1-score лучше, чем у линейной регрессии."
   ]
  },
  {
   "cell_type": "markdown",
   "id": "af981851",
   "metadata": {},
   "source": [
    "### RandomForestClassifier без учета дисбаланса"
   ]
  },
  {
   "cell_type": "markdown",
   "id": "31a1338f",
   "metadata": {},
   "source": [
    "Обучим случайный лес, используем `GridSearchCV` для поиска лучших параметров"
   ]
  },
  {
   "cell_type": "code",
   "execution_count": 36,
   "id": "90d8c7ec",
   "metadata": {},
   "outputs": [],
   "source": [
    "rf_params = {\n",
    "    'n_estimators': range (150, 171, 5),\n",
    "    'max_depth': range (15, 25, 1)\n",
    "}"
   ]
  },
  {
   "cell_type": "code",
   "execution_count": 37,
   "id": "2bd735c0",
   "metadata": {},
   "outputs": [
    {
     "name": "stdout",
     "output_type": "stream",
     "text": [
      "Обучено!\n",
      "Wall time: 36.3 s\n"
     ]
    }
   ],
   "source": [
    "%%time\n",
    "\n",
    "rf_model = RandomForestClassifier(random_state=RANDOM_STATE)\n",
    "\n",
    "rf_grid = GridSearchCV(estimator=rf_model, param_grid=rf_params, cv=5, n_jobs=-1, scoring='f1')\n",
    "rf_grid.fit(X_train, y_train)\n",
    "print(\"Обучено!\")"
   ]
  },
  {
   "cell_type": "code",
   "execution_count": 38,
   "id": "4cfc2a8e",
   "metadata": {},
   "outputs": [
    {
     "data": {
      "text/html": [
       "<style>#sk-container-id-3 {color: black;background-color: white;}#sk-container-id-3 pre{padding: 0;}#sk-container-id-3 div.sk-toggleable {background-color: white;}#sk-container-id-3 label.sk-toggleable__label {cursor: pointer;display: block;width: 100%;margin-bottom: 0;padding: 0.3em;box-sizing: border-box;text-align: center;}#sk-container-id-3 label.sk-toggleable__label-arrow:before {content: \"▸\";float: left;margin-right: 0.25em;color: #696969;}#sk-container-id-3 label.sk-toggleable__label-arrow:hover:before {color: black;}#sk-container-id-3 div.sk-estimator:hover label.sk-toggleable__label-arrow:before {color: black;}#sk-container-id-3 div.sk-toggleable__content {max-height: 0;max-width: 0;overflow: hidden;text-align: left;background-color: #f0f8ff;}#sk-container-id-3 div.sk-toggleable__content pre {margin: 0.2em;color: black;border-radius: 0.25em;background-color: #f0f8ff;}#sk-container-id-3 input.sk-toggleable__control:checked~div.sk-toggleable__content {max-height: 200px;max-width: 100%;overflow: auto;}#sk-container-id-3 input.sk-toggleable__control:checked~label.sk-toggleable__label-arrow:before {content: \"▾\";}#sk-container-id-3 div.sk-estimator input.sk-toggleable__control:checked~label.sk-toggleable__label {background-color: #d4ebff;}#sk-container-id-3 div.sk-label input.sk-toggleable__control:checked~label.sk-toggleable__label {background-color: #d4ebff;}#sk-container-id-3 input.sk-hidden--visually {border: 0;clip: rect(1px 1px 1px 1px);clip: rect(1px, 1px, 1px, 1px);height: 1px;margin: -1px;overflow: hidden;padding: 0;position: absolute;width: 1px;}#sk-container-id-3 div.sk-estimator {font-family: monospace;background-color: #f0f8ff;border: 1px dotted black;border-radius: 0.25em;box-sizing: border-box;margin-bottom: 0.5em;}#sk-container-id-3 div.sk-estimator:hover {background-color: #d4ebff;}#sk-container-id-3 div.sk-parallel-item::after {content: \"\";width: 100%;border-bottom: 1px solid gray;flex-grow: 1;}#sk-container-id-3 div.sk-label:hover label.sk-toggleable__label {background-color: #d4ebff;}#sk-container-id-3 div.sk-serial::before {content: \"\";position: absolute;border-left: 1px solid gray;box-sizing: border-box;top: 0;bottom: 0;left: 50%;z-index: 0;}#sk-container-id-3 div.sk-serial {display: flex;flex-direction: column;align-items: center;background-color: white;padding-right: 0.2em;padding-left: 0.2em;position: relative;}#sk-container-id-3 div.sk-item {position: relative;z-index: 1;}#sk-container-id-3 div.sk-parallel {display: flex;align-items: stretch;justify-content: center;background-color: white;position: relative;}#sk-container-id-3 div.sk-item::before, #sk-container-id-3 div.sk-parallel-item::before {content: \"\";position: absolute;border-left: 1px solid gray;box-sizing: border-box;top: 0;bottom: 0;left: 50%;z-index: -1;}#sk-container-id-3 div.sk-parallel-item {display: flex;flex-direction: column;z-index: 1;position: relative;background-color: white;}#sk-container-id-3 div.sk-parallel-item:first-child::after {align-self: flex-end;width: 50%;}#sk-container-id-3 div.sk-parallel-item:last-child::after {align-self: flex-start;width: 50%;}#sk-container-id-3 div.sk-parallel-item:only-child::after {width: 0;}#sk-container-id-3 div.sk-dashed-wrapped {border: 1px dashed gray;margin: 0 0.4em 0.5em 0.4em;box-sizing: border-box;padding-bottom: 0.4em;background-color: white;}#sk-container-id-3 div.sk-label label {font-family: monospace;font-weight: bold;display: inline-block;line-height: 1.2em;}#sk-container-id-3 div.sk-label-container {text-align: center;}#sk-container-id-3 div.sk-container {/* jupyter's `normalize.less` sets `[hidden] { display: none; }` but bootstrap.min.css set `[hidden] { display: none !important; }` so we also need the `!important` here to be able to override the default hidden behavior on the sphinx rendered scikit-learn.org. See: https://github.com/scikit-learn/scikit-learn/issues/21755 */display: inline-block !important;position: relative;}#sk-container-id-3 div.sk-text-repr-fallback {display: none;}</style><div id=\"sk-container-id-3\" class=\"sk-top-container\"><div class=\"sk-text-repr-fallback\"><pre>RandomForestClassifier(max_depth=18, n_estimators=160, random_state=12345)</pre><b>In a Jupyter environment, please rerun this cell to show the HTML representation or trust the notebook. <br />On GitHub, the HTML representation is unable to render, please try loading this page with nbviewer.org.</b></div><div class=\"sk-container\" hidden><div class=\"sk-item\"><div class=\"sk-estimator sk-toggleable\"><input class=\"sk-toggleable__control sk-hidden--visually\" id=\"sk-estimator-id-3\" type=\"checkbox\" checked><label for=\"sk-estimator-id-3\" class=\"sk-toggleable__label sk-toggleable__label-arrow\">RandomForestClassifier</label><div class=\"sk-toggleable__content\"><pre>RandomForestClassifier(max_depth=18, n_estimators=160, random_state=12345)</pre></div></div></div></div></div>"
      ],
      "text/plain": [
       "RandomForestClassifier(max_depth=18, n_estimators=160, random_state=12345)"
      ]
     },
     "execution_count": 38,
     "metadata": {},
     "output_type": "execute_result"
    }
   ],
   "source": [
    "best_rf_model = rf_grid.best_estimator_\n",
    "rf_grid.best_estimator_"
   ]
  },
  {
   "cell_type": "code",
   "execution_count": 39,
   "id": "e911929f",
   "metadata": {},
   "outputs": [
    {
     "data": {
      "text/plain": [
       "0.5674835612582146"
      ]
     },
     "execution_count": 39,
     "metadata": {},
     "output_type": "execute_result"
    }
   ],
   "source": [
    "rf_grid.best_score_"
   ]
  },
  {
   "cell_type": "code",
   "execution_count": 40,
   "id": "74b968f9",
   "metadata": {},
   "outputs": [
    {
     "name": "stdout",
     "output_type": "stream",
     "text": [
      "Accuracy: 0.866\n",
      "Precision: 0.786\n",
      "Recall: 0.474\n",
      "F1-score: 0.592\n",
      "AUC ROC: 0.871\n"
     ]
    }
   ],
   "source": [
    "rf_pred = best_rf_model.predict(X_val)\n",
    "\n",
    "probabilities_rf_val = best_rf_model.predict_proba(X_val)\n",
    "probabilities_one_rf_val = probabilities_rf_val[:, 1]\n",
    "\n",
    "print(f'Accuracy: {accuracy_score(y_val, rf_pred):.3}')\n",
    "print(f'Precision: {precision_score(y_val, rf_pred):.3}')\n",
    "print(f'Recall: {recall_score(y_val, rf_pred):.3}')\n",
    "print(f'F1-score: {f1_score(y_val, rf_pred):.3}')\n",
    "print(f'AUC ROC: {roc_auc_score(y_val, probabilities_one_rf_val):.3}')"
   ]
  },
  {
   "cell_type": "markdown",
   "id": "f9274f96",
   "metadata": {},
   "source": [
    "RF красавец как всегда, неожиданно *уже лучше* 0.59, хоть и чуть чуть\n",
    "\n"
   ]
  },
  {
   "cell_type": "markdown",
   "id": "1f28883f",
   "metadata": {},
   "source": [
    "## Борьба с дисбалансом"
   ]
  },
  {
   "cell_type": "markdown",
   "id": "4e52f825",
   "metadata": {},
   "source": [
    "Улучшиим *качество модели*, учитывая дисбаланс классов. Обучим разные модели и *найдем лучшую*. Также, кратко опишем *выводы*\n",
    "\n",
    "Опробуем три способа борьбы с дисбалансом:\n",
    "1. Взвешивание классов\n",
    "2. Апсемплинг\n",
    "3. Даунсемплинг"
   ]
  },
  {
   "cell_type": "markdown",
   "id": "d7e19239",
   "metadata": {},
   "source": [
    "### Взвешивание классов"
   ]
  },
  {
   "cell_type": "markdown",
   "id": "a42c65f3",
   "metadata": {},
   "source": [
    "#### LogisticRegression"
   ]
  },
  {
   "cell_type": "code",
   "execution_count": 41,
   "id": "abebf511",
   "metadata": {},
   "outputs": [
    {
     "name": "stdout",
     "output_type": "stream",
     "text": [
      "Обучено!\n",
      "Wall time: 3.64 s\n"
     ]
    }
   ],
   "source": [
    "%%time\n",
    "%%capture --no-stdout\n",
    "\n",
    "# заводим классификатор\n",
    "lr_model = LogisticRegression(class_weight='balanced', random_state=RANDOM_STATE)\n",
    "\n",
    "# выставляем параметры GridSearchCV и фиттим\n",
    "lr_grid = GridSearchCV(estimator=lr_model, param_grid=lr_params, cv=5, n_jobs=-1, scoring='f1')\n",
    "lr_grid.fit(X_train, y_train)\n",
    "print(\"Обучено!\")"
   ]
  },
  {
   "cell_type": "code",
   "execution_count": 42,
   "id": "07699bc3",
   "metadata": {},
   "outputs": [
    {
     "data": {
      "text/html": [
       "<style>#sk-container-id-4 {color: black;background-color: white;}#sk-container-id-4 pre{padding: 0;}#sk-container-id-4 div.sk-toggleable {background-color: white;}#sk-container-id-4 label.sk-toggleable__label {cursor: pointer;display: block;width: 100%;margin-bottom: 0;padding: 0.3em;box-sizing: border-box;text-align: center;}#sk-container-id-4 label.sk-toggleable__label-arrow:before {content: \"▸\";float: left;margin-right: 0.25em;color: #696969;}#sk-container-id-4 label.sk-toggleable__label-arrow:hover:before {color: black;}#sk-container-id-4 div.sk-estimator:hover label.sk-toggleable__label-arrow:before {color: black;}#sk-container-id-4 div.sk-toggleable__content {max-height: 0;max-width: 0;overflow: hidden;text-align: left;background-color: #f0f8ff;}#sk-container-id-4 div.sk-toggleable__content pre {margin: 0.2em;color: black;border-radius: 0.25em;background-color: #f0f8ff;}#sk-container-id-4 input.sk-toggleable__control:checked~div.sk-toggleable__content {max-height: 200px;max-width: 100%;overflow: auto;}#sk-container-id-4 input.sk-toggleable__control:checked~label.sk-toggleable__label-arrow:before {content: \"▾\";}#sk-container-id-4 div.sk-estimator input.sk-toggleable__control:checked~label.sk-toggleable__label {background-color: #d4ebff;}#sk-container-id-4 div.sk-label input.sk-toggleable__control:checked~label.sk-toggleable__label {background-color: #d4ebff;}#sk-container-id-4 input.sk-hidden--visually {border: 0;clip: rect(1px 1px 1px 1px);clip: rect(1px, 1px, 1px, 1px);height: 1px;margin: -1px;overflow: hidden;padding: 0;position: absolute;width: 1px;}#sk-container-id-4 div.sk-estimator {font-family: monospace;background-color: #f0f8ff;border: 1px dotted black;border-radius: 0.25em;box-sizing: border-box;margin-bottom: 0.5em;}#sk-container-id-4 div.sk-estimator:hover {background-color: #d4ebff;}#sk-container-id-4 div.sk-parallel-item::after {content: \"\";width: 100%;border-bottom: 1px solid gray;flex-grow: 1;}#sk-container-id-4 div.sk-label:hover label.sk-toggleable__label {background-color: #d4ebff;}#sk-container-id-4 div.sk-serial::before {content: \"\";position: absolute;border-left: 1px solid gray;box-sizing: border-box;top: 0;bottom: 0;left: 50%;z-index: 0;}#sk-container-id-4 div.sk-serial {display: flex;flex-direction: column;align-items: center;background-color: white;padding-right: 0.2em;padding-left: 0.2em;position: relative;}#sk-container-id-4 div.sk-item {position: relative;z-index: 1;}#sk-container-id-4 div.sk-parallel {display: flex;align-items: stretch;justify-content: center;background-color: white;position: relative;}#sk-container-id-4 div.sk-item::before, #sk-container-id-4 div.sk-parallel-item::before {content: \"\";position: absolute;border-left: 1px solid gray;box-sizing: border-box;top: 0;bottom: 0;left: 50%;z-index: -1;}#sk-container-id-4 div.sk-parallel-item {display: flex;flex-direction: column;z-index: 1;position: relative;background-color: white;}#sk-container-id-4 div.sk-parallel-item:first-child::after {align-self: flex-end;width: 50%;}#sk-container-id-4 div.sk-parallel-item:last-child::after {align-self: flex-start;width: 50%;}#sk-container-id-4 div.sk-parallel-item:only-child::after {width: 0;}#sk-container-id-4 div.sk-dashed-wrapped {border: 1px dashed gray;margin: 0 0.4em 0.5em 0.4em;box-sizing: border-box;padding-bottom: 0.4em;background-color: white;}#sk-container-id-4 div.sk-label label {font-family: monospace;font-weight: bold;display: inline-block;line-height: 1.2em;}#sk-container-id-4 div.sk-label-container {text-align: center;}#sk-container-id-4 div.sk-container {/* jupyter's `normalize.less` sets `[hidden] { display: none; }` but bootstrap.min.css set `[hidden] { display: none !important; }` so we also need the `!important` here to be able to override the default hidden behavior on the sphinx rendered scikit-learn.org. See: https://github.com/scikit-learn/scikit-learn/issues/21755 */display: inline-block !important;position: relative;}#sk-container-id-4 div.sk-text-repr-fallback {display: none;}</style><div id=\"sk-container-id-4\" class=\"sk-top-container\"><div class=\"sk-text-repr-fallback\"><pre>LogisticRegression(C=0.1, class_weight=&#x27;balanced&#x27;, penalty=&#x27;l1&#x27;,\n",
       "                   random_state=12345, solver=&#x27;liblinear&#x27;)</pre><b>In a Jupyter environment, please rerun this cell to show the HTML representation or trust the notebook. <br />On GitHub, the HTML representation is unable to render, please try loading this page with nbviewer.org.</b></div><div class=\"sk-container\" hidden><div class=\"sk-item\"><div class=\"sk-estimator sk-toggleable\"><input class=\"sk-toggleable__control sk-hidden--visually\" id=\"sk-estimator-id-4\" type=\"checkbox\" checked><label for=\"sk-estimator-id-4\" class=\"sk-toggleable__label sk-toggleable__label-arrow\">LogisticRegression</label><div class=\"sk-toggleable__content\"><pre>LogisticRegression(C=0.1, class_weight=&#x27;balanced&#x27;, penalty=&#x27;l1&#x27;,\n",
       "                   random_state=12345, solver=&#x27;liblinear&#x27;)</pre></div></div></div></div></div>"
      ],
      "text/plain": [
       "LogisticRegression(C=0.1, class_weight='balanced', penalty='l1',\n",
       "                   random_state=12345, solver='liblinear')"
      ]
     },
     "execution_count": 42,
     "metadata": {},
     "output_type": "execute_result"
    }
   ],
   "source": [
    "# лучшие параметры по мнению GridSearchCV\n",
    "best_lr_model = lr_grid.best_estimator_\n",
    "lr_grid.best_estimator_"
   ]
  },
  {
   "cell_type": "code",
   "execution_count": 43,
   "id": "57b5d2ef",
   "metadata": {},
   "outputs": [
    {
     "data": {
      "text/plain": [
       "0.5552426876257387"
      ]
     },
     "execution_count": 43,
     "metadata": {},
     "output_type": "execute_result"
    }
   ],
   "source": [
    "lr_grid.best_score_"
   ]
  },
  {
   "cell_type": "code",
   "execution_count": 44,
   "id": "20fbc117",
   "metadata": {},
   "outputs": [
    {
     "name": "stdout",
     "output_type": "stream",
     "text": [
      "Accuracy: 0.759\n",
      "Precision: 0.448\n",
      "Recall: 0.782\n",
      "F1-score: 0.57\n",
      "AUC ROC: 0.848\n"
     ]
    }
   ],
   "source": [
    "# предиктим таргеты с параметрами выше\n",
    "lr_pred = best_lr_model.predict(X_val)\n",
    "\n",
    "# предиктим вероятности отнесения к классам для AUC ROC\n",
    "probabilities_lr_val = best_lr_model.predict_proba(X_val)\n",
    "probabilities_one_lr_val = probabilities_lr_val[:, 1]\n",
    "\n",
    "print(f'Accuracy: {accuracy_score(y_val, lr_pred):.3}')\n",
    "print(f'Precision: {precision_score(y_val, lr_pred):.3}')\n",
    "print(f'Recall: {recall_score(y_val, lr_pred):.3}')\n",
    "print(f'F1-score: {f1_score(y_val, lr_pred):.3}')\n",
    "print(f'AUC ROC: {roc_auc_score(y_val, probabilities_one_lr_val):.3}')"
   ]
  },
  {
   "cell_type": "markdown",
   "id": "5b8e0d3b",
   "metadata": {},
   "source": [
    "F1-score прирос на 0.06 по сравнению с предыдущим результатом этой модели"
   ]
  },
  {
   "cell_type": "markdown",
   "id": "bbfbac3a",
   "metadata": {},
   "source": [
    "Будем, также, рисовать и ROC-кривые к моделям"
   ]
  },
  {
   "cell_type": "code",
   "execution_count": 45,
   "id": "9946e697",
   "metadata": {},
   "outputs": [],
   "source": [
    "# Графики слишком много места занимают, объявим функцию\n",
    "def print_roc_curve(y, prob):\n",
    "    \n",
    "    fpr, tpr, thresholds = roc_curve(y, prob)\n",
    "\n",
    "    # рисуем график\n",
    "    plt.figure()\n",
    "    plt.plot(fpr, tpr)\n",
    "\n",
    "    # рисуем ROC-кривую случайной модели (выглядит как ---)\n",
    "    plt.plot([0, 1], [0, 1], linestyle='--')\n",
    "\n",
    "    # выставляем лимиты по x и y от 0 до 1\n",
    "    plt.xlim([0.0, 1.0])\n",
    "    plt.ylim([0.0, 1.0])\n",
    "\n",
    "    # подписываем оси \n",
    "    plt.xlabel('False Positive Rate')\n",
    "    plt.ylabel('True Positive Rate')\n",
    "\n",
    "    # называем график\n",
    "    plt.title('ROC-кривая')\n",
    "    plt.show()"
   ]
  },
  {
   "cell_type": "code",
   "execution_count": 46,
   "id": "44897930",
   "metadata": {},
   "outputs": [
    {
     "data": {
      "image/png": "[encoded data removed]",
      "text/plain": [
       "<Figure size 432x288 with 1 Axes>"
      ]
     },
     "metadata": {
      "needs_background": "light"
     },
     "output_type": "display_data"
    }
   ],
   "source": [
    "print_roc_curve(y_val, probabilities_one_lr_val)"
   ]
  },
  {
   "cell_type": "markdown",
   "id": "0deb589f",
   "metadata": {},
   "source": [
    "#### DesicionTreeClassifier"
   ]
  },
  {
   "cell_type": "code",
   "execution_count": 47,
   "id": "c258d864",
   "metadata": {},
   "outputs": [
    {
     "name": "stdout",
     "output_type": "stream",
     "text": [
      "Обучено!\n",
      "Wall time: 7.76 s\n"
     ]
    }
   ],
   "source": [
    "%%time\n",
    "\n",
    "dt_model = DecisionTreeClassifier(class_weight='balanced', random_state=RANDOM_STATE)\n",
    "\n",
    "dt_grid = GridSearchCV(estimator=dt_model, param_grid=dt_params, cv=5, n_jobs=-1, scoring='f1')\n",
    "dt_grid.fit(X_train, y_train)\n",
    "print(\"Обучено!\")"
   ]
  },
  {
   "cell_type": "code",
   "execution_count": 48,
   "id": "7c8536cb",
   "metadata": {},
   "outputs": [
    {
     "data": {
      "text/html": [
       "<style>#sk-container-id-5 {color: black;background-color: white;}#sk-container-id-5 pre{padding: 0;}#sk-container-id-5 div.sk-toggleable {background-color: white;}#sk-container-id-5 label.sk-toggleable__label {cursor: pointer;display: block;width: 100%;margin-bottom: 0;padding: 0.3em;box-sizing: border-box;text-align: center;}#sk-container-id-5 label.sk-toggleable__label-arrow:before {content: \"▸\";float: left;margin-right: 0.25em;color: #696969;}#sk-container-id-5 label.sk-toggleable__label-arrow:hover:before {color: black;}#sk-container-id-5 div.sk-estimator:hover label.sk-toggleable__label-arrow:before {color: black;}#sk-container-id-5 div.sk-toggleable__content {max-height: 0;max-width: 0;overflow: hidden;text-align: left;background-color: #f0f8ff;}#sk-container-id-5 div.sk-toggleable__content pre {margin: 0.2em;color: black;border-radius: 0.25em;background-color: #f0f8ff;}#sk-container-id-5 input.sk-toggleable__control:checked~div.sk-toggleable__content {max-height: 200px;max-width: 100%;overflow: auto;}#sk-container-id-5 input.sk-toggleable__control:checked~label.sk-toggleable__label-arrow:before {content: \"▾\";}#sk-container-id-5 div.sk-estimator input.sk-toggleable__control:checked~label.sk-toggleable__label {background-color: #d4ebff;}#sk-container-id-5 div.sk-label input.sk-toggleable__control:checked~label.sk-toggleable__label {background-color: #d4ebff;}#sk-container-id-5 input.sk-hidden--visually {border: 0;clip: rect(1px 1px 1px 1px);clip: rect(1px, 1px, 1px, 1px);height: 1px;margin: -1px;overflow: hidden;padding: 0;position: absolute;width: 1px;}#sk-container-id-5 div.sk-estimator {font-family: monospace;background-color: #f0f8ff;border: 1px dotted black;border-radius: 0.25em;box-sizing: border-box;margin-bottom: 0.5em;}#sk-container-id-5 div.sk-estimator:hover {background-color: #d4ebff;}#sk-container-id-5 div.sk-parallel-item::after {content: \"\";width: 100%;border-bottom: 1px solid gray;flex-grow: 1;}#sk-container-id-5 div.sk-label:hover label.sk-toggleable__label {background-color: #d4ebff;}#sk-container-id-5 div.sk-serial::before {content: \"\";position: absolute;border-left: 1px solid gray;box-sizing: border-box;top: 0;bottom: 0;left: 50%;z-index: 0;}#sk-container-id-5 div.sk-serial {display: flex;flex-direction: column;align-items: center;background-color: white;padding-right: 0.2em;padding-left: 0.2em;position: relative;}#sk-container-id-5 div.sk-item {position: relative;z-index: 1;}#sk-container-id-5 div.sk-parallel {display: flex;align-items: stretch;justify-content: center;background-color: white;position: relative;}#sk-container-id-5 div.sk-item::before, #sk-container-id-5 div.sk-parallel-item::before {content: \"\";position: absolute;border-left: 1px solid gray;box-sizing: border-box;top: 0;bottom: 0;left: 50%;z-index: -1;}#sk-container-id-5 div.sk-parallel-item {display: flex;flex-direction: column;z-index: 1;position: relative;background-color: white;}#sk-container-id-5 div.sk-parallel-item:first-child::after {align-self: flex-end;width: 50%;}#sk-container-id-5 div.sk-parallel-item:last-child::after {align-self: flex-start;width: 50%;}#sk-container-id-5 div.sk-parallel-item:only-child::after {width: 0;}#sk-container-id-5 div.sk-dashed-wrapped {border: 1px dashed gray;margin: 0 0.4em 0.5em 0.4em;box-sizing: border-box;padding-bottom: 0.4em;background-color: white;}#sk-container-id-5 div.sk-label label {font-family: monospace;font-weight: bold;display: inline-block;line-height: 1.2em;}#sk-container-id-5 div.sk-label-container {text-align: center;}#sk-container-id-5 div.sk-container {/* jupyter's `normalize.less` sets `[hidden] { display: none; }` but bootstrap.min.css set `[hidden] { display: none !important; }` so we also need the `!important` here to be able to override the default hidden behavior on the sphinx rendered scikit-learn.org. See: https://github.com/scikit-learn/scikit-learn/issues/21755 */display: inline-block !important;position: relative;}#sk-container-id-5 div.sk-text-repr-fallback {display: none;}</style><div id=\"sk-container-id-5\" class=\"sk-top-container\"><div class=\"sk-text-repr-fallback\"><pre>DecisionTreeClassifier(class_weight=&#x27;balanced&#x27;, max_depth=6, min_samples_leaf=8,\n",
       "                       random_state=12345)</pre><b>In a Jupyter environment, please rerun this cell to show the HTML representation or trust the notebook. <br />On GitHub, the HTML representation is unable to render, please try loading this page with nbviewer.org.</b></div><div class=\"sk-container\" hidden><div class=\"sk-item\"><div class=\"sk-estimator sk-toggleable\"><input class=\"sk-toggleable__control sk-hidden--visually\" id=\"sk-estimator-id-5\" type=\"checkbox\" checked><label for=\"sk-estimator-id-5\" class=\"sk-toggleable__label sk-toggleable__label-arrow\">DecisionTreeClassifier</label><div class=\"sk-toggleable__content\"><pre>DecisionTreeClassifier(class_weight=&#x27;balanced&#x27;, max_depth=6, min_samples_leaf=8,\n",
       "                       random_state=12345)</pre></div></div></div></div></div>"
      ],
      "text/plain": [
       "DecisionTreeClassifier(class_weight='balanced', max_depth=6, min_samples_leaf=8,\n",
       "                       random_state=12345)"
      ]
     },
     "execution_count": 48,
     "metadata": {},
     "output_type": "execute_result"
    }
   ],
   "source": [
    "best_dt_model = dt_grid.best_estimator_\n",
    "dt_grid.best_estimator_"
   ]
  },
  {
   "cell_type": "code",
   "execution_count": 49,
   "id": "a3e62fac",
   "metadata": {},
   "outputs": [
    {
     "data": {
      "text/plain": [
       "0.5751493351409015"
      ]
     },
     "execution_count": 49,
     "metadata": {},
     "output_type": "execute_result"
    }
   ],
   "source": [
    "dt_grid.best_score_"
   ]
  },
  {
   "cell_type": "code",
   "execution_count": 50,
   "id": "c58d6bca",
   "metadata": {},
   "outputs": [
    {
     "name": "stdout",
     "output_type": "stream",
     "text": [
      "Accuracy: 0.761\n",
      "Precision: 0.452\n",
      "Recall: 0.803\n",
      "F1-score: 0.579\n",
      "AUC ROC: 0.843\n"
     ]
    }
   ],
   "source": [
    "dt_pred = best_dt_model.predict(X_val)\n",
    "\n",
    "probabilities_dt_val = best_dt_model.predict_proba(X_val)\n",
    "probabilities_one_dt_val = probabilities_dt_val[:, 1]\n",
    "\n",
    "print(f'Accuracy: {accuracy_score(y_val, dt_pred):.3}')\n",
    "print(f'Precision: {precision_score(y_val, dt_pred):.3}')\n",
    "print(f'Recall: {recall_score(y_val, dt_pred):.3}')\n",
    "print(f'F1-score: {f1_score(y_val, dt_pred):.3}')\n",
    "print(f'AUC ROC: {roc_auc_score(y_val, probabilities_one_dt_val):.3}')"
   ]
  },
  {
   "cell_type": "markdown",
   "id": "26073722",
   "metadata": {},
   "source": [
    "Отрицательная победа)\n",
    "\n",
    "F1-score прибавился на -0.002 по сравнению с предыдущим результатом модели"
   ]
  },
  {
   "cell_type": "code",
   "execution_count": 51,
   "id": "891a0992",
   "metadata": {},
   "outputs": [
    {
     "data": {
      "image/png": "[encoded data removed]",
      "text/plain": [
       "<Figure size 432x288 with 1 Axes>"
      ]
     },
     "metadata": {
      "needs_background": "light"
     },
     "output_type": "display_data"
    }
   ],
   "source": [
    "print_roc_curve(y_val, probabilities_one_dt_val)"
   ]
  },
  {
   "cell_type": "markdown",
   "id": "6cc4c476",
   "metadata": {},
   "source": [
    "#### RandomForestClassifier"
   ]
  },
  {
   "cell_type": "code",
   "execution_count": 52,
   "id": "cc2ab762",
   "metadata": {},
   "outputs": [
    {
     "name": "stdout",
     "output_type": "stream",
     "text": [
      "Обучено!\n",
      "Wall time: 34.9 s\n"
     ]
    }
   ],
   "source": [
    "%%time\n",
    "\n",
    "rf_model = RandomForestClassifier(class_weight='balanced', random_state=RANDOM_STATE)\n",
    "\n",
    "rf_grid = GridSearchCV(estimator=rf_model, param_grid=rf_params, cv=5, n_jobs=-1, scoring='f1')\n",
    "rf_grid.fit(X_train, y_train)\n",
    "print(\"Обучено!\")"
   ]
  },
  {
   "cell_type": "code",
   "execution_count": 53,
   "id": "c3417823",
   "metadata": {},
   "outputs": [
    {
     "data": {
      "text/html": [
       "<style>#sk-container-id-6 {color: black;background-color: white;}#sk-container-id-6 pre{padding: 0;}#sk-container-id-6 div.sk-toggleable {background-color: white;}#sk-container-id-6 label.sk-toggleable__label {cursor: pointer;display: block;width: 100%;margin-bottom: 0;padding: 0.3em;box-sizing: border-box;text-align: center;}#sk-container-id-6 label.sk-toggleable__label-arrow:before {content: \"▸\";float: left;margin-right: 0.25em;color: #696969;}#sk-container-id-6 label.sk-toggleable__label-arrow:hover:before {color: black;}#sk-container-id-6 div.sk-estimator:hover label.sk-toggleable__label-arrow:before {color: black;}#sk-container-id-6 div.sk-toggleable__content {max-height: 0;max-width: 0;overflow: hidden;text-align: left;background-color: #f0f8ff;}#sk-container-id-6 div.sk-toggleable__content pre {margin: 0.2em;color: black;border-radius: 0.25em;background-color: #f0f8ff;}#sk-container-id-6 input.sk-toggleable__control:checked~div.sk-toggleable__content {max-height: 200px;max-width: 100%;overflow: auto;}#sk-container-id-6 input.sk-toggleable__control:checked~label.sk-toggleable__label-arrow:before {content: \"▾\";}#sk-container-id-6 div.sk-estimator input.sk-toggleable__control:checked~label.sk-toggleable__label {background-color: #d4ebff;}#sk-container-id-6 div.sk-label input.sk-toggleable__control:checked~label.sk-toggleable__label {background-color: #d4ebff;}#sk-container-id-6 input.sk-hidden--visually {border: 0;clip: rect(1px 1px 1px 1px);clip: rect(1px, 1px, 1px, 1px);height: 1px;margin: -1px;overflow: hidden;padding: 0;position: absolute;width: 1px;}#sk-container-id-6 div.sk-estimator {font-family: monospace;background-color: #f0f8ff;border: 1px dotted black;border-radius: 0.25em;box-sizing: border-box;margin-bottom: 0.5em;}#sk-container-id-6 div.sk-estimator:hover {background-color: #d4ebff;}#sk-container-id-6 div.sk-parallel-item::after {content: \"\";width: 100%;border-bottom: 1px solid gray;flex-grow: 1;}#sk-container-id-6 div.sk-label:hover label.sk-toggleable__label {background-color: #d4ebff;}#sk-container-id-6 div.sk-serial::before {content: \"\";position: absolute;border-left: 1px solid gray;box-sizing: border-box;top: 0;bottom: 0;left: 50%;z-index: 0;}#sk-container-id-6 div.sk-serial {display: flex;flex-direction: column;align-items: center;background-color: white;padding-right: 0.2em;padding-left: 0.2em;position: relative;}#sk-container-id-6 div.sk-item {position: relative;z-index: 1;}#sk-container-id-6 div.sk-parallel {display: flex;align-items: stretch;justify-content: center;background-color: white;position: relative;}#sk-container-id-6 div.sk-item::before, #sk-container-id-6 div.sk-parallel-item::before {content: \"\";position: absolute;border-left: 1px solid gray;box-sizing: border-box;top: 0;bottom: 0;left: 50%;z-index: -1;}#sk-container-id-6 div.sk-parallel-item {display: flex;flex-direction: column;z-index: 1;position: relative;background-color: white;}#sk-container-id-6 div.sk-parallel-item:first-child::after {align-self: flex-end;width: 50%;}#sk-container-id-6 div.sk-parallel-item:last-child::after {align-self: flex-start;width: 50%;}#sk-container-id-6 div.sk-parallel-item:only-child::after {width: 0;}#sk-container-id-6 div.sk-dashed-wrapped {border: 1px dashed gray;margin: 0 0.4em 0.5em 0.4em;box-sizing: border-box;padding-bottom: 0.4em;background-color: white;}#sk-container-id-6 div.sk-label label {font-family: monospace;font-weight: bold;display: inline-block;line-height: 1.2em;}#sk-container-id-6 div.sk-label-container {text-align: center;}#sk-container-id-6 div.sk-container {/* jupyter's `normalize.less` sets `[hidden] { display: none; }` but bootstrap.min.css set `[hidden] { display: none !important; }` so we also need the `!important` here to be able to override the default hidden behavior on the sphinx rendered scikit-learn.org. See: https://github.com/scikit-learn/scikit-learn/issues/21755 */display: inline-block !important;position: relative;}#sk-container-id-6 div.sk-text-repr-fallback {display: none;}</style><div id=\"sk-container-id-6\" class=\"sk-top-container\"><div class=\"sk-text-repr-fallback\"><pre>RandomForestClassifier(class_weight=&#x27;balanced&#x27;, max_depth=16, n_estimators=170,\n",
       "                       random_state=12345)</pre><b>In a Jupyter environment, please rerun this cell to show the HTML representation or trust the notebook. <br />On GitHub, the HTML representation is unable to render, please try loading this page with nbviewer.org.</b></div><div class=\"sk-container\" hidden><div class=\"sk-item\"><div class=\"sk-estimator sk-toggleable\"><input class=\"sk-toggleable__control sk-hidden--visually\" id=\"sk-estimator-id-6\" type=\"checkbox\" checked><label for=\"sk-estimator-id-6\" class=\"sk-toggleable__label sk-toggleable__label-arrow\">RandomForestClassifier</label><div class=\"sk-toggleable__content\"><pre>RandomForestClassifier(class_weight=&#x27;balanced&#x27;, max_depth=16, n_estimators=170,\n",
       "                       random_state=12345)</pre></div></div></div></div></div>"
      ],
      "text/plain": [
       "RandomForestClassifier(class_weight='balanced', max_depth=16, n_estimators=170,\n",
       "                       random_state=12345)"
      ]
     },
     "execution_count": 53,
     "metadata": {},
     "output_type": "execute_result"
    }
   ],
   "source": [
    "best_rf_model = rf_grid.best_estimator_\n",
    "rf_grid.best_estimator_"
   ]
  },
  {
   "cell_type": "code",
   "execution_count": 54,
   "id": "d5091ec1",
   "metadata": {},
   "outputs": [
    {
     "data": {
      "text/plain": [
       "0.5733420239591644"
      ]
     },
     "execution_count": 54,
     "metadata": {},
     "output_type": "execute_result"
    }
   ],
   "source": [
    "rf_grid.best_score_"
   ]
  },
  {
   "cell_type": "code",
   "execution_count": 55,
   "id": "ac7ebc54",
   "metadata": {},
   "outputs": [
    {
     "name": "stdout",
     "output_type": "stream",
     "text": [
      "Accuracy: 0.866\n",
      "Precision: 0.743\n",
      "Recall: 0.523\n",
      "F1-score: 0.614\n",
      "AUC ROC: 0.872\n"
     ]
    }
   ],
   "source": [
    "rf_pred = best_rf_model.predict(X_val)\n",
    "\n",
    "probabilities_rf_val = best_rf_model.predict_proba(X_val)\n",
    "probabilities_one_rf_val = probabilities_rf_val[:, 1]\n",
    "\n",
    "print(f'Accuracy: {accuracy_score(y_val, rf_pred):.3}')\n",
    "print(f'Precision: {precision_score(y_val, rf_pred):.3}')\n",
    "print(f'Recall: {recall_score(y_val, rf_pred):.3}')\n",
    "print(f'F1-score: {f1_score(y_val, rf_pred):.3}')\n",
    "print(f'AUC ROC: {roc_auc_score(y_val, probabilities_one_rf_val):.3}')"
   ]
  },
  {
   "cell_type": "markdown",
   "id": "c4b9f8a5",
   "metadata": {},
   "source": [
    "Результат еще лучше, F1-score до 0.59 догнали, и даже *обогнали*."
   ]
  },
  {
   "cell_type": "code",
   "execution_count": 56,
   "id": "408910b1",
   "metadata": {},
   "outputs": [
    {
     "data": {
      "image/png": "[encoded data removed]",
      "text/plain": [
       "<Figure size 432x288 with 1 Axes>"
      ]
     },
     "metadata": {
      "needs_background": "light"
     },
     "output_type": "display_data"
    }
   ],
   "source": [
    "print_roc_curve(y_val, probabilities_one_rf_val)"
   ]
  },
  {
   "cell_type": "markdown",
   "id": "0b07441c",
   "metadata": {},
   "source": [
    "### Апсемплинг"
   ]
  },
  {
   "cell_type": "markdown",
   "id": "eb3470e9",
   "metadata": {},
   "source": [
    "Попробуем другой способ, увеличение выборки"
   ]
  },
  {
   "cell_type": "code",
   "execution_count": 57,
   "id": "b9a32b40",
   "metadata": {},
   "outputs": [
    {
     "data": {
      "text/plain": [
       "0    0.796062\n",
       "1    0.203938\n",
       "Name: exited, dtype: float64"
      ]
     },
     "execution_count": 57,
     "metadata": {},
     "output_type": "execute_result"
    }
   ],
   "source": [
    "# Вспомним какое у нас было отношение классов в таргете\n",
    "churn.exited.value_counts(normalize=True)"
   ]
  },
  {
   "cell_type": "code",
   "execution_count": 58,
   "id": "668c487b",
   "metadata": {},
   "outputs": [],
   "source": [
    "# объявим функцию upsample \n",
    "def upsample(X, y, repeat):\n",
    "    '''\n",
    "    Функция принимает на вход X (фичи), y (таргет) и repeat (число, во сколько раз нужно увеличить наблюдения с таргетом = 1)\n",
    "            возваращает апсемплированные фичи и таргет\n",
    "    '''\n",
    "    # отделяем классы 0 и 1 для фичей и таргета\n",
    "    X_zeros = X[y == 0]\n",
    "    X_ones = X[y == 1]\n",
    "    y_zeros = y[y == 0]\n",
    "    y_ones = y[y == 1]\n",
    "\n",
    "    # умножаем нужное количество раз наблюдения с классом 1 и объединяем наблюдения с 0 и 1\n",
    "    X_upsampled = pd.concat([X_zeros] + [X_ones] * repeat)\n",
    "    y_upsampled = pd.concat([y_zeros] + [y_ones] * repeat)\n",
    "    \n",
    "    # \"мешаем\" наблюдения, чтобы нули и единицы не стояли последовательно вместе\n",
    "    X_upsampled, y_upsampled = shuffle(\n",
    "        X_upsampled, y_upsampled, random_state=12345)\n",
    "    \n",
    "    # возвращаем апсемплированные фичи и таргет\n",
    "    return X_upsampled, y_upsampled"
   ]
  },
  {
   "cell_type": "code",
   "execution_count": 59,
   "id": "bd59f468",
   "metadata": {},
   "outputs": [
    {
     "data": {
      "text/plain": [
       "1    0.50603\n",
       "0    0.49397\n",
       "Name: exited, dtype: float64"
      ]
     },
     "execution_count": 59,
     "metadata": {},
     "output_type": "execute_result"
    }
   ],
   "source": [
    "# применим эту функцию (4 т.к. нам нужно умножить наблюдения с классом 1 на 4 чтобы избавиться от дисбаланса)\n",
    "X_upsampled, y_upsampled = upsample(X_train, y_train, 4)\n",
    "\n",
    "# и сразу проверим отношение классов\n",
    "y_upsampled.value_counts(normalize=True)"
   ]
  },
  {
   "cell_type": "markdown",
   "id": "11d7ea29",
   "metadata": {},
   "source": [
    "#### LogisticRegression"
   ]
  },
  {
   "cell_type": "code",
   "execution_count": 60,
   "id": "ae02535b",
   "metadata": {},
   "outputs": [
    {
     "name": "stdout",
     "output_type": "stream",
     "text": [
      "Accuracy: 0.762\n",
      "Precision: 0.453\n",
      "Recall: 0.787\n",
      "F1-score: 0.575\n",
      "AUC ROC: 0.848\n"
     ]
    }
   ],
   "source": [
    "# обучим модель на апсемплированных данных\n",
    "best_lr_model.fit(X_upsampled, y_upsampled)\n",
    "\n",
    "# предиктим\n",
    "predicted_upsamp_val = best_lr_model.predict(X_val)\n",
    "probabilities_lr_val = best_lr_model.predict_proba(X_val)\n",
    "probabilities_one_lr_val = probabilities_lr_val[:, 1]\n",
    "\n",
    "# и посмотрим на результаты\n",
    "print(f'Accuracy: {accuracy_score(y_val, predicted_upsamp_val):.3}')\n",
    "print(f'Precision: {precision_score(y_val, predicted_upsamp_val):.3}')\n",
    "print(f'Recall: {recall_score(y_val, predicted_upsamp_val):.3}')\n",
    "print(f'F1-score: {f1_score(y_val, predicted_upsamp_val):.3}')\n",
    "print(f'AUC ROC: {roc_auc_score(y_val, probabilities_one_lr_val):.3}')"
   ]
  },
  {
   "cell_type": "markdown",
   "id": "8d690ac4",
   "metadata": {},
   "source": [
    "Логистическая регрессия получила F1-score еще лучше, теперь 0.575"
   ]
  },
  {
   "cell_type": "code",
   "execution_count": 61,
   "id": "de59baad",
   "metadata": {},
   "outputs": [
    {
     "data": {
      "image/png": "[encoded data removed]",
      "text/plain": [
       "<Figure size 432x288 with 1 Axes>"
      ]
     },
     "metadata": {
      "needs_background": "light"
     },
     "output_type": "display_data"
    }
   ],
   "source": [
    "print_roc_curve(y_val, probabilities_one_rf_val)"
   ]
  },
  {
   "cell_type": "markdown",
   "id": "e93220fd",
   "metadata": {},
   "source": [
    "#### DesicionTreeClassifier"
   ]
  },
  {
   "cell_type": "code",
   "execution_count": 62,
   "id": "0c89b699",
   "metadata": {},
   "outputs": [
    {
     "name": "stdout",
     "output_type": "stream",
     "text": [
      "Accuracy: 0.761\n",
      "Precision: 0.452\n",
      "Recall: 0.803\n",
      "F1-score: 0.579\n",
      "AUC ROC: 0.841\n"
     ]
    }
   ],
   "source": [
    "# обучим модель на апсемплированных данных\n",
    "best_dt_model.fit(X_upsampled, y_upsampled)\n",
    "\n",
    "# предиктим\n",
    "predicted_upsamp_val = best_dt_model.predict(X_val)\n",
    "probabilities_dt_val = best_dt_model.predict_proba(X_val)\n",
    "probabilities_one_dt_val = probabilities_dt_val[:, 1]\n",
    "\n",
    "# и посмотрим на результаты\n",
    "print(f'Accuracy: {accuracy_score(y_val, predicted_upsamp_val):.3}')\n",
    "print(f'Precision: {precision_score(y_val, predicted_upsamp_val):.3}')\n",
    "print(f'Recall: {recall_score(y_val, predicted_upsamp_val):.3}')\n",
    "print(f'F1-score: {f1_score(y_val, predicted_upsamp_val):.3}')\n",
    "print(f'AUC ROC: {roc_auc_score(y_val, probabilities_one_dt_val):.3}')"
   ]
  },
  {
   "cell_type": "markdown",
   "id": "4e35a025",
   "metadata": {},
   "source": [
    "Результат идентичный предыдущему..."
   ]
  },
  {
   "cell_type": "code",
   "execution_count": 63,
   "id": "569223e7",
   "metadata": {},
   "outputs": [
    {
     "data": {
      "image/png": "[encoded data removed]",
      "text/plain": [
       "<Figure size 432x288 with 1 Axes>"
      ]
     },
     "metadata": {
      "needs_background": "light"
     },
     "output_type": "display_data"
    }
   ],
   "source": [
    "print_roc_curve(y_val, probabilities_one_dt_val)"
   ]
  },
  {
   "cell_type": "markdown",
   "id": "05481e3b",
   "metadata": {},
   "source": [
    "#### RandomForestClassifier"
   ]
  },
  {
   "cell_type": "code",
   "execution_count": 64,
   "id": "0687e8ac",
   "metadata": {},
   "outputs": [
    {
     "name": "stdout",
     "output_type": "stream",
     "text": [
      "Accuracy: 0.853\n",
      "Precision: 0.644\n",
      "Recall: 0.62\n",
      "F1-score: 0.632\n",
      "AUC ROC: 0.87\n"
     ]
    }
   ],
   "source": [
    "# обучим модель на апсемплированных данных\n",
    "best_rf_model.fit(X_upsampled, y_upsampled)\n",
    "\n",
    "# предиктим\n",
    "predicted_upsamp_val = best_rf_model.predict(X_val)\n",
    "probabilities_rf_val = best_rf_model.predict_proba(X_val)\n",
    "probabilities_one_rf_val = probabilities_rf_val[:, 1]\n",
    "\n",
    "# и посмотрим на результаты\n",
    "print(f'Accuracy: {accuracy_score(y_val, predicted_upsamp_val):.3}')\n",
    "print(f'Precision: {precision_score(y_val, predicted_upsamp_val):.3}')\n",
    "print(f'Recall: {recall_score(y_val, predicted_upsamp_val):.3}')\n",
    "print(f'F1-score: {f1_score(y_val, predicted_upsamp_val):.3}')\n",
    "print(f'AUC ROC: {roc_auc_score(y_val, probabilities_one_rf_val):.3}')"
   ]
  },
  {
   "cell_type": "markdown",
   "id": "5a45e5dc",
   "metadata": {},
   "source": [
    "F1-score чуть хуже чем при взвешивании классов"
   ]
  },
  {
   "cell_type": "code",
   "execution_count": 65,
   "id": "71883f43",
   "metadata": {},
   "outputs": [
    {
     "data": {
      "image/png": "[encoded data removed]",
      "text/plain": [
       "<Figure size 432x288 with 1 Axes>"
      ]
     },
     "metadata": {
      "needs_background": "light"
     },
     "output_type": "display_data"
    }
   ],
   "source": [
    "print_roc_curve(y_val, probabilities_one_rf_val)"
   ]
  },
  {
   "cell_type": "markdown",
   "id": "4d5623a9",
   "metadata": {},
   "source": [
    "### Даунсемплинг"
   ]
  },
  {
   "cell_type": "markdown",
   "id": "5acedbe0",
   "metadata": {},
   "source": [
    "Теперь применим метод уменьшения выборки"
   ]
  },
  {
   "cell_type": "code",
   "execution_count": 66,
   "id": "95cd6655",
   "metadata": {},
   "outputs": [],
   "source": [
    "def downsample(X, y, fraction):\n",
    "    '''\n",
    "    Функция принимает на вход X (фичи), y (таргет) и fraction (доля случайных наблюдений, выбираемых функцией sample)\n",
    "            возваращает даунсемплированные фичи и таргет\n",
    "    '''\n",
    "    # отделяем классы 0 и 1 для фичей и таргета\n",
    "    X_zeros = X[y == 0]\n",
    "    X_ones = X[y == 1]\n",
    "    y_zeros = y[y == 0]\n",
    "    y_ones = y[y == 1]\n",
    "\n",
    "    # функцией sample с параметром fraction отделяем нужную долю случайных наблюдений\n",
    "    X_downsampled = pd.concat(\n",
    "        [X_zeros.sample(frac=fraction, random_state=12345)] + [X_ones])\n",
    "    y_downsampled = pd.concat(\n",
    "        [y_zeros.sample(frac=fraction, random_state=12345)] + [y_ones])\n",
    "    \n",
    "    # \"мешаем\" наблюдения, чтобы нули и единицы не стояли последовательно вместе\n",
    "    X_downsampled, y_downsampled = shuffle(\n",
    "        X_downsampled, y_downsampled, random_state=12345)\n",
    "    \n",
    "    # возвращаем даунсемплированные фичи и таргет\n",
    "    return X_downsampled, y_downsampled"
   ]
  },
  {
   "cell_type": "code",
   "execution_count": 67,
   "id": "ea418128",
   "metadata": {},
   "outputs": [
    {
     "data": {
      "text/plain": [
       "1    0.50603\n",
       "0    0.49397\n",
       "Name: exited, dtype: float64"
      ]
     },
     "execution_count": 67,
     "metadata": {},
     "output_type": "execute_result"
    }
   ],
   "source": [
    "# применим эту функцию (0.25 т.к. нам нужно поделить наблюдения с классом 0 на 4 чтобы избавиться от дисбаланса)\n",
    "X_downsampled, y_downsampled = downsample(X_train, y_train, 0.25)\n",
    "\n",
    "# и сразу проверим отношение классов\n",
    "y_upsampled.value_counts(normalize=True)"
   ]
  },
  {
   "cell_type": "markdown",
   "id": "785de612",
   "metadata": {},
   "source": [
    "#### LogisticRegression"
   ]
  },
  {
   "cell_type": "code",
   "execution_count": 68,
   "id": "b2e30ab1",
   "metadata": {},
   "outputs": [
    {
     "name": "stdout",
     "output_type": "stream",
     "text": [
      "Accuracy: 0.757\n",
      "Precision: 0.446\n",
      "Recall: 0.787\n",
      "F1-score: 0.569\n",
      "AUC ROC: 0.846\n"
     ]
    }
   ],
   "source": [
    "# обучим модель на апсемплированных данных\n",
    "best_lr_model.fit(X_downsampled, y_downsampled)\n",
    "\n",
    "# предиктим\n",
    "predicted_downsamp_val = best_lr_model.predict(X_val)\n",
    "probabilities_lr_val = best_lr_model.predict_proba(X_val)\n",
    "probabilities_one_lr_val = probabilities_lr_val[:, 1]\n",
    "\n",
    "# и посмотрим на результаты\n",
    "print(f'Accuracy: {accuracy_score(y_val, predicted_downsamp_val):.3}')\n",
    "print(f'Precision: {precision_score(y_val, predicted_downsamp_val):.3}')\n",
    "print(f'Recall: {recall_score(y_val, predicted_downsamp_val):.3}')\n",
    "print(f'F1-score: {f1_score(y_val, predicted_downsamp_val):.3}')\n",
    "print(f'AUC ROC: {roc_auc_score(y_val, probabilities_one_lr_val):.3}')"
   ]
  },
  {
   "cell_type": "markdown",
   "id": "5bf74d22",
   "metadata": {},
   "source": [
    "F1-score хуже, чем у двух других подходов"
   ]
  },
  {
   "cell_type": "markdown",
   "id": "6f599adb",
   "metadata": {},
   "source": [
    "#### DesicionTreeClassifier"
   ]
  },
  {
   "cell_type": "code",
   "execution_count": 69,
   "id": "00a199d4",
   "metadata": {},
   "outputs": [
    {
     "name": "stdout",
     "output_type": "stream",
     "text": [
      "Accuracy: 0.757\n",
      "Precision: 0.445\n",
      "Recall: 0.779\n",
      "F1-score: 0.567\n",
      "AUC ROC: 0.84\n"
     ]
    }
   ],
   "source": [
    "# обучим модель на апсемплированных данных\n",
    "best_dt_model.fit(X_downsampled, y_downsampled)\n",
    "\n",
    "# предиктим\n",
    "predicted_downsamp_val = best_dt_model.predict(X_val)\n",
    "probabilities_dt_val = best_dt_model.predict_proba(X_val)\n",
    "probabilities_one_dt_val = probabilities_dt_val[:, 1]\n",
    "\n",
    "# и посмотрим на результаты\n",
    "print(f'Accuracy: {accuracy_score(y_val, predicted_downsamp_val):.3}')\n",
    "print(f'Precision: {precision_score(y_val, predicted_downsamp_val):.3}')\n",
    "print(f'Recall: {recall_score(y_val, predicted_downsamp_val):.3}')\n",
    "print(f'F1-score: {f1_score(y_val, predicted_downsamp_val):.3}')\n",
    "print(f'AUC ROC: {roc_auc_score(y_val, probabilities_one_dt_val):.3}')"
   ]
  },
  {
   "cell_type": "markdown",
   "id": "6bacbf7f",
   "metadata": {},
   "source": [
    "Здесь тоже F1-score получился хуже (заметно) по сравнению с другими подходами"
   ]
  },
  {
   "cell_type": "code",
   "execution_count": 70,
   "id": "0261b25f",
   "metadata": {},
   "outputs": [
    {
     "data": {
      "image/png": "[encoded data removed]",
      "text/plain": [
       "<Figure size 432x288 with 1 Axes>"
      ]
     },
     "metadata": {
      "needs_background": "light"
     },
     "output_type": "display_data"
    }
   ],
   "source": [
    "print_roc_curve(y_val, probabilities_one_dt_val)"
   ]
  },
  {
   "cell_type": "markdown",
   "id": "9390d5c5",
   "metadata": {},
   "source": [
    "#### RandomForestClassifier"
   ]
  },
  {
   "cell_type": "code",
   "execution_count": 71,
   "id": "778841d5",
   "metadata": {},
   "outputs": [
    {
     "name": "stdout",
     "output_type": "stream",
     "text": [
      "Accuracy: 0.781\n",
      "Precision: 0.477\n",
      "Recall: 0.798\n",
      "F1-score: 0.597\n",
      "AUC ROC: 0.874\n"
     ]
    }
   ],
   "source": [
    "# обучим модель на даунсемплированных данных\n",
    "best_rf_model.fit(X_downsampled, y_downsampled)\n",
    "\n",
    "# предиктим\n",
    "predicted_downsamp_val = best_rf_model.predict(X_val)\n",
    "probabilities_rf_val = best_rf_model.predict_proba(X_val)\n",
    "probabilities_one_rf_val = probabilities_rf_val[:, 1]\n",
    "\n",
    "# и посмотрим на результаты\n",
    "print(f'Accuracy: {accuracy_score(y_val, predicted_downsamp_val):.3}')\n",
    "print(f'Precision: {precision_score(y_val, predicted_downsamp_val):.3}')\n",
    "print(f'Recall: {recall_score(y_val, predicted_downsamp_val):.3}')\n",
    "print(f'F1-score: {f1_score(y_val, predicted_downsamp_val):.3}')\n",
    "print(f'AUC ROC: {roc_auc_score(y_val, probabilities_one_rf_val):.3}')"
   ]
  },
  {
   "cell_type": "markdown",
   "id": "96fc4c41",
   "metadata": {},
   "source": [
    "И здесь результат получился хуже чем при использовании других подходов, но мы можем заключить, что все три способа **эффективны** при борьбе с дисбалансом классов."
   ]
  },
  {
   "cell_type": "code",
   "execution_count": 72,
   "id": "6f035757",
   "metadata": {},
   "outputs": [
    {
     "data": {
      "image/png": "[encoded data removed]",
      "text/plain": [
       "<Figure size 432x288 with 1 Axes>"
      ]
     },
     "metadata": {
      "needs_background": "light"
     },
     "output_type": "display_data"
    }
   ],
   "source": [
    "print_roc_curve(y_val, probabilities_one_rf_val)"
   ]
  },
  {
   "cell_type": "markdown",
   "id": "af05c8e5",
   "metadata": {},
   "source": [
    "**Вывод:**\n",
    "\n",
    "1. Все методы борьбы с дисбалансом *эффективны*\n",
    "2. Лучшим по показаниям метрик выберем метод *взвешивание классов*\n",
    "3. Лучшей моделью будем считать *RandomForestClassifier* он показывал наилучшие результаты во всех трех методах"
   ]
  },
  {
   "cell_type": "markdown",
   "id": "a60a8cc0",
   "metadata": {},
   "source": [
    "## Тестирование лучшей модели"
   ]
  },
  {
   "cell_type": "markdown",
   "id": "f6ac50a6",
   "metadata": {},
   "source": [
    "Проведем финальное *тестирование модели*!\n",
    "\n",
    "\n",
    "При проверке лучшей модели, будем обучать её на сконкаченных данных (train + validation)"
   ]
  },
  {
   "cell_type": "code",
   "execution_count": 73,
   "id": "8c77360b",
   "metadata": {},
   "outputs": [
    {
     "name": "stdout",
     "output_type": "stream",
     "text": [
      "Кол-во строк в train + val выборке = 7272\n"
     ]
    }
   ],
   "source": [
    "print(\n",
    "    f\"Кол-во строк в train + val выборке = {X_train.shape[0] + X_val.shape[0]}\"\n",
    ")"
   ]
  },
  {
   "cell_type": "code",
   "execution_count": 74,
   "id": "e7af6773",
   "metadata": {},
   "outputs": [
    {
     "name": "stdout",
     "output_type": "stream",
     "text": [
      "Кол-во строк в объединенной выборке = 7272\n"
     ]
    }
   ],
   "source": [
    "# объединяем train и val выборки\n",
    "X_train_val = pd.concat([X_train, X_val])\n",
    "y_train_val = pd.concat([y_train, y_val])\n",
    "\n",
    "# сразу проверим кол-во строк\n",
    "print(f\"Кол-во строк в объединенной выборке = {X_train_val.shape[0]}\")"
   ]
  },
  {
   "cell_type": "markdown",
   "id": "5388a7c7",
   "metadata": {},
   "source": [
    "Лучшим показал себя метод upsampling его и применим."
   ]
  },
  {
   "cell_type": "code",
   "execution_count": 75,
   "id": "4c6f122f",
   "metadata": {},
   "outputs": [
    {
     "data": {
      "text/plain": [
       "0    0.796067\n",
       "1    0.203933\n",
       "Name: exited, dtype: float64"
      ]
     },
     "execution_count": 75,
     "metadata": {},
     "output_type": "execute_result"
    }
   ],
   "source": [
    "y_train_val.value_counts(normalize=True)"
   ]
  },
  {
   "cell_type": "code",
   "execution_count": 76,
   "id": "cc02b993",
   "metadata": {},
   "outputs": [
    {
     "data": {
      "text/plain": [
       "1    0.5061\n",
       "0    0.4939\n",
       "Name: exited, dtype: float64"
      ]
     },
     "execution_count": 76,
     "metadata": {},
     "output_type": "execute_result"
    }
   ],
   "source": [
    "# применим функцию upsample\n",
    "X_upsampled, y_upsampled = upsample(X_train_val, y_train_val, 4)\n",
    "\n",
    "# и сразу проверим отношение классов\n",
    "y_upsampled.value_counts(normalize=True)"
   ]
  },
  {
   "cell_type": "code",
   "execution_count": 77,
   "id": "8768e14c",
   "metadata": {},
   "outputs": [
    {
     "name": "stdout",
     "output_type": "stream",
     "text": [
      "Обучено!\n",
      "Wall time: 1min 7s\n"
     ]
    }
   ],
   "source": [
    "%%time\n",
    "\n",
    "rf_model = RandomForestClassifier(class_weight='balanced', random_state=RANDOM_STATE)\n",
    "\n",
    "rf_grid = GridSearchCV(estimator=rf_model, param_grid=rf_params, cv=5, n_jobs=-1, scoring='f1')\n",
    "rf_grid.fit(X_upsampled, y_upsampled)\n",
    "print(\"Обучено!\")"
   ]
  },
  {
   "cell_type": "code",
   "execution_count": 78,
   "id": "cca9c3b4",
   "metadata": {},
   "outputs": [
    {
     "data": {
      "text/html": [
       "<style>#sk-container-id-7 {color: black;background-color: white;}#sk-container-id-7 pre{padding: 0;}#sk-container-id-7 div.sk-toggleable {background-color: white;}#sk-container-id-7 label.sk-toggleable__label {cursor: pointer;display: block;width: 100%;margin-bottom: 0;padding: 0.3em;box-sizing: border-box;text-align: center;}#sk-container-id-7 label.sk-toggleable__label-arrow:before {content: \"▸\";float: left;margin-right: 0.25em;color: #696969;}#sk-container-id-7 label.sk-toggleable__label-arrow:hover:before {color: black;}#sk-container-id-7 div.sk-estimator:hover label.sk-toggleable__label-arrow:before {color: black;}#sk-container-id-7 div.sk-toggleable__content {max-height: 0;max-width: 0;overflow: hidden;text-align: left;background-color: #f0f8ff;}#sk-container-id-7 div.sk-toggleable__content pre {margin: 0.2em;color: black;border-radius: 0.25em;background-color: #f0f8ff;}#sk-container-id-7 input.sk-toggleable__control:checked~div.sk-toggleable__content {max-height: 200px;max-width: 100%;overflow: auto;}#sk-container-id-7 input.sk-toggleable__control:checked~label.sk-toggleable__label-arrow:before {content: \"▾\";}#sk-container-id-7 div.sk-estimator input.sk-toggleable__control:checked~label.sk-toggleable__label {background-color: #d4ebff;}#sk-container-id-7 div.sk-label input.sk-toggleable__control:checked~label.sk-toggleable__label {background-color: #d4ebff;}#sk-container-id-7 input.sk-hidden--visually {border: 0;clip: rect(1px 1px 1px 1px);clip: rect(1px, 1px, 1px, 1px);height: 1px;margin: -1px;overflow: hidden;padding: 0;position: absolute;width: 1px;}#sk-container-id-7 div.sk-estimator {font-family: monospace;background-color: #f0f8ff;border: 1px dotted black;border-radius: 0.25em;box-sizing: border-box;margin-bottom: 0.5em;}#sk-container-id-7 div.sk-estimator:hover {background-color: #d4ebff;}#sk-container-id-7 div.sk-parallel-item::after {content: \"\";width: 100%;border-bottom: 1px solid gray;flex-grow: 1;}#sk-container-id-7 div.sk-label:hover label.sk-toggleable__label {background-color: #d4ebff;}#sk-container-id-7 div.sk-serial::before {content: \"\";position: absolute;border-left: 1px solid gray;box-sizing: border-box;top: 0;bottom: 0;left: 50%;z-index: 0;}#sk-container-id-7 div.sk-serial {display: flex;flex-direction: column;align-items: center;background-color: white;padding-right: 0.2em;padding-left: 0.2em;position: relative;}#sk-container-id-7 div.sk-item {position: relative;z-index: 1;}#sk-container-id-7 div.sk-parallel {display: flex;align-items: stretch;justify-content: center;background-color: white;position: relative;}#sk-container-id-7 div.sk-item::before, #sk-container-id-7 div.sk-parallel-item::before {content: \"\";position: absolute;border-left: 1px solid gray;box-sizing: border-box;top: 0;bottom: 0;left: 50%;z-index: -1;}#sk-container-id-7 div.sk-parallel-item {display: flex;flex-direction: column;z-index: 1;position: relative;background-color: white;}#sk-container-id-7 div.sk-parallel-item:first-child::after {align-self: flex-end;width: 50%;}#sk-container-id-7 div.sk-parallel-item:last-child::after {align-self: flex-start;width: 50%;}#sk-container-id-7 div.sk-parallel-item:only-child::after {width: 0;}#sk-container-id-7 div.sk-dashed-wrapped {border: 1px dashed gray;margin: 0 0.4em 0.5em 0.4em;box-sizing: border-box;padding-bottom: 0.4em;background-color: white;}#sk-container-id-7 div.sk-label label {font-family: monospace;font-weight: bold;display: inline-block;line-height: 1.2em;}#sk-container-id-7 div.sk-label-container {text-align: center;}#sk-container-id-7 div.sk-container {/* jupyter's `normalize.less` sets `[hidden] { display: none; }` but bootstrap.min.css set `[hidden] { display: none !important; }` so we also need the `!important` here to be able to override the default hidden behavior on the sphinx rendered scikit-learn.org. See: https://github.com/scikit-learn/scikit-learn/issues/21755 */display: inline-block !important;position: relative;}#sk-container-id-7 div.sk-text-repr-fallback {display: none;}</style><div id=\"sk-container-id-7\" class=\"sk-top-container\"><div class=\"sk-text-repr-fallback\"><pre>RandomForestClassifier(class_weight=&#x27;balanced&#x27;, max_depth=24, n_estimators=170,\n",
       "                       random_state=12345)</pre><b>In a Jupyter environment, please rerun this cell to show the HTML representation or trust the notebook. <br />On GitHub, the HTML representation is unable to render, please try loading this page with nbviewer.org.</b></div><div class=\"sk-container\" hidden><div class=\"sk-item\"><div class=\"sk-estimator sk-toggleable\"><input class=\"sk-toggleable__control sk-hidden--visually\" id=\"sk-estimator-id-7\" type=\"checkbox\" checked><label for=\"sk-estimator-id-7\" class=\"sk-toggleable__label sk-toggleable__label-arrow\">RandomForestClassifier</label><div class=\"sk-toggleable__content\"><pre>RandomForestClassifier(class_weight=&#x27;balanced&#x27;, max_depth=24, n_estimators=170,\n",
       "                       random_state=12345)</pre></div></div></div></div></div>"
      ],
      "text/plain": [
       "RandomForestClassifier(class_weight='balanced', max_depth=24, n_estimators=170,\n",
       "                       random_state=12345)"
      ]
     },
     "execution_count": 78,
     "metadata": {},
     "output_type": "execute_result"
    }
   ],
   "source": [
    "best_rf_model = rf_grid.best_estimator_\n",
    "rf_grid.best_estimator_"
   ]
  },
  {
   "cell_type": "code",
   "execution_count": 79,
   "id": "5c94f68c",
   "metadata": {},
   "outputs": [
    {
     "name": "stdout",
     "output_type": "stream",
     "text": [
      "Accuracy: 0.85\n",
      "Precision: 0.658\n",
      "Recall: 0.55\n",
      "F1-score: 0.599\n",
      "AUC ROC: 0.847\n"
     ]
    }
   ],
   "source": [
    "rf_pred = best_rf_model.predict(X_test)\n",
    "\n",
    "probabilities_rf_test = best_rf_model.predict_proba(X_test)\n",
    "probabilities_one_rf_test = probabilities_rf_test[:, 1]\n",
    "\n",
    "print(f'Accuracy: {accuracy_score(y_test, rf_pred):.3}')\n",
    "print(f'Precision: {precision_score(y_test, rf_pred):.3}')\n",
    "print(f'Recall: {recall_score(y_test, rf_pred):.3}')\n",
    "print(f'F1-score: {f1_score(y_test, rf_pred):.3}')\n",
    "print(f'AUC ROC: {roc_auc_score(y_test, probabilities_one_rf_test):.3}')"
   ]
  },
  {
   "cell_type": "markdown",
   "id": "2a8751fc",
   "metadata": {},
   "source": [
    "Видимо, в \"реальной жизни\" мы можем надеяться именно на эту оценку - 0.599"
   ]
  },
  {
   "cell_type": "markdown",
   "id": "36a5a7e2",
   "metadata": {},
   "source": [
    "## Сравнение лучшей модели с константной"
   ]
  },
  {
   "cell_type": "code",
   "execution_count": 80,
   "id": "9eb2d725",
   "metadata": {},
   "outputs": [
    {
     "name": "stdout",
     "output_type": "stream",
     "text": [
      "Сравнение результатов DummyClassifier с лучшей моделью:\n",
      "\n",
      "_dum_dum: 0.0\n",
      "rf_model: 0.599\n"
     ]
    }
   ],
   "source": [
    "# инициализируем dummy классификатор и фиттим на train_val выборке\n",
    "dum_dum = DummyClassifier(strategy=\"most_frequent\", random_state=RANDOM_STATE)\n",
    "dum_dum.fit(X_train_val, y_train_val)\n",
    "\n",
    "# проверяем на тестовой выборке\n",
    "dummy_pred = dum_dum.predict(X_test)\n",
    "train_val_dummy_score = f1_score(y_test, dummy_pred)\n",
    "train_val_rf_score = f1_score(y_test, rf_pred)\n",
    "\n",
    "print(\"Сравнение результатов DummyClassifier с лучшей моделью:\")\n",
    "print()\n",
    "print(f\"_dum_dum: {train_val_dummy_score:.3}\")\n",
    "print(f\"rf_model: {train_val_rf_score:.3}\")"
   ]
  },
  {
   "cell_type": "markdown",
   "id": "084ea624",
   "metadata": {},
   "source": [
    "## Общий вывод"
   ]
  },
  {
   "cell_type": "markdown",
   "id": "07f06f5a",
   "metadata": {},
   "source": [
    "1. **`Подготовка данных`**:\n",
    "    - на этом этапе был решен ряд проблем, среди них:\n",
    "        - названия столбцов переведены в `snake_case`\n",
    "        - пропущенные значения в столбце Tenure были заполнены *заглушкой*\n",
    "        - столбец `tenure` переведен из типа `float` в `int`\n",
    "        - столбцы `geography` и `gender` были закодированы техникой *OHE*\n",
    "\n",
    "\n",
    "2. **`Исследование задачи`**:\n",
    "    - было обучено три модели без учета дисбаланса, желаемое значение F1-score в 0.59 не было достигнуто\n",
    "\n",
    "\n",
    "3. **`Борьба с дисбалансом`**:\n",
    "    - было применено три способа борьбы с дисбалансом:\n",
    "        - взвешивание классов:\n",
    "            - было обучено три модели с параметром class_weight='balanced'\n",
    "            - RF: F1-score = 0.645, AUC ROC = 0.875\n",
    "        - апсемплинг:\n",
    "            - было обучено три модели с выборкой измененной в соответствии с методом, описан краткий вывод, построен крафик ROC_CURVE\n",
    "            - RF: F1-score = 0.636, AUC ROC = 0.875\n",
    "        - даунсемплинг:\n",
    "            - было обучено три модели с выборкой измененной в соответствии с методом, описан краткий вывод, построен крафик ROC_CURVE\n",
    "            - RF: F1-score = 0.600, AUC ROC = 0.874\n",
    "\n",
    "\n",
    "4. **`Тестирование модели`**:\n",
    "    - проведено финальное тестирование модели\n",
    "    - RF: F1-score = 0.604, AUC ROC = 0.849\n",
    "    \n",
    "    \n",
    "5. **`Итог`**:\n",
    "    - **Все три способа борьбы с дисбалансом ЭФФЕКТИВНЫ и помогают добиться лучших результатов**\n",
    "    - **Лучшим методом в нашем случае оказалось *взвешивание классов***\n",
    "    - **Лучшей моделью была выбрана RandomForestClassifier**"
   ]
  },
  {
   "cell_type": "code",
   "execution_count": null,
   "id": "9cff603f",
   "metadata": {},
   "outputs": [],
   "source": []
  }
 ],
 "metadata": {
  "ExecuteTimeLog": [
   {
    "duration": 2381,
    "start_time": "2023-01-06T14:30:24.577Z"
   },
   {
    "duration": 85,
    "start_time": "2023-01-06T14:30:26.960Z"
   },
   {
    "duration": 12,
    "start_time": "2023-01-06T14:30:27.046Z"
   },
   {
    "duration": 37,
    "start_time": "2023-01-06T14:30:27.059Z"
   },
   {
    "duration": 2,
    "start_time": "2023-01-06T14:30:27.098Z"
   },
   {
    "duration": 8,
    "start_time": "2023-01-06T14:30:27.101Z"
   },
   {
    "duration": 6,
    "start_time": "2023-01-06T14:30:27.110Z"
   },
   {
    "duration": 9,
    "start_time": "2023-01-06T14:30:27.117Z"
   },
   {
    "duration": 11,
    "start_time": "2023-01-06T14:30:27.127Z"
   },
   {
    "duration": 4,
    "start_time": "2023-01-06T14:30:27.141Z"
   },
   {
    "duration": 5,
    "start_time": "2023-01-06T14:30:27.146Z"
   },
   {
    "duration": 6,
    "start_time": "2023-01-06T14:30:27.152Z"
   },
   {
    "duration": 26,
    "start_time": "2023-01-06T14:30:27.160Z"
   },
   {
    "duration": 15,
    "start_time": "2023-01-06T14:30:27.187Z"
   },
   {
    "duration": 15,
    "start_time": "2023-01-06T14:30:27.203Z"
   },
   {
    "duration": 13,
    "start_time": "2023-01-06T14:30:27.220Z"
   },
   {
    "duration": 6,
    "start_time": "2023-01-06T14:30:27.235Z"
   },
   {
    "duration": 4,
    "start_time": "2023-01-06T14:30:27.242Z"
   },
   {
    "duration": 20,
    "start_time": "2023-01-06T14:30:27.247Z"
   },
   {
    "duration": 9,
    "start_time": "2023-01-06T14:30:27.269Z"
   },
   {
    "duration": 14,
    "start_time": "2023-01-06T14:30:27.279Z"
   },
   {
    "duration": 7,
    "start_time": "2023-01-06T14:30:27.294Z"
   },
   {
    "duration": 8,
    "start_time": "2023-01-06T14:30:27.302Z"
   },
   {
    "duration": 11,
    "start_time": "2023-01-06T14:30:46.871Z"
   },
   {
    "duration": 10,
    "start_time": "2023-01-06T14:30:56.806Z"
   },
   {
    "duration": 1808,
    "start_time": "2023-01-12T16:28:23.523Z"
   },
   {
    "duration": 77,
    "start_time": "2023-01-12T16:28:25.333Z"
   },
   {
    "duration": 14,
    "start_time": "2023-01-12T16:28:25.412Z"
   },
   {
    "duration": 52,
    "start_time": "2023-01-12T16:28:25.429Z"
   },
   {
    "duration": 3,
    "start_time": "2023-01-12T16:28:25.483Z"
   },
   {
    "duration": 18,
    "start_time": "2023-01-12T16:28:25.487Z"
   },
   {
    "duration": 43,
    "start_time": "2023-01-12T16:28:25.506Z"
   },
   {
    "duration": 18,
    "start_time": "2023-01-12T16:28:25.551Z"
   },
   {
    "duration": 27,
    "start_time": "2023-01-12T16:28:25.571Z"
   },
   {
    "duration": 31,
    "start_time": "2023-01-12T16:28:25.601Z"
   },
   {
    "duration": 26,
    "start_time": "2023-01-12T16:28:25.634Z"
   },
   {
    "duration": 33,
    "start_time": "2023-01-12T16:28:25.662Z"
   },
   {
    "duration": 24,
    "start_time": "2023-01-12T16:28:25.697Z"
   },
   {
    "duration": 22,
    "start_time": "2023-01-12T16:28:25.723Z"
   },
   {
    "duration": 33,
    "start_time": "2023-01-12T16:28:25.747Z"
   },
   {
    "duration": 32,
    "start_time": "2023-01-12T16:28:25.781Z"
   },
   {
    "duration": 25,
    "start_time": "2023-01-12T16:28:25.815Z"
   },
   {
    "duration": 17,
    "start_time": "2023-01-12T16:28:25.842Z"
   },
   {
    "duration": 13,
    "start_time": "2023-01-12T16:28:25.861Z"
   },
   {
    "duration": 14,
    "start_time": "2023-01-12T16:28:25.876Z"
   },
   {
    "duration": 20,
    "start_time": "2023-01-12T16:28:25.892Z"
   },
   {
    "duration": 18,
    "start_time": "2023-01-12T16:28:25.914Z"
   },
   {
    "duration": 26,
    "start_time": "2023-01-12T16:28:25.934Z"
   },
   {
    "duration": 12,
    "start_time": "2023-01-12T16:28:25.961Z"
   },
   {
    "duration": 141,
    "start_time": "2023-01-12T16:28:25.974Z"
   },
   {
    "duration": 0,
    "start_time": "2023-01-12T16:28:26.118Z"
   },
   {
    "duration": 0,
    "start_time": "2023-01-12T16:28:26.119Z"
   },
   {
    "duration": 0,
    "start_time": "2023-01-12T16:28:26.121Z"
   },
   {
    "duration": 0,
    "start_time": "2023-01-12T16:28:26.122Z"
   },
   {
    "duration": 0,
    "start_time": "2023-01-12T16:28:26.123Z"
   },
   {
    "duration": 0,
    "start_time": "2023-01-12T16:28:26.124Z"
   },
   {
    "duration": 0,
    "start_time": "2023-01-12T16:28:26.125Z"
   },
   {
    "duration": 0,
    "start_time": "2023-01-12T16:28:26.126Z"
   },
   {
    "duration": 0,
    "start_time": "2023-01-12T16:28:26.135Z"
   },
   {
    "duration": 1,
    "start_time": "2023-01-12T16:28:26.136Z"
   },
   {
    "duration": 0,
    "start_time": "2023-01-12T16:28:26.138Z"
   },
   {
    "duration": 0,
    "start_time": "2023-01-12T16:28:26.139Z"
   },
   {
    "duration": 0,
    "start_time": "2023-01-12T16:28:26.140Z"
   },
   {
    "duration": 0,
    "start_time": "2023-01-12T16:28:26.141Z"
   },
   {
    "duration": 0,
    "start_time": "2023-01-12T16:28:26.143Z"
   },
   {
    "duration": 0,
    "start_time": "2023-01-12T16:28:26.144Z"
   },
   {
    "duration": 0,
    "start_time": "2023-01-12T16:28:26.146Z"
   },
   {
    "duration": 0,
    "start_time": "2023-01-12T16:28:26.147Z"
   },
   {
    "duration": 0,
    "start_time": "2023-01-12T16:28:26.149Z"
   },
   {
    "duration": 0,
    "start_time": "2023-01-12T16:28:26.150Z"
   },
   {
    "duration": 0,
    "start_time": "2023-01-12T16:28:26.153Z"
   },
   {
    "duration": 0,
    "start_time": "2023-01-12T16:28:26.154Z"
   },
   {
    "duration": 0,
    "start_time": "2023-01-12T16:28:26.156Z"
   },
   {
    "duration": 0,
    "start_time": "2023-01-12T16:28:26.157Z"
   },
   {
    "duration": 0,
    "start_time": "2023-01-12T16:28:26.159Z"
   },
   {
    "duration": 0,
    "start_time": "2023-01-12T16:28:26.160Z"
   },
   {
    "duration": 0,
    "start_time": "2023-01-12T16:28:26.162Z"
   },
   {
    "duration": 0,
    "start_time": "2023-01-12T16:28:26.163Z"
   },
   {
    "duration": 0,
    "start_time": "2023-01-12T16:28:26.165Z"
   },
   {
    "duration": 0,
    "start_time": "2023-01-12T16:28:26.167Z"
   },
   {
    "duration": 0,
    "start_time": "2023-01-12T16:28:26.168Z"
   },
   {
    "duration": 0,
    "start_time": "2023-01-12T16:28:26.170Z"
   },
   {
    "duration": 0,
    "start_time": "2023-01-12T16:28:26.172Z"
   },
   {
    "duration": 0,
    "start_time": "2023-01-12T16:28:26.174Z"
   },
   {
    "duration": 0,
    "start_time": "2023-01-12T16:28:26.175Z"
   },
   {
    "duration": 0,
    "start_time": "2023-01-12T16:28:26.236Z"
   },
   {
    "duration": 0,
    "start_time": "2023-01-12T16:28:26.237Z"
   },
   {
    "duration": 0,
    "start_time": "2023-01-12T16:28:26.239Z"
   },
   {
    "duration": 0,
    "start_time": "2023-01-12T16:28:26.240Z"
   },
   {
    "duration": 0,
    "start_time": "2023-01-12T16:28:26.242Z"
   },
   {
    "duration": 0,
    "start_time": "2023-01-12T16:28:26.243Z"
   },
   {
    "duration": 0,
    "start_time": "2023-01-12T16:28:26.245Z"
   },
   {
    "duration": 0,
    "start_time": "2023-01-12T16:28:26.246Z"
   },
   {
    "duration": 0,
    "start_time": "2023-01-12T16:28:26.248Z"
   },
   {
    "duration": 0,
    "start_time": "2023-01-12T16:28:26.250Z"
   },
   {
    "duration": 0,
    "start_time": "2023-01-12T16:28:26.251Z"
   },
   {
    "duration": 0,
    "start_time": "2023-01-12T16:28:26.253Z"
   },
   {
    "duration": 0,
    "start_time": "2023-01-12T16:28:26.255Z"
   },
   {
    "duration": 0,
    "start_time": "2023-01-12T16:28:26.256Z"
   },
   {
    "duration": 0,
    "start_time": "2023-01-12T16:28:26.258Z"
   },
   {
    "duration": 0,
    "start_time": "2023-01-12T16:28:26.259Z"
   },
   {
    "duration": 0,
    "start_time": "2023-01-12T16:28:26.261Z"
   },
   {
    "duration": 0,
    "start_time": "2023-01-12T16:28:26.262Z"
   },
   {
    "duration": 0,
    "start_time": "2023-01-12T16:28:26.264Z"
   },
   {
    "duration": 0,
    "start_time": "2023-01-12T16:28:26.266Z"
   },
   {
    "duration": 0,
    "start_time": "2023-01-12T16:28:26.268Z"
   },
   {
    "duration": 0,
    "start_time": "2023-01-12T16:28:26.269Z"
   },
   {
    "duration": 0,
    "start_time": "2023-01-12T16:28:26.271Z"
   },
   {
    "duration": 0,
    "start_time": "2023-01-12T16:28:26.274Z"
   },
   {
    "duration": 0,
    "start_time": "2023-01-12T16:28:26.335Z"
   },
   {
    "duration": 0,
    "start_time": "2023-01-12T16:28:26.337Z"
   },
   {
    "duration": 0,
    "start_time": "2023-01-12T16:28:26.338Z"
   },
   {
    "duration": 0,
    "start_time": "2023-01-12T16:28:26.339Z"
   },
   {
    "duration": 8241,
    "start_time": "2023-01-12T16:29:54.973Z"
   },
   {
    "duration": 6,
    "start_time": "2023-01-12T16:30:03.218Z"
   },
   {
    "duration": 89,
    "start_time": "2023-01-12T16:30:03.227Z"
   },
   {
    "duration": 13,
    "start_time": "2023-01-12T16:30:03.318Z"
   },
   {
    "duration": 59,
    "start_time": "2023-01-12T16:30:03.333Z"
   },
   {
    "duration": 3,
    "start_time": "2023-01-12T16:30:03.393Z"
   },
   {
    "duration": 25,
    "start_time": "2023-01-12T16:30:03.398Z"
   },
   {
    "duration": 11,
    "start_time": "2023-01-12T16:30:03.425Z"
   },
   {
    "duration": 23,
    "start_time": "2023-01-12T16:30:03.438Z"
   },
   {
    "duration": 25,
    "start_time": "2023-01-12T16:30:03.466Z"
   },
   {
    "duration": 29,
    "start_time": "2023-01-12T16:30:03.494Z"
   },
   {
    "duration": 5,
    "start_time": "2023-01-12T16:30:03.526Z"
   },
   {
    "duration": 12,
    "start_time": "2023-01-12T16:30:03.533Z"
   },
   {
    "duration": 14,
    "start_time": "2023-01-12T16:30:03.547Z"
   },
   {
    "duration": 33,
    "start_time": "2023-01-12T16:30:03.564Z"
   },
   {
    "duration": 39,
    "start_time": "2023-01-12T16:30:03.599Z"
   },
   {
    "duration": 15,
    "start_time": "2023-01-12T16:30:03.640Z"
   },
   {
    "duration": 24,
    "start_time": "2023-01-12T16:30:03.657Z"
   },
   {
    "duration": 19,
    "start_time": "2023-01-12T16:30:03.683Z"
   },
   {
    "duration": 29,
    "start_time": "2023-01-12T16:30:03.704Z"
   },
   {
    "duration": 22,
    "start_time": "2023-01-12T16:30:03.735Z"
   },
   {
    "duration": 26,
    "start_time": "2023-01-12T16:30:03.759Z"
   },
   {
    "duration": 18,
    "start_time": "2023-01-12T16:30:03.787Z"
   },
   {
    "duration": 21,
    "start_time": "2023-01-12T16:30:03.807Z"
   },
   {
    "duration": 24,
    "start_time": "2023-01-12T16:30:03.830Z"
   },
   {
    "duration": 34,
    "start_time": "2023-01-12T16:30:03.856Z"
   },
   {
    "duration": 0,
    "start_time": "2023-01-12T16:30:03.894Z"
   },
   {
    "duration": 0,
    "start_time": "2023-01-12T16:30:03.895Z"
   },
   {
    "duration": 0,
    "start_time": "2023-01-12T16:30:03.897Z"
   },
   {
    "duration": 0,
    "start_time": "2023-01-12T16:30:03.898Z"
   },
   {
    "duration": 0,
    "start_time": "2023-01-12T16:30:03.900Z"
   },
   {
    "duration": 0,
    "start_time": "2023-01-12T16:30:03.900Z"
   },
   {
    "duration": 1,
    "start_time": "2023-01-12T16:30:03.901Z"
   },
   {
    "duration": 0,
    "start_time": "2023-01-12T16:30:03.903Z"
   },
   {
    "duration": 0,
    "start_time": "2023-01-12T16:30:03.904Z"
   },
   {
    "duration": 0,
    "start_time": "2023-01-12T16:30:03.906Z"
   },
   {
    "duration": 0,
    "start_time": "2023-01-12T16:30:03.907Z"
   },
   {
    "duration": 0,
    "start_time": "2023-01-12T16:30:03.908Z"
   },
   {
    "duration": 0,
    "start_time": "2023-01-12T16:30:03.910Z"
   },
   {
    "duration": 0,
    "start_time": "2023-01-12T16:30:03.912Z"
   },
   {
    "duration": 0,
    "start_time": "2023-01-12T16:30:03.914Z"
   },
   {
    "duration": 0,
    "start_time": "2023-01-12T16:30:03.915Z"
   },
   {
    "duration": 0,
    "start_time": "2023-01-12T16:30:03.916Z"
   },
   {
    "duration": 0,
    "start_time": "2023-01-12T16:30:03.918Z"
   },
   {
    "duration": 0,
    "start_time": "2023-01-12T16:30:03.920Z"
   },
   {
    "duration": 0,
    "start_time": "2023-01-12T16:30:03.936Z"
   },
   {
    "duration": 0,
    "start_time": "2023-01-12T16:30:03.937Z"
   },
   {
    "duration": 0,
    "start_time": "2023-01-12T16:30:03.938Z"
   },
   {
    "duration": 0,
    "start_time": "2023-01-12T16:30:03.939Z"
   },
   {
    "duration": 0,
    "start_time": "2023-01-12T16:30:03.940Z"
   },
   {
    "duration": 0,
    "start_time": "2023-01-12T16:30:03.941Z"
   },
   {
    "duration": 0,
    "start_time": "2023-01-12T16:30:03.943Z"
   },
   {
    "duration": 0,
    "start_time": "2023-01-12T16:30:03.944Z"
   },
   {
    "duration": 0,
    "start_time": "2023-01-12T16:30:03.945Z"
   },
   {
    "duration": 0,
    "start_time": "2023-01-12T16:30:03.947Z"
   },
   {
    "duration": 0,
    "start_time": "2023-01-12T16:30:03.948Z"
   },
   {
    "duration": 0,
    "start_time": "2023-01-12T16:30:03.950Z"
   },
   {
    "duration": 0,
    "start_time": "2023-01-12T16:30:03.952Z"
   },
   {
    "duration": 0,
    "start_time": "2023-01-12T16:30:03.953Z"
   },
   {
    "duration": 0,
    "start_time": "2023-01-12T16:30:03.954Z"
   },
   {
    "duration": 0,
    "start_time": "2023-01-12T16:30:03.956Z"
   },
   {
    "duration": 0,
    "start_time": "2023-01-12T16:30:03.957Z"
   },
   {
    "duration": 0,
    "start_time": "2023-01-12T16:30:03.959Z"
   },
   {
    "duration": 0,
    "start_time": "2023-01-12T16:30:03.961Z"
   },
   {
    "duration": 0,
    "start_time": "2023-01-12T16:30:03.962Z"
   },
   {
    "duration": 0,
    "start_time": "2023-01-12T16:30:03.963Z"
   },
   {
    "duration": 0,
    "start_time": "2023-01-12T16:30:03.964Z"
   },
   {
    "duration": 0,
    "start_time": "2023-01-12T16:30:03.965Z"
   },
   {
    "duration": 0,
    "start_time": "2023-01-12T16:30:03.966Z"
   },
   {
    "duration": 0,
    "start_time": "2023-01-12T16:30:03.968Z"
   },
   {
    "duration": 0,
    "start_time": "2023-01-12T16:30:03.969Z"
   },
   {
    "duration": 0,
    "start_time": "2023-01-12T16:30:03.971Z"
   },
   {
    "duration": 0,
    "start_time": "2023-01-12T16:30:03.972Z"
   },
   {
    "duration": 0,
    "start_time": "2023-01-12T16:30:03.973Z"
   },
   {
    "duration": 0,
    "start_time": "2023-01-12T16:30:03.974Z"
   },
   {
    "duration": 0,
    "start_time": "2023-01-12T16:30:04.036Z"
   },
   {
    "duration": 0,
    "start_time": "2023-01-12T16:30:04.037Z"
   },
   {
    "duration": 0,
    "start_time": "2023-01-12T16:30:04.039Z"
   },
   {
    "duration": 0,
    "start_time": "2023-01-12T16:30:04.040Z"
   },
   {
    "duration": 0,
    "start_time": "2023-01-12T16:30:04.041Z"
   },
   {
    "duration": 0,
    "start_time": "2023-01-12T16:30:04.042Z"
   },
   {
    "duration": 0,
    "start_time": "2023-01-12T16:30:04.044Z"
   },
   {
    "duration": 0,
    "start_time": "2023-01-12T16:30:04.045Z"
   },
   {
    "duration": 0,
    "start_time": "2023-01-12T16:30:04.047Z"
   },
   {
    "duration": 0,
    "start_time": "2023-01-12T16:30:04.047Z"
   },
   {
    "duration": 0,
    "start_time": "2023-01-12T16:30:04.049Z"
   },
   {
    "duration": 0,
    "start_time": "2023-01-12T16:30:04.050Z"
   },
   {
    "duration": 0,
    "start_time": "2023-01-12T16:30:04.051Z"
   },
   {
    "duration": 0,
    "start_time": "2023-01-12T16:30:04.052Z"
   },
   {
    "duration": 3,
    "start_time": "2023-01-12T16:31:25.459Z"
   },
   {
    "duration": 14,
    "start_time": "2023-01-12T16:31:27.844Z"
   },
   {
    "duration": 3,
    "start_time": "2023-01-12T16:31:40.705Z"
   },
   {
    "duration": 12,
    "start_time": "2023-01-12T16:31:41.405Z"
   },
   {
    "duration": 2261,
    "start_time": "2023-01-12T16:32:00.879Z"
   },
   {
    "duration": 2414,
    "start_time": "2023-01-12T16:32:05.659Z"
   },
   {
    "duration": 4,
    "start_time": "2023-01-12T16:32:08.076Z"
   },
   {
    "duration": 132,
    "start_time": "2023-01-12T16:32:08.083Z"
   },
   {
    "duration": 15,
    "start_time": "2023-01-12T16:32:08.217Z"
   },
   {
    "duration": 63,
    "start_time": "2023-01-12T16:32:08.235Z"
   },
   {
    "duration": 3,
    "start_time": "2023-01-12T16:32:08.300Z"
   },
   {
    "duration": 18,
    "start_time": "2023-01-12T16:32:08.304Z"
   },
   {
    "duration": 9,
    "start_time": "2023-01-12T16:32:08.324Z"
   },
   {
    "duration": 10,
    "start_time": "2023-01-12T16:32:08.335Z"
   },
   {
    "duration": 10,
    "start_time": "2023-01-12T16:32:08.347Z"
   },
   {
    "duration": 21,
    "start_time": "2023-01-12T16:32:08.359Z"
   },
   {
    "duration": 4,
    "start_time": "2023-01-12T16:32:08.382Z"
   },
   {
    "duration": 13,
    "start_time": "2023-01-12T16:32:08.387Z"
   },
   {
    "duration": 14,
    "start_time": "2023-01-12T16:32:08.402Z"
   },
   {
    "duration": 23,
    "start_time": "2023-01-12T16:32:08.418Z"
   },
   {
    "duration": 11,
    "start_time": "2023-01-12T16:32:08.443Z"
   },
   {
    "duration": 11,
    "start_time": "2023-01-12T16:32:08.455Z"
   },
   {
    "duration": 12,
    "start_time": "2023-01-12T16:32:08.468Z"
   },
   {
    "duration": 23,
    "start_time": "2023-01-12T16:32:08.482Z"
   },
   {
    "duration": 30,
    "start_time": "2023-01-12T16:32:08.507Z"
   },
   {
    "duration": 15,
    "start_time": "2023-01-12T16:32:08.539Z"
   },
   {
    "duration": 12,
    "start_time": "2023-01-12T16:32:08.556Z"
   },
   {
    "duration": 12,
    "start_time": "2023-01-12T16:32:08.570Z"
   },
   {
    "duration": 50,
    "start_time": "2023-01-12T16:32:08.583Z"
   },
   {
    "duration": 10,
    "start_time": "2023-01-12T16:32:08.635Z"
   },
   {
    "duration": 23,
    "start_time": "2023-01-12T16:32:08.647Z"
   },
   {
    "duration": 0,
    "start_time": "2023-01-12T16:32:08.674Z"
   },
   {
    "duration": 0,
    "start_time": "2023-01-12T16:32:08.675Z"
   },
   {
    "duration": 0,
    "start_time": "2023-01-12T16:32:08.676Z"
   },
   {
    "duration": 0,
    "start_time": "2023-01-12T16:32:08.677Z"
   },
   {
    "duration": 1,
    "start_time": "2023-01-12T16:32:08.678Z"
   },
   {
    "duration": 0,
    "start_time": "2023-01-12T16:32:08.680Z"
   },
   {
    "duration": 0,
    "start_time": "2023-01-12T16:32:08.681Z"
   },
   {
    "duration": 0,
    "start_time": "2023-01-12T16:32:08.683Z"
   },
   {
    "duration": 0,
    "start_time": "2023-01-12T16:32:08.684Z"
   },
   {
    "duration": 0,
    "start_time": "2023-01-12T16:32:08.686Z"
   },
   {
    "duration": 1,
    "start_time": "2023-01-12T16:32:08.687Z"
   },
   {
    "duration": 0,
    "start_time": "2023-01-12T16:32:08.689Z"
   },
   {
    "duration": 0,
    "start_time": "2023-01-12T16:32:08.691Z"
   },
   {
    "duration": 0,
    "start_time": "2023-01-12T16:32:08.693Z"
   },
   {
    "duration": 0,
    "start_time": "2023-01-12T16:32:08.694Z"
   },
   {
    "duration": 0,
    "start_time": "2023-01-12T16:32:08.696Z"
   },
   {
    "duration": 0,
    "start_time": "2023-01-12T16:32:08.697Z"
   },
   {
    "duration": 0,
    "start_time": "2023-01-12T16:32:08.735Z"
   },
   {
    "duration": 0,
    "start_time": "2023-01-12T16:32:08.737Z"
   },
   {
    "duration": 0,
    "start_time": "2023-01-12T16:32:08.738Z"
   },
   {
    "duration": 0,
    "start_time": "2023-01-12T16:32:08.739Z"
   },
   {
    "duration": 0,
    "start_time": "2023-01-12T16:32:08.740Z"
   },
   {
    "duration": 0,
    "start_time": "2023-01-12T16:32:08.742Z"
   },
   {
    "duration": 0,
    "start_time": "2023-01-12T16:32:08.743Z"
   },
   {
    "duration": 0,
    "start_time": "2023-01-12T16:32:08.744Z"
   },
   {
    "duration": 0,
    "start_time": "2023-01-12T16:32:08.745Z"
   },
   {
    "duration": 0,
    "start_time": "2023-01-12T16:32:08.746Z"
   },
   {
    "duration": 0,
    "start_time": "2023-01-12T16:32:08.747Z"
   },
   {
    "duration": 0,
    "start_time": "2023-01-12T16:32:08.748Z"
   },
   {
    "duration": 0,
    "start_time": "2023-01-12T16:32:08.749Z"
   },
   {
    "duration": 0,
    "start_time": "2023-01-12T16:32:08.750Z"
   },
   {
    "duration": 0,
    "start_time": "2023-01-12T16:32:08.751Z"
   },
   {
    "duration": 0,
    "start_time": "2023-01-12T16:32:08.752Z"
   },
   {
    "duration": 0,
    "start_time": "2023-01-12T16:32:08.753Z"
   },
   {
    "duration": 0,
    "start_time": "2023-01-12T16:32:08.754Z"
   },
   {
    "duration": 0,
    "start_time": "2023-01-12T16:32:08.755Z"
   },
   {
    "duration": 0,
    "start_time": "2023-01-12T16:32:08.757Z"
   },
   {
    "duration": 0,
    "start_time": "2023-01-12T16:32:08.758Z"
   },
   {
    "duration": 0,
    "start_time": "2023-01-12T16:32:08.759Z"
   },
   {
    "duration": 0,
    "start_time": "2023-01-12T16:32:08.760Z"
   },
   {
    "duration": 0,
    "start_time": "2023-01-12T16:32:08.761Z"
   },
   {
    "duration": 0,
    "start_time": "2023-01-12T16:32:08.762Z"
   },
   {
    "duration": 0,
    "start_time": "2023-01-12T16:32:08.763Z"
   },
   {
    "duration": 0,
    "start_time": "2023-01-12T16:32:08.764Z"
   },
   {
    "duration": 0,
    "start_time": "2023-01-12T16:32:08.765Z"
   },
   {
    "duration": 0,
    "start_time": "2023-01-12T16:32:08.766Z"
   },
   {
    "duration": 0,
    "start_time": "2023-01-12T16:32:08.767Z"
   },
   {
    "duration": 0,
    "start_time": "2023-01-12T16:32:08.769Z"
   },
   {
    "duration": 0,
    "start_time": "2023-01-12T16:32:08.770Z"
   },
   {
    "duration": 0,
    "start_time": "2023-01-12T16:32:08.771Z"
   },
   {
    "duration": 0,
    "start_time": "2023-01-12T16:32:08.836Z"
   },
   {
    "duration": 0,
    "start_time": "2023-01-12T16:32:08.837Z"
   },
   {
    "duration": 0,
    "start_time": "2023-01-12T16:32:08.838Z"
   },
   {
    "duration": 0,
    "start_time": "2023-01-12T16:32:08.839Z"
   },
   {
    "duration": 0,
    "start_time": "2023-01-12T16:32:08.840Z"
   },
   {
    "duration": 0,
    "start_time": "2023-01-12T16:32:08.842Z"
   },
   {
    "duration": 0,
    "start_time": "2023-01-12T16:32:08.843Z"
   },
   {
    "duration": 0,
    "start_time": "2023-01-12T16:32:08.845Z"
   },
   {
    "duration": 0,
    "start_time": "2023-01-12T16:32:08.846Z"
   },
   {
    "duration": 0,
    "start_time": "2023-01-12T16:32:08.847Z"
   },
   {
    "duration": 0,
    "start_time": "2023-01-12T16:32:08.848Z"
   },
   {
    "duration": 0,
    "start_time": "2023-01-12T16:32:08.849Z"
   },
   {
    "duration": 0,
    "start_time": "2023-01-12T16:32:08.851Z"
   },
   {
    "duration": 2422,
    "start_time": "2023-01-12T16:32:19.396Z"
   },
   {
    "duration": 1397,
    "start_time": "2023-01-12T16:32:21.821Z"
   },
   {
    "duration": 88,
    "start_time": "2023-01-12T16:32:23.220Z"
   },
   {
    "duration": 13,
    "start_time": "2023-01-12T16:32:23.310Z"
   },
   {
    "duration": 69,
    "start_time": "2023-01-12T16:32:23.324Z"
   },
   {
    "duration": 3,
    "start_time": "2023-01-12T16:32:23.395Z"
   },
   {
    "duration": 28,
    "start_time": "2023-01-12T16:32:23.400Z"
   },
   {
    "duration": 49,
    "start_time": "2023-01-12T16:32:23.430Z"
   },
   {
    "duration": 20,
    "start_time": "2023-01-12T16:32:23.481Z"
   },
   {
    "duration": 35,
    "start_time": "2023-01-12T16:32:23.504Z"
   },
   {
    "duration": 34,
    "start_time": "2023-01-12T16:32:23.541Z"
   },
   {
    "duration": 34,
    "start_time": "2023-01-12T16:32:23.577Z"
   },
   {
    "duration": 29,
    "start_time": "2023-01-12T16:32:23.613Z"
   },
   {
    "duration": 41,
    "start_time": "2023-01-12T16:32:23.644Z"
   },
   {
    "duration": 29,
    "start_time": "2023-01-12T16:32:23.687Z"
   },
   {
    "duration": 27,
    "start_time": "2023-01-12T16:32:23.718Z"
   },
   {
    "duration": 25,
    "start_time": "2023-01-12T16:32:23.747Z"
   },
   {
    "duration": 26,
    "start_time": "2023-01-12T16:32:23.774Z"
   },
   {
    "duration": 17,
    "start_time": "2023-01-12T16:32:23.803Z"
   },
   {
    "duration": 14,
    "start_time": "2023-01-12T16:32:23.823Z"
   },
   {
    "duration": 26,
    "start_time": "2023-01-12T16:32:23.840Z"
   },
   {
    "duration": 19,
    "start_time": "2023-01-12T16:32:23.868Z"
   },
   {
    "duration": 34,
    "start_time": "2023-01-12T16:32:23.888Z"
   },
   {
    "duration": 29,
    "start_time": "2023-01-12T16:32:23.924Z"
   },
   {
    "duration": 17,
    "start_time": "2023-01-12T16:32:23.954Z"
   },
   {
    "duration": 24,
    "start_time": "2023-01-12T16:32:23.973Z"
   },
   {
    "duration": 154,
    "start_time": "2023-01-12T16:32:23.999Z"
   },
   {
    "duration": 0,
    "start_time": "2023-01-12T16:32:24.157Z"
   },
   {
    "duration": 0,
    "start_time": "2023-01-12T16:32:24.158Z"
   },
   {
    "duration": 0,
    "start_time": "2023-01-12T16:32:24.159Z"
   },
   {
    "duration": 0,
    "start_time": "2023-01-12T16:32:24.160Z"
   },
   {
    "duration": 0,
    "start_time": "2023-01-12T16:32:24.161Z"
   },
   {
    "duration": 0,
    "start_time": "2023-01-12T16:32:24.161Z"
   },
   {
    "duration": 0,
    "start_time": "2023-01-12T16:32:24.162Z"
   },
   {
    "duration": 0,
    "start_time": "2023-01-12T16:32:24.164Z"
   },
   {
    "duration": 0,
    "start_time": "2023-01-12T16:32:24.165Z"
   },
   {
    "duration": 0,
    "start_time": "2023-01-12T16:32:24.166Z"
   },
   {
    "duration": 0,
    "start_time": "2023-01-12T16:32:24.168Z"
   },
   {
    "duration": 0,
    "start_time": "2023-01-12T16:32:24.168Z"
   },
   {
    "duration": 0,
    "start_time": "2023-01-12T16:32:24.169Z"
   },
   {
    "duration": 0,
    "start_time": "2023-01-12T16:32:24.170Z"
   },
   {
    "duration": 0,
    "start_time": "2023-01-12T16:32:24.171Z"
   },
   {
    "duration": 0,
    "start_time": "2023-01-12T16:32:24.172Z"
   },
   {
    "duration": 0,
    "start_time": "2023-01-12T16:32:24.173Z"
   },
   {
    "duration": 0,
    "start_time": "2023-01-12T16:32:24.174Z"
   },
   {
    "duration": 0,
    "start_time": "2023-01-12T16:32:24.175Z"
   },
   {
    "duration": 0,
    "start_time": "2023-01-12T16:32:24.176Z"
   },
   {
    "duration": 0,
    "start_time": "2023-01-12T16:32:24.177Z"
   },
   {
    "duration": 0,
    "start_time": "2023-01-12T16:32:24.178Z"
   },
   {
    "duration": 0,
    "start_time": "2023-01-12T16:32:24.180Z"
   },
   {
    "duration": 0,
    "start_time": "2023-01-12T16:32:24.181Z"
   },
   {
    "duration": 0,
    "start_time": "2023-01-12T16:32:24.181Z"
   },
   {
    "duration": 0,
    "start_time": "2023-01-12T16:32:24.182Z"
   },
   {
    "duration": 0,
    "start_time": "2023-01-12T16:32:24.183Z"
   },
   {
    "duration": 0,
    "start_time": "2023-01-12T16:32:24.185Z"
   },
   {
    "duration": 0,
    "start_time": "2023-01-12T16:32:24.185Z"
   },
   {
    "duration": 0,
    "start_time": "2023-01-12T16:32:24.186Z"
   },
   {
    "duration": 0,
    "start_time": "2023-01-12T16:32:24.188Z"
   },
   {
    "duration": 0,
    "start_time": "2023-01-12T16:32:24.238Z"
   },
   {
    "duration": 0,
    "start_time": "2023-01-12T16:32:24.240Z"
   },
   {
    "duration": 0,
    "start_time": "2023-01-12T16:32:24.241Z"
   },
   {
    "duration": 0,
    "start_time": "2023-01-12T16:32:24.242Z"
   },
   {
    "duration": 0,
    "start_time": "2023-01-12T16:32:24.244Z"
   },
   {
    "duration": 0,
    "start_time": "2023-01-12T16:32:24.245Z"
   },
   {
    "duration": 0,
    "start_time": "2023-01-12T16:32:24.247Z"
   },
   {
    "duration": 0,
    "start_time": "2023-01-12T16:32:24.249Z"
   },
   {
    "duration": 0,
    "start_time": "2023-01-12T16:32:24.250Z"
   },
   {
    "duration": 0,
    "start_time": "2023-01-12T16:32:24.252Z"
   },
   {
    "duration": 0,
    "start_time": "2023-01-12T16:32:24.254Z"
   },
   {
    "duration": 0,
    "start_time": "2023-01-12T16:32:24.255Z"
   },
   {
    "duration": 0,
    "start_time": "2023-01-12T16:32:24.257Z"
   },
   {
    "duration": 0,
    "start_time": "2023-01-12T16:32:24.259Z"
   },
   {
    "duration": 0,
    "start_time": "2023-01-12T16:32:24.260Z"
   },
   {
    "duration": 0,
    "start_time": "2023-01-12T16:32:24.262Z"
   },
   {
    "duration": 0,
    "start_time": "2023-01-12T16:32:24.264Z"
   },
   {
    "duration": 0,
    "start_time": "2023-01-12T16:32:24.265Z"
   },
   {
    "duration": 0,
    "start_time": "2023-01-12T16:32:24.267Z"
   },
   {
    "duration": 0,
    "start_time": "2023-01-12T16:32:24.268Z"
   },
   {
    "duration": 0,
    "start_time": "2023-01-12T16:32:24.270Z"
   },
   {
    "duration": 0,
    "start_time": "2023-01-12T16:32:24.271Z"
   },
   {
    "duration": 0,
    "start_time": "2023-01-12T16:32:24.272Z"
   },
   {
    "duration": 0,
    "start_time": "2023-01-12T16:32:24.273Z"
   },
   {
    "duration": 0,
    "start_time": "2023-01-12T16:32:24.274Z"
   },
   {
    "duration": 0,
    "start_time": "2023-01-12T16:32:24.275Z"
   },
   {
    "duration": 0,
    "start_time": "2023-01-12T16:32:24.276Z"
   },
   {
    "duration": 0,
    "start_time": "2023-01-12T16:32:24.337Z"
   },
   {
    "duration": 0,
    "start_time": "2023-01-12T16:32:24.340Z"
   },
   {
    "duration": 0,
    "start_time": "2023-01-12T16:32:24.341Z"
   },
   {
    "duration": 0,
    "start_time": "2023-01-12T16:32:24.343Z"
   },
   {
    "duration": 2444,
    "start_time": "2023-01-12T16:35:41.231Z"
   },
   {
    "duration": 1242,
    "start_time": "2023-01-12T16:35:43.677Z"
   },
   {
    "duration": 90,
    "start_time": "2023-01-12T16:35:44.921Z"
   },
   {
    "duration": 13,
    "start_time": "2023-01-12T16:35:45.014Z"
   },
   {
    "duration": 72,
    "start_time": "2023-01-12T16:35:45.029Z"
   },
   {
    "duration": 3,
    "start_time": "2023-01-12T16:35:45.103Z"
   },
   {
    "duration": 13,
    "start_time": "2023-01-12T16:35:45.107Z"
   },
   {
    "duration": 16,
    "start_time": "2023-01-12T16:35:45.122Z"
   },
   {
    "duration": 36,
    "start_time": "2023-01-12T16:35:45.140Z"
   },
   {
    "duration": 21,
    "start_time": "2023-01-12T16:35:45.179Z"
   },
   {
    "duration": 26,
    "start_time": "2023-01-12T16:35:45.201Z"
   },
   {
    "duration": 26,
    "start_time": "2023-01-12T16:35:45.229Z"
   },
   {
    "duration": 12,
    "start_time": "2023-01-12T16:35:45.257Z"
   },
   {
    "duration": 28,
    "start_time": "2023-01-12T16:35:45.270Z"
   },
   {
    "duration": 30,
    "start_time": "2023-01-12T16:35:45.300Z"
   },
   {
    "duration": 17,
    "start_time": "2023-01-12T16:35:45.332Z"
   },
   {
    "duration": 43,
    "start_time": "2023-01-12T16:35:45.351Z"
   },
   {
    "duration": 22,
    "start_time": "2023-01-12T16:35:45.396Z"
   },
   {
    "duration": 21,
    "start_time": "2023-01-12T16:35:45.420Z"
   },
   {
    "duration": 18,
    "start_time": "2023-01-12T16:35:45.443Z"
   },
   {
    "duration": 25,
    "start_time": "2023-01-12T16:35:45.463Z"
   },
   {
    "duration": 29,
    "start_time": "2023-01-12T16:35:45.490Z"
   },
   {
    "duration": 21,
    "start_time": "2023-01-12T16:35:45.520Z"
   },
   {
    "duration": 12,
    "start_time": "2023-01-12T16:35:45.543Z"
   },
   {
    "duration": 15,
    "start_time": "2023-01-12T16:35:45.557Z"
   },
   {
    "duration": 22,
    "start_time": "2023-01-12T16:35:45.574Z"
   },
   {
    "duration": 171,
    "start_time": "2023-01-12T16:35:45.599Z"
   },
   {
    "duration": 0,
    "start_time": "2023-01-12T16:35:45.774Z"
   },
   {
    "duration": 0,
    "start_time": "2023-01-12T16:35:45.775Z"
   },
   {
    "duration": 0,
    "start_time": "2023-01-12T16:35:45.777Z"
   },
   {
    "duration": 0,
    "start_time": "2023-01-12T16:35:45.778Z"
   },
   {
    "duration": 0,
    "start_time": "2023-01-12T16:35:45.779Z"
   },
   {
    "duration": 0,
    "start_time": "2023-01-12T16:35:45.781Z"
   },
   {
    "duration": 0,
    "start_time": "2023-01-12T16:35:45.782Z"
   },
   {
    "duration": 0,
    "start_time": "2023-01-12T16:35:45.783Z"
   },
   {
    "duration": 0,
    "start_time": "2023-01-12T16:35:45.784Z"
   },
   {
    "duration": 0,
    "start_time": "2023-01-12T16:35:45.796Z"
   },
   {
    "duration": 0,
    "start_time": "2023-01-12T16:35:45.804Z"
   },
   {
    "duration": 0,
    "start_time": "2023-01-12T16:35:45.805Z"
   },
   {
    "duration": 0,
    "start_time": "2023-01-12T16:35:45.807Z"
   },
   {
    "duration": 0,
    "start_time": "2023-01-12T16:35:45.835Z"
   },
   {
    "duration": 0,
    "start_time": "2023-01-12T16:35:45.837Z"
   },
   {
    "duration": 0,
    "start_time": "2023-01-12T16:35:45.838Z"
   },
   {
    "duration": 0,
    "start_time": "2023-01-12T16:35:45.839Z"
   },
   {
    "duration": 0,
    "start_time": "2023-01-12T16:35:45.840Z"
   },
   {
    "duration": 0,
    "start_time": "2023-01-12T16:35:45.841Z"
   },
   {
    "duration": 0,
    "start_time": "2023-01-12T16:35:45.842Z"
   },
   {
    "duration": 0,
    "start_time": "2023-01-12T16:35:45.843Z"
   },
   {
    "duration": 0,
    "start_time": "2023-01-12T16:35:45.844Z"
   },
   {
    "duration": 0,
    "start_time": "2023-01-12T16:35:45.845Z"
   },
   {
    "duration": 0,
    "start_time": "2023-01-12T16:35:45.846Z"
   },
   {
    "duration": 0,
    "start_time": "2023-01-12T16:35:45.847Z"
   },
   {
    "duration": 0,
    "start_time": "2023-01-12T16:35:45.848Z"
   },
   {
    "duration": 0,
    "start_time": "2023-01-12T16:35:45.849Z"
   },
   {
    "duration": 0,
    "start_time": "2023-01-12T16:35:45.850Z"
   },
   {
    "duration": 0,
    "start_time": "2023-01-12T16:35:45.852Z"
   },
   {
    "duration": 0,
    "start_time": "2023-01-12T16:35:45.853Z"
   },
   {
    "duration": 0,
    "start_time": "2023-01-12T16:35:45.854Z"
   },
   {
    "duration": 0,
    "start_time": "2023-01-12T16:35:45.855Z"
   },
   {
    "duration": 0,
    "start_time": "2023-01-12T16:35:45.856Z"
   },
   {
    "duration": 0,
    "start_time": "2023-01-12T16:35:45.857Z"
   },
   {
    "duration": 0,
    "start_time": "2023-01-12T16:35:45.859Z"
   },
   {
    "duration": 0,
    "start_time": "2023-01-12T16:35:45.860Z"
   },
   {
    "duration": 0,
    "start_time": "2023-01-12T16:35:45.861Z"
   },
   {
    "duration": 0,
    "start_time": "2023-01-12T16:35:45.862Z"
   },
   {
    "duration": 0,
    "start_time": "2023-01-12T16:35:45.863Z"
   },
   {
    "duration": 0,
    "start_time": "2023-01-12T16:35:45.864Z"
   },
   {
    "duration": 0,
    "start_time": "2023-01-12T16:35:45.865Z"
   },
   {
    "duration": 0,
    "start_time": "2023-01-12T16:35:45.866Z"
   },
   {
    "duration": 0,
    "start_time": "2023-01-12T16:35:45.867Z"
   },
   {
    "duration": 0,
    "start_time": "2023-01-12T16:35:45.869Z"
   },
   {
    "duration": 0,
    "start_time": "2023-01-12T16:35:45.870Z"
   },
   {
    "duration": 0,
    "start_time": "2023-01-12T16:35:45.872Z"
   },
   {
    "duration": 0,
    "start_time": "2023-01-12T16:35:45.873Z"
   },
   {
    "duration": 0,
    "start_time": "2023-01-12T16:35:45.936Z"
   },
   {
    "duration": 0,
    "start_time": "2023-01-12T16:35:45.937Z"
   },
   {
    "duration": 0,
    "start_time": "2023-01-12T16:35:45.939Z"
   },
   {
    "duration": 0,
    "start_time": "2023-01-12T16:35:45.940Z"
   },
   {
    "duration": 0,
    "start_time": "2023-01-12T16:35:45.941Z"
   },
   {
    "duration": 0,
    "start_time": "2023-01-12T16:35:45.943Z"
   },
   {
    "duration": 0,
    "start_time": "2023-01-12T16:35:45.944Z"
   },
   {
    "duration": 0,
    "start_time": "2023-01-12T16:35:45.945Z"
   },
   {
    "duration": 0,
    "start_time": "2023-01-12T16:35:45.946Z"
   },
   {
    "duration": 0,
    "start_time": "2023-01-12T16:35:45.947Z"
   },
   {
    "duration": 0,
    "start_time": "2023-01-12T16:35:45.948Z"
   },
   {
    "duration": 0,
    "start_time": "2023-01-12T16:35:45.949Z"
   },
   {
    "duration": 0,
    "start_time": "2023-01-12T16:35:45.950Z"
   },
   {
    "duration": 0,
    "start_time": "2023-01-12T16:35:45.951Z"
   },
   {
    "duration": 0,
    "start_time": "2023-01-12T16:35:45.953Z"
   },
   {
    "duration": 23,
    "start_time": "2023-01-12T16:36:55.798Z"
   },
   {
    "duration": 268828,
    "start_time": "2023-01-13T07:32:19.936Z"
   },
   {
    "duration": 0,
    "start_time": "2023-01-13T07:36:48.766Z"
   },
   {
    "duration": 0,
    "start_time": "2023-01-13T07:36:48.767Z"
   },
   {
    "duration": 0,
    "start_time": "2023-01-13T07:36:48.769Z"
   },
   {
    "duration": 0,
    "start_time": "2023-01-13T07:36:48.770Z"
   },
   {
    "duration": 0,
    "start_time": "2023-01-13T07:36:48.771Z"
   },
   {
    "duration": 0,
    "start_time": "2023-01-13T07:36:48.772Z"
   },
   {
    "duration": 0,
    "start_time": "2023-01-13T07:36:48.773Z"
   },
   {
    "duration": 0,
    "start_time": "2023-01-13T07:36:48.774Z"
   },
   {
    "duration": 0,
    "start_time": "2023-01-13T07:36:48.775Z"
   },
   {
    "duration": 0,
    "start_time": "2023-01-13T07:36:48.776Z"
   },
   {
    "duration": 0,
    "start_time": "2023-01-13T07:36:48.777Z"
   },
   {
    "duration": 0,
    "start_time": "2023-01-13T07:36:48.779Z"
   },
   {
    "duration": 0,
    "start_time": "2023-01-13T07:36:48.781Z"
   },
   {
    "duration": 0,
    "start_time": "2023-01-13T07:36:48.782Z"
   },
   {
    "duration": 0,
    "start_time": "2023-01-13T07:36:48.783Z"
   },
   {
    "duration": 0,
    "start_time": "2023-01-13T07:36:48.784Z"
   },
   {
    "duration": 0,
    "start_time": "2023-01-13T07:36:48.785Z"
   },
   {
    "duration": 0,
    "start_time": "2023-01-13T07:36:48.786Z"
   },
   {
    "duration": 0,
    "start_time": "2023-01-13T07:36:48.787Z"
   },
   {
    "duration": 0,
    "start_time": "2023-01-13T07:36:48.788Z"
   },
   {
    "duration": 0,
    "start_time": "2023-01-13T07:36:48.789Z"
   },
   {
    "duration": 0,
    "start_time": "2023-01-13T07:36:48.790Z"
   },
   {
    "duration": 0,
    "start_time": "2023-01-13T07:36:48.791Z"
   },
   {
    "duration": 0,
    "start_time": "2023-01-13T07:36:48.792Z"
   },
   {
    "duration": 0,
    "start_time": "2023-01-13T07:36:48.793Z"
   },
   {
    "duration": 0,
    "start_time": "2023-01-13T07:36:48.794Z"
   },
   {
    "duration": 0,
    "start_time": "2023-01-13T07:36:48.821Z"
   },
   {
    "duration": 0,
    "start_time": "2023-01-13T07:36:48.822Z"
   },
   {
    "duration": 0,
    "start_time": "2023-01-13T07:36:48.824Z"
   },
   {
    "duration": 0,
    "start_time": "2023-01-13T07:36:48.825Z"
   },
   {
    "duration": 0,
    "start_time": "2023-01-13T07:36:48.826Z"
   },
   {
    "duration": 0,
    "start_time": "2023-01-13T07:36:48.827Z"
   },
   {
    "duration": 0,
    "start_time": "2023-01-13T07:36:48.828Z"
   },
   {
    "duration": 0,
    "start_time": "2023-01-13T07:36:48.829Z"
   },
   {
    "duration": 0,
    "start_time": "2023-01-13T07:36:48.830Z"
   },
   {
    "duration": 0,
    "start_time": "2023-01-13T07:36:48.831Z"
   },
   {
    "duration": 0,
    "start_time": "2023-01-13T07:36:48.832Z"
   },
   {
    "duration": 1187,
    "start_time": "2023-01-13T07:37:26.725Z"
   },
   {
    "duration": 77,
    "start_time": "2023-01-13T07:37:27.914Z"
   },
   {
    "duration": 12,
    "start_time": "2023-01-13T07:37:27.993Z"
   },
   {
    "duration": 74,
    "start_time": "2023-01-13T07:37:28.008Z"
   },
   {
    "duration": 3,
    "start_time": "2023-01-13T07:37:28.083Z"
   },
   {
    "duration": 9,
    "start_time": "2023-01-13T07:37:28.088Z"
   },
   {
    "duration": 12,
    "start_time": "2023-01-13T07:37:28.098Z"
   },
   {
    "duration": 9,
    "start_time": "2023-01-13T07:37:28.112Z"
   },
   {
    "duration": 10,
    "start_time": "2023-01-13T07:37:28.123Z"
   },
   {
    "duration": 13,
    "start_time": "2023-01-13T07:37:28.136Z"
   },
   {
    "duration": 5,
    "start_time": "2023-01-13T07:37:28.151Z"
   },
   {
    "duration": 6,
    "start_time": "2023-01-13T07:37:28.157Z"
   },
   {
    "duration": 6,
    "start_time": "2023-01-13T07:37:28.165Z"
   },
   {
    "duration": 10,
    "start_time": "2023-01-13T07:37:28.172Z"
   },
   {
    "duration": 7,
    "start_time": "2023-01-13T07:37:28.184Z"
   },
   {
    "duration": 29,
    "start_time": "2023-01-13T07:37:28.193Z"
   },
   {
    "duration": 4,
    "start_time": "2023-01-13T07:37:28.223Z"
   },
   {
    "duration": 11,
    "start_time": "2023-01-13T07:37:28.228Z"
   },
   {
    "duration": 6,
    "start_time": "2023-01-13T07:37:28.241Z"
   },
   {
    "duration": 6,
    "start_time": "2023-01-13T07:37:28.249Z"
   },
   {
    "duration": 7,
    "start_time": "2023-01-13T07:37:28.256Z"
   },
   {
    "duration": 6,
    "start_time": "2023-01-13T07:37:28.264Z"
   },
   {
    "duration": 9,
    "start_time": "2023-01-13T07:37:28.272Z"
   },
   {
    "duration": 39,
    "start_time": "2023-01-13T07:37:28.282Z"
   },
   {
    "duration": 18,
    "start_time": "2023-01-13T07:37:28.323Z"
   },
   {
    "duration": 3,
    "start_time": "2023-01-13T07:37:28.342Z"
   },
   {
    "duration": 11,
    "start_time": "2023-01-13T07:37:28.347Z"
   },
   {
    "duration": 2,
    "start_time": "2023-01-13T07:37:28.363Z"
   },
   {
    "duration": 18,
    "start_time": "2023-01-13T07:37:28.367Z"
   },
   {
    "duration": 34,
    "start_time": "2023-01-13T07:37:28.387Z"
   },
   {
    "duration": 3,
    "start_time": "2023-01-13T07:37:28.422Z"
   },
   {
    "duration": 19,
    "start_time": "2023-01-13T07:37:28.427Z"
   },
   {
    "duration": 8,
    "start_time": "2023-01-13T07:37:28.448Z"
   },
   {
    "duration": 20,
    "start_time": "2023-01-13T07:37:28.458Z"
   },
   {
    "duration": 3,
    "start_time": "2023-01-13T07:37:28.480Z"
   },
   {
    "duration": 36,
    "start_time": "2023-01-13T07:37:28.485Z"
   },
   {
    "duration": 17,
    "start_time": "2023-01-13T07:37:28.522Z"
   },
   {
    "duration": 27,
    "start_time": "2023-01-13T07:37:28.540Z"
   },
   {
    "duration": 23,
    "start_time": "2023-01-13T07:37:28.569Z"
   },
   {
    "duration": 4,
    "start_time": "2023-01-13T07:37:28.593Z"
   },
   {
    "duration": 100502,
    "start_time": "2023-01-13T07:37:28.620Z"
   },
   {
    "duration": 97,
    "start_time": "2023-01-13T07:39:09.129Z"
   },
   {
    "duration": 7,
    "start_time": "2023-01-13T07:39:09.227Z"
   },
   {
    "duration": 89,
    "start_time": "2023-01-13T07:39:09.236Z"
   },
   {
    "duration": 105,
    "start_time": "2023-01-13T07:39:09.327Z"
   },
   {
    "duration": 8065,
    "start_time": "2023-01-13T07:39:09.434Z"
   },
   {
    "duration": 4,
    "start_time": "2023-01-13T07:39:17.500Z"
   },
   {
    "duration": 17,
    "start_time": "2023-01-13T07:39:17.506Z"
   },
   {
    "duration": 17,
    "start_time": "2023-01-13T07:39:17.524Z"
   },
   {
    "duration": 13,
    "start_time": "2023-01-13T07:39:17.542Z"
   },
   {
    "duration": 308121,
    "start_time": "2023-01-13T07:39:17.557Z"
   },
   {
    "duration": 5,
    "start_time": "2023-01-13T07:44:25.679Z"
   },
   {
    "duration": 57,
    "start_time": "2023-01-13T07:44:25.685Z"
   },
   {
    "duration": 98807,
    "start_time": "2023-01-13T07:44:25.744Z"
   },
   {
    "duration": 5,
    "start_time": "2023-01-13T07:46:04.552Z"
   },
   {
    "duration": 15,
    "start_time": "2023-01-13T07:46:04.558Z"
   },
   {
    "duration": 147,
    "start_time": "2023-01-13T07:46:04.574Z"
   },
   {
    "duration": 5,
    "start_time": "2023-01-13T07:46:04.723Z"
   },
   {
    "duration": 174,
    "start_time": "2023-01-13T07:46:04.729Z"
   },
   {
    "duration": 8113,
    "start_time": "2023-01-13T07:46:04.904Z"
   },
   {
    "duration": 4,
    "start_time": "2023-01-13T07:46:13.021Z"
   },
   {
    "duration": 9,
    "start_time": "2023-01-13T07:46:13.026Z"
   },
   {
    "duration": 17,
    "start_time": "2023-01-13T07:46:13.037Z"
   },
   {
    "duration": 118,
    "start_time": "2023-01-13T07:46:13.055Z"
   },
   {
    "duration": 309102,
    "start_time": "2023-01-13T07:46:13.175Z"
   },
   {
    "duration": 9,
    "start_time": "2023-01-13T07:51:22.285Z"
   },
   {
    "duration": 16,
    "start_time": "2023-01-13T07:51:22.296Z"
   },
   {
    "duration": 86,
    "start_time": "2023-01-13T07:51:22.314Z"
   },
   {
    "duration": 112,
    "start_time": "2023-01-13T07:51:22.402Z"
   },
   {
    "duration": 9,
    "start_time": "2023-01-13T07:51:22.516Z"
   },
   {
    "duration": 7,
    "start_time": "2023-01-13T07:51:22.526Z"
   },
   {
    "duration": 19,
    "start_time": "2023-01-13T07:51:22.535Z"
   },
   {
    "duration": 175,
    "start_time": "2023-01-13T07:51:22.556Z"
   },
   {
    "duration": 203,
    "start_time": "2023-01-13T07:51:22.733Z"
   },
   {
    "duration": 33,
    "start_time": "2023-01-13T07:51:22.937Z"
   },
   {
    "duration": 118,
    "start_time": "2023-01-13T07:51:22.972Z"
   },
   {
    "duration": 629,
    "start_time": "2023-01-13T07:51:23.092Z"
   },
   {
    "duration": 175,
    "start_time": "2023-01-13T07:51:23.723Z"
   },
   {
    "duration": 5,
    "start_time": "2023-01-13T07:51:23.900Z"
   },
   {
    "duration": 22,
    "start_time": "2023-01-13T07:51:23.907Z"
   },
   {
    "duration": 96,
    "start_time": "2023-01-13T07:51:23.931Z"
   },
   {
    "duration": 108,
    "start_time": "2023-01-13T07:51:24.033Z"
   },
   {
    "duration": 121,
    "start_time": "2023-01-13T07:51:24.143Z"
   },
   {
    "duration": 294,
    "start_time": "2023-01-13T07:51:24.266Z"
   },
   {
    "duration": 128,
    "start_time": "2023-01-13T07:51:24.562Z"
   },
   {
    "duration": 310763,
    "start_time": "2023-01-13T07:51:24.691Z"
   },
   {
    "duration": 5,
    "start_time": "2023-01-13T07:56:35.456Z"
   },
   {
    "duration": 70,
    "start_time": "2023-01-13T07:56:35.463Z"
   },
   {
    "duration": 307604,
    "start_time": "2023-01-13T07:57:44.895Z"
   },
   {
    "duration": 5,
    "start_time": "2023-01-13T08:02:57.801Z"
   },
   {
    "duration": 83,
    "start_time": "2023-01-13T08:03:01.281Z"
   }
  ],
  "kernelspec": {
   "display_name": "Python 3",
   "language": "python",
   "name": "python3"
  },
  "language_info": {
   "codemirror_mode": {
    "name": "ipython",
    "version": 3
   },
   "file_extension": ".py",
   "mimetype": "text/x-python",
   "name": "python",
   "nbconvert_exporter": "python",
   "pygments_lexer": "ipython3",
   "version": "3.8.8"
  },
  "toc": {
   "base_numbering": 1,
   "nav_menu": {},
   "number_sections": true,
   "sideBar": true,
   "skip_h1_title": true,
   "title_cell": "Содержание",
   "title_sidebar": "Contents",
   "toc_cell": true,
   "toc_position": {
    "height": "calc(100% - 180px)",
    "left": "10px",
    "top": "150px",
    "width": "384px"
   },
   "toc_section_display": true,
   "toc_window_display": true
  }
 },
 "nbformat": 4,
 "nbformat_minor": 5
}
