{
 "cells": [
  {
   "cell_type": "markdown",
   "metadata": {
    "toc": true
   },
   "source": [
    "<h1>Содержание<span class=\"tocSkip\"></span></h1>\n",
    "<div class=\"toc\"><ul class=\"toc-item\"><li><span><a href=\"#Подготовка-данных\" data-toc-modified-id=\"Подготовка-данных-1\"><span class=\"toc-item-num\">1&nbsp;&nbsp;</span>Подготовка данных</a></span></li><li><span><a href=\"#Обучение-моделей\" data-toc-modified-id=\"Обучение-моделей-2\"><span class=\"toc-item-num\">2&nbsp;&nbsp;</span>Обучение моделей</a></span></li><li><span><a href=\"#Анализ-моделей\" data-toc-modified-id=\"Анализ-моделей-3\"><span class=\"toc-item-num\">3&nbsp;&nbsp;</span>Анализ моделей</a></span></li><li><span><a href=\"#Тестирование-лучшей-модели\" data-toc-modified-id=\"Тестирование-лучшей-модели-4\"><span class=\"toc-item-num\">4&nbsp;&nbsp;</span>Тестирование лучшей модели</a></span></li><li><span><a href=\"#Общий-вывод\" data-toc-modified-id=\"Общий-вывод-5\"><span class=\"toc-item-num\">5&nbsp;&nbsp;</span>Общий вывод</a></span></li></ul></div>"
   ]
  },
  {
   "cell_type": "markdown",
   "metadata": {},
   "source": [
    "# Определение стоимости автомобилей"
   ]
  },
  {
   "cell_type": "markdown",
   "metadata": {},
   "source": [
    "Сервис по продаже автомобилей с пробегом разрабатывает приложение для привлечения новых клиентов. В нём можно быстро узнать рыночную стоимость своего автомобиля. В нашем распоряжении исторические данные: технические характеристики, комплектации и цены автомобилей. Нам нужно построить модель для определения стоимости.\n",
    "\n",
    "*Заказчику важны*:\n",
    "\n",
    "- качество предсказания;\n",
    "- скорость предсказания;\n",
    "- время обучения."
   ]
  },
  {
   "cell_type": "markdown",
   "metadata": {},
   "source": [
    "**Описание данных**\n",
    "\n",
    "Данные находятся в файле `autos.csv`\n",
    "\n",
    "\n",
    "**Признаки:**\n",
    "\n",
    "- *DateCrawled* — дата скачивания анкеты из базы\n",
    "- *VehicleType* — тип автомобильного кузова\n",
    "- *RegistrationYear* — год регистрации автомобиля\n",
    "- *Gearbox* — тип коробки передач\n",
    "- *Power* — мощность (л. с.)\n",
    "- *Model* — модель автомобиля\n",
    "- *Kilometer* — пробег (км)\n",
    "- *RegistrationMonth* — месяц регистрации автомобиля\n",
    "- *FuelType* — тип топлива\n",
    "- *Brand* — марка автомобиля\n",
    "- *Repaired* — была машина в ремонте или нет\n",
    "- *DateCreated* — дата создания анкеты\n",
    "- *NumberOfPictures* — количество фотографий автомобиля\n",
    "- *PostalCode* — почтовый индекс владельца анкеты (пользователя)\n",
    "- *LastSeen* — дата последней активности пользователя\n",
    "\n",
    "---\n",
    "\n",
    "*Целевой признак* --> **Price — цена (евро)**"
   ]
  },
  {
   "cell_type": "markdown",
   "metadata": {},
   "source": [
    "## Подготовка данных"
   ]
  },
  {
   "cell_type": "markdown",
   "metadata": {},
   "source": [
    "Начнем с импорта библиотек"
   ]
  },
  {
   "cell_type": "code",
   "execution_count": 1,
   "metadata": {},
   "outputs": [],
   "source": [
    "# импорты из стандартной библиотеки\n",
    "import re\n",
    "import warnings\n",
    "\n",
    "# импорты сторонних библиотек\n",
    "import pandas as pd\n",
    "import numpy as np\n",
    "import lightgbm as lgb\n",
    "\n",
    "# импорты модулей текущего проекта\n",
    "from sklearn.metrics import mean_squared_error\n",
    "from sklearn.linear_model import LinearRegression\n",
    "from sklearn.linear_model import Ridge\n",
    "from sklearn.compose import make_column_transformer\n",
    "from sklearn.ensemble import RandomForestRegressor\n",
    "from sklearn.model_selection import (\n",
    "    GridSearchCV, \n",
    "    RandomizedSearchCV,\n",
    "    train_test_split,\n",
    "    cross_validate\n",
    ")\n",
    "from sklearn.pipeline import make_pipeline\n",
    "from sklearn.preprocessing import (\n",
    "    OneHotEncoder,\n",
    "    OrdinalEncoder,\n",
    "    StandardScaler\n",
    ")\n",
    "# настройки\n",
    "warnings.filterwarnings(\"ignore\")\n",
    "\n",
    "# константы заглавными буквами\n",
    "RANDOM_STATE = 12345"
   ]
  },
  {
   "cell_type": "markdown",
   "metadata": {},
   "source": [
    "Прочитаем файл `autos.csv` и присвоим его переменной `autos` "
   ]
  },
  {
   "cell_type": "code",
   "execution_count": 2,
   "metadata": {},
   "outputs": [],
   "source": [
    "try:\n",
    "    autos = pd.read_csv('autos.csv')\n",
    "except:\n",
    "    autos = pd.read_csv('/datasets/autos.csv')"
   ]
  },
  {
   "cell_type": "code",
   "execution_count": 3,
   "metadata": {},
   "outputs": [
    {
     "data": {
      "text/html": [
       "<div>\n",
       "<style scoped>\n",
       "    .dataframe tbody tr th:only-of-type {\n",
       "        vertical-align: middle;\n",
       "    }\n",
       "\n",
       "    .dataframe tbody tr th {\n",
       "        vertical-align: top;\n",
       "    }\n",
       "\n",
       "    .dataframe thead th {\n",
       "        text-align: right;\n",
       "    }\n",
       "</style>\n",
       "<table border=\"1\" class=\"dataframe\">\n",
       "  <thead>\n",
       "    <tr style=\"text-align: right;\">\n",
       "      <th></th>\n",
       "      <th>DateCrawled</th>\n",
       "      <th>Price</th>\n",
       "      <th>VehicleType</th>\n",
       "      <th>RegistrationYear</th>\n",
       "      <th>Gearbox</th>\n",
       "      <th>Power</th>\n",
       "      <th>Model</th>\n",
       "      <th>Kilometer</th>\n",
       "      <th>RegistrationMonth</th>\n",
       "      <th>FuelType</th>\n",
       "      <th>Brand</th>\n",
       "      <th>Repaired</th>\n",
       "      <th>DateCreated</th>\n",
       "      <th>NumberOfPictures</th>\n",
       "      <th>PostalCode</th>\n",
       "      <th>LastSeen</th>\n",
       "    </tr>\n",
       "  </thead>\n",
       "  <tbody>\n",
       "    <tr>\n",
       "      <th>0</th>\n",
       "      <td>2016-03-24 11:52:17</td>\n",
       "      <td>480</td>\n",
       "      <td>NaN</td>\n",
       "      <td>1993</td>\n",
       "      <td>manual</td>\n",
       "      <td>0</td>\n",
       "      <td>golf</td>\n",
       "      <td>150000</td>\n",
       "      <td>0</td>\n",
       "      <td>petrol</td>\n",
       "      <td>volkswagen</td>\n",
       "      <td>NaN</td>\n",
       "      <td>2016-03-24 00:00:00</td>\n",
       "      <td>0</td>\n",
       "      <td>70435</td>\n",
       "      <td>2016-04-07 03:16:57</td>\n",
       "    </tr>\n",
       "    <tr>\n",
       "      <th>1</th>\n",
       "      <td>2016-03-24 10:58:45</td>\n",
       "      <td>18300</td>\n",
       "      <td>coupe</td>\n",
       "      <td>2011</td>\n",
       "      <td>manual</td>\n",
       "      <td>190</td>\n",
       "      <td>NaN</td>\n",
       "      <td>125000</td>\n",
       "      <td>5</td>\n",
       "      <td>gasoline</td>\n",
       "      <td>audi</td>\n",
       "      <td>yes</td>\n",
       "      <td>2016-03-24 00:00:00</td>\n",
       "      <td>0</td>\n",
       "      <td>66954</td>\n",
       "      <td>2016-04-07 01:46:50</td>\n",
       "    </tr>\n",
       "    <tr>\n",
       "      <th>2</th>\n",
       "      <td>2016-03-14 12:52:21</td>\n",
       "      <td>9800</td>\n",
       "      <td>suv</td>\n",
       "      <td>2004</td>\n",
       "      <td>auto</td>\n",
       "      <td>163</td>\n",
       "      <td>grand</td>\n",
       "      <td>125000</td>\n",
       "      <td>8</td>\n",
       "      <td>gasoline</td>\n",
       "      <td>jeep</td>\n",
       "      <td>NaN</td>\n",
       "      <td>2016-03-14 00:00:00</td>\n",
       "      <td>0</td>\n",
       "      <td>90480</td>\n",
       "      <td>2016-04-05 12:47:46</td>\n",
       "    </tr>\n",
       "    <tr>\n",
       "      <th>3</th>\n",
       "      <td>2016-03-17 16:54:04</td>\n",
       "      <td>1500</td>\n",
       "      <td>small</td>\n",
       "      <td>2001</td>\n",
       "      <td>manual</td>\n",
       "      <td>75</td>\n",
       "      <td>golf</td>\n",
       "      <td>150000</td>\n",
       "      <td>6</td>\n",
       "      <td>petrol</td>\n",
       "      <td>volkswagen</td>\n",
       "      <td>no</td>\n",
       "      <td>2016-03-17 00:00:00</td>\n",
       "      <td>0</td>\n",
       "      <td>91074</td>\n",
       "      <td>2016-03-17 17:40:17</td>\n",
       "    </tr>\n",
       "    <tr>\n",
       "      <th>4</th>\n",
       "      <td>2016-03-31 17:25:20</td>\n",
       "      <td>3600</td>\n",
       "      <td>small</td>\n",
       "      <td>2008</td>\n",
       "      <td>manual</td>\n",
       "      <td>69</td>\n",
       "      <td>fabia</td>\n",
       "      <td>90000</td>\n",
       "      <td>7</td>\n",
       "      <td>gasoline</td>\n",
       "      <td>skoda</td>\n",
       "      <td>no</td>\n",
       "      <td>2016-03-31 00:00:00</td>\n",
       "      <td>0</td>\n",
       "      <td>60437</td>\n",
       "      <td>2016-04-06 10:17:21</td>\n",
       "    </tr>\n",
       "  </tbody>\n",
       "</table>\n",
       "</div>"
      ],
      "text/plain": [
       "           DateCrawled  Price VehicleType  RegistrationYear Gearbox  Power  \\\n",
       "0  2016-03-24 11:52:17    480         NaN              1993  manual      0   \n",
       "1  2016-03-24 10:58:45  18300       coupe              2011  manual    190   \n",
       "2  2016-03-14 12:52:21   9800         suv              2004    auto    163   \n",
       "3  2016-03-17 16:54:04   1500       small              2001  manual     75   \n",
       "4  2016-03-31 17:25:20   3600       small              2008  manual     69   \n",
       "\n",
       "   Model  Kilometer  RegistrationMonth  FuelType       Brand Repaired  \\\n",
       "0   golf     150000                  0    petrol  volkswagen      NaN   \n",
       "1    NaN     125000                  5  gasoline        audi      yes   \n",
       "2  grand     125000                  8  gasoline        jeep      NaN   \n",
       "3   golf     150000                  6    petrol  volkswagen       no   \n",
       "4  fabia      90000                  7  gasoline       skoda       no   \n",
       "\n",
       "           DateCreated  NumberOfPictures  PostalCode             LastSeen  \n",
       "0  2016-03-24 00:00:00                 0       70435  2016-04-07 03:16:57  \n",
       "1  2016-03-24 00:00:00                 0       66954  2016-04-07 01:46:50  \n",
       "2  2016-03-14 00:00:00                 0       90480  2016-04-05 12:47:46  \n",
       "3  2016-03-17 00:00:00                 0       91074  2016-03-17 17:40:17  \n",
       "4  2016-03-31 00:00:00                 0       60437  2016-04-06 10:17:21  "
      ]
     },
     "execution_count": 3,
     "metadata": {},
     "output_type": "execute_result"
    }
   ],
   "source": [
    "autos.head()"
   ]
  },
  {
   "cell_type": "code",
   "execution_count": 4,
   "metadata": {},
   "outputs": [
    {
     "name": "stdout",
     "output_type": "stream",
     "text": [
      "<class 'pandas.core.frame.DataFrame'>\n",
      "RangeIndex: 354369 entries, 0 to 354368\n",
      "Data columns (total 16 columns):\n",
      " #   Column             Non-Null Count   Dtype \n",
      "---  ------             --------------   ----- \n",
      " 0   DateCrawled        354369 non-null  object\n",
      " 1   Price              354369 non-null  int64 \n",
      " 2   VehicleType        316879 non-null  object\n",
      " 3   RegistrationYear   354369 non-null  int64 \n",
      " 4   Gearbox            334536 non-null  object\n",
      " 5   Power              354369 non-null  int64 \n",
      " 6   Model              334664 non-null  object\n",
      " 7   Kilometer          354369 non-null  int64 \n",
      " 8   RegistrationMonth  354369 non-null  int64 \n",
      " 9   FuelType           321474 non-null  object\n",
      " 10  Brand              354369 non-null  object\n",
      " 11  Repaired           283215 non-null  object\n",
      " 12  DateCreated        354369 non-null  object\n",
      " 13  NumberOfPictures   354369 non-null  int64 \n",
      " 14  PostalCode         354369 non-null  int64 \n",
      " 15  LastSeen           354369 non-null  object\n",
      "dtypes: int64(7), object(9)\n",
      "memory usage: 43.3+ MB\n"
     ]
    }
   ],
   "source": [
    "autos.info()"
   ]
  },
  {
   "cell_type": "code",
   "execution_count": 5,
   "metadata": {},
   "outputs": [
    {
     "data": {
      "text/plain": [
       "DateCrawled              0\n",
       "Price                    0\n",
       "VehicleType          37490\n",
       "RegistrationYear         0\n",
       "Gearbox              19833\n",
       "Power                    0\n",
       "Model                19705\n",
       "Kilometer                0\n",
       "RegistrationMonth        0\n",
       "FuelType             32895\n",
       "Brand                    0\n",
       "Repaired             71154\n",
       "DateCreated              0\n",
       "NumberOfPictures         0\n",
       "PostalCode               0\n",
       "LastSeen                 0\n",
       "dtype: int64"
      ]
     },
     "execution_count": 5,
     "metadata": {},
     "output_type": "execute_result"
    }
   ],
   "source": [
    "# есть пропуски\n",
    "autos.isna().sum()"
   ]
  },
  {
   "cell_type": "code",
   "execution_count": 6,
   "metadata": {},
   "outputs": [
    {
     "data": {
      "text/html": [
       "<div>\n",
       "<style scoped>\n",
       "    .dataframe tbody tr th:only-of-type {\n",
       "        vertical-align: middle;\n",
       "    }\n",
       "\n",
       "    .dataframe tbody tr th {\n",
       "        vertical-align: top;\n",
       "    }\n",
       "\n",
       "    .dataframe thead th {\n",
       "        text-align: right;\n",
       "    }\n",
       "</style>\n",
       "<table border=\"1\" class=\"dataframe\">\n",
       "  <thead>\n",
       "    <tr style=\"text-align: right;\">\n",
       "      <th></th>\n",
       "      <th>DateCrawled</th>\n",
       "      <th>Price</th>\n",
       "      <th>VehicleType</th>\n",
       "      <th>RegistrationYear</th>\n",
       "      <th>Gearbox</th>\n",
       "      <th>Power</th>\n",
       "      <th>Model</th>\n",
       "      <th>Kilometer</th>\n",
       "      <th>RegistrationMonth</th>\n",
       "      <th>FuelType</th>\n",
       "      <th>Brand</th>\n",
       "      <th>Repaired</th>\n",
       "      <th>DateCreated</th>\n",
       "      <th>NumberOfPictures</th>\n",
       "      <th>PostalCode</th>\n",
       "      <th>LastSeen</th>\n",
       "    </tr>\n",
       "  </thead>\n",
       "  <tbody>\n",
       "    <tr>\n",
       "      <th>count</th>\n",
       "      <td>354369</td>\n",
       "      <td>354369.000000</td>\n",
       "      <td>316879</td>\n",
       "      <td>354369.000000</td>\n",
       "      <td>334536</td>\n",
       "      <td>354369.000000</td>\n",
       "      <td>334664</td>\n",
       "      <td>354369.000000</td>\n",
       "      <td>354369.000000</td>\n",
       "      <td>321474</td>\n",
       "      <td>354369</td>\n",
       "      <td>283215</td>\n",
       "      <td>354369</td>\n",
       "      <td>354369.0</td>\n",
       "      <td>354369.000000</td>\n",
       "      <td>354369</td>\n",
       "    </tr>\n",
       "    <tr>\n",
       "      <th>unique</th>\n",
       "      <td>271174</td>\n",
       "      <td>NaN</td>\n",
       "      <td>8</td>\n",
       "      <td>NaN</td>\n",
       "      <td>2</td>\n",
       "      <td>NaN</td>\n",
       "      <td>250</td>\n",
       "      <td>NaN</td>\n",
       "      <td>NaN</td>\n",
       "      <td>7</td>\n",
       "      <td>40</td>\n",
       "      <td>2</td>\n",
       "      <td>109</td>\n",
       "      <td>NaN</td>\n",
       "      <td>NaN</td>\n",
       "      <td>179150</td>\n",
       "    </tr>\n",
       "    <tr>\n",
       "      <th>top</th>\n",
       "      <td>2016-03-24 14:49:47</td>\n",
       "      <td>NaN</td>\n",
       "      <td>sedan</td>\n",
       "      <td>NaN</td>\n",
       "      <td>manual</td>\n",
       "      <td>NaN</td>\n",
       "      <td>golf</td>\n",
       "      <td>NaN</td>\n",
       "      <td>NaN</td>\n",
       "      <td>petrol</td>\n",
       "      <td>volkswagen</td>\n",
       "      <td>no</td>\n",
       "      <td>2016-04-03 00:00:00</td>\n",
       "      <td>NaN</td>\n",
       "      <td>NaN</td>\n",
       "      <td>2016-04-06 13:45:54</td>\n",
       "    </tr>\n",
       "    <tr>\n",
       "      <th>freq</th>\n",
       "      <td>7</td>\n",
       "      <td>NaN</td>\n",
       "      <td>91457</td>\n",
       "      <td>NaN</td>\n",
       "      <td>268251</td>\n",
       "      <td>NaN</td>\n",
       "      <td>29232</td>\n",
       "      <td>NaN</td>\n",
       "      <td>NaN</td>\n",
       "      <td>216352</td>\n",
       "      <td>77013</td>\n",
       "      <td>247161</td>\n",
       "      <td>13719</td>\n",
       "      <td>NaN</td>\n",
       "      <td>NaN</td>\n",
       "      <td>17</td>\n",
       "    </tr>\n",
       "    <tr>\n",
       "      <th>mean</th>\n",
       "      <td>NaN</td>\n",
       "      <td>4416.656776</td>\n",
       "      <td>NaN</td>\n",
       "      <td>2004.234448</td>\n",
       "      <td>NaN</td>\n",
       "      <td>110.094337</td>\n",
       "      <td>NaN</td>\n",
       "      <td>128211.172535</td>\n",
       "      <td>5.714645</td>\n",
       "      <td>NaN</td>\n",
       "      <td>NaN</td>\n",
       "      <td>NaN</td>\n",
       "      <td>NaN</td>\n",
       "      <td>0.0</td>\n",
       "      <td>50508.689087</td>\n",
       "      <td>NaN</td>\n",
       "    </tr>\n",
       "    <tr>\n",
       "      <th>std</th>\n",
       "      <td>NaN</td>\n",
       "      <td>4514.158514</td>\n",
       "      <td>NaN</td>\n",
       "      <td>90.227958</td>\n",
       "      <td>NaN</td>\n",
       "      <td>189.850405</td>\n",
       "      <td>NaN</td>\n",
       "      <td>37905.341530</td>\n",
       "      <td>3.726421</td>\n",
       "      <td>NaN</td>\n",
       "      <td>NaN</td>\n",
       "      <td>NaN</td>\n",
       "      <td>NaN</td>\n",
       "      <td>0.0</td>\n",
       "      <td>25783.096248</td>\n",
       "      <td>NaN</td>\n",
       "    </tr>\n",
       "    <tr>\n",
       "      <th>min</th>\n",
       "      <td>NaN</td>\n",
       "      <td>0.000000</td>\n",
       "      <td>NaN</td>\n",
       "      <td>1000.000000</td>\n",
       "      <td>NaN</td>\n",
       "      <td>0.000000</td>\n",
       "      <td>NaN</td>\n",
       "      <td>5000.000000</td>\n",
       "      <td>0.000000</td>\n",
       "      <td>NaN</td>\n",
       "      <td>NaN</td>\n",
       "      <td>NaN</td>\n",
       "      <td>NaN</td>\n",
       "      <td>0.0</td>\n",
       "      <td>1067.000000</td>\n",
       "      <td>NaN</td>\n",
       "    </tr>\n",
       "    <tr>\n",
       "      <th>25%</th>\n",
       "      <td>NaN</td>\n",
       "      <td>1050.000000</td>\n",
       "      <td>NaN</td>\n",
       "      <td>1999.000000</td>\n",
       "      <td>NaN</td>\n",
       "      <td>69.000000</td>\n",
       "      <td>NaN</td>\n",
       "      <td>125000.000000</td>\n",
       "      <td>3.000000</td>\n",
       "      <td>NaN</td>\n",
       "      <td>NaN</td>\n",
       "      <td>NaN</td>\n",
       "      <td>NaN</td>\n",
       "      <td>0.0</td>\n",
       "      <td>30165.000000</td>\n",
       "      <td>NaN</td>\n",
       "    </tr>\n",
       "    <tr>\n",
       "      <th>50%</th>\n",
       "      <td>NaN</td>\n",
       "      <td>2700.000000</td>\n",
       "      <td>NaN</td>\n",
       "      <td>2003.000000</td>\n",
       "      <td>NaN</td>\n",
       "      <td>105.000000</td>\n",
       "      <td>NaN</td>\n",
       "      <td>150000.000000</td>\n",
       "      <td>6.000000</td>\n",
       "      <td>NaN</td>\n",
       "      <td>NaN</td>\n",
       "      <td>NaN</td>\n",
       "      <td>NaN</td>\n",
       "      <td>0.0</td>\n",
       "      <td>49413.000000</td>\n",
       "      <td>NaN</td>\n",
       "    </tr>\n",
       "    <tr>\n",
       "      <th>75%</th>\n",
       "      <td>NaN</td>\n",
       "      <td>6400.000000</td>\n",
       "      <td>NaN</td>\n",
       "      <td>2008.000000</td>\n",
       "      <td>NaN</td>\n",
       "      <td>143.000000</td>\n",
       "      <td>NaN</td>\n",
       "      <td>150000.000000</td>\n",
       "      <td>9.000000</td>\n",
       "      <td>NaN</td>\n",
       "      <td>NaN</td>\n",
       "      <td>NaN</td>\n",
       "      <td>NaN</td>\n",
       "      <td>0.0</td>\n",
       "      <td>71083.000000</td>\n",
       "      <td>NaN</td>\n",
       "    </tr>\n",
       "    <tr>\n",
       "      <th>max</th>\n",
       "      <td>NaN</td>\n",
       "      <td>20000.000000</td>\n",
       "      <td>NaN</td>\n",
       "      <td>9999.000000</td>\n",
       "      <td>NaN</td>\n",
       "      <td>20000.000000</td>\n",
       "      <td>NaN</td>\n",
       "      <td>150000.000000</td>\n",
       "      <td>12.000000</td>\n",
       "      <td>NaN</td>\n",
       "      <td>NaN</td>\n",
       "      <td>NaN</td>\n",
       "      <td>NaN</td>\n",
       "      <td>0.0</td>\n",
       "      <td>99998.000000</td>\n",
       "      <td>NaN</td>\n",
       "    </tr>\n",
       "  </tbody>\n",
       "</table>\n",
       "</div>"
      ],
      "text/plain": [
       "                DateCrawled          Price VehicleType  RegistrationYear  \\\n",
       "count                354369  354369.000000      316879     354369.000000   \n",
       "unique               271174            NaN           8               NaN   \n",
       "top     2016-03-24 14:49:47            NaN       sedan               NaN   \n",
       "freq                      7            NaN       91457               NaN   \n",
       "mean                    NaN    4416.656776         NaN       2004.234448   \n",
       "std                     NaN    4514.158514         NaN         90.227958   \n",
       "min                     NaN       0.000000         NaN       1000.000000   \n",
       "25%                     NaN    1050.000000         NaN       1999.000000   \n",
       "50%                     NaN    2700.000000         NaN       2003.000000   \n",
       "75%                     NaN    6400.000000         NaN       2008.000000   \n",
       "max                     NaN   20000.000000         NaN       9999.000000   \n",
       "\n",
       "       Gearbox          Power   Model      Kilometer  RegistrationMonth  \\\n",
       "count   334536  354369.000000  334664  354369.000000      354369.000000   \n",
       "unique       2            NaN     250            NaN                NaN   \n",
       "top     manual            NaN    golf            NaN                NaN   \n",
       "freq    268251            NaN   29232            NaN                NaN   \n",
       "mean       NaN     110.094337     NaN  128211.172535           5.714645   \n",
       "std        NaN     189.850405     NaN   37905.341530           3.726421   \n",
       "min        NaN       0.000000     NaN    5000.000000           0.000000   \n",
       "25%        NaN      69.000000     NaN  125000.000000           3.000000   \n",
       "50%        NaN     105.000000     NaN  150000.000000           6.000000   \n",
       "75%        NaN     143.000000     NaN  150000.000000           9.000000   \n",
       "max        NaN   20000.000000     NaN  150000.000000          12.000000   \n",
       "\n",
       "       FuelType       Brand Repaired          DateCreated  NumberOfPictures  \\\n",
       "count    321474      354369   283215               354369          354369.0   \n",
       "unique        7          40        2                  109               NaN   \n",
       "top      petrol  volkswagen       no  2016-04-03 00:00:00               NaN   \n",
       "freq     216352       77013   247161                13719               NaN   \n",
       "mean        NaN         NaN      NaN                  NaN               0.0   \n",
       "std         NaN         NaN      NaN                  NaN               0.0   \n",
       "min         NaN         NaN      NaN                  NaN               0.0   \n",
       "25%         NaN         NaN      NaN                  NaN               0.0   \n",
       "50%         NaN         NaN      NaN                  NaN               0.0   \n",
       "75%         NaN         NaN      NaN                  NaN               0.0   \n",
       "max         NaN         NaN      NaN                  NaN               0.0   \n",
       "\n",
       "           PostalCode             LastSeen  \n",
       "count   354369.000000               354369  \n",
       "unique            NaN               179150  \n",
       "top               NaN  2016-04-06 13:45:54  \n",
       "freq              NaN                   17  \n",
       "mean     50508.689087                  NaN  \n",
       "std      25783.096248                  NaN  \n",
       "min       1067.000000                  NaN  \n",
       "25%      30165.000000                  NaN  \n",
       "50%      49413.000000                  NaN  \n",
       "75%      71083.000000                  NaN  \n",
       "max      99998.000000                  NaN  "
      ]
     },
     "execution_count": 6,
     "metadata": {},
     "output_type": "execute_result"
    }
   ],
   "source": [
    "autos.describe(include='all')"
   ]
  },
  {
   "cell_type": "markdown",
   "metadata": {},
   "source": [
    "1. Нужно будет поработать над названиями признаков --> перевести их в snake_case\n",
    "2. Также, посмотреть на Dtype столбцов, может, можно будет что-то перевести в int/float\n",
    "3. Заполнить пропуски / удалить строки\n",
    "4. Проверить есть ли дубликаты"
   ]
  },
  {
   "cell_type": "markdown",
   "metadata": {},
   "source": [
    "Приведем названия признаков к snake_case.\n",
    "\n",
    "Воспользуемся библиотекой re, функцией map и lambda"
   ]
  },
  {
   "cell_type": "code",
   "execution_count": 7,
   "metadata": {},
   "outputs": [
    {
     "data": {
      "text/plain": [
       "Index(['date_crawled', 'price', 'vehicle_type', 'registration_year', 'gearbox',\n",
       "       'power', 'model', 'kilometer', 'registration_month', 'fuel_type',\n",
       "       'brand', 'repaired', 'date_created', 'number_of_pictures',\n",
       "       'postal_code', 'last_seen'],\n",
       "      dtype='object')"
      ]
     },
     "execution_count": 7,
     "metadata": {},
     "output_type": "execute_result"
    }
   ],
   "source": [
    "autos.columns = map(lambda column: re.sub(r'(?<!^)(?=[A-Z])', '_', column).lower(), autos.columns)\n",
    "\n",
    "autos.columns"
   ]
  },
  {
   "cell_type": "code",
   "execution_count": 8,
   "metadata": {},
   "outputs": [
    {
     "data": {
      "text/html": [
       "<div>\n",
       "<style scoped>\n",
       "    .dataframe tbody tr th:only-of-type {\n",
       "        vertical-align: middle;\n",
       "    }\n",
       "\n",
       "    .dataframe tbody tr th {\n",
       "        vertical-align: top;\n",
       "    }\n",
       "\n",
       "    .dataframe thead th {\n",
       "        text-align: right;\n",
       "    }\n",
       "</style>\n",
       "<table border=\"1\" class=\"dataframe\">\n",
       "  <thead>\n",
       "    <tr style=\"text-align: right;\">\n",
       "      <th></th>\n",
       "      <th>date_crawled</th>\n",
       "      <th>price</th>\n",
       "      <th>vehicle_type</th>\n",
       "      <th>registration_year</th>\n",
       "      <th>gearbox</th>\n",
       "      <th>power</th>\n",
       "      <th>model</th>\n",
       "      <th>kilometer</th>\n",
       "      <th>registration_month</th>\n",
       "      <th>fuel_type</th>\n",
       "      <th>brand</th>\n",
       "      <th>repaired</th>\n",
       "      <th>date_created</th>\n",
       "      <th>number_of_pictures</th>\n",
       "      <th>postal_code</th>\n",
       "      <th>last_seen</th>\n",
       "    </tr>\n",
       "  </thead>\n",
       "  <tbody>\n",
       "    <tr>\n",
       "      <th>0</th>\n",
       "      <td>2016-03-24 11:52:17</td>\n",
       "      <td>480</td>\n",
       "      <td>NaN</td>\n",
       "      <td>1993</td>\n",
       "      <td>manual</td>\n",
       "      <td>0</td>\n",
       "      <td>golf</td>\n",
       "      <td>150000</td>\n",
       "      <td>0</td>\n",
       "      <td>petrol</td>\n",
       "      <td>volkswagen</td>\n",
       "      <td>NaN</td>\n",
       "      <td>2016-03-24 00:00:00</td>\n",
       "      <td>0</td>\n",
       "      <td>70435</td>\n",
       "      <td>2016-04-07 03:16:57</td>\n",
       "    </tr>\n",
       "    <tr>\n",
       "      <th>1</th>\n",
       "      <td>2016-03-24 10:58:45</td>\n",
       "      <td>18300</td>\n",
       "      <td>coupe</td>\n",
       "      <td>2011</td>\n",
       "      <td>manual</td>\n",
       "      <td>190</td>\n",
       "      <td>NaN</td>\n",
       "      <td>125000</td>\n",
       "      <td>5</td>\n",
       "      <td>gasoline</td>\n",
       "      <td>audi</td>\n",
       "      <td>yes</td>\n",
       "      <td>2016-03-24 00:00:00</td>\n",
       "      <td>0</td>\n",
       "      <td>66954</td>\n",
       "      <td>2016-04-07 01:46:50</td>\n",
       "    </tr>\n",
       "    <tr>\n",
       "      <th>2</th>\n",
       "      <td>2016-03-14 12:52:21</td>\n",
       "      <td>9800</td>\n",
       "      <td>suv</td>\n",
       "      <td>2004</td>\n",
       "      <td>auto</td>\n",
       "      <td>163</td>\n",
       "      <td>grand</td>\n",
       "      <td>125000</td>\n",
       "      <td>8</td>\n",
       "      <td>gasoline</td>\n",
       "      <td>jeep</td>\n",
       "      <td>NaN</td>\n",
       "      <td>2016-03-14 00:00:00</td>\n",
       "      <td>0</td>\n",
       "      <td>90480</td>\n",
       "      <td>2016-04-05 12:47:46</td>\n",
       "    </tr>\n",
       "    <tr>\n",
       "      <th>3</th>\n",
       "      <td>2016-03-17 16:54:04</td>\n",
       "      <td>1500</td>\n",
       "      <td>small</td>\n",
       "      <td>2001</td>\n",
       "      <td>manual</td>\n",
       "      <td>75</td>\n",
       "      <td>golf</td>\n",
       "      <td>150000</td>\n",
       "      <td>6</td>\n",
       "      <td>petrol</td>\n",
       "      <td>volkswagen</td>\n",
       "      <td>no</td>\n",
       "      <td>2016-03-17 00:00:00</td>\n",
       "      <td>0</td>\n",
       "      <td>91074</td>\n",
       "      <td>2016-03-17 17:40:17</td>\n",
       "    </tr>\n",
       "    <tr>\n",
       "      <th>4</th>\n",
       "      <td>2016-03-31 17:25:20</td>\n",
       "      <td>3600</td>\n",
       "      <td>small</td>\n",
       "      <td>2008</td>\n",
       "      <td>manual</td>\n",
       "      <td>69</td>\n",
       "      <td>fabia</td>\n",
       "      <td>90000</td>\n",
       "      <td>7</td>\n",
       "      <td>gasoline</td>\n",
       "      <td>skoda</td>\n",
       "      <td>no</td>\n",
       "      <td>2016-03-31 00:00:00</td>\n",
       "      <td>0</td>\n",
       "      <td>60437</td>\n",
       "      <td>2016-04-06 10:17:21</td>\n",
       "    </tr>\n",
       "  </tbody>\n",
       "</table>\n",
       "</div>"
      ],
      "text/plain": [
       "          date_crawled  price vehicle_type  registration_year gearbox  power  \\\n",
       "0  2016-03-24 11:52:17    480          NaN               1993  manual      0   \n",
       "1  2016-03-24 10:58:45  18300        coupe               2011  manual    190   \n",
       "2  2016-03-14 12:52:21   9800          suv               2004    auto    163   \n",
       "3  2016-03-17 16:54:04   1500        small               2001  manual     75   \n",
       "4  2016-03-31 17:25:20   3600        small               2008  manual     69   \n",
       "\n",
       "   model  kilometer  registration_month fuel_type       brand repaired  \\\n",
       "0   golf     150000                   0    petrol  volkswagen      NaN   \n",
       "1    NaN     125000                   5  gasoline        audi      yes   \n",
       "2  grand     125000                   8  gasoline        jeep      NaN   \n",
       "3   golf     150000                   6    petrol  volkswagen       no   \n",
       "4  fabia      90000                   7  gasoline       skoda       no   \n",
       "\n",
       "          date_created  number_of_pictures  postal_code            last_seen  \n",
       "0  2016-03-24 00:00:00                   0        70435  2016-04-07 03:16:57  \n",
       "1  2016-03-24 00:00:00                   0        66954  2016-04-07 01:46:50  \n",
       "2  2016-03-14 00:00:00                   0        90480  2016-04-05 12:47:46  \n",
       "3  2016-03-17 00:00:00                   0        91074  2016-03-17 17:40:17  \n",
       "4  2016-03-31 00:00:00                   0        60437  2016-04-06 10:17:21  "
      ]
     },
     "execution_count": 8,
     "metadata": {},
     "output_type": "execute_result"
    }
   ],
   "source": [
    "autos.head()"
   ]
  },
  {
   "cell_type": "markdown",
   "metadata": {},
   "source": [
    "Столбцы `date_crawled`, `date_created` и `last_seen` приведем к типу **datetime**"
   ]
  },
  {
   "cell_type": "code",
   "execution_count": 9,
   "metadata": {},
   "outputs": [],
   "source": [
    "autos['date_crawled'] = pd.to_datetime(autos['date_crawled'], format='%Y-%m-%d %H:%M:%S')\n",
    "autos['date_created'] = pd.to_datetime(autos['date_created'], format='%Y-%m-%d %H:%M:%S')\n",
    "autos['last_seen'] = pd.to_datetime(autos['last_seen'], format='%Y-%m-%d %H:%M:%S')"
   ]
  },
  {
   "cell_type": "code",
   "execution_count": 10,
   "metadata": {},
   "outputs": [
    {
     "data": {
      "text/plain": [
       "date_crawled    datetime64[ns]\n",
       "date_created    datetime64[ns]\n",
       "last_seen       datetime64[ns]\n",
       "dtype: object"
      ]
     },
     "execution_count": 10,
     "metadata": {},
     "output_type": "execute_result"
    }
   ],
   "source": [
    "# ок\n",
    "autos[['date_crawled', 'date_created', 'last_seen']].dtypes"
   ]
  },
  {
   "cell_type": "markdown",
   "metadata": {},
   "source": [
    "Удалим явные дубликаты с помощью `duplicated`"
   ]
  },
  {
   "cell_type": "code",
   "execution_count": 11,
   "metadata": {},
   "outputs": [
    {
     "data": {
      "text/plain": [
       "354365"
      ]
     },
     "execution_count": 11,
     "metadata": {},
     "output_type": "execute_result"
    }
   ],
   "source": [
    "autos = autos[~autos.duplicated()].reset_index(drop=True)\n",
    "autos.shape[0]"
   ]
  },
  {
   "cell_type": "markdown",
   "metadata": {},
   "source": [
    "Посмотрим на пропуски и подумаем что с ними делать"
   ]
  },
  {
   "cell_type": "code",
   "execution_count": 12,
   "metadata": {},
   "outputs": [
    {
     "data": {
      "text/plain": [
       "sedan          91457\n",
       "small          79830\n",
       "wagon          65165\n",
       "NaN            37490\n",
       "bus            28775\n",
       "convertible    20203\n",
       "coupe          16161\n",
       "suv            11996\n",
       "other           3288\n",
       "Name: vehicle_type, dtype: int64"
      ]
     },
     "execution_count": 12,
     "metadata": {},
     "output_type": "execute_result"
    }
   ],
   "source": [
    "autos.vehicle_type.value_counts(dropna=False)"
   ]
  },
  {
   "cell_type": "markdown",
   "metadata": {},
   "source": [
    "Как видим, пропусков довольно много, можно попробовать заполнить их средним значением по бренду (признак `brand`)"
   ]
  },
  {
   "cell_type": "code",
   "execution_count": 13,
   "metadata": {},
   "outputs": [],
   "source": [
    "def fill_autos_feature(feature: pd.Series):\n",
    "    \"\"\"Функция заполняет пропуски столбца, переданного ей в аргумент, для датасета autos.\n",
    "\n",
    "    Args:\n",
    "        feature (pd.Series): столбец, для которого нужно заполнить пропуски\n",
    "    \"\"\"\n",
    "    # создается сгруппированный brand и feature датасет\n",
    "    # для каждого бренда подсчитывается value_counts по feature\n",
    "    autos_grouped = autos.groupby(['brand', feature])[feature].agg('count')\n",
    "    \n",
    "    # подготавливается dict\n",
    "    brand_dict = {}\n",
    "    \n",
    "    # dict заполняется значениями: 'значение brand': 'значение feature для этого brand с наибольшим количеством вхождений'\n",
    "    # сложно описал извините..\n",
    "    for brand in autos.brand.unique():\n",
    "        try:\n",
    "            sub_df = autos_grouped[brand].sort_values(ascending=False)\n",
    "            brand_dict[brand] = sub_df.index[0]\n",
    "        except:\n",
    "            continue\n",
    "            \n",
    "    # создается pd.Series где значения brand из датасета autos заменены на значения feature из brand_dict\n",
    "    popular_stuff = autos['brand'].map(brand_dict)\n",
    "    \n",
    "    # autos[feature] заполняется нужными значениями\n",
    "    autos[feature] = autos[feature].fillna(popular_stuff)"
   ]
  },
  {
   "cell_type": "markdown",
   "metadata": {},
   "source": [
    "Применим нашу функцию для фичей с пропусками, тем самым заполним пропуски в них."
   ]
  },
  {
   "cell_type": "code",
   "execution_count": 14,
   "metadata": {},
   "outputs": [],
   "source": [
    "features_to_fill = ['vehicle_type', 'gearbox', 'model', 'fuel_type', 'repaired']\n",
    "\n",
    "for feature in features_to_fill:\n",
    "    fill_autos_feature(feature)"
   ]
  },
  {
   "cell_type": "markdown",
   "metadata": {},
   "source": [
    "Для машин бренда sonstige_autos модели не указаны впринципе, заполним значения вручную. "
   ]
  },
  {
   "cell_type": "code",
   "execution_count": 15,
   "metadata": {},
   "outputs": [],
   "source": [
    "autos.loc[autos['brand'] == 'sonstige_autos', 'model'] = 'other'"
   ]
  },
  {
   "cell_type": "markdown",
   "metadata": {},
   "source": [
    "Признак `repaired` приведем к типу int, yes/no --> 1, 0"
   ]
  },
  {
   "cell_type": "code",
   "execution_count": 16,
   "metadata": {},
   "outputs": [],
   "source": [
    "autos.loc[autos['repaired'] == 'yes', 'repaired'] = 1\n",
    "autos.loc[autos['repaired'] == 'no', 'repaired'] = 0\n",
    "\n",
    "autos['repaired'] = autos['repaired'].astype('int')"
   ]
  },
  {
   "cell_type": "code",
   "execution_count": 17,
   "metadata": {},
   "outputs": [
    {
     "data": {
      "text/plain": [
       "dtype('int32')"
      ]
     },
     "execution_count": 17,
     "metadata": {},
     "output_type": "execute_result"
    }
   ],
   "source": [
    "autos['repaired'].dtype"
   ]
  },
  {
   "cell_type": "markdown",
   "metadata": {},
   "source": [
    "Посмотрим, есть ли выбросы"
   ]
  },
  {
   "cell_type": "code",
   "execution_count": 18,
   "metadata": {},
   "outputs": [
    {
     "data": {
      "text/html": [
       "<div>\n",
       "<style scoped>\n",
       "    .dataframe tbody tr th:only-of-type {\n",
       "        vertical-align: middle;\n",
       "    }\n",
       "\n",
       "    .dataframe tbody tr th {\n",
       "        vertical-align: top;\n",
       "    }\n",
       "\n",
       "    .dataframe thead th {\n",
       "        text-align: right;\n",
       "    }\n",
       "</style>\n",
       "<table border=\"1\" class=\"dataframe\">\n",
       "  <thead>\n",
       "    <tr style=\"text-align: right;\">\n",
       "      <th></th>\n",
       "      <th>price</th>\n",
       "      <th>registration_year</th>\n",
       "      <th>power</th>\n",
       "      <th>kilometer</th>\n",
       "      <th>registration_month</th>\n",
       "      <th>repaired</th>\n",
       "      <th>number_of_pictures</th>\n",
       "      <th>postal_code</th>\n",
       "    </tr>\n",
       "  </thead>\n",
       "  <tbody>\n",
       "    <tr>\n",
       "      <th>count</th>\n",
       "      <td>354365.000000</td>\n",
       "      <td>354365.000000</td>\n",
       "      <td>354365.000000</td>\n",
       "      <td>354365.000000</td>\n",
       "      <td>354365.000000</td>\n",
       "      <td>354365.000000</td>\n",
       "      <td>354365.0</td>\n",
       "      <td>354365.000000</td>\n",
       "    </tr>\n",
       "    <tr>\n",
       "      <th>mean</th>\n",
       "      <td>4416.679830</td>\n",
       "      <td>2004.234481</td>\n",
       "      <td>110.093816</td>\n",
       "      <td>128211.363989</td>\n",
       "      <td>5.714650</td>\n",
       "      <td>0.101740</td>\n",
       "      <td>0.0</td>\n",
       "      <td>50508.503800</td>\n",
       "    </tr>\n",
       "    <tr>\n",
       "      <th>std</th>\n",
       "      <td>4514.176349</td>\n",
       "      <td>90.228466</td>\n",
       "      <td>189.851330</td>\n",
       "      <td>37905.083858</td>\n",
       "      <td>3.726432</td>\n",
       "      <td>0.302306</td>\n",
       "      <td>0.0</td>\n",
       "      <td>25783.100078</td>\n",
       "    </tr>\n",
       "    <tr>\n",
       "      <th>min</th>\n",
       "      <td>0.000000</td>\n",
       "      <td>1000.000000</td>\n",
       "      <td>0.000000</td>\n",
       "      <td>5000.000000</td>\n",
       "      <td>0.000000</td>\n",
       "      <td>0.000000</td>\n",
       "      <td>0.0</td>\n",
       "      <td>1067.000000</td>\n",
       "    </tr>\n",
       "    <tr>\n",
       "      <th>25%</th>\n",
       "      <td>1050.000000</td>\n",
       "      <td>1999.000000</td>\n",
       "      <td>69.000000</td>\n",
       "      <td>125000.000000</td>\n",
       "      <td>3.000000</td>\n",
       "      <td>0.000000</td>\n",
       "      <td>0.0</td>\n",
       "      <td>30165.000000</td>\n",
       "    </tr>\n",
       "    <tr>\n",
       "      <th>50%</th>\n",
       "      <td>2700.000000</td>\n",
       "      <td>2003.000000</td>\n",
       "      <td>105.000000</td>\n",
       "      <td>150000.000000</td>\n",
       "      <td>6.000000</td>\n",
       "      <td>0.000000</td>\n",
       "      <td>0.0</td>\n",
       "      <td>49413.000000</td>\n",
       "    </tr>\n",
       "    <tr>\n",
       "      <th>75%</th>\n",
       "      <td>6400.000000</td>\n",
       "      <td>2008.000000</td>\n",
       "      <td>143.000000</td>\n",
       "      <td>150000.000000</td>\n",
       "      <td>9.000000</td>\n",
       "      <td>0.000000</td>\n",
       "      <td>0.0</td>\n",
       "      <td>71083.000000</td>\n",
       "    </tr>\n",
       "    <tr>\n",
       "      <th>max</th>\n",
       "      <td>20000.000000</td>\n",
       "      <td>9999.000000</td>\n",
       "      <td>20000.000000</td>\n",
       "      <td>150000.000000</td>\n",
       "      <td>12.000000</td>\n",
       "      <td>1.000000</td>\n",
       "      <td>0.0</td>\n",
       "      <td>99998.000000</td>\n",
       "    </tr>\n",
       "  </tbody>\n",
       "</table>\n",
       "</div>"
      ],
      "text/plain": [
       "               price  registration_year          power      kilometer  \\\n",
       "count  354365.000000      354365.000000  354365.000000  354365.000000   \n",
       "mean     4416.679830        2004.234481     110.093816  128211.363989   \n",
       "std      4514.176349          90.228466     189.851330   37905.083858   \n",
       "min         0.000000        1000.000000       0.000000    5000.000000   \n",
       "25%      1050.000000        1999.000000      69.000000  125000.000000   \n",
       "50%      2700.000000        2003.000000     105.000000  150000.000000   \n",
       "75%      6400.000000        2008.000000     143.000000  150000.000000   \n",
       "max     20000.000000        9999.000000   20000.000000  150000.000000   \n",
       "\n",
       "       registration_month       repaired  number_of_pictures    postal_code  \n",
       "count       354365.000000  354365.000000            354365.0  354365.000000  \n",
       "mean             5.714650       0.101740                 0.0   50508.503800  \n",
       "std              3.726432       0.302306                 0.0   25783.100078  \n",
       "min              0.000000       0.000000                 0.0    1067.000000  \n",
       "25%              3.000000       0.000000                 0.0   30165.000000  \n",
       "50%              6.000000       0.000000                 0.0   49413.000000  \n",
       "75%              9.000000       0.000000                 0.0   71083.000000  \n",
       "max             12.000000       1.000000                 0.0   99998.000000  "
      ]
     },
     "execution_count": 18,
     "metadata": {},
     "output_type": "execute_result"
    }
   ],
   "source": [
    "autos.describe()"
   ]
  },
  {
   "cell_type": "markdown",
   "metadata": {},
   "source": [
    "registration_year и power выглядят подозрительно, также, месяц в столбце registration_month не может быть нулевым. Price, вряд ли тоже может быть нулевым."
   ]
  },
  {
   "cell_type": "code",
   "execution_count": 19,
   "metadata": {},
   "outputs": [
    {
     "data": {
      "text/plain": [
       "66198     1000\n",
       "183778    1000\n",
       "323440    1000\n",
       "174892    1000\n",
       "97736     1000\n",
       "          ... \n",
       "195854    1800\n",
       "321779    1910\n",
       "133623    1910\n",
       "58883     1910\n",
       "269600    1910\n",
       "Name: registration_year, Length: 70, dtype: int64"
      ]
     },
     "execution_count": 19,
     "metadata": {},
     "output_type": "execute_result"
    }
   ],
   "source": [
    "autos['registration_year'].sort_values().head(70)"
   ]
  },
  {
   "cell_type": "code",
   "execution_count": 20,
   "metadata": {},
   "outputs": [
    {
     "data": {
      "text/plain": [
       "151228    9999\n",
       "326721    9999\n",
       "167937    9999\n",
       "306575    9999\n",
       "333484    9999\n",
       "          ... \n",
       "172241    2800\n",
       "122692    2500\n",
       "328449    2500\n",
       "317852    2500\n",
       "139756    2500\n",
       "Name: registration_year, Length: 100, dtype: int64"
      ]
     },
     "execution_count": 20,
     "metadata": {},
     "output_type": "execute_result"
    }
   ],
   "source": [
    "autos['registration_year'].sort_values(ascending=False).head(100)"
   ]
  },
  {
   "cell_type": "markdown",
   "metadata": {},
   "source": [
    "Будем считать, что 1910 год - это трешхолд для нижней планки, а 2023 год - трешхолд для верхней планки."
   ]
  },
  {
   "cell_type": "code",
   "execution_count": 21,
   "metadata": {},
   "outputs": [
    {
     "data": {
      "text/plain": [
       "<AxesSubplot:ylabel='Frequency'>"
      ]
     },
     "execution_count": 21,
     "metadata": {},
     "output_type": "execute_result"
    },
    {
     "data": {
      "image/png": "[encoded data removed]",
      "text/plain": [
       "<Figure size 432x288 with 1 Axes>"
      ]
     },
     "metadata": {
      "needs_background": "light"
     },
     "output_type": "display_data"
    }
   ],
   "source": [
    "autos.registration_year.plot(kind='hist', grid=True, xlim=(1940, 2025), bins=25)"
   ]
  },
  {
   "cell_type": "markdown",
   "metadata": {},
   "source": [
    "Недостаточно, попробуем установить нижний трешхолд равным 1950, а верхний - 2016.\n",
    "\n",
    "P.S. по какой-то неведомой мне причине, если запустить ячейку с этим графиком в первый раз то он будет вот такой))\n",
    "А если во второй то уже все норм."
   ]
  },
  {
   "cell_type": "code",
   "execution_count": 22,
   "metadata": {},
   "outputs": [],
   "source": [
    "autos = autos.query('registration_year >= 1950 and registration_year <= 2016').reset_index(drop=True)\n",
    "\n",
    "autos['power'] = autos['power'].astype('int')"
   ]
  },
  {
   "cell_type": "markdown",
   "metadata": {},
   "source": [
    "Ок, посмотрим теперь на power"
   ]
  },
  {
   "cell_type": "code",
   "execution_count": 23,
   "metadata": {},
   "outputs": [
    {
     "data": {
      "text/plain": [
       "0          0\n",
       "249782     0\n",
       "249768     0\n",
       "249766     0\n",
       "249755     0\n",
       "          ..\n",
       "307224    54\n",
       "76767     54\n",
       "298868    54\n",
       "149637    54\n",
       "278295    54\n",
       "Name: power, Length: 50000, dtype: int32"
      ]
     },
     "execution_count": 23,
     "metadata": {},
     "output_type": "execute_result"
    }
   ],
   "source": [
    "autos.power.sort_values().head(50000)"
   ]
  },
  {
   "cell_type": "code",
   "execution_count": 24,
   "metadata": {},
   "outputs": [
    {
     "data": {
      "text/plain": [
       "210479    20000\n",
       "286746    19312\n",
       "109438    19211\n",
       "127076    19208\n",
       "61317     17932\n",
       "          ...  \n",
       "79702       671\n",
       "167036      651\n",
       "338877      650\n",
       "203283      650\n",
       "238851      645\n",
       "Name: power, Length: 330, dtype: int32"
      ]
     },
     "execution_count": 24,
     "metadata": {},
     "output_type": "execute_result"
    }
   ],
   "source": [
    "autos.power.sort_values(ascending=False).head(330)"
   ]
  },
  {
   "cell_type": "code",
   "execution_count": 25,
   "metadata": {},
   "outputs": [
    {
     "data": {
      "text/plain": [
       "<AxesSubplot:ylabel='Frequency'>"
      ]
     },
     "execution_count": 25,
     "metadata": {},
     "output_type": "execute_result"
    },
    {
     "data": {
      "image/png": "[encoded data removed]",
      "text/plain": [
       "<Figure size 432x288 with 1 Axes>"
      ]
     },
     "metadata": {
      "needs_background": "light"
     },
     "output_type": "display_data"
    }
   ],
   "source": [
    "autos.power.plot(kind='hist', grid=True, bins=500, xlim=(0, 500))"
   ]
  },
  {
   "cell_type": "markdown",
   "metadata": {},
   "source": [
    "Для power положим, что 800 л.с. будет хорошим порогом.\n",
    "\n",
    "Не уверен, что делать со значениями power = 0, им очень много.. пусть это будет означать, что значение неизвестно."
   ]
  },
  {
   "cell_type": "code",
   "execution_count": 26,
   "metadata": {},
   "outputs": [],
   "source": [
    "autos = autos.query('power < 800').reset_index(drop=True)\n",
    "\n",
    "autos['registration_year'] = autos['registration_year'].astype('int')"
   ]
  },
  {
   "cell_type": "code",
   "execution_count": 27,
   "metadata": {},
   "outputs": [
    {
     "data": {
      "text/plain": [
       "<AxesSubplot:ylabel='Frequency'>"
      ]
     },
     "execution_count": 27,
     "metadata": {},
     "output_type": "execute_result"
    },
    {
     "data": {
      "image/png": "[encoded data removed]",
      "text/plain": [
       "<Figure size 432x288 with 1 Axes>"
      ]
     },
     "metadata": {
      "needs_background": "light"
     },
     "output_type": "display_data"
    }
   ],
   "source": [
    "autos.price.plot(kind='hist', bins=100)"
   ]
  },
  {
   "cell_type": "code",
   "execution_count": 28,
   "metadata": {},
   "outputs": [
    {
     "data": {
      "text/plain": [
       "313102    0\n",
       "269828    0\n",
       "252031    0\n",
       "9987      0\n",
       "291179    0\n",
       "         ..\n",
       "30277     0\n",
       "310142    0\n",
       "37961     0\n",
       "68415     0\n",
       "69252     0\n",
       "Name: price, Length: 7500, dtype: int64"
      ]
     },
     "execution_count": 28,
     "metadata": {},
     "output_type": "execute_result"
    }
   ],
   "source": [
    "autos.price.sort_values().head(7500)"
   ]
  },
  {
   "cell_type": "code",
   "execution_count": 29,
   "metadata": {},
   "outputs": [],
   "source": [
    "autos = autos.query('price > 200').reset_index(drop=True)\n",
    "\n",
    "autos['price'] = autos['price'].astype('int')"
   ]
  },
  {
   "cell_type": "code",
   "execution_count": 30,
   "metadata": {},
   "outputs": [
    {
     "data": {
      "text/plain": [
       "26048"
      ]
     },
     "execution_count": 30,
     "metadata": {},
     "output_type": "execute_result"
    }
   ],
   "source": [
    "autos[autos['registration_month'] == 0].shape[0]"
   ]
  },
  {
   "cell_type": "markdown",
   "metadata": {},
   "source": [
    "Значений 0 в registration_month также очнь много, положим, что это значит \"Неизвестно\". Подскажи, как будет правильно с ними поступить?"
   ]
  },
  {
   "cell_type": "markdown",
   "metadata": {},
   "source": [
    "Также заметим, что number_of_pictures и registration_month совершенно неинформативены, удалим признаки"
   ]
  },
  {
   "cell_type": "code",
   "execution_count": 31,
   "metadata": {},
   "outputs": [],
   "source": [
    "autos = autos.drop(['number_of_pictures', 'registration_month'], axis=1)"
   ]
  },
  {
   "cell_type": "code",
   "execution_count": 32,
   "metadata": {},
   "outputs": [
    {
     "data": {
      "text/html": [
       "<div>\n",
       "<style scoped>\n",
       "    .dataframe tbody tr th:only-of-type {\n",
       "        vertical-align: middle;\n",
       "    }\n",
       "\n",
       "    .dataframe tbody tr th {\n",
       "        vertical-align: top;\n",
       "    }\n",
       "\n",
       "    .dataframe thead th {\n",
       "        text-align: right;\n",
       "    }\n",
       "</style>\n",
       "<table border=\"1\" class=\"dataframe\">\n",
       "  <thead>\n",
       "    <tr style=\"text-align: right;\">\n",
       "      <th></th>\n",
       "      <th>price</th>\n",
       "      <th>registration_year</th>\n",
       "      <th>power</th>\n",
       "      <th>kilometer</th>\n",
       "      <th>repaired</th>\n",
       "      <th>postal_code</th>\n",
       "    </tr>\n",
       "  </thead>\n",
       "  <tbody>\n",
       "    <tr>\n",
       "      <th>count</th>\n",
       "      <td>320933.000000</td>\n",
       "      <td>320933.000000</td>\n",
       "      <td>320933.000000</td>\n",
       "      <td>320933.000000</td>\n",
       "      <td>320933.000000</td>\n",
       "      <td>320933.000000</td>\n",
       "    </tr>\n",
       "    <tr>\n",
       "      <th>mean</th>\n",
       "      <td>4725.522869</td>\n",
       "      <td>2002.724213</td>\n",
       "      <td>110.178224</td>\n",
       "      <td>128309.771822</td>\n",
       "      <td>0.094166</td>\n",
       "      <td>50867.030676</td>\n",
       "    </tr>\n",
       "    <tr>\n",
       "      <th>std</th>\n",
       "      <td>4546.203550</td>\n",
       "      <td>6.703279</td>\n",
       "      <td>62.446456</td>\n",
       "      <td>37148.597663</td>\n",
       "      <td>0.292060</td>\n",
       "      <td>25727.223776</td>\n",
       "    </tr>\n",
       "    <tr>\n",
       "      <th>min</th>\n",
       "      <td>202.000000</td>\n",
       "      <td>1950.000000</td>\n",
       "      <td>0.000000</td>\n",
       "      <td>5000.000000</td>\n",
       "      <td>0.000000</td>\n",
       "      <td>1067.000000</td>\n",
       "    </tr>\n",
       "    <tr>\n",
       "      <th>25%</th>\n",
       "      <td>1300.000000</td>\n",
       "      <td>1999.000000</td>\n",
       "      <td>75.000000</td>\n",
       "      <td>125000.000000</td>\n",
       "      <td>0.000000</td>\n",
       "      <td>30627.000000</td>\n",
       "    </tr>\n",
       "    <tr>\n",
       "      <th>50%</th>\n",
       "      <td>2999.000000</td>\n",
       "      <td>2003.000000</td>\n",
       "      <td>105.000000</td>\n",
       "      <td>150000.000000</td>\n",
       "      <td>0.000000</td>\n",
       "      <td>49699.000000</td>\n",
       "    </tr>\n",
       "    <tr>\n",
       "      <th>75%</th>\n",
       "      <td>6800.000000</td>\n",
       "      <td>2007.000000</td>\n",
       "      <td>143.000000</td>\n",
       "      <td>150000.000000</td>\n",
       "      <td>0.000000</td>\n",
       "      <td>71384.000000</td>\n",
       "    </tr>\n",
       "    <tr>\n",
       "      <th>max</th>\n",
       "      <td>20000.000000</td>\n",
       "      <td>2016.000000</td>\n",
       "      <td>776.000000</td>\n",
       "      <td>150000.000000</td>\n",
       "      <td>1.000000</td>\n",
       "      <td>99998.000000</td>\n",
       "    </tr>\n",
       "  </tbody>\n",
       "</table>\n",
       "</div>"
      ],
      "text/plain": [
       "               price  registration_year          power      kilometer  \\\n",
       "count  320933.000000      320933.000000  320933.000000  320933.000000   \n",
       "mean     4725.522869        2002.724213     110.178224  128309.771822   \n",
       "std      4546.203550           6.703279      62.446456   37148.597663   \n",
       "min       202.000000        1950.000000       0.000000    5000.000000   \n",
       "25%      1300.000000        1999.000000      75.000000  125000.000000   \n",
       "50%      2999.000000        2003.000000     105.000000  150000.000000   \n",
       "75%      6800.000000        2007.000000     143.000000  150000.000000   \n",
       "max     20000.000000        2016.000000     776.000000  150000.000000   \n",
       "\n",
       "            repaired    postal_code  \n",
       "count  320933.000000  320933.000000  \n",
       "mean        0.094166   50867.030676  \n",
       "std         0.292060   25727.223776  \n",
       "min         0.000000    1067.000000  \n",
       "25%         0.000000   30627.000000  \n",
       "50%         0.000000   49699.000000  \n",
       "75%         0.000000   71384.000000  \n",
       "max         1.000000   99998.000000  "
      ]
     },
     "execution_count": 32,
     "metadata": {},
     "output_type": "execute_result"
    }
   ],
   "source": [
    "autos.describe()"
   ]
  },
  {
   "cell_type": "code",
   "execution_count": 33,
   "metadata": {},
   "outputs": [
    {
     "name": "stdout",
     "output_type": "stream",
     "text": [
      "<class 'pandas.core.frame.DataFrame'>\n",
      "RangeIndex: 320933 entries, 0 to 320932\n",
      "Data columns (total 14 columns):\n",
      " #   Column             Non-Null Count   Dtype         \n",
      "---  ------             --------------   -----         \n",
      " 0   date_crawled       320933 non-null  datetime64[ns]\n",
      " 1   price              320933 non-null  int32         \n",
      " 2   vehicle_type       320933 non-null  object        \n",
      " 3   registration_year  320933 non-null  int32         \n",
      " 4   gearbox            320933 non-null  object        \n",
      " 5   power              320933 non-null  int32         \n",
      " 6   model              320933 non-null  object        \n",
      " 7   kilometer          320933 non-null  int64         \n",
      " 8   fuel_type          320933 non-null  object        \n",
      " 9   brand              320933 non-null  object        \n",
      " 10  repaired           320933 non-null  int32         \n",
      " 11  date_created       320933 non-null  datetime64[ns]\n",
      " 12  postal_code        320933 non-null  int64         \n",
      " 13  last_seen          320933 non-null  datetime64[ns]\n",
      "dtypes: datetime64[ns](3), int32(4), int64(2), object(5)\n",
      "memory usage: 29.4+ MB\n"
     ]
    }
   ],
   "source": [
    "autos.info()"
   ]
  },
  {
   "cell_type": "markdown",
   "metadata": {},
   "source": [
    "**`Промежуточный вывод`:**\n",
    "\n",
    "- данные загружены и изучены\n",
    "- названия признаков переведены в snake_case\n",
    "- изменены Dtype столбцов\n",
    "- заполнены пропуски\n",
    "- удалены строки с аномалиями\n",
    "- удалены дубликаты"
   ]
  },
  {
   "cell_type": "markdown",
   "metadata": {},
   "source": [
    "## Обучение моделей"
   ]
  },
  {
   "cell_type": "markdown",
   "metadata": {},
   "source": [
    "Подготовим выборки, для этого воспользуемся методом train_test_split"
   ]
  },
  {
   "cell_type": "code",
   "execution_count": 34,
   "metadata": {},
   "outputs": [],
   "source": [
    "X = autos.drop(['price', 'date_crawled', 'date_created', 'last_seen'], axis=1)\n",
    "y = autos['price']\n",
    "\n",
    "X_train, X_test, y_train, y_test = train_test_split(\n",
    "    X, y, test_size=0.25, random_state=RANDOM_STATE\n",
    ")"
   ]
  },
  {
   "cell_type": "code",
   "execution_count": 35,
   "metadata": {},
   "outputs": [
    {
     "name": "stdout",
     "output_type": "stream",
     "text": [
      "<class 'pandas.core.frame.DataFrame'>\n",
      "Int64Index: 240699 entries, 197785 to 217570\n",
      "Data columns (total 10 columns):\n",
      " #   Column             Non-Null Count   Dtype \n",
      "---  ------             --------------   ----- \n",
      " 0   vehicle_type       240699 non-null  object\n",
      " 1   registration_year  240699 non-null  int32 \n",
      " 2   gearbox            240699 non-null  object\n",
      " 3   power              240699 non-null  int32 \n",
      " 4   model              240699 non-null  object\n",
      " 5   kilometer          240699 non-null  int64 \n",
      " 6   fuel_type          240699 non-null  object\n",
      " 7   brand              240699 non-null  object\n",
      " 8   repaired           240699 non-null  int32 \n",
      " 9   postal_code        240699 non-null  int64 \n",
      "dtypes: int32(3), int64(2), object(5)\n",
      "memory usage: 17.4+ MB\n"
     ]
    }
   ],
   "source": [
    "X_train.info()"
   ]
  },
  {
   "cell_type": "code",
   "execution_count": 36,
   "metadata": {},
   "outputs": [
    {
     "name": "stdout",
     "output_type": "stream",
     "text": [
      "<class 'pandas.core.frame.DataFrame'>\n",
      "Int64Index: 80234 entries, 53923 to 156850\n",
      "Data columns (total 10 columns):\n",
      " #   Column             Non-Null Count  Dtype \n",
      "---  ------             --------------  ----- \n",
      " 0   vehicle_type       80234 non-null  object\n",
      " 1   registration_year  80234 non-null  int32 \n",
      " 2   gearbox            80234 non-null  object\n",
      " 3   power              80234 non-null  int32 \n",
      " 4   model              80234 non-null  object\n",
      " 5   kilometer          80234 non-null  int64 \n",
      " 6   fuel_type          80234 non-null  object\n",
      " 7   brand              80234 non-null  object\n",
      " 8   repaired           80234 non-null  int32 \n",
      " 9   postal_code        80234 non-null  int64 \n",
      "dtypes: int32(3), int64(2), object(5)\n",
      "memory usage: 5.8+ MB\n"
     ]
    }
   ],
   "source": [
    "X_test.info()"
   ]
  },
  {
   "cell_type": "markdown",
   "metadata": {},
   "source": [
    "В качестве первой модели попробуем LinearRegression, Ridge и LGBMRegressor. Будем использовать OHE кодирование категориальных признаков и StandardScaler для численных признаков."
   ]
  },
  {
   "cell_type": "code",
   "execution_count": 37,
   "metadata": {},
   "outputs": [
    {
     "data": {
      "text/plain": [
       "['vehicle_type', 'gearbox', 'model', 'fuel_type', 'brand']"
      ]
     },
     "execution_count": 37,
     "metadata": {},
     "output_type": "execute_result"
    }
   ],
   "source": [
    "#категориальные признаки для OHE LinearRegression\n",
    "ohe_features_lr = ['vehicle_type', 'gearbox', 'model', 'fuel_type', 'brand']\n",
    "ohe_features_lr"
   ]
  },
  {
   "cell_type": "code",
   "execution_count": 38,
   "metadata": {},
   "outputs": [
    {
     "data": {
      "text/plain": [
       "['registration_year', 'power', 'kilometer', 'postal_code']"
      ]
     },
     "execution_count": 38,
     "metadata": {},
     "output_type": "execute_result"
    }
   ],
   "source": [
    "# численные признаки\n",
    "num_features = ['registration_year', 'power', 'kilometer', 'postal_code']\n",
    "num_features"
   ]
  },
  {
   "cell_type": "code",
   "execution_count": 39,
   "metadata": {},
   "outputs": [],
   "source": [
    "X_train_lr = X_train.copy()\n",
    "X_test_lr = X_test.copy()"
   ]
  },
  {
   "cell_type": "markdown",
   "metadata": {},
   "source": [
    "Приступим к кодировке:\n",
    "\n",
    "- с помощью drop='first' обойдем dummy-ловушку\n",
    "- handle_unknown='ignore' позволит игнорировать ранее невстречающиеся значения признака (при transform)"
   ]
  },
  {
   "cell_type": "code",
   "execution_count": 40,
   "metadata": {},
   "outputs": [
    {
     "data": {
      "text/html": [
       "<div>\n",
       "<style scoped>\n",
       "    .dataframe tbody tr th:only-of-type {\n",
       "        vertical-align: middle;\n",
       "    }\n",
       "\n",
       "    .dataframe tbody tr th {\n",
       "        vertical-align: top;\n",
       "    }\n",
       "\n",
       "    .dataframe thead th {\n",
       "        text-align: right;\n",
       "    }\n",
       "</style>\n",
       "<table border=\"1\" class=\"dataframe\">\n",
       "  <thead>\n",
       "    <tr style=\"text-align: right;\">\n",
       "      <th></th>\n",
       "      <th>registration_year</th>\n",
       "      <th>power</th>\n",
       "      <th>kilometer</th>\n",
       "      <th>repaired</th>\n",
       "      <th>postal_code</th>\n",
       "      <th>vehicle_type_convertible</th>\n",
       "      <th>vehicle_type_coupe</th>\n",
       "      <th>vehicle_type_other</th>\n",
       "      <th>vehicle_type_sedan</th>\n",
       "      <th>vehicle_type_small</th>\n",
       "      <th>...</th>\n",
       "      <th>brand_seat</th>\n",
       "      <th>brand_skoda</th>\n",
       "      <th>brand_smart</th>\n",
       "      <th>brand_sonstige_autos</th>\n",
       "      <th>brand_subaru</th>\n",
       "      <th>brand_suzuki</th>\n",
       "      <th>brand_toyota</th>\n",
       "      <th>brand_trabant</th>\n",
       "      <th>brand_volkswagen</th>\n",
       "      <th>brand_volvo</th>\n",
       "    </tr>\n",
       "  </thead>\n",
       "  <tbody>\n",
       "    <tr>\n",
       "      <th>197785</th>\n",
       "      <td>1.083582</td>\n",
       "      <td>1.503991</td>\n",
       "      <td>0.583952</td>\n",
       "      <td>0</td>\n",
       "      <td>-0.595619</td>\n",
       "      <td>0.0</td>\n",
       "      <td>0.0</td>\n",
       "      <td>0.0</td>\n",
       "      <td>1.0</td>\n",
       "      <td>0.0</td>\n",
       "      <td>...</td>\n",
       "      <td>0.0</td>\n",
       "      <td>0.0</td>\n",
       "      <td>0.0</td>\n",
       "      <td>0.0</td>\n",
       "      <td>0.0</td>\n",
       "      <td>0.0</td>\n",
       "      <td>0.0</td>\n",
       "      <td>0.0</td>\n",
       "      <td>0.0</td>\n",
       "      <td>0.0</td>\n",
       "    </tr>\n",
       "    <tr>\n",
       "      <th>59552</th>\n",
       "      <td>-0.556486</td>\n",
       "      <td>-0.804875</td>\n",
       "      <td>0.583952</td>\n",
       "      <td>0</td>\n",
       "      <td>-0.083499</td>\n",
       "      <td>0.0</td>\n",
       "      <td>0.0</td>\n",
       "      <td>0.0</td>\n",
       "      <td>0.0</td>\n",
       "      <td>1.0</td>\n",
       "      <td>...</td>\n",
       "      <td>0.0</td>\n",
       "      <td>0.0</td>\n",
       "      <td>0.0</td>\n",
       "      <td>0.0</td>\n",
       "      <td>0.0</td>\n",
       "      <td>0.0</td>\n",
       "      <td>0.0</td>\n",
       "      <td>0.0</td>\n",
       "      <td>0.0</td>\n",
       "      <td>0.0</td>\n",
       "    </tr>\n",
       "    <tr>\n",
       "      <th>227400</th>\n",
       "      <td>0.039902</td>\n",
       "      <td>0.237321</td>\n",
       "      <td>-1.030022</td>\n",
       "      <td>0</td>\n",
       "      <td>1.895434</td>\n",
       "      <td>0.0</td>\n",
       "      <td>0.0</td>\n",
       "      <td>0.0</td>\n",
       "      <td>0.0</td>\n",
       "      <td>0.0</td>\n",
       "      <td>...</td>\n",
       "      <td>0.0</td>\n",
       "      <td>0.0</td>\n",
       "      <td>0.0</td>\n",
       "      <td>0.0</td>\n",
       "      <td>0.0</td>\n",
       "      <td>0.0</td>\n",
       "      <td>0.0</td>\n",
       "      <td>0.0</td>\n",
       "      <td>0.0</td>\n",
       "      <td>0.0</td>\n",
       "    </tr>\n",
       "    <tr>\n",
       "      <th>263004</th>\n",
       "      <td>-0.258292</td>\n",
       "      <td>1.503991</td>\n",
       "      <td>0.583952</td>\n",
       "      <td>0</td>\n",
       "      <td>0.208364</td>\n",
       "      <td>0.0</td>\n",
       "      <td>0.0</td>\n",
       "      <td>0.0</td>\n",
       "      <td>1.0</td>\n",
       "      <td>0.0</td>\n",
       "      <td>...</td>\n",
       "      <td>1.0</td>\n",
       "      <td>0.0</td>\n",
       "      <td>0.0</td>\n",
       "      <td>0.0</td>\n",
       "      <td>0.0</td>\n",
       "      <td>0.0</td>\n",
       "      <td>0.0</td>\n",
       "      <td>0.0</td>\n",
       "      <td>0.0</td>\n",
       "      <td>0.0</td>\n",
       "    </tr>\n",
       "    <tr>\n",
       "      <th>11219</th>\n",
       "      <td>-0.854680</td>\n",
       "      <td>-0.147490</td>\n",
       "      <td>0.583952</td>\n",
       "      <td>1</td>\n",
       "      <td>-0.776479</td>\n",
       "      <td>0.0</td>\n",
       "      <td>0.0</td>\n",
       "      <td>0.0</td>\n",
       "      <td>0.0</td>\n",
       "      <td>1.0</td>\n",
       "      <td>...</td>\n",
       "      <td>0.0</td>\n",
       "      <td>0.0</td>\n",
       "      <td>0.0</td>\n",
       "      <td>0.0</td>\n",
       "      <td>0.0</td>\n",
       "      <td>0.0</td>\n",
       "      <td>0.0</td>\n",
       "      <td>0.0</td>\n",
       "      <td>1.0</td>\n",
       "      <td>0.0</td>\n",
       "    </tr>\n",
       "  </tbody>\n",
       "</table>\n",
       "<p>5 rows × 307 columns</p>\n",
       "</div>"
      ],
      "text/plain": [
       "        registration_year     power  kilometer  repaired  postal_code  \\\n",
       "197785           1.083582  1.503991   0.583952         0    -0.595619   \n",
       "59552           -0.556486 -0.804875   0.583952         0    -0.083499   \n",
       "227400           0.039902  0.237321  -1.030022         0     1.895434   \n",
       "263004          -0.258292  1.503991   0.583952         0     0.208364   \n",
       "11219           -0.854680 -0.147490   0.583952         1    -0.776479   \n",
       "\n",
       "        vehicle_type_convertible  vehicle_type_coupe  vehicle_type_other  \\\n",
       "197785                       0.0                 0.0                 0.0   \n",
       "59552                        0.0                 0.0                 0.0   \n",
       "227400                       0.0                 0.0                 0.0   \n",
       "263004                       0.0                 0.0                 0.0   \n",
       "11219                        0.0                 0.0                 0.0   \n",
       "\n",
       "        vehicle_type_sedan  vehicle_type_small  ...  brand_seat  brand_skoda  \\\n",
       "197785                 1.0                 0.0  ...         0.0          0.0   \n",
       "59552                  0.0                 1.0  ...         0.0          0.0   \n",
       "227400                 0.0                 0.0  ...         0.0          0.0   \n",
       "263004                 1.0                 0.0  ...         1.0          0.0   \n",
       "11219                  0.0                 1.0  ...         0.0          0.0   \n",
       "\n",
       "        brand_smart  brand_sonstige_autos  brand_subaru  brand_suzuki  \\\n",
       "197785          0.0                   0.0           0.0           0.0   \n",
       "59552           0.0                   0.0           0.0           0.0   \n",
       "227400          0.0                   0.0           0.0           0.0   \n",
       "263004          0.0                   0.0           0.0           0.0   \n",
       "11219           0.0                   0.0           0.0           0.0   \n",
       "\n",
       "        brand_toyota  brand_trabant  brand_volkswagen  brand_volvo  \n",
       "197785           0.0            0.0               0.0          0.0  \n",
       "59552            0.0            0.0               0.0          0.0  \n",
       "227400           0.0            0.0               0.0          0.0  \n",
       "263004           0.0            0.0               0.0          0.0  \n",
       "11219            0.0            0.0               1.0          0.0  \n",
       "\n",
       "[5 rows x 307 columns]"
      ]
     },
     "execution_count": 40,
     "metadata": {},
     "output_type": "execute_result"
    }
   ],
   "source": [
    "# создаем энкодер\n",
    "encoder_ohe = OneHotEncoder(drop='first', handle_unknown='ignore', sparse=False)\n",
    "\n",
    "# обучаем энкодер на заданных категориальных признаках тренировочной выборки\n",
    "encoder_ohe.fit(X_train_lr[ohe_features_lr])\n",
    "\n",
    "# добавляем закодированные признаки в X_train_ohe\n",
    "# encoder_ohe.get_feature_names_out() позволяет получить названия колонок\n",
    "X_train_lr[\n",
    "    encoder_ohe.get_feature_names_out()\n",
    "] = encoder_ohe.transform(X_train_lr[ohe_features_lr])\n",
    "\n",
    "# удаляем незакодированные категориальные признаки\n",
    "X_train_lr = X_train_lr.drop(ohe_features_lr, axis=1)\n",
    "\n",
    "# создаём скелер\n",
    "scaler = StandardScaler()\n",
    "\n",
    "# обучаем его на численных признаках тренировочной выборки, трансформируем её же\n",
    "X_train_lr[num_features] = scaler.fit_transform(X_train_lr[num_features])\n",
    "\n",
    "# смотрим на результат\n",
    "X_train_lr.head()"
   ]
  },
  {
   "cell_type": "markdown",
   "metadata": {},
   "source": [
    "Буду пробовать линейные модели, поэтому сразу закодируем и тестовую выборку.\n",
    "\n",
    "P.S. можно использовать вместе с пайплайном"
   ]
  },
  {
   "cell_type": "code",
   "execution_count": 41,
   "metadata": {},
   "outputs": [
    {
     "data": {
      "text/html": [
       "<div>\n",
       "<style scoped>\n",
       "    .dataframe tbody tr th:only-of-type {\n",
       "        vertical-align: middle;\n",
       "    }\n",
       "\n",
       "    .dataframe tbody tr th {\n",
       "        vertical-align: top;\n",
       "    }\n",
       "\n",
       "    .dataframe thead th {\n",
       "        text-align: right;\n",
       "    }\n",
       "</style>\n",
       "<table border=\"1\" class=\"dataframe\">\n",
       "  <thead>\n",
       "    <tr style=\"text-align: right;\">\n",
       "      <th></th>\n",
       "      <th>registration_year</th>\n",
       "      <th>power</th>\n",
       "      <th>kilometer</th>\n",
       "      <th>repaired</th>\n",
       "      <th>postal_code</th>\n",
       "      <th>vehicle_type_convertible</th>\n",
       "      <th>vehicle_type_coupe</th>\n",
       "      <th>vehicle_type_other</th>\n",
       "      <th>vehicle_type_sedan</th>\n",
       "      <th>vehicle_type_small</th>\n",
       "      <th>...</th>\n",
       "      <th>brand_seat</th>\n",
       "      <th>brand_skoda</th>\n",
       "      <th>brand_smart</th>\n",
       "      <th>brand_sonstige_autos</th>\n",
       "      <th>brand_subaru</th>\n",
       "      <th>brand_suzuki</th>\n",
       "      <th>brand_toyota</th>\n",
       "      <th>brand_trabant</th>\n",
       "      <th>brand_volkswagen</th>\n",
       "      <th>brand_volvo</th>\n",
       "    </tr>\n",
       "  </thead>\n",
       "  <tbody>\n",
       "    <tr>\n",
       "      <th>53923</th>\n",
       "      <td>-0.258292</td>\n",
       "      <td>1.936903</td>\n",
       "      <td>0.583952</td>\n",
       "      <td>0</td>\n",
       "      <td>-0.189295</td>\n",
       "      <td>0.0</td>\n",
       "      <td>0.0</td>\n",
       "      <td>0.0</td>\n",
       "      <td>1.0</td>\n",
       "      <td>0.0</td>\n",
       "      <td>...</td>\n",
       "      <td>0.0</td>\n",
       "      <td>0.0</td>\n",
       "      <td>0.0</td>\n",
       "      <td>0.0</td>\n",
       "      <td>0.0</td>\n",
       "      <td>0.0</td>\n",
       "      <td>0.0</td>\n",
       "      <td>0.0</td>\n",
       "      <td>0.0</td>\n",
       "      <td>0.0</td>\n",
       "    </tr>\n",
       "    <tr>\n",
       "      <th>84869</th>\n",
       "      <td>-0.109195</td>\n",
       "      <td>-0.083355</td>\n",
       "      <td>0.583952</td>\n",
       "      <td>1</td>\n",
       "      <td>0.339959</td>\n",
       "      <td>0.0</td>\n",
       "      <td>0.0</td>\n",
       "      <td>1.0</td>\n",
       "      <td>0.0</td>\n",
       "      <td>0.0</td>\n",
       "      <td>...</td>\n",
       "      <td>0.0</td>\n",
       "      <td>0.0</td>\n",
       "      <td>0.0</td>\n",
       "      <td>0.0</td>\n",
       "      <td>0.0</td>\n",
       "      <td>0.0</td>\n",
       "      <td>0.0</td>\n",
       "      <td>0.0</td>\n",
       "      <td>1.0</td>\n",
       "      <td>0.0</td>\n",
       "    </tr>\n",
       "    <tr>\n",
       "      <th>235582</th>\n",
       "      <td>1.232679</td>\n",
       "      <td>0.413693</td>\n",
       "      <td>-0.761026</td>\n",
       "      <td>0</td>\n",
       "      <td>-1.148845</td>\n",
       "      <td>0.0</td>\n",
       "      <td>0.0</td>\n",
       "      <td>0.0</td>\n",
       "      <td>0.0</td>\n",
       "      <td>0.0</td>\n",
       "      <td>...</td>\n",
       "      <td>0.0</td>\n",
       "      <td>0.0</td>\n",
       "      <td>0.0</td>\n",
       "      <td>0.0</td>\n",
       "      <td>0.0</td>\n",
       "      <td>0.0</td>\n",
       "      <td>0.0</td>\n",
       "      <td>0.0</td>\n",
       "      <td>0.0</td>\n",
       "      <td>0.0</td>\n",
       "    </tr>\n",
       "    <tr>\n",
       "      <th>270676</th>\n",
       "      <td>0.785388</td>\n",
       "      <td>-1.766903</td>\n",
       "      <td>0.583952</td>\n",
       "      <td>0</td>\n",
       "      <td>-1.447157</td>\n",
       "      <td>0.0</td>\n",
       "      <td>0.0</td>\n",
       "      <td>0.0</td>\n",
       "      <td>1.0</td>\n",
       "      <td>0.0</td>\n",
       "      <td>...</td>\n",
       "      <td>0.0</td>\n",
       "      <td>0.0</td>\n",
       "      <td>0.0</td>\n",
       "      <td>0.0</td>\n",
       "      <td>0.0</td>\n",
       "      <td>0.0</td>\n",
       "      <td>0.0</td>\n",
       "      <td>0.0</td>\n",
       "      <td>1.0</td>\n",
       "      <td>0.0</td>\n",
       "    </tr>\n",
       "    <tr>\n",
       "      <th>87444</th>\n",
       "      <td>0.039902</td>\n",
       "      <td>-0.323862</td>\n",
       "      <td>0.583952</td>\n",
       "      <td>0</td>\n",
       "      <td>-0.052183</td>\n",
       "      <td>0.0</td>\n",
       "      <td>0.0</td>\n",
       "      <td>0.0</td>\n",
       "      <td>0.0</td>\n",
       "      <td>0.0</td>\n",
       "      <td>...</td>\n",
       "      <td>0.0</td>\n",
       "      <td>0.0</td>\n",
       "      <td>0.0</td>\n",
       "      <td>0.0</td>\n",
       "      <td>0.0</td>\n",
       "      <td>0.0</td>\n",
       "      <td>0.0</td>\n",
       "      <td>0.0</td>\n",
       "      <td>0.0</td>\n",
       "      <td>0.0</td>\n",
       "    </tr>\n",
       "  </tbody>\n",
       "</table>\n",
       "<p>5 rows × 307 columns</p>\n",
       "</div>"
      ],
      "text/plain": [
       "        registration_year     power  kilometer  repaired  postal_code  \\\n",
       "53923           -0.258292  1.936903   0.583952         0    -0.189295   \n",
       "84869           -0.109195 -0.083355   0.583952         1     0.339959   \n",
       "235582           1.232679  0.413693  -0.761026         0    -1.148845   \n",
       "270676           0.785388 -1.766903   0.583952         0    -1.447157   \n",
       "87444            0.039902 -0.323862   0.583952         0    -0.052183   \n",
       "\n",
       "        vehicle_type_convertible  vehicle_type_coupe  vehicle_type_other  \\\n",
       "53923                        0.0                 0.0                 0.0   \n",
       "84869                        0.0                 0.0                 1.0   \n",
       "235582                       0.0                 0.0                 0.0   \n",
       "270676                       0.0                 0.0                 0.0   \n",
       "87444                        0.0                 0.0                 0.0   \n",
       "\n",
       "        vehicle_type_sedan  vehicle_type_small  ...  brand_seat  brand_skoda  \\\n",
       "53923                  1.0                 0.0  ...         0.0          0.0   \n",
       "84869                  0.0                 0.0  ...         0.0          0.0   \n",
       "235582                 0.0                 0.0  ...         0.0          0.0   \n",
       "270676                 1.0                 0.0  ...         0.0          0.0   \n",
       "87444                  0.0                 0.0  ...         0.0          0.0   \n",
       "\n",
       "        brand_smart  brand_sonstige_autos  brand_subaru  brand_suzuki  \\\n",
       "53923           0.0                   0.0           0.0           0.0   \n",
       "84869           0.0                   0.0           0.0           0.0   \n",
       "235582          0.0                   0.0           0.0           0.0   \n",
       "270676          0.0                   0.0           0.0           0.0   \n",
       "87444           0.0                   0.0           0.0           0.0   \n",
       "\n",
       "        brand_toyota  brand_trabant  brand_volkswagen  brand_volvo  \n",
       "53923            0.0            0.0               0.0          0.0  \n",
       "84869            0.0            0.0               1.0          0.0  \n",
       "235582           0.0            0.0               0.0          0.0  \n",
       "270676           0.0            0.0               1.0          0.0  \n",
       "87444            0.0            0.0               0.0          0.0  \n",
       "\n",
       "[5 rows x 307 columns]"
      ]
     },
     "execution_count": 41,
     "metadata": {},
     "output_type": "execute_result"
    }
   ],
   "source": [
    "# энкодером, который обучен на ТРЕНИРОВОЧНОЙ ВЫБОРКЕ, кодируем тестовую\n",
    "X_test_lr[\n",
    "    encoder_ohe.get_feature_names_out()\n",
    "] = encoder_ohe.transform(X_test_lr[ohe_features_lr])\n",
    "\n",
    "X_test_lr = X_test_lr.drop(ohe_features_lr, axis=1)\n",
    "\n",
    "# скелером, который обучен на ТРЕНИРОВОЧНОЙ ВЫБОРКЕ, масштабируем тестовую\n",
    "X_test_lr[num_features] = scaler.transform(\n",
    "    X_test_lr[num_features]\n",
    ")\n",
    "\n",
    "# смотрим на результат\n",
    "X_test_lr.head()"
   ]
  },
  {
   "cell_type": "code",
   "execution_count": 42,
   "metadata": {},
   "outputs": [
    {
     "name": "stdout",
     "output_type": "stream",
     "text": [
      "LR CROSS VAL RMSE: 2723.181\n",
      "LR FIT TIME: 3.472\n",
      "LR PREDICT TIME: 0.068\n",
      "--------------------------\n",
      "Wall time: 18 s\n"
     ]
    }
   ],
   "source": [
    "%%time\n",
    "\n",
    "# инициализируем модель\n",
    "lr_model = LinearRegression()\n",
    "\n",
    "# используем cross_validate, получим оценку на кросс-валидации, время фита и время предикта\n",
    "lr_cv_summary = cross_validate(\n",
    "    lr_model, X_train_lr, y_train, scoring=\"neg_root_mean_squared_error\", cv=5\n",
    ")\n",
    "\n",
    "# вытаскиваем информацию о времени\n",
    "lr_cross_val_rmse = lr_cv_summary['test_score'].sum() / -5\n",
    "lr_fit_time = lr_cv_summary['fit_time'].sum() / 5\n",
    "lr_predict_time = lr_cv_summary['score_time'].sum() / 5\n",
    "\n",
    "# выводим информацию на экран\n",
    "print(f'LR CROSS VAL RMSE: {lr_cross_val_rmse:.3f}')\n",
    "print(f'LR FIT TIME: {lr_fit_time:.3f}')\n",
    "print(f'LR PREDICT TIME: {lr_predict_time:.3f}')\n",
    "print('--------------------------')"
   ]
  },
  {
   "cell_type": "markdown",
   "metadata": {},
   "source": [
    "Попробуем теперь RidgeRegression\n",
    "\n",
    "\n",
    "Т.к. все параметры для LR мы преобразовали, просто обучим Ridge и посмотрим на результаты:"
   ]
  },
  {
   "cell_type": "code",
   "execution_count": 43,
   "metadata": {
    "scrolled": false
   },
   "outputs": [
    {
     "name": "stdout",
     "output_type": "stream",
     "text": [
      "RIDGE CROSS VAL RMSE: 2723.140\n",
      "BEST PARAMS: {'alpha': 0.2}\n",
      "LR FIT TIME: 1.234\n",
      "LR PREDICT TIME: 0.067\n",
      "--------------------------\n",
      "Wall time: 2min 23s\n"
     ]
    }
   ],
   "source": [
    "%%time\n",
    "\n",
    "# создаем модель\n",
    "model_ridge = Ridge(random_state=RANDOM_STATE)\n",
    "\n",
    "# словарь с гиперпараметрами и значениями, которые хотим перебрать\n",
    "param_grid_ridge = {\n",
    "    'alpha': np.arange(0, 0.21, 0.01),\n",
    "}\n",
    "\n",
    "# инициализируем gs\n",
    "gs_ridge = GridSearchCV(\n",
    "    model_ridge, \n",
    "    param_grid=param_grid_ridge, \n",
    "    scoring='neg_root_mean_squared_error'\n",
    ")\n",
    "\n",
    "# фиттим gs\n",
    "gs_ridge.fit(X_train_lr, y_train)\n",
    "\n",
    "# вытаскиваем информацию о времени из cv_results_ (21 т.к. столько раз gs перебирал параметр alpha)\n",
    "ridge_fit_time = gs_ridge.cv_results_['mean_fit_time'].sum() / 21\n",
    "ridge_predict_time = gs_ridge.cv_results_['mean_score_time'].sum() / 21\n",
    "\n",
    "# выводим нужные значения на экран\n",
    "print(f'RIDGE CROSS VAL RMSE: {gs_ridge.best_score_ * -1:.3f}')\n",
    "print(f'BEST PARAMS: {gs_ridge.best_params_}')\n",
    "print(f'LR FIT TIME: {ridge_fit_time:.3f}')\n",
    "print(f'LR PREDICT TIME: {ridge_predict_time:.3f}')\n",
    "print('--------------------------')"
   ]
  },
  {
   "cell_type": "markdown",
   "metadata": {},
   "source": [
    "Время пробовать LGBMRegressor, для начала без подбора гиперпараметров"
   ]
  },
  {
   "cell_type": "code",
   "execution_count": 44,
   "metadata": {
    "scrolled": true
   },
   "outputs": [
    {
     "name": "stdout",
     "output_type": "stream",
     "text": [
      "LGBM REGRESSOR CROSS VAL RMSE: 1712.980\n",
      "LGBM REGRESSOR FIT TIME: 1.756\n",
      "LGBM REGRESSOR PREDICT TIME: 0.216\n",
      "--------------------------\n",
      "Wall time: 10.2 s\n"
     ]
    }
   ],
   "source": [
    "%%time\n",
    "\n",
    "# инициализируем модель\n",
    "lgbm_model = lgb.LGBMRegressor(random_state=RANDOM_STATE, n_jobs=-1)\n",
    "\n",
    "# используем cross_validate, получим оценку на кросс-валидации, время фита и время предикта\n",
    "lgbm_cv_summary = cross_validate(\n",
    "    lgbm_model, X_train_lr, y_train, scoring=\"neg_root_mean_squared_error\", cv=5\n",
    ")\n",
    "\n",
    "# вытаскиваем информацию о времени\n",
    "lgbm_cross_val_rmse = lgbm_cv_summary['test_score'].sum() / -5\n",
    "lgbm_fit_time = lgbm_cv_summary['fit_time'].sum() / 5\n",
    "lgbm_predict_time = lgbm_cv_summary['score_time'].sum() / 5\n",
    "\n",
    "# выводим информацию на экран\n",
    "print(f'LGBM REGRESSOR CROSS VAL RMSE: {lgbm_cross_val_rmse:.3f}')\n",
    "print(f'LGBM REGRESSOR FIT TIME: {lgbm_fit_time:.3f}')\n",
    "print(f'LGBM REGRESSOR PREDICT TIME: {lgbm_predict_time:.3f}')\n",
    "print('--------------------------')"
   ]
  },
  {
   "cell_type": "markdown",
   "metadata": {},
   "source": [
    "Попробуем теперь обучить lgbm с подбором параметров в GridSearchCV"
   ]
  },
  {
   "cell_type": "code",
   "execution_count": 45,
   "metadata": {},
   "outputs": [
    {
     "name": "stdout",
     "output_type": "stream",
     "text": [
      "LGBM REGRESSOR CROSS VAL RMSE: 1633.194\n",
      "LGBM REGRESSOR BEST PARAMS: {'learning_rate': 0.4, 'max_depth': 9, 'n_estimators': 150}\n",
      "LGBM REGRESSOR FIT TIME: 1.736\n",
      "LGBM REGRESSOR PREDICT TIME: 0.231\n",
      "--------------------------\n",
      "Wall time: 6min 47s\n"
     ]
    }
   ],
   "source": [
    "%%time\n",
    "\n",
    "# словарь с гиперпараметрами и значениями, которые хотим перебрать\n",
    "param_grid_lgbm = {\n",
    "    'max_depth': np.arange(5, 10, 1),\n",
    "    'learning_rate': np.arange(0.1, 0.5, 0.1),\n",
    "    'n_estimators': np.arange(130, 160, 20)\n",
    "}\n",
    "\n",
    "# инициализируем gs\n",
    "gs_lgbm = GridSearchCV(\n",
    "    lgbm_model, \n",
    "    param_grid=param_grid_lgbm, \n",
    "    scoring='neg_root_mean_squared_error'\n",
    ")\n",
    "\n",
    "# фиттим gs\n",
    "gs_lgbm.fit(X_train_lr, y_train)\n",
    "\n",
    "# вытаскиваем информацию о времени из cv_results_\n",
    "gs_lgbm_fit_time = gs_lgbm.cv_results_['mean_fit_time'].sum() / len(gs_lgbm.cv_results_['mean_fit_time'])\n",
    "gs_lgbm_predict_time = gs_lgbm.cv_results_['mean_score_time'].sum() / len(gs_lgbm.cv_results_['mean_score_time'])\n",
    "\n",
    "# выводим нужные значения на экран\n",
    "print(f'LGBM REGRESSOR CROSS VAL RMSE: {gs_lgbm.best_score_ * -1:.3f}')\n",
    "print(f'LGBM REGRESSOR BEST PARAMS: {gs_lgbm.best_params_}')\n",
    "print(f'LGBM REGRESSOR FIT TIME: {gs_lgbm_fit_time:.3f}')\n",
    "print(f'LGBM REGRESSOR PREDICT TIME: {gs_lgbm_predict_time:.3f}')\n",
    "print('--------------------------')"
   ]
  },
  {
   "cell_type": "markdown",
   "metadata": {},
   "source": [
    "**`Промежуточный вывод`:**\n",
    "\n",
    "- подготовлены выборки, для этого воспользовались методом train_test_split\n",
    "- проведено OHE кодирование категориальных признаков\n",
    "- проведено кодирование численных признаков с помощью StandardScaler\n",
    "- обучены модели LinearRegression, Ridge и LGBMRegressor"
   ]
  },
  {
   "cell_type": "markdown",
   "metadata": {},
   "source": [
    "## Анализ моделей"
   ]
  },
  {
   "cell_type": "markdown",
   "metadata": {},
   "source": [
    "**`Вывод из обучения моделей`:**\n",
    "\n",
    "1. LinearRegression без подбора гиперпараметров:\n",
    "\n",
    "- LR CROSS VAL RMSE: 2723.181\n",
    "- LR FIT TIME: 3.472\n",
    "- LR PREDICT TIME: 0.068\n",
    "- Wall time: 18 s\n",
    "\n",
    "2. Ridge с подбором гиперпараметров в GridSearchCV:\n",
    "\n",
    "- RIDGE CROSS VAL RMSE: 2723.140\n",
    "- BEST PARAMS: {'alpha': 0.2}\n",
    "- LR FIT TIME: 1.234\n",
    "- LR PREDICT TIME: 0.067\n",
    "- Wall time: 2min 23s\n",
    "\n",
    "3. LGBMRegressor без подбора гиперпараметров:\n",
    "\n",
    "- LGBM REGRESSOR CROSS VAL RMSE: 1712.980\n",
    "- LGBM REGRESSOR FIT TIME: 1.756\n",
    "- LGBM REGRESSOR PREDICT TIME: 0.216\n",
    "- Wall time: 10.2 s\n",
    "\n",
    "4. LGBMRegressor с подбором гиперпараметров в GridSearchCV:\n",
    "\n",
    "- LGBM REGRESSOR CROSS VAL RMSE: 1633.194\n",
    "- LGBM REGRESSOR BEST PARAMS: {'learning_rate': 0.4, 'max_depth': 9, 'n_estimators': 150}\n",
    "- LGBM REGRESSOR FIT TIME: 1.736\n",
    "- LGBM REGRESSOR PREDICT TIME: 0.231\n",
    "- Wall time: 6min 47s\n",
    "\n",
    "\n",
    "---\n",
    "\n",
    "1. LR и Ridge показали себя не очень хорошо, причем Ridge не помог даже подбор гиперпараметров, RMSE ~2723\n",
    "2. LGBMRegressor без подбора гиперпараметров оказался пушкой, без подбора гиперпараметров RMSE ~1712\n",
    "3. LGBMRegressor с подбором через GridSearchCV тоже пушка, но очень долго работает."
   ]
  },
  {
   "cell_type": "code",
   "execution_count": 46,
   "metadata": {},
   "outputs": [],
   "source": [
    "# соберем данные для таблицы\n",
    "lr_summary = [lr_fit_time, lr_predict_time, 17, lr_cross_val_rmse]\n",
    "ridge_summary = [ridge_fit_time, ridge_predict_time, 139, gs_ridge.best_score_ * -1]\n",
    "lgbm_summary = [lgbm_fit_time, lgbm_predict_time, 9, lgbm_cross_val_rmse]\n",
    "gs_lgbm_summary = [gs_lgbm_fit_time, gs_lgbm_predict_time, 384, gs_lgbm.best_score_ * -1]"
   ]
  },
  {
   "cell_type": "code",
   "execution_count": 47,
   "metadata": {},
   "outputs": [
    {
     "data": {
      "text/html": [
       "<div>\n",
       "<style scoped>\n",
       "    .dataframe tbody tr th:only-of-type {\n",
       "        vertical-align: middle;\n",
       "    }\n",
       "\n",
       "    .dataframe tbody tr th {\n",
       "        vertical-align: top;\n",
       "    }\n",
       "\n",
       "    .dataframe thead th {\n",
       "        text-align: right;\n",
       "    }\n",
       "</style>\n",
       "<table border=\"1\" class=\"dataframe\">\n",
       "  <thead>\n",
       "    <tr style=\"text-align: right;\">\n",
       "      <th></th>\n",
       "      <th>fit_time</th>\n",
       "      <th>predict_time</th>\n",
       "      <th>wall_time</th>\n",
       "      <th>rmse</th>\n",
       "    </tr>\n",
       "  </thead>\n",
       "  <tbody>\n",
       "    <tr>\n",
       "      <th>linear_regression</th>\n",
       "      <td>3.472427</td>\n",
       "      <td>0.068053</td>\n",
       "      <td>17</td>\n",
       "      <td>2723.181207</td>\n",
       "    </tr>\n",
       "    <tr>\n",
       "      <th>ridge</th>\n",
       "      <td>1.233732</td>\n",
       "      <td>0.067357</td>\n",
       "      <td>139</td>\n",
       "      <td>2723.140405</td>\n",
       "    </tr>\n",
       "    <tr>\n",
       "      <th>lgbm_regressor</th>\n",
       "      <td>1.756403</td>\n",
       "      <td>0.216476</td>\n",
       "      <td>9</td>\n",
       "      <td>1712.979869</td>\n",
       "    </tr>\n",
       "    <tr>\n",
       "      <th>gs_lgbm_regressor</th>\n",
       "      <td>1.736477</td>\n",
       "      <td>0.231317</td>\n",
       "      <td>384</td>\n",
       "      <td>1633.193918</td>\n",
       "    </tr>\n",
       "  </tbody>\n",
       "</table>\n",
       "</div>"
      ],
      "text/plain": [
       "                   fit_time  predict_time  wall_time         rmse\n",
       "linear_regression  3.472427      0.068053         17  2723.181207\n",
       "ridge              1.233732      0.067357        139  2723.140405\n",
       "lgbm_regressor     1.756403      0.216476          9  1712.979869\n",
       "gs_lgbm_regressor  1.736477      0.231317        384  1633.193918"
      ]
     },
     "execution_count": 47,
     "metadata": {},
     "output_type": "execute_result"
    }
   ],
   "source": [
    "# создадим удобную таблицу с результатами и выведем на экран\n",
    "summary = pd.DataFrame(\n",
    "    [lr_summary, ridge_summary, lgbm_summary, gs_lgbm_summary], \n",
    "    index=['linear_regression', 'ridge', 'lgbm_regressor', 'gs_lgbm_regressor'], \n",
    "    columns=['fit_time', 'predict_time', 'wall_time', 'rmse']\n",
    ")\n",
    "summary"
   ]
  },
  {
   "cell_type": "markdown",
   "metadata": {},
   "source": [
    "## Тестирование лучшей модели"
   ]
  },
  {
   "cell_type": "markdown",
   "metadata": {},
   "source": [
    "Проведем итоговый тест лучшей можели:"
   ]
  },
  {
   "cell_type": "code",
   "execution_count": 48,
   "metadata": {},
   "outputs": [
    {
     "data": {
      "text/plain": [
       "{'learning_rate': 0.4, 'max_depth': 9, 'n_estimators': 150}"
      ]
     },
     "execution_count": 48,
     "metadata": {},
     "output_type": "execute_result"
    }
   ],
   "source": [
    "gs_lgbm.best_params_"
   ]
  },
  {
   "cell_type": "code",
   "execution_count": 49,
   "metadata": {},
   "outputs": [
    {
     "name": "stdout",
     "output_type": "stream",
     "text": [
      "Wall time: 1.89 s\n"
     ]
    },
    {
     "data": {
      "text/html": [
       "<style>#sk-container-id-1 {color: black;background-color: white;}#sk-container-id-1 pre{padding: 0;}#sk-container-id-1 div.sk-toggleable {background-color: white;}#sk-container-id-1 label.sk-toggleable__label {cursor: pointer;display: block;width: 100%;margin-bottom: 0;padding: 0.3em;box-sizing: border-box;text-align: center;}#sk-container-id-1 label.sk-toggleable__label-arrow:before {content: \"▸\";float: left;margin-right: 0.25em;color: #696969;}#sk-container-id-1 label.sk-toggleable__label-arrow:hover:before {color: black;}#sk-container-id-1 div.sk-estimator:hover label.sk-toggleable__label-arrow:before {color: black;}#sk-container-id-1 div.sk-toggleable__content {max-height: 0;max-width: 0;overflow: hidden;text-align: left;background-color: #f0f8ff;}#sk-container-id-1 div.sk-toggleable__content pre {margin: 0.2em;color: black;border-radius: 0.25em;background-color: #f0f8ff;}#sk-container-id-1 input.sk-toggleable__control:checked~div.sk-toggleable__content {max-height: 200px;max-width: 100%;overflow: auto;}#sk-container-id-1 input.sk-toggleable__control:checked~label.sk-toggleable__label-arrow:before {content: \"▾\";}#sk-container-id-1 div.sk-estimator input.sk-toggleable__control:checked~label.sk-toggleable__label {background-color: #d4ebff;}#sk-container-id-1 div.sk-label input.sk-toggleable__control:checked~label.sk-toggleable__label {background-color: #d4ebff;}#sk-container-id-1 input.sk-hidden--visually {border: 0;clip: rect(1px 1px 1px 1px);clip: rect(1px, 1px, 1px, 1px);height: 1px;margin: -1px;overflow: hidden;padding: 0;position: absolute;width: 1px;}#sk-container-id-1 div.sk-estimator {font-family: monospace;background-color: #f0f8ff;border: 1px dotted black;border-radius: 0.25em;box-sizing: border-box;margin-bottom: 0.5em;}#sk-container-id-1 div.sk-estimator:hover {background-color: #d4ebff;}#sk-container-id-1 div.sk-parallel-item::after {content: \"\";width: 100%;border-bottom: 1px solid gray;flex-grow: 1;}#sk-container-id-1 div.sk-label:hover label.sk-toggleable__label {background-color: #d4ebff;}#sk-container-id-1 div.sk-serial::before {content: \"\";position: absolute;border-left: 1px solid gray;box-sizing: border-box;top: 0;bottom: 0;left: 50%;z-index: 0;}#sk-container-id-1 div.sk-serial {display: flex;flex-direction: column;align-items: center;background-color: white;padding-right: 0.2em;padding-left: 0.2em;position: relative;}#sk-container-id-1 div.sk-item {position: relative;z-index: 1;}#sk-container-id-1 div.sk-parallel {display: flex;align-items: stretch;justify-content: center;background-color: white;position: relative;}#sk-container-id-1 div.sk-item::before, #sk-container-id-1 div.sk-parallel-item::before {content: \"\";position: absolute;border-left: 1px solid gray;box-sizing: border-box;top: 0;bottom: 0;left: 50%;z-index: -1;}#sk-container-id-1 div.sk-parallel-item {display: flex;flex-direction: column;z-index: 1;position: relative;background-color: white;}#sk-container-id-1 div.sk-parallel-item:first-child::after {align-self: flex-end;width: 50%;}#sk-container-id-1 div.sk-parallel-item:last-child::after {align-self: flex-start;width: 50%;}#sk-container-id-1 div.sk-parallel-item:only-child::after {width: 0;}#sk-container-id-1 div.sk-dashed-wrapped {border: 1px dashed gray;margin: 0 0.4em 0.5em 0.4em;box-sizing: border-box;padding-bottom: 0.4em;background-color: white;}#sk-container-id-1 div.sk-label label {font-family: monospace;font-weight: bold;display: inline-block;line-height: 1.2em;}#sk-container-id-1 div.sk-label-container {text-align: center;}#sk-container-id-1 div.sk-container {/* jupyter's `normalize.less` sets `[hidden] { display: none; }` but bootstrap.min.css set `[hidden] { display: none !important; }` so we also need the `!important` here to be able to override the default hidden behavior on the sphinx rendered scikit-learn.org. See: https://github.com/scikit-learn/scikit-learn/issues/21755 */display: inline-block !important;position: relative;}#sk-container-id-1 div.sk-text-repr-fallback {display: none;}</style><div id=\"sk-container-id-1\" class=\"sk-top-container\"><div class=\"sk-text-repr-fallback\"><pre>LGBMRegressor(learning_rate=0.4, max_depth=9, n_estimators=150,\n",
       "              random_state=12345)</pre><b>In a Jupyter environment, please rerun this cell to show the HTML representation or trust the notebook. <br />On GitHub, the HTML representation is unable to render, please try loading this page with nbviewer.org.</b></div><div class=\"sk-container\" hidden><div class=\"sk-item\"><div class=\"sk-estimator sk-toggleable\"><input class=\"sk-toggleable__control sk-hidden--visually\" id=\"sk-estimator-id-1\" type=\"checkbox\" checked><label for=\"sk-estimator-id-1\" class=\"sk-toggleable__label sk-toggleable__label-arrow\">LGBMRegressor</label><div class=\"sk-toggleable__content\"><pre>LGBMRegressor(learning_rate=0.4, max_depth=9, n_estimators=150,\n",
       "              random_state=12345)</pre></div></div></div></div></div>"
      ],
      "text/plain": [
       "LGBMRegressor(learning_rate=0.4, max_depth=9, n_estimators=150,\n",
       "              random_state=12345)"
      ]
     },
     "execution_count": 49,
     "metadata": {},
     "output_type": "execute_result"
    }
   ],
   "source": [
    "%%time\n",
    "\n",
    "# посмотрим на время фита лучшей модели\n",
    "best_lgbm_model = gs_lgbm.best_estimator_\n",
    "best_lgbm_model.fit(X_train_lr, y_train)"
   ]
  },
  {
   "cell_type": "code",
   "execution_count": 50,
   "metadata": {},
   "outputs": [
    {
     "name": "stdout",
     "output_type": "stream",
     "text": [
      "BEST LGBM REGRESSOR RMSE: 1632.18\n",
      "------------------------\n",
      "Wall time: 535 ms\n"
     ]
    }
   ],
   "source": [
    "%%time\n",
    "\n",
    "# посмотрим на время предикта лучшей модели\n",
    "best_lgbm_pred = best_lgbm_model.predict(X_test_lr)\n",
    "\n",
    "print(f'BEST LGBM REGRESSOR RMSE: {mean_squared_error(y_test, best_lgbm_pred) ** 0.5:.2f}')\n",
    "print('------------------------')"
   ]
  },
  {
   "cell_type": "markdown",
   "metadata": {},
   "source": [
    "**`Итоги теста лучшей модели`**:\n",
    "\n",
    "- LGBM REGRESSOR CROSS VAL RMSE: 1632.18\n",
    "- LGBM REGRESSOR FIT TIME: 1.89 s\n",
    "- LGBM REGRESSOR PREDICT TIME: 535 ms"
   ]
  },
  {
   "cell_type": "markdown",
   "metadata": {},
   "source": [
    "## Общий вывод"
   ]
  },
  {
   "cell_type": "markdown",
   "metadata": {},
   "source": [
    "**Подготовка данных:**\n",
    "\n",
    "- данные загружены и изучены\n",
    "- названия признаков переведены в snake_case\n",
    "- изменены Dtype столбцов\n",
    "- заполнены пропуски\n",
    "- удалены строки с аномалиями\n",
    "- удалены дубликаты\n",
    "\n",
    "\n",
    "**Обучение моделей:**\n",
    "\n",
    "- подготовлены выборки, для этого воспользовались методом train_test_split\n",
    "- проведено OHE кодирование категориальных признаков\n",
    "- проведено кодирование численных признаков с помощью StandardScaler\n",
    "- обучены модели LinearRegression, Ridge и LGBMRegressor\n",
    "\n",
    "\n",
    "**Анализ моделей:**\n",
    "\n",
    "- LR и Ridge показали себя не очень хорошо, причем Ridge не помог даже подбор гиперпараметров, RMSE ~2723\n",
    "- LGBMRegressor без подбора гиперпараметров оказался пушкой, без подбора гиперпараметров RMSE ~1712\n",
    "\n",
    "**`Итоги теста лучшей модели`**:\n",
    "\n",
    "- LGBM REGRESSOR CROSS VAL RMSE: 1632.18\n",
    "- LGBM REGRESSOR FIT TIME: 1.89 s\n",
    "- LGBM REGRESSOR PREDICT TIME: 535 ms"
   ]
  },
  {
   "cell_type": "code",
   "execution_count": null,
   "metadata": {},
   "outputs": [],
   "source": []
  }
 ],
 "metadata": {
  "ExecuteTimeLog": [
   {
    "duration": 1138,
    "start_time": "2023-04-14T14:05:30.268Z"
   },
   {
    "duration": 987,
    "start_time": "2023-04-14T14:05:31.408Z"
   },
   {
    "duration": 22,
    "start_time": "2023-04-14T14:05:32.397Z"
   },
   {
    "duration": 138,
    "start_time": "2023-04-14T14:05:32.422Z"
   },
   {
    "duration": 108,
    "start_time": "2023-04-14T14:05:32.562Z"
   },
   {
    "duration": 749,
    "start_time": "2023-04-14T14:05:32.671Z"
   },
   {
    "duration": 14,
    "start_time": "2023-04-14T14:05:33.422Z"
   },
   {
    "duration": 11,
    "start_time": "2023-04-14T14:05:33.437Z"
   },
   {
    "duration": 231,
    "start_time": "2023-04-14T14:05:33.450Z"
   },
   {
    "duration": 11,
    "start_time": "2023-04-14T14:05:33.684Z"
   },
   {
    "duration": 319,
    "start_time": "2023-04-14T14:05:33.697Z"
   },
   {
    "duration": 31,
    "start_time": "2023-04-14T14:05:34.018Z"
   },
   {
    "duration": 5,
    "start_time": "2023-04-14T14:05:34.050Z"
   },
   {
    "duration": 618,
    "start_time": "2023-04-14T14:05:34.056Z"
   },
   {
    "duration": 18,
    "start_time": "2023-04-14T14:05:34.676Z"
   },
   {
    "duration": 68,
    "start_time": "2023-04-14T14:05:34.696Z"
   },
   {
    "duration": 4,
    "start_time": "2023-04-14T14:05:34.765Z"
   },
   {
    "duration": 99,
    "start_time": "2023-04-14T14:05:34.770Z"
   },
   {
    "duration": 25,
    "start_time": "2023-04-14T14:05:34.870Z"
   },
   {
    "duration": 25,
    "start_time": "2023-04-14T14:05:34.896Z"
   },
   {
    "duration": 479,
    "start_time": "2023-04-14T14:05:34.922Z"
   },
   {
    "duration": 70,
    "start_time": "2023-04-14T14:05:35.403Z"
   },
   {
    "duration": 25,
    "start_time": "2023-04-14T14:05:35.474Z"
   },
   {
    "duration": 37,
    "start_time": "2023-04-14T14:05:35.500Z"
   },
   {
    "duration": 690,
    "start_time": "2023-04-14T14:05:35.538Z"
   },
   {
    "duration": 58,
    "start_time": "2023-04-14T14:05:36.229Z"
   },
   {
    "duration": 258,
    "start_time": "2023-04-14T14:05:36.288Z"
   },
   {
    "duration": 31,
    "start_time": "2023-04-14T14:05:36.549Z"
   },
   {
    "duration": 62,
    "start_time": "2023-04-14T14:05:36.581Z"
   },
   {
    "duration": 9,
    "start_time": "2023-04-14T14:05:36.645Z"
   },
   {
    "duration": 34,
    "start_time": "2023-04-14T14:05:36.655Z"
   },
   {
    "duration": 63,
    "start_time": "2023-04-14T14:05:36.691Z"
   },
   {
    "duration": 53,
    "start_time": "2023-04-14T14:05:36.756Z"
   },
   {
    "duration": 88,
    "start_time": "2023-04-14T14:05:36.810Z"
   },
   {
    "duration": 53,
    "start_time": "2023-04-14T14:05:36.899Z"
   },
   {
    "duration": 26,
    "start_time": "2023-04-14T14:05:36.954Z"
   },
   {
    "duration": 18,
    "start_time": "2023-04-14T14:05:36.982Z"
   },
   {
    "duration": 18,
    "start_time": "2023-04-14T14:05:37.001Z"
   },
   {
    "duration": 37,
    "start_time": "2023-04-14T14:05:37.020Z"
   },
   {
    "duration": 112,
    "start_time": "2023-04-14T14:05:37.059Z"
   },
   {
    "duration": 0,
    "start_time": "2023-04-14T14:05:37.172Z"
   },
   {
    "duration": 0,
    "start_time": "2023-04-14T14:05:37.174Z"
   },
   {
    "duration": 0,
    "start_time": "2023-04-14T14:05:37.175Z"
   },
   {
    "duration": 0,
    "start_time": "2023-04-14T14:05:37.176Z"
   },
   {
    "duration": 0,
    "start_time": "2023-04-14T14:05:37.177Z"
   },
   {
    "duration": 0,
    "start_time": "2023-04-14T14:05:37.177Z"
   },
   {
    "duration": 0,
    "start_time": "2023-04-14T14:05:37.178Z"
   },
   {
    "duration": 0,
    "start_time": "2023-04-14T14:05:37.179Z"
   },
   {
    "duration": 0,
    "start_time": "2023-04-14T14:05:37.180Z"
   },
   {
    "duration": 0,
    "start_time": "2023-04-14T14:05:37.181Z"
   },
   {
    "duration": 1153,
    "start_time": "2023-04-14T14:06:01.758Z"
   },
   {
    "duration": 739,
    "start_time": "2023-04-14T14:06:02.913Z"
   },
   {
    "duration": 18,
    "start_time": "2023-04-14T14:06:03.654Z"
   },
   {
    "duration": 208,
    "start_time": "2023-04-14T14:06:03.673Z"
   },
   {
    "duration": 190,
    "start_time": "2023-04-14T14:06:03.882Z"
   },
   {
    "duration": 1339,
    "start_time": "2023-04-14T14:06:04.074Z"
   },
   {
    "duration": 4,
    "start_time": "2023-04-14T14:06:05.414Z"
   },
   {
    "duration": 19,
    "start_time": "2023-04-14T14:06:05.419Z"
   },
   {
    "duration": 319,
    "start_time": "2023-04-14T14:06:05.440Z"
   },
   {
    "duration": 14,
    "start_time": "2023-04-14T14:06:05.762Z"
   },
   {
    "duration": 660,
    "start_time": "2023-04-14T14:06:05.777Z"
   },
   {
    "duration": 26,
    "start_time": "2023-04-14T14:06:06.439Z"
   },
   {
    "duration": 12,
    "start_time": "2023-04-14T14:06:06.467Z"
   },
   {
    "duration": 965,
    "start_time": "2023-04-14T14:06:06.480Z"
   },
   {
    "duration": 20,
    "start_time": "2023-04-14T14:06:07.446Z"
   },
   {
    "duration": 70,
    "start_time": "2023-04-14T14:06:07.467Z"
   },
   {
    "duration": 3,
    "start_time": "2023-04-14T14:06:07.539Z"
   },
   {
    "duration": 121,
    "start_time": "2023-04-14T14:06:07.544Z"
   },
   {
    "duration": 24,
    "start_time": "2023-04-14T14:06:07.666Z"
   },
   {
    "duration": 24,
    "start_time": "2023-04-14T14:06:07.692Z"
   },
   {
    "duration": 303,
    "start_time": "2023-04-14T14:06:07.717Z"
   },
   {
    "duration": 62,
    "start_time": "2023-04-14T14:06:08.022Z"
   },
   {
    "duration": 24,
    "start_time": "2023-04-14T14:06:08.086Z"
   },
   {
    "duration": 41,
    "start_time": "2023-04-14T14:06:08.111Z"
   },
   {
    "duration": 720,
    "start_time": "2023-04-14T14:06:08.153Z"
   },
   {
    "duration": 47,
    "start_time": "2023-04-14T14:06:08.875Z"
   },
   {
    "duration": 268,
    "start_time": "2023-04-14T14:06:08.924Z"
   },
   {
    "duration": 43,
    "start_time": "2023-04-14T14:06:09.195Z"
   },
   {
    "duration": 41,
    "start_time": "2023-04-14T14:06:09.239Z"
   },
   {
    "duration": 10,
    "start_time": "2023-04-14T14:06:09.281Z"
   },
   {
    "duration": 31,
    "start_time": "2023-04-14T14:06:09.292Z"
   },
   {
    "duration": 74,
    "start_time": "2023-04-14T14:06:09.325Z"
   },
   {
    "duration": 53,
    "start_time": "2023-04-14T14:06:09.401Z"
   },
   {
    "duration": 65,
    "start_time": "2023-04-14T14:06:09.455Z"
   },
   {
    "duration": 55,
    "start_time": "2023-04-14T14:06:09.522Z"
   },
   {
    "duration": 20,
    "start_time": "2023-04-14T14:06:09.578Z"
   },
   {
    "duration": 7,
    "start_time": "2023-04-14T14:06:09.599Z"
   },
   {
    "duration": 5,
    "start_time": "2023-04-14T14:06:09.607Z"
   },
   {
    "duration": 36,
    "start_time": "2023-04-14T14:06:09.614Z"
   },
   {
    "duration": 112,
    "start_time": "2023-04-14T14:06:09.651Z"
   },
   {
    "duration": 0,
    "start_time": "2023-04-14T14:06:09.764Z"
   },
   {
    "duration": 0,
    "start_time": "2023-04-14T14:06:09.765Z"
   },
   {
    "duration": 0,
    "start_time": "2023-04-14T14:06:09.766Z"
   },
   {
    "duration": 0,
    "start_time": "2023-04-14T14:06:09.767Z"
   },
   {
    "duration": 0,
    "start_time": "2023-04-14T14:06:09.768Z"
   },
   {
    "duration": 0,
    "start_time": "2023-04-14T14:06:09.769Z"
   },
   {
    "duration": 0,
    "start_time": "2023-04-14T14:06:09.769Z"
   },
   {
    "duration": 0,
    "start_time": "2023-04-14T14:06:09.770Z"
   },
   {
    "duration": 0,
    "start_time": "2023-04-14T14:06:09.771Z"
   },
   {
    "duration": 0,
    "start_time": "2023-04-14T14:06:09.772Z"
   },
   {
    "duration": 1323,
    "start_time": "2023-04-14T14:06:26.250Z"
   },
   {
    "duration": 780,
    "start_time": "2023-04-14T14:06:27.575Z"
   },
   {
    "duration": 18,
    "start_time": "2023-04-14T14:06:28.357Z"
   },
   {
    "duration": 117,
    "start_time": "2023-04-14T14:06:28.376Z"
   },
   {
    "duration": 109,
    "start_time": "2023-04-14T14:06:28.495Z"
   },
   {
    "duration": 861,
    "start_time": "2023-04-14T14:06:28.606Z"
   },
   {
    "duration": 5,
    "start_time": "2023-04-14T14:06:29.469Z"
   },
   {
    "duration": 16,
    "start_time": "2023-04-14T14:06:29.475Z"
   },
   {
    "duration": 257,
    "start_time": "2023-04-14T14:06:29.493Z"
   },
   {
    "duration": 14,
    "start_time": "2023-04-14T14:06:29.753Z"
   },
   {
    "duration": 338,
    "start_time": "2023-04-14T14:06:29.769Z"
   },
   {
    "duration": 32,
    "start_time": "2023-04-14T14:06:30.109Z"
   },
   {
    "duration": 17,
    "start_time": "2023-04-14T14:06:30.142Z"
   },
   {
    "duration": 715,
    "start_time": "2023-04-14T14:06:30.161Z"
   },
   {
    "duration": 24,
    "start_time": "2023-04-14T14:06:30.878Z"
   },
   {
    "duration": 119,
    "start_time": "2023-04-14T14:06:30.904Z"
   },
   {
    "duration": 22,
    "start_time": "2023-04-14T14:06:31.025Z"
   },
   {
    "duration": 134,
    "start_time": "2023-04-14T14:06:31.049Z"
   },
   {
    "duration": 30,
    "start_time": "2023-04-14T14:06:31.185Z"
   },
   {
    "duration": 40,
    "start_time": "2023-04-14T14:06:31.217Z"
   },
   {
    "duration": 355,
    "start_time": "2023-04-14T14:06:31.258Z"
   },
   {
    "duration": 68,
    "start_time": "2023-04-14T14:06:31.615Z"
   },
   {
    "duration": 29,
    "start_time": "2023-04-14T14:06:31.685Z"
   },
   {
    "duration": 39,
    "start_time": "2023-04-14T14:06:31.716Z"
   },
   {
    "duration": 701,
    "start_time": "2023-04-14T14:06:31.759Z"
   },
   {
    "duration": 50,
    "start_time": "2023-04-14T14:06:32.461Z"
   },
   {
    "duration": 267,
    "start_time": "2023-04-14T14:06:32.512Z"
   },
   {
    "duration": 31,
    "start_time": "2023-04-14T14:06:32.782Z"
   },
   {
    "duration": 64,
    "start_time": "2023-04-14T14:06:32.814Z"
   },
   {
    "duration": 9,
    "start_time": "2023-04-14T14:06:32.879Z"
   },
   {
    "duration": 17,
    "start_time": "2023-04-14T14:06:32.890Z"
   },
   {
    "duration": 86,
    "start_time": "2023-04-14T14:06:32.908Z"
   },
   {
    "duration": 67,
    "start_time": "2023-04-14T14:06:32.996Z"
   },
   {
    "duration": 105,
    "start_time": "2023-04-14T14:06:33.065Z"
   },
   {
    "duration": 54,
    "start_time": "2023-04-14T14:06:33.172Z"
   },
   {
    "duration": 29,
    "start_time": "2023-04-14T14:06:33.237Z"
   },
   {
    "duration": 5,
    "start_time": "2023-04-14T14:06:33.268Z"
   },
   {
    "duration": 5,
    "start_time": "2023-04-14T14:06:33.274Z"
   },
   {
    "duration": 24,
    "start_time": "2023-04-14T14:06:33.281Z"
   },
   {
    "duration": 144,
    "start_time": "2023-04-14T14:06:33.307Z"
   },
   {
    "duration": 0,
    "start_time": "2023-04-14T14:06:33.452Z"
   },
   {
    "duration": 0,
    "start_time": "2023-04-14T14:06:33.454Z"
   },
   {
    "duration": 0,
    "start_time": "2023-04-14T14:06:33.455Z"
   },
   {
    "duration": 0,
    "start_time": "2023-04-14T14:06:33.457Z"
   },
   {
    "duration": 0,
    "start_time": "2023-04-14T14:06:33.458Z"
   },
   {
    "duration": 0,
    "start_time": "2023-04-14T14:06:33.459Z"
   },
   {
    "duration": 0,
    "start_time": "2023-04-14T14:06:33.460Z"
   },
   {
    "duration": 0,
    "start_time": "2023-04-14T14:06:33.461Z"
   },
   {
    "duration": 0,
    "start_time": "2023-04-14T14:06:33.463Z"
   },
   {
    "duration": 0,
    "start_time": "2023-04-14T14:06:33.464Z"
   },
   {
    "duration": 973,
    "start_time": "2023-04-14T14:06:52.427Z"
   },
   {
    "duration": 1110,
    "start_time": "2023-04-14T14:07:07.183Z"
   },
   {
    "duration": 784,
    "start_time": "2023-04-14T14:07:08.295Z"
   },
   {
    "duration": 18,
    "start_time": "2023-04-14T14:07:09.081Z"
   },
   {
    "duration": 236,
    "start_time": "2023-04-14T14:07:09.100Z"
   },
   {
    "duration": 201,
    "start_time": "2023-04-14T14:07:09.338Z"
   },
   {
    "duration": 1458,
    "start_time": "2023-04-14T14:07:09.541Z"
   },
   {
    "duration": 4,
    "start_time": "2023-04-14T14:07:11.000Z"
   },
   {
    "duration": 13,
    "start_time": "2023-04-14T14:07:11.005Z"
   },
   {
    "duration": 227,
    "start_time": "2023-04-14T14:07:11.019Z"
   },
   {
    "duration": 14,
    "start_time": "2023-04-14T14:07:11.247Z"
   },
   {
    "duration": 322,
    "start_time": "2023-04-14T14:07:11.263Z"
   },
   {
    "duration": 26,
    "start_time": "2023-04-14T14:07:11.587Z"
   },
   {
    "duration": 8,
    "start_time": "2023-04-14T14:07:11.615Z"
   },
   {
    "duration": 695,
    "start_time": "2023-04-14T14:07:11.625Z"
   },
   {
    "duration": 22,
    "start_time": "2023-04-14T14:07:12.322Z"
   },
   {
    "duration": 90,
    "start_time": "2023-04-14T14:07:12.346Z"
   },
   {
    "duration": 6,
    "start_time": "2023-04-14T14:07:12.438Z"
   },
   {
    "duration": 140,
    "start_time": "2023-04-14T14:07:12.445Z"
   },
   {
    "duration": 48,
    "start_time": "2023-04-14T14:07:12.588Z"
   },
   {
    "duration": 35,
    "start_time": "2023-04-14T14:07:12.638Z"
   },
   {
    "duration": 358,
    "start_time": "2023-04-14T14:07:12.675Z"
   },
   {
    "duration": 60,
    "start_time": "2023-04-14T14:07:13.035Z"
   },
   {
    "duration": 42,
    "start_time": "2023-04-14T14:07:13.097Z"
   },
   {
    "duration": 28,
    "start_time": "2023-04-14T14:07:13.140Z"
   },
   {
    "duration": 747,
    "start_time": "2023-04-14T14:07:13.169Z"
   },
   {
    "duration": 52,
    "start_time": "2023-04-14T14:07:13.918Z"
   },
   {
    "duration": 274,
    "start_time": "2023-04-14T14:07:13.972Z"
   },
   {
    "duration": 33,
    "start_time": "2023-04-14T14:07:14.248Z"
   },
   {
    "duration": 67,
    "start_time": "2023-04-14T14:07:14.283Z"
   },
   {
    "duration": 12,
    "start_time": "2023-04-14T14:07:14.352Z"
   },
   {
    "duration": 17,
    "start_time": "2023-04-14T14:07:14.366Z"
   },
   {
    "duration": 87,
    "start_time": "2023-04-14T14:07:14.385Z"
   },
   {
    "duration": 65,
    "start_time": "2023-04-14T14:07:14.474Z"
   },
   {
    "duration": 65,
    "start_time": "2023-04-14T14:07:14.540Z"
   },
   {
    "duration": 47,
    "start_time": "2023-04-14T14:07:14.607Z"
   },
   {
    "duration": 22,
    "start_time": "2023-04-14T14:07:14.655Z"
   },
   {
    "duration": 4,
    "start_time": "2023-04-14T14:07:14.679Z"
   },
   {
    "duration": 7,
    "start_time": "2023-04-14T14:07:14.684Z"
   },
   {
    "duration": 17,
    "start_time": "2023-04-14T14:07:14.692Z"
   },
   {
    "duration": 1119,
    "start_time": "2023-04-14T14:07:33.257Z"
   },
   {
    "duration": 989,
    "start_time": "2023-04-14T14:07:34.378Z"
   },
   {
    "duration": 17,
    "start_time": "2023-04-14T14:07:35.369Z"
   },
   {
    "duration": 125,
    "start_time": "2023-04-14T14:07:35.388Z"
   },
   {
    "duration": 97,
    "start_time": "2023-04-14T14:07:35.515Z"
   },
   {
    "duration": 788,
    "start_time": "2023-04-14T14:07:35.614Z"
   },
   {
    "duration": 4,
    "start_time": "2023-04-14T14:07:36.404Z"
   },
   {
    "duration": 12,
    "start_time": "2023-04-14T14:07:36.409Z"
   },
   {
    "duration": 234,
    "start_time": "2023-04-14T14:07:36.423Z"
   },
   {
    "duration": 14,
    "start_time": "2023-04-14T14:07:36.658Z"
   },
   {
    "duration": 308,
    "start_time": "2023-04-14T14:07:36.673Z"
   },
   {
    "duration": 28,
    "start_time": "2023-04-14T14:07:36.983Z"
   },
   {
    "duration": 10,
    "start_time": "2023-04-14T14:07:37.012Z"
   },
   {
    "duration": 624,
    "start_time": "2023-04-14T14:07:37.025Z"
   },
   {
    "duration": 21,
    "start_time": "2023-04-14T14:07:37.650Z"
   },
   {
    "duration": 71,
    "start_time": "2023-04-14T14:07:37.672Z"
   },
   {
    "duration": 3,
    "start_time": "2023-04-14T14:07:37.745Z"
   },
   {
    "duration": 116,
    "start_time": "2023-04-14T14:07:37.750Z"
   },
   {
    "duration": 24,
    "start_time": "2023-04-14T14:07:37.867Z"
   },
   {
    "duration": 24,
    "start_time": "2023-04-14T14:07:37.893Z"
   },
   {
    "duration": 304,
    "start_time": "2023-04-14T14:07:37.919Z"
   },
   {
    "duration": 65,
    "start_time": "2023-04-14T14:07:38.225Z"
   },
   {
    "duration": 25,
    "start_time": "2023-04-14T14:07:38.292Z"
   },
   {
    "duration": 41,
    "start_time": "2023-04-14T14:07:38.318Z"
   },
   {
    "duration": 711,
    "start_time": "2023-04-14T14:07:38.360Z"
   },
   {
    "duration": 45,
    "start_time": "2023-04-14T14:07:39.072Z"
   },
   {
    "duration": 264,
    "start_time": "2023-04-14T14:07:39.118Z"
   },
   {
    "duration": 29,
    "start_time": "2023-04-14T14:07:39.384Z"
   },
   {
    "duration": 55,
    "start_time": "2023-04-14T14:07:39.415Z"
   },
   {
    "duration": 9,
    "start_time": "2023-04-14T14:07:39.472Z"
   },
   {
    "duration": 18,
    "start_time": "2023-04-14T14:07:39.482Z"
   },
   {
    "duration": 76,
    "start_time": "2023-04-14T14:07:39.502Z"
   },
   {
    "duration": 58,
    "start_time": "2023-04-14T14:07:39.580Z"
   },
   {
    "duration": 65,
    "start_time": "2023-04-14T14:07:39.639Z"
   },
   {
    "duration": 51,
    "start_time": "2023-04-14T14:07:39.705Z"
   },
   {
    "duration": 20,
    "start_time": "2023-04-14T14:07:39.757Z"
   },
   {
    "duration": 3,
    "start_time": "2023-04-14T14:07:39.778Z"
   },
   {
    "duration": 5,
    "start_time": "2023-04-14T14:07:39.782Z"
   },
   {
    "duration": 20,
    "start_time": "2023-04-14T14:07:39.788Z"
   },
   {
    "duration": 51,
    "start_time": "2023-04-14T14:07:58.751Z"
   },
   {
    "duration": 1216,
    "start_time": "2023-04-14T14:08:10.626Z"
   },
   {
    "duration": 1179,
    "start_time": "2023-04-14T14:08:11.844Z"
   },
   {
    "duration": 18,
    "start_time": "2023-04-14T14:08:13.025Z"
   },
   {
    "duration": 110,
    "start_time": "2023-04-14T14:08:13.045Z"
   },
   {
    "duration": 103,
    "start_time": "2023-04-14T14:08:13.157Z"
   },
   {
    "duration": 840,
    "start_time": "2023-04-14T14:08:13.262Z"
   },
   {
    "duration": 4,
    "start_time": "2023-04-14T14:08:14.104Z"
   },
   {
    "duration": 31,
    "start_time": "2023-04-14T14:08:14.110Z"
   },
   {
    "duration": 234,
    "start_time": "2023-04-14T14:08:14.142Z"
   },
   {
    "duration": 16,
    "start_time": "2023-04-14T14:08:14.378Z"
   },
   {
    "duration": 344,
    "start_time": "2023-04-14T14:08:14.395Z"
   },
   {
    "duration": 29,
    "start_time": "2023-04-14T14:08:14.740Z"
   },
   {
    "duration": 22,
    "start_time": "2023-04-14T14:08:14.770Z"
   },
   {
    "duration": 651,
    "start_time": "2023-04-14T14:08:14.794Z"
   },
   {
    "duration": 20,
    "start_time": "2023-04-14T14:08:15.447Z"
   },
   {
    "duration": 70,
    "start_time": "2023-04-14T14:08:15.469Z"
   },
   {
    "duration": 4,
    "start_time": "2023-04-14T14:08:15.541Z"
   },
   {
    "duration": 109,
    "start_time": "2023-04-14T14:08:15.547Z"
   },
   {
    "duration": 28,
    "start_time": "2023-04-14T14:08:15.658Z"
   },
   {
    "duration": 28,
    "start_time": "2023-04-14T14:08:15.687Z"
   },
   {
    "duration": 322,
    "start_time": "2023-04-14T14:08:15.717Z"
   },
   {
    "duration": 66,
    "start_time": "2023-04-14T14:08:16.040Z"
   },
   {
    "duration": 42,
    "start_time": "2023-04-14T14:08:16.108Z"
   },
   {
    "duration": 30,
    "start_time": "2023-04-14T14:08:16.151Z"
   },
   {
    "duration": 707,
    "start_time": "2023-04-14T14:08:16.182Z"
   },
   {
    "duration": 58,
    "start_time": "2023-04-14T14:08:16.891Z"
   },
   {
    "duration": 259,
    "start_time": "2023-04-14T14:08:16.951Z"
   },
   {
    "duration": 37,
    "start_time": "2023-04-14T14:08:17.214Z"
   },
   {
    "duration": 55,
    "start_time": "2023-04-14T14:08:17.253Z"
   },
   {
    "duration": 33,
    "start_time": "2023-04-14T14:08:17.309Z"
   },
   {
    "duration": 18,
    "start_time": "2023-04-14T14:08:17.343Z"
   },
   {
    "duration": 74,
    "start_time": "2023-04-14T14:08:17.363Z"
   },
   {
    "duration": 53,
    "start_time": "2023-04-14T14:08:17.439Z"
   },
   {
    "duration": 92,
    "start_time": "2023-04-14T14:08:17.494Z"
   },
   {
    "duration": 54,
    "start_time": "2023-04-14T14:08:17.588Z"
   },
   {
    "duration": 21,
    "start_time": "2023-04-14T14:08:17.644Z"
   },
   {
    "duration": 4,
    "start_time": "2023-04-14T14:08:17.667Z"
   },
   {
    "duration": 7,
    "start_time": "2023-04-14T14:08:17.673Z"
   },
   {
    "duration": 27,
    "start_time": "2023-04-14T14:08:17.681Z"
   },
   {
    "duration": 1102,
    "start_time": "2023-04-14T14:08:57.487Z"
   },
   {
    "duration": 1098,
    "start_time": "2023-04-14T14:08:58.591Z"
   },
   {
    "duration": 20,
    "start_time": "2023-04-14T14:08:59.691Z"
   },
   {
    "duration": 125,
    "start_time": "2023-04-14T14:08:59.712Z"
   },
   {
    "duration": 100,
    "start_time": "2023-04-14T14:08:59.839Z"
   },
   {
    "duration": 869,
    "start_time": "2023-04-14T14:08:59.941Z"
   },
   {
    "duration": 6,
    "start_time": "2023-04-14T14:09:00.811Z"
   },
   {
    "duration": 44,
    "start_time": "2023-04-14T14:09:00.819Z"
   },
   {
    "duration": 251,
    "start_time": "2023-04-14T14:09:00.865Z"
   },
   {
    "duration": 21,
    "start_time": "2023-04-14T14:09:01.119Z"
   },
   {
    "duration": 354,
    "start_time": "2023-04-14T14:09:01.141Z"
   },
   {
    "duration": 28,
    "start_time": "2023-04-14T14:09:01.497Z"
   },
   {
    "duration": 35,
    "start_time": "2023-04-14T14:09:01.536Z"
   },
   {
    "duration": 695,
    "start_time": "2023-04-14T14:09:01.573Z"
   },
   {
    "duration": 22,
    "start_time": "2023-04-14T14:09:02.270Z"
   },
   {
    "duration": 87,
    "start_time": "2023-04-14T14:09:02.294Z"
   },
   {
    "duration": 4,
    "start_time": "2023-04-14T14:09:02.383Z"
   },
   {
    "duration": 173,
    "start_time": "2023-04-14T14:09:02.389Z"
   },
   {
    "duration": 30,
    "start_time": "2023-04-14T14:09:02.564Z"
   },
   {
    "duration": 41,
    "start_time": "2023-04-14T14:09:02.596Z"
   },
   {
    "duration": 385,
    "start_time": "2023-04-14T14:09:02.638Z"
   },
   {
    "duration": 69,
    "start_time": "2023-04-14T14:09:03.025Z"
   },
   {
    "duration": 27,
    "start_time": "2023-04-14T14:09:03.096Z"
   },
   {
    "duration": 33,
    "start_time": "2023-04-14T14:09:03.124Z"
   },
   {
    "duration": 742,
    "start_time": "2023-04-14T14:09:03.159Z"
   },
   {
    "duration": 59,
    "start_time": "2023-04-14T14:09:03.903Z"
   },
   {
    "duration": 278,
    "start_time": "2023-04-14T14:09:03.965Z"
   },
   {
    "duration": 33,
    "start_time": "2023-04-14T14:09:04.247Z"
   },
   {
    "duration": 73,
    "start_time": "2023-04-14T14:09:04.281Z"
   },
   {
    "duration": 11,
    "start_time": "2023-04-14T14:09:04.356Z"
   },
   {
    "duration": 17,
    "start_time": "2023-04-14T14:09:04.368Z"
   },
   {
    "duration": 79,
    "start_time": "2023-04-14T14:09:04.387Z"
   },
   {
    "duration": 53,
    "start_time": "2023-04-14T14:09:04.468Z"
   },
   {
    "duration": 73,
    "start_time": "2023-04-14T14:09:04.536Z"
   },
   {
    "duration": 48,
    "start_time": "2023-04-14T14:09:04.611Z"
   },
   {
    "duration": 24,
    "start_time": "2023-04-14T14:09:04.661Z"
   },
   {
    "duration": 16,
    "start_time": "2023-04-14T14:09:04.687Z"
   },
   {
    "duration": 14,
    "start_time": "2023-04-14T14:09:04.704Z"
   },
   {
    "duration": 17,
    "start_time": "2023-04-14T14:09:04.719Z"
   },
   {
    "duration": 109,
    "start_time": "2023-04-14T14:09:04.738Z"
   },
   {
    "duration": 0,
    "start_time": "2023-04-14T14:09:04.849Z"
   },
   {
    "duration": 0,
    "start_time": "2023-04-14T14:09:04.850Z"
   },
   {
    "duration": 0,
    "start_time": "2023-04-14T14:09:04.852Z"
   },
   {
    "duration": 0,
    "start_time": "2023-04-14T14:09:04.853Z"
   },
   {
    "duration": 0,
    "start_time": "2023-04-14T14:09:04.855Z"
   },
   {
    "duration": 0,
    "start_time": "2023-04-14T14:09:04.856Z"
   },
   {
    "duration": 0,
    "start_time": "2023-04-14T14:09:04.858Z"
   },
   {
    "duration": 0,
    "start_time": "2023-04-14T14:09:04.859Z"
   },
   {
    "duration": 0,
    "start_time": "2023-04-14T14:09:04.860Z"
   },
   {
    "duration": 0,
    "start_time": "2023-04-14T14:09:04.863Z"
   }
  ],
  "kernelspec": {
   "display_name": "Python 3",
   "language": "python",
   "name": "python3"
  },
  "language_info": {
   "codemirror_mode": {
    "name": "ipython",
    "version": 3
   },
   "file_extension": ".py",
   "mimetype": "text/x-python",
   "name": "python",
   "nbconvert_exporter": "python",
   "pygments_lexer": "ipython3",
   "version": "3.8.8"
  },
  "toc": {
   "base_numbering": 1,
   "nav_menu": {},
   "number_sections": true,
   "sideBar": true,
   "skip_h1_title": true,
   "title_cell": "Содержание",
   "title_sidebar": "Contents",
   "toc_cell": true,
   "toc_position": {
    "height": "calc(100% - 180px)",
    "left": "10px",
    "top": "150px",
    "width": "358px"
   },
   "toc_section_display": true,
   "toc_window_display": true
  }
 },
 "nbformat": 4,
 "nbformat_minor": 2
}
